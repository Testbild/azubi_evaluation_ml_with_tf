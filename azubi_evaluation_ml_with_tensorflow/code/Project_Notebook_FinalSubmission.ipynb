{
  "nbformat": 4,
  "nbformat_minor": 0,
  "metadata": {
    "kernelspec": {
      "display_name": "Python 3",
      "language": "python",
      "name": "python3"
    },
    "language_info": {
      "codemirror_mode": {
        "name": "ipython",
        "version": 3
      },
      "file_extension": ".py",
      "mimetype": "text/x-python",
      "name": "python",
      "nbconvert_exporter": "python",
      "pygments_lexer": "ipython3",
      "version": "3.8.5"
    },
    "colab": {
      "name": "Project_Notebook_Christopher.ipynb",
      "provenance": []
    },
    "accelerator": "GPU",
    "widgets": {
      "application/vnd.jupyter.widget-state+json": {
        "aa54c6dfa4964a16bcaf766bd5c27b65": {
          "model_module": "@jupyter-widgets/controls",
          "model_name": "HBoxModel",
          "state": {
            "_view_name": "HBoxView",
            "_dom_classes": [],
            "_model_name": "HBoxModel",
            "_view_module": "@jupyter-widgets/controls",
            "_model_module_version": "1.5.0",
            "_view_count": null,
            "_view_module_version": "1.5.0",
            "box_style": "",
            "layout": "IPY_MODEL_688a703fd1c64ad9a800d15b591870be",
            "_model_module": "@jupyter-widgets/controls",
            "children": [
              "IPY_MODEL_0bcab575c967492583ec3061d88a1b07",
              "IPY_MODEL_208e5934a23f4ac7874f790fcd3c4484",
              "IPY_MODEL_a3aa21bb68224e8388dc5f6d90ca05d7"
            ]
          }
        },
        "688a703fd1c64ad9a800d15b591870be": {
          "model_module": "@jupyter-widgets/base",
          "model_name": "LayoutModel",
          "state": {
            "_view_name": "LayoutView",
            "grid_template_rows": null,
            "right": null,
            "justify_content": null,
            "_view_module": "@jupyter-widgets/base",
            "overflow": null,
            "_model_module_version": "1.2.0",
            "_view_count": null,
            "flex_flow": null,
            "width": null,
            "min_width": null,
            "border": null,
            "align_items": null,
            "bottom": null,
            "_model_module": "@jupyter-widgets/base",
            "top": null,
            "grid_column": null,
            "overflow_y": null,
            "overflow_x": null,
            "grid_auto_flow": null,
            "grid_area": null,
            "grid_template_columns": null,
            "flex": null,
            "_model_name": "LayoutModel",
            "justify_items": null,
            "grid_row": null,
            "max_height": null,
            "align_content": null,
            "visibility": null,
            "align_self": null,
            "height": null,
            "min_height": null,
            "padding": null,
            "grid_auto_rows": null,
            "grid_gap": null,
            "max_width": null,
            "order": null,
            "_view_module_version": "1.2.0",
            "grid_template_areas": null,
            "object_position": null,
            "object_fit": null,
            "grid_auto_columns": null,
            "margin": null,
            "display": null,
            "left": null
          }
        },
        "0bcab575c967492583ec3061d88a1b07": {
          "model_module": "@jupyter-widgets/controls",
          "model_name": "HTMLModel",
          "state": {
            "_view_name": "HTMLView",
            "style": "IPY_MODEL_f033cf7339124e989ef8dd4a24b77c54",
            "_dom_classes": [],
            "description": "",
            "_model_name": "HTMLModel",
            "placeholder": "​",
            "_view_module": "@jupyter-widgets/controls",
            "_model_module_version": "1.5.0",
            "value": "Downloading: 100%",
            "_view_count": null,
            "_view_module_version": "1.5.0",
            "description_tooltip": null,
            "_model_module": "@jupyter-widgets/controls",
            "layout": "IPY_MODEL_24b4a6fa42d944cf972294ceee6e5260"
          }
        },
        "208e5934a23f4ac7874f790fcd3c4484": {
          "model_module": "@jupyter-widgets/controls",
          "model_name": "FloatProgressModel",
          "state": {
            "_view_name": "ProgressView",
            "style": "IPY_MODEL_1cf9d671f8cb4e4fb3ae73fbe5c749b6",
            "_dom_classes": [],
            "description": "",
            "_model_name": "FloatProgressModel",
            "bar_style": "success",
            "max": 464,
            "_view_module": "@jupyter-widgets/controls",
            "_model_module_version": "1.5.0",
            "value": 464,
            "_view_count": null,
            "_view_module_version": "1.5.0",
            "orientation": "horizontal",
            "min": 0,
            "description_tooltip": null,
            "_model_module": "@jupyter-widgets/controls",
            "layout": "IPY_MODEL_a07db96351da483995b09ef5c59d452b"
          }
        },
        "a3aa21bb68224e8388dc5f6d90ca05d7": {
          "model_module": "@jupyter-widgets/controls",
          "model_name": "HTMLModel",
          "state": {
            "_view_name": "HTMLView",
            "style": "IPY_MODEL_6bc83a4144f24a5aa20559b95ebcf9ab",
            "_dom_classes": [],
            "description": "",
            "_model_name": "HTMLModel",
            "placeholder": "​",
            "_view_module": "@jupyter-widgets/controls",
            "_model_module_version": "1.5.0",
            "value": " 464/464 [00:00&lt;00:00, 12.5kB/s]",
            "_view_count": null,
            "_view_module_version": "1.5.0",
            "description_tooltip": null,
            "_model_module": "@jupyter-widgets/controls",
            "layout": "IPY_MODEL_c447f0b5944545f0aa557a8e1d8e342d"
          }
        },
        "f033cf7339124e989ef8dd4a24b77c54": {
          "model_module": "@jupyter-widgets/controls",
          "model_name": "DescriptionStyleModel",
          "state": {
            "_view_name": "StyleView",
            "_model_name": "DescriptionStyleModel",
            "description_width": "",
            "_view_module": "@jupyter-widgets/base",
            "_model_module_version": "1.5.0",
            "_view_count": null,
            "_view_module_version": "1.2.0",
            "_model_module": "@jupyter-widgets/controls"
          }
        },
        "24b4a6fa42d944cf972294ceee6e5260": {
          "model_module": "@jupyter-widgets/base",
          "model_name": "LayoutModel",
          "state": {
            "_view_name": "LayoutView",
            "grid_template_rows": null,
            "right": null,
            "justify_content": null,
            "_view_module": "@jupyter-widgets/base",
            "overflow": null,
            "_model_module_version": "1.2.0",
            "_view_count": null,
            "flex_flow": null,
            "width": null,
            "min_width": null,
            "border": null,
            "align_items": null,
            "bottom": null,
            "_model_module": "@jupyter-widgets/base",
            "top": null,
            "grid_column": null,
            "overflow_y": null,
            "overflow_x": null,
            "grid_auto_flow": null,
            "grid_area": null,
            "grid_template_columns": null,
            "flex": null,
            "_model_name": "LayoutModel",
            "justify_items": null,
            "grid_row": null,
            "max_height": null,
            "align_content": null,
            "visibility": null,
            "align_self": null,
            "height": null,
            "min_height": null,
            "padding": null,
            "grid_auto_rows": null,
            "grid_gap": null,
            "max_width": null,
            "order": null,
            "_view_module_version": "1.2.0",
            "grid_template_areas": null,
            "object_position": null,
            "object_fit": null,
            "grid_auto_columns": null,
            "margin": null,
            "display": null,
            "left": null
          }
        },
        "1cf9d671f8cb4e4fb3ae73fbe5c749b6": {
          "model_module": "@jupyter-widgets/controls",
          "model_name": "ProgressStyleModel",
          "state": {
            "_view_name": "StyleView",
            "_model_name": "ProgressStyleModel",
            "description_width": "",
            "_view_module": "@jupyter-widgets/base",
            "_model_module_version": "1.5.0",
            "_view_count": null,
            "_view_module_version": "1.2.0",
            "bar_color": null,
            "_model_module": "@jupyter-widgets/controls"
          }
        },
        "a07db96351da483995b09ef5c59d452b": {
          "model_module": "@jupyter-widgets/base",
          "model_name": "LayoutModel",
          "state": {
            "_view_name": "LayoutView",
            "grid_template_rows": null,
            "right": null,
            "justify_content": null,
            "_view_module": "@jupyter-widgets/base",
            "overflow": null,
            "_model_module_version": "1.2.0",
            "_view_count": null,
            "flex_flow": null,
            "width": null,
            "min_width": null,
            "border": null,
            "align_items": null,
            "bottom": null,
            "_model_module": "@jupyter-widgets/base",
            "top": null,
            "grid_column": null,
            "overflow_y": null,
            "overflow_x": null,
            "grid_auto_flow": null,
            "grid_area": null,
            "grid_template_columns": null,
            "flex": null,
            "_model_name": "LayoutModel",
            "justify_items": null,
            "grid_row": null,
            "max_height": null,
            "align_content": null,
            "visibility": null,
            "align_self": null,
            "height": null,
            "min_height": null,
            "padding": null,
            "grid_auto_rows": null,
            "grid_gap": null,
            "max_width": null,
            "order": null,
            "_view_module_version": "1.2.0",
            "grid_template_areas": null,
            "object_position": null,
            "object_fit": null,
            "grid_auto_columns": null,
            "margin": null,
            "display": null,
            "left": null
          }
        },
        "6bc83a4144f24a5aa20559b95ebcf9ab": {
          "model_module": "@jupyter-widgets/controls",
          "model_name": "DescriptionStyleModel",
          "state": {
            "_view_name": "StyleView",
            "_model_name": "DescriptionStyleModel",
            "description_width": "",
            "_view_module": "@jupyter-widgets/base",
            "_model_module_version": "1.5.0",
            "_view_count": null,
            "_view_module_version": "1.2.0",
            "_model_module": "@jupyter-widgets/controls"
          }
        },
        "c447f0b5944545f0aa557a8e1d8e342d": {
          "model_module": "@jupyter-widgets/base",
          "model_name": "LayoutModel",
          "state": {
            "_view_name": "LayoutView",
            "grid_template_rows": null,
            "right": null,
            "justify_content": null,
            "_view_module": "@jupyter-widgets/base",
            "overflow": null,
            "_model_module_version": "1.2.0",
            "_view_count": null,
            "flex_flow": null,
            "width": null,
            "min_width": null,
            "border": null,
            "align_items": null,
            "bottom": null,
            "_model_module": "@jupyter-widgets/base",
            "top": null,
            "grid_column": null,
            "overflow_y": null,
            "overflow_x": null,
            "grid_auto_flow": null,
            "grid_area": null,
            "grid_template_columns": null,
            "flex": null,
            "_model_name": "LayoutModel",
            "justify_items": null,
            "grid_row": null,
            "max_height": null,
            "align_content": null,
            "visibility": null,
            "align_self": null,
            "height": null,
            "min_height": null,
            "padding": null,
            "grid_auto_rows": null,
            "grid_gap": null,
            "max_width": null,
            "order": null,
            "_view_module_version": "1.2.0",
            "grid_template_areas": null,
            "object_position": null,
            "object_fit": null,
            "grid_auto_columns": null,
            "margin": null,
            "display": null,
            "left": null
          }
        },
        "8d99a474d1d1469892a5c8e69cf37f8d": {
          "model_module": "@jupyter-widgets/controls",
          "model_name": "HBoxModel",
          "state": {
            "_view_name": "HBoxView",
            "_dom_classes": [],
            "_model_name": "HBoxModel",
            "_view_module": "@jupyter-widgets/controls",
            "_model_module_version": "1.5.0",
            "_view_count": null,
            "_view_module_version": "1.5.0",
            "box_style": "",
            "layout": "IPY_MODEL_917eabe337864bcba40ed6cdce789105",
            "_model_module": "@jupyter-widgets/controls",
            "children": [
              "IPY_MODEL_697edfe75853419d80e6f3f779b74750",
              "IPY_MODEL_405e79419fb34f47bef46e70b2f5de0d",
              "IPY_MODEL_eee73d219b9a4146a3e20c85184fafd1"
            ]
          }
        },
        "917eabe337864bcba40ed6cdce789105": {
          "model_module": "@jupyter-widgets/base",
          "model_name": "LayoutModel",
          "state": {
            "_view_name": "LayoutView",
            "grid_template_rows": null,
            "right": null,
            "justify_content": null,
            "_view_module": "@jupyter-widgets/base",
            "overflow": null,
            "_model_module_version": "1.2.0",
            "_view_count": null,
            "flex_flow": null,
            "width": null,
            "min_width": null,
            "border": null,
            "align_items": null,
            "bottom": null,
            "_model_module": "@jupyter-widgets/base",
            "top": null,
            "grid_column": null,
            "overflow_y": null,
            "overflow_x": null,
            "grid_auto_flow": null,
            "grid_area": null,
            "grid_template_columns": null,
            "flex": null,
            "_model_name": "LayoutModel",
            "justify_items": null,
            "grid_row": null,
            "max_height": null,
            "align_content": null,
            "visibility": null,
            "align_self": null,
            "height": null,
            "min_height": null,
            "padding": null,
            "grid_auto_rows": null,
            "grid_gap": null,
            "max_width": null,
            "order": null,
            "_view_module_version": "1.2.0",
            "grid_template_areas": null,
            "object_position": null,
            "object_fit": null,
            "grid_auto_columns": null,
            "margin": null,
            "display": null,
            "left": null
          }
        },
        "697edfe75853419d80e6f3f779b74750": {
          "model_module": "@jupyter-widgets/controls",
          "model_name": "HTMLModel",
          "state": {
            "_view_name": "HTMLView",
            "style": "IPY_MODEL_6e751cffc2ca41eab1f8860c9bd05909",
            "_dom_classes": [],
            "description": "",
            "_model_name": "HTMLModel",
            "placeholder": "​",
            "_view_module": "@jupyter-widgets/controls",
            "_model_module_version": "1.5.0",
            "value": "Downloading: 100%",
            "_view_count": null,
            "_view_module_version": "1.5.0",
            "description_tooltip": null,
            "_model_module": "@jupyter-widgets/controls",
            "layout": "IPY_MODEL_8089609b1c5f4a41b38f92076164ec58"
          }
        },
        "405e79419fb34f47bef46e70b2f5de0d": {
          "model_module": "@jupyter-widgets/controls",
          "model_name": "FloatProgressModel",
          "state": {
            "_view_name": "ProgressView",
            "style": "IPY_MODEL_f4ae8e1251d64e29bd24860df1913f61",
            "_dom_classes": [],
            "description": "",
            "_model_name": "FloatProgressModel",
            "bar_style": "success",
            "max": 269752043,
            "_view_module": "@jupyter-widgets/controls",
            "_model_module_version": "1.5.0",
            "value": 269752043,
            "_view_count": null,
            "_view_module_version": "1.5.0",
            "orientation": "horizontal",
            "min": 0,
            "description_tooltip": null,
            "_model_module": "@jupyter-widgets/controls",
            "layout": "IPY_MODEL_46881bb3cdc64e1bab96403effde55bd"
          }
        },
        "eee73d219b9a4146a3e20c85184fafd1": {
          "model_module": "@jupyter-widgets/controls",
          "model_name": "HTMLModel",
          "state": {
            "_view_name": "HTMLView",
            "style": "IPY_MODEL_81c32cfe5e3346dba20764bb5eb39a1a",
            "_dom_classes": [],
            "description": "",
            "_model_name": "HTMLModel",
            "placeholder": "​",
            "_view_module": "@jupyter-widgets/controls",
            "_model_module_version": "1.5.0",
            "value": " 270M/270M [00:05&lt;00:00, 50.0MB/s]",
            "_view_count": null,
            "_view_module_version": "1.5.0",
            "description_tooltip": null,
            "_model_module": "@jupyter-widgets/controls",
            "layout": "IPY_MODEL_299cf2dd043348aa92be092503e83ba7"
          }
        },
        "6e751cffc2ca41eab1f8860c9bd05909": {
          "model_module": "@jupyter-widgets/controls",
          "model_name": "DescriptionStyleModel",
          "state": {
            "_view_name": "StyleView",
            "_model_name": "DescriptionStyleModel",
            "description_width": "",
            "_view_module": "@jupyter-widgets/base",
            "_model_module_version": "1.5.0",
            "_view_count": null,
            "_view_module_version": "1.2.0",
            "_model_module": "@jupyter-widgets/controls"
          }
        },
        "8089609b1c5f4a41b38f92076164ec58": {
          "model_module": "@jupyter-widgets/base",
          "model_name": "LayoutModel",
          "state": {
            "_view_name": "LayoutView",
            "grid_template_rows": null,
            "right": null,
            "justify_content": null,
            "_view_module": "@jupyter-widgets/base",
            "overflow": null,
            "_model_module_version": "1.2.0",
            "_view_count": null,
            "flex_flow": null,
            "width": null,
            "min_width": null,
            "border": null,
            "align_items": null,
            "bottom": null,
            "_model_module": "@jupyter-widgets/base",
            "top": null,
            "grid_column": null,
            "overflow_y": null,
            "overflow_x": null,
            "grid_auto_flow": null,
            "grid_area": null,
            "grid_template_columns": null,
            "flex": null,
            "_model_name": "LayoutModel",
            "justify_items": null,
            "grid_row": null,
            "max_height": null,
            "align_content": null,
            "visibility": null,
            "align_self": null,
            "height": null,
            "min_height": null,
            "padding": null,
            "grid_auto_rows": null,
            "grid_gap": null,
            "max_width": null,
            "order": null,
            "_view_module_version": "1.2.0",
            "grid_template_areas": null,
            "object_position": null,
            "object_fit": null,
            "grid_auto_columns": null,
            "margin": null,
            "display": null,
            "left": null
          }
        },
        "f4ae8e1251d64e29bd24860df1913f61": {
          "model_module": "@jupyter-widgets/controls",
          "model_name": "ProgressStyleModel",
          "state": {
            "_view_name": "StyleView",
            "_model_name": "ProgressStyleModel",
            "description_width": "",
            "_view_module": "@jupyter-widgets/base",
            "_model_module_version": "1.5.0",
            "_view_count": null,
            "_view_module_version": "1.2.0",
            "bar_color": null,
            "_model_module": "@jupyter-widgets/controls"
          }
        },
        "46881bb3cdc64e1bab96403effde55bd": {
          "model_module": "@jupyter-widgets/base",
          "model_name": "LayoutModel",
          "state": {
            "_view_name": "LayoutView",
            "grid_template_rows": null,
            "right": null,
            "justify_content": null,
            "_view_module": "@jupyter-widgets/base",
            "overflow": null,
            "_model_module_version": "1.2.0",
            "_view_count": null,
            "flex_flow": null,
            "width": null,
            "min_width": null,
            "border": null,
            "align_items": null,
            "bottom": null,
            "_model_module": "@jupyter-widgets/base",
            "top": null,
            "grid_column": null,
            "overflow_y": null,
            "overflow_x": null,
            "grid_auto_flow": null,
            "grid_area": null,
            "grid_template_columns": null,
            "flex": null,
            "_model_name": "LayoutModel",
            "justify_items": null,
            "grid_row": null,
            "max_height": null,
            "align_content": null,
            "visibility": null,
            "align_self": null,
            "height": null,
            "min_height": null,
            "padding": null,
            "grid_auto_rows": null,
            "grid_gap": null,
            "max_width": null,
            "order": null,
            "_view_module_version": "1.2.0",
            "grid_template_areas": null,
            "object_position": null,
            "object_fit": null,
            "grid_auto_columns": null,
            "margin": null,
            "display": null,
            "left": null
          }
        },
        "81c32cfe5e3346dba20764bb5eb39a1a": {
          "model_module": "@jupyter-widgets/controls",
          "model_name": "DescriptionStyleModel",
          "state": {
            "_view_name": "StyleView",
            "_model_name": "DescriptionStyleModel",
            "description_width": "",
            "_view_module": "@jupyter-widgets/base",
            "_model_module_version": "1.5.0",
            "_view_count": null,
            "_view_module_version": "1.2.0",
            "_model_module": "@jupyter-widgets/controls"
          }
        },
        "299cf2dd043348aa92be092503e83ba7": {
          "model_module": "@jupyter-widgets/base",
          "model_name": "LayoutModel",
          "state": {
            "_view_name": "LayoutView",
            "grid_template_rows": null,
            "right": null,
            "justify_content": null,
            "_view_module": "@jupyter-widgets/base",
            "overflow": null,
            "_model_module_version": "1.2.0",
            "_view_count": null,
            "flex_flow": null,
            "width": null,
            "min_width": null,
            "border": null,
            "align_items": null,
            "bottom": null,
            "_model_module": "@jupyter-widgets/base",
            "top": null,
            "grid_column": null,
            "overflow_y": null,
            "overflow_x": null,
            "grid_auto_flow": null,
            "grid_area": null,
            "grid_template_columns": null,
            "flex": null,
            "_model_name": "LayoutModel",
            "justify_items": null,
            "grid_row": null,
            "max_height": null,
            "align_content": null,
            "visibility": null,
            "align_self": null,
            "height": null,
            "min_height": null,
            "padding": null,
            "grid_auto_rows": null,
            "grid_gap": null,
            "max_width": null,
            "order": null,
            "_view_module_version": "1.2.0",
            "grid_template_areas": null,
            "object_position": null,
            "object_fit": null,
            "grid_auto_columns": null,
            "margin": null,
            "display": null,
            "left": null
          }
        },
        "bc314c396c2c4f6e9e3b39901aeb0e06": {
          "model_module": "@jupyter-widgets/controls",
          "model_name": "HBoxModel",
          "state": {
            "_view_name": "HBoxView",
            "_dom_classes": [],
            "_model_name": "HBoxModel",
            "_view_module": "@jupyter-widgets/controls",
            "_model_module_version": "1.5.0",
            "_view_count": null,
            "_view_module_version": "1.5.0",
            "box_style": "",
            "layout": "IPY_MODEL_80f2e999dcff41b6b55eb8f810ce731b",
            "_model_module": "@jupyter-widgets/controls",
            "children": [
              "IPY_MODEL_ce12d41a0284417d8560bc47f156df18",
              "IPY_MODEL_ae3d2a337199437abf461bb2575a6093",
              "IPY_MODEL_bb26610c3f624fa1a540d65ae6deb227"
            ]
          }
        },
        "80f2e999dcff41b6b55eb8f810ce731b": {
          "model_module": "@jupyter-widgets/base",
          "model_name": "LayoutModel",
          "state": {
            "_view_name": "LayoutView",
            "grid_template_rows": null,
            "right": null,
            "justify_content": null,
            "_view_module": "@jupyter-widgets/base",
            "overflow": null,
            "_model_module_version": "1.2.0",
            "_view_count": null,
            "flex_flow": null,
            "width": null,
            "min_width": null,
            "border": null,
            "align_items": null,
            "bottom": null,
            "_model_module": "@jupyter-widgets/base",
            "top": null,
            "grid_column": null,
            "overflow_y": null,
            "overflow_x": null,
            "grid_auto_flow": null,
            "grid_area": null,
            "grid_template_columns": null,
            "flex": null,
            "_model_name": "LayoutModel",
            "justify_items": null,
            "grid_row": null,
            "max_height": null,
            "align_content": null,
            "visibility": null,
            "align_self": null,
            "height": null,
            "min_height": null,
            "padding": null,
            "grid_auto_rows": null,
            "grid_gap": null,
            "max_width": null,
            "order": null,
            "_view_module_version": "1.2.0",
            "grid_template_areas": null,
            "object_position": null,
            "object_fit": null,
            "grid_auto_columns": null,
            "margin": null,
            "display": null,
            "left": null
          }
        },
        "ce12d41a0284417d8560bc47f156df18": {
          "model_module": "@jupyter-widgets/controls",
          "model_name": "HTMLModel",
          "state": {
            "_view_name": "HTMLView",
            "style": "IPY_MODEL_d0734232f2e14caeaa2b86302502da98",
            "_dom_classes": [],
            "description": "",
            "_model_name": "HTMLModel",
            "placeholder": "​",
            "_view_module": "@jupyter-widgets/controls",
            "_model_module_version": "1.5.0",
            "value": "Downloading: 100%",
            "_view_count": null,
            "_view_module_version": "1.5.0",
            "description_tooltip": null,
            "_model_module": "@jupyter-widgets/controls",
            "layout": "IPY_MODEL_e6fc638013694a73a7d457e797ee9a41"
          }
        },
        "ae3d2a337199437abf461bb2575a6093": {
          "model_module": "@jupyter-widgets/controls",
          "model_name": "FloatProgressModel",
          "state": {
            "_view_name": "ProgressView",
            "style": "IPY_MODEL_80613162034b49a69e49657d973e1a66",
            "_dom_classes": [],
            "description": "",
            "_model_name": "FloatProgressModel",
            "bar_style": "success",
            "max": 239836,
            "_view_module": "@jupyter-widgets/controls",
            "_model_module_version": "1.5.0",
            "value": 239836,
            "_view_count": null,
            "_view_module_version": "1.5.0",
            "orientation": "horizontal",
            "min": 0,
            "description_tooltip": null,
            "_model_module": "@jupyter-widgets/controls",
            "layout": "IPY_MODEL_60c94062ac10448da7686b658791b31e"
          }
        },
        "bb26610c3f624fa1a540d65ae6deb227": {
          "model_module": "@jupyter-widgets/controls",
          "model_name": "HTMLModel",
          "state": {
            "_view_name": "HTMLView",
            "style": "IPY_MODEL_37d4445523cf4ffeb722d0b3d9bfdb1f",
            "_dom_classes": [],
            "description": "",
            "_model_name": "HTMLModel",
            "placeholder": "​",
            "_view_module": "@jupyter-widgets/controls",
            "_model_module_version": "1.5.0",
            "value": " 240k/240k [00:00&lt;00:00, 1.44MB/s]",
            "_view_count": null,
            "_view_module_version": "1.5.0",
            "description_tooltip": null,
            "_model_module": "@jupyter-widgets/controls",
            "layout": "IPY_MODEL_cf3c37cf1f274bb89af2132779b16997"
          }
        },
        "d0734232f2e14caeaa2b86302502da98": {
          "model_module": "@jupyter-widgets/controls",
          "model_name": "DescriptionStyleModel",
          "state": {
            "_view_name": "StyleView",
            "_model_name": "DescriptionStyleModel",
            "description_width": "",
            "_view_module": "@jupyter-widgets/base",
            "_model_module_version": "1.5.0",
            "_view_count": null,
            "_view_module_version": "1.2.0",
            "_model_module": "@jupyter-widgets/controls"
          }
        },
        "e6fc638013694a73a7d457e797ee9a41": {
          "model_module": "@jupyter-widgets/base",
          "model_name": "LayoutModel",
          "state": {
            "_view_name": "LayoutView",
            "grid_template_rows": null,
            "right": null,
            "justify_content": null,
            "_view_module": "@jupyter-widgets/base",
            "overflow": null,
            "_model_module_version": "1.2.0",
            "_view_count": null,
            "flex_flow": null,
            "width": null,
            "min_width": null,
            "border": null,
            "align_items": null,
            "bottom": null,
            "_model_module": "@jupyter-widgets/base",
            "top": null,
            "grid_column": null,
            "overflow_y": null,
            "overflow_x": null,
            "grid_auto_flow": null,
            "grid_area": null,
            "grid_template_columns": null,
            "flex": null,
            "_model_name": "LayoutModel",
            "justify_items": null,
            "grid_row": null,
            "max_height": null,
            "align_content": null,
            "visibility": null,
            "align_self": null,
            "height": null,
            "min_height": null,
            "padding": null,
            "grid_auto_rows": null,
            "grid_gap": null,
            "max_width": null,
            "order": null,
            "_view_module_version": "1.2.0",
            "grid_template_areas": null,
            "object_position": null,
            "object_fit": null,
            "grid_auto_columns": null,
            "margin": null,
            "display": null,
            "left": null
          }
        },
        "80613162034b49a69e49657d973e1a66": {
          "model_module": "@jupyter-widgets/controls",
          "model_name": "ProgressStyleModel",
          "state": {
            "_view_name": "StyleView",
            "_model_name": "ProgressStyleModel",
            "description_width": "",
            "_view_module": "@jupyter-widgets/base",
            "_model_module_version": "1.5.0",
            "_view_count": null,
            "_view_module_version": "1.2.0",
            "bar_color": null,
            "_model_module": "@jupyter-widgets/controls"
          }
        },
        "60c94062ac10448da7686b658791b31e": {
          "model_module": "@jupyter-widgets/base",
          "model_name": "LayoutModel",
          "state": {
            "_view_name": "LayoutView",
            "grid_template_rows": null,
            "right": null,
            "justify_content": null,
            "_view_module": "@jupyter-widgets/base",
            "overflow": null,
            "_model_module_version": "1.2.0",
            "_view_count": null,
            "flex_flow": null,
            "width": null,
            "min_width": null,
            "border": null,
            "align_items": null,
            "bottom": null,
            "_model_module": "@jupyter-widgets/base",
            "top": null,
            "grid_column": null,
            "overflow_y": null,
            "overflow_x": null,
            "grid_auto_flow": null,
            "grid_area": null,
            "grid_template_columns": null,
            "flex": null,
            "_model_name": "LayoutModel",
            "justify_items": null,
            "grid_row": null,
            "max_height": null,
            "align_content": null,
            "visibility": null,
            "align_self": null,
            "height": null,
            "min_height": null,
            "padding": null,
            "grid_auto_rows": null,
            "grid_gap": null,
            "max_width": null,
            "order": null,
            "_view_module_version": "1.2.0",
            "grid_template_areas": null,
            "object_position": null,
            "object_fit": null,
            "grid_auto_columns": null,
            "margin": null,
            "display": null,
            "left": null
          }
        },
        "37d4445523cf4ffeb722d0b3d9bfdb1f": {
          "model_module": "@jupyter-widgets/controls",
          "model_name": "DescriptionStyleModel",
          "state": {
            "_view_name": "StyleView",
            "_model_name": "DescriptionStyleModel",
            "description_width": "",
            "_view_module": "@jupyter-widgets/base",
            "_model_module_version": "1.5.0",
            "_view_count": null,
            "_view_module_version": "1.2.0",
            "_model_module": "@jupyter-widgets/controls"
          }
        },
        "cf3c37cf1f274bb89af2132779b16997": {
          "model_module": "@jupyter-widgets/base",
          "model_name": "LayoutModel",
          "state": {
            "_view_name": "LayoutView",
            "grid_template_rows": null,
            "right": null,
            "justify_content": null,
            "_view_module": "@jupyter-widgets/base",
            "overflow": null,
            "_model_module_version": "1.2.0",
            "_view_count": null,
            "flex_flow": null,
            "width": null,
            "min_width": null,
            "border": null,
            "align_items": null,
            "bottom": null,
            "_model_module": "@jupyter-widgets/base",
            "top": null,
            "grid_column": null,
            "overflow_y": null,
            "overflow_x": null,
            "grid_auto_flow": null,
            "grid_area": null,
            "grid_template_columns": null,
            "flex": null,
            "_model_name": "LayoutModel",
            "justify_items": null,
            "grid_row": null,
            "max_height": null,
            "align_content": null,
            "visibility": null,
            "align_self": null,
            "height": null,
            "min_height": null,
            "padding": null,
            "grid_auto_rows": null,
            "grid_gap": null,
            "max_width": null,
            "order": null,
            "_view_module_version": "1.2.0",
            "grid_template_areas": null,
            "object_position": null,
            "object_fit": null,
            "grid_auto_columns": null,
            "margin": null,
            "display": null,
            "left": null
          }
        },
        "865d9e6bb4a040069adc541e50116927": {
          "model_module": "@jupyter-widgets/controls",
          "model_name": "HBoxModel",
          "state": {
            "_view_name": "HBoxView",
            "_dom_classes": [],
            "_model_name": "HBoxModel",
            "_view_module": "@jupyter-widgets/controls",
            "_model_module_version": "1.5.0",
            "_view_count": null,
            "_view_module_version": "1.5.0",
            "box_style": "",
            "layout": "IPY_MODEL_913de7a472f94f8cb279e684dc6d41a0",
            "_model_module": "@jupyter-widgets/controls",
            "children": [
              "IPY_MODEL_58020765bc50418298213c54ee963e66",
              "IPY_MODEL_0cae06419d484ad7b602220c4e72e7e5",
              "IPY_MODEL_32d15bd416234ecea2e25a796114d4e4"
            ]
          }
        },
        "913de7a472f94f8cb279e684dc6d41a0": {
          "model_module": "@jupyter-widgets/base",
          "model_name": "LayoutModel",
          "state": {
            "_view_name": "LayoutView",
            "grid_template_rows": null,
            "right": null,
            "justify_content": null,
            "_view_module": "@jupyter-widgets/base",
            "overflow": null,
            "_model_module_version": "1.2.0",
            "_view_count": null,
            "flex_flow": null,
            "width": null,
            "min_width": null,
            "border": null,
            "align_items": null,
            "bottom": null,
            "_model_module": "@jupyter-widgets/base",
            "top": null,
            "grid_column": null,
            "overflow_y": null,
            "overflow_x": null,
            "grid_auto_flow": null,
            "grid_area": null,
            "grid_template_columns": null,
            "flex": null,
            "_model_name": "LayoutModel",
            "justify_items": null,
            "grid_row": null,
            "max_height": null,
            "align_content": null,
            "visibility": null,
            "align_self": null,
            "height": null,
            "min_height": null,
            "padding": null,
            "grid_auto_rows": null,
            "grid_gap": null,
            "max_width": null,
            "order": null,
            "_view_module_version": "1.2.0",
            "grid_template_areas": null,
            "object_position": null,
            "object_fit": null,
            "grid_auto_columns": null,
            "margin": null,
            "display": null,
            "left": null
          }
        },
        "58020765bc50418298213c54ee963e66": {
          "model_module": "@jupyter-widgets/controls",
          "model_name": "HTMLModel",
          "state": {
            "_view_name": "HTMLView",
            "style": "IPY_MODEL_a05fe51f03c44ad394ebacd583130f14",
            "_dom_classes": [],
            "description": "",
            "_model_name": "HTMLModel",
            "placeholder": "​",
            "_view_module": "@jupyter-widgets/controls",
            "_model_module_version": "1.5.0",
            "value": "Downloading: 100%",
            "_view_count": null,
            "_view_module_version": "1.5.0",
            "description_tooltip": null,
            "_model_module": "@jupyter-widgets/controls",
            "layout": "IPY_MODEL_b9e8c3e8d0794374a7557323197752cc"
          }
        },
        "0cae06419d484ad7b602220c4e72e7e5": {
          "model_module": "@jupyter-widgets/controls",
          "model_name": "FloatProgressModel",
          "state": {
            "_view_name": "ProgressView",
            "style": "IPY_MODEL_12cb67ed734746d0a9e07155d3769fd0",
            "_dom_classes": [],
            "description": "",
            "_model_name": "FloatProgressModel",
            "bar_style": "success",
            "max": 479086,
            "_view_module": "@jupyter-widgets/controls",
            "_model_module_version": "1.5.0",
            "value": 479086,
            "_view_count": null,
            "_view_module_version": "1.5.0",
            "orientation": "horizontal",
            "min": 0,
            "description_tooltip": null,
            "_model_module": "@jupyter-widgets/controls",
            "layout": "IPY_MODEL_836c011bc0d847b786ade6d881d35d50"
          }
        },
        "32d15bd416234ecea2e25a796114d4e4": {
          "model_module": "@jupyter-widgets/controls",
          "model_name": "HTMLModel",
          "state": {
            "_view_name": "HTMLView",
            "style": "IPY_MODEL_9097152fbb3f422984dc59d33fb08884",
            "_dom_classes": [],
            "description": "",
            "_model_name": "HTMLModel",
            "placeholder": "​",
            "_view_module": "@jupyter-widgets/controls",
            "_model_module_version": "1.5.0",
            "value": " 479k/479k [00:00&lt;00:00, 1.43MB/s]",
            "_view_count": null,
            "_view_module_version": "1.5.0",
            "description_tooltip": null,
            "_model_module": "@jupyter-widgets/controls",
            "layout": "IPY_MODEL_bd9f97f46ff24ecdb3ae78ddd220c242"
          }
        },
        "a05fe51f03c44ad394ebacd583130f14": {
          "model_module": "@jupyter-widgets/controls",
          "model_name": "DescriptionStyleModel",
          "state": {
            "_view_name": "StyleView",
            "_model_name": "DescriptionStyleModel",
            "description_width": "",
            "_view_module": "@jupyter-widgets/base",
            "_model_module_version": "1.5.0",
            "_view_count": null,
            "_view_module_version": "1.2.0",
            "_model_module": "@jupyter-widgets/controls"
          }
        },
        "b9e8c3e8d0794374a7557323197752cc": {
          "model_module": "@jupyter-widgets/base",
          "model_name": "LayoutModel",
          "state": {
            "_view_name": "LayoutView",
            "grid_template_rows": null,
            "right": null,
            "justify_content": null,
            "_view_module": "@jupyter-widgets/base",
            "overflow": null,
            "_model_module_version": "1.2.0",
            "_view_count": null,
            "flex_flow": null,
            "width": null,
            "min_width": null,
            "border": null,
            "align_items": null,
            "bottom": null,
            "_model_module": "@jupyter-widgets/base",
            "top": null,
            "grid_column": null,
            "overflow_y": null,
            "overflow_x": null,
            "grid_auto_flow": null,
            "grid_area": null,
            "grid_template_columns": null,
            "flex": null,
            "_model_name": "LayoutModel",
            "justify_items": null,
            "grid_row": null,
            "max_height": null,
            "align_content": null,
            "visibility": null,
            "align_self": null,
            "height": null,
            "min_height": null,
            "padding": null,
            "grid_auto_rows": null,
            "grid_gap": null,
            "max_width": null,
            "order": null,
            "_view_module_version": "1.2.0",
            "grid_template_areas": null,
            "object_position": null,
            "object_fit": null,
            "grid_auto_columns": null,
            "margin": null,
            "display": null,
            "left": null
          }
        },
        "12cb67ed734746d0a9e07155d3769fd0": {
          "model_module": "@jupyter-widgets/controls",
          "model_name": "ProgressStyleModel",
          "state": {
            "_view_name": "StyleView",
            "_model_name": "ProgressStyleModel",
            "description_width": "",
            "_view_module": "@jupyter-widgets/base",
            "_model_module_version": "1.5.0",
            "_view_count": null,
            "_view_module_version": "1.2.0",
            "bar_color": null,
            "_model_module": "@jupyter-widgets/controls"
          }
        },
        "836c011bc0d847b786ade6d881d35d50": {
          "model_module": "@jupyter-widgets/base",
          "model_name": "LayoutModel",
          "state": {
            "_view_name": "LayoutView",
            "grid_template_rows": null,
            "right": null,
            "justify_content": null,
            "_view_module": "@jupyter-widgets/base",
            "overflow": null,
            "_model_module_version": "1.2.0",
            "_view_count": null,
            "flex_flow": null,
            "width": null,
            "min_width": null,
            "border": null,
            "align_items": null,
            "bottom": null,
            "_model_module": "@jupyter-widgets/base",
            "top": null,
            "grid_column": null,
            "overflow_y": null,
            "overflow_x": null,
            "grid_auto_flow": null,
            "grid_area": null,
            "grid_template_columns": null,
            "flex": null,
            "_model_name": "LayoutModel",
            "justify_items": null,
            "grid_row": null,
            "max_height": null,
            "align_content": null,
            "visibility": null,
            "align_self": null,
            "height": null,
            "min_height": null,
            "padding": null,
            "grid_auto_rows": null,
            "grid_gap": null,
            "max_width": null,
            "order": null,
            "_view_module_version": "1.2.0",
            "grid_template_areas": null,
            "object_position": null,
            "object_fit": null,
            "grid_auto_columns": null,
            "margin": null,
            "display": null,
            "left": null
          }
        },
        "9097152fbb3f422984dc59d33fb08884": {
          "model_module": "@jupyter-widgets/controls",
          "model_name": "DescriptionStyleModel",
          "state": {
            "_view_name": "StyleView",
            "_model_name": "DescriptionStyleModel",
            "description_width": "",
            "_view_module": "@jupyter-widgets/base",
            "_model_module_version": "1.5.0",
            "_view_count": null,
            "_view_module_version": "1.2.0",
            "_model_module": "@jupyter-widgets/controls"
          }
        },
        "bd9f97f46ff24ecdb3ae78ddd220c242": {
          "model_module": "@jupyter-widgets/base",
          "model_name": "LayoutModel",
          "state": {
            "_view_name": "LayoutView",
            "grid_template_rows": null,
            "right": null,
            "justify_content": null,
            "_view_module": "@jupyter-widgets/base",
            "overflow": null,
            "_model_module_version": "1.2.0",
            "_view_count": null,
            "flex_flow": null,
            "width": null,
            "min_width": null,
            "border": null,
            "align_items": null,
            "bottom": null,
            "_model_module": "@jupyter-widgets/base",
            "top": null,
            "grid_column": null,
            "overflow_y": null,
            "overflow_x": null,
            "grid_auto_flow": null,
            "grid_area": null,
            "grid_template_columns": null,
            "flex": null,
            "_model_name": "LayoutModel",
            "justify_items": null,
            "grid_row": null,
            "max_height": null,
            "align_content": null,
            "visibility": null,
            "align_self": null,
            "height": null,
            "min_height": null,
            "padding": null,
            "grid_auto_rows": null,
            "grid_gap": null,
            "max_width": null,
            "order": null,
            "_view_module_version": "1.2.0",
            "grid_template_areas": null,
            "object_position": null,
            "object_fit": null,
            "grid_auto_columns": null,
            "margin": null,
            "display": null,
            "left": null
          }
        },
        "3386116507e046c1b7c6615208be359f": {
          "model_module": "@jupyter-widgets/controls",
          "model_name": "HBoxModel",
          "state": {
            "_view_name": "HBoxView",
            "_dom_classes": [],
            "_model_name": "HBoxModel",
            "_view_module": "@jupyter-widgets/controls",
            "_model_module_version": "1.5.0",
            "_view_count": null,
            "_view_module_version": "1.5.0",
            "box_style": "",
            "layout": "IPY_MODEL_72d07a1cfa2949cea3b4ca274cadde9c",
            "_model_module": "@jupyter-widgets/controls",
            "children": [
              "IPY_MODEL_abc989dedf784dbeb6de36f81cbe7877",
              "IPY_MODEL_445fce99eba34aa1901568ef34cc4dc0",
              "IPY_MODEL_07b3b9063c084537b2c257e47f88bb3d"
            ]
          }
        },
        "72d07a1cfa2949cea3b4ca274cadde9c": {
          "model_module": "@jupyter-widgets/base",
          "model_name": "LayoutModel",
          "state": {
            "_view_name": "LayoutView",
            "grid_template_rows": null,
            "right": null,
            "justify_content": null,
            "_view_module": "@jupyter-widgets/base",
            "overflow": null,
            "_model_module_version": "1.2.0",
            "_view_count": null,
            "flex_flow": null,
            "width": null,
            "min_width": null,
            "border": null,
            "align_items": null,
            "bottom": null,
            "_model_module": "@jupyter-widgets/base",
            "top": null,
            "grid_column": null,
            "overflow_y": null,
            "overflow_x": null,
            "grid_auto_flow": null,
            "grid_area": null,
            "grid_template_columns": null,
            "flex": null,
            "_model_name": "LayoutModel",
            "justify_items": null,
            "grid_row": null,
            "max_height": null,
            "align_content": null,
            "visibility": null,
            "align_self": null,
            "height": null,
            "min_height": null,
            "padding": null,
            "grid_auto_rows": null,
            "grid_gap": null,
            "max_width": null,
            "order": null,
            "_view_module_version": "1.2.0",
            "grid_template_areas": null,
            "object_position": null,
            "object_fit": null,
            "grid_auto_columns": null,
            "margin": null,
            "display": null,
            "left": null
          }
        },
        "abc989dedf784dbeb6de36f81cbe7877": {
          "model_module": "@jupyter-widgets/controls",
          "model_name": "HTMLModel",
          "state": {
            "_view_name": "HTMLView",
            "style": "IPY_MODEL_6193b1d92e7d4a749f1ee6dd072fafca",
            "_dom_classes": [],
            "description": "",
            "_model_name": "HTMLModel",
            "placeholder": "​",
            "_view_module": "@jupyter-widgets/controls",
            "_model_module_version": "1.5.0",
            "value": "Downloading: 100%",
            "_view_count": null,
            "_view_module_version": "1.5.0",
            "description_tooltip": null,
            "_model_module": "@jupyter-widgets/controls",
            "layout": "IPY_MODEL_829a7e6167ce44cea541a5454a31d8e3"
          }
        },
        "445fce99eba34aa1901568ef34cc4dc0": {
          "model_module": "@jupyter-widgets/controls",
          "model_name": "FloatProgressModel",
          "state": {
            "_view_name": "ProgressView",
            "style": "IPY_MODEL_9fac066c69914d0e91923da45b8cb63a",
            "_dom_classes": [],
            "description": "",
            "_model_name": "FloatProgressModel",
            "bar_style": "success",
            "max": 29,
            "_view_module": "@jupyter-widgets/controls",
            "_model_module_version": "1.5.0",
            "value": 29,
            "_view_count": null,
            "_view_module_version": "1.5.0",
            "orientation": "horizontal",
            "min": 0,
            "description_tooltip": null,
            "_model_module": "@jupyter-widgets/controls",
            "layout": "IPY_MODEL_121c093c1a2f4deb8d7c0a63b3d3cfe0"
          }
        },
        "07b3b9063c084537b2c257e47f88bb3d": {
          "model_module": "@jupyter-widgets/controls",
          "model_name": "HTMLModel",
          "state": {
            "_view_name": "HTMLView",
            "style": "IPY_MODEL_eaa37f13003544c5814b53b3d170b38d",
            "_dom_classes": [],
            "description": "",
            "_model_name": "HTMLModel",
            "placeholder": "​",
            "_view_module": "@jupyter-widgets/controls",
            "_model_module_version": "1.5.0",
            "value": " 29.0/29.0 [00:00&lt;00:00, 1.04kB/s]",
            "_view_count": null,
            "_view_module_version": "1.5.0",
            "description_tooltip": null,
            "_model_module": "@jupyter-widgets/controls",
            "layout": "IPY_MODEL_fd7551d422074b16a66ffdb72031057c"
          }
        },
        "6193b1d92e7d4a749f1ee6dd072fafca": {
          "model_module": "@jupyter-widgets/controls",
          "model_name": "DescriptionStyleModel",
          "state": {
            "_view_name": "StyleView",
            "_model_name": "DescriptionStyleModel",
            "description_width": "",
            "_view_module": "@jupyter-widgets/base",
            "_model_module_version": "1.5.0",
            "_view_count": null,
            "_view_module_version": "1.2.0",
            "_model_module": "@jupyter-widgets/controls"
          }
        },
        "829a7e6167ce44cea541a5454a31d8e3": {
          "model_module": "@jupyter-widgets/base",
          "model_name": "LayoutModel",
          "state": {
            "_view_name": "LayoutView",
            "grid_template_rows": null,
            "right": null,
            "justify_content": null,
            "_view_module": "@jupyter-widgets/base",
            "overflow": null,
            "_model_module_version": "1.2.0",
            "_view_count": null,
            "flex_flow": null,
            "width": null,
            "min_width": null,
            "border": null,
            "align_items": null,
            "bottom": null,
            "_model_module": "@jupyter-widgets/base",
            "top": null,
            "grid_column": null,
            "overflow_y": null,
            "overflow_x": null,
            "grid_auto_flow": null,
            "grid_area": null,
            "grid_template_columns": null,
            "flex": null,
            "_model_name": "LayoutModel",
            "justify_items": null,
            "grid_row": null,
            "max_height": null,
            "align_content": null,
            "visibility": null,
            "align_self": null,
            "height": null,
            "min_height": null,
            "padding": null,
            "grid_auto_rows": null,
            "grid_gap": null,
            "max_width": null,
            "order": null,
            "_view_module_version": "1.2.0",
            "grid_template_areas": null,
            "object_position": null,
            "object_fit": null,
            "grid_auto_columns": null,
            "margin": null,
            "display": null,
            "left": null
          }
        },
        "9fac066c69914d0e91923da45b8cb63a": {
          "model_module": "@jupyter-widgets/controls",
          "model_name": "ProgressStyleModel",
          "state": {
            "_view_name": "StyleView",
            "_model_name": "ProgressStyleModel",
            "description_width": "",
            "_view_module": "@jupyter-widgets/base",
            "_model_module_version": "1.5.0",
            "_view_count": null,
            "_view_module_version": "1.2.0",
            "bar_color": null,
            "_model_module": "@jupyter-widgets/controls"
          }
        },
        "121c093c1a2f4deb8d7c0a63b3d3cfe0": {
          "model_module": "@jupyter-widgets/base",
          "model_name": "LayoutModel",
          "state": {
            "_view_name": "LayoutView",
            "grid_template_rows": null,
            "right": null,
            "justify_content": null,
            "_view_module": "@jupyter-widgets/base",
            "overflow": null,
            "_model_module_version": "1.2.0",
            "_view_count": null,
            "flex_flow": null,
            "width": null,
            "min_width": null,
            "border": null,
            "align_items": null,
            "bottom": null,
            "_model_module": "@jupyter-widgets/base",
            "top": null,
            "grid_column": null,
            "overflow_y": null,
            "overflow_x": null,
            "grid_auto_flow": null,
            "grid_area": null,
            "grid_template_columns": null,
            "flex": null,
            "_model_name": "LayoutModel",
            "justify_items": null,
            "grid_row": null,
            "max_height": null,
            "align_content": null,
            "visibility": null,
            "align_self": null,
            "height": null,
            "min_height": null,
            "padding": null,
            "grid_auto_rows": null,
            "grid_gap": null,
            "max_width": null,
            "order": null,
            "_view_module_version": "1.2.0",
            "grid_template_areas": null,
            "object_position": null,
            "object_fit": null,
            "grid_auto_columns": null,
            "margin": null,
            "display": null,
            "left": null
          }
        },
        "eaa37f13003544c5814b53b3d170b38d": {
          "model_module": "@jupyter-widgets/controls",
          "model_name": "DescriptionStyleModel",
          "state": {
            "_view_name": "StyleView",
            "_model_name": "DescriptionStyleModel",
            "description_width": "",
            "_view_module": "@jupyter-widgets/base",
            "_model_module_version": "1.5.0",
            "_view_count": null,
            "_view_module_version": "1.2.0",
            "_model_module": "@jupyter-widgets/controls"
          }
        },
        "fd7551d422074b16a66ffdb72031057c": {
          "model_module": "@jupyter-widgets/base",
          "model_name": "LayoutModel",
          "state": {
            "_view_name": "LayoutView",
            "grid_template_rows": null,
            "right": null,
            "justify_content": null,
            "_view_module": "@jupyter-widgets/base",
            "overflow": null,
            "_model_module_version": "1.2.0",
            "_view_count": null,
            "flex_flow": null,
            "width": null,
            "min_width": null,
            "border": null,
            "align_items": null,
            "bottom": null,
            "_model_module": "@jupyter-widgets/base",
            "top": null,
            "grid_column": null,
            "overflow_y": null,
            "overflow_x": null,
            "grid_auto_flow": null,
            "grid_area": null,
            "grid_template_columns": null,
            "flex": null,
            "_model_name": "LayoutModel",
            "justify_items": null,
            "grid_row": null,
            "max_height": null,
            "align_content": null,
            "visibility": null,
            "align_self": null,
            "height": null,
            "min_height": null,
            "padding": null,
            "grid_auto_rows": null,
            "grid_gap": null,
            "max_width": null,
            "order": null,
            "_view_module_version": "1.2.0",
            "grid_template_areas": null,
            "object_position": null,
            "object_fit": null,
            "grid_auto_columns": null,
            "margin": null,
            "display": null,
            "left": null
          }
        },
        "db1e1f52f3294d00bb2b017fd3c7c1e2": {
          "model_module": "@jupyter-widgets/controls",
          "model_name": "HBoxModel",
          "state": {
            "_view_name": "HBoxView",
            "_dom_classes": [],
            "_model_name": "HBoxModel",
            "_view_module": "@jupyter-widgets/controls",
            "_model_module_version": "1.5.0",
            "_view_count": null,
            "_view_module_version": "1.5.0",
            "box_style": "",
            "layout": "IPY_MODEL_01ae0ad4215e422b87e60da41f0c18ea",
            "_model_module": "@jupyter-widgets/controls",
            "children": [
              "IPY_MODEL_1e26313c674b439990660942db3a8bf1",
              "IPY_MODEL_e54a3ccd40d24af5b9d9b2198c3ded13",
              "IPY_MODEL_8c8bde4fa1ae4637bc45c6680485269f"
            ]
          }
        },
        "01ae0ad4215e422b87e60da41f0c18ea": {
          "model_module": "@jupyter-widgets/base",
          "model_name": "LayoutModel",
          "state": {
            "_view_name": "LayoutView",
            "grid_template_rows": null,
            "right": null,
            "justify_content": null,
            "_view_module": "@jupyter-widgets/base",
            "overflow": null,
            "_model_module_version": "1.2.0",
            "_view_count": null,
            "flex_flow": null,
            "width": null,
            "min_width": null,
            "border": null,
            "align_items": null,
            "bottom": null,
            "_model_module": "@jupyter-widgets/base",
            "top": null,
            "grid_column": null,
            "overflow_y": null,
            "overflow_x": null,
            "grid_auto_flow": null,
            "grid_area": null,
            "grid_template_columns": null,
            "flex": null,
            "_model_name": "LayoutModel",
            "justify_items": null,
            "grid_row": null,
            "max_height": null,
            "align_content": null,
            "visibility": null,
            "align_self": null,
            "height": null,
            "min_height": null,
            "padding": null,
            "grid_auto_rows": null,
            "grid_gap": null,
            "max_width": null,
            "order": null,
            "_view_module_version": "1.2.0",
            "grid_template_areas": null,
            "object_position": null,
            "object_fit": null,
            "grid_auto_columns": null,
            "margin": null,
            "display": null,
            "left": null
          }
        },
        "1e26313c674b439990660942db3a8bf1": {
          "model_module": "@jupyter-widgets/controls",
          "model_name": "HTMLModel",
          "state": {
            "_view_name": "HTMLView",
            "style": "IPY_MODEL_7f7a4a3aec9f4ccc911c7504ae5be60a",
            "_dom_classes": [],
            "description": "",
            "_model_name": "HTMLModel",
            "placeholder": "​",
            "_view_module": "@jupyter-widgets/controls",
            "_model_module_version": "1.5.0",
            "value": "  0%",
            "_view_count": null,
            "_view_module_version": "1.5.0",
            "description_tooltip": null,
            "_model_module": "@jupyter-widgets/controls",
            "layout": "IPY_MODEL_1e430b8d04834f12aaf532e137bac5f0"
          }
        },
        "e54a3ccd40d24af5b9d9b2198c3ded13": {
          "model_module": "@jupyter-widgets/controls",
          "model_name": "FloatProgressModel",
          "state": {
            "_view_name": "ProgressView",
            "style": "IPY_MODEL_aa18fbc5acba49af863f82d83fe81276",
            "_dom_classes": [],
            "description": "",
            "_model_name": "FloatProgressModel",
            "bar_style": "danger",
            "max": 1252,
            "_view_module": "@jupyter-widgets/controls",
            "_model_module_version": "1.5.0",
            "value": 3,
            "_view_count": null,
            "_view_module_version": "1.5.0",
            "orientation": "horizontal",
            "min": 0,
            "description_tooltip": null,
            "_model_module": "@jupyter-widgets/controls",
            "layout": "IPY_MODEL_17bb94d8c1214ddfaad939e68e3e47cf"
          }
        },
        "8c8bde4fa1ae4637bc45c6680485269f": {
          "model_module": "@jupyter-widgets/controls",
          "model_name": "HTMLModel",
          "state": {
            "_view_name": "HTMLView",
            "style": "IPY_MODEL_5214c7f848574786a266cda961dec97f",
            "_dom_classes": [],
            "description": "",
            "_model_name": "HTMLModel",
            "placeholder": "​",
            "_view_module": "@jupyter-widgets/controls",
            "_model_module_version": "1.5.0",
            "value": " 3/1252 [00:00&lt;05:06,  4.08it/s]",
            "_view_count": null,
            "_view_module_version": "1.5.0",
            "description_tooltip": null,
            "_model_module": "@jupyter-widgets/controls",
            "layout": "IPY_MODEL_a3e46c3dfd024a4f94c6ba5325874ada"
          }
        },
        "7f7a4a3aec9f4ccc911c7504ae5be60a": {
          "model_module": "@jupyter-widgets/controls",
          "model_name": "DescriptionStyleModel",
          "state": {
            "_view_name": "StyleView",
            "_model_name": "DescriptionStyleModel",
            "description_width": "",
            "_view_module": "@jupyter-widgets/base",
            "_model_module_version": "1.5.0",
            "_view_count": null,
            "_view_module_version": "1.2.0",
            "_model_module": "@jupyter-widgets/controls"
          }
        },
        "1e430b8d04834f12aaf532e137bac5f0": {
          "model_module": "@jupyter-widgets/base",
          "model_name": "LayoutModel",
          "state": {
            "_view_name": "LayoutView",
            "grid_template_rows": null,
            "right": null,
            "justify_content": null,
            "_view_module": "@jupyter-widgets/base",
            "overflow": null,
            "_model_module_version": "1.2.0",
            "_view_count": null,
            "flex_flow": null,
            "width": null,
            "min_width": null,
            "border": null,
            "align_items": null,
            "bottom": null,
            "_model_module": "@jupyter-widgets/base",
            "top": null,
            "grid_column": null,
            "overflow_y": null,
            "overflow_x": null,
            "grid_auto_flow": null,
            "grid_area": null,
            "grid_template_columns": null,
            "flex": null,
            "_model_name": "LayoutModel",
            "justify_items": null,
            "grid_row": null,
            "max_height": null,
            "align_content": null,
            "visibility": null,
            "align_self": null,
            "height": null,
            "min_height": null,
            "padding": null,
            "grid_auto_rows": null,
            "grid_gap": null,
            "max_width": null,
            "order": null,
            "_view_module_version": "1.2.0",
            "grid_template_areas": null,
            "object_position": null,
            "object_fit": null,
            "grid_auto_columns": null,
            "margin": null,
            "display": null,
            "left": null
          }
        },
        "aa18fbc5acba49af863f82d83fe81276": {
          "model_module": "@jupyter-widgets/controls",
          "model_name": "ProgressStyleModel",
          "state": {
            "_view_name": "StyleView",
            "_model_name": "ProgressStyleModel",
            "description_width": "",
            "_view_module": "@jupyter-widgets/base",
            "_model_module_version": "1.5.0",
            "_view_count": null,
            "_view_module_version": "1.2.0",
            "bar_color": null,
            "_model_module": "@jupyter-widgets/controls"
          }
        },
        "17bb94d8c1214ddfaad939e68e3e47cf": {
          "model_module": "@jupyter-widgets/base",
          "model_name": "LayoutModel",
          "state": {
            "_view_name": "LayoutView",
            "grid_template_rows": null,
            "right": null,
            "justify_content": null,
            "_view_module": "@jupyter-widgets/base",
            "overflow": null,
            "_model_module_version": "1.2.0",
            "_view_count": null,
            "flex_flow": null,
            "width": null,
            "min_width": null,
            "border": null,
            "align_items": null,
            "bottom": null,
            "_model_module": "@jupyter-widgets/base",
            "top": null,
            "grid_column": null,
            "overflow_y": null,
            "overflow_x": null,
            "grid_auto_flow": null,
            "grid_area": null,
            "grid_template_columns": null,
            "flex": null,
            "_model_name": "LayoutModel",
            "justify_items": null,
            "grid_row": null,
            "max_height": null,
            "align_content": null,
            "visibility": null,
            "align_self": null,
            "height": null,
            "min_height": null,
            "padding": null,
            "grid_auto_rows": null,
            "grid_gap": null,
            "max_width": null,
            "order": null,
            "_view_module_version": "1.2.0",
            "grid_template_areas": null,
            "object_position": null,
            "object_fit": null,
            "grid_auto_columns": null,
            "margin": null,
            "display": null,
            "left": null
          }
        },
        "5214c7f848574786a266cda961dec97f": {
          "model_module": "@jupyter-widgets/controls",
          "model_name": "DescriptionStyleModel",
          "state": {
            "_view_name": "StyleView",
            "_model_name": "DescriptionStyleModel",
            "description_width": "",
            "_view_module": "@jupyter-widgets/base",
            "_model_module_version": "1.5.0",
            "_view_count": null,
            "_view_module_version": "1.2.0",
            "_model_module": "@jupyter-widgets/controls"
          }
        },
        "a3e46c3dfd024a4f94c6ba5325874ada": {
          "model_module": "@jupyter-widgets/base",
          "model_name": "LayoutModel",
          "state": {
            "_view_name": "LayoutView",
            "grid_template_rows": null,
            "right": null,
            "justify_content": null,
            "_view_module": "@jupyter-widgets/base",
            "overflow": null,
            "_model_module_version": "1.2.0",
            "_view_count": null,
            "flex_flow": null,
            "width": null,
            "min_width": null,
            "border": null,
            "align_items": null,
            "bottom": null,
            "_model_module": "@jupyter-widgets/base",
            "top": null,
            "grid_column": null,
            "overflow_y": null,
            "overflow_x": null,
            "grid_auto_flow": null,
            "grid_area": null,
            "grid_template_columns": null,
            "flex": null,
            "_model_name": "LayoutModel",
            "justify_items": null,
            "grid_row": null,
            "max_height": null,
            "align_content": null,
            "visibility": null,
            "align_self": null,
            "height": null,
            "min_height": null,
            "padding": null,
            "grid_auto_rows": null,
            "grid_gap": null,
            "max_width": null,
            "order": null,
            "_view_module_version": "1.2.0",
            "grid_template_areas": null,
            "object_position": null,
            "object_fit": null,
            "grid_auto_columns": null,
            "margin": null,
            "display": null,
            "left": null
          }
        },
        "c4b4323e8b6a446b9e08eb52cd68f8ee": {
          "model_module": "@jupyter-widgets/controls",
          "model_name": "HBoxModel",
          "state": {
            "_view_name": "HBoxView",
            "_dom_classes": [],
            "_model_name": "HBoxModel",
            "_view_module": "@jupyter-widgets/controls",
            "_model_module_version": "1.5.0",
            "_view_count": null,
            "_view_module_version": "1.5.0",
            "box_style": "",
            "layout": "IPY_MODEL_b5d540353c9b41869801bb0ab2841ae7",
            "_model_module": "@jupyter-widgets/controls",
            "children": [
              "IPY_MODEL_b681ab920b304ea5987ac5191873f3b0",
              "IPY_MODEL_90b7dd5e91954c0798817e72b5d1ec56",
              "IPY_MODEL_8b977c0b6c5940169b40f6bb4c4fd525"
            ]
          }
        },
        "b5d540353c9b41869801bb0ab2841ae7": {
          "model_module": "@jupyter-widgets/base",
          "model_name": "LayoutModel",
          "state": {
            "_view_name": "LayoutView",
            "grid_template_rows": null,
            "right": null,
            "justify_content": null,
            "_view_module": "@jupyter-widgets/base",
            "overflow": null,
            "_model_module_version": "1.2.0",
            "_view_count": null,
            "flex_flow": null,
            "width": null,
            "min_width": null,
            "border": null,
            "align_items": null,
            "bottom": null,
            "_model_module": "@jupyter-widgets/base",
            "top": null,
            "grid_column": null,
            "overflow_y": null,
            "overflow_x": null,
            "grid_auto_flow": null,
            "grid_area": null,
            "grid_template_columns": null,
            "flex": null,
            "_model_name": "LayoutModel",
            "justify_items": null,
            "grid_row": null,
            "max_height": null,
            "align_content": null,
            "visibility": null,
            "align_self": null,
            "height": null,
            "min_height": null,
            "padding": null,
            "grid_auto_rows": null,
            "grid_gap": null,
            "max_width": null,
            "order": null,
            "_view_module_version": "1.2.0",
            "grid_template_areas": null,
            "object_position": null,
            "object_fit": null,
            "grid_auto_columns": null,
            "margin": null,
            "display": null,
            "left": null
          }
        },
        "b681ab920b304ea5987ac5191873f3b0": {
          "model_module": "@jupyter-widgets/controls",
          "model_name": "HTMLModel",
          "state": {
            "_view_name": "HTMLView",
            "style": "IPY_MODEL_674e2054e46d480fa22e6f24e29655b5",
            "_dom_classes": [],
            "description": "",
            "_model_name": "HTMLModel",
            "placeholder": "​",
            "_view_module": "@jupyter-widgets/controls",
            "_model_module_version": "1.5.0",
            "value": "Epoch 10 of 10: 100%",
            "_view_count": null,
            "_view_module_version": "1.5.0",
            "description_tooltip": null,
            "_model_module": "@jupyter-widgets/controls",
            "layout": "IPY_MODEL_db7b09a37cba439a93df8f9f0a34a4f8"
          }
        },
        "90b7dd5e91954c0798817e72b5d1ec56": {
          "model_module": "@jupyter-widgets/controls",
          "model_name": "FloatProgressModel",
          "state": {
            "_view_name": "ProgressView",
            "style": "IPY_MODEL_5fd5f4e061f443c7bc71e09a67e8515d",
            "_dom_classes": [],
            "description": "",
            "_model_name": "FloatProgressModel",
            "bar_style": "success",
            "max": 10,
            "_view_module": "@jupyter-widgets/controls",
            "_model_module_version": "1.5.0",
            "value": 10,
            "_view_count": null,
            "_view_module_version": "1.5.0",
            "orientation": "horizontal",
            "min": 0,
            "description_tooltip": null,
            "_model_module": "@jupyter-widgets/controls",
            "layout": "IPY_MODEL_aaec0473e8cf4c6ba8c56245f4332c5e"
          }
        },
        "8b977c0b6c5940169b40f6bb4c4fd525": {
          "model_module": "@jupyter-widgets/controls",
          "model_name": "HTMLModel",
          "state": {
            "_view_name": "HTMLView",
            "style": "IPY_MODEL_662c10aff6374194aaf9f42a933f710f",
            "_dom_classes": [],
            "description": "",
            "_model_name": "HTMLModel",
            "placeholder": "​",
            "_view_module": "@jupyter-widgets/controls",
            "_model_module_version": "1.5.0",
            "value": " 10/10 [04:10&lt;00:00, 24.89s/it]",
            "_view_count": null,
            "_view_module_version": "1.5.0",
            "description_tooltip": null,
            "_model_module": "@jupyter-widgets/controls",
            "layout": "IPY_MODEL_d78cbac61cdf41e69d87080c17d46239"
          }
        },
        "674e2054e46d480fa22e6f24e29655b5": {
          "model_module": "@jupyter-widgets/controls",
          "model_name": "DescriptionStyleModel",
          "state": {
            "_view_name": "StyleView",
            "_model_name": "DescriptionStyleModel",
            "description_width": "",
            "_view_module": "@jupyter-widgets/base",
            "_model_module_version": "1.5.0",
            "_view_count": null,
            "_view_module_version": "1.2.0",
            "_model_module": "@jupyter-widgets/controls"
          }
        },
        "db7b09a37cba439a93df8f9f0a34a4f8": {
          "model_module": "@jupyter-widgets/base",
          "model_name": "LayoutModel",
          "state": {
            "_view_name": "LayoutView",
            "grid_template_rows": null,
            "right": null,
            "justify_content": null,
            "_view_module": "@jupyter-widgets/base",
            "overflow": null,
            "_model_module_version": "1.2.0",
            "_view_count": null,
            "flex_flow": null,
            "width": null,
            "min_width": null,
            "border": null,
            "align_items": null,
            "bottom": null,
            "_model_module": "@jupyter-widgets/base",
            "top": null,
            "grid_column": null,
            "overflow_y": null,
            "overflow_x": null,
            "grid_auto_flow": null,
            "grid_area": null,
            "grid_template_columns": null,
            "flex": null,
            "_model_name": "LayoutModel",
            "justify_items": null,
            "grid_row": null,
            "max_height": null,
            "align_content": null,
            "visibility": null,
            "align_self": null,
            "height": null,
            "min_height": null,
            "padding": null,
            "grid_auto_rows": null,
            "grid_gap": null,
            "max_width": null,
            "order": null,
            "_view_module_version": "1.2.0",
            "grid_template_areas": null,
            "object_position": null,
            "object_fit": null,
            "grid_auto_columns": null,
            "margin": null,
            "display": null,
            "left": null
          }
        },
        "5fd5f4e061f443c7bc71e09a67e8515d": {
          "model_module": "@jupyter-widgets/controls",
          "model_name": "ProgressStyleModel",
          "state": {
            "_view_name": "StyleView",
            "_model_name": "ProgressStyleModel",
            "description_width": "",
            "_view_module": "@jupyter-widgets/base",
            "_model_module_version": "1.5.0",
            "_view_count": null,
            "_view_module_version": "1.2.0",
            "bar_color": null,
            "_model_module": "@jupyter-widgets/controls"
          }
        },
        "aaec0473e8cf4c6ba8c56245f4332c5e": {
          "model_module": "@jupyter-widgets/base",
          "model_name": "LayoutModel",
          "state": {
            "_view_name": "LayoutView",
            "grid_template_rows": null,
            "right": null,
            "justify_content": null,
            "_view_module": "@jupyter-widgets/base",
            "overflow": null,
            "_model_module_version": "1.2.0",
            "_view_count": null,
            "flex_flow": null,
            "width": null,
            "min_width": null,
            "border": null,
            "align_items": null,
            "bottom": null,
            "_model_module": "@jupyter-widgets/base",
            "top": null,
            "grid_column": null,
            "overflow_y": null,
            "overflow_x": null,
            "grid_auto_flow": null,
            "grid_area": null,
            "grid_template_columns": null,
            "flex": null,
            "_model_name": "LayoutModel",
            "justify_items": null,
            "grid_row": null,
            "max_height": null,
            "align_content": null,
            "visibility": null,
            "align_self": null,
            "height": null,
            "min_height": null,
            "padding": null,
            "grid_auto_rows": null,
            "grid_gap": null,
            "max_width": null,
            "order": null,
            "_view_module_version": "1.2.0",
            "grid_template_areas": null,
            "object_position": null,
            "object_fit": null,
            "grid_auto_columns": null,
            "margin": null,
            "display": null,
            "left": null
          }
        },
        "662c10aff6374194aaf9f42a933f710f": {
          "model_module": "@jupyter-widgets/controls",
          "model_name": "DescriptionStyleModel",
          "state": {
            "_view_name": "StyleView",
            "_model_name": "DescriptionStyleModel",
            "description_width": "",
            "_view_module": "@jupyter-widgets/base",
            "_model_module_version": "1.5.0",
            "_view_count": null,
            "_view_module_version": "1.2.0",
            "_model_module": "@jupyter-widgets/controls"
          }
        },
        "d78cbac61cdf41e69d87080c17d46239": {
          "model_module": "@jupyter-widgets/base",
          "model_name": "LayoutModel",
          "state": {
            "_view_name": "LayoutView",
            "grid_template_rows": null,
            "right": null,
            "justify_content": null,
            "_view_module": "@jupyter-widgets/base",
            "overflow": null,
            "_model_module_version": "1.2.0",
            "_view_count": null,
            "flex_flow": null,
            "width": null,
            "min_width": null,
            "border": null,
            "align_items": null,
            "bottom": null,
            "_model_module": "@jupyter-widgets/base",
            "top": null,
            "grid_column": null,
            "overflow_y": null,
            "overflow_x": null,
            "grid_auto_flow": null,
            "grid_area": null,
            "grid_template_columns": null,
            "flex": null,
            "_model_name": "LayoutModel",
            "justify_items": null,
            "grid_row": null,
            "max_height": null,
            "align_content": null,
            "visibility": null,
            "align_self": null,
            "height": null,
            "min_height": null,
            "padding": null,
            "grid_auto_rows": null,
            "grid_gap": null,
            "max_width": null,
            "order": null,
            "_view_module_version": "1.2.0",
            "grid_template_areas": null,
            "object_position": null,
            "object_fit": null,
            "grid_auto_columns": null,
            "margin": null,
            "display": null,
            "left": null
          }
        },
        "b5b6bd2e90f8440ba061c1ec6de88604": {
          "model_module": "@jupyter-widgets/controls",
          "model_name": "HBoxModel",
          "state": {
            "_view_name": "HBoxView",
            "_dom_classes": [],
            "_model_name": "HBoxModel",
            "_view_module": "@jupyter-widgets/controls",
            "_model_module_version": "1.5.0",
            "_view_count": null,
            "_view_module_version": "1.5.0",
            "box_style": "",
            "layout": "IPY_MODEL_56c3cd4ac066487cb0467324cd604814",
            "_model_module": "@jupyter-widgets/controls",
            "children": [
              "IPY_MODEL_9d9fde4c8f354c03b9f4c387d8ea9584",
              "IPY_MODEL_982778139b78453e9c04146dc4e0f4f5",
              "IPY_MODEL_44eb6ad1a6984cdfa42a9e7dfd8d77d9"
            ]
          }
        },
        "56c3cd4ac066487cb0467324cd604814": {
          "model_module": "@jupyter-widgets/base",
          "model_name": "LayoutModel",
          "state": {
            "_view_name": "LayoutView",
            "grid_template_rows": null,
            "right": null,
            "justify_content": null,
            "_view_module": "@jupyter-widgets/base",
            "overflow": null,
            "_model_module_version": "1.2.0",
            "_view_count": null,
            "flex_flow": null,
            "width": null,
            "min_width": null,
            "border": null,
            "align_items": null,
            "bottom": null,
            "_model_module": "@jupyter-widgets/base",
            "top": null,
            "grid_column": null,
            "overflow_y": null,
            "overflow_x": null,
            "grid_auto_flow": null,
            "grid_area": null,
            "grid_template_columns": null,
            "flex": null,
            "_model_name": "LayoutModel",
            "justify_items": null,
            "grid_row": null,
            "max_height": null,
            "align_content": null,
            "visibility": null,
            "align_self": null,
            "height": null,
            "min_height": null,
            "padding": null,
            "grid_auto_rows": null,
            "grid_gap": null,
            "max_width": null,
            "order": null,
            "_view_module_version": "1.2.0",
            "grid_template_areas": null,
            "object_position": null,
            "object_fit": null,
            "grid_auto_columns": null,
            "margin": null,
            "display": null,
            "left": null
          }
        },
        "9d9fde4c8f354c03b9f4c387d8ea9584": {
          "model_module": "@jupyter-widgets/controls",
          "model_name": "HTMLModel",
          "state": {
            "_view_name": "HTMLView",
            "style": "IPY_MODEL_f60d9f4668a8420fa129660cf654a02a",
            "_dom_classes": [],
            "description": "",
            "_model_name": "HTMLModel",
            "placeholder": "​",
            "_view_module": "@jupyter-widgets/controls",
            "_model_module_version": "1.5.0",
            "value": "Epochs 0/10. Running Loss:    0.0443: 100%",
            "_view_count": null,
            "_view_module_version": "1.5.0",
            "description_tooltip": null,
            "_model_module": "@jupyter-widgets/controls",
            "layout": "IPY_MODEL_41739f30123c49498c4f2534a0daf3f8"
          }
        },
        "982778139b78453e9c04146dc4e0f4f5": {
          "model_module": "@jupyter-widgets/controls",
          "model_name": "FloatProgressModel",
          "state": {
            "_view_name": "ProgressView",
            "style": "IPY_MODEL_262d302327024210ad6b85daa3aa0780",
            "_dom_classes": [],
            "description": "",
            "_model_name": "FloatProgressModel",
            "bar_style": "success",
            "max": 157,
            "_view_module": "@jupyter-widgets/controls",
            "_model_module_version": "1.5.0",
            "value": 157,
            "_view_count": null,
            "_view_module_version": "1.5.0",
            "orientation": "horizontal",
            "min": 0,
            "description_tooltip": null,
            "_model_module": "@jupyter-widgets/controls",
            "layout": "IPY_MODEL_fbc1138303eb4886ac7da1cd1d79030e"
          }
        },
        "44eb6ad1a6984cdfa42a9e7dfd8d77d9": {
          "model_module": "@jupyter-widgets/controls",
          "model_name": "HTMLModel",
          "state": {
            "_view_name": "HTMLView",
            "style": "IPY_MODEL_6d111b0e076b44239d7da705c2c13e2d",
            "_dom_classes": [],
            "description": "",
            "_model_name": "HTMLModel",
            "placeholder": "​",
            "_view_module": "@jupyter-widgets/controls",
            "_model_module_version": "1.5.0",
            "value": " 157/157 [00:20&lt;00:00,  8.62it/s]",
            "_view_count": null,
            "_view_module_version": "1.5.0",
            "description_tooltip": null,
            "_model_module": "@jupyter-widgets/controls",
            "layout": "IPY_MODEL_7221483575d2468da5c4b20f422388c6"
          }
        },
        "f60d9f4668a8420fa129660cf654a02a": {
          "model_module": "@jupyter-widgets/controls",
          "model_name": "DescriptionStyleModel",
          "state": {
            "_view_name": "StyleView",
            "_model_name": "DescriptionStyleModel",
            "description_width": "",
            "_view_module": "@jupyter-widgets/base",
            "_model_module_version": "1.5.0",
            "_view_count": null,
            "_view_module_version": "1.2.0",
            "_model_module": "@jupyter-widgets/controls"
          }
        },
        "41739f30123c49498c4f2534a0daf3f8": {
          "model_module": "@jupyter-widgets/base",
          "model_name": "LayoutModel",
          "state": {
            "_view_name": "LayoutView",
            "grid_template_rows": null,
            "right": null,
            "justify_content": null,
            "_view_module": "@jupyter-widgets/base",
            "overflow": null,
            "_model_module_version": "1.2.0",
            "_view_count": null,
            "flex_flow": null,
            "width": null,
            "min_width": null,
            "border": null,
            "align_items": null,
            "bottom": null,
            "_model_module": "@jupyter-widgets/base",
            "top": null,
            "grid_column": null,
            "overflow_y": null,
            "overflow_x": null,
            "grid_auto_flow": null,
            "grid_area": null,
            "grid_template_columns": null,
            "flex": null,
            "_model_name": "LayoutModel",
            "justify_items": null,
            "grid_row": null,
            "max_height": null,
            "align_content": null,
            "visibility": null,
            "align_self": null,
            "height": null,
            "min_height": null,
            "padding": null,
            "grid_auto_rows": null,
            "grid_gap": null,
            "max_width": null,
            "order": null,
            "_view_module_version": "1.2.0",
            "grid_template_areas": null,
            "object_position": null,
            "object_fit": null,
            "grid_auto_columns": null,
            "margin": null,
            "display": null,
            "left": null
          }
        },
        "262d302327024210ad6b85daa3aa0780": {
          "model_module": "@jupyter-widgets/controls",
          "model_name": "ProgressStyleModel",
          "state": {
            "_view_name": "StyleView",
            "_model_name": "ProgressStyleModel",
            "description_width": "",
            "_view_module": "@jupyter-widgets/base",
            "_model_module_version": "1.5.0",
            "_view_count": null,
            "_view_module_version": "1.2.0",
            "bar_color": null,
            "_model_module": "@jupyter-widgets/controls"
          }
        },
        "fbc1138303eb4886ac7da1cd1d79030e": {
          "model_module": "@jupyter-widgets/base",
          "model_name": "LayoutModel",
          "state": {
            "_view_name": "LayoutView",
            "grid_template_rows": null,
            "right": null,
            "justify_content": null,
            "_view_module": "@jupyter-widgets/base",
            "overflow": null,
            "_model_module_version": "1.2.0",
            "_view_count": null,
            "flex_flow": null,
            "width": null,
            "min_width": null,
            "border": null,
            "align_items": null,
            "bottom": null,
            "_model_module": "@jupyter-widgets/base",
            "top": null,
            "grid_column": null,
            "overflow_y": null,
            "overflow_x": null,
            "grid_auto_flow": null,
            "grid_area": null,
            "grid_template_columns": null,
            "flex": null,
            "_model_name": "LayoutModel",
            "justify_items": null,
            "grid_row": null,
            "max_height": null,
            "align_content": null,
            "visibility": null,
            "align_self": null,
            "height": null,
            "min_height": null,
            "padding": null,
            "grid_auto_rows": null,
            "grid_gap": null,
            "max_width": null,
            "order": null,
            "_view_module_version": "1.2.0",
            "grid_template_areas": null,
            "object_position": null,
            "object_fit": null,
            "grid_auto_columns": null,
            "margin": null,
            "display": null,
            "left": null
          }
        },
        "6d111b0e076b44239d7da705c2c13e2d": {
          "model_module": "@jupyter-widgets/controls",
          "model_name": "DescriptionStyleModel",
          "state": {
            "_view_name": "StyleView",
            "_model_name": "DescriptionStyleModel",
            "description_width": "",
            "_view_module": "@jupyter-widgets/base",
            "_model_module_version": "1.5.0",
            "_view_count": null,
            "_view_module_version": "1.2.0",
            "_model_module": "@jupyter-widgets/controls"
          }
        },
        "7221483575d2468da5c4b20f422388c6": {
          "model_module": "@jupyter-widgets/base",
          "model_name": "LayoutModel",
          "state": {
            "_view_name": "LayoutView",
            "grid_template_rows": null,
            "right": null,
            "justify_content": null,
            "_view_module": "@jupyter-widgets/base",
            "overflow": null,
            "_model_module_version": "1.2.0",
            "_view_count": null,
            "flex_flow": null,
            "width": null,
            "min_width": null,
            "border": null,
            "align_items": null,
            "bottom": null,
            "_model_module": "@jupyter-widgets/base",
            "top": null,
            "grid_column": null,
            "overflow_y": null,
            "overflow_x": null,
            "grid_auto_flow": null,
            "grid_area": null,
            "grid_template_columns": null,
            "flex": null,
            "_model_name": "LayoutModel",
            "justify_items": null,
            "grid_row": null,
            "max_height": null,
            "align_content": null,
            "visibility": null,
            "align_self": null,
            "height": null,
            "min_height": null,
            "padding": null,
            "grid_auto_rows": null,
            "grid_gap": null,
            "max_width": null,
            "order": null,
            "_view_module_version": "1.2.0",
            "grid_template_areas": null,
            "object_position": null,
            "object_fit": null,
            "grid_auto_columns": null,
            "margin": null,
            "display": null,
            "left": null
          }
        },
        "05e23f8709b2414a91f4dda4aa944438": {
          "model_module": "@jupyter-widgets/controls",
          "model_name": "HBoxModel",
          "state": {
            "_view_name": "HBoxView",
            "_dom_classes": [],
            "_model_name": "HBoxModel",
            "_view_module": "@jupyter-widgets/controls",
            "_model_module_version": "1.5.0",
            "_view_count": null,
            "_view_module_version": "1.5.0",
            "box_style": "",
            "layout": "IPY_MODEL_f6283e32c895441bb7a363821964ca94",
            "_model_module": "@jupyter-widgets/controls",
            "children": [
              "IPY_MODEL_2afb42b9a592455db3009773809e3a60",
              "IPY_MODEL_8766cf98684844419f71edd6ce900f45",
              "IPY_MODEL_5442a47566214bd6b34dbd18a9753b17"
            ]
          }
        },
        "f6283e32c895441bb7a363821964ca94": {
          "model_module": "@jupyter-widgets/base",
          "model_name": "LayoutModel",
          "state": {
            "_view_name": "LayoutView",
            "grid_template_rows": null,
            "right": null,
            "justify_content": null,
            "_view_module": "@jupyter-widgets/base",
            "overflow": null,
            "_model_module_version": "1.2.0",
            "_view_count": null,
            "flex_flow": null,
            "width": null,
            "min_width": null,
            "border": null,
            "align_items": null,
            "bottom": null,
            "_model_module": "@jupyter-widgets/base",
            "top": null,
            "grid_column": null,
            "overflow_y": null,
            "overflow_x": null,
            "grid_auto_flow": null,
            "grid_area": null,
            "grid_template_columns": null,
            "flex": null,
            "_model_name": "LayoutModel",
            "justify_items": null,
            "grid_row": null,
            "max_height": null,
            "align_content": null,
            "visibility": null,
            "align_self": null,
            "height": null,
            "min_height": null,
            "padding": null,
            "grid_auto_rows": null,
            "grid_gap": null,
            "max_width": null,
            "order": null,
            "_view_module_version": "1.2.0",
            "grid_template_areas": null,
            "object_position": null,
            "object_fit": null,
            "grid_auto_columns": null,
            "margin": null,
            "display": null,
            "left": null
          }
        },
        "2afb42b9a592455db3009773809e3a60": {
          "model_module": "@jupyter-widgets/controls",
          "model_name": "HTMLModel",
          "state": {
            "_view_name": "HTMLView",
            "style": "IPY_MODEL_f48615f6291e433cbe0993b4992f4493",
            "_dom_classes": [],
            "description": "",
            "_model_name": "HTMLModel",
            "placeholder": "​",
            "_view_module": "@jupyter-widgets/controls",
            "_model_module_version": "1.5.0",
            "value": "Epochs 1/10. Running Loss:    0.0144: 100%",
            "_view_count": null,
            "_view_module_version": "1.5.0",
            "description_tooltip": null,
            "_model_module": "@jupyter-widgets/controls",
            "layout": "IPY_MODEL_bde80de0ebfe4b46b7e4c826d3642970"
          }
        },
        "8766cf98684844419f71edd6ce900f45": {
          "model_module": "@jupyter-widgets/controls",
          "model_name": "FloatProgressModel",
          "state": {
            "_view_name": "ProgressView",
            "style": "IPY_MODEL_4f68f3a82c2345a0b5b41fb2adea51f2",
            "_dom_classes": [],
            "description": "",
            "_model_name": "FloatProgressModel",
            "bar_style": "success",
            "max": 157,
            "_view_module": "@jupyter-widgets/controls",
            "_model_module_version": "1.5.0",
            "value": 157,
            "_view_count": null,
            "_view_module_version": "1.5.0",
            "orientation": "horizontal",
            "min": 0,
            "description_tooltip": null,
            "_model_module": "@jupyter-widgets/controls",
            "layout": "IPY_MODEL_19b2aa7c25f8471899a8dc08f2c9aaa2"
          }
        },
        "5442a47566214bd6b34dbd18a9753b17": {
          "model_module": "@jupyter-widgets/controls",
          "model_name": "HTMLModel",
          "state": {
            "_view_name": "HTMLView",
            "style": "IPY_MODEL_4c3ed786e4ec4e73bdcb16cf0b8e4e44",
            "_dom_classes": [],
            "description": "",
            "_model_name": "HTMLModel",
            "placeholder": "​",
            "_view_module": "@jupyter-widgets/controls",
            "_model_module_version": "1.5.0",
            "value": " 157/157 [00:20&lt;00:00,  8.53it/s]",
            "_view_count": null,
            "_view_module_version": "1.5.0",
            "description_tooltip": null,
            "_model_module": "@jupyter-widgets/controls",
            "layout": "IPY_MODEL_a9b2bdeee7e44043876d3fb5288ab0e5"
          }
        },
        "f48615f6291e433cbe0993b4992f4493": {
          "model_module": "@jupyter-widgets/controls",
          "model_name": "DescriptionStyleModel",
          "state": {
            "_view_name": "StyleView",
            "_model_name": "DescriptionStyleModel",
            "description_width": "",
            "_view_module": "@jupyter-widgets/base",
            "_model_module_version": "1.5.0",
            "_view_count": null,
            "_view_module_version": "1.2.0",
            "_model_module": "@jupyter-widgets/controls"
          }
        },
        "bde80de0ebfe4b46b7e4c826d3642970": {
          "model_module": "@jupyter-widgets/base",
          "model_name": "LayoutModel",
          "state": {
            "_view_name": "LayoutView",
            "grid_template_rows": null,
            "right": null,
            "justify_content": null,
            "_view_module": "@jupyter-widgets/base",
            "overflow": null,
            "_model_module_version": "1.2.0",
            "_view_count": null,
            "flex_flow": null,
            "width": null,
            "min_width": null,
            "border": null,
            "align_items": null,
            "bottom": null,
            "_model_module": "@jupyter-widgets/base",
            "top": null,
            "grid_column": null,
            "overflow_y": null,
            "overflow_x": null,
            "grid_auto_flow": null,
            "grid_area": null,
            "grid_template_columns": null,
            "flex": null,
            "_model_name": "LayoutModel",
            "justify_items": null,
            "grid_row": null,
            "max_height": null,
            "align_content": null,
            "visibility": null,
            "align_self": null,
            "height": null,
            "min_height": null,
            "padding": null,
            "grid_auto_rows": null,
            "grid_gap": null,
            "max_width": null,
            "order": null,
            "_view_module_version": "1.2.0",
            "grid_template_areas": null,
            "object_position": null,
            "object_fit": null,
            "grid_auto_columns": null,
            "margin": null,
            "display": null,
            "left": null
          }
        },
        "4f68f3a82c2345a0b5b41fb2adea51f2": {
          "model_module": "@jupyter-widgets/controls",
          "model_name": "ProgressStyleModel",
          "state": {
            "_view_name": "StyleView",
            "_model_name": "ProgressStyleModel",
            "description_width": "",
            "_view_module": "@jupyter-widgets/base",
            "_model_module_version": "1.5.0",
            "_view_count": null,
            "_view_module_version": "1.2.0",
            "bar_color": null,
            "_model_module": "@jupyter-widgets/controls"
          }
        },
        "19b2aa7c25f8471899a8dc08f2c9aaa2": {
          "model_module": "@jupyter-widgets/base",
          "model_name": "LayoutModel",
          "state": {
            "_view_name": "LayoutView",
            "grid_template_rows": null,
            "right": null,
            "justify_content": null,
            "_view_module": "@jupyter-widgets/base",
            "overflow": null,
            "_model_module_version": "1.2.0",
            "_view_count": null,
            "flex_flow": null,
            "width": null,
            "min_width": null,
            "border": null,
            "align_items": null,
            "bottom": null,
            "_model_module": "@jupyter-widgets/base",
            "top": null,
            "grid_column": null,
            "overflow_y": null,
            "overflow_x": null,
            "grid_auto_flow": null,
            "grid_area": null,
            "grid_template_columns": null,
            "flex": null,
            "_model_name": "LayoutModel",
            "justify_items": null,
            "grid_row": null,
            "max_height": null,
            "align_content": null,
            "visibility": null,
            "align_self": null,
            "height": null,
            "min_height": null,
            "padding": null,
            "grid_auto_rows": null,
            "grid_gap": null,
            "max_width": null,
            "order": null,
            "_view_module_version": "1.2.0",
            "grid_template_areas": null,
            "object_position": null,
            "object_fit": null,
            "grid_auto_columns": null,
            "margin": null,
            "display": null,
            "left": null
          }
        },
        "4c3ed786e4ec4e73bdcb16cf0b8e4e44": {
          "model_module": "@jupyter-widgets/controls",
          "model_name": "DescriptionStyleModel",
          "state": {
            "_view_name": "StyleView",
            "_model_name": "DescriptionStyleModel",
            "description_width": "",
            "_view_module": "@jupyter-widgets/base",
            "_model_module_version": "1.5.0",
            "_view_count": null,
            "_view_module_version": "1.2.0",
            "_model_module": "@jupyter-widgets/controls"
          }
        },
        "a9b2bdeee7e44043876d3fb5288ab0e5": {
          "model_module": "@jupyter-widgets/base",
          "model_name": "LayoutModel",
          "state": {
            "_view_name": "LayoutView",
            "grid_template_rows": null,
            "right": null,
            "justify_content": null,
            "_view_module": "@jupyter-widgets/base",
            "overflow": null,
            "_model_module_version": "1.2.0",
            "_view_count": null,
            "flex_flow": null,
            "width": null,
            "min_width": null,
            "border": null,
            "align_items": null,
            "bottom": null,
            "_model_module": "@jupyter-widgets/base",
            "top": null,
            "grid_column": null,
            "overflow_y": null,
            "overflow_x": null,
            "grid_auto_flow": null,
            "grid_area": null,
            "grid_template_columns": null,
            "flex": null,
            "_model_name": "LayoutModel",
            "justify_items": null,
            "grid_row": null,
            "max_height": null,
            "align_content": null,
            "visibility": null,
            "align_self": null,
            "height": null,
            "min_height": null,
            "padding": null,
            "grid_auto_rows": null,
            "grid_gap": null,
            "max_width": null,
            "order": null,
            "_view_module_version": "1.2.0",
            "grid_template_areas": null,
            "object_position": null,
            "object_fit": null,
            "grid_auto_columns": null,
            "margin": null,
            "display": null,
            "left": null
          }
        },
        "43f775a975884913ba1055f0911975c0": {
          "model_module": "@jupyter-widgets/controls",
          "model_name": "HBoxModel",
          "state": {
            "_view_name": "HBoxView",
            "_dom_classes": [],
            "_model_name": "HBoxModel",
            "_view_module": "@jupyter-widgets/controls",
            "_model_module_version": "1.5.0",
            "_view_count": null,
            "_view_module_version": "1.5.0",
            "box_style": "",
            "layout": "IPY_MODEL_90d173728f24407c849955b2b97b33e8",
            "_model_module": "@jupyter-widgets/controls",
            "children": [
              "IPY_MODEL_1dfedb7f9d0a4ef4b4ac95ea04ffff6c",
              "IPY_MODEL_7d5c13e20b944b4c9b2e7885c36577bf",
              "IPY_MODEL_a7230bdd78664bc59e3237632bf244e2"
            ]
          }
        },
        "90d173728f24407c849955b2b97b33e8": {
          "model_module": "@jupyter-widgets/base",
          "model_name": "LayoutModel",
          "state": {
            "_view_name": "LayoutView",
            "grid_template_rows": null,
            "right": null,
            "justify_content": null,
            "_view_module": "@jupyter-widgets/base",
            "overflow": null,
            "_model_module_version": "1.2.0",
            "_view_count": null,
            "flex_flow": null,
            "width": null,
            "min_width": null,
            "border": null,
            "align_items": null,
            "bottom": null,
            "_model_module": "@jupyter-widgets/base",
            "top": null,
            "grid_column": null,
            "overflow_y": null,
            "overflow_x": null,
            "grid_auto_flow": null,
            "grid_area": null,
            "grid_template_columns": null,
            "flex": null,
            "_model_name": "LayoutModel",
            "justify_items": null,
            "grid_row": null,
            "max_height": null,
            "align_content": null,
            "visibility": null,
            "align_self": null,
            "height": null,
            "min_height": null,
            "padding": null,
            "grid_auto_rows": null,
            "grid_gap": null,
            "max_width": null,
            "order": null,
            "_view_module_version": "1.2.0",
            "grid_template_areas": null,
            "object_position": null,
            "object_fit": null,
            "grid_auto_columns": null,
            "margin": null,
            "display": null,
            "left": null
          }
        },
        "1dfedb7f9d0a4ef4b4ac95ea04ffff6c": {
          "model_module": "@jupyter-widgets/controls",
          "model_name": "HTMLModel",
          "state": {
            "_view_name": "HTMLView",
            "style": "IPY_MODEL_3ac7df33e5b145f88003f4b34aa8dd5d",
            "_dom_classes": [],
            "description": "",
            "_model_name": "HTMLModel",
            "placeholder": "​",
            "_view_module": "@jupyter-widgets/controls",
            "_model_module_version": "1.5.0",
            "value": "Epochs 2/10. Running Loss:    0.9243: 100%",
            "_view_count": null,
            "_view_module_version": "1.5.0",
            "description_tooltip": null,
            "_model_module": "@jupyter-widgets/controls",
            "layout": "IPY_MODEL_56fe29d715d84fefa58b0aaaf68f30de"
          }
        },
        "7d5c13e20b944b4c9b2e7885c36577bf": {
          "model_module": "@jupyter-widgets/controls",
          "model_name": "FloatProgressModel",
          "state": {
            "_view_name": "ProgressView",
            "style": "IPY_MODEL_414f6f7bef7e4008855703954272c346",
            "_dom_classes": [],
            "description": "",
            "_model_name": "FloatProgressModel",
            "bar_style": "success",
            "max": 157,
            "_view_module": "@jupyter-widgets/controls",
            "_model_module_version": "1.5.0",
            "value": 157,
            "_view_count": null,
            "_view_module_version": "1.5.0",
            "orientation": "horizontal",
            "min": 0,
            "description_tooltip": null,
            "_model_module": "@jupyter-widgets/controls",
            "layout": "IPY_MODEL_5f243800d7384e8d9a6930a4e904cc5f"
          }
        },
        "a7230bdd78664bc59e3237632bf244e2": {
          "model_module": "@jupyter-widgets/controls",
          "model_name": "HTMLModel",
          "state": {
            "_view_name": "HTMLView",
            "style": "IPY_MODEL_ff9e91c423b64dd0a2e86c016ea8cf28",
            "_dom_classes": [],
            "description": "",
            "_model_name": "HTMLModel",
            "placeholder": "​",
            "_view_module": "@jupyter-widgets/controls",
            "_model_module_version": "1.5.0",
            "value": " 157/157 [00:20&lt;00:00,  8.58it/s]",
            "_view_count": null,
            "_view_module_version": "1.5.0",
            "description_tooltip": null,
            "_model_module": "@jupyter-widgets/controls",
            "layout": "IPY_MODEL_90bba462ff4c4b7783ff83c7b428a853"
          }
        },
        "3ac7df33e5b145f88003f4b34aa8dd5d": {
          "model_module": "@jupyter-widgets/controls",
          "model_name": "DescriptionStyleModel",
          "state": {
            "_view_name": "StyleView",
            "_model_name": "DescriptionStyleModel",
            "description_width": "",
            "_view_module": "@jupyter-widgets/base",
            "_model_module_version": "1.5.0",
            "_view_count": null,
            "_view_module_version": "1.2.0",
            "_model_module": "@jupyter-widgets/controls"
          }
        },
        "56fe29d715d84fefa58b0aaaf68f30de": {
          "model_module": "@jupyter-widgets/base",
          "model_name": "LayoutModel",
          "state": {
            "_view_name": "LayoutView",
            "grid_template_rows": null,
            "right": null,
            "justify_content": null,
            "_view_module": "@jupyter-widgets/base",
            "overflow": null,
            "_model_module_version": "1.2.0",
            "_view_count": null,
            "flex_flow": null,
            "width": null,
            "min_width": null,
            "border": null,
            "align_items": null,
            "bottom": null,
            "_model_module": "@jupyter-widgets/base",
            "top": null,
            "grid_column": null,
            "overflow_y": null,
            "overflow_x": null,
            "grid_auto_flow": null,
            "grid_area": null,
            "grid_template_columns": null,
            "flex": null,
            "_model_name": "LayoutModel",
            "justify_items": null,
            "grid_row": null,
            "max_height": null,
            "align_content": null,
            "visibility": null,
            "align_self": null,
            "height": null,
            "min_height": null,
            "padding": null,
            "grid_auto_rows": null,
            "grid_gap": null,
            "max_width": null,
            "order": null,
            "_view_module_version": "1.2.0",
            "grid_template_areas": null,
            "object_position": null,
            "object_fit": null,
            "grid_auto_columns": null,
            "margin": null,
            "display": null,
            "left": null
          }
        },
        "414f6f7bef7e4008855703954272c346": {
          "model_module": "@jupyter-widgets/controls",
          "model_name": "ProgressStyleModel",
          "state": {
            "_view_name": "StyleView",
            "_model_name": "ProgressStyleModel",
            "description_width": "",
            "_view_module": "@jupyter-widgets/base",
            "_model_module_version": "1.5.0",
            "_view_count": null,
            "_view_module_version": "1.2.0",
            "bar_color": null,
            "_model_module": "@jupyter-widgets/controls"
          }
        },
        "5f243800d7384e8d9a6930a4e904cc5f": {
          "model_module": "@jupyter-widgets/base",
          "model_name": "LayoutModel",
          "state": {
            "_view_name": "LayoutView",
            "grid_template_rows": null,
            "right": null,
            "justify_content": null,
            "_view_module": "@jupyter-widgets/base",
            "overflow": null,
            "_model_module_version": "1.2.0",
            "_view_count": null,
            "flex_flow": null,
            "width": null,
            "min_width": null,
            "border": null,
            "align_items": null,
            "bottom": null,
            "_model_module": "@jupyter-widgets/base",
            "top": null,
            "grid_column": null,
            "overflow_y": null,
            "overflow_x": null,
            "grid_auto_flow": null,
            "grid_area": null,
            "grid_template_columns": null,
            "flex": null,
            "_model_name": "LayoutModel",
            "justify_items": null,
            "grid_row": null,
            "max_height": null,
            "align_content": null,
            "visibility": null,
            "align_self": null,
            "height": null,
            "min_height": null,
            "padding": null,
            "grid_auto_rows": null,
            "grid_gap": null,
            "max_width": null,
            "order": null,
            "_view_module_version": "1.2.0",
            "grid_template_areas": null,
            "object_position": null,
            "object_fit": null,
            "grid_auto_columns": null,
            "margin": null,
            "display": null,
            "left": null
          }
        },
        "ff9e91c423b64dd0a2e86c016ea8cf28": {
          "model_module": "@jupyter-widgets/controls",
          "model_name": "DescriptionStyleModel",
          "state": {
            "_view_name": "StyleView",
            "_model_name": "DescriptionStyleModel",
            "description_width": "",
            "_view_module": "@jupyter-widgets/base",
            "_model_module_version": "1.5.0",
            "_view_count": null,
            "_view_module_version": "1.2.0",
            "_model_module": "@jupyter-widgets/controls"
          }
        },
        "90bba462ff4c4b7783ff83c7b428a853": {
          "model_module": "@jupyter-widgets/base",
          "model_name": "LayoutModel",
          "state": {
            "_view_name": "LayoutView",
            "grid_template_rows": null,
            "right": null,
            "justify_content": null,
            "_view_module": "@jupyter-widgets/base",
            "overflow": null,
            "_model_module_version": "1.2.0",
            "_view_count": null,
            "flex_flow": null,
            "width": null,
            "min_width": null,
            "border": null,
            "align_items": null,
            "bottom": null,
            "_model_module": "@jupyter-widgets/base",
            "top": null,
            "grid_column": null,
            "overflow_y": null,
            "overflow_x": null,
            "grid_auto_flow": null,
            "grid_area": null,
            "grid_template_columns": null,
            "flex": null,
            "_model_name": "LayoutModel",
            "justify_items": null,
            "grid_row": null,
            "max_height": null,
            "align_content": null,
            "visibility": null,
            "align_self": null,
            "height": null,
            "min_height": null,
            "padding": null,
            "grid_auto_rows": null,
            "grid_gap": null,
            "max_width": null,
            "order": null,
            "_view_module_version": "1.2.0",
            "grid_template_areas": null,
            "object_position": null,
            "object_fit": null,
            "grid_auto_columns": null,
            "margin": null,
            "display": null,
            "left": null
          }
        },
        "844b70149179430ea20c0e00de802e68": {
          "model_module": "@jupyter-widgets/controls",
          "model_name": "HBoxModel",
          "state": {
            "_view_name": "HBoxView",
            "_dom_classes": [],
            "_model_name": "HBoxModel",
            "_view_module": "@jupyter-widgets/controls",
            "_model_module_version": "1.5.0",
            "_view_count": null,
            "_view_module_version": "1.5.0",
            "box_style": "",
            "layout": "IPY_MODEL_a52ed624c2114887bd63481dc4ac9888",
            "_model_module": "@jupyter-widgets/controls",
            "children": [
              "IPY_MODEL_76473bd6b8e244dcb45000294dea5d97",
              "IPY_MODEL_afb5462a274045b0a58e69edec6efb54",
              "IPY_MODEL_aa406787f6e84b70987ad23cd2301848"
            ]
          }
        },
        "a52ed624c2114887bd63481dc4ac9888": {
          "model_module": "@jupyter-widgets/base",
          "model_name": "LayoutModel",
          "state": {
            "_view_name": "LayoutView",
            "grid_template_rows": null,
            "right": null,
            "justify_content": null,
            "_view_module": "@jupyter-widgets/base",
            "overflow": null,
            "_model_module_version": "1.2.0",
            "_view_count": null,
            "flex_flow": null,
            "width": null,
            "min_width": null,
            "border": null,
            "align_items": null,
            "bottom": null,
            "_model_module": "@jupyter-widgets/base",
            "top": null,
            "grid_column": null,
            "overflow_y": null,
            "overflow_x": null,
            "grid_auto_flow": null,
            "grid_area": null,
            "grid_template_columns": null,
            "flex": null,
            "_model_name": "LayoutModel",
            "justify_items": null,
            "grid_row": null,
            "max_height": null,
            "align_content": null,
            "visibility": null,
            "align_self": null,
            "height": null,
            "min_height": null,
            "padding": null,
            "grid_auto_rows": null,
            "grid_gap": null,
            "max_width": null,
            "order": null,
            "_view_module_version": "1.2.0",
            "grid_template_areas": null,
            "object_position": null,
            "object_fit": null,
            "grid_auto_columns": null,
            "margin": null,
            "display": null,
            "left": null
          }
        },
        "76473bd6b8e244dcb45000294dea5d97": {
          "model_module": "@jupyter-widgets/controls",
          "model_name": "HTMLModel",
          "state": {
            "_view_name": "HTMLView",
            "style": "IPY_MODEL_2017880ed796487d9411dee5f25925f5",
            "_dom_classes": [],
            "description": "",
            "_model_name": "HTMLModel",
            "placeholder": "​",
            "_view_module": "@jupyter-widgets/controls",
            "_model_module_version": "1.5.0",
            "value": "Epochs 3/10. Running Loss:    0.0031: 100%",
            "_view_count": null,
            "_view_module_version": "1.5.0",
            "description_tooltip": null,
            "_model_module": "@jupyter-widgets/controls",
            "layout": "IPY_MODEL_5659d4b2f08f47ad86136860c8a71d51"
          }
        },
        "afb5462a274045b0a58e69edec6efb54": {
          "model_module": "@jupyter-widgets/controls",
          "model_name": "FloatProgressModel",
          "state": {
            "_view_name": "ProgressView",
            "style": "IPY_MODEL_fae450d5445e4ae8802573f78607ff14",
            "_dom_classes": [],
            "description": "",
            "_model_name": "FloatProgressModel",
            "bar_style": "success",
            "max": 157,
            "_view_module": "@jupyter-widgets/controls",
            "_model_module_version": "1.5.0",
            "value": 157,
            "_view_count": null,
            "_view_module_version": "1.5.0",
            "orientation": "horizontal",
            "min": 0,
            "description_tooltip": null,
            "_model_module": "@jupyter-widgets/controls",
            "layout": "IPY_MODEL_e9828aeaf15346d7b861e5f75c3010a3"
          }
        },
        "aa406787f6e84b70987ad23cd2301848": {
          "model_module": "@jupyter-widgets/controls",
          "model_name": "HTMLModel",
          "state": {
            "_view_name": "HTMLView",
            "style": "IPY_MODEL_1020143f96704fbbaa3feaca60538aeb",
            "_dom_classes": [],
            "description": "",
            "_model_name": "HTMLModel",
            "placeholder": "​",
            "_view_module": "@jupyter-widgets/controls",
            "_model_module_version": "1.5.0",
            "value": " 157/157 [00:20&lt;00:00,  8.71it/s]",
            "_view_count": null,
            "_view_module_version": "1.5.0",
            "description_tooltip": null,
            "_model_module": "@jupyter-widgets/controls",
            "layout": "IPY_MODEL_a5dc21463ec6470389d8d39e397c411d"
          }
        },
        "2017880ed796487d9411dee5f25925f5": {
          "model_module": "@jupyter-widgets/controls",
          "model_name": "DescriptionStyleModel",
          "state": {
            "_view_name": "StyleView",
            "_model_name": "DescriptionStyleModel",
            "description_width": "",
            "_view_module": "@jupyter-widgets/base",
            "_model_module_version": "1.5.0",
            "_view_count": null,
            "_view_module_version": "1.2.0",
            "_model_module": "@jupyter-widgets/controls"
          }
        },
        "5659d4b2f08f47ad86136860c8a71d51": {
          "model_module": "@jupyter-widgets/base",
          "model_name": "LayoutModel",
          "state": {
            "_view_name": "LayoutView",
            "grid_template_rows": null,
            "right": null,
            "justify_content": null,
            "_view_module": "@jupyter-widgets/base",
            "overflow": null,
            "_model_module_version": "1.2.0",
            "_view_count": null,
            "flex_flow": null,
            "width": null,
            "min_width": null,
            "border": null,
            "align_items": null,
            "bottom": null,
            "_model_module": "@jupyter-widgets/base",
            "top": null,
            "grid_column": null,
            "overflow_y": null,
            "overflow_x": null,
            "grid_auto_flow": null,
            "grid_area": null,
            "grid_template_columns": null,
            "flex": null,
            "_model_name": "LayoutModel",
            "justify_items": null,
            "grid_row": null,
            "max_height": null,
            "align_content": null,
            "visibility": null,
            "align_self": null,
            "height": null,
            "min_height": null,
            "padding": null,
            "grid_auto_rows": null,
            "grid_gap": null,
            "max_width": null,
            "order": null,
            "_view_module_version": "1.2.0",
            "grid_template_areas": null,
            "object_position": null,
            "object_fit": null,
            "grid_auto_columns": null,
            "margin": null,
            "display": null,
            "left": null
          }
        },
        "fae450d5445e4ae8802573f78607ff14": {
          "model_module": "@jupyter-widgets/controls",
          "model_name": "ProgressStyleModel",
          "state": {
            "_view_name": "StyleView",
            "_model_name": "ProgressStyleModel",
            "description_width": "",
            "_view_module": "@jupyter-widgets/base",
            "_model_module_version": "1.5.0",
            "_view_count": null,
            "_view_module_version": "1.2.0",
            "bar_color": null,
            "_model_module": "@jupyter-widgets/controls"
          }
        },
        "e9828aeaf15346d7b861e5f75c3010a3": {
          "model_module": "@jupyter-widgets/base",
          "model_name": "LayoutModel",
          "state": {
            "_view_name": "LayoutView",
            "grid_template_rows": null,
            "right": null,
            "justify_content": null,
            "_view_module": "@jupyter-widgets/base",
            "overflow": null,
            "_model_module_version": "1.2.0",
            "_view_count": null,
            "flex_flow": null,
            "width": null,
            "min_width": null,
            "border": null,
            "align_items": null,
            "bottom": null,
            "_model_module": "@jupyter-widgets/base",
            "top": null,
            "grid_column": null,
            "overflow_y": null,
            "overflow_x": null,
            "grid_auto_flow": null,
            "grid_area": null,
            "grid_template_columns": null,
            "flex": null,
            "_model_name": "LayoutModel",
            "justify_items": null,
            "grid_row": null,
            "max_height": null,
            "align_content": null,
            "visibility": null,
            "align_self": null,
            "height": null,
            "min_height": null,
            "padding": null,
            "grid_auto_rows": null,
            "grid_gap": null,
            "max_width": null,
            "order": null,
            "_view_module_version": "1.2.0",
            "grid_template_areas": null,
            "object_position": null,
            "object_fit": null,
            "grid_auto_columns": null,
            "margin": null,
            "display": null,
            "left": null
          }
        },
        "1020143f96704fbbaa3feaca60538aeb": {
          "model_module": "@jupyter-widgets/controls",
          "model_name": "DescriptionStyleModel",
          "state": {
            "_view_name": "StyleView",
            "_model_name": "DescriptionStyleModel",
            "description_width": "",
            "_view_module": "@jupyter-widgets/base",
            "_model_module_version": "1.5.0",
            "_view_count": null,
            "_view_module_version": "1.2.0",
            "_model_module": "@jupyter-widgets/controls"
          }
        },
        "a5dc21463ec6470389d8d39e397c411d": {
          "model_module": "@jupyter-widgets/base",
          "model_name": "LayoutModel",
          "state": {
            "_view_name": "LayoutView",
            "grid_template_rows": null,
            "right": null,
            "justify_content": null,
            "_view_module": "@jupyter-widgets/base",
            "overflow": null,
            "_model_module_version": "1.2.0",
            "_view_count": null,
            "flex_flow": null,
            "width": null,
            "min_width": null,
            "border": null,
            "align_items": null,
            "bottom": null,
            "_model_module": "@jupyter-widgets/base",
            "top": null,
            "grid_column": null,
            "overflow_y": null,
            "overflow_x": null,
            "grid_auto_flow": null,
            "grid_area": null,
            "grid_template_columns": null,
            "flex": null,
            "_model_name": "LayoutModel",
            "justify_items": null,
            "grid_row": null,
            "max_height": null,
            "align_content": null,
            "visibility": null,
            "align_self": null,
            "height": null,
            "min_height": null,
            "padding": null,
            "grid_auto_rows": null,
            "grid_gap": null,
            "max_width": null,
            "order": null,
            "_view_module_version": "1.2.0",
            "grid_template_areas": null,
            "object_position": null,
            "object_fit": null,
            "grid_auto_columns": null,
            "margin": null,
            "display": null,
            "left": null
          }
        },
        "810f388f7c3947188b0ed8cc8eb15d39": {
          "model_module": "@jupyter-widgets/controls",
          "model_name": "HBoxModel",
          "state": {
            "_view_name": "HBoxView",
            "_dom_classes": [],
            "_model_name": "HBoxModel",
            "_view_module": "@jupyter-widgets/controls",
            "_model_module_version": "1.5.0",
            "_view_count": null,
            "_view_module_version": "1.5.0",
            "box_style": "",
            "layout": "IPY_MODEL_a161ad4110d64e5099d7af6ab3475fe8",
            "_model_module": "@jupyter-widgets/controls",
            "children": [
              "IPY_MODEL_2393023480254b5c9f0f814a5ff46eda",
              "IPY_MODEL_203f2790e31948aeba76b2a3aba72e30",
              "IPY_MODEL_0ec4027a1e3d4d5f966a560fdb8fdb88"
            ]
          }
        },
        "a161ad4110d64e5099d7af6ab3475fe8": {
          "model_module": "@jupyter-widgets/base",
          "model_name": "LayoutModel",
          "state": {
            "_view_name": "LayoutView",
            "grid_template_rows": null,
            "right": null,
            "justify_content": null,
            "_view_module": "@jupyter-widgets/base",
            "overflow": null,
            "_model_module_version": "1.2.0",
            "_view_count": null,
            "flex_flow": null,
            "width": null,
            "min_width": null,
            "border": null,
            "align_items": null,
            "bottom": null,
            "_model_module": "@jupyter-widgets/base",
            "top": null,
            "grid_column": null,
            "overflow_y": null,
            "overflow_x": null,
            "grid_auto_flow": null,
            "grid_area": null,
            "grid_template_columns": null,
            "flex": null,
            "_model_name": "LayoutModel",
            "justify_items": null,
            "grid_row": null,
            "max_height": null,
            "align_content": null,
            "visibility": null,
            "align_self": null,
            "height": null,
            "min_height": null,
            "padding": null,
            "grid_auto_rows": null,
            "grid_gap": null,
            "max_width": null,
            "order": null,
            "_view_module_version": "1.2.0",
            "grid_template_areas": null,
            "object_position": null,
            "object_fit": null,
            "grid_auto_columns": null,
            "margin": null,
            "display": null,
            "left": null
          }
        },
        "2393023480254b5c9f0f814a5ff46eda": {
          "model_module": "@jupyter-widgets/controls",
          "model_name": "HTMLModel",
          "state": {
            "_view_name": "HTMLView",
            "style": "IPY_MODEL_2209b60d56114ca39d22bdde2372bfb9",
            "_dom_classes": [],
            "description": "",
            "_model_name": "HTMLModel",
            "placeholder": "​",
            "_view_module": "@jupyter-widgets/controls",
            "_model_module_version": "1.5.0",
            "value": "Epochs 4/10. Running Loss:    0.0006: 100%",
            "_view_count": null,
            "_view_module_version": "1.5.0",
            "description_tooltip": null,
            "_model_module": "@jupyter-widgets/controls",
            "layout": "IPY_MODEL_a44620ba89f54ff6936c7c754e3bcfb2"
          }
        },
        "203f2790e31948aeba76b2a3aba72e30": {
          "model_module": "@jupyter-widgets/controls",
          "model_name": "FloatProgressModel",
          "state": {
            "_view_name": "ProgressView",
            "style": "IPY_MODEL_44ca8bea7511444db745256f9c2983ad",
            "_dom_classes": [],
            "description": "",
            "_model_name": "FloatProgressModel",
            "bar_style": "success",
            "max": 157,
            "_view_module": "@jupyter-widgets/controls",
            "_model_module_version": "1.5.0",
            "value": 157,
            "_view_count": null,
            "_view_module_version": "1.5.0",
            "orientation": "horizontal",
            "min": 0,
            "description_tooltip": null,
            "_model_module": "@jupyter-widgets/controls",
            "layout": "IPY_MODEL_c5960ebf69fd4e95b457618fec88f257"
          }
        },
        "0ec4027a1e3d4d5f966a560fdb8fdb88": {
          "model_module": "@jupyter-widgets/controls",
          "model_name": "HTMLModel",
          "state": {
            "_view_name": "HTMLView",
            "style": "IPY_MODEL_c3bfde3c5e0942c7bea6af9638368280",
            "_dom_classes": [],
            "description": "",
            "_model_name": "HTMLModel",
            "placeholder": "​",
            "_view_module": "@jupyter-widgets/controls",
            "_model_module_version": "1.5.0",
            "value": " 157/157 [00:20&lt;00:00,  8.79it/s]",
            "_view_count": null,
            "_view_module_version": "1.5.0",
            "description_tooltip": null,
            "_model_module": "@jupyter-widgets/controls",
            "layout": "IPY_MODEL_93048fd60379405898e897cbec70ceca"
          }
        },
        "2209b60d56114ca39d22bdde2372bfb9": {
          "model_module": "@jupyter-widgets/controls",
          "model_name": "DescriptionStyleModel",
          "state": {
            "_view_name": "StyleView",
            "_model_name": "DescriptionStyleModel",
            "description_width": "",
            "_view_module": "@jupyter-widgets/base",
            "_model_module_version": "1.5.0",
            "_view_count": null,
            "_view_module_version": "1.2.0",
            "_model_module": "@jupyter-widgets/controls"
          }
        },
        "a44620ba89f54ff6936c7c754e3bcfb2": {
          "model_module": "@jupyter-widgets/base",
          "model_name": "LayoutModel",
          "state": {
            "_view_name": "LayoutView",
            "grid_template_rows": null,
            "right": null,
            "justify_content": null,
            "_view_module": "@jupyter-widgets/base",
            "overflow": null,
            "_model_module_version": "1.2.0",
            "_view_count": null,
            "flex_flow": null,
            "width": null,
            "min_width": null,
            "border": null,
            "align_items": null,
            "bottom": null,
            "_model_module": "@jupyter-widgets/base",
            "top": null,
            "grid_column": null,
            "overflow_y": null,
            "overflow_x": null,
            "grid_auto_flow": null,
            "grid_area": null,
            "grid_template_columns": null,
            "flex": null,
            "_model_name": "LayoutModel",
            "justify_items": null,
            "grid_row": null,
            "max_height": null,
            "align_content": null,
            "visibility": null,
            "align_self": null,
            "height": null,
            "min_height": null,
            "padding": null,
            "grid_auto_rows": null,
            "grid_gap": null,
            "max_width": null,
            "order": null,
            "_view_module_version": "1.2.0",
            "grid_template_areas": null,
            "object_position": null,
            "object_fit": null,
            "grid_auto_columns": null,
            "margin": null,
            "display": null,
            "left": null
          }
        },
        "44ca8bea7511444db745256f9c2983ad": {
          "model_module": "@jupyter-widgets/controls",
          "model_name": "ProgressStyleModel",
          "state": {
            "_view_name": "StyleView",
            "_model_name": "ProgressStyleModel",
            "description_width": "",
            "_view_module": "@jupyter-widgets/base",
            "_model_module_version": "1.5.0",
            "_view_count": null,
            "_view_module_version": "1.2.0",
            "bar_color": null,
            "_model_module": "@jupyter-widgets/controls"
          }
        },
        "c5960ebf69fd4e95b457618fec88f257": {
          "model_module": "@jupyter-widgets/base",
          "model_name": "LayoutModel",
          "state": {
            "_view_name": "LayoutView",
            "grid_template_rows": null,
            "right": null,
            "justify_content": null,
            "_view_module": "@jupyter-widgets/base",
            "overflow": null,
            "_model_module_version": "1.2.0",
            "_view_count": null,
            "flex_flow": null,
            "width": null,
            "min_width": null,
            "border": null,
            "align_items": null,
            "bottom": null,
            "_model_module": "@jupyter-widgets/base",
            "top": null,
            "grid_column": null,
            "overflow_y": null,
            "overflow_x": null,
            "grid_auto_flow": null,
            "grid_area": null,
            "grid_template_columns": null,
            "flex": null,
            "_model_name": "LayoutModel",
            "justify_items": null,
            "grid_row": null,
            "max_height": null,
            "align_content": null,
            "visibility": null,
            "align_self": null,
            "height": null,
            "min_height": null,
            "padding": null,
            "grid_auto_rows": null,
            "grid_gap": null,
            "max_width": null,
            "order": null,
            "_view_module_version": "1.2.0",
            "grid_template_areas": null,
            "object_position": null,
            "object_fit": null,
            "grid_auto_columns": null,
            "margin": null,
            "display": null,
            "left": null
          }
        },
        "c3bfde3c5e0942c7bea6af9638368280": {
          "model_module": "@jupyter-widgets/controls",
          "model_name": "DescriptionStyleModel",
          "state": {
            "_view_name": "StyleView",
            "_model_name": "DescriptionStyleModel",
            "description_width": "",
            "_view_module": "@jupyter-widgets/base",
            "_model_module_version": "1.5.0",
            "_view_count": null,
            "_view_module_version": "1.2.0",
            "_model_module": "@jupyter-widgets/controls"
          }
        },
        "93048fd60379405898e897cbec70ceca": {
          "model_module": "@jupyter-widgets/base",
          "model_name": "LayoutModel",
          "state": {
            "_view_name": "LayoutView",
            "grid_template_rows": null,
            "right": null,
            "justify_content": null,
            "_view_module": "@jupyter-widgets/base",
            "overflow": null,
            "_model_module_version": "1.2.0",
            "_view_count": null,
            "flex_flow": null,
            "width": null,
            "min_width": null,
            "border": null,
            "align_items": null,
            "bottom": null,
            "_model_module": "@jupyter-widgets/base",
            "top": null,
            "grid_column": null,
            "overflow_y": null,
            "overflow_x": null,
            "grid_auto_flow": null,
            "grid_area": null,
            "grid_template_columns": null,
            "flex": null,
            "_model_name": "LayoutModel",
            "justify_items": null,
            "grid_row": null,
            "max_height": null,
            "align_content": null,
            "visibility": null,
            "align_self": null,
            "height": null,
            "min_height": null,
            "padding": null,
            "grid_auto_rows": null,
            "grid_gap": null,
            "max_width": null,
            "order": null,
            "_view_module_version": "1.2.0",
            "grid_template_areas": null,
            "object_position": null,
            "object_fit": null,
            "grid_auto_columns": null,
            "margin": null,
            "display": null,
            "left": null
          }
        },
        "4880060f30e3405d9b3ea7aa356f978f": {
          "model_module": "@jupyter-widgets/controls",
          "model_name": "HBoxModel",
          "state": {
            "_view_name": "HBoxView",
            "_dom_classes": [],
            "_model_name": "HBoxModel",
            "_view_module": "@jupyter-widgets/controls",
            "_model_module_version": "1.5.0",
            "_view_count": null,
            "_view_module_version": "1.5.0",
            "box_style": "",
            "layout": "IPY_MODEL_5c0b9dd461434d5cb6e660dbbe99b202",
            "_model_module": "@jupyter-widgets/controls",
            "children": [
              "IPY_MODEL_2c34836c82344934b9bbf454cb130b88",
              "IPY_MODEL_9ed9e53a78a94aba873b98efec2391d8",
              "IPY_MODEL_05ad17ee458c4c9b887f0b9a2edcb45c"
            ]
          }
        },
        "5c0b9dd461434d5cb6e660dbbe99b202": {
          "model_module": "@jupyter-widgets/base",
          "model_name": "LayoutModel",
          "state": {
            "_view_name": "LayoutView",
            "grid_template_rows": null,
            "right": null,
            "justify_content": null,
            "_view_module": "@jupyter-widgets/base",
            "overflow": null,
            "_model_module_version": "1.2.0",
            "_view_count": null,
            "flex_flow": null,
            "width": null,
            "min_width": null,
            "border": null,
            "align_items": null,
            "bottom": null,
            "_model_module": "@jupyter-widgets/base",
            "top": null,
            "grid_column": null,
            "overflow_y": null,
            "overflow_x": null,
            "grid_auto_flow": null,
            "grid_area": null,
            "grid_template_columns": null,
            "flex": null,
            "_model_name": "LayoutModel",
            "justify_items": null,
            "grid_row": null,
            "max_height": null,
            "align_content": null,
            "visibility": null,
            "align_self": null,
            "height": null,
            "min_height": null,
            "padding": null,
            "grid_auto_rows": null,
            "grid_gap": null,
            "max_width": null,
            "order": null,
            "_view_module_version": "1.2.0",
            "grid_template_areas": null,
            "object_position": null,
            "object_fit": null,
            "grid_auto_columns": null,
            "margin": null,
            "display": null,
            "left": null
          }
        },
        "2c34836c82344934b9bbf454cb130b88": {
          "model_module": "@jupyter-widgets/controls",
          "model_name": "HTMLModel",
          "state": {
            "_view_name": "HTMLView",
            "style": "IPY_MODEL_1790120fbda74e85a2d58bd38ba38c53",
            "_dom_classes": [],
            "description": "",
            "_model_name": "HTMLModel",
            "placeholder": "​",
            "_view_module": "@jupyter-widgets/controls",
            "_model_module_version": "1.5.0",
            "value": "Epochs 5/10. Running Loss:    0.0008: 100%",
            "_view_count": null,
            "_view_module_version": "1.5.0",
            "description_tooltip": null,
            "_model_module": "@jupyter-widgets/controls",
            "layout": "IPY_MODEL_fc4fde58dda447c684fc8b8068a18a88"
          }
        },
        "9ed9e53a78a94aba873b98efec2391d8": {
          "model_module": "@jupyter-widgets/controls",
          "model_name": "FloatProgressModel",
          "state": {
            "_view_name": "ProgressView",
            "style": "IPY_MODEL_7a25be5384f441f1ae3229a9c94857f4",
            "_dom_classes": [],
            "description": "",
            "_model_name": "FloatProgressModel",
            "bar_style": "success",
            "max": 157,
            "_view_module": "@jupyter-widgets/controls",
            "_model_module_version": "1.5.0",
            "value": 157,
            "_view_count": null,
            "_view_module_version": "1.5.0",
            "orientation": "horizontal",
            "min": 0,
            "description_tooltip": null,
            "_model_module": "@jupyter-widgets/controls",
            "layout": "IPY_MODEL_510fed2d4d2245dfa0d0be568300edfe"
          }
        },
        "05ad17ee458c4c9b887f0b9a2edcb45c": {
          "model_module": "@jupyter-widgets/controls",
          "model_name": "HTMLModel",
          "state": {
            "_view_name": "HTMLView",
            "style": "IPY_MODEL_b8f4874902be4419b1e5a647cbc33789",
            "_dom_classes": [],
            "description": "",
            "_model_name": "HTMLModel",
            "placeholder": "​",
            "_view_module": "@jupyter-widgets/controls",
            "_model_module_version": "1.5.0",
            "value": " 157/157 [00:20&lt;00:00,  8.59it/s]",
            "_view_count": null,
            "_view_module_version": "1.5.0",
            "description_tooltip": null,
            "_model_module": "@jupyter-widgets/controls",
            "layout": "IPY_MODEL_5da7bf792d2e4bd1801f4b27078e0446"
          }
        },
        "1790120fbda74e85a2d58bd38ba38c53": {
          "model_module": "@jupyter-widgets/controls",
          "model_name": "DescriptionStyleModel",
          "state": {
            "_view_name": "StyleView",
            "_model_name": "DescriptionStyleModel",
            "description_width": "",
            "_view_module": "@jupyter-widgets/base",
            "_model_module_version": "1.5.0",
            "_view_count": null,
            "_view_module_version": "1.2.0",
            "_model_module": "@jupyter-widgets/controls"
          }
        },
        "fc4fde58dda447c684fc8b8068a18a88": {
          "model_module": "@jupyter-widgets/base",
          "model_name": "LayoutModel",
          "state": {
            "_view_name": "LayoutView",
            "grid_template_rows": null,
            "right": null,
            "justify_content": null,
            "_view_module": "@jupyter-widgets/base",
            "overflow": null,
            "_model_module_version": "1.2.0",
            "_view_count": null,
            "flex_flow": null,
            "width": null,
            "min_width": null,
            "border": null,
            "align_items": null,
            "bottom": null,
            "_model_module": "@jupyter-widgets/base",
            "top": null,
            "grid_column": null,
            "overflow_y": null,
            "overflow_x": null,
            "grid_auto_flow": null,
            "grid_area": null,
            "grid_template_columns": null,
            "flex": null,
            "_model_name": "LayoutModel",
            "justify_items": null,
            "grid_row": null,
            "max_height": null,
            "align_content": null,
            "visibility": null,
            "align_self": null,
            "height": null,
            "min_height": null,
            "padding": null,
            "grid_auto_rows": null,
            "grid_gap": null,
            "max_width": null,
            "order": null,
            "_view_module_version": "1.2.0",
            "grid_template_areas": null,
            "object_position": null,
            "object_fit": null,
            "grid_auto_columns": null,
            "margin": null,
            "display": null,
            "left": null
          }
        },
        "7a25be5384f441f1ae3229a9c94857f4": {
          "model_module": "@jupyter-widgets/controls",
          "model_name": "ProgressStyleModel",
          "state": {
            "_view_name": "StyleView",
            "_model_name": "ProgressStyleModel",
            "description_width": "",
            "_view_module": "@jupyter-widgets/base",
            "_model_module_version": "1.5.0",
            "_view_count": null,
            "_view_module_version": "1.2.0",
            "bar_color": null,
            "_model_module": "@jupyter-widgets/controls"
          }
        },
        "510fed2d4d2245dfa0d0be568300edfe": {
          "model_module": "@jupyter-widgets/base",
          "model_name": "LayoutModel",
          "state": {
            "_view_name": "LayoutView",
            "grid_template_rows": null,
            "right": null,
            "justify_content": null,
            "_view_module": "@jupyter-widgets/base",
            "overflow": null,
            "_model_module_version": "1.2.0",
            "_view_count": null,
            "flex_flow": null,
            "width": null,
            "min_width": null,
            "border": null,
            "align_items": null,
            "bottom": null,
            "_model_module": "@jupyter-widgets/base",
            "top": null,
            "grid_column": null,
            "overflow_y": null,
            "overflow_x": null,
            "grid_auto_flow": null,
            "grid_area": null,
            "grid_template_columns": null,
            "flex": null,
            "_model_name": "LayoutModel",
            "justify_items": null,
            "grid_row": null,
            "max_height": null,
            "align_content": null,
            "visibility": null,
            "align_self": null,
            "height": null,
            "min_height": null,
            "padding": null,
            "grid_auto_rows": null,
            "grid_gap": null,
            "max_width": null,
            "order": null,
            "_view_module_version": "1.2.0",
            "grid_template_areas": null,
            "object_position": null,
            "object_fit": null,
            "grid_auto_columns": null,
            "margin": null,
            "display": null,
            "left": null
          }
        },
        "b8f4874902be4419b1e5a647cbc33789": {
          "model_module": "@jupyter-widgets/controls",
          "model_name": "DescriptionStyleModel",
          "state": {
            "_view_name": "StyleView",
            "_model_name": "DescriptionStyleModel",
            "description_width": "",
            "_view_module": "@jupyter-widgets/base",
            "_model_module_version": "1.5.0",
            "_view_count": null,
            "_view_module_version": "1.2.0",
            "_model_module": "@jupyter-widgets/controls"
          }
        },
        "5da7bf792d2e4bd1801f4b27078e0446": {
          "model_module": "@jupyter-widgets/base",
          "model_name": "LayoutModel",
          "state": {
            "_view_name": "LayoutView",
            "grid_template_rows": null,
            "right": null,
            "justify_content": null,
            "_view_module": "@jupyter-widgets/base",
            "overflow": null,
            "_model_module_version": "1.2.0",
            "_view_count": null,
            "flex_flow": null,
            "width": null,
            "min_width": null,
            "border": null,
            "align_items": null,
            "bottom": null,
            "_model_module": "@jupyter-widgets/base",
            "top": null,
            "grid_column": null,
            "overflow_y": null,
            "overflow_x": null,
            "grid_auto_flow": null,
            "grid_area": null,
            "grid_template_columns": null,
            "flex": null,
            "_model_name": "LayoutModel",
            "justify_items": null,
            "grid_row": null,
            "max_height": null,
            "align_content": null,
            "visibility": null,
            "align_self": null,
            "height": null,
            "min_height": null,
            "padding": null,
            "grid_auto_rows": null,
            "grid_gap": null,
            "max_width": null,
            "order": null,
            "_view_module_version": "1.2.0",
            "grid_template_areas": null,
            "object_position": null,
            "object_fit": null,
            "grid_auto_columns": null,
            "margin": null,
            "display": null,
            "left": null
          }
        },
        "10d9c0a258774ae19e91585b82da26d1": {
          "model_module": "@jupyter-widgets/controls",
          "model_name": "HBoxModel",
          "state": {
            "_view_name": "HBoxView",
            "_dom_classes": [],
            "_model_name": "HBoxModel",
            "_view_module": "@jupyter-widgets/controls",
            "_model_module_version": "1.5.0",
            "_view_count": null,
            "_view_module_version": "1.5.0",
            "box_style": "",
            "layout": "IPY_MODEL_e5cc90ec55564a469c458d62cce2d11f",
            "_model_module": "@jupyter-widgets/controls",
            "children": [
              "IPY_MODEL_9faf9826885144b2bcd91f96b59309e1",
              "IPY_MODEL_5cafaa62a4d94f92aa6f1e4ced672471",
              "IPY_MODEL_2678490cd7254f299c2a6630789ce0eb"
            ]
          }
        },
        "e5cc90ec55564a469c458d62cce2d11f": {
          "model_module": "@jupyter-widgets/base",
          "model_name": "LayoutModel",
          "state": {
            "_view_name": "LayoutView",
            "grid_template_rows": null,
            "right": null,
            "justify_content": null,
            "_view_module": "@jupyter-widgets/base",
            "overflow": null,
            "_model_module_version": "1.2.0",
            "_view_count": null,
            "flex_flow": null,
            "width": null,
            "min_width": null,
            "border": null,
            "align_items": null,
            "bottom": null,
            "_model_module": "@jupyter-widgets/base",
            "top": null,
            "grid_column": null,
            "overflow_y": null,
            "overflow_x": null,
            "grid_auto_flow": null,
            "grid_area": null,
            "grid_template_columns": null,
            "flex": null,
            "_model_name": "LayoutModel",
            "justify_items": null,
            "grid_row": null,
            "max_height": null,
            "align_content": null,
            "visibility": null,
            "align_self": null,
            "height": null,
            "min_height": null,
            "padding": null,
            "grid_auto_rows": null,
            "grid_gap": null,
            "max_width": null,
            "order": null,
            "_view_module_version": "1.2.0",
            "grid_template_areas": null,
            "object_position": null,
            "object_fit": null,
            "grid_auto_columns": null,
            "margin": null,
            "display": null,
            "left": null
          }
        },
        "9faf9826885144b2bcd91f96b59309e1": {
          "model_module": "@jupyter-widgets/controls",
          "model_name": "HTMLModel",
          "state": {
            "_view_name": "HTMLView",
            "style": "IPY_MODEL_e17603f15bc74856afad419dee7b777b",
            "_dom_classes": [],
            "description": "",
            "_model_name": "HTMLModel",
            "placeholder": "​",
            "_view_module": "@jupyter-widgets/controls",
            "_model_module_version": "1.5.0",
            "value": "Epochs 6/10. Running Loss:    0.0005: 100%",
            "_view_count": null,
            "_view_module_version": "1.5.0",
            "description_tooltip": null,
            "_model_module": "@jupyter-widgets/controls",
            "layout": "IPY_MODEL_3f6f88d150af44a39171780147068035"
          }
        },
        "5cafaa62a4d94f92aa6f1e4ced672471": {
          "model_module": "@jupyter-widgets/controls",
          "model_name": "FloatProgressModel",
          "state": {
            "_view_name": "ProgressView",
            "style": "IPY_MODEL_2f8108299b1943a895b61e4144a55709",
            "_dom_classes": [],
            "description": "",
            "_model_name": "FloatProgressModel",
            "bar_style": "success",
            "max": 157,
            "_view_module": "@jupyter-widgets/controls",
            "_model_module_version": "1.5.0",
            "value": 157,
            "_view_count": null,
            "_view_module_version": "1.5.0",
            "orientation": "horizontal",
            "min": 0,
            "description_tooltip": null,
            "_model_module": "@jupyter-widgets/controls",
            "layout": "IPY_MODEL_dad14697f3f940ebb327cdf8ae4f6a97"
          }
        },
        "2678490cd7254f299c2a6630789ce0eb": {
          "model_module": "@jupyter-widgets/controls",
          "model_name": "HTMLModel",
          "state": {
            "_view_name": "HTMLView",
            "style": "IPY_MODEL_1e80f94a30364bb69a95e52f75cefb24",
            "_dom_classes": [],
            "description": "",
            "_model_name": "HTMLModel",
            "placeholder": "​",
            "_view_module": "@jupyter-widgets/controls",
            "_model_module_version": "1.5.0",
            "value": " 157/157 [00:20&lt;00:00,  8.77it/s]",
            "_view_count": null,
            "_view_module_version": "1.5.0",
            "description_tooltip": null,
            "_model_module": "@jupyter-widgets/controls",
            "layout": "IPY_MODEL_3e47b56b1f5542dc906cc01cf0e92702"
          }
        },
        "e17603f15bc74856afad419dee7b777b": {
          "model_module": "@jupyter-widgets/controls",
          "model_name": "DescriptionStyleModel",
          "state": {
            "_view_name": "StyleView",
            "_model_name": "DescriptionStyleModel",
            "description_width": "",
            "_view_module": "@jupyter-widgets/base",
            "_model_module_version": "1.5.0",
            "_view_count": null,
            "_view_module_version": "1.2.0",
            "_model_module": "@jupyter-widgets/controls"
          }
        },
        "3f6f88d150af44a39171780147068035": {
          "model_module": "@jupyter-widgets/base",
          "model_name": "LayoutModel",
          "state": {
            "_view_name": "LayoutView",
            "grid_template_rows": null,
            "right": null,
            "justify_content": null,
            "_view_module": "@jupyter-widgets/base",
            "overflow": null,
            "_model_module_version": "1.2.0",
            "_view_count": null,
            "flex_flow": null,
            "width": null,
            "min_width": null,
            "border": null,
            "align_items": null,
            "bottom": null,
            "_model_module": "@jupyter-widgets/base",
            "top": null,
            "grid_column": null,
            "overflow_y": null,
            "overflow_x": null,
            "grid_auto_flow": null,
            "grid_area": null,
            "grid_template_columns": null,
            "flex": null,
            "_model_name": "LayoutModel",
            "justify_items": null,
            "grid_row": null,
            "max_height": null,
            "align_content": null,
            "visibility": null,
            "align_self": null,
            "height": null,
            "min_height": null,
            "padding": null,
            "grid_auto_rows": null,
            "grid_gap": null,
            "max_width": null,
            "order": null,
            "_view_module_version": "1.2.0",
            "grid_template_areas": null,
            "object_position": null,
            "object_fit": null,
            "grid_auto_columns": null,
            "margin": null,
            "display": null,
            "left": null
          }
        },
        "2f8108299b1943a895b61e4144a55709": {
          "model_module": "@jupyter-widgets/controls",
          "model_name": "ProgressStyleModel",
          "state": {
            "_view_name": "StyleView",
            "_model_name": "ProgressStyleModel",
            "description_width": "",
            "_view_module": "@jupyter-widgets/base",
            "_model_module_version": "1.5.0",
            "_view_count": null,
            "_view_module_version": "1.2.0",
            "bar_color": null,
            "_model_module": "@jupyter-widgets/controls"
          }
        },
        "dad14697f3f940ebb327cdf8ae4f6a97": {
          "model_module": "@jupyter-widgets/base",
          "model_name": "LayoutModel",
          "state": {
            "_view_name": "LayoutView",
            "grid_template_rows": null,
            "right": null,
            "justify_content": null,
            "_view_module": "@jupyter-widgets/base",
            "overflow": null,
            "_model_module_version": "1.2.0",
            "_view_count": null,
            "flex_flow": null,
            "width": null,
            "min_width": null,
            "border": null,
            "align_items": null,
            "bottom": null,
            "_model_module": "@jupyter-widgets/base",
            "top": null,
            "grid_column": null,
            "overflow_y": null,
            "overflow_x": null,
            "grid_auto_flow": null,
            "grid_area": null,
            "grid_template_columns": null,
            "flex": null,
            "_model_name": "LayoutModel",
            "justify_items": null,
            "grid_row": null,
            "max_height": null,
            "align_content": null,
            "visibility": null,
            "align_self": null,
            "height": null,
            "min_height": null,
            "padding": null,
            "grid_auto_rows": null,
            "grid_gap": null,
            "max_width": null,
            "order": null,
            "_view_module_version": "1.2.0",
            "grid_template_areas": null,
            "object_position": null,
            "object_fit": null,
            "grid_auto_columns": null,
            "margin": null,
            "display": null,
            "left": null
          }
        },
        "1e80f94a30364bb69a95e52f75cefb24": {
          "model_module": "@jupyter-widgets/controls",
          "model_name": "DescriptionStyleModel",
          "state": {
            "_view_name": "StyleView",
            "_model_name": "DescriptionStyleModel",
            "description_width": "",
            "_view_module": "@jupyter-widgets/base",
            "_model_module_version": "1.5.0",
            "_view_count": null,
            "_view_module_version": "1.2.0",
            "_model_module": "@jupyter-widgets/controls"
          }
        },
        "3e47b56b1f5542dc906cc01cf0e92702": {
          "model_module": "@jupyter-widgets/base",
          "model_name": "LayoutModel",
          "state": {
            "_view_name": "LayoutView",
            "grid_template_rows": null,
            "right": null,
            "justify_content": null,
            "_view_module": "@jupyter-widgets/base",
            "overflow": null,
            "_model_module_version": "1.2.0",
            "_view_count": null,
            "flex_flow": null,
            "width": null,
            "min_width": null,
            "border": null,
            "align_items": null,
            "bottom": null,
            "_model_module": "@jupyter-widgets/base",
            "top": null,
            "grid_column": null,
            "overflow_y": null,
            "overflow_x": null,
            "grid_auto_flow": null,
            "grid_area": null,
            "grid_template_columns": null,
            "flex": null,
            "_model_name": "LayoutModel",
            "justify_items": null,
            "grid_row": null,
            "max_height": null,
            "align_content": null,
            "visibility": null,
            "align_self": null,
            "height": null,
            "min_height": null,
            "padding": null,
            "grid_auto_rows": null,
            "grid_gap": null,
            "max_width": null,
            "order": null,
            "_view_module_version": "1.2.0",
            "grid_template_areas": null,
            "object_position": null,
            "object_fit": null,
            "grid_auto_columns": null,
            "margin": null,
            "display": null,
            "left": null
          }
        },
        "523ab356b934421ca1de5dbc2f15ef3e": {
          "model_module": "@jupyter-widgets/controls",
          "model_name": "HBoxModel",
          "state": {
            "_view_name": "HBoxView",
            "_dom_classes": [],
            "_model_name": "HBoxModel",
            "_view_module": "@jupyter-widgets/controls",
            "_model_module_version": "1.5.0",
            "_view_count": null,
            "_view_module_version": "1.5.0",
            "box_style": "",
            "layout": "IPY_MODEL_aa86545e694e4558a1b57542a3e5a8e4",
            "_model_module": "@jupyter-widgets/controls",
            "children": [
              "IPY_MODEL_cab60014fa8b423d81e31ee225911cb5",
              "IPY_MODEL_9a79e8b7c2044135b08caa101f0e53c4",
              "IPY_MODEL_cc0cd482464949098ff492062c5e2e04"
            ]
          }
        },
        "aa86545e694e4558a1b57542a3e5a8e4": {
          "model_module": "@jupyter-widgets/base",
          "model_name": "LayoutModel",
          "state": {
            "_view_name": "LayoutView",
            "grid_template_rows": null,
            "right": null,
            "justify_content": null,
            "_view_module": "@jupyter-widgets/base",
            "overflow": null,
            "_model_module_version": "1.2.0",
            "_view_count": null,
            "flex_flow": null,
            "width": null,
            "min_width": null,
            "border": null,
            "align_items": null,
            "bottom": null,
            "_model_module": "@jupyter-widgets/base",
            "top": null,
            "grid_column": null,
            "overflow_y": null,
            "overflow_x": null,
            "grid_auto_flow": null,
            "grid_area": null,
            "grid_template_columns": null,
            "flex": null,
            "_model_name": "LayoutModel",
            "justify_items": null,
            "grid_row": null,
            "max_height": null,
            "align_content": null,
            "visibility": null,
            "align_self": null,
            "height": null,
            "min_height": null,
            "padding": null,
            "grid_auto_rows": null,
            "grid_gap": null,
            "max_width": null,
            "order": null,
            "_view_module_version": "1.2.0",
            "grid_template_areas": null,
            "object_position": null,
            "object_fit": null,
            "grid_auto_columns": null,
            "margin": null,
            "display": null,
            "left": null
          }
        },
        "cab60014fa8b423d81e31ee225911cb5": {
          "model_module": "@jupyter-widgets/controls",
          "model_name": "HTMLModel",
          "state": {
            "_view_name": "HTMLView",
            "style": "IPY_MODEL_8c787ad792fb4cfd8a5e745dd199e2ce",
            "_dom_classes": [],
            "description": "",
            "_model_name": "HTMLModel",
            "placeholder": "​",
            "_view_module": "@jupyter-widgets/controls",
            "_model_module_version": "1.5.0",
            "value": "Epochs 7/10. Running Loss:    0.0003: 100%",
            "_view_count": null,
            "_view_module_version": "1.5.0",
            "description_tooltip": null,
            "_model_module": "@jupyter-widgets/controls",
            "layout": "IPY_MODEL_29287850ae554c9a89e65054d965042d"
          }
        },
        "9a79e8b7c2044135b08caa101f0e53c4": {
          "model_module": "@jupyter-widgets/controls",
          "model_name": "FloatProgressModel",
          "state": {
            "_view_name": "ProgressView",
            "style": "IPY_MODEL_ff1fcf465a5b4d09a181b151b90bb7d5",
            "_dom_classes": [],
            "description": "",
            "_model_name": "FloatProgressModel",
            "bar_style": "success",
            "max": 157,
            "_view_module": "@jupyter-widgets/controls",
            "_model_module_version": "1.5.0",
            "value": 157,
            "_view_count": null,
            "_view_module_version": "1.5.0",
            "orientation": "horizontal",
            "min": 0,
            "description_tooltip": null,
            "_model_module": "@jupyter-widgets/controls",
            "layout": "IPY_MODEL_f1905e9f2a0b4a58b1b0118a56889369"
          }
        },
        "cc0cd482464949098ff492062c5e2e04": {
          "model_module": "@jupyter-widgets/controls",
          "model_name": "HTMLModel",
          "state": {
            "_view_name": "HTMLView",
            "style": "IPY_MODEL_0598676348034193beb64f029d312f4c",
            "_dom_classes": [],
            "description": "",
            "_model_name": "HTMLModel",
            "placeholder": "​",
            "_view_module": "@jupyter-widgets/controls",
            "_model_module_version": "1.5.0",
            "value": " 157/157 [00:20&lt;00:00,  8.64it/s]",
            "_view_count": null,
            "_view_module_version": "1.5.0",
            "description_tooltip": null,
            "_model_module": "@jupyter-widgets/controls",
            "layout": "IPY_MODEL_c6026705f7894c97980ed53d9f117be5"
          }
        },
        "8c787ad792fb4cfd8a5e745dd199e2ce": {
          "model_module": "@jupyter-widgets/controls",
          "model_name": "DescriptionStyleModel",
          "state": {
            "_view_name": "StyleView",
            "_model_name": "DescriptionStyleModel",
            "description_width": "",
            "_view_module": "@jupyter-widgets/base",
            "_model_module_version": "1.5.0",
            "_view_count": null,
            "_view_module_version": "1.2.0",
            "_model_module": "@jupyter-widgets/controls"
          }
        },
        "29287850ae554c9a89e65054d965042d": {
          "model_module": "@jupyter-widgets/base",
          "model_name": "LayoutModel",
          "state": {
            "_view_name": "LayoutView",
            "grid_template_rows": null,
            "right": null,
            "justify_content": null,
            "_view_module": "@jupyter-widgets/base",
            "overflow": null,
            "_model_module_version": "1.2.0",
            "_view_count": null,
            "flex_flow": null,
            "width": null,
            "min_width": null,
            "border": null,
            "align_items": null,
            "bottom": null,
            "_model_module": "@jupyter-widgets/base",
            "top": null,
            "grid_column": null,
            "overflow_y": null,
            "overflow_x": null,
            "grid_auto_flow": null,
            "grid_area": null,
            "grid_template_columns": null,
            "flex": null,
            "_model_name": "LayoutModel",
            "justify_items": null,
            "grid_row": null,
            "max_height": null,
            "align_content": null,
            "visibility": null,
            "align_self": null,
            "height": null,
            "min_height": null,
            "padding": null,
            "grid_auto_rows": null,
            "grid_gap": null,
            "max_width": null,
            "order": null,
            "_view_module_version": "1.2.0",
            "grid_template_areas": null,
            "object_position": null,
            "object_fit": null,
            "grid_auto_columns": null,
            "margin": null,
            "display": null,
            "left": null
          }
        },
        "ff1fcf465a5b4d09a181b151b90bb7d5": {
          "model_module": "@jupyter-widgets/controls",
          "model_name": "ProgressStyleModel",
          "state": {
            "_view_name": "StyleView",
            "_model_name": "ProgressStyleModel",
            "description_width": "",
            "_view_module": "@jupyter-widgets/base",
            "_model_module_version": "1.5.0",
            "_view_count": null,
            "_view_module_version": "1.2.0",
            "bar_color": null,
            "_model_module": "@jupyter-widgets/controls"
          }
        },
        "f1905e9f2a0b4a58b1b0118a56889369": {
          "model_module": "@jupyter-widgets/base",
          "model_name": "LayoutModel",
          "state": {
            "_view_name": "LayoutView",
            "grid_template_rows": null,
            "right": null,
            "justify_content": null,
            "_view_module": "@jupyter-widgets/base",
            "overflow": null,
            "_model_module_version": "1.2.0",
            "_view_count": null,
            "flex_flow": null,
            "width": null,
            "min_width": null,
            "border": null,
            "align_items": null,
            "bottom": null,
            "_model_module": "@jupyter-widgets/base",
            "top": null,
            "grid_column": null,
            "overflow_y": null,
            "overflow_x": null,
            "grid_auto_flow": null,
            "grid_area": null,
            "grid_template_columns": null,
            "flex": null,
            "_model_name": "LayoutModel",
            "justify_items": null,
            "grid_row": null,
            "max_height": null,
            "align_content": null,
            "visibility": null,
            "align_self": null,
            "height": null,
            "min_height": null,
            "padding": null,
            "grid_auto_rows": null,
            "grid_gap": null,
            "max_width": null,
            "order": null,
            "_view_module_version": "1.2.0",
            "grid_template_areas": null,
            "object_position": null,
            "object_fit": null,
            "grid_auto_columns": null,
            "margin": null,
            "display": null,
            "left": null
          }
        },
        "0598676348034193beb64f029d312f4c": {
          "model_module": "@jupyter-widgets/controls",
          "model_name": "DescriptionStyleModel",
          "state": {
            "_view_name": "StyleView",
            "_model_name": "DescriptionStyleModel",
            "description_width": "",
            "_view_module": "@jupyter-widgets/base",
            "_model_module_version": "1.5.0",
            "_view_count": null,
            "_view_module_version": "1.2.0",
            "_model_module": "@jupyter-widgets/controls"
          }
        },
        "c6026705f7894c97980ed53d9f117be5": {
          "model_module": "@jupyter-widgets/base",
          "model_name": "LayoutModel",
          "state": {
            "_view_name": "LayoutView",
            "grid_template_rows": null,
            "right": null,
            "justify_content": null,
            "_view_module": "@jupyter-widgets/base",
            "overflow": null,
            "_model_module_version": "1.2.0",
            "_view_count": null,
            "flex_flow": null,
            "width": null,
            "min_width": null,
            "border": null,
            "align_items": null,
            "bottom": null,
            "_model_module": "@jupyter-widgets/base",
            "top": null,
            "grid_column": null,
            "overflow_y": null,
            "overflow_x": null,
            "grid_auto_flow": null,
            "grid_area": null,
            "grid_template_columns": null,
            "flex": null,
            "_model_name": "LayoutModel",
            "justify_items": null,
            "grid_row": null,
            "max_height": null,
            "align_content": null,
            "visibility": null,
            "align_self": null,
            "height": null,
            "min_height": null,
            "padding": null,
            "grid_auto_rows": null,
            "grid_gap": null,
            "max_width": null,
            "order": null,
            "_view_module_version": "1.2.0",
            "grid_template_areas": null,
            "object_position": null,
            "object_fit": null,
            "grid_auto_columns": null,
            "margin": null,
            "display": null,
            "left": null
          }
        },
        "e303ea22010b4d31bcafbaa19499ae5b": {
          "model_module": "@jupyter-widgets/controls",
          "model_name": "HBoxModel",
          "state": {
            "_view_name": "HBoxView",
            "_dom_classes": [],
            "_model_name": "HBoxModel",
            "_view_module": "@jupyter-widgets/controls",
            "_model_module_version": "1.5.0",
            "_view_count": null,
            "_view_module_version": "1.5.0",
            "box_style": "",
            "layout": "IPY_MODEL_9ad5d000104f4ff8bd6d7c1fd628b81d",
            "_model_module": "@jupyter-widgets/controls",
            "children": [
              "IPY_MODEL_aaf4b84f1027467eae50234d8867678a",
              "IPY_MODEL_4132d1b723d84c66a633e0b2a78befc0",
              "IPY_MODEL_1300e9f65425467791bf938bbc9b73a5"
            ]
          }
        },
        "9ad5d000104f4ff8bd6d7c1fd628b81d": {
          "model_module": "@jupyter-widgets/base",
          "model_name": "LayoutModel",
          "state": {
            "_view_name": "LayoutView",
            "grid_template_rows": null,
            "right": null,
            "justify_content": null,
            "_view_module": "@jupyter-widgets/base",
            "overflow": null,
            "_model_module_version": "1.2.0",
            "_view_count": null,
            "flex_flow": null,
            "width": null,
            "min_width": null,
            "border": null,
            "align_items": null,
            "bottom": null,
            "_model_module": "@jupyter-widgets/base",
            "top": null,
            "grid_column": null,
            "overflow_y": null,
            "overflow_x": null,
            "grid_auto_flow": null,
            "grid_area": null,
            "grid_template_columns": null,
            "flex": null,
            "_model_name": "LayoutModel",
            "justify_items": null,
            "grid_row": null,
            "max_height": null,
            "align_content": null,
            "visibility": null,
            "align_self": null,
            "height": null,
            "min_height": null,
            "padding": null,
            "grid_auto_rows": null,
            "grid_gap": null,
            "max_width": null,
            "order": null,
            "_view_module_version": "1.2.0",
            "grid_template_areas": null,
            "object_position": null,
            "object_fit": null,
            "grid_auto_columns": null,
            "margin": null,
            "display": null,
            "left": null
          }
        },
        "aaf4b84f1027467eae50234d8867678a": {
          "model_module": "@jupyter-widgets/controls",
          "model_name": "HTMLModel",
          "state": {
            "_view_name": "HTMLView",
            "style": "IPY_MODEL_cb09c2e7de0546308267732fa3fc03d6",
            "_dom_classes": [],
            "description": "",
            "_model_name": "HTMLModel",
            "placeholder": "​",
            "_view_module": "@jupyter-widgets/controls",
            "_model_module_version": "1.5.0",
            "value": "Epochs 8/10. Running Loss:    0.0003: 100%",
            "_view_count": null,
            "_view_module_version": "1.5.0",
            "description_tooltip": null,
            "_model_module": "@jupyter-widgets/controls",
            "layout": "IPY_MODEL_992853ec0b77403199e8097524379a1e"
          }
        },
        "4132d1b723d84c66a633e0b2a78befc0": {
          "model_module": "@jupyter-widgets/controls",
          "model_name": "FloatProgressModel",
          "state": {
            "_view_name": "ProgressView",
            "style": "IPY_MODEL_d05227967e7f481eb5879cd5d27e71db",
            "_dom_classes": [],
            "description": "",
            "_model_name": "FloatProgressModel",
            "bar_style": "success",
            "max": 157,
            "_view_module": "@jupyter-widgets/controls",
            "_model_module_version": "1.5.0",
            "value": 157,
            "_view_count": null,
            "_view_module_version": "1.5.0",
            "orientation": "horizontal",
            "min": 0,
            "description_tooltip": null,
            "_model_module": "@jupyter-widgets/controls",
            "layout": "IPY_MODEL_33034e20e43a4b80958d360214871d0c"
          }
        },
        "1300e9f65425467791bf938bbc9b73a5": {
          "model_module": "@jupyter-widgets/controls",
          "model_name": "HTMLModel",
          "state": {
            "_view_name": "HTMLView",
            "style": "IPY_MODEL_3da5308b485b42fb9211c6d42b86d218",
            "_dom_classes": [],
            "description": "",
            "_model_name": "HTMLModel",
            "placeholder": "​",
            "_view_module": "@jupyter-widgets/controls",
            "_model_module_version": "1.5.0",
            "value": " 157/157 [00:20&lt;00:00,  8.80it/s]",
            "_view_count": null,
            "_view_module_version": "1.5.0",
            "description_tooltip": null,
            "_model_module": "@jupyter-widgets/controls",
            "layout": "IPY_MODEL_5612d41615874c08b82cd4b19ad5d7bc"
          }
        },
        "cb09c2e7de0546308267732fa3fc03d6": {
          "model_module": "@jupyter-widgets/controls",
          "model_name": "DescriptionStyleModel",
          "state": {
            "_view_name": "StyleView",
            "_model_name": "DescriptionStyleModel",
            "description_width": "",
            "_view_module": "@jupyter-widgets/base",
            "_model_module_version": "1.5.0",
            "_view_count": null,
            "_view_module_version": "1.2.0",
            "_model_module": "@jupyter-widgets/controls"
          }
        },
        "992853ec0b77403199e8097524379a1e": {
          "model_module": "@jupyter-widgets/base",
          "model_name": "LayoutModel",
          "state": {
            "_view_name": "LayoutView",
            "grid_template_rows": null,
            "right": null,
            "justify_content": null,
            "_view_module": "@jupyter-widgets/base",
            "overflow": null,
            "_model_module_version": "1.2.0",
            "_view_count": null,
            "flex_flow": null,
            "width": null,
            "min_width": null,
            "border": null,
            "align_items": null,
            "bottom": null,
            "_model_module": "@jupyter-widgets/base",
            "top": null,
            "grid_column": null,
            "overflow_y": null,
            "overflow_x": null,
            "grid_auto_flow": null,
            "grid_area": null,
            "grid_template_columns": null,
            "flex": null,
            "_model_name": "LayoutModel",
            "justify_items": null,
            "grid_row": null,
            "max_height": null,
            "align_content": null,
            "visibility": null,
            "align_self": null,
            "height": null,
            "min_height": null,
            "padding": null,
            "grid_auto_rows": null,
            "grid_gap": null,
            "max_width": null,
            "order": null,
            "_view_module_version": "1.2.0",
            "grid_template_areas": null,
            "object_position": null,
            "object_fit": null,
            "grid_auto_columns": null,
            "margin": null,
            "display": null,
            "left": null
          }
        },
        "d05227967e7f481eb5879cd5d27e71db": {
          "model_module": "@jupyter-widgets/controls",
          "model_name": "ProgressStyleModel",
          "state": {
            "_view_name": "StyleView",
            "_model_name": "ProgressStyleModel",
            "description_width": "",
            "_view_module": "@jupyter-widgets/base",
            "_model_module_version": "1.5.0",
            "_view_count": null,
            "_view_module_version": "1.2.0",
            "bar_color": null,
            "_model_module": "@jupyter-widgets/controls"
          }
        },
        "33034e20e43a4b80958d360214871d0c": {
          "model_module": "@jupyter-widgets/base",
          "model_name": "LayoutModel",
          "state": {
            "_view_name": "LayoutView",
            "grid_template_rows": null,
            "right": null,
            "justify_content": null,
            "_view_module": "@jupyter-widgets/base",
            "overflow": null,
            "_model_module_version": "1.2.0",
            "_view_count": null,
            "flex_flow": null,
            "width": null,
            "min_width": null,
            "border": null,
            "align_items": null,
            "bottom": null,
            "_model_module": "@jupyter-widgets/base",
            "top": null,
            "grid_column": null,
            "overflow_y": null,
            "overflow_x": null,
            "grid_auto_flow": null,
            "grid_area": null,
            "grid_template_columns": null,
            "flex": null,
            "_model_name": "LayoutModel",
            "justify_items": null,
            "grid_row": null,
            "max_height": null,
            "align_content": null,
            "visibility": null,
            "align_self": null,
            "height": null,
            "min_height": null,
            "padding": null,
            "grid_auto_rows": null,
            "grid_gap": null,
            "max_width": null,
            "order": null,
            "_view_module_version": "1.2.0",
            "grid_template_areas": null,
            "object_position": null,
            "object_fit": null,
            "grid_auto_columns": null,
            "margin": null,
            "display": null,
            "left": null
          }
        },
        "3da5308b485b42fb9211c6d42b86d218": {
          "model_module": "@jupyter-widgets/controls",
          "model_name": "DescriptionStyleModel",
          "state": {
            "_view_name": "StyleView",
            "_model_name": "DescriptionStyleModel",
            "description_width": "",
            "_view_module": "@jupyter-widgets/base",
            "_model_module_version": "1.5.0",
            "_view_count": null,
            "_view_module_version": "1.2.0",
            "_model_module": "@jupyter-widgets/controls"
          }
        },
        "5612d41615874c08b82cd4b19ad5d7bc": {
          "model_module": "@jupyter-widgets/base",
          "model_name": "LayoutModel",
          "state": {
            "_view_name": "LayoutView",
            "grid_template_rows": null,
            "right": null,
            "justify_content": null,
            "_view_module": "@jupyter-widgets/base",
            "overflow": null,
            "_model_module_version": "1.2.0",
            "_view_count": null,
            "flex_flow": null,
            "width": null,
            "min_width": null,
            "border": null,
            "align_items": null,
            "bottom": null,
            "_model_module": "@jupyter-widgets/base",
            "top": null,
            "grid_column": null,
            "overflow_y": null,
            "overflow_x": null,
            "grid_auto_flow": null,
            "grid_area": null,
            "grid_template_columns": null,
            "flex": null,
            "_model_name": "LayoutModel",
            "justify_items": null,
            "grid_row": null,
            "max_height": null,
            "align_content": null,
            "visibility": null,
            "align_self": null,
            "height": null,
            "min_height": null,
            "padding": null,
            "grid_auto_rows": null,
            "grid_gap": null,
            "max_width": null,
            "order": null,
            "_view_module_version": "1.2.0",
            "grid_template_areas": null,
            "object_position": null,
            "object_fit": null,
            "grid_auto_columns": null,
            "margin": null,
            "display": null,
            "left": null
          }
        },
        "d2e20cb7e09e4d9098e10fb1af8f002b": {
          "model_module": "@jupyter-widgets/controls",
          "model_name": "HBoxModel",
          "state": {
            "_view_name": "HBoxView",
            "_dom_classes": [],
            "_model_name": "HBoxModel",
            "_view_module": "@jupyter-widgets/controls",
            "_model_module_version": "1.5.0",
            "_view_count": null,
            "_view_module_version": "1.5.0",
            "box_style": "",
            "layout": "IPY_MODEL_19419306144e4a0a9883becdc1bbe428",
            "_model_module": "@jupyter-widgets/controls",
            "children": [
              "IPY_MODEL_fabfdc9e9c7b4a12aec4dc7148af3741",
              "IPY_MODEL_4d48ebeee22347cb8bbdf660df5eb4bf",
              "IPY_MODEL_1fba11078f28463a98d9b3418b27c674"
            ]
          }
        },
        "19419306144e4a0a9883becdc1bbe428": {
          "model_module": "@jupyter-widgets/base",
          "model_name": "LayoutModel",
          "state": {
            "_view_name": "LayoutView",
            "grid_template_rows": null,
            "right": null,
            "justify_content": null,
            "_view_module": "@jupyter-widgets/base",
            "overflow": null,
            "_model_module_version": "1.2.0",
            "_view_count": null,
            "flex_flow": null,
            "width": null,
            "min_width": null,
            "border": null,
            "align_items": null,
            "bottom": null,
            "_model_module": "@jupyter-widgets/base",
            "top": null,
            "grid_column": null,
            "overflow_y": null,
            "overflow_x": null,
            "grid_auto_flow": null,
            "grid_area": null,
            "grid_template_columns": null,
            "flex": null,
            "_model_name": "LayoutModel",
            "justify_items": null,
            "grid_row": null,
            "max_height": null,
            "align_content": null,
            "visibility": null,
            "align_self": null,
            "height": null,
            "min_height": null,
            "padding": null,
            "grid_auto_rows": null,
            "grid_gap": null,
            "max_width": null,
            "order": null,
            "_view_module_version": "1.2.0",
            "grid_template_areas": null,
            "object_position": null,
            "object_fit": null,
            "grid_auto_columns": null,
            "margin": null,
            "display": null,
            "left": null
          }
        },
        "fabfdc9e9c7b4a12aec4dc7148af3741": {
          "model_module": "@jupyter-widgets/controls",
          "model_name": "HTMLModel",
          "state": {
            "_view_name": "HTMLView",
            "style": "IPY_MODEL_f085d659c0544ff9babebb85958b0324",
            "_dom_classes": [],
            "description": "",
            "_model_name": "HTMLModel",
            "placeholder": "​",
            "_view_module": "@jupyter-widgets/controls",
            "_model_module_version": "1.5.0",
            "value": "Epochs 9/10. Running Loss:    0.0003: 100%",
            "_view_count": null,
            "_view_module_version": "1.5.0",
            "description_tooltip": null,
            "_model_module": "@jupyter-widgets/controls",
            "layout": "IPY_MODEL_3ec9502a842545bf9061282d25e011bc"
          }
        },
        "4d48ebeee22347cb8bbdf660df5eb4bf": {
          "model_module": "@jupyter-widgets/controls",
          "model_name": "FloatProgressModel",
          "state": {
            "_view_name": "ProgressView",
            "style": "IPY_MODEL_208367cb3bfd40e28db97e4be21ca11e",
            "_dom_classes": [],
            "description": "",
            "_model_name": "FloatProgressModel",
            "bar_style": "success",
            "max": 157,
            "_view_module": "@jupyter-widgets/controls",
            "_model_module_version": "1.5.0",
            "value": 157,
            "_view_count": null,
            "_view_module_version": "1.5.0",
            "orientation": "horizontal",
            "min": 0,
            "description_tooltip": null,
            "_model_module": "@jupyter-widgets/controls",
            "layout": "IPY_MODEL_d8bc0944c3a944c3a0489632d7f780e6"
          }
        },
        "1fba11078f28463a98d9b3418b27c674": {
          "model_module": "@jupyter-widgets/controls",
          "model_name": "HTMLModel",
          "state": {
            "_view_name": "HTMLView",
            "style": "IPY_MODEL_7e032ba728904c549cf2d4abdb9318e5",
            "_dom_classes": [],
            "description": "",
            "_model_name": "HTMLModel",
            "placeholder": "​",
            "_view_module": "@jupyter-widgets/controls",
            "_model_module_version": "1.5.0",
            "value": " 157/157 [00:20&lt;00:00,  8.78it/s]",
            "_view_count": null,
            "_view_module_version": "1.5.0",
            "description_tooltip": null,
            "_model_module": "@jupyter-widgets/controls",
            "layout": "IPY_MODEL_0240c95282214e3681db46c888c9a2e3"
          }
        },
        "f085d659c0544ff9babebb85958b0324": {
          "model_module": "@jupyter-widgets/controls",
          "model_name": "DescriptionStyleModel",
          "state": {
            "_view_name": "StyleView",
            "_model_name": "DescriptionStyleModel",
            "description_width": "",
            "_view_module": "@jupyter-widgets/base",
            "_model_module_version": "1.5.0",
            "_view_count": null,
            "_view_module_version": "1.2.0",
            "_model_module": "@jupyter-widgets/controls"
          }
        },
        "3ec9502a842545bf9061282d25e011bc": {
          "model_module": "@jupyter-widgets/base",
          "model_name": "LayoutModel",
          "state": {
            "_view_name": "LayoutView",
            "grid_template_rows": null,
            "right": null,
            "justify_content": null,
            "_view_module": "@jupyter-widgets/base",
            "overflow": null,
            "_model_module_version": "1.2.0",
            "_view_count": null,
            "flex_flow": null,
            "width": null,
            "min_width": null,
            "border": null,
            "align_items": null,
            "bottom": null,
            "_model_module": "@jupyter-widgets/base",
            "top": null,
            "grid_column": null,
            "overflow_y": null,
            "overflow_x": null,
            "grid_auto_flow": null,
            "grid_area": null,
            "grid_template_columns": null,
            "flex": null,
            "_model_name": "LayoutModel",
            "justify_items": null,
            "grid_row": null,
            "max_height": null,
            "align_content": null,
            "visibility": null,
            "align_self": null,
            "height": null,
            "min_height": null,
            "padding": null,
            "grid_auto_rows": null,
            "grid_gap": null,
            "max_width": null,
            "order": null,
            "_view_module_version": "1.2.0",
            "grid_template_areas": null,
            "object_position": null,
            "object_fit": null,
            "grid_auto_columns": null,
            "margin": null,
            "display": null,
            "left": null
          }
        },
        "208367cb3bfd40e28db97e4be21ca11e": {
          "model_module": "@jupyter-widgets/controls",
          "model_name": "ProgressStyleModel",
          "state": {
            "_view_name": "StyleView",
            "_model_name": "ProgressStyleModel",
            "description_width": "",
            "_view_module": "@jupyter-widgets/base",
            "_model_module_version": "1.5.0",
            "_view_count": null,
            "_view_module_version": "1.2.0",
            "bar_color": null,
            "_model_module": "@jupyter-widgets/controls"
          }
        },
        "d8bc0944c3a944c3a0489632d7f780e6": {
          "model_module": "@jupyter-widgets/base",
          "model_name": "LayoutModel",
          "state": {
            "_view_name": "LayoutView",
            "grid_template_rows": null,
            "right": null,
            "justify_content": null,
            "_view_module": "@jupyter-widgets/base",
            "overflow": null,
            "_model_module_version": "1.2.0",
            "_view_count": null,
            "flex_flow": null,
            "width": null,
            "min_width": null,
            "border": null,
            "align_items": null,
            "bottom": null,
            "_model_module": "@jupyter-widgets/base",
            "top": null,
            "grid_column": null,
            "overflow_y": null,
            "overflow_x": null,
            "grid_auto_flow": null,
            "grid_area": null,
            "grid_template_columns": null,
            "flex": null,
            "_model_name": "LayoutModel",
            "justify_items": null,
            "grid_row": null,
            "max_height": null,
            "align_content": null,
            "visibility": null,
            "align_self": null,
            "height": null,
            "min_height": null,
            "padding": null,
            "grid_auto_rows": null,
            "grid_gap": null,
            "max_width": null,
            "order": null,
            "_view_module_version": "1.2.0",
            "grid_template_areas": null,
            "object_position": null,
            "object_fit": null,
            "grid_auto_columns": null,
            "margin": null,
            "display": null,
            "left": null
          }
        },
        "7e032ba728904c549cf2d4abdb9318e5": {
          "model_module": "@jupyter-widgets/controls",
          "model_name": "DescriptionStyleModel",
          "state": {
            "_view_name": "StyleView",
            "_model_name": "DescriptionStyleModel",
            "description_width": "",
            "_view_module": "@jupyter-widgets/base",
            "_model_module_version": "1.5.0",
            "_view_count": null,
            "_view_module_version": "1.2.0",
            "_model_module": "@jupyter-widgets/controls"
          }
        },
        "0240c95282214e3681db46c888c9a2e3": {
          "model_module": "@jupyter-widgets/base",
          "model_name": "LayoutModel",
          "state": {
            "_view_name": "LayoutView",
            "grid_template_rows": null,
            "right": null,
            "justify_content": null,
            "_view_module": "@jupyter-widgets/base",
            "overflow": null,
            "_model_module_version": "1.2.0",
            "_view_count": null,
            "flex_flow": null,
            "width": null,
            "min_width": null,
            "border": null,
            "align_items": null,
            "bottom": null,
            "_model_module": "@jupyter-widgets/base",
            "top": null,
            "grid_column": null,
            "overflow_y": null,
            "overflow_x": null,
            "grid_auto_flow": null,
            "grid_area": null,
            "grid_template_columns": null,
            "flex": null,
            "_model_name": "LayoutModel",
            "justify_items": null,
            "grid_row": null,
            "max_height": null,
            "align_content": null,
            "visibility": null,
            "align_self": null,
            "height": null,
            "min_height": null,
            "padding": null,
            "grid_auto_rows": null,
            "grid_gap": null,
            "max_width": null,
            "order": null,
            "_view_module_version": "1.2.0",
            "grid_template_areas": null,
            "object_position": null,
            "object_fit": null,
            "grid_auto_columns": null,
            "margin": null,
            "display": null,
            "left": null
          }
        },
        "92fc58a5c54a40698e4e741bdf5bd574": {
          "model_module": "@jupyter-widgets/controls",
          "model_name": "HBoxModel",
          "state": {
            "_view_name": "HBoxView",
            "_dom_classes": [],
            "_model_name": "HBoxModel",
            "_view_module": "@jupyter-widgets/controls",
            "_model_module_version": "1.5.0",
            "_view_count": null,
            "_view_module_version": "1.5.0",
            "box_style": "",
            "layout": "IPY_MODEL_c4f4a987acc54add91f8a528af0e1539",
            "_model_module": "@jupyter-widgets/controls",
            "children": [
              "IPY_MODEL_f599317cdf834acaae43830f870cfd21",
              "IPY_MODEL_56db444041bc4e6ea17aaa2e01008755",
              "IPY_MODEL_1be756eae201413db8aee1f5c8a59c11"
            ]
          }
        },
        "c4f4a987acc54add91f8a528af0e1539": {
          "model_module": "@jupyter-widgets/base",
          "model_name": "LayoutModel",
          "state": {
            "_view_name": "LayoutView",
            "grid_template_rows": null,
            "right": null,
            "justify_content": null,
            "_view_module": "@jupyter-widgets/base",
            "overflow": null,
            "_model_module_version": "1.2.0",
            "_view_count": null,
            "flex_flow": null,
            "width": null,
            "min_width": null,
            "border": null,
            "align_items": null,
            "bottom": null,
            "_model_module": "@jupyter-widgets/base",
            "top": null,
            "grid_column": null,
            "overflow_y": null,
            "overflow_x": null,
            "grid_auto_flow": null,
            "grid_area": null,
            "grid_template_columns": null,
            "flex": null,
            "_model_name": "LayoutModel",
            "justify_items": null,
            "grid_row": null,
            "max_height": null,
            "align_content": null,
            "visibility": null,
            "align_self": null,
            "height": null,
            "min_height": null,
            "padding": null,
            "grid_auto_rows": null,
            "grid_gap": null,
            "max_width": null,
            "order": null,
            "_view_module_version": "1.2.0",
            "grid_template_areas": null,
            "object_position": null,
            "object_fit": null,
            "grid_auto_columns": null,
            "margin": null,
            "display": null,
            "left": null
          }
        },
        "f599317cdf834acaae43830f870cfd21": {
          "model_module": "@jupyter-widgets/controls",
          "model_name": "HTMLModel",
          "state": {
            "_view_name": "HTMLView",
            "style": "IPY_MODEL_92495dabcc08469f8b38f7144cf2121c",
            "_dom_classes": [],
            "description": "",
            "_model_name": "HTMLModel",
            "placeholder": "​",
            "_view_module": "@jupyter-widgets/controls",
            "_model_module_version": "1.5.0",
            "value": "  0%",
            "_view_count": null,
            "_view_module_version": "1.5.0",
            "description_tooltip": null,
            "_model_module": "@jupyter-widgets/controls",
            "layout": "IPY_MODEL_d147dd2d6393415caaf57be7c87aced9"
          }
        },
        "56db444041bc4e6ea17aaa2e01008755": {
          "model_module": "@jupyter-widgets/controls",
          "model_name": "FloatProgressModel",
          "state": {
            "_view_name": "ProgressView",
            "style": "IPY_MODEL_1520c72e69e042fabff435a9b2c56c00",
            "_dom_classes": [],
            "description": "",
            "_model_name": "FloatProgressModel",
            "bar_style": "danger",
            "max": 418,
            "_view_module": "@jupyter-widgets/controls",
            "_model_module_version": "1.5.0",
            "value": 1,
            "_view_count": null,
            "_view_module_version": "1.5.0",
            "orientation": "horizontal",
            "min": 0,
            "description_tooltip": null,
            "_model_module": "@jupyter-widgets/controls",
            "layout": "IPY_MODEL_dce04390082f4e88866524a58d356e14"
          }
        },
        "1be756eae201413db8aee1f5c8a59c11": {
          "model_module": "@jupyter-widgets/controls",
          "model_name": "HTMLModel",
          "state": {
            "_view_name": "HTMLView",
            "style": "IPY_MODEL_a46a74a31f684528affe01778e11a585",
            "_dom_classes": [],
            "description": "",
            "_model_name": "HTMLModel",
            "placeholder": "​",
            "_view_module": "@jupyter-widgets/controls",
            "_model_module_version": "1.5.0",
            "value": " 1/418 [00:00&lt;01:32,  4.51it/s]",
            "_view_count": null,
            "_view_module_version": "1.5.0",
            "description_tooltip": null,
            "_model_module": "@jupyter-widgets/controls",
            "layout": "IPY_MODEL_060ace75d887494082373277dae1c787"
          }
        },
        "92495dabcc08469f8b38f7144cf2121c": {
          "model_module": "@jupyter-widgets/controls",
          "model_name": "DescriptionStyleModel",
          "state": {
            "_view_name": "StyleView",
            "_model_name": "DescriptionStyleModel",
            "description_width": "",
            "_view_module": "@jupyter-widgets/base",
            "_model_module_version": "1.5.0",
            "_view_count": null,
            "_view_module_version": "1.2.0",
            "_model_module": "@jupyter-widgets/controls"
          }
        },
        "d147dd2d6393415caaf57be7c87aced9": {
          "model_module": "@jupyter-widgets/base",
          "model_name": "LayoutModel",
          "state": {
            "_view_name": "LayoutView",
            "grid_template_rows": null,
            "right": null,
            "justify_content": null,
            "_view_module": "@jupyter-widgets/base",
            "overflow": null,
            "_model_module_version": "1.2.0",
            "_view_count": null,
            "flex_flow": null,
            "width": null,
            "min_width": null,
            "border": null,
            "align_items": null,
            "bottom": null,
            "_model_module": "@jupyter-widgets/base",
            "top": null,
            "grid_column": null,
            "overflow_y": null,
            "overflow_x": null,
            "grid_auto_flow": null,
            "grid_area": null,
            "grid_template_columns": null,
            "flex": null,
            "_model_name": "LayoutModel",
            "justify_items": null,
            "grid_row": null,
            "max_height": null,
            "align_content": null,
            "visibility": null,
            "align_self": null,
            "height": null,
            "min_height": null,
            "padding": null,
            "grid_auto_rows": null,
            "grid_gap": null,
            "max_width": null,
            "order": null,
            "_view_module_version": "1.2.0",
            "grid_template_areas": null,
            "object_position": null,
            "object_fit": null,
            "grid_auto_columns": null,
            "margin": null,
            "display": null,
            "left": null
          }
        },
        "1520c72e69e042fabff435a9b2c56c00": {
          "model_module": "@jupyter-widgets/controls",
          "model_name": "ProgressStyleModel",
          "state": {
            "_view_name": "StyleView",
            "_model_name": "ProgressStyleModel",
            "description_width": "",
            "_view_module": "@jupyter-widgets/base",
            "_model_module_version": "1.5.0",
            "_view_count": null,
            "_view_module_version": "1.2.0",
            "bar_color": null,
            "_model_module": "@jupyter-widgets/controls"
          }
        },
        "dce04390082f4e88866524a58d356e14": {
          "model_module": "@jupyter-widgets/base",
          "model_name": "LayoutModel",
          "state": {
            "_view_name": "LayoutView",
            "grid_template_rows": null,
            "right": null,
            "justify_content": null,
            "_view_module": "@jupyter-widgets/base",
            "overflow": null,
            "_model_module_version": "1.2.0",
            "_view_count": null,
            "flex_flow": null,
            "width": null,
            "min_width": null,
            "border": null,
            "align_items": null,
            "bottom": null,
            "_model_module": "@jupyter-widgets/base",
            "top": null,
            "grid_column": null,
            "overflow_y": null,
            "overflow_x": null,
            "grid_auto_flow": null,
            "grid_area": null,
            "grid_template_columns": null,
            "flex": null,
            "_model_name": "LayoutModel",
            "justify_items": null,
            "grid_row": null,
            "max_height": null,
            "align_content": null,
            "visibility": null,
            "align_self": null,
            "height": null,
            "min_height": null,
            "padding": null,
            "grid_auto_rows": null,
            "grid_gap": null,
            "max_width": null,
            "order": null,
            "_view_module_version": "1.2.0",
            "grid_template_areas": null,
            "object_position": null,
            "object_fit": null,
            "grid_auto_columns": null,
            "margin": null,
            "display": null,
            "left": null
          }
        },
        "a46a74a31f684528affe01778e11a585": {
          "model_module": "@jupyter-widgets/controls",
          "model_name": "DescriptionStyleModel",
          "state": {
            "_view_name": "StyleView",
            "_model_name": "DescriptionStyleModel",
            "description_width": "",
            "_view_module": "@jupyter-widgets/base",
            "_model_module_version": "1.5.0",
            "_view_count": null,
            "_view_module_version": "1.2.0",
            "_model_module": "@jupyter-widgets/controls"
          }
        },
        "060ace75d887494082373277dae1c787": {
          "model_module": "@jupyter-widgets/base",
          "model_name": "LayoutModel",
          "state": {
            "_view_name": "LayoutView",
            "grid_template_rows": null,
            "right": null,
            "justify_content": null,
            "_view_module": "@jupyter-widgets/base",
            "overflow": null,
            "_model_module_version": "1.2.0",
            "_view_count": null,
            "flex_flow": null,
            "width": null,
            "min_width": null,
            "border": null,
            "align_items": null,
            "bottom": null,
            "_model_module": "@jupyter-widgets/base",
            "top": null,
            "grid_column": null,
            "overflow_y": null,
            "overflow_x": null,
            "grid_auto_flow": null,
            "grid_area": null,
            "grid_template_columns": null,
            "flex": null,
            "_model_name": "LayoutModel",
            "justify_items": null,
            "grid_row": null,
            "max_height": null,
            "align_content": null,
            "visibility": null,
            "align_self": null,
            "height": null,
            "min_height": null,
            "padding": null,
            "grid_auto_rows": null,
            "grid_gap": null,
            "max_width": null,
            "order": null,
            "_view_module_version": "1.2.0",
            "grid_template_areas": null,
            "object_position": null,
            "object_fit": null,
            "grid_auto_columns": null,
            "margin": null,
            "display": null,
            "left": null
          }
        },
        "6e4640d0c5044ec4bdd3ede0966018ff": {
          "model_module": "@jupyter-widgets/controls",
          "model_name": "HBoxModel",
          "state": {
            "_view_name": "HBoxView",
            "_dom_classes": [],
            "_model_name": "HBoxModel",
            "_view_module": "@jupyter-widgets/controls",
            "_model_module_version": "1.5.0",
            "_view_count": null,
            "_view_module_version": "1.5.0",
            "box_style": "",
            "layout": "IPY_MODEL_998e5d8039f04ece9ed2cf39af22bbef",
            "_model_module": "@jupyter-widgets/controls",
            "children": [
              "IPY_MODEL_4b190feb9d3c478fb752271e92c31df1",
              "IPY_MODEL_e252365cef9f44be907e875436a18c6a",
              "IPY_MODEL_1545796a63f44e6f87f96aff22661ab7"
            ]
          }
        },
        "998e5d8039f04ece9ed2cf39af22bbef": {
          "model_module": "@jupyter-widgets/base",
          "model_name": "LayoutModel",
          "state": {
            "_view_name": "LayoutView",
            "grid_template_rows": null,
            "right": null,
            "justify_content": null,
            "_view_module": "@jupyter-widgets/base",
            "overflow": null,
            "_model_module_version": "1.2.0",
            "_view_count": null,
            "flex_flow": null,
            "width": null,
            "min_width": null,
            "border": null,
            "align_items": null,
            "bottom": null,
            "_model_module": "@jupyter-widgets/base",
            "top": null,
            "grid_column": null,
            "overflow_y": null,
            "overflow_x": null,
            "grid_auto_flow": null,
            "grid_area": null,
            "grid_template_columns": null,
            "flex": null,
            "_model_name": "LayoutModel",
            "justify_items": null,
            "grid_row": null,
            "max_height": null,
            "align_content": null,
            "visibility": null,
            "align_self": null,
            "height": null,
            "min_height": null,
            "padding": null,
            "grid_auto_rows": null,
            "grid_gap": null,
            "max_width": null,
            "order": null,
            "_view_module_version": "1.2.0",
            "grid_template_areas": null,
            "object_position": null,
            "object_fit": null,
            "grid_auto_columns": null,
            "margin": null,
            "display": null,
            "left": null
          }
        },
        "4b190feb9d3c478fb752271e92c31df1": {
          "model_module": "@jupyter-widgets/controls",
          "model_name": "HTMLModel",
          "state": {
            "_view_name": "HTMLView",
            "style": "IPY_MODEL_122ecac1b39a441fbbed282968f23d23",
            "_dom_classes": [],
            "description": "",
            "_model_name": "HTMLModel",
            "placeholder": "​",
            "_view_module": "@jupyter-widgets/controls",
            "_model_module_version": "1.5.0",
            "value": "Running Evaluation: 100%",
            "_view_count": null,
            "_view_module_version": "1.5.0",
            "description_tooltip": null,
            "_model_module": "@jupyter-widgets/controls",
            "layout": "IPY_MODEL_c0353d69a77a40a6933276b1cc0e45bf"
          }
        },
        "e252365cef9f44be907e875436a18c6a": {
          "model_module": "@jupyter-widgets/controls",
          "model_name": "FloatProgressModel",
          "state": {
            "_view_name": "ProgressView",
            "style": "IPY_MODEL_a300c6bd9101410ab643587a3cb1b6a0",
            "_dom_classes": [],
            "description": "",
            "_model_name": "FloatProgressModel",
            "bar_style": "success",
            "max": 53,
            "_view_module": "@jupyter-widgets/controls",
            "_model_module_version": "1.5.0",
            "value": 53,
            "_view_count": null,
            "_view_module_version": "1.5.0",
            "orientation": "horizontal",
            "min": 0,
            "description_tooltip": null,
            "_model_module": "@jupyter-widgets/controls",
            "layout": "IPY_MODEL_06d96621aa52470abd542ae26e99cccd"
          }
        },
        "1545796a63f44e6f87f96aff22661ab7": {
          "model_module": "@jupyter-widgets/controls",
          "model_name": "HTMLModel",
          "state": {
            "_view_name": "HTMLView",
            "style": "IPY_MODEL_a44839ecaa0549d69276bb89279019ec",
            "_dom_classes": [],
            "description": "",
            "_model_name": "HTMLModel",
            "placeholder": "​",
            "_view_module": "@jupyter-widgets/controls",
            "_model_module_version": "1.5.0",
            "value": " 53/53 [00:01&lt;00:00, 28.55it/s]",
            "_view_count": null,
            "_view_module_version": "1.5.0",
            "description_tooltip": null,
            "_model_module": "@jupyter-widgets/controls",
            "layout": "IPY_MODEL_83a31269e56f4393aa946380c5b6cffa"
          }
        },
        "122ecac1b39a441fbbed282968f23d23": {
          "model_module": "@jupyter-widgets/controls",
          "model_name": "DescriptionStyleModel",
          "state": {
            "_view_name": "StyleView",
            "_model_name": "DescriptionStyleModel",
            "description_width": "",
            "_view_module": "@jupyter-widgets/base",
            "_model_module_version": "1.5.0",
            "_view_count": null,
            "_view_module_version": "1.2.0",
            "_model_module": "@jupyter-widgets/controls"
          }
        },
        "c0353d69a77a40a6933276b1cc0e45bf": {
          "model_module": "@jupyter-widgets/base",
          "model_name": "LayoutModel",
          "state": {
            "_view_name": "LayoutView",
            "grid_template_rows": null,
            "right": null,
            "justify_content": null,
            "_view_module": "@jupyter-widgets/base",
            "overflow": null,
            "_model_module_version": "1.2.0",
            "_view_count": null,
            "flex_flow": null,
            "width": null,
            "min_width": null,
            "border": null,
            "align_items": null,
            "bottom": null,
            "_model_module": "@jupyter-widgets/base",
            "top": null,
            "grid_column": null,
            "overflow_y": null,
            "overflow_x": null,
            "grid_auto_flow": null,
            "grid_area": null,
            "grid_template_columns": null,
            "flex": null,
            "_model_name": "LayoutModel",
            "justify_items": null,
            "grid_row": null,
            "max_height": null,
            "align_content": null,
            "visibility": null,
            "align_self": null,
            "height": null,
            "min_height": null,
            "padding": null,
            "grid_auto_rows": null,
            "grid_gap": null,
            "max_width": null,
            "order": null,
            "_view_module_version": "1.2.0",
            "grid_template_areas": null,
            "object_position": null,
            "object_fit": null,
            "grid_auto_columns": null,
            "margin": null,
            "display": null,
            "left": null
          }
        },
        "a300c6bd9101410ab643587a3cb1b6a0": {
          "model_module": "@jupyter-widgets/controls",
          "model_name": "ProgressStyleModel",
          "state": {
            "_view_name": "StyleView",
            "_model_name": "ProgressStyleModel",
            "description_width": "",
            "_view_module": "@jupyter-widgets/base",
            "_model_module_version": "1.5.0",
            "_view_count": null,
            "_view_module_version": "1.2.0",
            "bar_color": null,
            "_model_module": "@jupyter-widgets/controls"
          }
        },
        "06d96621aa52470abd542ae26e99cccd": {
          "model_module": "@jupyter-widgets/base",
          "model_name": "LayoutModel",
          "state": {
            "_view_name": "LayoutView",
            "grid_template_rows": null,
            "right": null,
            "justify_content": null,
            "_view_module": "@jupyter-widgets/base",
            "overflow": null,
            "_model_module_version": "1.2.0",
            "_view_count": null,
            "flex_flow": null,
            "width": null,
            "min_width": null,
            "border": null,
            "align_items": null,
            "bottom": null,
            "_model_module": "@jupyter-widgets/base",
            "top": null,
            "grid_column": null,
            "overflow_y": null,
            "overflow_x": null,
            "grid_auto_flow": null,
            "grid_area": null,
            "grid_template_columns": null,
            "flex": null,
            "_model_name": "LayoutModel",
            "justify_items": null,
            "grid_row": null,
            "max_height": null,
            "align_content": null,
            "visibility": null,
            "align_self": null,
            "height": null,
            "min_height": null,
            "padding": null,
            "grid_auto_rows": null,
            "grid_gap": null,
            "max_width": null,
            "order": null,
            "_view_module_version": "1.2.0",
            "grid_template_areas": null,
            "object_position": null,
            "object_fit": null,
            "grid_auto_columns": null,
            "margin": null,
            "display": null,
            "left": null
          }
        },
        "a44839ecaa0549d69276bb89279019ec": {
          "model_module": "@jupyter-widgets/controls",
          "model_name": "DescriptionStyleModel",
          "state": {
            "_view_name": "StyleView",
            "_model_name": "DescriptionStyleModel",
            "description_width": "",
            "_view_module": "@jupyter-widgets/base",
            "_model_module_version": "1.5.0",
            "_view_count": null,
            "_view_module_version": "1.2.0",
            "_model_module": "@jupyter-widgets/controls"
          }
        },
        "83a31269e56f4393aa946380c5b6cffa": {
          "model_module": "@jupyter-widgets/base",
          "model_name": "LayoutModel",
          "state": {
            "_view_name": "LayoutView",
            "grid_template_rows": null,
            "right": null,
            "justify_content": null,
            "_view_module": "@jupyter-widgets/base",
            "overflow": null,
            "_model_module_version": "1.2.0",
            "_view_count": null,
            "flex_flow": null,
            "width": null,
            "min_width": null,
            "border": null,
            "align_items": null,
            "bottom": null,
            "_model_module": "@jupyter-widgets/base",
            "top": null,
            "grid_column": null,
            "overflow_y": null,
            "overflow_x": null,
            "grid_auto_flow": null,
            "grid_area": null,
            "grid_template_columns": null,
            "flex": null,
            "_model_name": "LayoutModel",
            "justify_items": null,
            "grid_row": null,
            "max_height": null,
            "align_content": null,
            "visibility": null,
            "align_self": null,
            "height": null,
            "min_height": null,
            "padding": null,
            "grid_auto_rows": null,
            "grid_gap": null,
            "max_width": null,
            "order": null,
            "_view_module_version": "1.2.0",
            "grid_template_areas": null,
            "object_position": null,
            "object_fit": null,
            "grid_auto_columns": null,
            "margin": null,
            "display": null,
            "left": null
          }
        },
        "01697a9db8d1457cb49467007179b667": {
          "model_module": "@jupyter-widgets/controls",
          "model_name": "HBoxModel",
          "state": {
            "_view_name": "HBoxView",
            "_dom_classes": [],
            "_model_name": "HBoxModel",
            "_view_module": "@jupyter-widgets/controls",
            "_model_module_version": "1.5.0",
            "_view_count": null,
            "_view_module_version": "1.5.0",
            "box_style": "",
            "layout": "IPY_MODEL_5a81ba5bae024634ae5f5670f0e7e039",
            "_model_module": "@jupyter-widgets/controls",
            "children": [
              "IPY_MODEL_537e36e325fa46769f74a28fdf03585b",
              "IPY_MODEL_8fa252dc26f2444995fefc72ce7e0d04",
              "IPY_MODEL_b535c6f43f984407a8f1976b2d8f20cb"
            ]
          }
        },
        "5a81ba5bae024634ae5f5670f0e7e039": {
          "model_module": "@jupyter-widgets/base",
          "model_name": "LayoutModel",
          "state": {
            "_view_name": "LayoutView",
            "grid_template_rows": null,
            "right": null,
            "justify_content": null,
            "_view_module": "@jupyter-widgets/base",
            "overflow": null,
            "_model_module_version": "1.2.0",
            "_view_count": null,
            "flex_flow": null,
            "width": null,
            "min_width": null,
            "border": null,
            "align_items": null,
            "bottom": null,
            "_model_module": "@jupyter-widgets/base",
            "top": null,
            "grid_column": null,
            "overflow_y": null,
            "overflow_x": null,
            "grid_auto_flow": null,
            "grid_area": null,
            "grid_template_columns": null,
            "flex": null,
            "_model_name": "LayoutModel",
            "justify_items": null,
            "grid_row": null,
            "max_height": null,
            "align_content": null,
            "visibility": null,
            "align_self": null,
            "height": null,
            "min_height": null,
            "padding": null,
            "grid_auto_rows": null,
            "grid_gap": null,
            "max_width": null,
            "order": null,
            "_view_module_version": "1.2.0",
            "grid_template_areas": null,
            "object_position": null,
            "object_fit": null,
            "grid_auto_columns": null,
            "margin": null,
            "display": null,
            "left": null
          }
        },
        "537e36e325fa46769f74a28fdf03585b": {
          "model_module": "@jupyter-widgets/controls",
          "model_name": "HTMLModel",
          "state": {
            "_view_name": "HTMLView",
            "style": "IPY_MODEL_79a76c533a394e038fdeefe087383570",
            "_dom_classes": [],
            "description": "",
            "_model_name": "HTMLModel",
            "placeholder": "​",
            "_view_module": "@jupyter-widgets/controls",
            "_model_module_version": "1.5.0",
            "value": "  0%",
            "_view_count": null,
            "_view_module_version": "1.5.0",
            "description_tooltip": null,
            "_model_module": "@jupyter-widgets/controls",
            "layout": "IPY_MODEL_69df1f3d4b3345a3a0d41951b9438919"
          }
        },
        "8fa252dc26f2444995fefc72ce7e0d04": {
          "model_module": "@jupyter-widgets/controls",
          "model_name": "FloatProgressModel",
          "state": {
            "_view_name": "ProgressView",
            "style": "IPY_MODEL_338cf29443ba4f5fad36959a669c7298",
            "_dom_classes": [],
            "description": "",
            "_model_name": "FloatProgressModel",
            "bar_style": "danger",
            "max": 417,
            "_view_module": "@jupyter-widgets/controls",
            "_model_module_version": "1.5.0",
            "value": 1,
            "_view_count": null,
            "_view_module_version": "1.5.0",
            "orientation": "horizontal",
            "min": 0,
            "description_tooltip": null,
            "_model_module": "@jupyter-widgets/controls",
            "layout": "IPY_MODEL_7b41c3de7c614f4eaa775e96ddbf513c"
          }
        },
        "b535c6f43f984407a8f1976b2d8f20cb": {
          "model_module": "@jupyter-widgets/controls",
          "model_name": "HTMLModel",
          "state": {
            "_view_name": "HTMLView",
            "style": "IPY_MODEL_4187f96636b04311a52f3a9c421f86d2",
            "_dom_classes": [],
            "description": "",
            "_model_name": "HTMLModel",
            "placeholder": "​",
            "_view_module": "@jupyter-widgets/controls",
            "_model_module_version": "1.5.0",
            "value": " 1/417 [00:00&lt;01:26,  4.79it/s]",
            "_view_count": null,
            "_view_module_version": "1.5.0",
            "description_tooltip": null,
            "_model_module": "@jupyter-widgets/controls",
            "layout": "IPY_MODEL_b80b6e2a357c4e1bb70176d8dc92421d"
          }
        },
        "79a76c533a394e038fdeefe087383570": {
          "model_module": "@jupyter-widgets/controls",
          "model_name": "DescriptionStyleModel",
          "state": {
            "_view_name": "StyleView",
            "_model_name": "DescriptionStyleModel",
            "description_width": "",
            "_view_module": "@jupyter-widgets/base",
            "_model_module_version": "1.5.0",
            "_view_count": null,
            "_view_module_version": "1.2.0",
            "_model_module": "@jupyter-widgets/controls"
          }
        },
        "69df1f3d4b3345a3a0d41951b9438919": {
          "model_module": "@jupyter-widgets/base",
          "model_name": "LayoutModel",
          "state": {
            "_view_name": "LayoutView",
            "grid_template_rows": null,
            "right": null,
            "justify_content": null,
            "_view_module": "@jupyter-widgets/base",
            "overflow": null,
            "_model_module_version": "1.2.0",
            "_view_count": null,
            "flex_flow": null,
            "width": null,
            "min_width": null,
            "border": null,
            "align_items": null,
            "bottom": null,
            "_model_module": "@jupyter-widgets/base",
            "top": null,
            "grid_column": null,
            "overflow_y": null,
            "overflow_x": null,
            "grid_auto_flow": null,
            "grid_area": null,
            "grid_template_columns": null,
            "flex": null,
            "_model_name": "LayoutModel",
            "justify_items": null,
            "grid_row": null,
            "max_height": null,
            "align_content": null,
            "visibility": null,
            "align_self": null,
            "height": null,
            "min_height": null,
            "padding": null,
            "grid_auto_rows": null,
            "grid_gap": null,
            "max_width": null,
            "order": null,
            "_view_module_version": "1.2.0",
            "grid_template_areas": null,
            "object_position": null,
            "object_fit": null,
            "grid_auto_columns": null,
            "margin": null,
            "display": null,
            "left": null
          }
        },
        "338cf29443ba4f5fad36959a669c7298": {
          "model_module": "@jupyter-widgets/controls",
          "model_name": "ProgressStyleModel",
          "state": {
            "_view_name": "StyleView",
            "_model_name": "ProgressStyleModel",
            "description_width": "",
            "_view_module": "@jupyter-widgets/base",
            "_model_module_version": "1.5.0",
            "_view_count": null,
            "_view_module_version": "1.2.0",
            "bar_color": null,
            "_model_module": "@jupyter-widgets/controls"
          }
        },
        "7b41c3de7c614f4eaa775e96ddbf513c": {
          "model_module": "@jupyter-widgets/base",
          "model_name": "LayoutModel",
          "state": {
            "_view_name": "LayoutView",
            "grid_template_rows": null,
            "right": null,
            "justify_content": null,
            "_view_module": "@jupyter-widgets/base",
            "overflow": null,
            "_model_module_version": "1.2.0",
            "_view_count": null,
            "flex_flow": null,
            "width": null,
            "min_width": null,
            "border": null,
            "align_items": null,
            "bottom": null,
            "_model_module": "@jupyter-widgets/base",
            "top": null,
            "grid_column": null,
            "overflow_y": null,
            "overflow_x": null,
            "grid_auto_flow": null,
            "grid_area": null,
            "grid_template_columns": null,
            "flex": null,
            "_model_name": "LayoutModel",
            "justify_items": null,
            "grid_row": null,
            "max_height": null,
            "align_content": null,
            "visibility": null,
            "align_self": null,
            "height": null,
            "min_height": null,
            "padding": null,
            "grid_auto_rows": null,
            "grid_gap": null,
            "max_width": null,
            "order": null,
            "_view_module_version": "1.2.0",
            "grid_template_areas": null,
            "object_position": null,
            "object_fit": null,
            "grid_auto_columns": null,
            "margin": null,
            "display": null,
            "left": null
          }
        },
        "4187f96636b04311a52f3a9c421f86d2": {
          "model_module": "@jupyter-widgets/controls",
          "model_name": "DescriptionStyleModel",
          "state": {
            "_view_name": "StyleView",
            "_model_name": "DescriptionStyleModel",
            "description_width": "",
            "_view_module": "@jupyter-widgets/base",
            "_model_module_version": "1.5.0",
            "_view_count": null,
            "_view_module_version": "1.2.0",
            "_model_module": "@jupyter-widgets/controls"
          }
        },
        "b80b6e2a357c4e1bb70176d8dc92421d": {
          "model_module": "@jupyter-widgets/base",
          "model_name": "LayoutModel",
          "state": {
            "_view_name": "LayoutView",
            "grid_template_rows": null,
            "right": null,
            "justify_content": null,
            "_view_module": "@jupyter-widgets/base",
            "overflow": null,
            "_model_module_version": "1.2.0",
            "_view_count": null,
            "flex_flow": null,
            "width": null,
            "min_width": null,
            "border": null,
            "align_items": null,
            "bottom": null,
            "_model_module": "@jupyter-widgets/base",
            "top": null,
            "grid_column": null,
            "overflow_y": null,
            "overflow_x": null,
            "grid_auto_flow": null,
            "grid_area": null,
            "grid_template_columns": null,
            "flex": null,
            "_model_name": "LayoutModel",
            "justify_items": null,
            "grid_row": null,
            "max_height": null,
            "align_content": null,
            "visibility": null,
            "align_self": null,
            "height": null,
            "min_height": null,
            "padding": null,
            "grid_auto_rows": null,
            "grid_gap": null,
            "max_width": null,
            "order": null,
            "_view_module_version": "1.2.0",
            "grid_template_areas": null,
            "object_position": null,
            "object_fit": null,
            "grid_auto_columns": null,
            "margin": null,
            "display": null,
            "left": null
          }
        },
        "225f59f032e344c68bd8697f866a1ccb": {
          "model_module": "@jupyter-widgets/controls",
          "model_name": "HBoxModel",
          "state": {
            "_view_name": "HBoxView",
            "_dom_classes": [],
            "_model_name": "HBoxModel",
            "_view_module": "@jupyter-widgets/controls",
            "_model_module_version": "1.5.0",
            "_view_count": null,
            "_view_module_version": "1.5.0",
            "box_style": "",
            "layout": "IPY_MODEL_29d10bea680947cf9a482da3c235c83a",
            "_model_module": "@jupyter-widgets/controls",
            "children": [
              "IPY_MODEL_c21b57f2730045728695c493030e16e2",
              "IPY_MODEL_5e4a3c82c20c433c950e489a34f267be",
              "IPY_MODEL_b4c09fc4461d42349bdd51cd20bf06bb"
            ]
          }
        },
        "29d10bea680947cf9a482da3c235c83a": {
          "model_module": "@jupyter-widgets/base",
          "model_name": "LayoutModel",
          "state": {
            "_view_name": "LayoutView",
            "grid_template_rows": null,
            "right": null,
            "justify_content": null,
            "_view_module": "@jupyter-widgets/base",
            "overflow": null,
            "_model_module_version": "1.2.0",
            "_view_count": null,
            "flex_flow": null,
            "width": null,
            "min_width": null,
            "border": null,
            "align_items": null,
            "bottom": null,
            "_model_module": "@jupyter-widgets/base",
            "top": null,
            "grid_column": null,
            "overflow_y": null,
            "overflow_x": null,
            "grid_auto_flow": null,
            "grid_area": null,
            "grid_template_columns": null,
            "flex": null,
            "_model_name": "LayoutModel",
            "justify_items": null,
            "grid_row": null,
            "max_height": null,
            "align_content": null,
            "visibility": null,
            "align_self": null,
            "height": null,
            "min_height": null,
            "padding": null,
            "grid_auto_rows": null,
            "grid_gap": null,
            "max_width": null,
            "order": null,
            "_view_module_version": "1.2.0",
            "grid_template_areas": null,
            "object_position": null,
            "object_fit": null,
            "grid_auto_columns": null,
            "margin": null,
            "display": null,
            "left": null
          }
        },
        "c21b57f2730045728695c493030e16e2": {
          "model_module": "@jupyter-widgets/controls",
          "model_name": "HTMLModel",
          "state": {
            "_view_name": "HTMLView",
            "style": "IPY_MODEL_8fa84e182bd54503894767fd39aac394",
            "_dom_classes": [],
            "description": "",
            "_model_name": "HTMLModel",
            "placeholder": "​",
            "_view_module": "@jupyter-widgets/controls",
            "_model_module_version": "1.5.0",
            "value": "100%",
            "_view_count": null,
            "_view_module_version": "1.5.0",
            "description_tooltip": null,
            "_model_module": "@jupyter-widgets/controls",
            "layout": "IPY_MODEL_6ccd618c1aa7494cb08273870aff9af7"
          }
        },
        "5e4a3c82c20c433c950e489a34f267be": {
          "model_module": "@jupyter-widgets/controls",
          "model_name": "FloatProgressModel",
          "state": {
            "_view_name": "ProgressView",
            "style": "IPY_MODEL_1acb25b9c2964043b5b1aa460e71fd2c",
            "_dom_classes": [],
            "description": "",
            "_model_name": "FloatProgressModel",
            "bar_style": "success",
            "max": 53,
            "_view_module": "@jupyter-widgets/controls",
            "_model_module_version": "1.5.0",
            "value": 53,
            "_view_count": null,
            "_view_module_version": "1.5.0",
            "orientation": "horizontal",
            "min": 0,
            "description_tooltip": null,
            "_model_module": "@jupyter-widgets/controls",
            "layout": "IPY_MODEL_3e271b9fa1a044b7b35823e512ea6dd6"
          }
        },
        "b4c09fc4461d42349bdd51cd20bf06bb": {
          "model_module": "@jupyter-widgets/controls",
          "model_name": "HTMLModel",
          "state": {
            "_view_name": "HTMLView",
            "style": "IPY_MODEL_e3b6dd570d444667ac4173086b4ebd4e",
            "_dom_classes": [],
            "description": "",
            "_model_name": "HTMLModel",
            "placeholder": "​",
            "_view_module": "@jupyter-widgets/controls",
            "_model_module_version": "1.5.0",
            "value": " 53/53 [00:01&lt;00:00, 27.87it/s]",
            "_view_count": null,
            "_view_module_version": "1.5.0",
            "description_tooltip": null,
            "_model_module": "@jupyter-widgets/controls",
            "layout": "IPY_MODEL_ec6f36849e4d41ab805162c5510fd7cc"
          }
        },
        "8fa84e182bd54503894767fd39aac394": {
          "model_module": "@jupyter-widgets/controls",
          "model_name": "DescriptionStyleModel",
          "state": {
            "_view_name": "StyleView",
            "_model_name": "DescriptionStyleModel",
            "description_width": "",
            "_view_module": "@jupyter-widgets/base",
            "_model_module_version": "1.5.0",
            "_view_count": null,
            "_view_module_version": "1.2.0",
            "_model_module": "@jupyter-widgets/controls"
          }
        },
        "6ccd618c1aa7494cb08273870aff9af7": {
          "model_module": "@jupyter-widgets/base",
          "model_name": "LayoutModel",
          "state": {
            "_view_name": "LayoutView",
            "grid_template_rows": null,
            "right": null,
            "justify_content": null,
            "_view_module": "@jupyter-widgets/base",
            "overflow": null,
            "_model_module_version": "1.2.0",
            "_view_count": null,
            "flex_flow": null,
            "width": null,
            "min_width": null,
            "border": null,
            "align_items": null,
            "bottom": null,
            "_model_module": "@jupyter-widgets/base",
            "top": null,
            "grid_column": null,
            "overflow_y": null,
            "overflow_x": null,
            "grid_auto_flow": null,
            "grid_area": null,
            "grid_template_columns": null,
            "flex": null,
            "_model_name": "LayoutModel",
            "justify_items": null,
            "grid_row": null,
            "max_height": null,
            "align_content": null,
            "visibility": null,
            "align_self": null,
            "height": null,
            "min_height": null,
            "padding": null,
            "grid_auto_rows": null,
            "grid_gap": null,
            "max_width": null,
            "order": null,
            "_view_module_version": "1.2.0",
            "grid_template_areas": null,
            "object_position": null,
            "object_fit": null,
            "grid_auto_columns": null,
            "margin": null,
            "display": null,
            "left": null
          }
        },
        "1acb25b9c2964043b5b1aa460e71fd2c": {
          "model_module": "@jupyter-widgets/controls",
          "model_name": "ProgressStyleModel",
          "state": {
            "_view_name": "StyleView",
            "_model_name": "ProgressStyleModel",
            "description_width": "",
            "_view_module": "@jupyter-widgets/base",
            "_model_module_version": "1.5.0",
            "_view_count": null,
            "_view_module_version": "1.2.0",
            "bar_color": null,
            "_model_module": "@jupyter-widgets/controls"
          }
        },
        "3e271b9fa1a044b7b35823e512ea6dd6": {
          "model_module": "@jupyter-widgets/base",
          "model_name": "LayoutModel",
          "state": {
            "_view_name": "LayoutView",
            "grid_template_rows": null,
            "right": null,
            "justify_content": null,
            "_view_module": "@jupyter-widgets/base",
            "overflow": null,
            "_model_module_version": "1.2.0",
            "_view_count": null,
            "flex_flow": null,
            "width": null,
            "min_width": null,
            "border": null,
            "align_items": null,
            "bottom": null,
            "_model_module": "@jupyter-widgets/base",
            "top": null,
            "grid_column": null,
            "overflow_y": null,
            "overflow_x": null,
            "grid_auto_flow": null,
            "grid_area": null,
            "grid_template_columns": null,
            "flex": null,
            "_model_name": "LayoutModel",
            "justify_items": null,
            "grid_row": null,
            "max_height": null,
            "align_content": null,
            "visibility": null,
            "align_self": null,
            "height": null,
            "min_height": null,
            "padding": null,
            "grid_auto_rows": null,
            "grid_gap": null,
            "max_width": null,
            "order": null,
            "_view_module_version": "1.2.0",
            "grid_template_areas": null,
            "object_position": null,
            "object_fit": null,
            "grid_auto_columns": null,
            "margin": null,
            "display": null,
            "left": null
          }
        },
        "e3b6dd570d444667ac4173086b4ebd4e": {
          "model_module": "@jupyter-widgets/controls",
          "model_name": "DescriptionStyleModel",
          "state": {
            "_view_name": "StyleView",
            "_model_name": "DescriptionStyleModel",
            "description_width": "",
            "_view_module": "@jupyter-widgets/base",
            "_model_module_version": "1.5.0",
            "_view_count": null,
            "_view_module_version": "1.2.0",
            "_model_module": "@jupyter-widgets/controls"
          }
        },
        "ec6f36849e4d41ab805162c5510fd7cc": {
          "model_module": "@jupyter-widgets/base",
          "model_name": "LayoutModel",
          "state": {
            "_view_name": "LayoutView",
            "grid_template_rows": null,
            "right": null,
            "justify_content": null,
            "_view_module": "@jupyter-widgets/base",
            "overflow": null,
            "_model_module_version": "1.2.0",
            "_view_count": null,
            "flex_flow": null,
            "width": null,
            "min_width": null,
            "border": null,
            "align_items": null,
            "bottom": null,
            "_model_module": "@jupyter-widgets/base",
            "top": null,
            "grid_column": null,
            "overflow_y": null,
            "overflow_x": null,
            "grid_auto_flow": null,
            "grid_area": null,
            "grid_template_columns": null,
            "flex": null,
            "_model_name": "LayoutModel",
            "justify_items": null,
            "grid_row": null,
            "max_height": null,
            "align_content": null,
            "visibility": null,
            "align_self": null,
            "height": null,
            "min_height": null,
            "padding": null,
            "grid_auto_rows": null,
            "grid_gap": null,
            "max_width": null,
            "order": null,
            "_view_module_version": "1.2.0",
            "grid_template_areas": null,
            "object_position": null,
            "object_fit": null,
            "grid_auto_columns": null,
            "margin": null,
            "display": null,
            "left": null
          }
        }
      }
    }
  },
  "cells": [
    {
      "cell_type": "markdown",
      "metadata": {
        "id": "dgD3XbPds9xQ"
      },
      "source": [
        "# Automated Essay Scoring\n",
        "Automated scoring of social study evaluation"
      ]
    },
    {
      "cell_type": "markdown",
      "metadata": {
        "id": "v27TWYp_s9xR"
      },
      "source": [
        "### Project Repo \n",
        "https://github.com/Testbild/azubi_evaluation_ml_with_tf"
      ]
    },
    {
      "cell_type": "markdown",
      "metadata": {
        "id": "4Nbtlpq0s9xS"
      },
      "source": [
        "## Participants:\n",
        "Name / Github User  \n",
        "\n",
        "Christopher Hansen / Testbild  \n",
        "Sabrina Ludwig / saludwig26  \n",
        "Kerstin Eilers / kemeni23  \n",
        "Christian Mayer / maychr"
      ]
    },
    {
      "cell_type": "markdown",
      "metadata": {
        "id": "_OAz0ANbs9xS"
      },
      "source": [
        "### Course and Semester\n",
        "Machine Learning With Tensorflow / SoSe2021"
      ]
    },
    {
      "cell_type": "markdown",
      "metadata": {
        "id": "-0JN1ztBs9xT"
      },
      "source": [
        "### License\n",
        "If you are releasing the software under some certain license, you can mention it and also include the `LICENSE.md` file in the folder\n",
        "\n",
        "---"
      ]
    },
    {
      "cell_type": "code",
      "metadata": {
        "id": "EKuWTTVMs9xU"
      },
      "source": [
        "# Here you can start your code! Thanks"
      ],
      "execution_count": 1,
      "outputs": []
    },
    {
      "cell_type": "code",
      "metadata": {
        "id": "9U9Scx8Q1jps",
        "colab": {
          "base_uri": "https://localhost:8080/"
        },
        "outputId": "51f3508c-da8f-41c8-9c0c-02e48bf24e72"
      },
      "source": [
        "!pip install tensorflow-text"
      ],
      "execution_count": 2,
      "outputs": [
        {
          "output_type": "stream",
          "text": [
            "Collecting tensorflow-text\n",
            "\u001b[?25l  Downloading https://files.pythonhosted.org/packages/c0/ed/bbb51e9eccca0c2bfdf9df66e54cdff563b6f32daed9255da9b9a541368f/tensorflow_text-2.5.0-cp37-cp37m-manylinux1_x86_64.whl (4.3MB)\n",
            "\u001b[K     |████████████████████████████████| 4.3MB 7.9MB/s \n",
            "\u001b[?25hRequirement already satisfied: tensorflow-hub>=0.8.0 in /usr/local/lib/python3.7/dist-packages (from tensorflow-text) (0.12.0)\n",
            "Requirement already satisfied: tensorflow<2.6,>=2.5.0 in /usr/local/lib/python3.7/dist-packages (from tensorflow-text) (2.5.0)\n",
            "Requirement already satisfied: protobuf>=3.8.0 in /usr/local/lib/python3.7/dist-packages (from tensorflow-hub>=0.8.0->tensorflow-text) (3.12.4)\n",
            "Requirement already satisfied: numpy>=1.12.0 in /usr/local/lib/python3.7/dist-packages (from tensorflow-hub>=0.8.0->tensorflow-text) (1.19.5)\n",
            "Requirement already satisfied: google-pasta~=0.2 in /usr/local/lib/python3.7/dist-packages (from tensorflow<2.6,>=2.5.0->tensorflow-text) (0.2.0)\n",
            "Requirement already satisfied: gast==0.4.0 in /usr/local/lib/python3.7/dist-packages (from tensorflow<2.6,>=2.5.0->tensorflow-text) (0.4.0)\n",
            "Requirement already satisfied: typing-extensions~=3.7.4 in /usr/local/lib/python3.7/dist-packages (from tensorflow<2.6,>=2.5.0->tensorflow-text) (3.7.4.3)\n",
            "Requirement already satisfied: absl-py~=0.10 in /usr/local/lib/python3.7/dist-packages (from tensorflow<2.6,>=2.5.0->tensorflow-text) (0.12.0)\n",
            "Requirement already satisfied: tensorboard~=2.5 in /usr/local/lib/python3.7/dist-packages (from tensorflow<2.6,>=2.5.0->tensorflow-text) (2.5.0)\n",
            "Requirement already satisfied: termcolor~=1.1.0 in /usr/local/lib/python3.7/dist-packages (from tensorflow<2.6,>=2.5.0->tensorflow-text) (1.1.0)\n",
            "Requirement already satisfied: wheel~=0.35 in /usr/local/lib/python3.7/dist-packages (from tensorflow<2.6,>=2.5.0->tensorflow-text) (0.36.2)\n",
            "Requirement already satisfied: keras-preprocessing~=1.1.2 in /usr/local/lib/python3.7/dist-packages (from tensorflow<2.6,>=2.5.0->tensorflow-text) (1.1.2)\n",
            "Requirement already satisfied: opt-einsum~=3.3.0 in /usr/local/lib/python3.7/dist-packages (from tensorflow<2.6,>=2.5.0->tensorflow-text) (3.3.0)\n",
            "Requirement already satisfied: h5py~=3.1.0 in /usr/local/lib/python3.7/dist-packages (from tensorflow<2.6,>=2.5.0->tensorflow-text) (3.1.0)\n",
            "Requirement already satisfied: keras-nightly~=2.5.0.dev in /usr/local/lib/python3.7/dist-packages (from tensorflow<2.6,>=2.5.0->tensorflow-text) (2.5.0.dev2021032900)\n",
            "Requirement already satisfied: flatbuffers~=1.12.0 in /usr/local/lib/python3.7/dist-packages (from tensorflow<2.6,>=2.5.0->tensorflow-text) (1.12)\n",
            "Requirement already satisfied: astunparse~=1.6.3 in /usr/local/lib/python3.7/dist-packages (from tensorflow<2.6,>=2.5.0->tensorflow-text) (1.6.3)\n",
            "Requirement already satisfied: wrapt~=1.12.1 in /usr/local/lib/python3.7/dist-packages (from tensorflow<2.6,>=2.5.0->tensorflow-text) (1.12.1)\n",
            "Requirement already satisfied: tensorflow-estimator<2.6.0,>=2.5.0rc0 in /usr/local/lib/python3.7/dist-packages (from tensorflow<2.6,>=2.5.0->tensorflow-text) (2.5.0)\n",
            "Requirement already satisfied: six~=1.15.0 in /usr/local/lib/python3.7/dist-packages (from tensorflow<2.6,>=2.5.0->tensorflow-text) (1.15.0)\n",
            "Requirement already satisfied: grpcio~=1.34.0 in /usr/local/lib/python3.7/dist-packages (from tensorflow<2.6,>=2.5.0->tensorflow-text) (1.34.1)\n",
            "Requirement already satisfied: setuptools in /usr/local/lib/python3.7/dist-packages (from protobuf>=3.8.0->tensorflow-hub>=0.8.0->tensorflow-text) (57.0.0)\n",
            "Requirement already satisfied: markdown>=2.6.8 in /usr/local/lib/python3.7/dist-packages (from tensorboard~=2.5->tensorflow<2.6,>=2.5.0->tensorflow-text) (3.3.4)\n",
            "Requirement already satisfied: requests<3,>=2.21.0 in /usr/local/lib/python3.7/dist-packages (from tensorboard~=2.5->tensorflow<2.6,>=2.5.0->tensorflow-text) (2.23.0)\n",
            "Requirement already satisfied: tensorboard-data-server<0.7.0,>=0.6.0 in /usr/local/lib/python3.7/dist-packages (from tensorboard~=2.5->tensorflow<2.6,>=2.5.0->tensorflow-text) (0.6.1)\n",
            "Requirement already satisfied: tensorboard-plugin-wit>=1.6.0 in /usr/local/lib/python3.7/dist-packages (from tensorboard~=2.5->tensorflow<2.6,>=2.5.0->tensorflow-text) (1.8.0)\n",
            "Requirement already satisfied: werkzeug>=0.11.15 in /usr/local/lib/python3.7/dist-packages (from tensorboard~=2.5->tensorflow<2.6,>=2.5.0->tensorflow-text) (1.0.1)\n",
            "Requirement already satisfied: google-auth<2,>=1.6.3 in /usr/local/lib/python3.7/dist-packages (from tensorboard~=2.5->tensorflow<2.6,>=2.5.0->tensorflow-text) (1.31.0)\n",
            "Requirement already satisfied: google-auth-oauthlib<0.5,>=0.4.1 in /usr/local/lib/python3.7/dist-packages (from tensorboard~=2.5->tensorflow<2.6,>=2.5.0->tensorflow-text) (0.4.4)\n",
            "Requirement already satisfied: cached-property; python_version < \"3.8\" in /usr/local/lib/python3.7/dist-packages (from h5py~=3.1.0->tensorflow<2.6,>=2.5.0->tensorflow-text) (1.5.2)\n",
            "Requirement already satisfied: importlib-metadata; python_version < \"3.8\" in /usr/local/lib/python3.7/dist-packages (from markdown>=2.6.8->tensorboard~=2.5->tensorflow<2.6,>=2.5.0->tensorflow-text) (4.5.0)\n",
            "Requirement already satisfied: chardet<4,>=3.0.2 in /usr/local/lib/python3.7/dist-packages (from requests<3,>=2.21.0->tensorboard~=2.5->tensorflow<2.6,>=2.5.0->tensorflow-text) (3.0.4)\n",
            "Requirement already satisfied: urllib3!=1.25.0,!=1.25.1,<1.26,>=1.21.1 in /usr/local/lib/python3.7/dist-packages (from requests<3,>=2.21.0->tensorboard~=2.5->tensorflow<2.6,>=2.5.0->tensorflow-text) (1.24.3)\n",
            "Requirement already satisfied: certifi>=2017.4.17 in /usr/local/lib/python3.7/dist-packages (from requests<3,>=2.21.0->tensorboard~=2.5->tensorflow<2.6,>=2.5.0->tensorflow-text) (2021.5.30)\n",
            "Requirement already satisfied: idna<3,>=2.5 in /usr/local/lib/python3.7/dist-packages (from requests<3,>=2.21.0->tensorboard~=2.5->tensorflow<2.6,>=2.5.0->tensorflow-text) (2.10)\n",
            "Requirement already satisfied: cachetools<5.0,>=2.0.0 in /usr/local/lib/python3.7/dist-packages (from google-auth<2,>=1.6.3->tensorboard~=2.5->tensorflow<2.6,>=2.5.0->tensorflow-text) (4.2.2)\n",
            "Requirement already satisfied: pyasn1-modules>=0.2.1 in /usr/local/lib/python3.7/dist-packages (from google-auth<2,>=1.6.3->tensorboard~=2.5->tensorflow<2.6,>=2.5.0->tensorflow-text) (0.2.8)\n",
            "Requirement already satisfied: rsa<5,>=3.1.4; python_version >= \"3.6\" in /usr/local/lib/python3.7/dist-packages (from google-auth<2,>=1.6.3->tensorboard~=2.5->tensorflow<2.6,>=2.5.0->tensorflow-text) (4.7.2)\n",
            "Requirement already satisfied: requests-oauthlib>=0.7.0 in /usr/local/lib/python3.7/dist-packages (from google-auth-oauthlib<0.5,>=0.4.1->tensorboard~=2.5->tensorflow<2.6,>=2.5.0->tensorflow-text) (1.3.0)\n",
            "Requirement already satisfied: zipp>=0.5 in /usr/local/lib/python3.7/dist-packages (from importlib-metadata; python_version < \"3.8\"->markdown>=2.6.8->tensorboard~=2.5->tensorflow<2.6,>=2.5.0->tensorflow-text) (3.4.1)\n",
            "Requirement already satisfied: pyasn1<0.5.0,>=0.4.6 in /usr/local/lib/python3.7/dist-packages (from pyasn1-modules>=0.2.1->google-auth<2,>=1.6.3->tensorboard~=2.5->tensorflow<2.6,>=2.5.0->tensorflow-text) (0.4.8)\n",
            "Requirement already satisfied: oauthlib>=3.0.0 in /usr/local/lib/python3.7/dist-packages (from requests-oauthlib>=0.7.0->google-auth-oauthlib<0.5,>=0.4.1->tensorboard~=2.5->tensorflow<2.6,>=2.5.0->tensorflow-text) (3.1.1)\n",
            "Installing collected packages: tensorflow-text\n",
            "Successfully installed tensorflow-text-2.5.0\n"
          ],
          "name": "stdout"
        }
      ]
    },
    {
      "cell_type": "code",
      "metadata": {
        "id": "dGobds8gs9xV"
      },
      "source": [
        "import numpy as np\n",
        "import matplotlib.pyplot as plt\n",
        "from matplotlib import pyplot\n",
        "import seaborn as sns\n",
        "import csv\n",
        "import os\n",
        "import pandas as pd\n",
        "from sklearn.model_selection import train_test_split\n",
        "\n",
        "from tensorflow.keras.preprocessing.sequence import pad_sequences\n",
        "from tensorflow.keras.layers import Embedding, LSTM, Dense, Dropout, Bidirectional\n",
        "from tensorflow.keras.preprocessing.text import Tokenizer\n",
        "from tensorflow.keras.models import Sequential\n",
        "from tensorflow.keras.optimizers import Adam\n",
        "from tensorflow.keras import regularizers\n",
        "from keras import regularizers\n",
        "import tensorflow.keras.utils as ku\n",
        "from tensorflow.keras.utils import to_categorical\n",
        "import tensorflow_hub as hub\n",
        "\n",
        "from sklearn.naive_bayes import MultinomialNB\n",
        "from sklearn.pipeline import Pipeline\n",
        "from sklearn.feature_extraction.text import TfidfTransformer\n",
        "from sklearn.linear_model import SGDClassifier\n",
        "from sklearn.linear_model import LogisticRegression\n",
        "from sklearn.metrics import recall_score, precision_score, f1_score\n",
        "\n",
        "from sklearn.ensemble import RandomForestClassifier\n",
        "from sklearn.preprocessing import StandardScaler\n",
        "from sklearn.metrics import classification_report, confusion_matrix, accuracy_score\n",
        "\n",
        "from sklearn.datasets import make_classification\n",
        "from sklearn.model_selection import cross_val_score\n",
        "from sklearn.model_selection import RepeatedStratifiedKFold\n",
        "from sklearn.ensemble import RandomForestClassifier\n",
        "import matplotlib.pyplot as plt\n",
        "import matplotlib.image as mpimg\n",
        "from sklearn.naive_bayes import MultinomialNB\n",
        "from sklearn.pipeline import Pipeline\n",
        "\n",
        "from sklearn.feature_extraction.text import CountVectorizer\n",
        "\n",
        "from gensim.models import Word2Vec\n",
        "from gensim.models import KeyedVectors\n",
        "\n",
        "\n",
        "import nltk \n",
        "from nltk.corpus import stopwords\n",
        "from nltk.stem.snowball import SnowballStemmer\n",
        "from nltk.tokenize import word_tokenize \n",
        "\n",
        "import tensorflow as tf\n",
        "import random\n",
        "\n",
        "import tensorflow_text as text "
      ],
      "execution_count": 3,
      "outputs": []
    },
    {
      "cell_type": "code",
      "metadata": {
        "id": "vR3fbbyfs9xV",
        "colab": {
          "resources": {
            "http://localhost:8080/nbextensions/google.colab/files.js": {
              "data": "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",
              "ok": true,
              "headers": [
                [
                  "content-type",
                  "application/javascript"
                ]
              ],
              "status": 200,
              "status_text": "OK"
            }
          },
          "base_uri": "https://localhost:8080/",
          "height": 74
        },
        "outputId": "e614f95a-befa-4f5b-9c23-1c4071ed1b74"
      },
      "source": [
        "#In case of Google Colab run this:\n",
        "from google.colab import files\n",
        "uploaded = files.upload()"
      ],
      "execution_count": 4,
      "outputs": [
        {
          "output_type": "display_data",
          "data": {
            "text/html": [
              "\n",
              "     <input type=\"file\" id=\"files-e99e3245-37a1-4e41-ac9d-ad6efc068f37\" name=\"files[]\" multiple disabled\n",
              "        style=\"border:none\" />\n",
              "     <output id=\"result-e99e3245-37a1-4e41-ac9d-ad6efc068f37\">\n",
              "      Upload widget is only available when the cell has been executed in the\n",
              "      current browser session. Please rerun this cell to enable.\n",
              "      </output>\n",
              "      <script src=\"/nbextensions/google.colab/files.js\"></script> "
            ],
            "text/plain": [
              "<IPython.core.display.HTML object>"
            ]
          },
          "metadata": {
            "tags": []
          }
        },
        {
          "output_type": "stream",
          "text": [
            "Saving data_MailsAndPC.csv to data_MailsAndPC.csv\n"
          ],
          "name": "stdout"
        }
      ]
    },
    {
      "cell_type": "code",
      "metadata": {
        "id": "1qU6uzHys9xW"
      },
      "source": [
        "import io\n",
        "azubi_df = pd.read_csv(io.BytesIO(uploaded['data_MailsAndPC.csv']))"
      ],
      "execution_count": 5,
      "outputs": []
    },
    {
      "cell_type": "code",
      "metadata": {
        "id": "FFzncW_Ouehq"
      },
      "source": [
        "#Global Hyperparameters\n",
        "vocab_size = 3000\n",
        "embedding_dim = 32\n",
        "max_length = 120\n",
        "trunc_type='post'\n",
        "padding_type='post'\n",
        "oov_tok = \"<OOV>\""
      ],
      "execution_count": 6,
      "outputs": []
    },
    {
      "cell_type": "code",
      "metadata": {
        "id": "HM2nxJkJs9xW"
      },
      "source": [
        "#In case of local github export run this:\n",
        "#DATA_FOLDER = './../data'\n",
        "#AZUBI_DATA = 'data_MailsAndPC.csv'\n",
        "#AZUBI_DATA_CLEANED = 'data_MailsAndPC_cleaned.csv'\n",
        "#azubi_df = pd.read_csv(os.path.join(DATA_FOLDER, AZUBI_DATA))"
      ],
      "execution_count": 7,
      "outputs": []
    },
    {
      "cell_type": "markdown",
      "metadata": {
        "id": "lm2kVe3jz61A"
      },
      "source": [
        "# Data Preparation\n"
      ]
    },
    {
      "cell_type": "markdown",
      "metadata": {
        "id": "dCvEwcJz-daw"
      },
      "source": [
        "## Data Preparation Functions"
      ]
    },
    {
      "cell_type": "markdown",
      "metadata": {
        "id": "3T1-ZdC78Mk8"
      },
      "source": [
        "Selects the mail and item of interest from the azubi dataframe.  \n",
        "\n",
        "Returns the dataframe only containing the columns of interest."
      ]
    },
    {
      "cell_type": "code",
      "metadata": {
        "id": "7Zm-nnaJQqWN"
      },
      "source": [
        "def selectColumns(azubi_df, mail, item):\n",
        "\n",
        "  azubi_df_selected_columns = azubi_df[[mail,item]]\n",
        "\n",
        "  return azubi_df_selected_columns"
      ],
      "execution_count": 8,
      "outputs": []
    },
    {
      "cell_type": "markdown",
      "metadata": {
        "id": "zpJGo1yR7yBF"
      },
      "source": [
        "The dataframe needs to be cleaned from NaN values, as well as error codes in the labels. Furthermore linebreaks are indicated with the letters \"cr\". They have to be removed as well. The mails are in German language and we could not think of a German word that contains \"cr\", hence we think it is fine to just remove the \"cr\" and replace it with a space.  \n",
        "\n",
        "Returns the cleaned azubi dataframe.\n",
        "\n",
        "Expects the dataframe, the mail of interest, as well as the item of interest."
      ]
    },
    {
      "cell_type": "code",
      "metadata": {
        "id": "253GubJ5s9xZ"
      },
      "source": [
        "def cleanupDataframe(azubi_df, mail, item):\n",
        "    #Remove unneccesary columns\n",
        "    #azubi_df = azubi_df.drop(columns=['Unnamed: 0', 'id'])\n",
        "    #Remove \"cr\". Assumption made, that there are no real words containing cr in the mails.\n",
        "    azubi_df[\"S1_mail\"] = azubi_df[\"S1_mail\"].str.replace(\"cr\", \" \")\n",
        "    azubi_df[\"S2_mail\"] = azubi_df[\"S2_mail\"].str.replace(\"cr\", \" \")\n",
        "    azubi_df[\"S3_mail\"] = azubi_df[\"S3_mail\"].str.replace(\"cr\", \" \")\n",
        "    \n",
        "    azubi_df = selectColumns(azubi_df, mail, item)\n",
        "    #Drop NA rows to only have full datasets\n",
        "    azubi_df = azubi_df.dropna()\n",
        "    #Select all rows without '99' | ~ inverts the operator\n",
        "    dropThisNumber = 99\n",
        "    azubi_df = azubi_df[~azubi_df.eq(dropThisNumber).any(1)]\n",
        "    #Select all rows without '6' | ~ inverts the operator\n",
        "    #dropThisNumber = 6\n",
        "    #azubi_df = azubi_df[~azubi_df.eq(dropThisNumber).any(1)]\n",
        "    #Reset the index of the Dataframe\n",
        "    azubi_df = azubi_df.reset_index(drop=True)\n",
        "    return azubi_df"
      ],
      "execution_count": 9,
      "outputs": []
    },
    {
      "cell_type": "markdown",
      "metadata": {
        "id": "yZDIBcct8fnU"
      },
      "source": [
        "The data needs to be split into Train/Dev/Test sets. We use the sklearn train_test_split function and manually divide the dev set into two subsets. Since the classes are not evenly split we also use stratification to make sure the sets contain equal numbers of each class.\n",
        "\n",
        "Returns the X and Y for train, dev and test set.\n",
        "\n",
        "Expects the X and Y that should be split, the test size (float between 0 and 1), a random seed and if stratification should be done."
      ]
    },
    {
      "cell_type": "code",
      "metadata": {
        "id": "iNwHseQc2pCV"
      },
      "source": [
        "def trainDevTestSplit_sklearn(X, Y, testSize, randomSeed, stratify):\n",
        "  #Splits by test size into Train / Dev\n",
        "  #Splits dev then 50/50 into dev and Test\n",
        "\n",
        "  if (stratify == True):\n",
        "    xTrain, xDev, yTrain, yDev = train_test_split(X, Y, test_size=testSize,stratify = Y, random_state=randomSeed)\n",
        "  else:\n",
        "    xTrain, xDev, yTrain, yDev = train_test_split(X, Y, test_size=testSize, random_state=randomSeed)\n",
        "\n",
        "  xTest = xDev[:len(xDev)//2]\n",
        "  yTest = yDev[:len(yDev)//2]\n",
        "  \n",
        "  xDev = xDev[len(xDev)//2:]\n",
        "  yDev = yDev[len(yDev)//2:]\n",
        "  #xDev, yDev, xTest, yTest = train_test_split(xDev, yDev, test_size =0.5, random_state = randomSeed)\n",
        "\n",
        "  return xTrain, yTrain, xDev, yDev, xTest, yTest"
      ],
      "execution_count": 10,
      "outputs": []
    },
    {
      "cell_type": "code",
      "metadata": {
        "id": "aLjrs8Ql3ZsB"
      },
      "source": [
        "def tokenizeData(vocab_size, oov_tok, train_sentences, max_length, padding_type, trunc_type):\n",
        "    tokenizer = Tokenizer(num_words = vocab_size, oov_token=oov_tok)\n",
        "    tokenizer.fit_on_texts(train_sentences)\n",
        "   \n",
        "    word_index = tokenizer.word_index\n",
        "    vocab_size=len(word_index)\n",
        "\n",
        "    print(\"Word Index: \\n\")\n",
        "    print(word_index)\n",
        "    \n",
        "    sequences = tokenizer.texts_to_sequences(train_sentences)\n",
        "\n",
        "    print(\"Sequences: \\n\")\n",
        "    print(sequences)\n",
        "    padded = pad_sequences(sequences, maxlen=max_length, padding=padding_type, truncating=trunc_type)\n",
        "\n",
        "    return padded"
      ],
      "execution_count": 11,
      "outputs": []
    },
    {
      "cell_type": "markdown",
      "metadata": {
        "id": "QhU0PziLAMiQ"
      },
      "source": [
        "The classes are categorical, like schoolgrades and have to be treated as such. In order to make the labels categorical we use One Hot Encoding. Keras provides the function to_categorical, which is used here. Since the Keras function checks the highest integer and makes as many columns as this number we have to remove the columns that are all zero. (E.g. your classes are 1,2 and 9 then to_categorical will make 9 columns, where 6 of them are always zero).\n",
        "\n",
        "Returns one hot encoded labels.\n",
        "\n",
        "Expects the labels to encode and if the zero columns should be removed (bool)."
      ]
    },
    {
      "cell_type": "code",
      "metadata": {
        "id": "B_XrQiWFyR3D"
      },
      "source": [
        "def oneHotEncodePreSplit(yTrain, removeZeros):\n",
        "  #a = np.array([1, 0, 3])\n",
        "  #yTrain = yTrain.astype(int)\n",
        "  \n",
        "  print(\"Unique Values:\")\n",
        "  print(np.unique(yTrain))\n",
        "  print(\"\\n\")\n",
        "  yTrainOneHot = tf.keras.utils.to_categorical(yTrain)\n",
        "  print(\"Classes before removing zeros:\")\n",
        "  print(yTrainOneHot)\n",
        "  print(yTrainOneHot.sum(axis=0))\n",
        "  print(\"\\n\")\n",
        "\n",
        "  if (removeZeros == True):\n",
        "    yTrainOneHot = yTrainOneHot[:,~np.all(yTrainOneHot == 0, axis = 0)]\n",
        "  print(\"Classes after removing zeros:\")\n",
        "  print(yTrainOneHot)\n",
        "  print(yTrainOneHot.sum(axis=0))\n",
        "  print(\"\\n\")\n",
        "\n",
        "  return yTrainOneHot"
      ],
      "execution_count": 12,
      "outputs": []
    },
    {
      "cell_type": "markdown",
      "metadata": {
        "id": "uC00K9fJA-0m"
      },
      "source": [
        "Some functions and models require the data to be in a list (instead of array or dataframe). This function does this.\n",
        "\n",
        "Returns two lists. A list with the mail sentences and a list with the scores.\n",
        "\n",
        "Expects the azubi dataframe, the mail of interest and the score of interest."
      ]
    },
    {
      "cell_type": "code",
      "metadata": {
        "id": "lXudDjuNRXo1"
      },
      "source": [
        "def makeListSelectedColumns(azubi_df, mail, score):\n",
        "  #Sentence S1\n",
        "  mailSentences = azubi_df[mail].tolist()\n",
        "  #Labels S1\n",
        "  scoreLabels = azubi_df[score].tolist()\n",
        "\n",
        "  return mailSentences, scoreLabels"
      ],
      "execution_count": 13,
      "outputs": []
    },
    {
      "cell_type": "markdown",
      "metadata": {
        "id": "RkFz6t2qQUOn"
      },
      "source": [
        "## Stop Words\n"
      ]
    },
    {
      "cell_type": "markdown",
      "metadata": {
        "id": "4VUrg6JDeSXH"
      },
      "source": [
        "Some words have very little influence on the meaning of the sentence. Those words are stopwords and are usually removed. There are preset stopwords lists which we also took. "
      ]
    },
    {
      "cell_type": "code",
      "metadata": {
        "id": "VMlPtbzIUoTH"
      },
      "source": [
        "#stopwords\n",
        "def removeStopWordsSelectedColumns(azubi_df_cleaned, mail):\n",
        "\n",
        "  nltk.download('punkt')\n",
        "  nltk.download('stopwords')\n",
        "\n",
        "  stemmer = SnowballStemmer(\"german\")\n",
        "  stop_words = set(stopwords.words(\"german\"))\n",
        "  #stop_words.add('Meier')\n",
        "  #stop_words.add('Neumann')\n",
        "\n",
        "  azubi_df_cleaned_no_stopwords = pd.DataFrame()\n",
        "\n",
        "  pat = r'\\b(?:{})\\b'.format('|'.join(stop_words))\n",
        "  azubi_df_cleaned[mail] = azubi_df_cleaned[mail].str.replace(pat, '')\n",
        "  azubi_df_cleaned[mail] = azubi_df_cleaned[mail].str.replace(r'\\s+', ' ')\n",
        "\n",
        "  return azubi_df_cleaned\n",
        "\n"
      ],
      "execution_count": 14,
      "outputs": []
    },
    {
      "cell_type": "markdown",
      "metadata": {
        "id": "GqY5lr_m28HI"
      },
      "source": [
        "## Show Model Performance"
      ]
    },
    {
      "cell_type": "markdown",
      "metadata": {
        "id": "NF6IenX9mi_t"
      },
      "source": [
        "Comfort function for easier plotting of the graphs"
      ]
    },
    {
      "cell_type": "code",
      "metadata": {
        "id": "p5nwd0d726iw"
      },
      "source": [
        "def showModelPerformance(history, string):\n",
        "    plt.plot(history.history[string])\n",
        "    plt.plot(history.history['val_'+string])\n",
        "    plt.xlabel(\"Epochs\")\n",
        "    plt.ylabel(string)\n",
        "    plt.title('Random Forest Model')\n",
        "    plt.legend([string, 'val_'+string])\n",
        "    plt.show()\n",
        "\n",
        "    return"
      ],
      "execution_count": 15,
      "outputs": []
    },
    {
      "cell_type": "markdown",
      "metadata": {
        "id": "b1o5IhvFEhdq"
      },
      "source": [
        "## Combine all mails for a4s2_combined_i2b score"
      ]
    },
    {
      "cell_type": "markdown",
      "metadata": {
        "id": "NhCqEW2vmnwL"
      },
      "source": [
        "The score a4s1i2b, a4s2i2b and a4s3i2b describes the politeness of the mail. This score is unrelated to the topic of the mail. Hence to have more training data available all mails have been combined to train this score."
      ]
    },
    {
      "cell_type": "code",
      "metadata": {
        "id": "2fY2PLulBOQ6"
      },
      "source": [
        "#Create new dataframe\n",
        "azubi_df_mails_and_scored_combined = pd.DataFrame(columns=[\"Mails_Combined\", \"a4s_combined_i2b\"])\n",
        "#Use cleanup function to select the correct data from the dataframe\n",
        "azubi_df_mail1 = cleanupDataframe(azubi_df, 'S1_mail', 'a4s1i2b')\n",
        "azubi_df_mail2 = cleanupDataframe(azubi_df, 'S2_mail', 'a4s2i2b')\n",
        "azubi_df_mail3 = cleanupDataframe(azubi_df, 'S3_mail', 'a4s3i2b')"
      ],
      "execution_count": 16,
      "outputs": []
    },
    {
      "cell_type": "code",
      "metadata": {
        "id": "W_3-vjNKCJTk"
      },
      "source": [
        "#Rename the columns\n",
        "azubi_df_mail1_renamed = azubi_df_mail1.rename(columns={\"S1_mail\": \"Mails_Combined\", \"a4s1i2b\": \"a4s_combined_i2b\"})\n",
        "azubi_df_mail2_renamed = azubi_df_mail2.rename(columns={\"S2_mail\": \"Mails_Combined\", \"a4s2i2b\": \"a4s_combined_i2b\"})\n",
        "azubi_df_mail3_renamed = azubi_df_mail3.rename(columns={\"S3_mail\": \"Mails_Combined\", \"a4s3i2b\": \"a4s_combined_i2b\"})"
      ],
      "execution_count": 17,
      "outputs": []
    },
    {
      "cell_type": "code",
      "metadata": {
        "id": "4hdbd12mCv0f"
      },
      "source": [
        "#Append the renamed columns, ignore index so it is appended at the end\n",
        "azubi_df_mails_and_scored_combined = azubi_df_mails_and_scored_combined.append(azubi_df_mail1_renamed, ignore_index=True)\n",
        "azubi_df_mails_and_scored_combined = azubi_df_mails_and_scored_combined.append(azubi_df_mail2_renamed, ignore_index=True)\n",
        "azubi_df_mails_and_scored_combined = azubi_df_mails_and_scored_combined.append(azubi_df_mail3_renamed, ignore_index=True)"
      ],
      "execution_count": 18,
      "outputs": []
    },
    {
      "cell_type": "code",
      "metadata": {
        "id": "78LqLIZjC5zb"
      },
      "source": [
        "azubi_df_mails_and_scored_combined = azubi_df_mails_and_scored_combined[azubi_df_mails_and_scored_combined.a4s_combined_i2b != 9.0]\n",
        "azubi_df_mails_and_scored_combined = azubi_df_mails_and_scored_combined[azubi_df_mails_and_scored_combined.a4s_combined_i2b != 2.0]\n",
        "azubi_df_mails_and_scored_combined = azubi_df_mails_and_scored_combined.reset_index()"
      ],
      "execution_count": 19,
      "outputs": []
    },
    {
      "cell_type": "code",
      "metadata": {
        "id": "TAjvQ3lw3vif"
      },
      "source": [
        "azubi_df_mails_and_scored_combined['Mails_Combined'][2]"
      ],
      "execution_count": null,
      "outputs": []
    },
    {
      "cell_type": "code",
      "metadata": {
        "id": "iaoTEgisESHp",
        "colab": {
          "base_uri": "https://localhost:8080/"
        },
        "outputId": "d9c7cedf-b654-437c-c419-23ce6d0adeb4"
      },
      "source": [
        "azubi_df_mails_and_scored_combined['a4s_combined_i2b']"
      ],
      "execution_count": 21,
      "outputs": [
        {
          "output_type": "execute_result",
          "data": {
            "text/plain": [
              "0       1.0\n",
              "1       1.0\n",
              "2       0.0\n",
              "3       1.0\n",
              "4       1.0\n",
              "       ... \n",
              "2082    0.0\n",
              "2083    1.0\n",
              "2084    1.0\n",
              "2085    1.0\n",
              "2086    1.0\n",
              "Name: a4s_combined_i2b, Length: 2087, dtype: float64"
            ]
          },
          "metadata": {
            "tags": []
          },
          "execution_count": 21
        }
      ]
    },
    {
      "cell_type": "code",
      "metadata": {
        "id": "BltN2QS78Tdc"
      },
      "source": [
        "azubi_df_mails_and_scored_combined"
      ],
      "execution_count": null,
      "outputs": []
    },
    {
      "cell_type": "markdown",
      "metadata": {
        "id": "XW2NGDIXg9Zh"
      },
      "source": [
        "### Selected Columns Scores"
      ]
    },
    {
      "cell_type": "markdown",
      "metadata": {
        "id": "oVg01P4knC_k"
      },
      "source": [
        "This function returns the Train, Dev and Test sets, as well as the cleaned azubi_df. The Train, Dev and Test sets (including labels) are in a format, that can be read by the models afterwards."
      ]
    },
    {
      "cell_type": "code",
      "metadata": {
        "id": "yvdbiU3MRJH-"
      },
      "source": [
        "def prepareDataSelectedColumns(azubi_df, mail, score, doCleanup, paddedOutput, word2vec): \n",
        "  #Prepare the data\n",
        "  if doCleanup == True:\n",
        "    azubi_df_cleaned = cleanupDataframe(azubi_df, mail, score)\n",
        "  else:\n",
        "    azubi_df_cleaned = azubi_df\n",
        "  #print(azubi_df_cleaned[score][9])\n",
        "\n",
        "  #Remove Stop words\n",
        "  #azubi_df_cleaned_no_stopwords = removeStopWordsSelectedColumns(azubi_df_cleaned, mail)\n",
        "  mailSentences, scoreLabels = makeListSelectedColumns(azubi_df_cleaned, mail, score)\n",
        "  print(len(mailSentences))\n",
        "  print(len(scoreLabels))\n",
        "\n",
        "  yTrainOneHot = oneHotEncodePreSplit(np.array(scoreLabels), True)\n",
        "\n",
        "  if paddedOutput == True and word2vec == False:\n",
        "    print(\"Padded Output True\")\n",
        "    padded = tokenizeData(vocab_size, oov_tok, mailSentences, max_length, padding_type, trunc_type)\n",
        "    xTrain, yTrain, xVal, yVal, xTest, yTest = trainDevTestSplit_sklearn(padded, yTrainOneHot, 0.1, 42, False)\n",
        "  elif word2vec == True and paddedOutput == False:\n",
        "    padded = word2vecTokenizer(mailSentences, glove_vectors)\n",
        "    print(padded)\n",
        "  else:\n",
        "    xTrain, yTrain, xVal, yVal, xTest, yTest = trainDevTestSplit_sklearn(mailSentences, yTrainOneHot, 0.4, 42, False)\n",
        "\n",
        "  xTrainArray = xTrain#np.array(xTrain)\n",
        "  yTrainArray = yTrain#np.array(yTrain)\n",
        "\n",
        "\n",
        "  xValArray = xVal#np.array(xVal)\n",
        "  yValArray = yVal#np.array(yVal)\n",
        "\n",
        "\n",
        "  xTestArray = xTest#np.array(xTest)\n",
        "  yTestArray = yTest#np.array(yTest)\n",
        "  print(len(xTrainArray))\n",
        "  print(len(yTrainArray))\n",
        "  print(len(xValArray))\n",
        "  print(len(yValArray))\n",
        "  print(len(xTestArray))\n",
        "  print(len(yTestArray))\n",
        "\n",
        "\n",
        "  return xTrainArray, yTrainArray, xValArray, yValArray, xTestArray, yTestArray, azubi_df_cleaned\n"
      ],
      "execution_count": 23,
      "outputs": []
    },
    {
      "cell_type": "code",
      "metadata": {
        "id": "Cwbmv5MJ79OJ"
      },
      "source": [
        "#xTrainArray"
      ],
      "execution_count": 24,
      "outputs": []
    },
    {
      "cell_type": "code",
      "metadata": {
        "colab": {
          "base_uri": "https://localhost:8080/"
        },
        "id": "AB1YDw5ZS83B",
        "outputId": "bce2bcf2-6ebb-4636-fce5-57ae05168567"
      },
      "source": [
        "xTrainArray, yTrainArray, xValArray, yValArray, xTestArray, yTestArray, azubi_df_cleaned_no_stopwords = prepareDataSelectedColumns(azubi_df_mails_and_scored_combined, 'Mails_Combined', 'a4s_combined_i2b', False, False, False)"
      ],
      "execution_count": 25,
      "outputs": [
        {
          "output_type": "stream",
          "text": [
            "2087\n",
            "2087\n",
            "Unique Values:\n",
            "[0. 1.]\n",
            "\n",
            "\n",
            "Classes before removing zeros:\n",
            "[[0. 1.]\n",
            " [0. 1.]\n",
            " [1. 0.]\n",
            " ...\n",
            " [0. 1.]\n",
            " [0. 1.]\n",
            " [0. 1.]]\n",
            "[ 146. 1941.]\n",
            "\n",
            "\n",
            "Classes after removing zeros:\n",
            "[[0. 1.]\n",
            " [0. 1.]\n",
            " [1. 0.]\n",
            " ...\n",
            " [0. 1.]\n",
            " [0. 1.]\n",
            " [0. 1.]]\n",
            "[ 146. 1941.]\n",
            "\n",
            "\n",
            "1252\n",
            "1252\n",
            "418\n",
            "418\n",
            "417\n",
            "417\n"
          ],
          "name": "stdout"
        }
      ]
    },
    {
      "cell_type": "code",
      "metadata": {
        "colab": {
          "base_uri": "https://localhost:8080/"
        },
        "id": "ZrP4YZ4mw2bp",
        "outputId": "c87b0a9b-1e84-45a7-d7e5-d8018563e60c"
      },
      "source": [
        "xTrainArray2, yTrainArray2, xValArray2, yValArray2, xTestArray2, yTestArray2, azubi_df_cleaned_no_stopwords2 = prepareDataSelectedColumns(azubi_df, 'S2_mail', 'a4s2i2b', True,  False, False)"
      ],
      "execution_count": 26,
      "outputs": [
        {
          "output_type": "stream",
          "text": [
            "725\n",
            "725\n",
            "Unique Values:\n",
            "[0. 1. 2. 9.]\n",
            "\n",
            "\n",
            "Classes before removing zeros:\n",
            "[[1. 0. 0. ... 0. 0. 0.]\n",
            " [0. 1. 0. ... 0. 0. 0.]\n",
            " [0. 1. 0. ... 0. 0. 0.]\n",
            " ...\n",
            " [0. 1. 0. ... 0. 0. 0.]\n",
            " [0. 1. 0. ... 0. 0. 0.]\n",
            " [0. 1. 0. ... 0. 0. 0.]]\n",
            "[ 38. 666.   1.   0.   0.   0.   0.   0.   0.  20.]\n",
            "\n",
            "\n",
            "Classes after removing zeros:\n",
            "[[1. 0. 0. 0.]\n",
            " [0. 1. 0. 0.]\n",
            " [0. 1. 0. 0.]\n",
            " ...\n",
            " [0. 1. 0. 0.]\n",
            " [0. 1. 0. 0.]\n",
            " [0. 1. 0. 0.]]\n",
            "[ 38. 666.   1.  20.]\n",
            "\n",
            "\n",
            "435\n",
            "435\n",
            "145\n",
            "145\n",
            "145\n",
            "145\n"
          ],
          "name": "stdout"
        }
      ]
    },
    {
      "cell_type": "code",
      "metadata": {
        "id": "N7p2trH64fy9"
      },
      "source": [
        "xTrainArray3, yTrainArray3, xValArray3, yValArray3, xTestArray3, yTestArray3, azubi_df_cleaned_no_stopwords3 = prepareDataSelectedColumns(azubi_df_mails_and_scored_combined, 'Mails_Combined', 'a4s_combined_i2b', False, True, False)"
      ],
      "execution_count": null,
      "outputs": []
    },
    {
      "cell_type": "code",
      "metadata": {
        "id": "DxmhSkL-hE_o",
        "colab": {
          "base_uri": "https://localhost:8080/"
        },
        "outputId": "24fb761a-8db1-410f-9cc7-893b58a2452b"
      },
      "source": [
        "xTrainArray4, yTrainArray4, xValArray4, yValArray4, xTestArray4, yTestArray4, azubi_df_cleaned_no_stopwords4 = prepareDataSelectedColumns(azubi_df_mails_and_scored_combined, 'Mails_Combined', 'a4s_combined_i2b', False, False, False)"
      ],
      "execution_count": 28,
      "outputs": [
        {
          "output_type": "stream",
          "text": [
            "2087\n",
            "2087\n",
            "Unique Values:\n",
            "[0. 1.]\n",
            "\n",
            "\n",
            "Classes before removing zeros:\n",
            "[[0. 1.]\n",
            " [0. 1.]\n",
            " [1. 0.]\n",
            " ...\n",
            " [0. 1.]\n",
            " [0. 1.]\n",
            " [0. 1.]]\n",
            "[ 146. 1941.]\n",
            "\n",
            "\n",
            "Classes after removing zeros:\n",
            "[[0. 1.]\n",
            " [0. 1.]\n",
            " [1. 0.]\n",
            " ...\n",
            " [0. 1.]\n",
            " [0. 1.]\n",
            " [0. 1.]]\n",
            "[ 146. 1941.]\n",
            "\n",
            "\n",
            "1252\n",
            "1252\n",
            "418\n",
            "418\n",
            "417\n",
            "417\n"
          ],
          "name": "stdout"
        }
      ]
    },
    {
      "cell_type": "markdown",
      "metadata": {
        "id": "R00YcxTIvoyG"
      },
      "source": [
        "# Primitive Models"
      ]
    },
    {
      "cell_type": "markdown",
      "metadata": {
        "id": "OcyM88Hdvr8n"
      },
      "source": [
        "## SVM"
      ]
    },
    {
      "cell_type": "markdown",
      "metadata": {
        "id": "msckXYl_Mlzj"
      },
      "source": [
        "Function for a Support Vector Machine with the SGDClassifier (stochastic gradient descent) from the sklearn library.\n",
        "\n",
        "Important hyperparameters: The regularization term \"penalty\" adds a penalty to the loss function using the squared euclidean norm L2 by default. \"alpha\" is a constant by which the regularization term is multiplied; the higher the value, the stronger the regularization; 0.0001 is set by default, but with 0.01 we had the best results. \"max_iter\" is the maximum number of epochs. Finally, \"class_weight\" assigns weights to each class; class_weight = \"balance\" uses the values of the labels to automatically adjust weights inversely proportional to class frequencies. This mode achieved the best results.\n",
        "\n",
        "Funtion returns the model and the prediction of the class labels, and prints the accuracy of the model and the classification report for the two classes. \n",
        "\n",
        "\n"
      ]
    },
    {
      "cell_type": "code",
      "metadata": {
        "id": "-Bngdx1yvoHP"
      },
      "source": [
        "## Linear Support Vector Machine\n",
        "def svmModel(X_train, y_train, X_test, y_test):\n",
        "  sgd = Pipeline([('vect', CountVectorizer()),\n",
        "                ('tfidf', TfidfTransformer()),\n",
        "                ('clf', SGDClassifier(loss='hinge', penalty='l2',alpha=0.01, random_state=42, max_iter=5, tol=None, shuffle=True, class_weight=\"balanced\")), # class_weight={0: 10} \n",
        "               ])\n",
        "  sgd.fit(X_train, y_train)\n",
        "\n",
        "  #%%time\n",
        "  \n",
        "  y_pred = sgd.predict(X_test)\n",
        "  my_tags = ['class 0', 'class 1']\n",
        "\n",
        "  print('accuracy %s' % accuracy_score(y_pred, y_test))\n",
        "  print(classification_report(y_test, y_pred,target_names=my_tags))\n",
        "  return sgd, y_pred"
      ],
      "execution_count": 29,
      "outputs": []
    },
    {
      "cell_type": "markdown",
      "metadata": {
        "id": "Mmjl7BDVyYCG"
      },
      "source": [
        "##Logistic Regression"
      ]
    },
    {
      "cell_type": "markdown",
      "metadata": {
        "id": "KEbThGvnaoGK"
      },
      "source": [
        "Function for a logistic regression algorithm. \n",
        "\n",
        "Important hyperparameters: \"C\" inverses regularization strength; the default value is 1.0. The remaining parameters have already been described for the svm model.\n",
        "\n",
        "Function returns the model and the prediction of the class labels, and prints the accuracy of the model and the classification report for the two classes."
      ]
    },
    {
      "cell_type": "code",
      "metadata": {
        "id": "ZzQJqeUQyXlL"
      },
      "source": [
        "def lgModel(X_train, y_train, X_test, y_test):\n",
        "  logreg = Pipeline([('vect', CountVectorizer()),\n",
        "                ('tfidf', TfidfTransformer()),\n",
        "                ('clf', LogisticRegression(n_jobs=5, C=5.0, class_weight=\"balanced\")), #C=1e5, C=1e-1 #class_weight=\"balanced\", class_weight={0: 50}\n",
        "               ])\n",
        "  logreg.fit(X_train, y_train)\n",
        "\n",
        "  #%%time\n",
        "\n",
        "  y_pred = logreg.predict(X_test)\n",
        "  y_predProba = logreg.predict_proba(X_test)\n",
        "  my_tags = ['class 0', 'class 1']\n",
        "  print('accuracy %s' % accuracy_score(y_pred, y_test))\n",
        "  print(classification_report(y_test, y_pred,target_names=my_tags))\n",
        "  return logreg, y_pred, y_predProba"
      ],
      "execution_count": 30,
      "outputs": []
    },
    {
      "cell_type": "markdown",
      "metadata": {
        "id": "5Vi-Wwg80pfn"
      },
      "source": [
        "## Random Forest"
      ]
    },
    {
      "cell_type": "markdown",
      "metadata": {
        "id": "F5rPLfuJmLCW"
      },
      "source": [
        "Function for a Random Forest Classifier. \n",
        "\n",
        "Important hyperparameters: The default value for \"n_estimators\" (number of trees in the forest) is 100. A much higher or much lower number of trees produced worse results. Unlike the two previous models, when adding the \"class_weight\" parameter, the f1 score for the underrepresented class got much worse.\n",
        " \n",
        "Function returns the model and the prediction of the class labels, and prints the accuracy of the model and the classification report for the two classes."
      ]
    },
    {
      "cell_type": "code",
      "metadata": {
        "id": "01gAtqOY0orV"
      },
      "source": [
        "def randomtree_Model(n_estimators, X_train, y_train, X_test, y_test):\n",
        "    model = RandomForestClassifier(n_estimators = n_estimators, criterion  = 'entropy', random_state = 42) #class_weight=\"balanced\") \n",
        "\n",
        "    history = model.fit(X_train, y_train)\n",
        "\n",
        "    y_predict = model.predict(X_test)\n",
        "\n",
        "    print(confusion_matrix(y_test,y_predict))\n",
        "    print(classification_report(y_test,y_predict))\n",
        "    print(accuracy_score(y_test, y_predict))\n",
        "    return model, history, y_predict"
      ],
      "execution_count": 31,
      "outputs": []
    },
    {
      "cell_type": "code",
      "metadata": {
        "id": "buYH45PA9KEL"
      },
      "source": [
        "import matplotlib.pyplot as plt\n",
        "import seaborn as sns\n",
        "import numpy as np\n",
        "\n",
        "try:\n",
        "    get_ipython().magic('matplotlib inline')\n",
        "    get_ipython().magic('config InlineBackend.figure_formats = set([\"retina\"])')\n",
        "except NameError:\n",
        "    pass\n",
        "\n",
        "def plot_classifier(model, X_test, y_test, proba=True, xlabel='Essays', ylabel='Politeness'):\n",
        "    # https://matplotlib.org/examples/color/colormaps_reference.html\n",
        "    plt.set_cmap(\"RdYlBu\")\n",
        "    \n",
        "    x_min = X_test[:, 0].min() - 1\n",
        "    x_max = X_test[:, 0].max() + 1\n",
        "    \n",
        "    y_min = X_test[:, 1].min() - 1\n",
        "    y_max = X_test[:, 1].max() + 1\n",
        "    \n",
        "    xx, yy = np.meshgrid(\n",
        "        np.linspace(x_min, x_max, 1000),\n",
        "        np.linspace(y_min, y_max, 1000)\n",
        "    )\n",
        "\n",
        "    if proba:\n",
        "        zz = model.predict_proba(np.c_[xx.ravel(), yy.ravel()])[:, 1]\n",
        "        plt.imshow(zz.reshape(xx.shape), \n",
        "                   origin = \"lower\", \n",
        "                   aspect = \"auto\", \n",
        "                   extent = (x_min, x_max, y_min, y_max), \n",
        "                   vmin = 0, \n",
        "                   vmax = 1, \n",
        "                   alpha = 0.25)\n",
        "    else: \n",
        "        zz = model.predict(np.c_[xx.ravel(), yy.ravel()])\n",
        "        plt.contourf(xx, yy, zz.reshape(xx.shape), \n",
        "                     alpha = 0.25, \n",
        "                     vmin = 0, \n",
        "                     vmax = 1)\n",
        "\n",
        "    plt.scatter(X[:, 0], X[:, 1], c=Z)\n",
        "    \n",
        "    if xlabel is not None:\n",
        "        plt.xlabel(xlabel)\n",
        "       \n",
        "    if ylabel is not None:\n",
        "        plt.ylabel(ylabel)\n",
        "        \n",
        "    # Damit wird die Grafik genau so groß angezeigt wie der\n",
        "    # schattierte Farbbereich:\n",
        "    plt.xlim(x_min, x_max)\n",
        "    plt.ylim(y_min, y_max)\n",
        "\n",
        "    plt.show()"
      ],
      "execution_count": 32,
      "outputs": []
    },
    {
      "cell_type": "code",
      "metadata": {
        "id": "ZBGvDQEM9UM2"
      },
      "source": [
        "#Rt_plot = plot_classifier(modelRandomForest, xValArray, yValArray[:,1], proba=True, xlabel='Essays', ylabel='Politeness')"
      ],
      "execution_count": 33,
      "outputs": []
    },
    {
      "cell_type": "markdown",
      "metadata": {
        "id": "we4aNM4I4bx_"
      },
      "source": [
        "# Execute Primitive Models"
      ]
    },
    {
      "cell_type": "markdown",
      "metadata": {
        "id": "YIw-4fgqqHk1"
      },
      "source": [
        "The functions defined above for the primitive models are executed.\n"
      ]
    },
    {
      "cell_type": "markdown",
      "metadata": {
        "id": "0446jBc7Cj47"
      },
      "source": [
        "The randomtree_Model function receives as input the number of trees and the untokenized training and test datasets. "
      ]
    },
    {
      "cell_type": "code",
      "metadata": {
        "id": "hxjQlF7nsv1p"
      },
      "source": [
        "xTrainArray3, yTrainArray3, xValArray3, yValArray3, xTestArray3, yTestArray3, azubi_df_cleaned_no_stopwords3 = prepareDataSelectedColumns(azubi_df_mails_and_scored_combined, 'Mails_Combined', 'a4s_combined_i2b', False, True, False)"
      ],
      "execution_count": null,
      "outputs": []
    },
    {
      "cell_type": "code",
      "metadata": {
        "id": "i3AuShZYsIPn"
      },
      "source": [
        "xValTestArray3 = np.concatenate((xValArray3, xTestArray3))\n",
        "yValTestArray3 = np.concatenate((yValArray3, yTestArray3))\n",
        "\n",
        "from sklearn.manifold import TSNE\n",
        "from sklearn.decomposition import TruncatedSVD\n",
        "xTrainArray3_reduced = TruncatedSVD(n_components=50, random_state=0).fit_transform(xTrainArray3)\n",
        "xTrainArray3_embedded = TSNE(n_components=2).fit_transform(xTrainArray3_reduced)\n",
        "xValTestArray3_reduced = TruncatedSVD(n_components=50, random_state=0).fit_transform(xValTestArray3)\n",
        "xValTestArray3_embedded = TSNE(n_components=2).fit_transform(xValTestArray3_reduced)"
      ],
      "execution_count": 109,
      "outputs": []
    },
    {
      "cell_type": "code",
      "metadata": {
        "id": "9u3d-_bU0rT1",
        "colab": {
          "base_uri": "https://localhost:8080/"
        },
        "outputId": "b3fe82b7-4f83-49c4-8298-5f3fec363906"
      },
      "source": [
        "#Execute random forest model\n",
        "modelRandomForest,historyRandomForest, y_predictRandomForest = randomtree_Model(100, xTrainArray3_embedded, yTrainArray3[:,1], xValTestArray3_embedded, yValTestArray3[:,1])"
      ],
      "execution_count": 110,
      "outputs": [
        {
          "output_type": "stream",
          "text": [
            "[[  0  11]\n",
            " [  1 197]]\n",
            "              precision    recall  f1-score   support\n",
            "\n",
            "         0.0       0.00      0.00      0.00        11\n",
            "         1.0       0.95      0.99      0.97       198\n",
            "\n",
            "    accuracy                           0.94       209\n",
            "   macro avg       0.47      0.50      0.49       209\n",
            "weighted avg       0.90      0.94      0.92       209\n",
            "\n",
            "0.9425837320574163\n"
          ],
          "name": "stdout"
        }
      ]
    },
    {
      "cell_type": "code",
      "metadata": {
        "id": "I5MosCkorjOI",
        "outputId": "e0eeeeca-54ba-4098-bc22-bc731253e282",
        "colab": {
          "base_uri": "https://localhost:8080/",
          "height": 267
        }
      },
      "source": [
        "# define bounds of the domain\n",
        "xmin, xmax = np.min(xValTestArray3_embedded[:,0]), np.max(xValTestArray3_embedded[:,0])\n",
        "ymin, ymax = np.min(xValTestArray3_embedded[:,1]), np.max(xValTestArray3_embedded[:,1])\n",
        "# define the x and y scale\n",
        "xgrid = np.arange(xmin, xmax, 0.1)\n",
        "ygrid = np.arange(ymin, ymax, 0.1)\n",
        "# create all of the lines and rows of the grid\n",
        "xx, yy = np.meshgrid(xgrid, ygrid)\n",
        "# flatten each grid to a vector\n",
        "rx, ry = xx.flatten(), yy.flatten()\n",
        "#r = np.array(r)\n",
        "rx, ry = rx.reshape((len(rx), 1)), ry.reshape((len(ry), 1))\n",
        "# horizontal stack vectors to create x input for the model\n",
        "grid = np.hstack((rx, ry))\n",
        "# make predictions for the grid\n",
        "y_predLggrid = modelRandomForest.predict(grid)\n",
        "# reshape the predictions back into a grid\n",
        "zz = y_predLggrid.reshape(xx.shape)\n",
        "# plot the grid of x, y and z values as a surface\n",
        "pyplot.contourf(xx, yy, zz, cmap='Paired')\n",
        "# create scatter plot for samples from each class\n",
        "for class_value in range(2):\n",
        "    # get row indexes for samples with this class\n",
        "    row_ix = np.where(yValTestArray3[:,1] == class_value)\n",
        "    # create scatter of these samples\n",
        "    plt.scatter(xValTestArray3_embedded[row_ix, 0], xValTestArray3_embedded[row_ix, 1], cmap='Paired')"
      ],
      "execution_count": 117,
      "outputs": [
        {
          "output_type": "display_data",
          "data": {
            "image/png": "[encoded data removed]",
            "text/plain": [
              "<Figure size 432x288 with 1 Axes>"
            ]
          },
          "metadata": {
            "tags": [],
            "image/png": {
              "width": 370,
              "height": 250
            },
            "needs_background": "light"
          }
        }
      ]
    },
    {
      "cell_type": "markdown",
      "metadata": {
        "id": "_oxlLaoNDAy_"
      },
      "source": [
        "The lgModel function receives as input the untokenized training and test datasets. "
      ]
    },
    {
      "cell_type": "code",
      "metadata": {
        "id": "ntgXVPRGyc4z",
        "colab": {
          "base_uri": "https://localhost:8080/"
        },
        "outputId": "ef23821c-8b53-4e4d-833b-2a4e04969924"
      },
      "source": [
        "#Execute logistic regression Model\n",
        "logreg, y_predLg, y_predProbaLg = lgModel(xTrainArray4, yTrainArray4[:,1], xValArray4, yValArray4[:,1])"
      ],
      "execution_count": 35,
      "outputs": [
        {
          "output_type": "stream",
          "text": [
            "accuracy 0.9425837320574163\n",
            "              precision    recall  f1-score   support\n",
            "\n",
            "     class 0       0.74      0.42      0.54        33\n",
            "     class 1       0.95      0.99      0.97       385\n",
            "\n",
            "    accuracy                           0.94       418\n",
            "   macro avg       0.84      0.71      0.75       418\n",
            "weighted avg       0.94      0.94      0.94       418\n",
            "\n"
          ],
          "name": "stdout"
        }
      ]
    },
    {
      "cell_type": "markdown",
      "metadata": {
        "id": "phb30ECkDgk0"
      },
      "source": [
        "The svmModel function receives as input the untokenized training and test datasets. "
      ]
    },
    {
      "cell_type": "code",
      "metadata": {
        "id": "sDjgLOWSvwwN",
        "colab": {
          "base_uri": "https://localhost:8080/"
        },
        "outputId": "8af475f0-143e-4c0a-93f0-8d3c2896f759"
      },
      "source": [
        "#Execute svmModel\n",
        "sgd, y_predSgd = svmModel(xTrainArray4, yTrainArray4[:,1], xValArray4, yValArray4[:,1])"
      ],
      "execution_count": 36,
      "outputs": [
        {
          "output_type": "stream",
          "text": [
            "accuracy 0.9282296650717703\n",
            "              precision    recall  f1-score   support\n",
            "\n",
            "     class 0       0.55      0.48      0.52        33\n",
            "     class 1       0.96      0.97      0.96       385\n",
            "\n",
            "    accuracy                           0.93       418\n",
            "   macro avg       0.75      0.73      0.74       418\n",
            "weighted avg       0.92      0.93      0.93       418\n",
            "\n"
          ],
          "name": "stdout"
        }
      ]
    },
    {
      "cell_type": "markdown",
      "metadata": {
        "id": "FJ0_TuUZ78gb"
      },
      "source": [
        "# Word2Vec"
      ]
    },
    {
      "cell_type": "markdown",
      "metadata": {
        "id": "EhQ_iEeMDQdH"
      },
      "source": [
        "## preparation"
      ]
    },
    {
      "cell_type": "markdown",
      "metadata": {
        "id": "PRxc1PdRvJCZ"
      },
      "source": [
        "Sources and tutorials i used to create word2vec embeddings:\n"
      ]
    },
    {
      "cell_type": "code",
      "metadata": {
        "id": "B_Xk8HYm8viJ"
      },
      "source": [
        "#Word2vec approach. We followed a mix out of several turoials:\n",
        "#    https://radimrehurek.com/gensim/auto_examples/tutorials/run_word2vec.html\n",
        "#    https://discuss.huggingface.co/t/generate-raw-word-embeddings-using-transformer-models-like-bert-for-downstream-process/2958\n",
        "#    https://towardsdatascience.com/text-classification-with-nlp-tf-idf-vs-word2vec-vs-bert-41ff868d1794\n",
        "#    https://phdstatsphys.wordpress.com/2018/12/27/word2vec-how-to-train-and-update-it/"
      ],
      "execution_count": 37,
      "outputs": []
    },
    {
      "cell_type": "markdown",
      "metadata": {
        "id": "NBWZEgbwvbPT"
      },
      "source": [
        "Import, especially gensim and gensim.downloader for word2vec if you like to use a pretrained word2vec"
      ]
    },
    {
      "cell_type": "code",
      "metadata": {
        "id": "Lz9tCOQo9CCk",
        "colab": {
          "base_uri": "https://localhost:8080/"
        },
        "outputId": "38e10cf3-90f9-4318-b106-5dc06419a47b"
      },
      "source": [
        "## for data\n",
        "import json\n",
        "import pandas as pd\n",
        "import numpy as np\n",
        "## for plotting\n",
        "import matplotlib.pyplot as plt\n",
        "import seaborn as sns\n",
        "## for processing\n",
        "import re\n",
        "import nltk\n",
        "# for bag-of-words\n",
        "from sklearn import feature_extraction, model_selection, naive_bayes, pipeline, manifold, preprocessing\n",
        "## for explainer\n",
        "!pip install lime\n",
        "from lime import lime_text\n",
        "## for word embedding\n",
        "import gensim\n",
        "import gensim.downloader as gensim_api\n",
        "## for deep learning\n",
        "from tensorflow.keras import models, layers, preprocessing as kprocessing\n",
        "from tensorflow.keras import backend as K\n",
        "## for bert language model\n",
        "#!pip install transformer\n",
        "#from transformer"
      ],
      "execution_count": 38,
      "outputs": [
        {
          "output_type": "stream",
          "text": [
            "Collecting lime\n",
            "\u001b[?25l  Downloading https://files.pythonhosted.org/packages/f5/86/91a13127d83d793ecb50eb75e716f76e6eda809b6803c5a4ff462339789e/lime-0.2.0.1.tar.gz (275kB)\n",
            "\r\u001b[K     |█▏                              | 10kB 22.9MB/s eta 0:00:01\r\u001b[K     |██▍                             | 20kB 30.3MB/s eta 0:00:01\r\u001b[K     |███▋                            | 30kB 23.9MB/s eta 0:00:01\r\u001b[K     |████▊                           | 40kB 18.3MB/s eta 0:00:01\r\u001b[K     |██████                          | 51kB 9.2MB/s eta 0:00:01\r\u001b[K     |███████▏                        | 61kB 8.3MB/s eta 0:00:01\r\u001b[K     |████████▎                       | 71kB 9.1MB/s eta 0:00:01\r\u001b[K     |█████████▌                      | 81kB 10.1MB/s eta 0:00:01\r\u001b[K     |██████████▊                     | 92kB 10.5MB/s eta 0:00:01\r\u001b[K     |███████████▉                    | 102kB 8.8MB/s eta 0:00:01\r\u001b[K     |█████████████                   | 112kB 8.8MB/s eta 0:00:01\r\u001b[K     |██████████████▎                 | 122kB 8.8MB/s eta 0:00:01\r\u001b[K     |███████████████▌                | 133kB 8.8MB/s eta 0:00:01\r\u001b[K     |████████████████▋               | 143kB 8.8MB/s eta 0:00:01\r\u001b[K     |█████████████████▉              | 153kB 8.8MB/s eta 0:00:01\r\u001b[K     |███████████████████             | 163kB 8.8MB/s eta 0:00:01\r\u001b[K     |████████████████████▏           | 174kB 8.8MB/s eta 0:00:01\r\u001b[K     |█████████████████████▍          | 184kB 8.8MB/s eta 0:00:01\r\u001b[K     |██████████████████████▋         | 194kB 8.8MB/s eta 0:00:01\r\u001b[K     |███████████████████████▊        | 204kB 8.8MB/s eta 0:00:01\r\u001b[K     |█████████████████████████       | 215kB 8.8MB/s eta 0:00:01\r\u001b[K     |██████████████████████████▏     | 225kB 8.8MB/s eta 0:00:01\r\u001b[K     |███████████████████████████▍    | 235kB 8.8MB/s eta 0:00:01\r\u001b[K     |████████████████████████████▌   | 245kB 8.8MB/s eta 0:00:01\r\u001b[K     |█████████████████████████████▊  | 256kB 8.8MB/s eta 0:00:01\r\u001b[K     |███████████████████████████████ | 266kB 8.8MB/s eta 0:00:01\r\u001b[K     |████████████████████████████████| 276kB 8.8MB/s \n",
            "\u001b[?25hRequirement already satisfied: matplotlib in /usr/local/lib/python3.7/dist-packages (from lime) (3.2.2)\n",
            "Requirement already satisfied: numpy in /usr/local/lib/python3.7/dist-packages (from lime) (1.19.5)\n",
            "Requirement already satisfied: scipy in /usr/local/lib/python3.7/dist-packages (from lime) (1.4.1)\n",
            "Requirement already satisfied: tqdm in /usr/local/lib/python3.7/dist-packages (from lime) (4.41.1)\n",
            "Requirement already satisfied: scikit-learn>=0.18 in /usr/local/lib/python3.7/dist-packages (from lime) (0.22.2.post1)\n",
            "Requirement already satisfied: scikit-image>=0.12 in /usr/local/lib/python3.7/dist-packages (from lime) (0.16.2)\n",
            "Requirement already satisfied: pyparsing!=2.0.4,!=2.1.2,!=2.1.6,>=2.0.1 in /usr/local/lib/python3.7/dist-packages (from matplotlib->lime) (2.4.7)\n",
            "Requirement already satisfied: kiwisolver>=1.0.1 in /usr/local/lib/python3.7/dist-packages (from matplotlib->lime) (1.3.1)\n",
            "Requirement already satisfied: cycler>=0.10 in /usr/local/lib/python3.7/dist-packages (from matplotlib->lime) (0.10.0)\n",
            "Requirement already satisfied: python-dateutil>=2.1 in /usr/local/lib/python3.7/dist-packages (from matplotlib->lime) (2.8.1)\n",
            "Requirement already satisfied: joblib>=0.11 in /usr/local/lib/python3.7/dist-packages (from scikit-learn>=0.18->lime) (1.0.1)\n",
            "Requirement already satisfied: imageio>=2.3.0 in /usr/local/lib/python3.7/dist-packages (from scikit-image>=0.12->lime) (2.4.1)\n",
            "Requirement already satisfied: PyWavelets>=0.4.0 in /usr/local/lib/python3.7/dist-packages (from scikit-image>=0.12->lime) (1.1.1)\n",
            "Requirement already satisfied: pillow>=4.3.0 in /usr/local/lib/python3.7/dist-packages (from scikit-image>=0.12->lime) (7.1.2)\n",
            "Requirement already satisfied: networkx>=2.0 in /usr/local/lib/python3.7/dist-packages (from scikit-image>=0.12->lime) (2.5.1)\n",
            "Requirement already satisfied: six in /usr/local/lib/python3.7/dist-packages (from cycler>=0.10->matplotlib->lime) (1.15.0)\n",
            "Requirement already satisfied: decorator<5,>=4.3 in /usr/local/lib/python3.7/dist-packages (from networkx>=2.0->scikit-image>=0.12->lime) (4.4.2)\n",
            "Building wheels for collected packages: lime\n",
            "  Building wheel for lime (setup.py) ... \u001b[?25l\u001b[?25hdone\n",
            "  Created wheel for lime: filename=lime-0.2.0.1-cp37-none-any.whl size=283858 sha256=fe35bcb4d56653a06f22a3144f1c622b5ad922912e51da7eafccbee0656d085f\n",
            "  Stored in directory: /root/.cache/pip/wheels/4c/4f/a5/0bc765457bd41378bf3ce8d17d7495369d6e7ca3b712c60c89\n",
            "Successfully built lime\n",
            "Installing collected packages: lime\n",
            "Successfully installed lime-0.2.0.1\n"
          ],
          "name": "stdout"
        }
      ]
    },
    {
      "cell_type": "markdown",
      "metadata": {
        "id": "iDR33jzfvipv"
      },
      "source": [
        "Take a look into the dataframe to ensure everything is okay"
      ]
    },
    {
      "cell_type": "code",
      "metadata": {
        "id": "YWuFMm9RIHjZ"
      },
      "source": [
        "azubi_df_mails_and_scored_combined"
      ],
      "execution_count": null,
      "outputs": []
    },
    {
      "cell_type": "code",
      "metadata": {
        "id": "iABfsxDK9SvI"
      },
      "source": [
        "azubi_df_mails_and_scored_combined.sample(5)"
      ],
      "execution_count": null,
      "outputs": []
    },
    {
      "cell_type": "markdown",
      "metadata": {
        "id": "aUBHcFrbGtGd"
      },
      "source": [
        "And now we remove stopwords"
      ]
    },
    {
      "cell_type": "code",
      "metadata": {
        "colab": {
          "base_uri": "https://localhost:8080/"
        },
        "id": "YcSESeuVEkSH",
        "outputId": "00761b45-9c47-4586-86fa-27738ea7a23a"
      },
      "source": [
        "azubi_df_mails_and_scored_combined = removeStopWordsSelectedColumns(azubi_df_mails_and_scored_combined,'Mails_Combined')"
      ],
      "execution_count": 41,
      "outputs": [
        {
          "output_type": "stream",
          "text": [
            "[nltk_data] Downloading package punkt to /root/nltk_data...\n",
            "[nltk_data]   Unzipping tokenizers/punkt.zip.\n",
            "[nltk_data] Downloading package stopwords to /root/nltk_data...\n",
            "[nltk_data]   Unzipping corpora/stopwords.zip.\n"
          ],
          "name": "stdout"
        }
      ]
    },
    {
      "cell_type": "markdown",
      "metadata": {
        "id": "Y4lyNlujHU7B"
      },
      "source": [
        "and take a look into the cleaned dataframe again"
      ]
    },
    {
      "cell_type": "code",
      "metadata": {
        "id": "SQT0amgWIQPr"
      },
      "source": [
        "azubi_df_mails_and_scored_combined"
      ],
      "execution_count": null,
      "outputs": []
    },
    {
      "cell_type": "code",
      "metadata": {
        "id": "nQd69X_gD_QA"
      },
      "source": [
        "azubi_df_mails_and_scored_combined.sample(5)"
      ],
      "execution_count": null,
      "outputs": []
    },
    {
      "cell_type": "markdown",
      "metadata": {
        "id": "S2NdVFnuvnbA"
      },
      "source": [
        "We want to make sure our data set is balanced. Which is not the case. Thus, we include weights lateron in the model. Here you can see the inbalance for this variable clearly."
      ]
    },
    {
      "cell_type": "code",
      "metadata": {
        "id": "BevGZsl-9WXD",
        "colab": {
          "base_uri": "https://localhost:8080/",
          "height": 294
        },
        "outputId": "ec4abaa8-09a1-402d-f8f2-8ae7bd2f27b2"
      },
      "source": [
        "fig, ax = plt.subplots()\n",
        "fig.suptitle(\"count\", fontsize=12)\n",
        "azubi_df_mails_and_scored_combined[\"a4s_combined_i2b\"].reset_index().groupby(\"a4s_combined_i2b\").count().sort_values(by= \n",
        "       \"index\").plot(kind=\"barh\", legend=False, \n",
        "        ax=ax).grid(axis='x')\n",
        "plt.show()"
      ],
      "execution_count": 44,
      "outputs": [
        {
          "output_type": "display_data",
          "data": {
            "image/png": "[encoded data removed]",
            "text/plain": [
              "<Figure size 432x288 with 1 Axes>"
            ]
          },
          "metadata": {
            "tags": [],
            "image/png": {
              "width": 392,
              "height": 277
            },
            "needs_background": "light"
          }
        }
      ]
    },
    {
      "cell_type": "markdown",
      "metadata": {
        "id": "TeI5OUUJv0Lk"
      },
      "source": [
        "Lets split the data into a train and test set."
      ]
    },
    {
      "cell_type": "code",
      "metadata": {
        "id": "ACP3DkQh9ay6"
      },
      "source": [
        "## split dataset\n",
        "dtf_train, dtf_test = model_selection.train_test_split(azubi_df_cleaned_no_stopwords, test_size=0.3)## get target\n",
        "y_train = dtf_train[\"a4s_combined_i2b\"].values\n",
        "y_test = dtf_test[\"a4s_combined_i2b\"].values"
      ],
      "execution_count": 45,
      "outputs": []
    },
    {
      "cell_type": "markdown",
      "metadata": {
        "id": "o8PPmugt9-Ux"
      },
      "source": [
        "## word2vec"
      ]
    },
    {
      "cell_type": "markdown",
      "metadata": {
        "id": "v87T-zvAv3f7"
      },
      "source": [
        "Here we start with the word2vec after our data preprocessing. Download a already pretrained word2vc might take some time... if you like here are some facts about word2vec: \n",
        "\n",
        "*The word2vec tool takes a text corpus as input and produces the word vectors as output. It first constructs a vocabulary from the training text data and then learns vector representation of words. The resulting word vector file can be used as features in many natural language processing and machine learning applications.*\n",
        "\n",
        "(more info: https://code.google.com/archive/p/word2vec/)"
      ]
    },
    {
      "cell_type": "code",
      "metadata": {
        "id": "RrteU-xt-Cbm"
      },
      "source": [
        "# download word2vec takes 10 min\n",
        "#we could use this word2vec pretrained model by using this line of code, but instead we wanted to make a word2vec embedding with our own corpus, because word2vec wasn't trained with business mails\n",
        "# nlp = gensim_api.load(\"word2vec-google-news-300\") "
      ],
      "execution_count": 46,
      "outputs": []
    },
    {
      "cell_type": "markdown",
      "metadata": {
        "id": "z9vQrKNOwPqx"
      },
      "source": [
        "Lets use word2vec with our dataframe and create our own embeddings. We define unigrams  to determine intersting (rather polite or inpolite) word vectors. The functions we use are part of gensim, so this is also super easy."
      ]
    },
    {
      "cell_type": "code",
      "metadata": {
        "id": "4J7iw1d8-HHF"
      },
      "source": [
        "corpus =  dtf_train[\"Mails_Combined\"]\n",
        "## create list of lists of unigrams (#Sehr)\n",
        "lst_corpus = []\n",
        "for string in corpus:\n",
        "   lst_words = string.split()\n",
        "   lst_grams = [\" \".join(lst_words[i:i+1]) \n",
        "               for i in range(0, len(lst_words), 1)]\n",
        "   lst_corpus.append(lst_grams)\n",
        "## detect bigrams (#Sehr geehrter) and trigrams (#Sehr geehrte:r Herr:Frau)\n",
        "bigrams_detector = gensim.models.phrases.Phrases(lst_corpus, \n",
        "                 delimiter=\" \".encode(), min_count=5, threshold=10)\n",
        "bigrams_detector = gensim.models.phrases.Phraser(bigrams_detector)\n",
        "trigrams_detector = gensim.models.phrases.Phrases(bigrams_detector[lst_corpus], \n",
        "            delimiter=\" \".encode(), min_count=5, threshold=10)\n",
        "trigrams_detector = gensim.models.phrases.Phraser(trigrams_detector)\n",
        "\n"
      ],
      "execution_count": 47,
      "outputs": []
    },
    {
      "cell_type": "markdown",
      "metadata": {
        "id": "O2HC1uJbwgpT"
      },
      "source": [
        "This part is crucial. We determine the setup to create our word embeddings.\n",
        "- target size = size of the word vectors\n",
        "- window =  the maximum distance between a current and predicted word within a mail\n",
        "- sg = training algorithm. skip-grams (sg=1) is used as it was used in the tutorial and this should also in general lead to the best results in most cases\n",
        "- iter = number of iterations (10, 20, 30)"
      ]
    },
    {
      "cell_type": "code",
      "metadata": {
        "id": "0DeKTzAh-XU5"
      },
      "source": [
        "#word2vec setup\n",
        "#play with size=300, window = 8? mean lenght?\n",
        "# target size, mean length window of distance, and sgram 1: has proven robust \n",
        "nlp = gensim.models.word2vec.Word2Vec(lst_corpus, size=300,   \n",
        "            window=5, min_count=3, sg=1, iter=30)\n",
        "\n"
      ],
      "execution_count": 48,
      "outputs": []
    },
    {
      "cell_type": "markdown",
      "metadata": {
        "id": "JGC_PGASzfqb"
      },
      "source": [
        "How is our vector shaped? It is a 1dim array. Lets take a closer look:"
      ]
    },
    {
      "cell_type": "code",
      "metadata": {
        "id": "tvgZ7UMH-oGC",
        "colab": {
          "base_uri": "https://localhost:8080/"
        },
        "outputId": "f9500b76-695a-4e36-f6be-57ce2fbe1e9a"
      },
      "source": [
        "word = \"freundlichen\"\n",
        "nlp[word].shape"
      ],
      "execution_count": 49,
      "outputs": [
        {
          "output_type": "stream",
          "text": [
            "/usr/local/lib/python3.7/dist-packages/ipykernel_launcher.py:2: DeprecationWarning: Call to deprecated `__getitem__` (Method will be removed in 4.0.0, use self.wv.__getitem__() instead).\n",
            "  \n"
          ],
          "name": "stderr"
        },
        {
          "output_type": "execute_result",
          "data": {
            "text/plain": [
              "(300,)"
            ]
          },
          "metadata": {
            "tags": []
          },
          "execution_count": 49
        }
      ]
    },
    {
      "cell_type": "markdown",
      "metadata": {
        "id": "Zle-LzZCzpAA"
      },
      "source": [
        "This is the vector for [word]. Cool Hmm? Test it for yourself if you like to play with..."
      ]
    },
    {
      "cell_type": "code",
      "metadata": {
        "id": "rR5dB8iRzL6O",
        "colab": {
          "base_uri": "https://localhost:8080/"
        },
        "outputId": "eded6979-06a0-48f9-bab0-3de46f8e1676"
      },
      "source": [
        "nlp[word]"
      ],
      "execution_count": 50,
      "outputs": [
        {
          "output_type": "stream",
          "text": [
            "/usr/local/lib/python3.7/dist-packages/ipykernel_launcher.py:1: DeprecationWarning: Call to deprecated `__getitem__` (Method will be removed in 4.0.0, use self.wv.__getitem__() instead).\n",
            "  \"\"\"Entry point for launching an IPython kernel.\n"
          ],
          "name": "stderr"
        },
        {
          "output_type": "execute_result",
          "data": {
            "text/plain": [
              "array([-2.50112474e-01, -3.40942055e-01,  5.51413037e-02, -5.63187245e-03,\n",
              "       -5.83968721e-02,  9.69432816e-02, -7.28698969e-02,  5.48280716e-01,\n",
              "       -2.13935971e-01,  4.36667055e-01,  5.71018934e-01, -2.51483470e-01,\n",
              "        7.79870078e-02, -4.41263110e-04, -2.19256461e-01,  7.52539467e-03,\n",
              "        1.46278486e-01, -6.69267476e-02, -5.46562597e-02, -2.69921809e-01,\n",
              "       -3.40576261e-01, -6.96190223e-02,  1.29722223e-01,  6.19680583e-02,\n",
              "        2.18405873e-01,  1.55147716e-01,  8.54398968e-05,  2.94900630e-02,\n",
              "       -2.19748974e-01,  7.26971105e-02, -2.39120141e-01, -1.86621204e-01,\n",
              "        3.08016874e-02, -2.72204041e-01, -4.62095767e-01,  2.23840609e-01,\n",
              "       -1.33864522e-01, -2.26122811e-01,  2.07978219e-01, -2.91371811e-03,\n",
              "        5.57583272e-02,  9.12566856e-02,  5.77398092e-02, -6.54490888e-02,\n",
              "       -3.39094132e-01, -1.94695871e-02,  1.26971453e-01, -7.49199763e-02,\n",
              "        9.25984830e-02, -3.63573879e-01,  3.93963546e-01,  1.47267044e-01,\n",
              "        1.49964660e-01,  1.35995954e-01,  1.41298637e-01,  8.15960392e-02,\n",
              "       -2.28197232e-01,  2.54301429e-01, -9.34608057e-02,  4.73142654e-01,\n",
              "       -1.71671525e-01, -3.02173734e-01, -2.43405595e-01,  4.30700570e-01,\n",
              "        8.46947059e-02,  2.92563885e-01, -1.77693099e-01, -2.58716375e-01,\n",
              "       -3.15817058e-01, -2.54850417e-01, -1.17697008e-01, -2.34867707e-01,\n",
              "       -2.89849371e-01, -1.64607599e-01,  7.56293684e-02, -1.44349173e-01,\n",
              "        1.44852668e-01,  2.59400159e-01,  2.34749511e-01, -4.23357114e-02,\n",
              "       -3.11729938e-01,  1.76120996e-01,  3.90201300e-01,  1.46325961e-01,\n",
              "       -1.43165678e-01,  3.43239844e-01, -1.47404104e-01,  1.76512927e-01,\n",
              "       -7.52485096e-02, -1.21947959e-01, -2.63761908e-01, -1.01119339e-01,\n",
              "       -1.99282780e-01,  4.76129681e-01, -2.51072913e-01, -1.12834655e-01,\n",
              "        1.18493006e-01, -2.61549294e-01, -8.05840865e-02, -1.45001924e-02,\n",
              "        3.76538970e-02, -2.87873745e-01,  5.83815798e-02,  2.90232040e-02,\n",
              "        1.86595172e-01, -3.13067436e-01, -6.07834533e-02, -3.55982989e-01,\n",
              "       -3.93246680e-01,  1.29787857e-02, -2.13997528e-01,  1.36716947e-01,\n",
              "       -2.70952374e-01, -2.47973099e-01,  6.02758341e-02, -1.48372054e-01,\n",
              "        6.02868378e-01,  3.12231719e-01,  3.64098459e-01, -5.65155111e-02,\n",
              "       -4.12066907e-01, -1.25282392e-01, -5.36177196e-02, -5.01903482e-02,\n",
              "        1.14053451e-01,  3.69034857e-01,  6.83275834e-02, -1.37228712e-01,\n",
              "       -5.40007591e-01, -3.06113929e-01,  3.12033236e-01, -3.31203304e-02,\n",
              "        7.68016055e-02, -9.47643891e-02,  1.28171846e-01, -1.12087443e-01,\n",
              "       -3.12833220e-01, -1.42249152e-01, -2.54283637e-01, -3.44415218e-01,\n",
              "        1.84462830e-01,  1.51687428e-01,  3.30856115e-01, -3.81842852e-02,\n",
              "       -1.38534382e-02, -7.60910213e-02,  2.33526617e-01,  2.43072018e-01,\n",
              "        3.05530697e-01, -5.11422083e-02,  2.81313807e-01, -2.12653026e-01,\n",
              "       -4.30836827e-01, -2.61968642e-01, -4.57955748e-01,  1.60353735e-01,\n",
              "        7.63891116e-02,  2.92278349e-01,  2.89390311e-02,  6.86656460e-02,\n",
              "       -1.10418864e-01, -3.30009647e-02,  3.89149226e-02,  2.02030577e-02,\n",
              "       -1.97830364e-01, -1.92652121e-01,  1.29735507e-02,  8.37035999e-02,\n",
              "        4.53606635e-01, -6.96942136e-02, -1.87736005e-01, -1.63367838e-01,\n",
              "        7.32911080e-02,  1.03083916e-01, -3.83388430e-01, -4.27206039e-01,\n",
              "        9.78118777e-02, -3.26416254e-01, -1.71518407e-03,  3.66431117e-01,\n",
              "        4.29970548e-02, -2.35606134e-01, -4.69222246e-03,  4.48262086e-03,\n",
              "        1.75729528e-01,  3.71616304e-01,  3.22353572e-01, -2.83449814e-02,\n",
              "        1.51235759e-01,  9.94157046e-02,  2.46184263e-02,  1.99882954e-01,\n",
              "       -3.31398517e-01,  1.86705947e-01, -1.42392024e-01, -5.41025810e-02,\n",
              "       -9.37783346e-02, -1.81674182e-01,  1.38942286e-01,  9.06280428e-02,\n",
              "       -9.14886035e-03, -7.49948546e-02, -1.06549142e-02, -2.33914435e-01,\n",
              "       -1.59701612e-02,  3.52898896e-01,  9.97465029e-02, -3.52184311e-03,\n",
              "       -1.91592440e-01, -6.75430149e-03, -1.89101323e-01,  1.63064286e-01,\n",
              "        3.30759197e-01,  1.17233850e-01,  1.67612821e-01,  1.62718758e-01,\n",
              "       -1.87575310e-01,  4.92336601e-02,  4.69598696e-02, -1.66728035e-01,\n",
              "       -2.49339730e-01,  2.16551155e-01,  7.05492124e-02,  5.44885062e-02,\n",
              "       -2.39931956e-01,  3.92360203e-02, -7.68033713e-02,  2.45542273e-01,\n",
              "        1.82028770e-01, -2.05306360e-03,  2.84168988e-01,  1.24334201e-01,\n",
              "        1.00913800e-01, -3.48805219e-01,  7.17494264e-02,  2.19537944e-01,\n",
              "       -2.54795492e-01, -1.28306404e-01,  3.23149376e-02, -1.58232898e-01,\n",
              "       -2.74260342e-01, -2.73710847e-01,  1.67119037e-02, -3.00610870e-01,\n",
              "       -8.92283171e-02, -9.96282399e-02,  4.75270897e-01, -2.75650442e-01,\n",
              "        3.32867265e-01,  9.27322172e-03, -7.29218274e-02,  4.62189764e-02,\n",
              "       -9.91397426e-02,  1.89328820e-01,  3.68210077e-01,  3.71476542e-03,\n",
              "       -1.62767470e-01,  3.93202394e-01, -8.74717906e-02, -6.12642355e-02,\n",
              "       -2.41173077e-02,  2.38355160e-01,  3.30988020e-02,  5.01098037e-01,\n",
              "       -2.47267708e-02,  6.05741739e-02, -1.39867738e-01, -5.02232552e-01,\n",
              "       -1.16116159e-01, -3.35223675e-01,  9.86805186e-02,  2.30224237e-01,\n",
              "        1.10292919e-01,  3.16247679e-02,  1.30132124e-01, -2.52309233e-01,\n",
              "       -1.48803830e-01, -3.76100004e-01, -1.59088984e-01, -4.53047931e-01,\n",
              "        7.60885999e-02,  8.35041478e-02,  1.14620522e-01,  4.61158901e-02,\n",
              "       -2.60584988e-02, -8.50420669e-02,  1.53863341e-01, -1.50654698e-02,\n",
              "        1.63906775e-02, -1.29857689e-01,  8.45028013e-02, -1.53576955e-01,\n",
              "        1.88674480e-01,  2.41966739e-01, -4.50032234e-01,  7.73197711e-02,\n",
              "       -1.17229015e-01,  2.70544797e-01, -3.95389199e-01,  3.72907400e-01],\n",
              "      dtype=float32)"
            ]
          },
          "metadata": {
            "tags": []
          },
          "execution_count": 50
        }
      ]
    },
    {
      "cell_type": "markdown",
      "metadata": {
        "id": "9HtQcl3qzwcD"
      },
      "source": [
        "We can print this also in a *3d* space with related words..."
      ]
    },
    {
      "cell_type": "code",
      "metadata": {
        "id": "YRevGKcn00KO",
        "outputId": "d23e595e-cb2a-4afa-aee8-51b4f04edc00",
        "colab": {
          "base_uri": "https://localhost:8080/",
          "height": 409
        }
      },
      "source": [
        "word = word\n",
        "fig = plt.figure()## word embedding\n",
        "tot_words = [word] + [tupla[0] for tupla in \n",
        "                 nlp.most_similar(word, topn=20)]\n",
        "X = nlp[tot_words]## pca to reduce dimensionality from 300 to 3\n",
        "pca = manifold.TSNE(perplexity=40, n_components=3, init='pca')\n",
        "X = pca.fit_transform(X)## create dtf\n",
        "dtf_ = pd.DataFrame(X, index=tot_words, columns=[\"x\",\"y\",\"z\"])\n",
        "dtf_[\"input\"] = 0\n",
        "dtf_[\"input\"].iloc[0:1] = 1## plot 3d\n",
        "from mpl_toolkits.mplot3d import Axes3D\n",
        "ax = fig.add_subplot(111, projection='3d')\n",
        "ax.scatter(dtf_[dtf_[\"input\"]==0]['x'], \n",
        "           dtf_[dtf_[\"input\"]==0]['y'], \n",
        "           dtf_[dtf_[\"input\"]==0]['z'], c=\"black\")\n",
        "ax.scatter(dtf_[dtf_[\"input\"]==1]['x'], \n",
        "           dtf_[dtf_[\"input\"]==1]['y'], \n",
        "           dtf_[dtf_[\"input\"]==1]['z'], c=\"red\")\n",
        "ax.set(xlabel=None, ylabel=None, zlabel=None, xticklabels=[], \n",
        "       yticklabels=[], zticklabels=[])\n",
        "for label, row in dtf_[[\"x\",\"y\",\"z\"]].iterrows():\n",
        "    x, y, z = row\n",
        "    ax.text(x, y, z, s=label)"
      ],
      "execution_count": 51,
      "outputs": [
        {
          "output_type": "stream",
          "text": [
            "/usr/local/lib/python3.7/dist-packages/ipykernel_launcher.py:4: DeprecationWarning: Call to deprecated `most_similar` (Method will be removed in 4.0.0, use self.wv.most_similar() instead).\n",
            "  after removing the cwd from sys.path.\n",
            "/usr/local/lib/python3.7/dist-packages/ipykernel_launcher.py:5: DeprecationWarning: Call to deprecated `__getitem__` (Method will be removed in 4.0.0, use self.wv.__getitem__() instead).\n",
            "  \"\"\"\n",
            "/usr/local/lib/python3.7/dist-packages/pandas/core/indexing.py:670: SettingWithCopyWarning: \n",
            "A value is trying to be set on a copy of a slice from a DataFrame\n",
            "\n",
            "See the caveats in the documentation: https://pandas.pydata.org/pandas-docs/stable/user_guide/indexing.html#returning-a-view-versus-a-copy\n",
            "  iloc._setitem_with_indexer(indexer, value)\n"
          ],
          "name": "stderr"
        },
        {
          "output_type": "display_data",
          "data": {
            "image/png": "[encoded data removed]",
            "text/plain": [
              "<Figure size 432x288 with 1 Axes>"
            ]
          },
          "metadata": {
            "tags": [],
            "image/png": {
              "width": 349,
              "height": 231
            },
            "needs_background": "light"
          }
        }
      ]
    },
    {
      "cell_type": "markdown",
      "metadata": {
        "id": "qn3wMYrp-u5r"
      },
      "source": [
        "*note: maybe we can add here a download buttom to upload these files in this cool tensorflow showcase for word embeddings\n",
        "shortcoming: need to be lowercased, thus might not be appropriate to measure politeness in german, e.g. Sie vs. sie / Ihre vs ihre*"
      ]
    },
    {
      "cell_type": "markdown",
      "metadata": {
        "id": "DBaTS7m91h-8"
      },
      "source": [
        "Ok, lets use our embeddings by tokenizing, sequencing and padding our mails.\n"
      ]
    },
    {
      "cell_type": "code",
      "metadata": {
        "id": "ixp_Jlmn-6_P"
      },
      "source": [
        "## tokenize text\n",
        "tokenizer = kprocessing.text.Tokenizer(lower=False, split=' ', \n",
        "                     oov_token=\"NaN\", \n",
        "                     filters='!\"#$%&()*+,-./:;<=>?@[\\\\]^_`{|}~\\t\\n')\n",
        "tokenizer.fit_on_texts(lst_corpus)\n",
        "dic_vocabulary = tokenizer.word_index\n",
        "\n",
        "## create sequence\n",
        "lst_text2seq= tokenizer.texts_to_sequences(lst_corpus)\n",
        "\n",
        "## padding sequence\n",
        "X_train = kprocessing.sequence.pad_sequences(lst_text2seq, \n",
        "                    maxlen=150, padding=\"post\", truncating=\"post\") #need to think about maxlen"
      ],
      "execution_count": 52,
      "outputs": []
    },
    {
      "cell_type": "markdown",
      "metadata": {
        "id": "3iH87Hb31_nX"
      },
      "source": [
        "How does our features look like? We see here a feature map where we see that some mails contains more features (black) than others."
      ]
    },
    {
      "cell_type": "code",
      "metadata": {
        "id": "LIIO2aPi-9nY",
        "colab": {
          "base_uri": "https://localhost:8080/",
          "height": 278
        },
        "outputId": "bb9cefbe-f04f-44f6-9b02-1ba848e4b582"
      },
      "source": [
        "sns.heatmap(X_train==0, vmin=0, vmax=1, cbar=False)\n",
        "plt.show()\n",
        "#feature matrixy visual x * 120"
      ],
      "execution_count": 53,
      "outputs": [
        {
          "output_type": "display_data",
          "data": {
            "image/png": "[encoded data removed]",
            "text/plain": [
              "<Figure size 432x288 with 1 Axes>"
            ]
          },
          "metadata": {
            "tags": [],
            "image/png": {
              "width": 381,
              "height": 261
            },
            "needs_background": "light"
          }
        }
      ]
    },
    {
      "cell_type": "markdown",
      "metadata": {
        "id": "Mgp0iiC228Az"
      },
      "source": [
        "Lets see if this worked... you can again change the i value to whatever u like"
      ]
    },
    {
      "cell_type": "code",
      "metadata": {
        "id": "tG5mpsFK_Ast",
        "outputId": "40a4e219-553d-4041-867d-124783242cc8",
        "colab": {
          "base_uri": "https://localhost:8080/"
        }
      },
      "source": [
        "i = 10\n",
        "\n",
        "# list of text: [\"I like this\", ...]\n",
        "len_txt = len(dtf_train[\"Mails_Combined\"].iloc[i].split())\n",
        "print(\"from: \", dtf_train[\"Mails_Combined\"].iloc[i], \"| len:\", len_txt)\n",
        "\n",
        "# sequence of token ids: [[1, 2, 3], ...]\n",
        "len_tokens = len(X_train[i])\n",
        "print(\"to: \", X_train[i], \"| len:\", len(X_train[i]))\n",
        "\n",
        "# vocabulary: {\"I\":1, \"like\":2, \"this\":3, ...}\n",
        "print(\"check: \", dtf_train[\"Mails_Combined\"].iloc[i].split()[0], \n",
        "      \" -- idx in vocabulary -->\",  \n",
        "      dic_vocabulary[dtf_train[\"Mails_Combined\"].iloc[i].split()[0]])\n",
        "\n",
        "print(\"vocabulary: \", dict(list(dic_vocabulary.items())[0:10]), \"... (padding element, 0)\")"
      ],
      "execution_count": 54,
      "outputs": [
        {
          "output_type": "stream",
          "text": [
            "from:  Hallo Herr Neumann, Make-or-Buy-Analyse durchgeführt Schluss gekommen, Fremdbezug vormontierten Teile deutlich günstiger . Leider konnte enthaltenen variablen Anteil Gemeinkostenzuschlägssätzen anfangen deswegen normalen Zuschlagssätzen, Dokument firmeninternen Netzwerk Klammern standen, gerechnet. Allerdings darf Preis berücksichtigt . Wichtig , Made Germany momentan gefragt . Eigenfertigung Qualität Deutschland sprechen gutes Image Öffentlichkeit sorgen. Weiterhin Fremdbezug Zulieferer abhängig, Lieferschwierigkeiten ganze Produktionsprozess Erliegen kommen . Wir immer Arbeitsbedingungen Ort Produktqualität Klaren Imageverlusten führen. Außerdem firmeninternes Know-How verloren gehen. Der Preisvorteil bzw. Kostenvorteil nciht Hand weisen. Deswegen dafür aussprechen, Fremdbezug vormontierten Teile Probe durchzuführen hinterher analysieren, geklappt . Mit freundlichen Grüßen Britta Baumann | len: 96\n",
            "to:  [   3    4    5 4510  922  923  112   42 1476  142  103   81    2   49\n",
            "   22 4511 2900 2901 4512  716 1023 2902 4513 1733 4514 2903 4515 4516\n",
            " 2144  118 2145   40 1024    2 4517   11  108   95  578 2146    2   45\n",
            "   16   41  547  548  549 2904 2905 1141   42  515 2906  836  672 4518\n",
            " 4519  176    2   55  111 1734 1140 4520 4521 4522 1735   82 4523  631\n",
            " 1288 1142   36 2907  121 2147 2908 1025 4524  924  126 2909   42 1476\n",
            "  142 1736 1737 4525 4526 4527    2    7    9   12 2148   44    0    0\n",
            "    0    0    0    0    0    0    0    0    0    0    0    0    0    0\n",
            "    0    0    0    0    0    0    0    0    0    0    0    0    0    0\n",
            "    0    0    0    0    0    0    0    0    0    0    0    0    0    0\n",
            "    0    0    0    0    0    0    0    0    0    0] | len: 150\n",
            "check:  Hallo  -- idx in vocabulary --> 3\n",
            "vocabulary:  {'NaN': 1, '.': 2, 'Hallo': 3, 'Herr': 4, 'Neumann,': 5, 'Ich': 6, 'Mit': 7, 'Ihnen': 8, 'freundlichen': 9, 'Sie': 10} ... (padding element, 0)\n"
          ],
          "name": "stdout"
        }
      ]
    },
    {
      "cell_type": "markdown",
      "metadata": {
        "id": "S9V4DZcK4574"
      },
      "source": [
        "We need to \"engineer\" the same features on the test set too!"
      ]
    },
    {
      "cell_type": "code",
      "metadata": {
        "id": "I6b_H1Lh_FOY"
      },
      "source": [
        "### do some engineering\n",
        "corpus = dtf_test[\"Mails_Combined\"]\n",
        "## create list of n-grams\n",
        "lst_corpus = []\n",
        "for string in corpus:\n",
        "    lst_words = string.split()\n",
        "    lst_grams = [\" \".join(lst_words[i:i+1]) for i in range(0, \n",
        "                 len(lst_words), 1)]\n",
        "    lst_corpus.append(lst_grams)\n",
        "    ## detect common bigrams and trigrams using the fitted detectors\n",
        "lst_corpus = list(bigrams_detector[lst_corpus])\n",
        "lst_corpus = list(trigrams_detector[lst_corpus])\n",
        "## text to sequence with the fitted tokenizer\n",
        "lst_text2seq = tokenizer.texts_to_sequences(lst_corpus)\n",
        "## padding sequence\n",
        "X_test = kprocessing.sequence.pad_sequences(lst_text2seq, \n",
        "                                            maxlen=150,\n",
        "             padding=\"post\", truncating=\"post\")"
      ],
      "execution_count": 55,
      "outputs": []
    },
    {
      "cell_type": "markdown",
      "metadata": {
        "id": "OxSJvtn25XvA"
      },
      "source": [
        "And now we create the matrix of embeddings that will be used as a weight matrix in the neural network classifier."
      ]
    },
    {
      "cell_type": "code",
      "metadata": {
        "id": "-lj7yHfD_Hvx",
        "colab": {
          "base_uri": "https://localhost:8080/"
        },
        "outputId": "304a14d3-b987-4b2f-8758-ecab74fe5926"
      },
      "source": [
        "## start the matrix (length of vocabulary x vector size) with all 0s\n",
        "embeddings = np.zeros((len(dic_vocabulary)+1, 300))\n",
        "\n",
        "for word,idx in dic_vocabulary.items():\n",
        "    ## update the row with vector\n",
        "    try:\n",
        "        embeddings[idx] =  nlp[word]\n",
        "    ## if word not in model then skip and the row stays all 0s\n",
        "    except:\n",
        "        pass"
      ],
      "execution_count": 56,
      "outputs": [
        {
          "output_type": "stream",
          "text": [
            "/usr/local/lib/python3.7/dist-packages/ipykernel_launcher.py:7: DeprecationWarning: Call to deprecated `__getitem__` (Method will be removed in 4.0.0, use self.wv.__getitem__() instead).\n",
            "  import sys\n"
          ],
          "name": "stderr"
        }
      ]
    },
    {
      "cell_type": "markdown",
      "metadata": {
        "id": "RX-n5b3W5u75"
      },
      "source": [
        "Just a final check to see if everything is all right"
      ]
    },
    {
      "cell_type": "code",
      "metadata": {
        "id": "N336OJ9B_K0K",
        "colab": {
          "base_uri": "https://localhost:8080/"
        },
        "outputId": "79b97616-19c6-4061-ca6c-d0ffbb4b5235"
      },
      "source": [
        "word = \"freundlichen\"\n",
        "print(\"dic[word]:\", dic_vocabulary[word], \"|idx\")\n",
        "print(\"embeddings[idx]:\", embeddings[dic_vocabulary[word]].shape, \n",
        "      \"|vector\")"
      ],
      "execution_count": 57,
      "outputs": [
        {
          "output_type": "stream",
          "text": [
            "dic[word]: 9 |idx\n",
            "embeddings[idx]: (300,) |vector\n"
          ],
          "name": "stdout"
        }
      ]
    },
    {
      "cell_type": "markdown",
      "metadata": {
        "id": "VYrBu14c5_zB"
      },
      "source": [
        "Lets quickly measure the inbalance to get some class_weights"
      ]
    },
    {
      "cell_type": "code",
      "metadata": {
        "id": "jiQM9hi4Imw5",
        "colab": {
          "base_uri": "https://localhost:8080/"
        },
        "outputId": "d3f24236-6887-4d38-fb39-eb79ee151b8c"
      },
      "source": [
        "# we need to fix our inbalanced dataset by using a balance function by sklearn\n",
        "from sklearn.utils import class_weight\n",
        "class_weights = class_weight.compute_class_weight('balanced',\n",
        "                                                 np.unique(y_train),\n",
        "                                                 y_train)\n",
        "class_weights"
      ],
      "execution_count": 58,
      "outputs": [
        {
          "output_type": "execute_result",
          "data": {
            "text/plain": [
              "array([7.3       , 0.53676471])"
            ]
          },
          "metadata": {
            "tags": []
          },
          "execution_count": 58
        }
      ]
    },
    {
      "cell_type": "markdown",
      "metadata": {
        "id": "EUuehNOG55UJ"
      },
      "source": [
        "And now we define our model without an attention but an embedding layer. We use an embedding layer to include our embeddings as untrainable weights, and a small RNN with two bidirectional LSTM layers, a dense layer and an output layer with 2 neurons, and a softmax as activation function. (we use this model design, as it was sucessfully used in a similar task)."
      ]
    },
    {
      "cell_type": "code",
      "metadata": {
        "id": "X2pkOoLX_O-R",
        "colab": {
          "base_uri": "https://localhost:8080/"
        },
        "outputId": "041a0faf-c998-4001-8e00-1eddff4c4ebb"
      },
      "source": [
        "from tensorflow import keras\n",
        "\n",
        "## input\n",
        "x_in = layers.Input(shape=(150,))## embedding\n",
        "x = layers.Embedding(input_dim=embeddings.shape[0],  \n",
        "                     output_dim=embeddings.shape[1], \n",
        "                     weights=[embeddings],\n",
        "                     input_length=150, trainable=False)(x_in)\n",
        "## apply attention\n",
        "#x = attention_layer(x, neurons=150)\n",
        "## 2 layers of bidirectional lstm\n",
        "x = layers.Bidirectional(layers.LSTM(units=200, dropout=0.2, \n",
        "                         return_sequences=True))(x)\n",
        "x = layers.Bidirectional(layers.LSTM(units=200, dropout=0.2,\n",
        "                          return_sequences=False))(x)\n",
        "#x = layers.LSTM(units=100, dropout=0.2)(x)\n",
        "## final dense layers\n",
        "x = layers.Dense(64, activation='relu')(x)\n",
        "y_out = layers.Dense(2, activation='softmax')(x)\n",
        "#y_out = layers.Dense(1, activation='sigmoid')(x)## compile\n",
        "model = models.Model(x_in, y_out)\n",
        "\n",
        "opt = keras.optimizers.Adam(lr=1e-6)\n",
        "model.compile(loss='sparse_categorical_crossentropy',  # #binary_crossentropy \n",
        "              optimizer=opt, metrics=['accuracy'])\n",
        "\n",
        "model.summary()"
      ],
      "execution_count": 59,
      "outputs": [
        {
          "output_type": "stream",
          "text": [
            "Model: \"model\"\n",
            "_________________________________________________________________\n",
            "Layer (type)                 Output Shape              Param #   \n",
            "=================================================================\n",
            "input_1 (InputLayer)         [(None, 150)]             0         \n",
            "_________________________________________________________________\n",
            "embedding (Embedding)        (None, 150, 300)          3478800   \n",
            "_________________________________________________________________\n",
            "bidirectional (Bidirectional (None, 150, 400)          801600    \n",
            "_________________________________________________________________\n",
            "bidirectional_1 (Bidirection (None, 400)               961600    \n",
            "_________________________________________________________________\n",
            "dense (Dense)                (None, 64)                25664     \n",
            "_________________________________________________________________\n",
            "dense_1 (Dense)              (None, 2)                 130       \n",
            "=================================================================\n",
            "Total params: 5,267,794\n",
            "Trainable params: 1,788,994\n",
            "Non-trainable params: 3,478,800\n",
            "_________________________________________________________________\n"
          ],
          "name": "stdout"
        },
        {
          "output_type": "stream",
          "text": [
            "/usr/local/lib/python3.7/dist-packages/tensorflow/python/keras/optimizer_v2/optimizer_v2.py:375: UserWarning: The `lr` argument is deprecated, use `learning_rate` instead.\n",
            "  \"The `lr` argument is deprecated, use `learning_rate` instead.\")\n"
          ],
          "name": "stderr"
        }
      ]
    },
    {
      "cell_type": "code",
      "metadata": {
        "id": "Tgt2sVYW_S_W",
        "colab": {
          "base_uri": "https://localhost:8080/",
          "height": 1000
        },
        "outputId": "3530cfe2-2378-4f01-c01f-893024adea2d"
      },
      "source": [
        "## encode y\n",
        "dic_y_mapping = {n:label for n,label in \n",
        "                 enumerate(np.unique(y_train))}\n",
        "inverse_dic = {v:k for k,v in dic_y_mapping.items()}\n",
        "y_train = np.array([inverse_dic[y] for y in y_train])\n",
        "\n",
        "## train\n",
        "training = model.fit(x=X_train, y=y_train, batch_size=64, \n",
        "                     epochs=50, shuffle=True, verbose=2, \n",
        "                     validation_split=0.2, class_weight={0:7, 1:0.5}) #0:14, 1:1\n",
        "\n",
        "## plot loss and accuracy\n",
        "metrics = [k for k in training.history.keys() if (\"loss\" not in k) and (\"val\" not in k)]\n",
        "fig, ax = plt.subplots(nrows=1, ncols=2, sharey=True)\n",
        "\n",
        "ax[0].set(title=\"Training\")\n",
        "ax11 = ax[0].twinx()\n",
        "ax[0].plot(training.history['loss'], color='black')\n",
        "ax[0].set_xlabel('Epochs')\n",
        "ax[0].set_ylabel('Loss', color='black')\n",
        "for metric in metrics:\n",
        "    ax11.plot(training.history[metric], label=metric)\n",
        "ax11.set_ylabel(\"Score\", color='steelblue')\n",
        "ax11.legend()\n",
        "ax[1].set(title=\"Validation\")\n",
        "ax22 = ax[1].twinx()\n",
        "\n",
        "ax[1].plot(training.history['val_loss'], color='black')\n",
        "ax[1].set_xlabel('Epochs')\n",
        "ax[1].set_ylabel('Loss', color='black')\n",
        "for metric in metrics:\n",
        "     ax22.plot(training.history['val_'+metric], label=metric)\n",
        "ax22.set_ylabel(\"Score\", color=\"steelblue\")\n",
        "plt.show()\n",
        "\n"
      ],
      "execution_count": 60,
      "outputs": [
        {
          "output_type": "stream",
          "text": [
            "WARNING:tensorflow:From /usr/local/lib/python3.7/dist-packages/tensorflow/python/ops/array_ops.py:5049: calling gather (from tensorflow.python.ops.array_ops) with validate_indices is deprecated and will be removed in a future version.\n",
            "Instructions for updating:\n",
            "The `validate_indices` argument has no effect. Indices are always validated on CPU and never validated on GPU.\n",
            "Epoch 1/50\n",
            "19/19 - 10s - loss: 0.6660 - accuracy: 0.1070 - val_loss: 0.7211 - val_accuracy: 0.0788\n",
            "Epoch 2/50\n",
            "19/19 - 1s - loss: 0.6650 - accuracy: 0.1353 - val_loss: 0.7161 - val_accuracy: 0.1130\n",
            "Epoch 3/50\n",
            "19/19 - 1s - loss: 0.6638 - accuracy: 0.1618 - val_loss: 0.7125 - val_accuracy: 0.1473\n",
            "Epoch 4/50\n",
            "19/19 - 1s - loss: 0.6640 - accuracy: 0.2046 - val_loss: 0.7085 - val_accuracy: 0.1815\n",
            "Epoch 5/50\n",
            "19/19 - 1s - loss: 0.6628 - accuracy: 0.2517 - val_loss: 0.7041 - val_accuracy: 0.2671\n",
            "Epoch 6/50\n",
            "19/19 - 1s - loss: 0.6618 - accuracy: 0.3219 - val_loss: 0.6990 - val_accuracy: 0.3527\n",
            "Epoch 7/50\n",
            "19/19 - 1s - loss: 0.6610 - accuracy: 0.3733 - val_loss: 0.6960 - val_accuracy: 0.4247\n",
            "Epoch 8/50\n",
            "19/19 - 1s - loss: 0.6603 - accuracy: 0.4521 - val_loss: 0.6920 - val_accuracy: 0.5274\n",
            "Epoch 9/50\n",
            "19/19 - 1s - loss: 0.6589 - accuracy: 0.5051 - val_loss: 0.6885 - val_accuracy: 0.6164\n",
            "Epoch 10/50\n",
            "19/19 - 1s - loss: 0.6590 - accuracy: 0.5634 - val_loss: 0.6843 - val_accuracy: 0.6986\n",
            "Epoch 11/50\n",
            "19/19 - 1s - loss: 0.6588 - accuracy: 0.6430 - val_loss: 0.6804 - val_accuracy: 0.7466\n",
            "Epoch 12/50\n",
            "19/19 - 1s - loss: 0.6566 - accuracy: 0.6824 - val_loss: 0.6771 - val_accuracy: 0.7945\n",
            "Epoch 13/50\n",
            "19/19 - 1s - loss: 0.6555 - accuracy: 0.7474 - val_loss: 0.6738 - val_accuracy: 0.8356\n",
            "Epoch 14/50\n",
            "19/19 - 1s - loss: 0.6568 - accuracy: 0.7757 - val_loss: 0.6709 - val_accuracy: 0.8836\n",
            "Epoch 15/50\n",
            "19/19 - 1s - loss: 0.6546 - accuracy: 0.8022 - val_loss: 0.6685 - val_accuracy: 0.9041\n",
            "Epoch 16/50\n",
            "19/19 - 1s - loss: 0.6541 - accuracy: 0.8202 - val_loss: 0.6662 - val_accuracy: 0.9075\n",
            "Epoch 17/50\n",
            "19/19 - 1s - loss: 0.6541 - accuracy: 0.8467 - val_loss: 0.6636 - val_accuracy: 0.9212\n",
            "Epoch 18/50\n",
            "19/19 - 1s - loss: 0.6534 - accuracy: 0.8562 - val_loss: 0.6608 - val_accuracy: 0.9247\n",
            "Epoch 19/50\n",
            "19/19 - 1s - loss: 0.6522 - accuracy: 0.8724 - val_loss: 0.6572 - val_accuracy: 0.9384\n",
            "Epoch 20/50\n",
            "19/19 - 1s - loss: 0.6524 - accuracy: 0.8870 - val_loss: 0.6557 - val_accuracy: 0.9384\n",
            "Epoch 21/50\n",
            "19/19 - 1s - loss: 0.6523 - accuracy: 0.8973 - val_loss: 0.6535 - val_accuracy: 0.9384\n",
            "Epoch 22/50\n",
            "19/19 - 1s - loss: 0.6513 - accuracy: 0.9033 - val_loss: 0.6512 - val_accuracy: 0.9384\n",
            "Epoch 23/50\n",
            "19/19 - 1s - loss: 0.6501 - accuracy: 0.9084 - val_loss: 0.6491 - val_accuracy: 0.9384\n",
            "Epoch 24/50\n",
            "19/19 - 1s - loss: 0.6505 - accuracy: 0.9212 - val_loss: 0.6473 - val_accuracy: 0.9384\n",
            "Epoch 25/50\n",
            "19/19 - 1s - loss: 0.6503 - accuracy: 0.9067 - val_loss: 0.6457 - val_accuracy: 0.9384\n",
            "Epoch 26/50\n",
            "19/19 - 1s - loss: 0.6496 - accuracy: 0.9152 - val_loss: 0.6435 - val_accuracy: 0.9384\n",
            "Epoch 27/50\n",
            "19/19 - 1s - loss: 0.6489 - accuracy: 0.9195 - val_loss: 0.6416 - val_accuracy: 0.9418\n",
            "Epoch 28/50\n",
            "19/19 - 1s - loss: 0.6479 - accuracy: 0.9221 - val_loss: 0.6399 - val_accuracy: 0.9418\n",
            "Epoch 29/50\n",
            "19/19 - 1s - loss: 0.6482 - accuracy: 0.9187 - val_loss: 0.6381 - val_accuracy: 0.9418\n",
            "Epoch 30/50\n",
            "19/19 - 1s - loss: 0.6477 - accuracy: 0.9255 - val_loss: 0.6365 - val_accuracy: 0.9418\n",
            "Epoch 31/50\n",
            "19/19 - 1s - loss: 0.6469 - accuracy: 0.9264 - val_loss: 0.6348 - val_accuracy: 0.9418\n",
            "Epoch 32/50\n",
            "19/19 - 1s - loss: 0.6473 - accuracy: 0.9289 - val_loss: 0.6334 - val_accuracy: 0.9418\n",
            "Epoch 33/50\n",
            "19/19 - 1s - loss: 0.6464 - accuracy: 0.9289 - val_loss: 0.6313 - val_accuracy: 0.9418\n",
            "Epoch 34/50\n",
            "19/19 - 1s - loss: 0.6461 - accuracy: 0.9238 - val_loss: 0.6302 - val_accuracy: 0.9418\n",
            "Epoch 35/50\n",
            "19/19 - 1s - loss: 0.6468 - accuracy: 0.9272 - val_loss: 0.6286 - val_accuracy: 0.9418\n",
            "Epoch 36/50\n",
            "19/19 - 1s - loss: 0.6455 - accuracy: 0.9324 - val_loss: 0.6269 - val_accuracy: 0.9418\n",
            "Epoch 37/50\n",
            "19/19 - 1s - loss: 0.6450 - accuracy: 0.9272 - val_loss: 0.6260 - val_accuracy: 0.9418\n",
            "Epoch 38/50\n",
            "19/19 - 1s - loss: 0.6448 - accuracy: 0.9298 - val_loss: 0.6241 - val_accuracy: 0.9418\n",
            "Epoch 39/50\n",
            "19/19 - 1s - loss: 0.6439 - accuracy: 0.9324 - val_loss: 0.6228 - val_accuracy: 0.9452\n",
            "Epoch 40/50\n",
            "19/19 - 1s - loss: 0.6429 - accuracy: 0.9332 - val_loss: 0.6210 - val_accuracy: 0.9452\n",
            "Epoch 41/50\n",
            "19/19 - 1s - loss: 0.6420 - accuracy: 0.9315 - val_loss: 0.6197 - val_accuracy: 0.9452\n",
            "Epoch 42/50\n",
            "19/19 - 1s - loss: 0.6432 - accuracy: 0.9298 - val_loss: 0.6182 - val_accuracy: 0.9452\n",
            "Epoch 43/50\n",
            "19/19 - 1s - loss: 0.6426 - accuracy: 0.9315 - val_loss: 0.6169 - val_accuracy: 0.9452\n",
            "Epoch 44/50\n",
            "19/19 - 1s - loss: 0.6424 - accuracy: 0.9272 - val_loss: 0.6157 - val_accuracy: 0.9452\n",
            "Epoch 45/50\n",
            "19/19 - 1s - loss: 0.6416 - accuracy: 0.9289 - val_loss: 0.6139 - val_accuracy: 0.9452\n",
            "Epoch 46/50\n",
            "19/19 - 1s - loss: 0.6406 - accuracy: 0.9298 - val_loss: 0.6131 - val_accuracy: 0.9452\n",
            "Epoch 47/50\n",
            "19/19 - 1s - loss: 0.6405 - accuracy: 0.9332 - val_loss: 0.6117 - val_accuracy: 0.9452\n",
            "Epoch 48/50\n",
            "19/19 - 1s - loss: 0.6408 - accuracy: 0.9289 - val_loss: 0.6110 - val_accuracy: 0.9452\n",
            "Epoch 49/50\n",
            "19/19 - 1s - loss: 0.6393 - accuracy: 0.9358 - val_loss: 0.6096 - val_accuracy: 0.9452\n",
            "Epoch 50/50\n",
            "19/19 - 1s - loss: 0.6396 - accuracy: 0.9324 - val_loss: 0.6083 - val_accuracy: 0.9452\n"
          ],
          "name": "stdout"
        },
        {
          "output_type": "display_data",
          "data": {
            "image/png": "[encoded data removed]",
            "text/plain": [
              "<Figure size 432x288 with 4 Axes>"
            ]
          },
          "metadata": {
            "tags": [],
            "image/png": {
              "width": 428,
              "height": 277
            },
            "needs_background": "light"
          }
        }
      ]
    },
    {
      "cell_type": "markdown",
      "metadata": {
        "id": "mqmrfGm9MVup"
      },
      "source": [
        "Lets see if this works"
      ]
    },
    {
      "cell_type": "code",
      "metadata": {
        "id": "w4YAKP7SiELk"
      },
      "source": [
        "def showModelPerformance(history, string):\n",
        "    plt.plot(history.history[string])\n",
        "    plt.plot(history.history['val_'+string])\n",
        "    plt.xlabel(\"Epochs\")\n",
        "    plt.ylabel(string)\n",
        "    plt.title('Model')\n",
        "    plt.legend([string, 'val_'+string])\n",
        "    plt.show()\n",
        "    \n",
        "    return"
      ],
      "execution_count": 61,
      "outputs": []
    },
    {
      "cell_type": "code",
      "metadata": {
        "id": "bqtu_dH2iGdh",
        "colab": {
          "base_uri": "https://localhost:8080/",
          "height": 294
        },
        "outputId": "9f08676c-6614-4a0b-e8a2-fcae31716764"
      },
      "source": [
        "showModelPerformance(training, \"loss\")"
      ],
      "execution_count": 62,
      "outputs": [
        {
          "output_type": "display_data",
          "data": {
            "image/png": "[encoded data removed]",
            "text/plain": [
              "<Figure size 432x288 with 1 Axes>"
            ]
          },
          "metadata": {
            "tags": [],
            "image/png": {
              "width": 392,
              "height": 277
            },
            "needs_background": "light"
          }
        }
      ]
    },
    {
      "cell_type": "code",
      "metadata": {
        "id": "ljmtRQHymTCH"
      },
      "source": [
        "predictions=model.predict(X_test)"
      ],
      "execution_count": 63,
      "outputs": []
    },
    {
      "cell_type": "code",
      "metadata": {
        "id": "Lu_OwoCwnhbf"
      },
      "source": [
        "import sys\n",
        "np.set_printoptions(threshold=sys.maxsize)"
      ],
      "execution_count": 64,
      "outputs": []
    },
    {
      "cell_type": "code",
      "metadata": {
        "id": "anyzupprmYbK",
        "colab": {
          "base_uri": "https://localhost:8080/"
        },
        "outputId": "aa5f4202-cf60-4402-e4f4-0978e664a3e2"
      },
      "source": [
        "predictions"
      ],
      "execution_count": 65,
      "outputs": [
        {
          "output_type": "execute_result",
          "data": {
            "text/plain": [
              "array([[0.50005174, 0.49994826],\n",
              "       [0.50216776, 0.49783227],\n",
              "       [0.5050537 , 0.49494624],\n",
              "       [0.4961651 , 0.50383496],\n",
              "       [0.48354408, 0.51645595],\n",
              "       [0.5042165 , 0.49578357],\n",
              "       [0.49711767, 0.5028823 ],\n",
              "       [0.4871724 , 0.51282763],\n",
              "       [0.46852592, 0.53147405],\n",
              "       [0.49216488, 0.5078351 ],\n",
              "       [0.47436902, 0.525631  ],\n",
              "       [0.45533434, 0.5446657 ],\n",
              "       [0.48502004, 0.51497996],\n",
              "       [0.49471164, 0.5052884 ],\n",
              "       [0.45746717, 0.54253286],\n",
              "       [0.49641573, 0.50358427],\n",
              "       [0.48987877, 0.5101212 ],\n",
              "       [0.48874232, 0.51125765],\n",
              "       [0.5046701 , 0.49532992],\n",
              "       [0.48340452, 0.5165955 ],\n",
              "       [0.49702084, 0.50297916],\n",
              "       [0.51235044, 0.48764956],\n",
              "       [0.5011189 , 0.49888107],\n",
              "       [0.48802057, 0.51197946],\n",
              "       [0.4961994 , 0.50380063],\n",
              "       [0.49895975, 0.5010403 ],\n",
              "       [0.4842235 , 0.5157765 ],\n",
              "       [0.48907962, 0.51092035],\n",
              "       [0.5161777 , 0.4838223 ],\n",
              "       [0.49766478, 0.5023352 ],\n",
              "       [0.49138892, 0.5086111 ],\n",
              "       [0.4840161 , 0.51598394],\n",
              "       [0.49273384, 0.50726616],\n",
              "       [0.5073961 , 0.4926039 ],\n",
              "       [0.46788266, 0.53211737],\n",
              "       [0.4732903 , 0.5267097 ],\n",
              "       [0.46670738, 0.5332926 ],\n",
              "       [0.46885905, 0.531141  ],\n",
              "       [0.466625  , 0.53337497],\n",
              "       [0.482723  , 0.517277  ],\n",
              "       [0.49309435, 0.5069056 ],\n",
              "       [0.5057312 , 0.49426877],\n",
              "       [0.4673981 , 0.5326019 ],\n",
              "       [0.4807657 , 0.5192343 ],\n",
              "       [0.48696274, 0.51303726],\n",
              "       [0.4639057 , 0.53609425],\n",
              "       [0.48393577, 0.5160643 ],\n",
              "       [0.5050782 , 0.49492183],\n",
              "       [0.48890778, 0.51109225],\n",
              "       [0.47023398, 0.529766  ],\n",
              "       [0.4874528 , 0.5125472 ],\n",
              "       [0.51494795, 0.48505202],\n",
              "       [0.4927629 , 0.5072371 ],\n",
              "       [0.48064634, 0.5193536 ],\n",
              "       [0.50905716, 0.49094284],\n",
              "       [0.4713382 , 0.5286618 ],\n",
              "       [0.4746612 , 0.5253388 ],\n",
              "       [0.4895167 , 0.5104833 ],\n",
              "       [0.5017003 , 0.49829972],\n",
              "       [0.4858334 , 0.51416665],\n",
              "       [0.49084964, 0.5091503 ],\n",
              "       [0.48853192, 0.51146805],\n",
              "       [0.50868565, 0.49131438],\n",
              "       [0.48510218, 0.5148978 ],\n",
              "       [0.49056223, 0.50943774],\n",
              "       [0.46907058, 0.53092945],\n",
              "       [0.500294  , 0.49970597],\n",
              "       [0.49177578, 0.5082242 ],\n",
              "       [0.48743987, 0.5125601 ],\n",
              "       [0.49233672, 0.50766325],\n",
              "       [0.5029961 , 0.49700385],\n",
              "       [0.46728575, 0.53271425],\n",
              "       [0.50173295, 0.49826705],\n",
              "       [0.496166  , 0.503834  ],\n",
              "       [0.46393976, 0.5360602 ],\n",
              "       [0.50360566, 0.4963943 ],\n",
              "       [0.49132696, 0.5086731 ],\n",
              "       [0.47424382, 0.5257562 ],\n",
              "       [0.48994294, 0.5100571 ],\n",
              "       [0.49267098, 0.507329  ],\n",
              "       [0.48653278, 0.51346725],\n",
              "       [0.4683521 , 0.5316479 ],\n",
              "       [0.50519806, 0.49480194],\n",
              "       [0.4940699 , 0.5059301 ],\n",
              "       [0.47893298, 0.521067  ],\n",
              "       [0.4606298 , 0.5393702 ],\n",
              "       [0.49723697, 0.50276303],\n",
              "       [0.47941455, 0.5205854 ],\n",
              "       [0.5119321 , 0.4880679 ],\n",
              "       [0.49987113, 0.50012887],\n",
              "       [0.4903642 , 0.50963587],\n",
              "       [0.5051288 , 0.49487123],\n",
              "       [0.4954496 , 0.50455046],\n",
              "       [0.4969351 , 0.5030649 ],\n",
              "       [0.51297045, 0.48702952],\n",
              "       [0.50691366, 0.4930863 ],\n",
              "       [0.5028503 , 0.49714968],\n",
              "       [0.46085835, 0.53914165],\n",
              "       [0.47219607, 0.52780396],\n",
              "       [0.48052022, 0.5194798 ],\n",
              "       [0.49022165, 0.5097784 ],\n",
              "       [0.46920368, 0.53079635],\n",
              "       [0.50522435, 0.4947756 ],\n",
              "       [0.4857478 , 0.5142522 ],\n",
              "       [0.4910615 , 0.5089385 ],\n",
              "       [0.4975075 , 0.5024925 ],\n",
              "       [0.47574702, 0.52425295],\n",
              "       [0.4971124 , 0.5028876 ],\n",
              "       [0.4974272 , 0.5025728 ],\n",
              "       [0.49888718, 0.5011128 ],\n",
              "       [0.47685364, 0.5231464 ],\n",
              "       [0.47964364, 0.52035636],\n",
              "       [0.48414978, 0.5158502 ],\n",
              "       [0.50986654, 0.4901334 ],\n",
              "       [0.4711748 , 0.52882516],\n",
              "       [0.49833813, 0.50166184],\n",
              "       [0.489664  , 0.51033604],\n",
              "       [0.48308918, 0.5169108 ],\n",
              "       [0.49428126, 0.5057187 ],\n",
              "       [0.4817845 , 0.51821554],\n",
              "       [0.47511503, 0.52488494],\n",
              "       [0.4863244 , 0.5136756 ],\n",
              "       [0.4638046 , 0.53619534],\n",
              "       [0.48903468, 0.51096535],\n",
              "       [0.4944047 , 0.50559527],\n",
              "       [0.5054911 , 0.49450898],\n",
              "       [0.5086022 , 0.4913978 ],\n",
              "       [0.50475156, 0.49524844],\n",
              "       [0.50298136, 0.49701864],\n",
              "       [0.49726263, 0.5027374 ],\n",
              "       [0.5011434 , 0.49885663],\n",
              "       [0.4720429 , 0.5279571 ],\n",
              "       [0.48014   , 0.51985997],\n",
              "       [0.49610394, 0.50389606],\n",
              "       [0.49853352, 0.5014665 ],\n",
              "       [0.47790235, 0.52209765],\n",
              "       [0.4933508 , 0.5066492 ],\n",
              "       [0.48251918, 0.51748085],\n",
              "       [0.49408668, 0.5059134 ],\n",
              "       [0.49803618, 0.5019638 ],\n",
              "       [0.4936366 , 0.5063634 ],\n",
              "       [0.49194977, 0.5080502 ],\n",
              "       [0.48759145, 0.5124085 ],\n",
              "       [0.5046824 , 0.4953176 ],\n",
              "       [0.50943416, 0.49056587],\n",
              "       [0.47917974, 0.52082026],\n",
              "       [0.49627253, 0.50372744],\n",
              "       [0.46018457, 0.5398154 ],\n",
              "       [0.4905934 , 0.50940657],\n",
              "       [0.4765675 , 0.52343243],\n",
              "       [0.48292962, 0.51707035],\n",
              "       [0.49223703, 0.50776297],\n",
              "       [0.49758643, 0.5024136 ],\n",
              "       [0.51119465, 0.48880532],\n",
              "       [0.48296365, 0.5170363 ],\n",
              "       [0.46628448, 0.53371555],\n",
              "       [0.49706954, 0.5029304 ],\n",
              "       [0.4907043 , 0.5092957 ],\n",
              "       [0.45102614, 0.54897386],\n",
              "       [0.50572366, 0.49427634],\n",
              "       [0.48816672, 0.5118333 ],\n",
              "       [0.48873633, 0.51126367],\n",
              "       [0.4951973 , 0.5048027 ],\n",
              "       [0.4862647 , 0.5137353 ],\n",
              "       [0.4938515 , 0.5061485 ],\n",
              "       [0.4733444 , 0.5266557 ],\n",
              "       [0.4618835 , 0.5381165 ],\n",
              "       [0.47219592, 0.5278041 ],\n",
              "       [0.4940826 , 0.50591743],\n",
              "       [0.48995677, 0.51004326],\n",
              "       [0.46568236, 0.5343177 ],\n",
              "       [0.48081413, 0.5191859 ],\n",
              "       [0.48857018, 0.51142985],\n",
              "       [0.5034165 , 0.4965835 ],\n",
              "       [0.4911878 , 0.5088122 ],\n",
              "       [0.5018422 , 0.4981578 ],\n",
              "       [0.4845165 , 0.51548356],\n",
              "       [0.48180446, 0.51819557],\n",
              "       [0.5002953 , 0.4997047 ],\n",
              "       [0.49983427, 0.5001657 ],\n",
              "       [0.46968922, 0.5303108 ],\n",
              "       [0.49813637, 0.5018636 ],\n",
              "       [0.4843354 , 0.5156646 ],\n",
              "       [0.50345004, 0.49655002],\n",
              "       [0.4988778 , 0.5011222 ],\n",
              "       [0.47705474, 0.5229453 ],\n",
              "       [0.49218872, 0.5078113 ],\n",
              "       [0.503302  , 0.49669802],\n",
              "       [0.47297707, 0.5270229 ],\n",
              "       [0.47956973, 0.5204303 ],\n",
              "       [0.47815335, 0.52184665],\n",
              "       [0.48130915, 0.5186908 ],\n",
              "       [0.48240852, 0.5175915 ],\n",
              "       [0.48788777, 0.51211226],\n",
              "       [0.47882503, 0.52117497],\n",
              "       [0.47432536, 0.52567464],\n",
              "       [0.4853041 , 0.5146959 ],\n",
              "       [0.48339504, 0.51660496],\n",
              "       [0.5030333 , 0.49696672],\n",
              "       [0.4956614 , 0.5043386 ],\n",
              "       [0.48589095, 0.514109  ],\n",
              "       [0.49496   , 0.50504   ],\n",
              "       [0.4991408 , 0.5008592 ],\n",
              "       [0.49510255, 0.5048974 ],\n",
              "       [0.49576738, 0.5042326 ],\n",
              "       [0.4816623 , 0.5183377 ],\n",
              "       [0.49262482, 0.50737524],\n",
              "       [0.4758438 , 0.5241562 ],\n",
              "       [0.50477237, 0.49522763],\n",
              "       [0.49182647, 0.5081735 ],\n",
              "       [0.50551033, 0.49448973],\n",
              "       [0.48584118, 0.5141588 ],\n",
              "       [0.48351094, 0.5164891 ],\n",
              "       [0.4920287 , 0.50797135],\n",
              "       [0.4865301 , 0.5134699 ],\n",
              "       [0.4737878 , 0.5262122 ],\n",
              "       [0.48660696, 0.51339304],\n",
              "       [0.49397418, 0.5060258 ],\n",
              "       [0.48249552, 0.5175045 ],\n",
              "       [0.48499912, 0.5150009 ],\n",
              "       [0.51273334, 0.48726666],\n",
              "       [0.4706489 , 0.52935106],\n",
              "       [0.49982414, 0.50017583],\n",
              "       [0.47966763, 0.5203324 ],\n",
              "       [0.5016641 , 0.4983359 ],\n",
              "       [0.48756754, 0.51243246],\n",
              "       [0.4983861 , 0.50161386],\n",
              "       [0.4812459 , 0.51875407],\n",
              "       [0.5056478 , 0.4943522 ],\n",
              "       [0.50165915, 0.49834087],\n",
              "       [0.50430226, 0.49569774],\n",
              "       [0.4885112 , 0.5114888 ],\n",
              "       [0.48269558, 0.5173045 ],\n",
              "       [0.517993  , 0.48200703],\n",
              "       [0.49202234, 0.50797766],\n",
              "       [0.5127078 , 0.4872921 ],\n",
              "       [0.49306792, 0.5069321 ],\n",
              "       [0.47054762, 0.5294523 ],\n",
              "       [0.4681272 , 0.53187275],\n",
              "       [0.5100106 , 0.48998943],\n",
              "       [0.48485622, 0.5151438 ],\n",
              "       [0.48238826, 0.51761174],\n",
              "       [0.48943472, 0.5105653 ],\n",
              "       [0.4578766 , 0.54212344],\n",
              "       [0.48884422, 0.5111558 ],\n",
              "       [0.49130258, 0.5086974 ],\n",
              "       [0.4804432 , 0.51955676],\n",
              "       [0.5053414 , 0.49465856],\n",
              "       [0.50908643, 0.49091354],\n",
              "       [0.46673566, 0.5332644 ],\n",
              "       [0.48777807, 0.51222193],\n",
              "       [0.49024677, 0.5097532 ],\n",
              "       [0.5096995 , 0.49030054],\n",
              "       [0.50302297, 0.496977  ],\n",
              "       [0.50333476, 0.49666524],\n",
              "       [0.46836305, 0.53163695],\n",
              "       [0.50966483, 0.49033514],\n",
              "       [0.5037518 , 0.49624816],\n",
              "       [0.4804907 , 0.5195093 ],\n",
              "       [0.5113014 , 0.48869863],\n",
              "       [0.49935356, 0.5006464 ],\n",
              "       [0.46656394, 0.53343606],\n",
              "       [0.48296285, 0.51703715],\n",
              "       [0.47567767, 0.52432233],\n",
              "       [0.46964893, 0.53035104],\n",
              "       [0.45589843, 0.54410154],\n",
              "       [0.48835474, 0.51164526],\n",
              "       [0.4702767 , 0.5297233 ],\n",
              "       [0.48067993, 0.5193201 ],\n",
              "       [0.49104223, 0.5089578 ],\n",
              "       [0.48861486, 0.51138514],\n",
              "       [0.48989394, 0.510106  ],\n",
              "       [0.497513  , 0.502487  ],\n",
              "       [0.5015248 , 0.4984752 ],\n",
              "       [0.47569177, 0.52430826],\n",
              "       [0.50647974, 0.49352026],\n",
              "       [0.48321268, 0.5167873 ],\n",
              "       [0.50603426, 0.49396572],\n",
              "       [0.47731844, 0.52268153],\n",
              "       [0.46986264, 0.5301374 ],\n",
              "       [0.4975789 , 0.50242114],\n",
              "       [0.4964629 , 0.50353706],\n",
              "       [0.4864567 , 0.51354325],\n",
              "       [0.49381238, 0.5061876 ],\n",
              "       [0.4882037 , 0.5117963 ],\n",
              "       [0.48826283, 0.51173717],\n",
              "       [0.47432894, 0.5256711 ],\n",
              "       [0.48189107, 0.5181089 ],\n",
              "       [0.50183696, 0.49816304],\n",
              "       [0.49027988, 0.5097201 ],\n",
              "       [0.49612653, 0.50387347],\n",
              "       [0.48167065, 0.5183293 ],\n",
              "       [0.46765453, 0.5323455 ],\n",
              "       [0.4915893 , 0.50841063],\n",
              "       [0.49259517, 0.5074048 ],\n",
              "       [0.48332345, 0.5166766 ],\n",
              "       [0.49090612, 0.5090939 ],\n",
              "       [0.4854161 , 0.5145839 ],\n",
              "       [0.46865714, 0.5313429 ],\n",
              "       [0.4777445 , 0.52225554],\n",
              "       [0.4877284 , 0.5122716 ],\n",
              "       [0.5020264 , 0.4979736 ],\n",
              "       [0.48429325, 0.5157068 ],\n",
              "       [0.460752  , 0.53924805],\n",
              "       [0.48740804, 0.51259196],\n",
              "       [0.478079  , 0.52192104],\n",
              "       [0.4931137 , 0.5068863 ],\n",
              "       [0.48121727, 0.51878273],\n",
              "       [0.493733  , 0.506267  ],\n",
              "       [0.5004829 , 0.49951708],\n",
              "       [0.50247186, 0.4975281 ],\n",
              "       [0.48064455, 0.5193555 ],\n",
              "       [0.49718198, 0.502818  ],\n",
              "       [0.47130722, 0.5286928 ],\n",
              "       [0.45995703, 0.540043  ],\n",
              "       [0.4895277 , 0.51047224],\n",
              "       [0.47418138, 0.52581865],\n",
              "       [0.5011958 , 0.49880418],\n",
              "       [0.4961098 , 0.5038902 ],\n",
              "       [0.48190647, 0.5180935 ],\n",
              "       [0.49604288, 0.5039571 ],\n",
              "       [0.51446605, 0.48553395],\n",
              "       [0.48924848, 0.5107515 ],\n",
              "       [0.4997277 , 0.5002723 ],\n",
              "       [0.49632838, 0.50367165],\n",
              "       [0.4929361 , 0.50706387],\n",
              "       [0.49405447, 0.5059455 ],\n",
              "       [0.49225894, 0.5077411 ],\n",
              "       [0.47047362, 0.52952635],\n",
              "       [0.5020032 , 0.49799684],\n",
              "       [0.478017  , 0.52198297],\n",
              "       [0.47842377, 0.5215762 ],\n",
              "       [0.49991527, 0.5000847 ],\n",
              "       [0.50088894, 0.49911106],\n",
              "       [0.47660533, 0.52339464],\n",
              "       [0.48855543, 0.5114446 ],\n",
              "       [0.4857636 , 0.5142364 ],\n",
              "       [0.51015604, 0.48984396],\n",
              "       [0.5010714 , 0.4989286 ],\n",
              "       [0.5029728 , 0.4970272 ],\n",
              "       [0.4838743 , 0.5161257 ],\n",
              "       [0.48875865, 0.5112414 ],\n",
              "       [0.46848106, 0.53151894],\n",
              "       [0.4807595 , 0.51924044],\n",
              "       [0.5107616 , 0.4892384 ],\n",
              "       [0.5141761 , 0.48582393],\n",
              "       [0.49034443, 0.50965554],\n",
              "       [0.5001214 , 0.4998786 ],\n",
              "       [0.49414957, 0.50585043],\n",
              "       [0.5034165 , 0.4965835 ],\n",
              "       [0.50690603, 0.49309397],\n",
              "       [0.49671844, 0.5032816 ],\n",
              "       [0.47644925, 0.5235507 ],\n",
              "       [0.47097108, 0.52902895],\n",
              "       [0.49510598, 0.504894  ],\n",
              "       [0.46841812, 0.5315819 ],\n",
              "       [0.49153206, 0.5084679 ],\n",
              "       [0.4839453 , 0.5160547 ],\n",
              "       [0.49841022, 0.50158983],\n",
              "       [0.4861767 , 0.51382333],\n",
              "       [0.50574255, 0.49425742],\n",
              "       [0.4924718 , 0.5075282 ],\n",
              "       [0.500447  , 0.49955305],\n",
              "       [0.47862276, 0.52137727],\n",
              "       [0.4529765 , 0.54702353],\n",
              "       [0.483514  , 0.51648605],\n",
              "       [0.48703685, 0.5129631 ],\n",
              "       [0.4847464 , 0.5152536 ],\n",
              "       [0.4936008 , 0.5063993 ],\n",
              "       [0.4864225 , 0.5135775 ],\n",
              "       [0.49014783, 0.5098522 ],\n",
              "       [0.51686805, 0.48313197],\n",
              "       [0.49891958, 0.50108045],\n",
              "       [0.4617974 , 0.53820264],\n",
              "       [0.5097527 , 0.49024725],\n",
              "       [0.4810335 , 0.51896644],\n",
              "       [0.46017084, 0.5398292 ],\n",
              "       [0.49273846, 0.5072615 ],\n",
              "       [0.4717409 , 0.5282591 ],\n",
              "       [0.46793133, 0.53206867],\n",
              "       [0.47686124, 0.5231388 ],\n",
              "       [0.51156086, 0.48843914],\n",
              "       [0.48635948, 0.5136405 ],\n",
              "       [0.47113144, 0.52886856],\n",
              "       [0.5024324 , 0.49756765],\n",
              "       [0.4942456 , 0.50575435],\n",
              "       [0.48980618, 0.5101938 ],\n",
              "       [0.5015989 , 0.4984011 ],\n",
              "       [0.4870997 , 0.51290035],\n",
              "       [0.49488944, 0.5051105 ],\n",
              "       [0.48784292, 0.5121571 ],\n",
              "       [0.49472815, 0.50527185],\n",
              "       [0.48780593, 0.5121941 ],\n",
              "       [0.50947505, 0.49052495],\n",
              "       [0.47479287, 0.52520716],\n",
              "       [0.48423758, 0.5157624 ],\n",
              "       [0.46831384, 0.5316861 ],\n",
              "       [0.48516604, 0.5148339 ],\n",
              "       [0.5027649 , 0.49723515],\n",
              "       [0.48607752, 0.51392245],\n",
              "       [0.49733824, 0.5026617 ],\n",
              "       [0.491964  , 0.508036  ],\n",
              "       [0.4986299 , 0.5013701 ],\n",
              "       [0.5003019 , 0.49969813],\n",
              "       [0.5099736 , 0.49002635],\n",
              "       [0.47797263, 0.5220274 ],\n",
              "       [0.49551004, 0.50448996],\n",
              "       [0.5101812 , 0.48981884],\n",
              "       [0.47638783, 0.5236122 ],\n",
              "       [0.49044406, 0.50955594],\n",
              "       [0.48460168, 0.5153983 ],\n",
              "       [0.47192746, 0.52807254],\n",
              "       [0.48273528, 0.5172647 ],\n",
              "       [0.48636892, 0.5136311 ],\n",
              "       [0.50388205, 0.49611798],\n",
              "       [0.50329   , 0.49671   ],\n",
              "       [0.48945308, 0.51054686],\n",
              "       [0.4705596 , 0.5294404 ],\n",
              "       [0.48319954, 0.51680046],\n",
              "       [0.486031  , 0.513969  ],\n",
              "       [0.48657942, 0.5134206 ],\n",
              "       [0.4949083 , 0.5050917 ],\n",
              "       [0.4956735 , 0.5043265 ],\n",
              "       [0.48088342, 0.5191166 ],\n",
              "       [0.48212373, 0.51787627],\n",
              "       [0.49081576, 0.5091842 ],\n",
              "       [0.48638457, 0.5136154 ],\n",
              "       [0.49833554, 0.50166446],\n",
              "       [0.47629204, 0.523708  ],\n",
              "       [0.5032068 , 0.49679324],\n",
              "       [0.48206413, 0.51793593],\n",
              "       [0.47079372, 0.5292063 ],\n",
              "       [0.48423246, 0.5157676 ],\n",
              "       [0.4953393 , 0.5046607 ],\n",
              "       [0.49733186, 0.50266814],\n",
              "       [0.4673868 , 0.5326132 ],\n",
              "       [0.4758114 , 0.5241886 ],\n",
              "       [0.50812066, 0.49187928],\n",
              "       [0.49296638, 0.50703365],\n",
              "       [0.48340237, 0.5165977 ],\n",
              "       [0.4491515 , 0.55084854],\n",
              "       [0.47763428, 0.5223657 ],\n",
              "       [0.49095753, 0.5090425 ],\n",
              "       [0.49614027, 0.5038597 ],\n",
              "       [0.5129129 , 0.48708707],\n",
              "       [0.48556483, 0.51443523],\n",
              "       [0.4856429 , 0.5143571 ],\n",
              "       [0.48540214, 0.5145979 ],\n",
              "       [0.49374446, 0.5062555 ],\n",
              "       [0.47781512, 0.52218485],\n",
              "       [0.462152  , 0.53784794],\n",
              "       [0.49184427, 0.50815576],\n",
              "       [0.5007187 , 0.49928126],\n",
              "       [0.46869576, 0.53130424],\n",
              "       [0.47512162, 0.5248784 ],\n",
              "       [0.46632797, 0.53367203],\n",
              "       [0.49087515, 0.5091248 ],\n",
              "       [0.4624106 , 0.5375894 ],\n",
              "       [0.49072126, 0.5092787 ],\n",
              "       [0.47232312, 0.5276769 ],\n",
              "       [0.44904956, 0.5509504 ],\n",
              "       [0.47565928, 0.5243407 ],\n",
              "       [0.49628314, 0.5037169 ],\n",
              "       [0.49319538, 0.5068046 ],\n",
              "       [0.4958326 , 0.5041674 ],\n",
              "       [0.49199712, 0.5080029 ],\n",
              "       [0.46751705, 0.5324829 ],\n",
              "       [0.48024952, 0.51975054],\n",
              "       [0.48683193, 0.51316804],\n",
              "       [0.49655822, 0.50344175],\n",
              "       [0.47858   , 0.52142   ],\n",
              "       [0.49743757, 0.50256246],\n",
              "       [0.4763905 , 0.5236095 ],\n",
              "       [0.49449506, 0.5055049 ],\n",
              "       [0.48619017, 0.5138098 ],\n",
              "       [0.4868355 , 0.5131645 ],\n",
              "       [0.49264488, 0.5073551 ],\n",
              "       [0.49395347, 0.50604653],\n",
              "       [0.49937883, 0.5006212 ],\n",
              "       [0.51383775, 0.48616225],\n",
              "       [0.48859036, 0.51140964],\n",
              "       [0.49498895, 0.5050111 ],\n",
              "       [0.5116652 , 0.48833477],\n",
              "       [0.49092638, 0.5090736 ],\n",
              "       [0.49969295, 0.500307  ],\n",
              "       [0.48272452, 0.5172755 ],\n",
              "       [0.47981822, 0.5201818 ],\n",
              "       [0.50712585, 0.49287412],\n",
              "       [0.49454004, 0.50545996],\n",
              "       [0.49517965, 0.50482035],\n",
              "       [0.49968588, 0.50031406],\n",
              "       [0.49065608, 0.5093439 ],\n",
              "       [0.48642978, 0.5135702 ],\n",
              "       [0.47327808, 0.5267219 ],\n",
              "       [0.4830149 , 0.5169851 ],\n",
              "       [0.5025319 , 0.49746814],\n",
              "       [0.48608047, 0.51391953],\n",
              "       [0.5018607 , 0.49813932],\n",
              "       [0.46891394, 0.531086  ],\n",
              "       [0.5105377 , 0.4894623 ],\n",
              "       [0.49789497, 0.502105  ],\n",
              "       [0.4814    , 0.5186    ],\n",
              "       [0.5004779 , 0.4995221 ],\n",
              "       [0.48503312, 0.51496685],\n",
              "       [0.49378985, 0.50621015],\n",
              "       [0.46250552, 0.5374944 ],\n",
              "       [0.48642048, 0.5135795 ],\n",
              "       [0.48836127, 0.51163876],\n",
              "       [0.46686605, 0.533134  ],\n",
              "       [0.47414947, 0.52585053],\n",
              "       [0.5072991 , 0.4927009 ],\n",
              "       [0.48244265, 0.5175574 ],\n",
              "       [0.4797036 , 0.5202964 ],\n",
              "       [0.48922223, 0.5107778 ],\n",
              "       [0.4613008 , 0.5386992 ],\n",
              "       [0.50191885, 0.49808112],\n",
              "       [0.5144624 , 0.48553762],\n",
              "       [0.48123762, 0.51876235],\n",
              "       [0.5030435 , 0.49695653],\n",
              "       [0.48229748, 0.5177025 ],\n",
              "       [0.4895572 , 0.51044273],\n",
              "       [0.47358274, 0.52641726],\n",
              "       [0.46423575, 0.5357642 ],\n",
              "       [0.49359703, 0.50640297],\n",
              "       [0.4891327 , 0.5108673 ],\n",
              "       [0.49536112, 0.50463885],\n",
              "       [0.49630883, 0.5036912 ],\n",
              "       [0.5112267 , 0.48877323],\n",
              "       [0.48135275, 0.51864725],\n",
              "       [0.5078225 , 0.49217752],\n",
              "       [0.4815799 , 0.51842016],\n",
              "       [0.4976765 , 0.50232345],\n",
              "       [0.47256395, 0.527436  ],\n",
              "       [0.48936015, 0.51063985],\n",
              "       [0.48427182, 0.5157281 ],\n",
              "       [0.5080213 , 0.49197868],\n",
              "       [0.487716  , 0.512284  ],\n",
              "       [0.48726684, 0.51273316],\n",
              "       [0.47653326, 0.52346677],\n",
              "       [0.4721127 , 0.5278873 ],\n",
              "       [0.5058922 , 0.49410775],\n",
              "       [0.49453574, 0.50546426],\n",
              "       [0.49025345, 0.50974655],\n",
              "       [0.48774597, 0.51225406],\n",
              "       [0.44959667, 0.55040336],\n",
              "       [0.47731072, 0.5226893 ],\n",
              "       [0.49784923, 0.5021508 ],\n",
              "       [0.5050935 , 0.49490654],\n",
              "       [0.46809232, 0.5319077 ],\n",
              "       [0.49844307, 0.50155693],\n",
              "       [0.47646147, 0.52353853],\n",
              "       [0.45524362, 0.54475635],\n",
              "       [0.49579632, 0.5042037 ],\n",
              "       [0.47570184, 0.52429813],\n",
              "       [0.4777516 , 0.5222484 ],\n",
              "       [0.49997076, 0.50002927],\n",
              "       [0.50583977, 0.4941602 ],\n",
              "       [0.48887247, 0.51112753],\n",
              "       [0.4997844 , 0.5002156 ],\n",
              "       [0.49825412, 0.5017459 ],\n",
              "       [0.46987465, 0.5301253 ],\n",
              "       [0.5001898 , 0.49981022],\n",
              "       [0.46593443, 0.5340656 ],\n",
              "       [0.49416053, 0.50583947],\n",
              "       [0.46137637, 0.53862363],\n",
              "       [0.470823  , 0.529177  ],\n",
              "       [0.4845524 , 0.5154476 ],\n",
              "       [0.50326425, 0.49673578],\n",
              "       [0.4887785 , 0.51122147],\n",
              "       [0.50260407, 0.49739593],\n",
              "       [0.49542457, 0.50457543],\n",
              "       [0.48581848, 0.51418155],\n",
              "       [0.46853647, 0.5314635 ],\n",
              "       [0.49703717, 0.5029628 ],\n",
              "       [0.50250596, 0.49749404],\n",
              "       [0.47102752, 0.5289725 ],\n",
              "       [0.4843064 , 0.5156936 ],\n",
              "       [0.49084678, 0.50915325],\n",
              "       [0.50071186, 0.4992881 ],\n",
              "       [0.4821816 , 0.5178184 ],\n",
              "       [0.5060857 , 0.4939143 ],\n",
              "       [0.5081264 , 0.49187356],\n",
              "       [0.50833035, 0.49166963],\n",
              "       [0.50315136, 0.4968486 ],\n",
              "       [0.49571955, 0.50428045],\n",
              "       [0.4904314 , 0.5095686 ],\n",
              "       [0.504812  , 0.495188  ],\n",
              "       [0.49119592, 0.5088041 ],\n",
              "       [0.49335015, 0.50664985],\n",
              "       [0.47393703, 0.526063  ],\n",
              "       [0.48529106, 0.51470894],\n",
              "       [0.48295233, 0.51704764],\n",
              "       [0.5060823 , 0.49391767],\n",
              "       [0.477424  , 0.52257603],\n",
              "       [0.47683603, 0.523164  ],\n",
              "       [0.47417203, 0.525828  ],\n",
              "       [0.4534692 , 0.54653084],\n",
              "       [0.50980616, 0.4901939 ],\n",
              "       [0.5196324 , 0.4803676 ],\n",
              "       [0.48516873, 0.5148313 ],\n",
              "       [0.48137838, 0.5186216 ],\n",
              "       [0.49206203, 0.50793797],\n",
              "       [0.5026224 , 0.4973776 ],\n",
              "       [0.46758315, 0.5324168 ],\n",
              "       [0.4838964 , 0.51610357],\n",
              "       [0.5063248 , 0.49367517],\n",
              "       [0.50202066, 0.49797928],\n",
              "       [0.48632562, 0.5136744 ],\n",
              "       [0.46168545, 0.5383146 ],\n",
              "       [0.4903346 , 0.50966537],\n",
              "       [0.4930225 , 0.5069775 ],\n",
              "       [0.49949092, 0.5005091 ],\n",
              "       [0.49176687, 0.50823313],\n",
              "       [0.49914607, 0.5008539 ],\n",
              "       [0.49332413, 0.5066759 ],\n",
              "       [0.48724115, 0.51275885],\n",
              "       [0.5181168 , 0.48188326],\n",
              "       [0.49892372, 0.5010763 ],\n",
              "       [0.4996878 , 0.5003122 ],\n",
              "       [0.49961278, 0.5003872 ],\n",
              "       [0.48900747, 0.5109925 ],\n",
              "       [0.49762768, 0.5023723 ],\n",
              "       [0.5083366 , 0.49166337],\n",
              "       [0.4790596 , 0.52094036],\n",
              "       [0.46278366, 0.53721637],\n",
              "       [0.5104503 , 0.4895497 ],\n",
              "       [0.47993174, 0.5200683 ]], dtype=float32)"
            ]
          },
          "metadata": {
            "tags": []
          },
          "execution_count": 65
        }
      ]
    },
    {
      "cell_type": "code",
      "metadata": {
        "id": "g5KRZI1lmcD-"
      },
      "source": [
        "predictionslabels = predictions.argmax(axis=1)\n"
      ],
      "execution_count": 66,
      "outputs": []
    },
    {
      "cell_type": "code",
      "metadata": {
        "id": "anTJbqRHmncu"
      },
      "source": [
        "classes = predictionslabels-y_test"
      ],
      "execution_count": 67,
      "outputs": []
    },
    {
      "cell_type": "code",
      "metadata": {
        "id": "7dFXr_RHnD5M",
        "colab": {
          "base_uri": "https://localhost:8080/"
        },
        "outputId": "ba2ff43b-ca74-4dbd-c5ad-dd0a7c73564d"
      },
      "source": [
        "classes"
      ],
      "execution_count": 68,
      "outputs": [
        {
          "output_type": "execute_result",
          "data": {
            "text/plain": [
              "array([ 0., -1., -1.,  0.,  0.,  0.,  0.,  0.,  0.,  0.,  0.,  0.,  0.,\n",
              "        0.,  0.,  0.,  0.,  0., -1.,  0.,  0., -1., -1.,  0.,  0.,  0.,\n",
              "        0.,  0., -1.,  0.,  0.,  0.,  0., -1.,  0.,  0.,  0.,  0.,  0.,\n",
              "        0.,  0., -1.,  0.,  0.,  0.,  0.,  0., -1.,  0.,  0.,  0., -1.,\n",
              "        0.,  0., -1.,  0.,  0.,  0., -1.,  0.,  0.,  0., -1.,  0.,  1.,\n",
              "        0., -1.,  0.,  0.,  0., -1.,  0., -1.,  0.,  0., -1.,  0.,  0.,\n",
              "        0.,  0.,  0.,  0.,  0.,  0.,  0.,  0.,  0.,  0., -1.,  1.,  1.,\n",
              "       -1.,  1.,  0.,  0., -1., -1.,  0.,  1.,  0.,  0.,  0., -1.,  0.,\n",
              "        0.,  0.,  0.,  0.,  0.,  1.,  0.,  0.,  0., -1.,  0.,  0.,  0.,\n",
              "        0.,  0.,  0.,  0.,  0.,  0.,  0.,  0., -1., -1., -1., -1.,  1.,\n",
              "       -1.,  0.,  0.,  0.,  0.,  0.,  0.,  0.,  0.,  0.,  0.,  0.,  0.,\n",
              "       -1.,  0.,  0.,  0.,  0.,  0.,  0.,  0.,  0.,  0., -1.,  0.,  0.,\n",
              "        0.,  0.,  0., -1.,  0.,  0.,  0.,  0.,  0.,  0.,  0.,  0.,  0.,\n",
              "        0.,  0.,  0.,  0.,  0.,  0., -1.,  0.,  0., -1.,  0.,  0.,  0.,\n",
              "        0., -1.,  0.,  0.,  0., -1.,  0.,  0.,  0.,  0.,  0.,  0.,  0.,\n",
              "        0.,  0.,  0., -1.,  0.,  0.,  0.,  0.,  0.,  0.,  0.,  0.,  0.,\n",
              "       -1.,  0., -1.,  0.,  0.,  0.,  0.,  0.,  0.,  0.,  0.,  0., -1.,\n",
              "        0.,  0.,  0., -1.,  0.,  0.,  0., -1., -1., -1.,  0.,  0., -1.,\n",
              "        0., -1.,  1.,  0.,  0.,  0.,  0.,  0.,  0.,  0.,  1.,  0.,  0.,\n",
              "       -1., -1.,  0.,  0.,  0., -1., -1.,  0.,  0., -1., -1.,  0., -1.,\n",
              "        0.,  1.,  0.,  0.,  0.,  0.,  0.,  0.,  0.,  0.,  0.,  0.,  0.,\n",
              "       -1.,  0., -1.,  0., -1.,  0.,  0.,  0.,  0.,  1.,  0.,  0.,  0.,\n",
              "        0.,  0., -1.,  0.,  0.,  0.,  0.,  0.,  0.,  0.,  0.,  0.,  0.,\n",
              "        0.,  0., -1.,  0.,  0.,  0.,  0.,  0.,  0.,  0., -1., -1.,  0.,\n",
              "        0.,  0.,  0.,  0.,  0., -1.,  0.,  0.,  0., -1.,  1.,  0.,  0.,\n",
              "        0.,  0.,  1.,  0., -1.,  0.,  0.,  0., -1.,  0.,  0.,  0., -1.,\n",
              "       -1., -1.,  0.,  0.,  0.,  0., -1., -1.,  0., -1.,  0., -1., -1.,\n",
              "        0.,  0.,  0.,  0.,  0.,  0.,  0.,  0.,  0., -1.,  0., -1.,  0.,\n",
              "        0.,  0.,  0.,  0.,  0.,  0.,  0.,  0.,  0.,  0., -1.,  0.,  0.,\n",
              "        0.,  0.,  0.,  0., -1.,  0.,  0., -1.,  0.,  0., -1.,  0.,  0.,\n",
              "        0.,  0.,  0., -1.,  0.,  0.,  0.,  0., -1.,  0.,  0.,  0.,  0.,\n",
              "       -1.,  0.,  0.,  0.,  0.,  0.,  0.,  0.,  0.,  0.,  0., -1., -1.,\n",
              "        0.,  0.,  0.,  0.,  0.,  0.,  0.,  0.,  0.,  0.,  1.,  0.,  0.,\n",
              "       -1.,  0.,  0.,  0.,  0.,  0.,  0.,  0., -1.,  0.,  0.,  0.,  0.,\n",
              "        0.,  0., -1.,  0.,  0.,  0.,  0.,  0.,  0.,  0., -1.,  0.,  0.,\n",
              "        0.,  0.,  0.,  0.,  0.,  0.,  0.,  0.,  0.,  0.,  0.,  0.,  0.,\n",
              "        0.,  0.,  0.,  0.,  0.,  0.,  0.,  0.,  0.,  0.,  0., -1.,  0.,\n",
              "        0., -1.,  0.,  0.,  0.,  0., -1.,  0.,  0.,  0.,  0.,  0.,  0.,\n",
              "        0.,  0.,  0., -1.,  0., -1.,  0.,  0., -1.,  0.,  0.,  0.,  0.,\n",
              "        0.,  0.,  0.,  0.,  0.,  0.,  0.,  1., -1., -1.,  0., -1.,  0.,\n",
              "        0.,  0.,  0.,  0.,  0.,  0.,  0.,  0.,  1.,  0.,  0.,  0.,  0.,\n",
              "        0.,  1., -1.,  0.,  0.,  0.,  0., -1.,  1.,  0.,  0.,  0.,  0.,\n",
              "        0., -1.,  0.,  0.,  0.,  1.,  0.,  0.,  0.,  0., -1.,  0.,  1.,\n",
              "        0.,  0., -1.,  0.,  0.,  0.,  0.,  0.,  0.,  0.,  0.,  0.,  0.,\n",
              "        0.,  0.,  0.,  0.,  0.,  0., -1.,  0.,  0.,  0., -1., -1.,  0.,\n",
              "        0.,  0.,  0.,  1.,  0.,  0.,  0., -1.,  0.,  0.,  0.,  0., -1.,\n",
              "        0.,  0.,  0.,  0.,  0.,  0.,  0., -1., -1.,  0.,  0.,  0.,  0.,\n",
              "        0.,  0.,  0.,  0.,  0.,  0.,  1.,  0.,  0.,  0.,  0., -1.,  0.,\n",
              "        0., -1.,  0.])"
            ]
          },
          "metadata": {
            "tags": []
          },
          "execution_count": 68
        }
      ]
    },
    {
      "cell_type": "markdown",
      "metadata": {
        "id": "E38ZIM50KJSC"
      },
      "source": [
        "Several problems might be implemented in this approach:\n",
        "- maybe our dataset is to small to create our own embeddings\n",
        "- maybe we made some major fails when creating embeddings or the model\n",
        "- its definitely overfitting ;-)\n",
        "\n",
        "anyways... lets continue with a pretrained model (BERT)"
      ]
    },
    {
      "cell_type": "markdown",
      "metadata": {
        "id": "3U-2O6LU1-Sg"
      },
      "source": [
        "# Transfer and self designed Models"
      ]
    },
    {
      "cell_type": "markdown",
      "metadata": {
        "id": "YZHxdFUhQEjs"
      },
      "source": [
        "## Fit learning rate\n"
      ]
    },
    {
      "cell_type": "markdown",
      "metadata": {
        "id": "yyBIJ5aBnvWY"
      },
      "source": [
        "This learning rate tuner would allow for the self designed model to find a good initial learning rate. If you change the architecture of your model, you will also have to change it in the learning rate tuner."
      ]
    },
    {
      "cell_type": "code",
      "metadata": {
        "id": "yEvAKhgRJ1XS"
      },
      "source": [
        "def fitLearningRate(training_padded, training_labels,validation_padded, validation_label, vocab_size, embedding_dim, max_length, num_epochs):\n",
        "  \n",
        "  model = tf.keras.Sequential([\n",
        "   \n",
        "  tf.keras.layers.Embedding(vocab_size+1, embedding_dim, input_length=max_length),\n",
        "  tf.keras.layers.Dropout(0.2),\n",
        "  tf.keras.layers.LSTM(32),\n",
        "  tf.keras.layers.Dropout(0.3),\n",
        "  tf.keras.layers.Dense(16, activation='relu'),\n",
        "  tf.keras.layers.Dropout(0.2),\n",
        "  tf.keras.layers.Dense(1, activation='sigmoid')])\n",
        "  \n",
        "  #Fit the model\n",
        "  #Input: compiled Model, Train and Validation Data, Batch Size and trainingEpochs\n",
        "  #Return: history and model\n",
        "  optimizer = tf.keras.optimizers.RMSprop(lr=1e-6)\n",
        "  model.compile(optimizer = optimizer,\n",
        "                loss='binary_crossentropy', metrics=['accuracy'])\n",
        "  lr_schedule = tf.keras.callbacks.LearningRateScheduler(\n",
        "    lambda epoch: 1e-6 * 10**(epoch / 20))\n",
        "  \n",
        "\n",
        "  print(\"xtrain\")\n",
        "  print(training_padded.shape)\n",
        "  print(\"ytrain\")\n",
        "  print(training_labels.shape)\n",
        "  print(\"xval\")\n",
        "  print(validation_padded.shape)\n",
        "  print(\"yval\")\n",
        "  print(validation_label.shape)\n",
        "  \n",
        "\n",
        "  # fit network\n",
        "  history = model.fit(training_padded, training_labels, epochs=num_epochs, validation_data=(validation_padded, validation_label),callbacks=[lr_schedule], verbose=2)\n",
        "\n",
        "  # plot history\n",
        "  plt.semilogx(history.history[\"lr\"], history.history[\"loss\"])\n",
        "  plt.show()\n",
        "  #pyplot.legend()\n",
        "  #pyplot.show()\n",
        "  #history = compiledModel.fit(xTrain, yTrain,batch_size=512, epochs = trainingEpochs,callbacks=[lr_schedule])\n",
        "\n",
        "  return model, history"
      ],
      "execution_count": 69,
      "outputs": []
    },
    {
      "cell_type": "markdown",
      "metadata": {
        "id": "UkD1FcIslB3w"
      },
      "source": [
        "## Bidirectional Binary"
      ]
    },
    {
      "cell_type": "markdown",
      "metadata": {
        "id": "knmRefYWqFPa"
      },
      "source": [
        "First approach for a model to automatically score the essays. It was only of minor success and has not been continued after starting with transfer learning approaches."
      ]
    },
    {
      "cell_type": "code",
      "metadata": {
        "id": "-JFQauRyNuud"
      },
      "source": [
        "def startermodelBidirectionalExperimentalBinary(training_padded, training_labels,validation_padded, validation_label, vocab_size, \n",
        "                                                embedding_dim, max_length, num_epochs): #weights=[embeddings_matrix], trainable=False\n",
        "\n",
        "  model = tf.keras.Sequential([\n",
        "   \n",
        "    tf.keras.layers.Embedding(input_dim = vocab_size+1, output_dim = embedding_dim, input_length=max_length, mask_zero=False),\n",
        "    tf.keras.layers.Dropout(0.2),\n",
        "    tf.keras.layers.LSTM(16),\n",
        "    tf.keras.layers.Dropout(0.2),\n",
        "    tf.keras.layers.Dense(1, activation='sigmoid')])\n",
        "  \n",
        "  metric = tf.keras.metrics.BinaryAccuracy()\n",
        "  lr_schedule = tf.keras.optimizers.schedules.ExponentialDecay(\n",
        "    initial_learning_rate=1e-2,\n",
        "    decay_steps=10000,\n",
        "    decay_rate=0.8)\n",
        "  \n",
        "  optimizerAdam = tf.keras.optimizers.Adam(learning_rate=lr_schedule)\n",
        "  optimizerSGD = tf.keras.optimizers.SGD(learning_rate=lr_schedule)\n",
        "\n",
        "  model.compile(loss='binary_crossentropy',optimizer=optimizerAdam ,metrics=metric)\n",
        "  model.summary()\n",
        "  model.save_weights('model.h5')\n",
        "\n",
        "  class_weights = {0: 1.,\n",
        "                1: 0.1}\n",
        "\n",
        "  # fit network\n",
        "  history = model.fit(training_padded, training_labels, epochs=num_epochs,batch_size=32, validation_data=(validation_padded, validation_label), verbose=2)\n",
        "  returnmodel = model\n",
        "  model.load_weights('model.h5')\n",
        "  # plot history\n",
        "  pyplot.plot(history.history['loss'], label='train')\n",
        "  pyplot.plot(history.history['val_loss'], label='test')\n",
        "  pyplot.legend()\n",
        "  pyplot.show()\n",
        "\n",
        "  pyplot.plot(history.history['binary_accuracy'], label='train')\n",
        "  pyplot.plot(history.history['val_binary_accuracy'], label='test')\n",
        "  pyplot.legend()\n",
        "  pyplot.show()\n",
        "          \n",
        "  return returnmodel, history"
      ],
      "execution_count": 70,
      "outputs": []
    },
    {
      "cell_type": "code",
      "metadata": {
        "id": "HjOUg_ou6JQX",
        "colab": {
          "base_uri": "https://localhost:8080/",
          "height": 1000
        },
        "outputId": "a9f3d789-dada-4b66-8101-49b49409c3ef"
      },
      "source": [
        "tunerModel, tunerHistory = fitLearningRate(np.array(xTrainArray3), np.array(yTrainArray3[:,1]), np.array(xValArray3), np.array(yValArray3[:,1]), vocab_size, embedding_dim, max_length, 100)"
      ],
      "execution_count": 71,
      "outputs": [
        {
          "output_type": "stream",
          "text": [
            "/usr/local/lib/python3.7/dist-packages/tensorflow/python/keras/optimizer_v2/optimizer_v2.py:375: UserWarning: The `lr` argument is deprecated, use `learning_rate` instead.\n",
            "  \"The `lr` argument is deprecated, use `learning_rate` instead.\")\n"
          ],
          "name": "stderr"
        },
        {
          "output_type": "stream",
          "text": [
            "xtrain\n",
            "(1878, 120)\n",
            "ytrain\n",
            "(1878,)\n",
            "xval\n",
            "(105, 120)\n",
            "yval\n",
            "(105,)\n",
            "Epoch 1/100\n",
            "59/59 - 2s - loss: 0.7042 - accuracy: 0.2082 - val_loss: 0.7067 - val_accuracy: 0.1238\n",
            "Epoch 2/100\n",
            "59/59 - 0s - loss: 0.7033 - accuracy: 0.2220 - val_loss: 0.7063 - val_accuracy: 0.1238\n",
            "Epoch 3/100\n",
            "59/59 - 0s - loss: 0.7030 - accuracy: 0.2258 - val_loss: 0.7057 - val_accuracy: 0.1238\n",
            "Epoch 4/100\n",
            "59/59 - 0s - loss: 0.7021 - accuracy: 0.2359 - val_loss: 0.7051 - val_accuracy: 0.1238\n",
            "Epoch 5/100\n",
            "59/59 - 0s - loss: 0.7018 - accuracy: 0.2588 - val_loss: 0.7044 - val_accuracy: 0.1333\n",
            "Epoch 6/100\n",
            "59/59 - 0s - loss: 0.7015 - accuracy: 0.2588 - val_loss: 0.7036 - val_accuracy: 0.1333\n",
            "Epoch 7/100\n",
            "59/59 - 0s - loss: 0.7002 - accuracy: 0.2838 - val_loss: 0.7027 - val_accuracy: 0.1333\n",
            "Epoch 8/100\n",
            "59/59 - 0s - loss: 0.7000 - accuracy: 0.2886 - val_loss: 0.7017 - val_accuracy: 0.1333\n",
            "Epoch 9/100\n",
            "59/59 - 0s - loss: 0.6990 - accuracy: 0.3094 - val_loss: 0.7005 - val_accuracy: 0.1333\n",
            "Epoch 10/100\n",
            "59/59 - 0s - loss: 0.6978 - accuracy: 0.3445 - val_loss: 0.6992 - val_accuracy: 0.1333\n",
            "Epoch 11/100\n",
            "59/59 - 0s - loss: 0.6969 - accuracy: 0.3765 - val_loss: 0.6978 - val_accuracy: 0.1333\n",
            "Epoch 12/100\n",
            "59/59 - 0s - loss: 0.6956 - accuracy: 0.4191 - val_loss: 0.6963 - val_accuracy: 0.1333\n",
            "Epoch 13/100\n",
            "59/59 - 0s - loss: 0.6942 - accuracy: 0.4707 - val_loss: 0.6945 - val_accuracy: 0.1429\n",
            "Epoch 14/100\n",
            "59/59 - 0s - loss: 0.6925 - accuracy: 0.5346 - val_loss: 0.6926 - val_accuracy: 0.1333\n",
            "Epoch 15/100\n",
            "59/59 - 0s - loss: 0.6904 - accuracy: 0.6448 - val_loss: 0.6902 - val_accuracy: 0.9524\n",
            "Epoch 16/100\n",
            "59/59 - 0s - loss: 0.6889 - accuracy: 0.7077 - val_loss: 0.6876 - val_accuracy: 0.9524\n",
            "Epoch 17/100\n",
            "59/59 - 0s - loss: 0.6864 - accuracy: 0.8051 - val_loss: 0.6846 - val_accuracy: 0.9524\n",
            "Epoch 18/100\n",
            "59/59 - 0s - loss: 0.6840 - accuracy: 0.8509 - val_loss: 0.6812 - val_accuracy: 0.9524\n",
            "Epoch 19/100\n",
            "59/59 - 0s - loss: 0.6806 - accuracy: 0.9079 - val_loss: 0.6778 - val_accuracy: 0.9524\n",
            "Epoch 20/100\n",
            "59/59 - 0s - loss: 0.6775 - accuracy: 0.9180 - val_loss: 0.6745 - val_accuracy: 0.9524\n",
            "Epoch 21/100\n",
            "59/59 - 0s - loss: 0.6739 - accuracy: 0.9233 - val_loss: 0.6700 - val_accuracy: 0.9524\n",
            "Epoch 22/100\n",
            "59/59 - 0s - loss: 0.6696 - accuracy: 0.9265 - val_loss: 0.6646 - val_accuracy: 0.9524\n",
            "Epoch 23/100\n",
            "59/59 - 0s - loss: 0.6634 - accuracy: 0.9271 - val_loss: 0.6579 - val_accuracy: 0.9524\n",
            "Epoch 24/100\n",
            "59/59 - 0s - loss: 0.6574 - accuracy: 0.9276 - val_loss: 0.6499 - val_accuracy: 0.9524\n",
            "Epoch 25/100\n",
            "59/59 - 0s - loss: 0.6492 - accuracy: 0.9276 - val_loss: 0.6398 - val_accuracy: 0.9524\n",
            "Epoch 26/100\n",
            "59/59 - 0s - loss: 0.6391 - accuracy: 0.9281 - val_loss: 0.6267 - val_accuracy: 0.9524\n",
            "Epoch 27/100\n",
            "59/59 - 0s - loss: 0.6249 - accuracy: 0.9281 - val_loss: 0.6092 - val_accuracy: 0.9524\n",
            "Epoch 28/100\n",
            "59/59 - 0s - loss: 0.6061 - accuracy: 0.9281 - val_loss: 0.5844 - val_accuracy: 0.9524\n",
            "Epoch 29/100\n",
            "59/59 - 0s - loss: 0.5759 - accuracy: 0.9276 - val_loss: 0.5461 - val_accuracy: 0.9524\n",
            "Epoch 30/100\n",
            "59/59 - 0s - loss: 0.5360 - accuracy: 0.9281 - val_loss: 0.4840 - val_accuracy: 0.9524\n",
            "Epoch 31/100\n",
            "59/59 - 0s - loss: 0.4706 - accuracy: 0.9281 - val_loss: 0.3868 - val_accuracy: 0.9524\n",
            "Epoch 32/100\n",
            "59/59 - 0s - loss: 0.3741 - accuracy: 0.9281 - val_loss: 0.2844 - val_accuracy: 0.9524\n",
            "Epoch 33/100\n",
            "59/59 - 0s - loss: 0.3106 - accuracy: 0.9286 - val_loss: 0.2336 - val_accuracy: 0.9524\n",
            "Epoch 34/100\n",
            "59/59 - 0s - loss: 0.2853 - accuracy: 0.9281 - val_loss: 0.2127 - val_accuracy: 0.9524\n",
            "Epoch 35/100\n",
            "59/59 - 0s - loss: 0.2753 - accuracy: 0.9281 - val_loss: 0.2032 - val_accuracy: 0.9524\n",
            "Epoch 36/100\n",
            "59/59 - 0s - loss: 0.2804 - accuracy: 0.9281 - val_loss: 0.2002 - val_accuracy: 0.9524\n",
            "Epoch 37/100\n",
            "59/59 - 0s - loss: 0.2827 - accuracy: 0.9281 - val_loss: 0.1993 - val_accuracy: 0.9524\n",
            "Epoch 38/100\n",
            "59/59 - 0s - loss: 0.2879 - accuracy: 0.9281 - val_loss: 0.1987 - val_accuracy: 0.9524\n",
            "Epoch 39/100\n",
            "59/59 - 0s - loss: 0.2870 - accuracy: 0.9281 - val_loss: 0.1975 - val_accuracy: 0.9524\n",
            "Epoch 40/100\n",
            "59/59 - 0s - loss: 0.2766 - accuracy: 0.9281 - val_loss: 0.1963 - val_accuracy: 0.9524\n",
            "Epoch 41/100\n",
            "59/59 - 0s - loss: 0.2783 - accuracy: 0.9281 - val_loss: 0.1966 - val_accuracy: 0.9524\n",
            "Epoch 42/100\n",
            "59/59 - 0s - loss: 0.2840 - accuracy: 0.9281 - val_loss: 0.1966 - val_accuracy: 0.9524\n",
            "Epoch 43/100\n",
            "59/59 - 0s - loss: 0.2722 - accuracy: 0.9281 - val_loss: 0.1953 - val_accuracy: 0.9524\n",
            "Epoch 44/100\n",
            "59/59 - 0s - loss: 0.2794 - accuracy: 0.9281 - val_loss: 0.1961 - val_accuracy: 0.9524\n",
            "Epoch 45/100\n",
            "59/59 - 0s - loss: 0.2785 - accuracy: 0.9281 - val_loss: 0.1974 - val_accuracy: 0.9524\n",
            "Epoch 46/100\n",
            "59/59 - 0s - loss: 0.2798 - accuracy: 0.9281 - val_loss: 0.1993 - val_accuracy: 0.9524\n",
            "Epoch 47/100\n",
            "59/59 - 0s - loss: 0.2763 - accuracy: 0.9281 - val_loss: 0.1980 - val_accuracy: 0.9524\n",
            "Epoch 48/100\n",
            "59/59 - 0s - loss: 0.2731 - accuracy: 0.9281 - val_loss: 0.1977 - val_accuracy: 0.9524\n",
            "Epoch 49/100\n",
            "59/59 - 0s - loss: 0.2776 - accuracy: 0.9281 - val_loss: 0.2000 - val_accuracy: 0.9524\n",
            "Epoch 50/100\n",
            "59/59 - 0s - loss: 0.2730 - accuracy: 0.9281 - val_loss: 0.1981 - val_accuracy: 0.9524\n",
            "Epoch 51/100\n",
            "59/59 - 0s - loss: 0.2736 - accuracy: 0.9281 - val_loss: 0.2005 - val_accuracy: 0.9524\n",
            "Epoch 52/100\n",
            "59/59 - 0s - loss: 0.2650 - accuracy: 0.9281 - val_loss: 0.1952 - val_accuracy: 0.9524\n",
            "Epoch 53/100\n",
            "59/59 - 0s - loss: 0.2642 - accuracy: 0.9281 - val_loss: 0.2134 - val_accuracy: 0.9524\n",
            "Epoch 54/100\n",
            "59/59 - 0s - loss: 0.2631 - accuracy: 0.9281 - val_loss: 0.1920 - val_accuracy: 0.9524\n",
            "Epoch 55/100\n",
            "59/59 - 0s - loss: 0.2709 - accuracy: 0.9281 - val_loss: 0.1944 - val_accuracy: 0.9524\n",
            "Epoch 56/100\n",
            "59/59 - 0s - loss: 0.2535 - accuracy: 0.9281 - val_loss: 0.1812 - val_accuracy: 0.9524\n",
            "Epoch 57/100\n",
            "59/59 - 0s - loss: 0.2412 - accuracy: 0.9281 - val_loss: 0.1600 - val_accuracy: 0.9524\n",
            "Epoch 58/100\n",
            "59/59 - 0s - loss: 0.2261 - accuracy: 0.9281 - val_loss: 0.1567 - val_accuracy: 0.9524\n",
            "Epoch 59/100\n",
            "59/59 - 0s - loss: 0.2623 - accuracy: 0.9281 - val_loss: 0.1655 - val_accuracy: 0.9524\n",
            "Epoch 60/100\n",
            "59/59 - 0s - loss: 0.2339 - accuracy: 0.9281 - val_loss: 0.1536 - val_accuracy: 0.9524\n",
            "Epoch 61/100\n",
            "59/59 - 0s - loss: 0.2298 - accuracy: 0.9281 - val_loss: 0.1491 - val_accuracy: 0.9524\n",
            "Epoch 62/100\n",
            "59/59 - 0s - loss: 0.2455 - accuracy: 0.9281 - val_loss: 0.1977 - val_accuracy: 0.9524\n",
            "Epoch 63/100\n",
            "59/59 - 0s - loss: 0.2607 - accuracy: 0.9265 - val_loss: 0.1559 - val_accuracy: 0.9524\n",
            "Epoch 64/100\n",
            "59/59 - 0s - loss: 0.2220 - accuracy: 0.9265 - val_loss: 0.1570 - val_accuracy: 0.9524\n",
            "Epoch 65/100\n",
            "59/59 - 0s - loss: 0.2171 - accuracy: 0.9276 - val_loss: 0.1794 - val_accuracy: 0.9524\n",
            "Epoch 66/100\n",
            "59/59 - 0s - loss: 0.2355 - accuracy: 0.9361 - val_loss: 0.1671 - val_accuracy: 0.9619\n",
            "Epoch 67/100\n",
            "59/59 - 0s - loss: 0.2523 - accuracy: 0.9318 - val_loss: 0.1936 - val_accuracy: 0.9524\n",
            "Epoch 68/100\n",
            "59/59 - 0s - loss: 0.2481 - accuracy: 0.9286 - val_loss: 0.1781 - val_accuracy: 0.9524\n",
            "Epoch 69/100\n",
            "59/59 - 0s - loss: 0.2471 - accuracy: 0.9356 - val_loss: 0.1943 - val_accuracy: 0.9524\n",
            "Epoch 70/100\n",
            "59/59 - 0s - loss: 0.2504 - accuracy: 0.9345 - val_loss: 0.1964 - val_accuracy: 0.9429\n",
            "Epoch 71/100\n",
            "59/59 - 0s - loss: 0.2599 - accuracy: 0.9233 - val_loss: 0.1848 - val_accuracy: 0.9524\n",
            "Epoch 72/100\n",
            "59/59 - 0s - loss: 0.2308 - accuracy: 0.9366 - val_loss: 0.1671 - val_accuracy: 0.9619\n",
            "Epoch 73/100\n",
            "59/59 - 0s - loss: 0.2531 - accuracy: 0.9191 - val_loss: 0.1669 - val_accuracy: 0.9619\n",
            "Epoch 74/100\n",
            "59/59 - 0s - loss: 0.2388 - accuracy: 0.9159 - val_loss: 0.1745 - val_accuracy: 0.9524\n",
            "Epoch 75/100\n",
            "59/59 - 0s - loss: 0.2289 - accuracy: 0.9382 - val_loss: 0.1608 - val_accuracy: 0.9619\n",
            "Epoch 76/100\n",
            "59/59 - 0s - loss: 0.2172 - accuracy: 0.9366 - val_loss: 0.1826 - val_accuracy: 0.9524\n",
            "Epoch 77/100\n",
            "59/59 - 0s - loss: 0.1918 - accuracy: 0.9334 - val_loss: 0.1800 - val_accuracy: 0.9524\n",
            "Epoch 78/100\n",
            "59/59 - 0s - loss: 0.1977 - accuracy: 0.9334 - val_loss: 0.2150 - val_accuracy: 0.9524\n",
            "Epoch 79/100\n",
            "59/59 - 0s - loss: 0.2531 - accuracy: 0.9223 - val_loss: 0.1756 - val_accuracy: 0.9524\n",
            "Epoch 80/100\n",
            "59/59 - 0s - loss: 0.1876 - accuracy: 0.9286 - val_loss: 0.1629 - val_accuracy: 0.9714\n",
            "Epoch 81/100\n",
            "59/59 - 0s - loss: 0.1559 - accuracy: 0.9452 - val_loss: 0.1376 - val_accuracy: 0.9619\n",
            "Epoch 82/100\n",
            "59/59 - 0s - loss: 0.1152 - accuracy: 0.9563 - val_loss: 0.1972 - val_accuracy: 0.9619\n",
            "Epoch 83/100\n",
            "59/59 - 0s - loss: 0.1110 - accuracy: 0.9595 - val_loss: 0.2390 - val_accuracy: 0.9714\n",
            "Epoch 84/100\n",
            "59/59 - 0s - loss: 0.0765 - accuracy: 0.9787 - val_loss: 0.1959 - val_accuracy: 0.9524\n",
            "Epoch 85/100\n",
            "59/59 - 0s - loss: 0.0776 - accuracy: 0.9750 - val_loss: 0.2228 - val_accuracy: 0.9524\n",
            "Epoch 86/100\n",
            "59/59 - 0s - loss: 0.0642 - accuracy: 0.9760 - val_loss: 0.3221 - val_accuracy: 0.9619\n",
            "Epoch 87/100\n",
            "59/59 - 0s - loss: 0.0639 - accuracy: 0.9856 - val_loss: 0.2287 - val_accuracy: 0.9714\n",
            "Epoch 88/100\n",
            "59/59 - 0s - loss: 0.0522 - accuracy: 0.9808 - val_loss: 0.3006 - val_accuracy: 0.9524\n",
            "Epoch 89/100\n",
            "59/59 - 0s - loss: 0.0596 - accuracy: 0.9798 - val_loss: 0.2784 - val_accuracy: 0.9714\n",
            "Epoch 90/100\n",
            "59/59 - 0s - loss: 0.0590 - accuracy: 0.9867 - val_loss: 0.2048 - val_accuracy: 0.9333\n",
            "Epoch 91/100\n",
            "59/59 - 0s - loss: 0.0452 - accuracy: 0.9904 - val_loss: 0.2117 - val_accuracy: 0.9524\n",
            "Epoch 92/100\n",
            "59/59 - 0s - loss: 0.0554 - accuracy: 0.9835 - val_loss: 0.2352 - val_accuracy: 0.9619\n",
            "Epoch 93/100\n",
            "59/59 - 0s - loss: 0.1256 - accuracy: 0.9760 - val_loss: 0.1880 - val_accuracy: 0.9810\n",
            "Epoch 94/100\n",
            "59/59 - 0s - loss: 0.0357 - accuracy: 0.9872 - val_loss: 0.5353 - val_accuracy: 0.9333\n",
            "Epoch 95/100\n",
            "59/59 - 0s - loss: 0.0535 - accuracy: 0.9846 - val_loss: 0.4150 - val_accuracy: 0.9714\n",
            "Epoch 96/100\n",
            "59/59 - 0s - loss: 0.0441 - accuracy: 0.9920 - val_loss: 0.5037 - val_accuracy: 0.9619\n",
            "Epoch 97/100\n",
            "59/59 - 0s - loss: 0.0762 - accuracy: 0.9835 - val_loss: 0.2965 - val_accuracy: 0.9524\n",
            "Epoch 98/100\n",
            "59/59 - 0s - loss: 0.0604 - accuracy: 0.9851 - val_loss: 0.7725 - val_accuracy: 0.9524\n",
            "Epoch 99/100\n",
            "59/59 - 0s - loss: 0.1034 - accuracy: 0.9760 - val_loss: 0.2206 - val_accuracy: 0.9048\n",
            "Epoch 100/100\n",
            "59/59 - 0s - loss: 0.0805 - accuracy: 0.9808 - val_loss: 0.3882 - val_accuracy: 0.9619\n"
          ],
          "name": "stdout"
        },
        {
          "output_type": "display_data",
          "data": {
            "image/png": "[encoded data removed]",
            "text/plain": [
              "<Figure size 432x288 with 1 Axes>"
            ]
          },
          "metadata": {
            "tags": [],
            "image/png": {
              "height": 249,
              "width": 372
            }
          }
        }
      ]
    },
    {
      "cell_type": "code",
      "metadata": {
        "id": "W6BBzxOx3czy",
        "colab": {
          "base_uri": "https://localhost:8080/",
          "height": 1000
        },
        "outputId": "6486f6ba-910d-4883-ccc5-11135492a9ea"
      },
      "source": [
        "ownModel, ownHistory = startermodelBidirectionalExperimentalBinary(np.array(xTrainArray3), np.array(yTrainArray3[:,1]), np.array(xValArray3), np.array(yValArray3[:,1]), vocab_size, embedding_dim, max_length, 100)"
      ],
      "execution_count": 72,
      "outputs": [
        {
          "output_type": "stream",
          "text": [
            "Model: \"sequential_1\"\n",
            "_________________________________________________________________\n",
            "Layer (type)                 Output Shape              Param #   \n",
            "=================================================================\n",
            "embedding_2 (Embedding)      (None, 120, 32)           96032     \n",
            "_________________________________________________________________\n",
            "dropout_3 (Dropout)          (None, 120, 32)           0         \n",
            "_________________________________________________________________\n",
            "lstm_3 (LSTM)                (None, 16)                3136      \n",
            "_________________________________________________________________\n",
            "dropout_4 (Dropout)          (None, 16)                0         \n",
            "_________________________________________________________________\n",
            "dense_4 (Dense)              (None, 1)                 17        \n",
            "=================================================================\n",
            "Total params: 99,185\n",
            "Trainable params: 99,185\n",
            "Non-trainable params: 0\n",
            "_________________________________________________________________\n",
            "Epoch 1/100\n",
            "59/59 - 2s - loss: 0.2990 - binary_accuracy: 0.9137 - val_loss: 0.1918 - val_binary_accuracy: 0.9524\n",
            "Epoch 2/100\n",
            "59/59 - 0s - loss: 0.2662 - binary_accuracy: 0.9281 - val_loss: 0.1934 - val_binary_accuracy: 0.9524\n",
            "Epoch 3/100\n",
            "59/59 - 0s - loss: 0.2590 - binary_accuracy: 0.9281 - val_loss: 0.1907 - val_binary_accuracy: 0.9524\n",
            "Epoch 4/100\n",
            "59/59 - 0s - loss: 0.2552 - binary_accuracy: 0.9281 - val_loss: 0.1896 - val_binary_accuracy: 0.9524\n",
            "Epoch 5/100\n",
            "59/59 - 0s - loss: 0.2468 - binary_accuracy: 0.9302 - val_loss: 0.1943 - val_binary_accuracy: 0.9524\n",
            "Epoch 6/100\n",
            "59/59 - 0s - loss: 0.2434 - binary_accuracy: 0.9345 - val_loss: 0.1892 - val_binary_accuracy: 0.9524\n",
            "Epoch 7/100\n",
            "59/59 - 0s - loss: 0.2400 - binary_accuracy: 0.9350 - val_loss: 0.1925 - val_binary_accuracy: 0.9524\n",
            "Epoch 8/100\n",
            "59/59 - 0s - loss: 0.2390 - binary_accuracy: 0.9350 - val_loss: 0.1897 - val_binary_accuracy: 0.9524\n",
            "Epoch 9/100\n",
            "59/59 - 0s - loss: 0.2365 - binary_accuracy: 0.9350 - val_loss: 0.1941 - val_binary_accuracy: 0.9524\n",
            "Epoch 10/100\n",
            "59/59 - 0s - loss: 0.2489 - binary_accuracy: 0.9329 - val_loss: 0.1904 - val_binary_accuracy: 0.9524\n",
            "Epoch 11/100\n",
            "59/59 - 0s - loss: 0.2408 - binary_accuracy: 0.9340 - val_loss: 0.1909 - val_binary_accuracy: 0.9524\n",
            "Epoch 12/100\n",
            "59/59 - 0s - loss: 0.2385 - binary_accuracy: 0.9350 - val_loss: 0.1919 - val_binary_accuracy: 0.9524\n",
            "Epoch 13/100\n",
            "59/59 - 0s - loss: 0.2382 - binary_accuracy: 0.9350 - val_loss: 0.2057 - val_binary_accuracy: 0.9524\n",
            "Epoch 14/100\n",
            "59/59 - 0s - loss: 0.2385 - binary_accuracy: 0.9350 - val_loss: 0.1967 - val_binary_accuracy: 0.9524\n",
            "Epoch 15/100\n",
            "59/59 - 0s - loss: 0.2399 - binary_accuracy: 0.9350 - val_loss: 0.2079 - val_binary_accuracy: 0.9524\n",
            "Epoch 16/100\n",
            "59/59 - 0s - loss: 0.2398 - binary_accuracy: 0.9350 - val_loss: 0.1923 - val_binary_accuracy: 0.9524\n",
            "Epoch 17/100\n",
            "59/59 - 0s - loss: 0.2359 - binary_accuracy: 0.9350 - val_loss: 0.1911 - val_binary_accuracy: 0.9524\n",
            "Epoch 18/100\n",
            "59/59 - 0s - loss: 0.2366 - binary_accuracy: 0.9350 - val_loss: 0.1972 - val_binary_accuracy: 0.9524\n",
            "Epoch 19/100\n",
            "59/59 - 0s - loss: 0.2415 - binary_accuracy: 0.9350 - val_loss: 0.1988 - val_binary_accuracy: 0.9524\n",
            "Epoch 20/100\n",
            "59/59 - 0s - loss: 0.2357 - binary_accuracy: 0.9350 - val_loss: 0.1921 - val_binary_accuracy: 0.9524\n",
            "Epoch 21/100\n",
            "59/59 - 0s - loss: 0.2322 - binary_accuracy: 0.9255 - val_loss: 0.1908 - val_binary_accuracy: 0.9524\n",
            "Epoch 22/100\n",
            "59/59 - 0s - loss: 0.2012 - binary_accuracy: 0.9356 - val_loss: 0.1762 - val_binary_accuracy: 0.9524\n",
            "Epoch 23/100\n",
            "59/59 - 0s - loss: 0.1436 - binary_accuracy: 0.9483 - val_loss: 0.1616 - val_binary_accuracy: 0.9524\n",
            "Epoch 24/100\n",
            "59/59 - 0s - loss: 0.1255 - binary_accuracy: 0.9638 - val_loss: 0.1654 - val_binary_accuracy: 0.9619\n",
            "Epoch 25/100\n",
            "59/59 - 0s - loss: 0.0935 - binary_accuracy: 0.9787 - val_loss: 0.1916 - val_binary_accuracy: 0.9524\n",
            "Epoch 26/100\n",
            "59/59 - 0s - loss: 0.0891 - binary_accuracy: 0.9739 - val_loss: 0.1370 - val_binary_accuracy: 0.9619\n",
            "Epoch 27/100\n",
            "59/59 - 0s - loss: 0.0610 - binary_accuracy: 0.9846 - val_loss: 0.1783 - val_binary_accuracy: 0.9619\n",
            "Epoch 28/100\n",
            "59/59 - 0s - loss: 0.0426 - binary_accuracy: 0.9909 - val_loss: 0.1747 - val_binary_accuracy: 0.9429\n",
            "Epoch 29/100\n",
            "59/59 - 0s - loss: 0.0238 - binary_accuracy: 0.9904 - val_loss: 0.2045 - val_binary_accuracy: 0.9619\n",
            "Epoch 30/100\n",
            "59/59 - 0s - loss: 0.0245 - binary_accuracy: 0.9936 - val_loss: 0.2369 - val_binary_accuracy: 0.9333\n",
            "Epoch 31/100\n",
            "59/59 - 0s - loss: 0.0199 - binary_accuracy: 0.9957 - val_loss: 0.1760 - val_binary_accuracy: 0.9524\n",
            "Epoch 32/100\n",
            "59/59 - 0s - loss: 0.0099 - binary_accuracy: 0.9968 - val_loss: 0.2152 - val_binary_accuracy: 0.9619\n",
            "Epoch 33/100\n",
            "59/59 - 0s - loss: 0.0147 - binary_accuracy: 0.9968 - val_loss: 0.2481 - val_binary_accuracy: 0.9524\n",
            "Epoch 34/100\n",
            "59/59 - 0s - loss: 0.0061 - binary_accuracy: 0.9984 - val_loss: 0.2234 - val_binary_accuracy: 0.9524\n",
            "Epoch 35/100\n",
            "59/59 - 0s - loss: 0.0091 - binary_accuracy: 0.9973 - val_loss: 0.2174 - val_binary_accuracy: 0.9524\n",
            "Epoch 36/100\n",
            "59/59 - 0s - loss: 0.0045 - binary_accuracy: 0.9995 - val_loss: 0.2864 - val_binary_accuracy: 0.9429\n",
            "Epoch 37/100\n",
            "59/59 - 0s - loss: 0.0027 - binary_accuracy: 1.0000 - val_loss: 0.3020 - val_binary_accuracy: 0.9429\n",
            "Epoch 38/100\n",
            "59/59 - 0s - loss: 0.0016 - binary_accuracy: 0.9995 - val_loss: 0.3148 - val_binary_accuracy: 0.9429\n",
            "Epoch 39/100\n",
            "59/59 - 0s - loss: 0.0012 - binary_accuracy: 1.0000 - val_loss: 0.2925 - val_binary_accuracy: 0.9524\n",
            "Epoch 40/100\n",
            "59/59 - 0s - loss: 0.0015 - binary_accuracy: 0.9995 - val_loss: 0.3060 - val_binary_accuracy: 0.9524\n",
            "Epoch 41/100\n",
            "59/59 - 0s - loss: 9.7922e-04 - binary_accuracy: 1.0000 - val_loss: 0.3122 - val_binary_accuracy: 0.9524\n",
            "Epoch 42/100\n",
            "59/59 - 0s - loss: 8.6891e-04 - binary_accuracy: 1.0000 - val_loss: 0.3235 - val_binary_accuracy: 0.9524\n",
            "Epoch 43/100\n",
            "59/59 - 0s - loss: 0.0014 - binary_accuracy: 0.9995 - val_loss: 0.3334 - val_binary_accuracy: 0.9524\n",
            "Epoch 44/100\n",
            "59/59 - 0s - loss: 0.0011 - binary_accuracy: 1.0000 - val_loss: 0.3235 - val_binary_accuracy: 0.9524\n",
            "Epoch 45/100\n",
            "59/59 - 0s - loss: 0.0012 - binary_accuracy: 1.0000 - val_loss: 0.3357 - val_binary_accuracy: 0.9429\n",
            "Epoch 46/100\n",
            "59/59 - 0s - loss: 7.5766e-04 - binary_accuracy: 1.0000 - val_loss: 0.3377 - val_binary_accuracy: 0.9429\n",
            "Epoch 47/100\n",
            "59/59 - 0s - loss: 7.3786e-04 - binary_accuracy: 1.0000 - val_loss: 0.3440 - val_binary_accuracy: 0.9524\n",
            "Epoch 48/100\n",
            "59/59 - 0s - loss: 5.2074e-04 - binary_accuracy: 1.0000 - val_loss: 0.3513 - val_binary_accuracy: 0.9429\n",
            "Epoch 49/100\n",
            "59/59 - 0s - loss: 9.7842e-04 - binary_accuracy: 1.0000 - val_loss: 0.3668 - val_binary_accuracy: 0.9429\n",
            "Epoch 50/100\n",
            "59/59 - 0s - loss: 6.4639e-04 - binary_accuracy: 1.0000 - val_loss: 0.3715 - val_binary_accuracy: 0.9429\n",
            "Epoch 51/100\n",
            "59/59 - 0s - loss: 3.3444e-04 - binary_accuracy: 1.0000 - val_loss: 0.3782 - val_binary_accuracy: 0.9429\n",
            "Epoch 52/100\n",
            "59/59 - 0s - loss: 5.2550e-04 - binary_accuracy: 1.0000 - val_loss: 0.3796 - val_binary_accuracy: 0.9429\n",
            "Epoch 53/100\n",
            "59/59 - 0s - loss: 4.3188e-04 - binary_accuracy: 1.0000 - val_loss: 0.3832 - val_binary_accuracy: 0.9429\n",
            "Epoch 54/100\n",
            "59/59 - 0s - loss: 2.8579e-04 - binary_accuracy: 1.0000 - val_loss: 0.3868 - val_binary_accuracy: 0.9429\n",
            "Epoch 55/100\n",
            "59/59 - 0s - loss: 2.8453e-04 - binary_accuracy: 1.0000 - val_loss: 0.3901 - val_binary_accuracy: 0.9429\n",
            "Epoch 56/100\n",
            "59/59 - 0s - loss: 7.3513e-04 - binary_accuracy: 1.0000 - val_loss: 0.4734 - val_binary_accuracy: 0.9429\n",
            "Epoch 57/100\n",
            "59/59 - 0s - loss: 2.4080e-04 - binary_accuracy: 1.0000 - val_loss: 0.4231 - val_binary_accuracy: 0.9524\n",
            "Epoch 58/100\n",
            "59/59 - 0s - loss: 0.0035 - binary_accuracy: 0.9995 - val_loss: 0.4773 - val_binary_accuracy: 0.9429\n",
            "Epoch 59/100\n",
            "59/59 - 0s - loss: 0.0128 - binary_accuracy: 0.9968 - val_loss: 0.4057 - val_binary_accuracy: 0.9524\n",
            "Epoch 60/100\n",
            "59/59 - 0s - loss: 0.0045 - binary_accuracy: 0.9995 - val_loss: 0.3540 - val_binary_accuracy: 0.9619\n",
            "Epoch 61/100\n",
            "59/59 - 0s - loss: 0.0019 - binary_accuracy: 0.9995 - val_loss: 0.3295 - val_binary_accuracy: 0.9714\n",
            "Epoch 62/100\n",
            "59/59 - 0s - loss: 0.0072 - binary_accuracy: 0.9989 - val_loss: 0.3123 - val_binary_accuracy: 0.9619\n",
            "Epoch 63/100\n",
            "59/59 - 0s - loss: 0.0075 - binary_accuracy: 0.9979 - val_loss: 0.2962 - val_binary_accuracy: 0.9524\n",
            "Epoch 64/100\n",
            "59/59 - 0s - loss: 0.0032 - binary_accuracy: 0.9984 - val_loss: 0.3147 - val_binary_accuracy: 0.9619\n",
            "Epoch 65/100\n",
            "59/59 - 0s - loss: 0.0029 - binary_accuracy: 0.9995 - val_loss: 0.3590 - val_binary_accuracy: 0.9429\n",
            "Epoch 66/100\n",
            "59/59 - 0s - loss: 6.8079e-04 - binary_accuracy: 1.0000 - val_loss: 0.3678 - val_binary_accuracy: 0.9524\n",
            "Epoch 67/100\n",
            "59/59 - 0s - loss: 0.0058 - binary_accuracy: 0.9984 - val_loss: 0.3156 - val_binary_accuracy: 0.9619\n",
            "Epoch 68/100\n",
            "59/59 - 0s - loss: 8.4511e-04 - binary_accuracy: 1.0000 - val_loss: 0.2958 - val_binary_accuracy: 0.9619\n",
            "Epoch 69/100\n",
            "59/59 - 0s - loss: 0.0029 - binary_accuracy: 0.9984 - val_loss: 0.2855 - val_binary_accuracy: 0.9714\n",
            "Epoch 70/100\n",
            "59/59 - 0s - loss: 7.7146e-04 - binary_accuracy: 1.0000 - val_loss: 0.2924 - val_binary_accuracy: 0.9714\n",
            "Epoch 71/100\n",
            "59/59 - 0s - loss: 6.8826e-04 - binary_accuracy: 1.0000 - val_loss: 0.3001 - val_binary_accuracy: 0.9714\n",
            "Epoch 72/100\n",
            "59/59 - 0s - loss: 5.8454e-04 - binary_accuracy: 1.0000 - val_loss: 0.3053 - val_binary_accuracy: 0.9714\n",
            "Epoch 73/100\n",
            "59/59 - 0s - loss: 3.6348e-04 - binary_accuracy: 1.0000 - val_loss: 0.3122 - val_binary_accuracy: 0.9714\n",
            "Epoch 74/100\n",
            "59/59 - 0s - loss: 5.5181e-04 - binary_accuracy: 1.0000 - val_loss: 0.3262 - val_binary_accuracy: 0.9714\n",
            "Epoch 75/100\n",
            "59/59 - 0s - loss: 3.3934e-04 - binary_accuracy: 1.0000 - val_loss: 0.3323 - val_binary_accuracy: 0.9714\n",
            "Epoch 76/100\n",
            "59/59 - 0s - loss: 0.0051 - binary_accuracy: 0.9989 - val_loss: 0.2704 - val_binary_accuracy: 0.9714\n",
            "Epoch 77/100\n",
            "59/59 - 0s - loss: 3.8649e-04 - binary_accuracy: 1.0000 - val_loss: 0.3011 - val_binary_accuracy: 0.9714\n",
            "Epoch 78/100\n",
            "59/59 - 0s - loss: 6.1132e-04 - binary_accuracy: 1.0000 - val_loss: 0.3046 - val_binary_accuracy: 0.9714\n",
            "Epoch 79/100\n",
            "59/59 - 0s - loss: 3.8113e-04 - binary_accuracy: 1.0000 - val_loss: 0.3115 - val_binary_accuracy: 0.9714\n",
            "Epoch 80/100\n",
            "59/59 - 0s - loss: 3.6664e-04 - binary_accuracy: 1.0000 - val_loss: 0.3175 - val_binary_accuracy: 0.9714\n",
            "Epoch 81/100\n",
            "59/59 - 0s - loss: 2.2926e-04 - binary_accuracy: 1.0000 - val_loss: 0.3223 - val_binary_accuracy: 0.9714\n",
            "Epoch 82/100\n",
            "59/59 - 0s - loss: 3.5832e-04 - binary_accuracy: 1.0000 - val_loss: 0.3275 - val_binary_accuracy: 0.9714\n",
            "Epoch 83/100\n",
            "59/59 - 0s - loss: 3.2943e-04 - binary_accuracy: 1.0000 - val_loss: 0.3314 - val_binary_accuracy: 0.9714\n",
            "Epoch 84/100\n",
            "59/59 - 0s - loss: 1.6483e-04 - binary_accuracy: 1.0000 - val_loss: 0.3359 - val_binary_accuracy: 0.9714\n",
            "Epoch 85/100\n",
            "59/59 - 0s - loss: 2.2973e-04 - binary_accuracy: 1.0000 - val_loss: 0.3448 - val_binary_accuracy: 0.9714\n",
            "Epoch 86/100\n",
            "59/59 - 0s - loss: 2.6277e-04 - binary_accuracy: 1.0000 - val_loss: 0.3473 - val_binary_accuracy: 0.9714\n",
            "Epoch 87/100\n",
            "59/59 - 0s - loss: 0.0045 - binary_accuracy: 0.9984 - val_loss: 0.3007 - val_binary_accuracy: 0.9714\n",
            "Epoch 88/100\n",
            "59/59 - 0s - loss: 0.0057 - binary_accuracy: 0.9989 - val_loss: 0.3030 - val_binary_accuracy: 0.9524\n",
            "Epoch 89/100\n",
            "59/59 - 0s - loss: 0.0046 - binary_accuracy: 0.9984 - val_loss: 0.3457 - val_binary_accuracy: 0.9714\n",
            "Epoch 90/100\n",
            "59/59 - 0s - loss: 0.0068 - binary_accuracy: 0.9979 - val_loss: 0.4325 - val_binary_accuracy: 0.9524\n",
            "Epoch 91/100\n",
            "59/59 - 0s - loss: 0.0130 - binary_accuracy: 0.9968 - val_loss: 0.3918 - val_binary_accuracy: 0.9619\n",
            "Epoch 92/100\n",
            "59/59 - 0s - loss: 0.0042 - binary_accuracy: 0.9984 - val_loss: 0.4228 - val_binary_accuracy: 0.9619\n",
            "Epoch 93/100\n",
            "59/59 - 0s - loss: 8.1673e-04 - binary_accuracy: 1.0000 - val_loss: 0.4349 - val_binary_accuracy: 0.9619\n",
            "Epoch 94/100\n",
            "59/59 - 0s - loss: 6.8527e-04 - binary_accuracy: 1.0000 - val_loss: 0.3851 - val_binary_accuracy: 0.9714\n",
            "Epoch 95/100\n",
            "59/59 - 0s - loss: 0.0018 - binary_accuracy: 0.9995 - val_loss: 0.3919 - val_binary_accuracy: 0.9714\n",
            "Epoch 96/100\n",
            "59/59 - 0s - loss: 4.8489e-04 - binary_accuracy: 1.0000 - val_loss: 0.3943 - val_binary_accuracy: 0.9619\n",
            "Epoch 97/100\n",
            "59/59 - 0s - loss: 4.2655e-04 - binary_accuracy: 1.0000 - val_loss: 0.3910 - val_binary_accuracy: 0.9714\n",
            "Epoch 98/100\n",
            "59/59 - 0s - loss: 0.0037 - binary_accuracy: 0.9989 - val_loss: 0.4201 - val_binary_accuracy: 0.9524\n",
            "Epoch 99/100\n",
            "59/59 - 0s - loss: 3.0655e-04 - binary_accuracy: 1.0000 - val_loss: 0.4152 - val_binary_accuracy: 0.9619\n",
            "Epoch 100/100\n",
            "59/59 - 0s - loss: 3.4521e-04 - binary_accuracy: 1.0000 - val_loss: 0.4155 - val_binary_accuracy: 0.9619\n"
          ],
          "name": "stdout"
        },
        {
          "output_type": "display_data",
          "data": {
            "image/png": "[encoded data removed]",
            "text/plain": [
              "<Figure size 432x288 with 1 Axes>"
            ]
          },
          "metadata": {
            "tags": [],
            "image/png": {
              "width": 372,
              "height": 251
            },
            "needs_background": "light"
          }
        },
        {
          "output_type": "display_data",
          "data": {
            "image/png": "[encoded data removed]",
            "text/plain": [
              "<Figure size 432x288 with 1 Axes>"
            ]
          },
          "metadata": {
            "tags": [],
            "image/png": {
              "width": 378,
              "height": 248
            },
            "needs_background": "light"
          }
        }
      ]
    },
    {
      "cell_type": "markdown",
      "metadata": {
        "id": "kVX3KSFClDpR"
      },
      "source": [
        "### Predict Model"
      ]
    },
    {
      "cell_type": "code",
      "metadata": {
        "id": "w-qcn_d9tnPU"
      },
      "source": [
        "def predictModel(model, xTest, yTest):\n",
        "\n",
        "  predictions = model.predict(xTest)\n",
        "  print(predictions.size)\n",
        "  print(yTest.size)\n",
        "\n",
        "  class_labels = np.argmax(predictions, axis=1)\n",
        "  print(\"Class Labels:\\n\")\n",
        "  print(class_labels)\n",
        "  test_labels = np.argmax(yTest, axis=1)\n",
        "  print(\"Test Labels:\\n\")\n",
        "  print(test_labels)\n",
        "  #class_labels_reshaped = class_labels.reshape(yTest.shape[0],yTest.shape[1])\n",
        "  class_labels_diff = class_labels - test_labels\n",
        "  print(\"Class Labels Diff:\\n\")\n",
        "  print(class_labels_diff)\n",
        "  #label = [\"class1\", \"class2\", \"class3\", \"class4\", \"class5\", \"class6\"]\n",
        "  \n",
        "  print(len(xTest))\n",
        "  print(test_labels.shape)\n",
        "  print(class_labels.shape)\n",
        "\n",
        "  #plt.scatter(xTest, class_labels)\n",
        "  #plt.scatter(xTest, test_labels)\n",
        "\n",
        "  #plt.title('Test Set Predictions')\n",
        "  #plt.ylabel('class')\n",
        "\n",
        "  #plt.legend(loc=\"upper left\")\n",
        "  #plt.legend(['prediction', 'real test result'], loc='upper right')\n",
        "  #plt.show()\n",
        "\n",
        "  return predictions"
      ],
      "execution_count": 73,
      "outputs": []
    },
    {
      "cell_type": "code",
      "metadata": {
        "id": "ROBNwrEP49-U",
        "colab": {
          "base_uri": "https://localhost:8080/"
        },
        "outputId": "5e537f83-b53e-4179-e9ba-b0bfe439dc9f"
      },
      "source": [
        "predictionsOwnModel = predictModel(ownModel, xTestArray3, yTestArray3)"
      ],
      "execution_count": 74,
      "outputs": [
        {
          "output_type": "stream",
          "text": [
            "104\n",
            "208\n",
            "Class Labels:\n",
            "\n",
            "[0 0 0 0 0 0 0 0 0 0 0 0 0 0 0 0 0 0 0 0 0 0 0 0 0 0 0 0 0 0 0 0 0 0 0 0 0\n",
            " 0 0 0 0 0 0 0 0 0 0 0 0 0 0 0 0 0 0 0 0 0 0 0 0 0 0 0 0 0 0 0 0 0 0 0 0 0\n",
            " 0 0 0 0 0 0 0 0 0 0 0 0 0 0 0 0 0 0 0 0 0 0 0 0 0 0 0 0 0 0]\n",
            "Test Labels:\n",
            "\n",
            "[1 1 1 1 1 1 1 1 1 1 1 1 1 1 1 1 1 1 1 1 1 1 1 1 1 1 1 1 1 1 1 1 1 1 1 1 1\n",
            " 1 1 1 1 1 1 1 1 1 1 1 1 1 1 1 1 0 1 0 1 0 1 1 1 1 1 1 1 0 1 1 1 1 1 1 1 1\n",
            " 1 1 1 1 1 1 1 1 1 1 1 1 1 1 1 1 1 1 0 1 1 1 1 1 1 0 1 1 1 1]\n",
            "Class Labels Diff:\n",
            "\n",
            "[-1 -1 -1 -1 -1 -1 -1 -1 -1 -1 -1 -1 -1 -1 -1 -1 -1 -1 -1 -1 -1 -1 -1 -1\n",
            " -1 -1 -1 -1 -1 -1 -1 -1 -1 -1 -1 -1 -1 -1 -1 -1 -1 -1 -1 -1 -1 -1 -1 -1\n",
            " -1 -1 -1 -1 -1  0 -1  0 -1  0 -1 -1 -1 -1 -1 -1 -1  0 -1 -1 -1 -1 -1 -1\n",
            " -1 -1 -1 -1 -1 -1 -1 -1 -1 -1 -1 -1 -1 -1 -1 -1 -1 -1 -1 -1  0 -1 -1 -1\n",
            " -1 -1 -1  0 -1 -1 -1 -1]\n",
            "104\n",
            "(104,)\n",
            "(104,)\n"
          ],
          "name": "stdout"
        }
      ]
    },
    {
      "cell_type": "markdown",
      "metadata": {
        "id": "UHDSzirMs8dC"
      },
      "source": [
        "## Bert Model German with simpletransformers"
      ]
    },
    {
      "cell_type": "markdown",
      "metadata": {
        "id": "UUHso55MGj6K"
      },
      "source": [
        "First we need to install the simpletransformers."
      ]
    },
    {
      "cell_type": "code",
      "metadata": {
        "id": "uxXazU9Fzxt-",
        "colab": {
          "base_uri": "https://localhost:8080/",
          "height": 1000
        },
        "outputId": "49ebb631-0589-494c-dcf9-ddfc9b0aeeeb"
      },
      "source": [
        "# install simpletransformers\n",
        "!pip install simpletransformers\n",
        "\n",
        "# check installed version\n",
        "!pip freeze | grep simpletransformers\n",
        "# simpletransformers==0.28.2"
      ],
      "execution_count": 75,
      "outputs": [
        {
          "output_type": "stream",
          "text": [
            "Collecting simpletransformers\n",
            "\u001b[?25l  Downloading https://files.pythonhosted.org/packages/c1/58/74812769435ee676f3d9c1d6c509e830b4dc3e5b78847bc9fec307cfdb8b/simpletransformers-0.61.7-py3-none-any.whl (220kB)\n",
            "\u001b[K     |████████████████████████████████| 225kB 7.3MB/s \n",
            "\u001b[?25hCollecting tqdm>=4.47.0\n",
            "\u001b[?25l  Downloading https://files.pythonhosted.org/packages/b4/20/9f1e974bb4761128fc0d0a32813eaa92827309b1756c4b892d28adfb4415/tqdm-4.61.1-py2.py3-none-any.whl (75kB)\n",
            "\u001b[K     |████████████████████████████████| 81kB 8.8MB/s \n",
            "\u001b[?25hRequirement already satisfied: requests in /usr/local/lib/python3.7/dist-packages (from simpletransformers) (2.23.0)\n",
            "Collecting tensorboardx\n",
            "\u001b[?25l  Downloading https://files.pythonhosted.org/packages/07/84/46421bd3e0e89a92682b1a38b40efc22dafb6d8e3d947e4ceefd4a5fabc7/tensorboardX-2.2-py2.py3-none-any.whl (120kB)\n",
            "\u001b[K     |████████████████████████████████| 122kB 12.6MB/s \n",
            "\u001b[?25hCollecting datasets\n",
            "\u001b[?25l  Downloading https://files.pythonhosted.org/packages/08/a2/d4e1024c891506e1cee8f9d719d20831bac31cb5b7416983c4d2f65a6287/datasets-1.8.0-py3-none-any.whl (237kB)\n",
            "\u001b[K     |████████████████████████████████| 245kB 12.6MB/s \n",
            "\u001b[?25hCollecting seqeval\n",
            "\u001b[?25l  Downloading https://files.pythonhosted.org/packages/9d/2d/233c79d5b4e5ab1dbf111242299153f3caddddbb691219f363ad55ce783d/seqeval-1.2.2.tar.gz (43kB)\n",
            "\u001b[K     |████████████████████████████████| 51kB 7.4MB/s \n",
            "\u001b[?25hRequirement already satisfied: pandas in /usr/local/lib/python3.7/dist-packages (from simpletransformers) (1.1.5)\n",
            "Collecting wandb>=0.10.32\n",
            "\u001b[?25l  Downloading https://files.pythonhosted.org/packages/e0/b4/9d92953d8cddc8450c859be12e3dbdd4c7754fb8def94c28b3b351c6ee4e/wandb-0.10.32-py2.py3-none-any.whl (1.8MB)\n",
            "\u001b[K     |████████████████████████████████| 1.8MB 14.1MB/s \n",
            "\u001b[?25hRequirement already satisfied: scikit-learn in /usr/local/lib/python3.7/dist-packages (from simpletransformers) (0.22.2.post1)\n",
            "Collecting sentencepiece\n",
            "\u001b[?25l  Downloading https://files.pythonhosted.org/packages/ac/aa/1437691b0c7c83086ebb79ce2da16e00bef024f24fec2a5161c35476f499/sentencepiece-0.1.96-cp37-cp37m-manylinux_2_17_x86_64.manylinux2014_x86_64.whl (1.2MB)\n",
            "\u001b[K     |████████████████████████████████| 1.2MB 53.0MB/s \n",
            "\u001b[?25hCollecting tokenizers\n",
            "\u001b[?25l  Downloading https://files.pythonhosted.org/packages/d4/e2/df3543e8ffdab68f5acc73f613de9c2b155ac47f162e725dcac87c521c11/tokenizers-0.10.3-cp37-cp37m-manylinux_2_5_x86_64.manylinux1_x86_64.manylinux_2_12_x86_64.manylinux2010_x86_64.whl (3.3MB)\n",
            "\u001b[K     |████████████████████████████████| 3.3MB 47.4MB/s \n",
            "\u001b[?25hCollecting streamlit\n",
            "\u001b[?25l  Downloading https://files.pythonhosted.org/packages/d7/0c/469ee9160ad7bc064eb498fa95aefd4e96b593ce0d53fb07ff217badff47/streamlit-0.83.0-py2.py3-none-any.whl (7.7MB)\n",
            "\u001b[K     |████████████████████████████████| 7.8MB 41.5MB/s \n",
            "\u001b[?25hRequirement already satisfied: numpy in /usr/local/lib/python3.7/dist-packages (from simpletransformers) (1.19.5)\n",
            "Requirement already satisfied: regex in /usr/local/lib/python3.7/dist-packages (from simpletransformers) (2019.12.20)\n",
            "Requirement already satisfied: scipy in /usr/local/lib/python3.7/dist-packages (from simpletransformers) (1.4.1)\n",
            "Collecting transformers>=4.2.0\n",
            "\u001b[?25l  Downloading https://files.pythonhosted.org/packages/00/92/6153f4912b84ee1ab53ab45663d23e7cf3704161cb5ef18b0c07e207cef2/transformers-4.7.0-py3-none-any.whl (2.5MB)\n",
            "\u001b[K     |████████████████████████████████| 2.5MB 34.9MB/s \n",
            "\u001b[?25hRequirement already satisfied: certifi>=2017.4.17 in /usr/local/lib/python3.7/dist-packages (from requests->simpletransformers) (2021.5.30)\n",
            "Requirement already satisfied: idna<3,>=2.5 in /usr/local/lib/python3.7/dist-packages (from requests->simpletransformers) (2.10)\n",
            "Requirement already satisfied: urllib3!=1.25.0,!=1.25.1,<1.26,>=1.21.1 in /usr/local/lib/python3.7/dist-packages (from requests->simpletransformers) (1.24.3)\n",
            "Requirement already satisfied: chardet<4,>=3.0.2 in /usr/local/lib/python3.7/dist-packages (from requests->simpletransformers) (3.0.4)\n",
            "Requirement already satisfied: protobuf>=3.8.0 in /usr/local/lib/python3.7/dist-packages (from tensorboardx->simpletransformers) (3.12.4)\n",
            "Requirement already satisfied: packaging in /usr/local/lib/python3.7/dist-packages (from datasets->simpletransformers) (20.9)\n",
            "Requirement already satisfied: dill in /usr/local/lib/python3.7/dist-packages (from datasets->simpletransformers) (0.3.4)\n",
            "Collecting fsspec\n",
            "\u001b[?25l  Downloading https://files.pythonhosted.org/packages/8e/d2/d05466997f7751a2c06a7a416b7d1f131d765f7916698d3fdcb3a4d037e5/fsspec-2021.6.0-py3-none-any.whl (114kB)\n",
            "\u001b[K     |████████████████████████████████| 122kB 61.5MB/s \n",
            "\u001b[?25hCollecting huggingface-hub<0.1.0\n",
            "  Downloading https://files.pythonhosted.org/packages/3c/e3/fb7b6aefaf0fc7b792cebbbd590b1895c022ab0ff27f389e1019c6f2e68a/huggingface_hub-0.0.10-py3-none-any.whl\n",
            "Requirement already satisfied: pyarrow<4.0.0,>=1.0.0 in /usr/local/lib/python3.7/dist-packages (from datasets->simpletransformers) (3.0.0)\n",
            "Requirement already satisfied: importlib-metadata; python_version < \"3.8\" in /usr/local/lib/python3.7/dist-packages (from datasets->simpletransformers) (4.5.0)\n",
            "Requirement already satisfied: multiprocess in /usr/local/lib/python3.7/dist-packages (from datasets->simpletransformers) (0.70.12.2)\n",
            "Collecting xxhash\n",
            "\u001b[?25l  Downloading https://files.pythonhosted.org/packages/7d/4f/0a862cad26aa2ed7a7cd87178cbbfa824fc1383e472d63596a0d018374e7/xxhash-2.0.2-cp37-cp37m-manylinux2010_x86_64.whl (243kB)\n",
            "\u001b[K     |████████████████████████████████| 245kB 54.8MB/s \n",
            "\u001b[?25hRequirement already satisfied: pytz>=2017.2 in /usr/local/lib/python3.7/dist-packages (from pandas->simpletransformers) (2018.9)\n",
            "Requirement already satisfied: python-dateutil>=2.7.3 in /usr/local/lib/python3.7/dist-packages (from pandas->simpletransformers) (2.8.1)\n",
            "Requirement already satisfied: promise<3,>=2.0 in /usr/local/lib/python3.7/dist-packages (from wandb>=0.10.32->simpletransformers) (2.3)\n",
            "Requirement already satisfied: Click!=8.0.0,>=7.0 in /usr/local/lib/python3.7/dist-packages (from wandb>=0.10.32->simpletransformers) (7.1.2)\n",
            "Collecting shortuuid>=0.5.0\n",
            "  Downloading https://files.pythonhosted.org/packages/25/a6/2ecc1daa6a304e7f1b216f0896b26156b78e7c38e1211e9b798b4716c53d/shortuuid-1.0.1-py3-none-any.whl\n",
            "Requirement already satisfied: psutil>=5.0.0 in /usr/local/lib/python3.7/dist-packages (from wandb>=0.10.32->simpletransformers) (5.4.8)\n",
            "Collecting sentry-sdk>=0.4.0\n",
            "\u001b[?25l  Downloading https://files.pythonhosted.org/packages/1c/4a/a54b254f67d8f4052338d54ebe90126f200693440a93ef76d254d581e3ec/sentry_sdk-1.1.0-py2.py3-none-any.whl (131kB)\n",
            "\u001b[K     |████████████████████████████████| 133kB 55.2MB/s \n",
            "\u001b[?25hRequirement already satisfied: PyYAML in /usr/local/lib/python3.7/dist-packages (from wandb>=0.10.32->simpletransformers) (3.13)\n",
            "Requirement already satisfied: six>=1.13.0 in /usr/local/lib/python3.7/dist-packages (from wandb>=0.10.32->simpletransformers) (1.15.0)\n",
            "Collecting docker-pycreds>=0.4.0\n",
            "  Downloading https://files.pythonhosted.org/packages/f5/e8/f6bd1eee09314e7e6dee49cbe2c5e22314ccdb38db16c9fc72d2fa80d054/docker_pycreds-0.4.0-py2.py3-none-any.whl\n",
            "Collecting GitPython>=1.0.0\n",
            "\u001b[?25l  Downloading https://files.pythonhosted.org/packages/bc/91/b38c4fabb6e5092ab23492ded4f318ab7299b19263272b703478038c0fbc/GitPython-3.1.18-py3-none-any.whl (170kB)\n",
            "\u001b[K     |████████████████████████████████| 174kB 50.5MB/s \n",
            "\u001b[?25hCollecting pathtools\n",
            "  Downloading https://files.pythonhosted.org/packages/e7/7f/470d6fcdf23f9f3518f6b0b76be9df16dcc8630ad409947f8be2eb0ed13a/pathtools-0.1.2.tar.gz\n",
            "Collecting configparser>=3.8.1\n",
            "  Downloading https://files.pythonhosted.org/packages/fd/01/ff260a18caaf4457eb028c96eeb405c4a230ca06c8ec9c1379f813caa52e/configparser-5.0.2-py3-none-any.whl\n",
            "Collecting subprocess32>=3.5.3\n",
            "\u001b[?25l  Downloading https://files.pythonhosted.org/packages/32/c8/564be4d12629b912ea431f1a50eb8b3b9d00f1a0b1ceff17f266be190007/subprocess32-3.5.4.tar.gz (97kB)\n",
            "\u001b[K     |████████████████████████████████| 102kB 14.3MB/s \n",
            "\u001b[?25hRequirement already satisfied: joblib>=0.11 in /usr/local/lib/python3.7/dist-packages (from scikit-learn->simpletransformers) (1.0.1)\n",
            "Requirement already satisfied: tornado>=5.0 in /usr/local/lib/python3.7/dist-packages (from streamlit->simpletransformers) (5.1.1)\n",
            "Collecting validators\n",
            "  Downloading https://files.pythonhosted.org/packages/db/2f/7fed3ee94ad665ad2c1de87f858f10a7785251ff75b4fd47987888d07ef1/validators-0.18.2-py3-none-any.whl\n",
            "Requirement already satisfied: tzlocal in /usr/local/lib/python3.7/dist-packages (from streamlit->simpletransformers) (1.5.1)\n",
            "Requirement already satisfied: toml in /usr/local/lib/python3.7/dist-packages (from streamlit->simpletransformers) (0.10.2)\n",
            "Requirement already satisfied: altair>=3.2.0 in /usr/local/lib/python3.7/dist-packages (from streamlit->simpletransformers) (4.1.0)\n",
            "Requirement already satisfied: cachetools>=4.0 in /usr/local/lib/python3.7/dist-packages (from streamlit->simpletransformers) (4.2.2)\n",
            "Requirement already satisfied: pillow>=6.2.0 in /usr/local/lib/python3.7/dist-packages (from streamlit->simpletransformers) (7.1.2)\n",
            "Collecting watchdog; platform_system != \"Darwin\"\n",
            "\u001b[?25l  Downloading https://files.pythonhosted.org/packages/f2/5b/36b3b11e557830de6fc1dc06e9aa3ee274119b8cea9cc98175dbbf72cf87/watchdog-2.1.2-py3-none-manylinux2014_x86_64.whl (74kB)\n",
            "\u001b[K     |████████████████████████████████| 81kB 12.2MB/s \n",
            "\u001b[?25hCollecting blinker\n",
            "\u001b[?25l  Downloading https://files.pythonhosted.org/packages/1b/51/e2a9f3b757eb802f61dc1f2b09c8c99f6eb01cf06416c0671253536517b6/blinker-1.4.tar.gz (111kB)\n",
            "\u001b[K     |████████████████████████████████| 112kB 62.8MB/s \n",
            "\u001b[?25hCollecting base58\n",
            "  Downloading https://files.pythonhosted.org/packages/b8/a1/d9f565e9910c09fd325dc638765e8843a19fa696275c16cc08cf3b0a3c25/base58-2.1.0-py3-none-any.whl\n",
            "Collecting pydeck>=0.1.dev5\n",
            "\u001b[?25l  Downloading https://files.pythonhosted.org/packages/d6/bc/f0e44828e4290367c869591d50d3671a4d0ee94926da6cb734b7b200308c/pydeck-0.6.2-py2.py3-none-any.whl (4.2MB)\n",
            "\u001b[K     |████████████████████████████████| 4.2MB 47.4MB/s \n",
            "\u001b[?25hRequirement already satisfied: astor in /usr/local/lib/python3.7/dist-packages (from streamlit->simpletransformers) (0.8.1)\n",
            "Requirement already satisfied: filelock in /usr/local/lib/python3.7/dist-packages (from transformers>=4.2.0->simpletransformers) (3.0.12)\n",
            "Collecting sacremoses\n",
            "\u001b[?25l  Downloading https://files.pythonhosted.org/packages/75/ee/67241dc87f266093c533a2d4d3d69438e57d7a90abb216fa076e7d475d4a/sacremoses-0.0.45-py3-none-any.whl (895kB)\n",
            "\u001b[K     |████████████████████████████████| 901kB 37.1MB/s \n",
            "\u001b[?25hRequirement already satisfied: setuptools in /usr/local/lib/python3.7/dist-packages (from protobuf>=3.8.0->tensorboardx->simpletransformers) (57.0.0)\n",
            "Requirement already satisfied: pyparsing>=2.0.2 in /usr/local/lib/python3.7/dist-packages (from packaging->datasets->simpletransformers) (2.4.7)\n",
            "Requirement already satisfied: typing-extensions in /usr/local/lib/python3.7/dist-packages (from huggingface-hub<0.1.0->datasets->simpletransformers) (3.7.4.3)\n",
            "Requirement already satisfied: zipp>=0.5 in /usr/local/lib/python3.7/dist-packages (from importlib-metadata; python_version < \"3.8\"->datasets->simpletransformers) (3.4.1)\n",
            "Collecting gitdb<5,>=4.0.1\n",
            "\u001b[?25l  Downloading https://files.pythonhosted.org/packages/ea/e8/f414d1a4f0bbc668ed441f74f44c116d9816833a48bf81d22b697090dba8/gitdb-4.0.7-py3-none-any.whl (63kB)\n",
            "\u001b[K     |████████████████████████████████| 71kB 12.9MB/s \n",
            "\u001b[?25hRequirement already satisfied: decorator>=3.4.0 in /usr/local/lib/python3.7/dist-packages (from validators->streamlit->simpletransformers) (4.4.2)\n",
            "Requirement already satisfied: toolz in /usr/local/lib/python3.7/dist-packages (from altair>=3.2.0->streamlit->simpletransformers) (0.11.1)\n",
            "Requirement already satisfied: jsonschema in /usr/local/lib/python3.7/dist-packages (from altair>=3.2.0->streamlit->simpletransformers) (2.6.0)\n",
            "Requirement already satisfied: jinja2 in /usr/local/lib/python3.7/dist-packages (from altair>=3.2.0->streamlit->simpletransformers) (2.11.3)\n",
            "Requirement already satisfied: entrypoints in /usr/local/lib/python3.7/dist-packages (from altair>=3.2.0->streamlit->simpletransformers) (0.3)\n",
            "Requirement already satisfied: ipywidgets>=7.0.0 in /usr/local/lib/python3.7/dist-packages (from pydeck>=0.1.dev5->streamlit->simpletransformers) (7.6.3)\n",
            "Requirement already satisfied: traitlets>=4.3.2 in /usr/local/lib/python3.7/dist-packages (from pydeck>=0.1.dev5->streamlit->simpletransformers) (5.0.5)\n",
            "Collecting ipykernel>=5.1.2; python_version >= \"3.4\"\n",
            "\u001b[?25l  Downloading https://files.pythonhosted.org/packages/90/6d/6c8fe4b658f77947d4244ce81f60230c4c8d1dc1a21ae83e63b269339178/ipykernel-5.5.5-py3-none-any.whl (120kB)\n",
            "\u001b[K     |████████████████████████████████| 122kB 61.9MB/s \n",
            "\u001b[?25hCollecting smmap<5,>=3.0.1\n",
            "  Downloading https://files.pythonhosted.org/packages/68/ee/d540eb5e5996eb81c26ceffac6ee49041d473bc5125f2aa995cf51ec1cf1/smmap-4.0.0-py2.py3-none-any.whl\n",
            "Requirement already satisfied: MarkupSafe>=0.23 in /usr/local/lib/python3.7/dist-packages (from jinja2->altair>=3.2.0->streamlit->simpletransformers) (2.0.1)\n",
            "Requirement already satisfied: ipython>=4.0.0; python_version >= \"3.3\" in /usr/local/lib/python3.7/dist-packages (from ipywidgets>=7.0.0->pydeck>=0.1.dev5->streamlit->simpletransformers) (5.5.0)\n",
            "Requirement already satisfied: widgetsnbextension~=3.5.0 in /usr/local/lib/python3.7/dist-packages (from ipywidgets>=7.0.0->pydeck>=0.1.dev5->streamlit->simpletransformers) (3.5.1)\n",
            "Requirement already satisfied: nbformat>=4.2.0 in /usr/local/lib/python3.7/dist-packages (from ipywidgets>=7.0.0->pydeck>=0.1.dev5->streamlit->simpletransformers) (5.1.3)\n",
            "Requirement already satisfied: jupyterlab-widgets>=1.0.0; python_version >= \"3.6\" in /usr/local/lib/python3.7/dist-packages (from ipywidgets>=7.0.0->pydeck>=0.1.dev5->streamlit->simpletransformers) (1.0.0)\n",
            "Requirement already satisfied: ipython-genutils in /usr/local/lib/python3.7/dist-packages (from traitlets>=4.3.2->pydeck>=0.1.dev5->streamlit->simpletransformers) (0.2.0)\n",
            "Requirement already satisfied: jupyter-client in /usr/local/lib/python3.7/dist-packages (from ipykernel>=5.1.2; python_version >= \"3.4\"->pydeck>=0.1.dev5->streamlit->simpletransformers) (5.3.5)\n",
            "Requirement already satisfied: pygments in /usr/local/lib/python3.7/dist-packages (from ipython>=4.0.0; python_version >= \"3.3\"->ipywidgets>=7.0.0->pydeck>=0.1.dev5->streamlit->simpletransformers) (2.6.1)\n",
            "Requirement already satisfied: prompt-toolkit<2.0.0,>=1.0.4 in /usr/local/lib/python3.7/dist-packages (from ipython>=4.0.0; python_version >= \"3.3\"->ipywidgets>=7.0.0->pydeck>=0.1.dev5->streamlit->simpletransformers) (1.0.18)\n",
            "Requirement already satisfied: simplegeneric>0.8 in /usr/local/lib/python3.7/dist-packages (from ipython>=4.0.0; python_version >= \"3.3\"->ipywidgets>=7.0.0->pydeck>=0.1.dev5->streamlit->simpletransformers) (0.8.1)\n",
            "Requirement already satisfied: pickleshare in /usr/local/lib/python3.7/dist-packages (from ipython>=4.0.0; python_version >= \"3.3\"->ipywidgets>=7.0.0->pydeck>=0.1.dev5->streamlit->simpletransformers) (0.7.5)\n",
            "Requirement already satisfied: pexpect; sys_platform != \"win32\" in /usr/local/lib/python3.7/dist-packages (from ipython>=4.0.0; python_version >= \"3.3\"->ipywidgets>=7.0.0->pydeck>=0.1.dev5->streamlit->simpletransformers) (4.8.0)\n",
            "Requirement already satisfied: notebook>=4.4.1 in /usr/local/lib/python3.7/dist-packages (from widgetsnbextension~=3.5.0->ipywidgets>=7.0.0->pydeck>=0.1.dev5->streamlit->simpletransformers) (5.3.1)\n",
            "Requirement already satisfied: jupyter-core in /usr/local/lib/python3.7/dist-packages (from nbformat>=4.2.0->ipywidgets>=7.0.0->pydeck>=0.1.dev5->streamlit->simpletransformers) (4.7.1)\n",
            "Requirement already satisfied: pyzmq>=13 in /usr/local/lib/python3.7/dist-packages (from jupyter-client->ipykernel>=5.1.2; python_version >= \"3.4\"->pydeck>=0.1.dev5->streamlit->simpletransformers) (22.1.0)\n",
            "Requirement already satisfied: wcwidth in /usr/local/lib/python3.7/dist-packages (from prompt-toolkit<2.0.0,>=1.0.4->ipython>=4.0.0; python_version >= \"3.3\"->ipywidgets>=7.0.0->pydeck>=0.1.dev5->streamlit->simpletransformers) (0.2.5)\n",
            "Requirement already satisfied: ptyprocess>=0.5 in /usr/local/lib/python3.7/dist-packages (from pexpect; sys_platform != \"win32\"->ipython>=4.0.0; python_version >= \"3.3\"->ipywidgets>=7.0.0->pydeck>=0.1.dev5->streamlit->simpletransformers) (0.7.0)\n",
            "Requirement already satisfied: nbconvert in /usr/local/lib/python3.7/dist-packages (from notebook>=4.4.1->widgetsnbextension~=3.5.0->ipywidgets>=7.0.0->pydeck>=0.1.dev5->streamlit->simpletransformers) (5.6.1)\n",
            "Requirement already satisfied: terminado>=0.8.1 in /usr/local/lib/python3.7/dist-packages (from notebook>=4.4.1->widgetsnbextension~=3.5.0->ipywidgets>=7.0.0->pydeck>=0.1.dev5->streamlit->simpletransformers) (0.10.1)\n",
            "Requirement already satisfied: Send2Trash in /usr/local/lib/python3.7/dist-packages (from notebook>=4.4.1->widgetsnbextension~=3.5.0->ipywidgets>=7.0.0->pydeck>=0.1.dev5->streamlit->simpletransformers) (1.5.0)\n",
            "Requirement already satisfied: mistune<2,>=0.8.1 in /usr/local/lib/python3.7/dist-packages (from nbconvert->notebook>=4.4.1->widgetsnbextension~=3.5.0->ipywidgets>=7.0.0->pydeck>=0.1.dev5->streamlit->simpletransformers) (0.8.4)\n",
            "Requirement already satisfied: pandocfilters>=1.4.1 in /usr/local/lib/python3.7/dist-packages (from nbconvert->notebook>=4.4.1->widgetsnbextension~=3.5.0->ipywidgets>=7.0.0->pydeck>=0.1.dev5->streamlit->simpletransformers) (1.4.3)\n",
            "Requirement already satisfied: testpath in /usr/local/lib/python3.7/dist-packages (from nbconvert->notebook>=4.4.1->widgetsnbextension~=3.5.0->ipywidgets>=7.0.0->pydeck>=0.1.dev5->streamlit->simpletransformers) (0.5.0)\n",
            "Requirement already satisfied: defusedxml in /usr/local/lib/python3.7/dist-packages (from nbconvert->notebook>=4.4.1->widgetsnbextension~=3.5.0->ipywidgets>=7.0.0->pydeck>=0.1.dev5->streamlit->simpletransformers) (0.7.1)\n",
            "Requirement already satisfied: bleach in /usr/local/lib/python3.7/dist-packages (from nbconvert->notebook>=4.4.1->widgetsnbextension~=3.5.0->ipywidgets>=7.0.0->pydeck>=0.1.dev5->streamlit->simpletransformers) (3.3.0)\n",
            "Requirement already satisfied: webencodings in /usr/local/lib/python3.7/dist-packages (from bleach->nbconvert->notebook>=4.4.1->widgetsnbextension~=3.5.0->ipywidgets>=7.0.0->pydeck>=0.1.dev5->streamlit->simpletransformers) (0.5.1)\n",
            "Building wheels for collected packages: seqeval, pathtools, subprocess32, blinker\n",
            "  Building wheel for seqeval (setup.py) ... \u001b[?25l\u001b[?25hdone\n",
            "  Created wheel for seqeval: filename=seqeval-1.2.2-cp37-none-any.whl size=16184 sha256=fd410a684a773c0b6c416822fb8d2aeaf865a2dd4be15916cd2e3c9a1382ecfd\n",
            "  Stored in directory: /root/.cache/pip/wheels/52/df/1b/45d75646c37428f7e626214704a0e35bd3cfc32eda37e59e5f\n",
            "  Building wheel for pathtools (setup.py) ... \u001b[?25l\u001b[?25hdone\n",
            "  Created wheel for pathtools: filename=pathtools-0.1.2-cp37-none-any.whl size=8807 sha256=c1ddc77755b0a35cdee38b0fe32e5002ea12504abade6bd90ad8bf13d3745b7b\n",
            "  Stored in directory: /root/.cache/pip/wheels/0b/04/79/c3b0c3a0266a3cb4376da31e5bfe8bba0c489246968a68e843\n",
            "  Building wheel for subprocess32 (setup.py) ... \u001b[?25l\u001b[?25hdone\n",
            "  Created wheel for subprocess32: filename=subprocess32-3.5.4-cp37-none-any.whl size=6502 sha256=2302fcc3443a139242684b53fcafaf7413b69f76a4986754c30109436a30fc45\n",
            "  Stored in directory: /root/.cache/pip/wheels/68/39/1a/5e402bdfdf004af1786c8b853fd92f8c4a04f22aad179654d1\n",
            "  Building wheel for blinker (setup.py) ... \u001b[?25l\u001b[?25hdone\n",
            "  Created wheel for blinker: filename=blinker-1.4-cp37-none-any.whl size=13476 sha256=b728045717dbff8bbf9e0658a3cbe2a4a1ffe86fef4eb0c9a9ead360d6a7ddba\n",
            "  Stored in directory: /root/.cache/pip/wheels/92/a0/00/8690a57883956a301d91cf4ec999cc0b258b01e3f548f86e89\n",
            "Successfully built seqeval pathtools subprocess32 blinker\n",
            "\u001b[31mERROR: google-colab 1.0.0 has requirement ipykernel~=4.10, but you'll have ipykernel 5.5.5 which is incompatible.\u001b[0m\n",
            "\u001b[31mERROR: datasets 1.8.0 has requirement tqdm<4.50.0,>=4.27, but you'll have tqdm 4.61.1 which is incompatible.\u001b[0m\n",
            "\u001b[31mERROR: transformers 4.7.0 has requirement huggingface-hub==0.0.8, but you'll have huggingface-hub 0.0.10 which is incompatible.\u001b[0m\n",
            "Installing collected packages: tqdm, tensorboardx, fsspec, huggingface-hub, xxhash, datasets, seqeval, shortuuid, sentry-sdk, docker-pycreds, smmap, gitdb, GitPython, pathtools, configparser, subprocess32, wandb, sentencepiece, tokenizers, validators, watchdog, blinker, base58, ipykernel, pydeck, streamlit, sacremoses, transformers, simpletransformers\n",
            "  Found existing installation: tqdm 4.41.1\n",
            "    Uninstalling tqdm-4.41.1:\n",
            "      Successfully uninstalled tqdm-4.41.1\n",
            "  Found existing installation: ipykernel 4.10.1\n",
            "    Uninstalling ipykernel-4.10.1:\n",
            "      Successfully uninstalled ipykernel-4.10.1\n",
            "Successfully installed GitPython-3.1.18 base58-2.1.0 blinker-1.4 configparser-5.0.2 datasets-1.8.0 docker-pycreds-0.4.0 fsspec-2021.6.0 gitdb-4.0.7 huggingface-hub-0.0.10 ipykernel-5.5.5 pathtools-0.1.2 pydeck-0.6.2 sacremoses-0.0.45 sentencepiece-0.1.96 sentry-sdk-1.1.0 seqeval-1.2.2 shortuuid-1.0.1 simpletransformers-0.61.7 smmap-4.0.0 streamlit-0.83.0 subprocess32-3.5.4 tensorboardx-2.2 tokenizers-0.10.3 tqdm-4.61.1 transformers-4.7.0 validators-0.18.2 wandb-0.10.32 watchdog-2.1.2 xxhash-2.0.2\n"
          ],
          "name": "stdout"
        },
        {
          "output_type": "display_data",
          "data": {
            "application/vnd.colab-display-data+json": {
              "pip_warning": {
                "packages": [
                  "ipykernel"
                ]
              }
            }
          },
          "metadata": {
            "tags": []
          }
        },
        {
          "output_type": "stream",
          "text": [
            "simpletransformers==0.61.7\n"
          ],
          "name": "stdout"
        }
      ]
    },
    {
      "cell_type": "markdown",
      "metadata": {
        "id": "PA3RRiC4GpK9"
      },
      "source": [
        "Class 0 refers to impolite mails and class 1 to polite ones, so we renamed them. Making a new dataframe called df is not necessary, just to shorten the names."
      ]
    },
    {
      "cell_type": "code",
      "metadata": {
        "id": "fABPYNx_0Db4"
      },
      "source": [
        "import pandas as pd\n",
        "\n",
        "class_list = ['Impolite','Polite']\n",
        "\n",
        "df =azubi_df_mails_and_scored_combined #df[['tweet','pred_class']]\n",
        "\n",
        "print(df.shape)\n",
        "df.head()"
      ],
      "execution_count": null,
      "outputs": []
    },
    {
      "cell_type": "markdown",
      "metadata": {
        "id": "wZJCxjAQG93F"
      },
      "source": [
        "With the simpletransformers we use a Classification model. In the training arguments some settings of the model can be handed over, e.g. the training_epochs. Afterwards the classification model is created with bert. Furthermore the training arguments are passed."
      ]
    },
    {
      "cell_type": "code",
      "metadata": {
        "id": "jguhRrS70ATj",
        "colab": {
          "base_uri": "https://localhost:8080/",
          "height": 304,
          "referenced_widgets": [
            "aa54c6dfa4964a16bcaf766bd5c27b65",
            "688a703fd1c64ad9a800d15b591870be",
            "0bcab575c967492583ec3061d88a1b07",
            "208e5934a23f4ac7874f790fcd3c4484",
            "a3aa21bb68224e8388dc5f6d90ca05d7",
            "f033cf7339124e989ef8dd4a24b77c54",
            "24b4a6fa42d944cf972294ceee6e5260",
            "1cf9d671f8cb4e4fb3ae73fbe5c749b6",
            "a07db96351da483995b09ef5c59d452b",
            "6bc83a4144f24a5aa20559b95ebcf9ab",
            "c447f0b5944545f0aa557a8e1d8e342d",
            "8d99a474d1d1469892a5c8e69cf37f8d",
            "917eabe337864bcba40ed6cdce789105",
            "697edfe75853419d80e6f3f779b74750",
            "405e79419fb34f47bef46e70b2f5de0d",
            "eee73d219b9a4146a3e20c85184fafd1",
            "6e751cffc2ca41eab1f8860c9bd05909",
            "8089609b1c5f4a41b38f92076164ec58",
            "f4ae8e1251d64e29bd24860df1913f61",
            "46881bb3cdc64e1bab96403effde55bd",
            "81c32cfe5e3346dba20764bb5eb39a1a",
            "299cf2dd043348aa92be092503e83ba7",
            "bc314c396c2c4f6e9e3b39901aeb0e06",
            "80f2e999dcff41b6b55eb8f810ce731b",
            "ce12d41a0284417d8560bc47f156df18",
            "ae3d2a337199437abf461bb2575a6093",
            "bb26610c3f624fa1a540d65ae6deb227",
            "d0734232f2e14caeaa2b86302502da98",
            "e6fc638013694a73a7d457e797ee9a41",
            "80613162034b49a69e49657d973e1a66",
            "60c94062ac10448da7686b658791b31e",
            "37d4445523cf4ffeb722d0b3d9bfdb1f",
            "cf3c37cf1f274bb89af2132779b16997",
            "865d9e6bb4a040069adc541e50116927",
            "913de7a472f94f8cb279e684dc6d41a0",
            "58020765bc50418298213c54ee963e66",
            "0cae06419d484ad7b602220c4e72e7e5",
            "32d15bd416234ecea2e25a796114d4e4",
            "a05fe51f03c44ad394ebacd583130f14",
            "b9e8c3e8d0794374a7557323197752cc",
            "12cb67ed734746d0a9e07155d3769fd0",
            "836c011bc0d847b786ade6d881d35d50",
            "9097152fbb3f422984dc59d33fb08884",
            "bd9f97f46ff24ecdb3ae78ddd220c242",
            "3386116507e046c1b7c6615208be359f",
            "72d07a1cfa2949cea3b4ca274cadde9c",
            "abc989dedf784dbeb6de36f81cbe7877",
            "445fce99eba34aa1901568ef34cc4dc0",
            "07b3b9063c084537b2c257e47f88bb3d",
            "6193b1d92e7d4a749f1ee6dd072fafca",
            "829a7e6167ce44cea541a5454a31d8e3",
            "9fac066c69914d0e91923da45b8cb63a",
            "121c093c1a2f4deb8d7c0a63b3d3cfe0",
            "eaa37f13003544c5814b53b3d170b38d",
            "fd7551d422074b16a66ffdb72031057c"
          ]
        },
        "outputId": "87ef18c6-6615-4498-b572-7d647e208b04"
      },
      "source": [
        "from simpletransformers.classification import ClassificationModel\n",
        "\n",
        "# define hyperparameter\n",
        "train_args ={\"reprocess_input_data\": True,\n",
        "             \"overwrite_output_dir\": True,\n",
        "             \"fp16\":False,\n",
        "             \"num_train_epochs\": 10}\n",
        "\n",
        "# Create a ClassificationModel\n",
        "model = ClassificationModel(\n",
        "    \"bert\", \"distilbert-base-german-cased\",\n",
        "    #num_labels=1,\n",
        "    args=train_args\n",
        ")\n"
      ],
      "execution_count": 77,
      "outputs": [
        {
          "output_type": "display_data",
          "data": {
            "application/vnd.jupyter.widget-view+json": {
              "model_id": "aa54c6dfa4964a16bcaf766bd5c27b65",
              "version_minor": 0,
              "version_major": 2
            },
            "text/plain": [
              "Downloading:   0%|          | 0.00/464 [00:00<?, ?B/s]"
            ]
          },
          "metadata": {
            "tags": []
          }
        },
        {
          "output_type": "stream",
          "text": [
            "You are using a model of type distilbert to instantiate a model of type bert. This is not supported for all configurations of models and can yield errors.\n"
          ],
          "name": "stderr"
        },
        {
          "output_type": "display_data",
          "data": {
            "application/vnd.jupyter.widget-view+json": {
              "model_id": "8d99a474d1d1469892a5c8e69cf37f8d",
              "version_minor": 0,
              "version_major": 2
            },
            "text/plain": [
              "Downloading:   0%|          | 0.00/270M [00:00<?, ?B/s]"
            ]
          },
          "metadata": {
            "tags": []
          }
        },
        {
          "output_type": "stream",
          "text": [
            "Some weights of the model checkpoint at distilbert-base-german-cased were not used when initializing BertForSequenceClassification: ['distilbert.transformer.layer.0.attention.q_lin.weight', 'distilbert.transformer.layer.2.attention.k_lin.weight', 'distilbert.transformer.layer.1.attention.out_lin.weight', 'distilbert.transformer.layer.4.output_layer_norm.weight', 'distilbert.transformer.layer.5.attention.q_lin.weight', 'vocab_transform.bias', 'distilbert.transformer.layer.2.attention.v_lin.weight', 'distilbert.transformer.layer.3.attention.v_lin.bias', 'distilbert.transformer.layer.3.sa_layer_norm.weight', 'distilbert.transformer.layer.5.attention.out_lin.bias', 'distilbert.transformer.layer.4.attention.q_lin.bias', 'distilbert.transformer.layer.1.attention.out_lin.bias', 'distilbert.transformer.layer.1.ffn.lin2.bias', 'distilbert.transformer.layer.0.output_layer_norm.weight', 'distilbert.transformer.layer.2.attention.out_lin.weight', 'distilbert.transformer.layer.4.attention.k_lin.bias', 'distilbert.transformer.layer.3.attention.k_lin.bias', 'distilbert.transformer.layer.2.ffn.lin1.weight', 'distilbert.embeddings.word_embeddings.weight', 'distilbert.transformer.layer.5.attention.k_lin.bias', 'distilbert.transformer.layer.4.ffn.lin1.bias', 'distilbert.transformer.layer.5.attention.v_lin.weight', 'distilbert.transformer.layer.2.attention.k_lin.bias', 'distilbert.transformer.layer.0.sa_layer_norm.weight', 'distilbert.transformer.layer.5.sa_layer_norm.weight', 'distilbert.transformer.layer.1.attention.v_lin.weight', 'distilbert.transformer.layer.1.sa_layer_norm.weight', 'distilbert.transformer.layer.0.ffn.lin2.weight', 'distilbert.transformer.layer.3.sa_layer_norm.bias', 'vocab_projector.weight', 'distilbert.transformer.layer.0.ffn.lin1.bias', 'distilbert.transformer.layer.3.ffn.lin2.bias', 'distilbert.transformer.layer.5.attention.q_lin.bias', 'vocab_layer_norm.weight', 'distilbert.transformer.layer.0.sa_layer_norm.bias', 'distilbert.transformer.layer.0.ffn.lin1.weight', 'distilbert.transformer.layer.1.attention.k_lin.weight', 'distilbert.transformer.layer.4.attention.q_lin.weight', 'distilbert.transformer.layer.0.attention.v_lin.weight', 'distilbert.transformer.layer.2.ffn.lin1.bias', 'distilbert.transformer.layer.3.output_layer_norm.weight', 'distilbert.transformer.layer.2.output_layer_norm.weight', 'distilbert.embeddings.position_embeddings.weight', 'distilbert.transformer.layer.1.attention.k_lin.bias', 'distilbert.transformer.layer.1.output_layer_norm.weight', 'distilbert.transformer.layer.3.ffn.lin1.bias', 'distilbert.transformer.layer.4.ffn.lin2.weight', 'distilbert.transformer.layer.1.attention.q_lin.weight', 'distilbert.transformer.layer.3.attention.out_lin.weight', 'distilbert.transformer.layer.5.attention.k_lin.weight', 'distilbert.transformer.layer.2.ffn.lin2.bias', 'distilbert.transformer.layer.4.attention.out_lin.bias', 'distilbert.transformer.layer.2.attention.v_lin.bias', 'distilbert.transformer.layer.4.sa_layer_norm.weight', 'distilbert.transformer.layer.2.attention.q_lin.bias', 'distilbert.transformer.layer.0.attention.k_lin.bias', 'distilbert.transformer.layer.2.attention.out_lin.bias', 'distilbert.transformer.layer.4.ffn.lin2.bias', 'distilbert.transformer.layer.2.attention.q_lin.weight', 'distilbert.embeddings.LayerNorm.bias', 'distilbert.transformer.layer.3.attention.q_lin.bias', 'distilbert.transformer.layer.0.output_layer_norm.bias', 'distilbert.transformer.layer.0.attention.v_lin.bias', 'distilbert.transformer.layer.3.attention.out_lin.bias', 'distilbert.transformer.layer.4.attention.v_lin.bias', 'distilbert.transformer.layer.1.attention.q_lin.bias', 'distilbert.transformer.layer.0.ffn.lin2.bias', 'distilbert.transformer.layer.3.ffn.lin2.weight', 'distilbert.transformer.layer.2.sa_layer_norm.weight', 'distilbert.transformer.layer.5.attention.out_lin.weight', 'distilbert.embeddings.LayerNorm.weight', 'distilbert.transformer.layer.5.ffn.lin2.weight', 'distilbert.transformer.layer.3.ffn.lin1.weight', 'distilbert.transformer.layer.5.output_layer_norm.weight', 'distilbert.transformer.layer.1.ffn.lin1.weight', 'distilbert.transformer.layer.3.attention.k_lin.weight', 'distilbert.transformer.layer.5.sa_layer_norm.bias', 'distilbert.transformer.layer.5.ffn.lin1.weight', 'distilbert.transformer.layer.4.output_layer_norm.bias', 'distilbert.transformer.layer.3.attention.v_lin.weight', 'distilbert.transformer.layer.5.ffn.lin1.bias', 'distilbert.transformer.layer.5.output_layer_norm.bias', 'distilbert.transformer.layer.0.attention.out_lin.weight', 'distilbert.transformer.layer.1.ffn.lin2.weight', 'distilbert.transformer.layer.3.attention.q_lin.weight', 'distilbert.transformer.layer.1.sa_layer_norm.bias', 'distilbert.transformer.layer.2.ffn.lin2.weight', 'distilbert.transformer.layer.4.attention.k_lin.weight', 'distilbert.transformer.layer.5.ffn.lin2.bias', 'distilbert.transformer.layer.1.ffn.lin1.bias', 'distilbert.transformer.layer.2.sa_layer_norm.bias', 'vocab_projector.bias', 'distilbert.transformer.layer.0.attention.out_lin.bias', 'distilbert.transformer.layer.1.attention.v_lin.bias', 'distilbert.transformer.layer.4.sa_layer_norm.bias', 'distilbert.transformer.layer.0.attention.q_lin.bias', 'distilbert.transformer.layer.4.attention.out_lin.weight', 'distilbert.transformer.layer.1.output_layer_norm.bias', 'distilbert.transformer.layer.4.attention.v_lin.weight', 'distilbert.transformer.layer.2.output_layer_norm.bias', 'distilbert.transformer.layer.0.attention.k_lin.weight', 'vocab_layer_norm.bias', 'distilbert.transformer.layer.3.output_layer_norm.bias', 'distilbert.transformer.layer.5.attention.v_lin.bias', 'vocab_transform.weight', 'distilbert.transformer.layer.4.ffn.lin1.weight']\n",
            "- This IS expected if you are initializing BertForSequenceClassification from the checkpoint of a model trained on another task or with another architecture (e.g. initializing a BertForSequenceClassification model from a BertForPreTraining model).\n",
            "- This IS NOT expected if you are initializing BertForSequenceClassification from the checkpoint of a model that you expect to be exactly identical (initializing a BertForSequenceClassification model from a BertForSequenceClassification model).\n",
            "Some weights of BertForSequenceClassification were not initialized from the model checkpoint at distilbert-base-german-cased and are newly initialized: ['encoder.layer.2.attention.output.dense.weight', 'encoder.layer.9.attention.self.query.bias', 'encoder.layer.6.intermediate.dense.bias', 'encoder.layer.8.attention.self.value.weight', 'encoder.layer.3.attention.output.LayerNorm.bias', 'encoder.layer.2.output.dense.bias', 'encoder.layer.11.attention.self.value.weight', 'encoder.layer.6.attention.output.dense.weight', 'encoder.layer.8.output.dense.weight', 'encoder.layer.5.attention.self.key.bias', 'encoder.layer.11.attention.output.LayerNorm.weight', 'encoder.layer.0.attention.self.query.bias', 'encoder.layer.4.attention.self.query.weight', 'encoder.layer.3.attention.self.key.bias', 'encoder.layer.7.attention.output.dense.weight', 'encoder.layer.0.attention.output.LayerNorm.bias', 'encoder.layer.9.output.dense.bias', 'encoder.layer.10.output.LayerNorm.weight', 'embeddings.position_embeddings.weight', 'classifier.bias', 'encoder.layer.0.attention.self.key.weight', 'encoder.layer.11.attention.output.LayerNorm.bias', 'pooler.dense.weight', 'encoder.layer.8.attention.output.LayerNorm.weight', 'encoder.layer.2.attention.self.query.bias', 'encoder.layer.8.attention.output.dense.bias', 'embeddings.LayerNorm.weight', 'encoder.layer.6.attention.self.key.weight', 'encoder.layer.11.attention.self.value.bias', 'encoder.layer.1.attention.self.key.bias', 'encoder.layer.6.attention.output.LayerNorm.bias', 'encoder.layer.5.attention.self.query.bias', 'encoder.layer.3.output.LayerNorm.weight', 'encoder.layer.5.attention.output.dense.weight', 'encoder.layer.2.intermediate.dense.bias', 'encoder.layer.3.output.LayerNorm.bias', 'encoder.layer.4.output.LayerNorm.weight', 'encoder.layer.0.attention.output.dense.weight', 'encoder.layer.4.attention.output.dense.weight', 'encoder.layer.9.output.LayerNorm.weight', 'encoder.layer.5.intermediate.dense.weight', 'encoder.layer.0.attention.output.LayerNorm.weight', 'encoder.layer.10.output.LayerNorm.bias', 'encoder.layer.8.output.LayerNorm.bias', 'encoder.layer.0.attention.output.dense.bias', 'encoder.layer.1.attention.output.dense.bias', 'encoder.layer.9.attention.self.key.bias', 'encoder.layer.6.attention.self.query.weight', 'encoder.layer.5.attention.output.dense.bias', 'classifier.weight', 'encoder.layer.6.attention.self.key.bias', 'encoder.layer.9.attention.output.LayerNorm.weight', 'encoder.layer.9.output.LayerNorm.bias', 'encoder.layer.9.attention.self.value.bias', 'encoder.layer.1.attention.output.LayerNorm.weight', 'encoder.layer.1.intermediate.dense.bias', 'encoder.layer.10.attention.output.LayerNorm.bias', 'encoder.layer.11.attention.output.dense.bias', 'encoder.layer.2.attention.self.value.weight', 'encoder.layer.10.output.dense.weight', 'encoder.layer.7.attention.self.value.bias', 'encoder.layer.1.output.LayerNorm.weight', 'encoder.layer.0.intermediate.dense.bias', 'encoder.layer.4.attention.output.LayerNorm.bias', 'encoder.layer.7.output.dense.bias', 'encoder.layer.1.attention.self.key.weight', 'encoder.layer.7.attention.self.query.bias', 'encoder.layer.7.attention.self.key.bias', 'encoder.layer.3.intermediate.dense.weight', 'encoder.layer.9.attention.self.key.weight', 'encoder.layer.11.attention.output.dense.weight', 'encoder.layer.0.output.dense.weight', 'encoder.layer.5.attention.output.LayerNorm.bias', 'encoder.layer.5.attention.self.value.weight', 'encoder.layer.3.attention.self.query.bias', 'encoder.layer.3.attention.output.LayerNorm.weight', 'embeddings.LayerNorm.bias', 'encoder.layer.11.output.dense.weight', 'encoder.layer.6.output.LayerNorm.weight', 'encoder.layer.7.intermediate.dense.weight', 'encoder.layer.0.attention.self.value.weight', 'encoder.layer.1.attention.self.value.weight', 'encoder.layer.0.attention.self.key.bias', 'encoder.layer.8.attention.self.key.bias', 'pooler.dense.bias', 'encoder.layer.0.intermediate.dense.weight', 'encoder.layer.10.attention.output.dense.weight', 'encoder.layer.10.attention.self.value.bias', 'encoder.layer.9.output.dense.weight', 'encoder.layer.8.attention.output.dense.weight', 'encoder.layer.10.attention.output.LayerNorm.weight', 'encoder.layer.6.attention.output.LayerNorm.weight', 'encoder.layer.4.attention.self.key.bias', 'encoder.layer.8.intermediate.dense.bias', 'encoder.layer.6.attention.self.query.bias', 'encoder.layer.9.intermediate.dense.weight', 'encoder.layer.11.output.LayerNorm.weight', 'encoder.layer.9.attention.output.dense.weight', 'encoder.layer.10.intermediate.dense.weight', 'encoder.layer.4.output.LayerNorm.bias', 'encoder.layer.11.output.LayerNorm.bias', 'encoder.layer.4.intermediate.dense.weight', 'encoder.layer.5.output.LayerNorm.bias', 'encoder.layer.3.attention.self.value.bias', 'encoder.layer.7.output.LayerNorm.weight', 'encoder.layer.4.output.dense.bias', 'encoder.layer.10.output.dense.bias', 'encoder.layer.2.attention.output.LayerNorm.bias', 'encoder.layer.4.attention.output.dense.bias', 'encoder.layer.0.output.LayerNorm.bias', 'encoder.layer.6.intermediate.dense.weight', 'encoder.layer.8.attention.output.LayerNorm.bias', 'encoder.layer.7.attention.self.value.weight', 'encoder.layer.9.intermediate.dense.bias', 'encoder.layer.0.attention.self.value.bias', 'encoder.layer.11.intermediate.dense.bias', 'encoder.layer.8.attention.self.value.bias', 'encoder.layer.2.attention.self.value.bias', 'encoder.layer.9.attention.output.dense.bias', 'encoder.layer.6.attention.self.value.weight', 'encoder.layer.3.output.dense.bias', 'encoder.layer.11.attention.self.key.weight', 'encoder.layer.1.attention.self.value.bias', 'encoder.layer.6.output.LayerNorm.bias', 'encoder.layer.6.output.dense.bias', 'encoder.layer.6.attention.output.dense.bias', 'encoder.layer.7.output.LayerNorm.bias', 'encoder.layer.1.output.dense.weight', 'encoder.layer.2.attention.output.dense.bias', 'encoder.layer.0.output.LayerNorm.weight', 'encoder.layer.9.attention.self.value.weight', 'encoder.layer.1.intermediate.dense.weight', 'encoder.layer.0.attention.self.query.weight', 'encoder.layer.3.attention.self.query.weight', 'encoder.layer.0.output.dense.bias', 'encoder.layer.3.intermediate.dense.bias', 'encoder.layer.5.output.dense.weight', 'encoder.layer.5.intermediate.dense.bias', 'encoder.layer.7.attention.output.dense.bias', 'encoder.layer.5.attention.output.LayerNorm.weight', 'encoder.layer.5.attention.self.query.weight', 'encoder.layer.8.attention.self.query.bias', 'encoder.layer.1.output.LayerNorm.bias', 'embeddings.word_embeddings.weight', 'encoder.layer.3.output.dense.weight', 'encoder.layer.2.attention.self.key.bias', 'encoder.layer.11.attention.self.key.bias', 'encoder.layer.2.attention.output.LayerNorm.weight', 'encoder.layer.3.attention.output.dense.bias', 'encoder.layer.5.attention.self.key.weight', 'encoder.layer.11.intermediate.dense.weight', 'encoder.layer.8.attention.self.key.weight', 'encoder.layer.1.attention.output.dense.weight', 'encoder.layer.8.output.dense.bias', 'encoder.layer.7.attention.output.LayerNorm.weight', 'encoder.layer.10.intermediate.dense.bias', 'encoder.layer.4.attention.self.query.bias', 'encoder.layer.11.attention.self.query.weight', 'encoder.layer.7.attention.self.query.weight', 'encoder.layer.1.attention.self.query.bias', 'encoder.layer.4.attention.self.value.weight', 'embeddings.token_type_embeddings.weight', 'encoder.layer.4.attention.self.value.bias', 'encoder.layer.10.attention.output.dense.bias', 'encoder.layer.3.attention.self.value.weight', 'encoder.layer.8.attention.self.query.weight', 'encoder.layer.4.intermediate.dense.bias', 'encoder.layer.11.output.dense.bias', 'encoder.layer.6.attention.self.value.bias', 'encoder.layer.7.attention.self.key.weight', 'encoder.layer.5.output.LayerNorm.weight', 'encoder.layer.10.attention.self.key.bias', 'encoder.layer.10.attention.self.query.bias', 'encoder.layer.7.intermediate.dense.bias', 'encoder.layer.6.output.dense.weight', 'encoder.layer.9.attention.self.query.weight', 'encoder.layer.10.attention.self.value.weight', 'encoder.layer.3.attention.self.key.weight', 'encoder.layer.11.attention.self.query.bias', 'encoder.layer.4.attention.output.LayerNorm.weight', 'encoder.layer.2.output.LayerNorm.bias', 'encoder.layer.7.output.dense.weight', 'encoder.layer.10.attention.self.key.weight', 'encoder.layer.2.attention.self.key.weight', 'encoder.layer.7.attention.output.LayerNorm.bias', 'encoder.layer.1.attention.self.query.weight', 'encoder.layer.2.intermediate.dense.weight', 'encoder.layer.4.attention.self.key.weight', 'encoder.layer.2.attention.self.query.weight', 'encoder.layer.9.attention.output.LayerNorm.bias', 'encoder.layer.1.attention.output.LayerNorm.bias', 'encoder.layer.2.output.LayerNorm.weight', 'encoder.layer.8.output.LayerNorm.weight', 'encoder.layer.4.output.dense.weight', 'encoder.layer.2.output.dense.weight', 'encoder.layer.5.output.dense.bias', 'encoder.layer.8.intermediate.dense.weight', 'encoder.layer.3.attention.output.dense.weight', 'encoder.layer.1.output.dense.bias', 'encoder.layer.5.attention.self.value.bias', 'encoder.layer.10.attention.self.query.weight']\n",
            "You should probably TRAIN this model on a down-stream task to be able to use it for predictions and inference.\n"
          ],
          "name": "stderr"
        },
        {
          "output_type": "display_data",
          "data": {
            "application/vnd.jupyter.widget-view+json": {
              "model_id": "bc314c396c2c4f6e9e3b39901aeb0e06",
              "version_minor": 0,
              "version_major": 2
            },
            "text/plain": [
              "Downloading:   0%|          | 0.00/240k [00:00<?, ?B/s]"
            ]
          },
          "metadata": {
            "tags": []
          }
        },
        {
          "output_type": "display_data",
          "data": {
            "application/vnd.jupyter.widget-view+json": {
              "model_id": "865d9e6bb4a040069adc541e50116927",
              "version_minor": 0,
              "version_major": 2
            },
            "text/plain": [
              "Downloading:   0%|          | 0.00/479k [00:00<?, ?B/s]"
            ]
          },
          "metadata": {
            "tags": []
          }
        },
        {
          "output_type": "display_data",
          "data": {
            "application/vnd.jupyter.widget-view+json": {
              "model_id": "3386116507e046c1b7c6615208be359f",
              "version_minor": 0,
              "version_major": 2
            },
            "text/plain": [
              "Downloading:   0%|          | 0.00/29.0 [00:00<?, ?B/s]"
            ]
          },
          "metadata": {
            "tags": []
          }
        }
      ]
    },
    {
      "cell_type": "markdown",
      "metadata": {
        "id": "OghYb9Q-HXHI"
      },
      "source": [
        "The model wants a dataframe instead of a np.array, hence we make a pandas dataframe from our arrays."
      ]
    },
    {
      "cell_type": "code",
      "metadata": {
        "id": "6Y2EvDEt65nx"
      },
      "source": [
        "# Creating pandas dataframe from numpy array\n",
        "train_data = pd.DataFrame({'Mails_Combined': xTrainArray, 'a4s_combined_i2b': yTrainArray[:,1]})\n",
        "val_data = pd.DataFrame({'Mails_Combined': xValArray, 'a4s_combined_i2b': yValArray[:,1]})\n",
        "test_data = pd.DataFrame({'Mails_Combined': xTestArray, 'a4s_combined_i2b': yTestArray[:,1]})\n"
      ],
      "execution_count": 78,
      "outputs": []
    },
    {
      "cell_type": "code",
      "metadata": {
        "id": "J86qD4EA7Q1g"
      },
      "source": [
        "test_data.head()"
      ],
      "execution_count": null,
      "outputs": []
    },
    {
      "cell_type": "markdown",
      "metadata": {
        "id": "rkXsgFMIHfWh"
      },
      "source": [
        "The model is trained with our training data and evaluated with the validation set."
      ]
    },
    {
      "cell_type": "code",
      "metadata": {
        "id": "o8-R1F1U2LLu",
        "colab": {
          "base_uri": "https://localhost:8080/",
          "height": 455,
          "referenced_widgets": [
            "db1e1f52f3294d00bb2b017fd3c7c1e2",
            "01ae0ad4215e422b87e60da41f0c18ea",
            "1e26313c674b439990660942db3a8bf1",
            "e54a3ccd40d24af5b9d9b2198c3ded13",
            "8c8bde4fa1ae4637bc45c6680485269f",
            "7f7a4a3aec9f4ccc911c7504ae5be60a",
            "1e430b8d04834f12aaf532e137bac5f0",
            "aa18fbc5acba49af863f82d83fe81276",
            "17bb94d8c1214ddfaad939e68e3e47cf",
            "5214c7f848574786a266cda961dec97f",
            "a3e46c3dfd024a4f94c6ba5325874ada",
            "c4b4323e8b6a446b9e08eb52cd68f8ee",
            "b5d540353c9b41869801bb0ab2841ae7",
            "b681ab920b304ea5987ac5191873f3b0",
            "90b7dd5e91954c0798817e72b5d1ec56",
            "8b977c0b6c5940169b40f6bb4c4fd525",
            "674e2054e46d480fa22e6f24e29655b5",
            "db7b09a37cba439a93df8f9f0a34a4f8",
            "5fd5f4e061f443c7bc71e09a67e8515d",
            "aaec0473e8cf4c6ba8c56245f4332c5e",
            "662c10aff6374194aaf9f42a933f710f",
            "d78cbac61cdf41e69d87080c17d46239",
            "b5b6bd2e90f8440ba061c1ec6de88604",
            "56c3cd4ac066487cb0467324cd604814",
            "9d9fde4c8f354c03b9f4c387d8ea9584",
            "982778139b78453e9c04146dc4e0f4f5",
            "44eb6ad1a6984cdfa42a9e7dfd8d77d9",
            "f60d9f4668a8420fa129660cf654a02a",
            "41739f30123c49498c4f2534a0daf3f8",
            "262d302327024210ad6b85daa3aa0780",
            "fbc1138303eb4886ac7da1cd1d79030e",
            "6d111b0e076b44239d7da705c2c13e2d",
            "7221483575d2468da5c4b20f422388c6",
            "05e23f8709b2414a91f4dda4aa944438",
            "f6283e32c895441bb7a363821964ca94",
            "2afb42b9a592455db3009773809e3a60",
            "8766cf98684844419f71edd6ce900f45",
            "5442a47566214bd6b34dbd18a9753b17",
            "f48615f6291e433cbe0993b4992f4493",
            "bde80de0ebfe4b46b7e4c826d3642970",
            "4f68f3a82c2345a0b5b41fb2adea51f2",
            "19b2aa7c25f8471899a8dc08f2c9aaa2",
            "4c3ed786e4ec4e73bdcb16cf0b8e4e44",
            "a9b2bdeee7e44043876d3fb5288ab0e5",
            "43f775a975884913ba1055f0911975c0",
            "90d173728f24407c849955b2b97b33e8",
            "1dfedb7f9d0a4ef4b4ac95ea04ffff6c",
            "7d5c13e20b944b4c9b2e7885c36577bf",
            "a7230bdd78664bc59e3237632bf244e2",
            "3ac7df33e5b145f88003f4b34aa8dd5d",
            "56fe29d715d84fefa58b0aaaf68f30de",
            "414f6f7bef7e4008855703954272c346",
            "5f243800d7384e8d9a6930a4e904cc5f",
            "ff9e91c423b64dd0a2e86c016ea8cf28",
            "90bba462ff4c4b7783ff83c7b428a853",
            "844b70149179430ea20c0e00de802e68",
            "a52ed624c2114887bd63481dc4ac9888",
            "76473bd6b8e244dcb45000294dea5d97",
            "afb5462a274045b0a58e69edec6efb54",
            "aa406787f6e84b70987ad23cd2301848",
            "2017880ed796487d9411dee5f25925f5",
            "5659d4b2f08f47ad86136860c8a71d51",
            "fae450d5445e4ae8802573f78607ff14",
            "e9828aeaf15346d7b861e5f75c3010a3",
            "1020143f96704fbbaa3feaca60538aeb",
            "a5dc21463ec6470389d8d39e397c411d",
            "810f388f7c3947188b0ed8cc8eb15d39",
            "a161ad4110d64e5099d7af6ab3475fe8",
            "2393023480254b5c9f0f814a5ff46eda",
            "203f2790e31948aeba76b2a3aba72e30",
            "0ec4027a1e3d4d5f966a560fdb8fdb88",
            "2209b60d56114ca39d22bdde2372bfb9",
            "a44620ba89f54ff6936c7c754e3bcfb2",
            "44ca8bea7511444db745256f9c2983ad",
            "c5960ebf69fd4e95b457618fec88f257",
            "c3bfde3c5e0942c7bea6af9638368280",
            "93048fd60379405898e897cbec70ceca",
            "4880060f30e3405d9b3ea7aa356f978f",
            "5c0b9dd461434d5cb6e660dbbe99b202",
            "2c34836c82344934b9bbf454cb130b88",
            "9ed9e53a78a94aba873b98efec2391d8",
            "05ad17ee458c4c9b887f0b9a2edcb45c",
            "1790120fbda74e85a2d58bd38ba38c53",
            "fc4fde58dda447c684fc8b8068a18a88",
            "7a25be5384f441f1ae3229a9c94857f4",
            "510fed2d4d2245dfa0d0be568300edfe",
            "b8f4874902be4419b1e5a647cbc33789",
            "5da7bf792d2e4bd1801f4b27078e0446",
            "10d9c0a258774ae19e91585b82da26d1",
            "e5cc90ec55564a469c458d62cce2d11f",
            "9faf9826885144b2bcd91f96b59309e1",
            "5cafaa62a4d94f92aa6f1e4ced672471",
            "2678490cd7254f299c2a6630789ce0eb",
            "e17603f15bc74856afad419dee7b777b",
            "3f6f88d150af44a39171780147068035",
            "2f8108299b1943a895b61e4144a55709",
            "dad14697f3f940ebb327cdf8ae4f6a97",
            "1e80f94a30364bb69a95e52f75cefb24",
            "3e47b56b1f5542dc906cc01cf0e92702",
            "523ab356b934421ca1de5dbc2f15ef3e",
            "aa86545e694e4558a1b57542a3e5a8e4",
            "cab60014fa8b423d81e31ee225911cb5",
            "9a79e8b7c2044135b08caa101f0e53c4",
            "cc0cd482464949098ff492062c5e2e04",
            "8c787ad792fb4cfd8a5e745dd199e2ce",
            "29287850ae554c9a89e65054d965042d",
            "ff1fcf465a5b4d09a181b151b90bb7d5",
            "f1905e9f2a0b4a58b1b0118a56889369",
            "0598676348034193beb64f029d312f4c",
            "c6026705f7894c97980ed53d9f117be5",
            "e303ea22010b4d31bcafbaa19499ae5b",
            "9ad5d000104f4ff8bd6d7c1fd628b81d",
            "aaf4b84f1027467eae50234d8867678a",
            "4132d1b723d84c66a633e0b2a78befc0",
            "1300e9f65425467791bf938bbc9b73a5",
            "cb09c2e7de0546308267732fa3fc03d6",
            "992853ec0b77403199e8097524379a1e",
            "d05227967e7f481eb5879cd5d27e71db",
            "33034e20e43a4b80958d360214871d0c",
            "3da5308b485b42fb9211c6d42b86d218",
            "5612d41615874c08b82cd4b19ad5d7bc",
            "d2e20cb7e09e4d9098e10fb1af8f002b",
            "19419306144e4a0a9883becdc1bbe428",
            "fabfdc9e9c7b4a12aec4dc7148af3741",
            "4d48ebeee22347cb8bbdf660df5eb4bf",
            "1fba11078f28463a98d9b3418b27c674",
            "f085d659c0544ff9babebb85958b0324",
            "3ec9502a842545bf9061282d25e011bc",
            "208367cb3bfd40e28db97e4be21ca11e",
            "d8bc0944c3a944c3a0489632d7f780e6",
            "7e032ba728904c549cf2d4abdb9318e5",
            "0240c95282214e3681db46c888c9a2e3"
          ]
        },
        "outputId": "8d39d2ce-c4a9-4260-e706-4d3eba98320a"
      },
      "source": [
        "# Train the model\n",
        "model.train_model(train_df=train_data, eval_df=val_data)\n"
      ],
      "execution_count": 119,
      "outputs": [
        {
          "output_type": "stream",
          "text": [
            "/usr/local/lib/python3.7/dist-packages/simpletransformers/classification/classification_model.py:610: UserWarning: Dataframe headers not specified. Falling back to using column 0 as text and column 1 as labels.\n",
            "  \"Dataframe headers not specified. Falling back to using column 0 as text and column 1 as labels.\"\n"
          ],
          "name": "stderr"
        },
        {
          "output_type": "display_data",
          "data": {
            "application/vnd.jupyter.widget-view+json": {
              "model_id": "db1e1f52f3294d00bb2b017fd3c7c1e2",
              "version_minor": 0,
              "version_major": 2
            },
            "text/plain": [
              "  0%|          | 0/1252 [00:00<?, ?it/s]"
            ]
          },
          "metadata": {
            "tags": []
          }
        },
        {
          "output_type": "display_data",
          "data": {
            "application/vnd.jupyter.widget-view+json": {
              "model_id": "c4b4323e8b6a446b9e08eb52cd68f8ee",
              "version_minor": 0,
              "version_major": 2
            },
            "text/plain": [
              "Epoch:   0%|          | 0/10 [00:00<?, ?it/s]"
            ]
          },
          "metadata": {
            "tags": []
          }
        },
        {
          "output_type": "display_data",
          "data": {
            "application/vnd.jupyter.widget-view+json": {
              "model_id": "b5b6bd2e90f8440ba061c1ec6de88604",
              "version_minor": 0,
              "version_major": 2
            },
            "text/plain": [
              "Running Epoch 0 of 10:   0%|          | 0/157 [00:00<?, ?it/s]"
            ]
          },
          "metadata": {
            "tags": []
          }
        },
        {
          "output_type": "display_data",
          "data": {
            "application/vnd.jupyter.widget-view+json": {
              "model_id": "05e23f8709b2414a91f4dda4aa944438",
              "version_minor": 0,
              "version_major": 2
            },
            "text/plain": [
              "Running Epoch 1 of 10:   0%|          | 0/157 [00:00<?, ?it/s]"
            ]
          },
          "metadata": {
            "tags": []
          }
        },
        {
          "output_type": "display_data",
          "data": {
            "application/vnd.jupyter.widget-view+json": {
              "model_id": "43f775a975884913ba1055f0911975c0",
              "version_minor": 0,
              "version_major": 2
            },
            "text/plain": [
              "Running Epoch 2 of 10:   0%|          | 0/157 [00:00<?, ?it/s]"
            ]
          },
          "metadata": {
            "tags": []
          }
        },
        {
          "output_type": "display_data",
          "data": {
            "application/vnd.jupyter.widget-view+json": {
              "model_id": "844b70149179430ea20c0e00de802e68",
              "version_minor": 0,
              "version_major": 2
            },
            "text/plain": [
              "Running Epoch 3 of 10:   0%|          | 0/157 [00:00<?, ?it/s]"
            ]
          },
          "metadata": {
            "tags": []
          }
        },
        {
          "output_type": "display_data",
          "data": {
            "application/vnd.jupyter.widget-view+json": {
              "model_id": "810f388f7c3947188b0ed8cc8eb15d39",
              "version_minor": 0,
              "version_major": 2
            },
            "text/plain": [
              "Running Epoch 4 of 10:   0%|          | 0/157 [00:00<?, ?it/s]"
            ]
          },
          "metadata": {
            "tags": []
          }
        },
        {
          "output_type": "display_data",
          "data": {
            "application/vnd.jupyter.widget-view+json": {
              "model_id": "4880060f30e3405d9b3ea7aa356f978f",
              "version_minor": 0,
              "version_major": 2
            },
            "text/plain": [
              "Running Epoch 5 of 10:   0%|          | 0/157 [00:00<?, ?it/s]"
            ]
          },
          "metadata": {
            "tags": []
          }
        },
        {
          "output_type": "display_data",
          "data": {
            "application/vnd.jupyter.widget-view+json": {
              "model_id": "10d9c0a258774ae19e91585b82da26d1",
              "version_minor": 0,
              "version_major": 2
            },
            "text/plain": [
              "Running Epoch 6 of 10:   0%|          | 0/157 [00:00<?, ?it/s]"
            ]
          },
          "metadata": {
            "tags": []
          }
        },
        {
          "output_type": "display_data",
          "data": {
            "application/vnd.jupyter.widget-view+json": {
              "model_id": "523ab356b934421ca1de5dbc2f15ef3e",
              "version_minor": 0,
              "version_major": 2
            },
            "text/plain": [
              "Running Epoch 7 of 10:   0%|          | 0/157 [00:00<?, ?it/s]"
            ]
          },
          "metadata": {
            "tags": []
          }
        },
        {
          "output_type": "display_data",
          "data": {
            "application/vnd.jupyter.widget-view+json": {
              "model_id": "e303ea22010b4d31bcafbaa19499ae5b",
              "version_minor": 0,
              "version_major": 2
            },
            "text/plain": [
              "Running Epoch 8 of 10:   0%|          | 0/157 [00:00<?, ?it/s]"
            ]
          },
          "metadata": {
            "tags": []
          }
        },
        {
          "output_type": "display_data",
          "data": {
            "application/vnd.jupyter.widget-view+json": {
              "model_id": "d2e20cb7e09e4d9098e10fb1af8f002b",
              "version_minor": 0,
              "version_major": 2
            },
            "text/plain": [
              "Running Epoch 9 of 10:   0%|          | 0/157 [00:00<?, ?it/s]"
            ]
          },
          "metadata": {
            "tags": []
          }
        },
        {
          "output_type": "execute_result",
          "data": {
            "text/plain": [
              "(1570, 0.07590062036024219)"
            ]
          },
          "metadata": {
            "tags": []
          },
          "execution_count": 119
        }
      ]
    },
    {
      "cell_type": "markdown",
      "metadata": {
        "id": "0IRIDV8YHlkq"
      },
      "source": [
        "Check the metrics to see, how the model performs."
      ]
    },
    {
      "cell_type": "code",
      "metadata": {
        "id": "fjLyvDN82yW2",
        "colab": {
          "base_uri": "https://localhost:8080/",
          "height": 295,
          "referenced_widgets": [
            "92fc58a5c54a40698e4e741bdf5bd574",
            "c4f4a987acc54add91f8a528af0e1539",
            "f599317cdf834acaae43830f870cfd21",
            "56db444041bc4e6ea17aaa2e01008755",
            "1be756eae201413db8aee1f5c8a59c11",
            "92495dabcc08469f8b38f7144cf2121c",
            "d147dd2d6393415caaf57be7c87aced9",
            "1520c72e69e042fabff435a9b2c56c00",
            "dce04390082f4e88866524a58d356e14",
            "a46a74a31f684528affe01778e11a585",
            "060ace75d887494082373277dae1c787",
            "6e4640d0c5044ec4bdd3ede0966018ff",
            "998e5d8039f04ece9ed2cf39af22bbef",
            "4b190feb9d3c478fb752271e92c31df1",
            "e252365cef9f44be907e875436a18c6a",
            "1545796a63f44e6f87f96aff22661ab7",
            "122ecac1b39a441fbbed282968f23d23",
            "c0353d69a77a40a6933276b1cc0e45bf",
            "a300c6bd9101410ab643587a3cb1b6a0",
            "06d96621aa52470abd542ae26e99cccd",
            "a44839ecaa0549d69276bb89279019ec",
            "83a31269e56f4393aa946380c5b6cffa"
          ]
        },
        "outputId": "bf9d3a2a-8d3a-4ce4-a464-de411df98a0d"
      },
      "source": [
        "from sklearn.metrics import f1_score, accuracy_score\n",
        "\n",
        "\n",
        "def f1_multiclass(labels, preds):\n",
        "    return f1_score(labels, preds, average='micro')\n",
        "    \n",
        "result, model_outputs, wrong_predictions = model.eval_model(eval_df=val_data, f1=f1_score, acc=accuracy_score) #eval_df=val_data, f1=f1_score, acc=accuracy_score, verbose=2\n",
        "\n",
        "result"
      ],
      "execution_count": 120,
      "outputs": [
        {
          "output_type": "stream",
          "text": [
            "/usr/local/lib/python3.7/dist-packages/simpletransformers/classification/classification_model.py:1393: UserWarning: Dataframe headers not specified. Falling back to using column 0 as text and column 1 as labels.\n",
            "  \"Dataframe headers not specified. Falling back to using column 0 as text and column 1 as labels.\"\n"
          ],
          "name": "stderr"
        },
        {
          "output_type": "display_data",
          "data": {
            "application/vnd.jupyter.widget-view+json": {
              "model_id": "92fc58a5c54a40698e4e741bdf5bd574",
              "version_minor": 0,
              "version_major": 2
            },
            "text/plain": [
              "  0%|          | 0/418 [00:00<?, ?it/s]"
            ]
          },
          "metadata": {
            "tags": []
          }
        },
        {
          "output_type": "display_data",
          "data": {
            "application/vnd.jupyter.widget-view+json": {
              "model_id": "6e4640d0c5044ec4bdd3ede0966018ff",
              "version_minor": 0,
              "version_major": 2
            },
            "text/plain": [
              "Running Evaluation:   0%|          | 0/53 [00:00<?, ?it/s]"
            ]
          },
          "metadata": {
            "tags": []
          }
        },
        {
          "output_type": "execute_result",
          "data": {
            "text/plain": [
              "{'acc': 0.9210526315789473,\n",
              " 'auprc': 0.9642324339682933,\n",
              " 'auroc': 0.7353797717434081,\n",
              " 'eval_loss': 0.5817217564244341,\n",
              " 'f1': 0.9581749049429659,\n",
              " 'fn': 7,\n",
              " 'fp': 26,\n",
              " 'mcc': 0.2906689678051038,\n",
              " 'tn': 7,\n",
              " 'tp': 378}"
            ]
          },
          "metadata": {
            "tags": []
          },
          "execution_count": 120
        }
      ]
    },
    {
      "cell_type": "code",
      "metadata": {
        "id": "px0sE1MrOPgj",
        "colab": {
          "base_uri": "https://localhost:8080/"
        },
        "outputId": "0246046a-bdaf-46ca-fb25-1a4b4c17fec5"
      },
      "source": [
        "model_outputs"
      ],
      "execution_count": 121,
      "outputs": [
        {
          "output_type": "execute_result",
          "data": {
            "text/plain": [
              "array([[-3.81103897,  4.48985052],\n",
              "       [ 2.08378887, -2.54024076],\n",
              "       [-3.80508685,  4.48815918],\n",
              "       [-3.80635118,  4.48851109],\n",
              "       [-3.81004858,  4.48963737],\n",
              "       [-3.81238389,  4.49018049],\n",
              "       [-3.80837965,  4.48916817],\n",
              "       [-3.8003087 ,  4.48636627],\n",
              "       [-3.8026154 ,  4.48725176],\n",
              "       [-3.80914164,  4.48932171],\n",
              "       [-3.80440378,  4.48783827],\n",
              "       [-3.80778027,  4.48899651],\n",
              "       [-3.8138938 ,  4.49060345],\n",
              "       [-3.81139994,  4.4899168 ],\n",
              "       [-3.808146  ,  4.4891324 ],\n",
              "       [-3.80316114,  4.48740292],\n",
              "       [-3.79373407,  4.48383045],\n",
              "       [-3.81287503,  4.49038315],\n",
              "       [-3.80132341,  4.48672295],\n",
              "       [-3.79967308,  4.486166  ],\n",
              "       [-3.78656983,  4.48066235],\n",
              "       [-3.81300855,  4.49041462],\n",
              "       [-3.80608034,  4.48837519],\n",
              "       [-3.81112623,  4.48988152],\n",
              "       [-3.81154776,  4.4900465 ],\n",
              "       [-3.80121064,  4.48675108],\n",
              "       [-3.81164122,  4.48999929],\n",
              "       [-3.8112402 ,  4.4899559 ],\n",
              "       [-3.7320838 ,  4.44948483],\n",
              "       [-3.79581833,  4.48482656],\n",
              "       [-3.80822945,  4.48906517],\n",
              "       [-3.80715513,  4.48881149],\n",
              "       [-3.80885124,  4.48924446],\n",
              "       [-3.80857849,  4.48918056],\n",
              "       [-3.80500078,  4.48809433],\n",
              "       [-3.80724978,  4.48883629],\n",
              "       [-3.8121953 ,  4.49013424],\n",
              "       [-3.80519867,  4.48814774],\n",
              "       [-3.80778551,  4.48897362],\n",
              "       [-3.80910969,  4.48933792],\n",
              "       [-3.81197071,  4.49014997],\n",
              "       [-0.75698179,  1.29482281],\n",
              "       [-3.81011653,  4.48969746],\n",
              "       [-3.80948186,  4.48945999],\n",
              "       [-3.79819369,  4.48560572],\n",
              "       [-3.80273843,  4.48725224],\n",
              "       [-3.8106997 ,  4.48976994],\n",
              "       [-3.79885244,  4.48595905],\n",
              "       [-3.80694675,  4.48872805],\n",
              "       [-3.80699492,  4.48873472],\n",
              "       [-3.81477594,  4.49075842],\n",
              "       [-3.79949522,  4.48638153],\n",
              "       [-3.80818605,  4.48909283],\n",
              "       [-3.80605865,  4.4884119 ],\n",
              "       [-3.77846432,  4.47746944],\n",
              "       [-3.80976129,  4.48960495],\n",
              "       [-3.80554843,  4.48825979],\n",
              "       [-3.80822897,  4.48905563],\n",
              "       [-3.49326181,  4.32266521],\n",
              "       [ 1.80537558, -2.31294894],\n",
              "       [-3.81117821,  4.48990536],\n",
              "       [-3.81252503,  4.49028063],\n",
              "       [-3.80687761,  4.48874712],\n",
              "       [-3.80697417,  4.48866558],\n",
              "       [-3.81085205,  4.48987389],\n",
              "       [-3.79697943,  4.48517132],\n",
              "       [-3.78346705,  4.47909164],\n",
              "       [-3.78230095,  4.47858143],\n",
              "       [-3.81056643,  4.48974895],\n",
              "       [-3.80633926,  4.48855591],\n",
              "       [-3.80970669,  4.48949337],\n",
              "       [-3.79418468,  4.48407793],\n",
              "       [-3.80622101,  4.48859167],\n",
              "       [-3.80743718,  4.48879337],\n",
              "       [-3.80553389,  4.48826599],\n",
              "       [-3.80565858,  4.48825359],\n",
              "       [-3.80927992,  4.4893961 ],\n",
              "       [-3.80750322,  4.48889923],\n",
              "       [-3.77958298,  4.47713375],\n",
              "       [-3.80961394,  4.48946714],\n",
              "       [-3.80681658,  4.48862839],\n",
              "       [ 1.83841181, -2.33613873],\n",
              "       [-3.80400276,  4.48778152],\n",
              "       [-3.81323647,  4.49041653],\n",
              "       [-3.79574299,  4.48474693],\n",
              "       [ 2.08264446, -2.53906941],\n",
              "       [-3.81243134,  4.49024296],\n",
              "       [-3.80147934,  4.4869051 ],\n",
              "       [-3.81063509,  4.48973846],\n",
              "       [-3.76574278,  4.46950054],\n",
              "       [-3.72799993,  4.44665813],\n",
              "       [-3.80749702,  4.48888254],\n",
              "       [-3.79958773,  4.48608923],\n",
              "       [-3.80099726,  4.48667812],\n",
              "       [-3.78608608,  4.48054171],\n",
              "       [-3.80174112,  4.48694515],\n",
              "       [-3.80950141,  4.4894743 ],\n",
              "       [-3.8038373 ,  4.48775387],\n",
              "       [-3.81101537,  4.4898591 ],\n",
              "       [-3.81003642,  4.48962736],\n",
              "       [-3.80610895,  4.48851204],\n",
              "       [-3.80740166,  4.48884773],\n",
              "       [-3.79892731,  4.48604822],\n",
              "       [-3.79517698,  4.48447227],\n",
              "       [-3.81250763,  4.49027348],\n",
              "       [-3.79099655,  4.48271084],\n",
              "       [-3.79520035,  4.48440313],\n",
              "       [-3.80799484,  4.48898411],\n",
              "       [-3.80779314,  4.48896885],\n",
              "       [-3.73534155,  4.45179844],\n",
              "       [-3.81213665,  4.49016666],\n",
              "       [-3.78983402,  4.48215246],\n",
              "       [-3.80996513,  4.48960018],\n",
              "       [-3.80272102,  4.48719549],\n",
              "       [-3.81065702,  4.48972273],\n",
              "       [-3.80926085,  4.4893508 ],\n",
              "       [-3.8031466 ,  4.48749924],\n",
              "       [-3.80733013,  4.4888339 ],\n",
              "       [-3.81308246,  4.49038792],\n",
              "       [-3.81139612,  4.48996639],\n",
              "       [-3.81296396,  4.49035358],\n",
              "       [-3.80573416,  4.48831844],\n",
              "       [-3.79961085,  4.48634434],\n",
              "       [-3.80873752,  4.48920965],\n",
              "       [-3.78205109,  4.47851276],\n",
              "       [-3.80981946,  4.48961926],\n",
              "       [-3.80929041,  4.48942947],\n",
              "       [ 2.08363175, -2.54006529],\n",
              "       [-3.80818605,  4.48914528],\n",
              "       [-3.80969667,  4.48950768],\n",
              "       [-3.81137037,  4.48995399],\n",
              "       [-3.80839992,  4.48913431],\n",
              "       [-3.80425167,  4.48788786],\n",
              "       [-3.8100841 ,  4.48958588],\n",
              "       [-3.77667284,  4.47560358],\n",
              "       [-3.79344416,  4.48366928],\n",
              "       [-3.81104851,  4.48984051],\n",
              "       [-3.81185865,  4.49009418],\n",
              "       [-3.79965258,  4.4862957 ],\n",
              "       [-3.81034708,  4.48970604],\n",
              "       [-3.80685639,  4.48873329],\n",
              "       [-3.80708289,  4.48871136],\n",
              "       [-3.80259943,  4.48727989],\n",
              "       [-3.81031132,  4.48969841],\n",
              "       [-3.81171489,  4.49003887],\n",
              "       [-3.80630469,  4.48851967],\n",
              "       [-3.79349041,  4.48373318],\n",
              "       [-3.80753589,  4.48889875],\n",
              "       [-3.80683374,  4.48860884],\n",
              "       [-3.81169248,  4.49003887],\n",
              "       [-3.7974987 ,  4.48548412],\n",
              "       [-3.81087708,  4.48982859],\n",
              "       [-3.81167769,  4.49006033],\n",
              "       [-3.80603361,  4.48857212],\n",
              "       [-3.80845642,  4.48922777],\n",
              "       [-3.80968285,  4.48951721],\n",
              "       [-3.81083369,  4.48982525],\n",
              "       [-3.81229854,  4.49021435],\n",
              "       [-3.80864477,  4.48919678],\n",
              "       [-3.80639172,  4.4885397 ],\n",
              "       [-3.80390215,  4.48776245],\n",
              "       [-3.80686855,  4.48894405],\n",
              "       [-3.81127   ,  4.48990536],\n",
              "       [-3.8079524 ,  4.48903847],\n",
              "       [-3.81339335,  4.49043369],\n",
              "       [-3.74977684,  4.46294212],\n",
              "       [-3.80872941,  4.48926067],\n",
              "       [-3.80904388,  4.48934984],\n",
              "       [-3.7884419 ,  4.48151875],\n",
              "       [-3.80562568,  4.48832321],\n",
              "       [-3.79041433,  4.4822197 ],\n",
              "       [-3.65371633,  4.39651108],\n",
              "       [-3.81288528,  4.49033642],\n",
              "       [-3.80662537,  4.48862934],\n",
              "       [-3.80961704,  4.48934937],\n",
              "       [-3.80825853,  4.48904133],\n",
              "       [-3.80516219,  4.48820353],\n",
              "       [-3.7730372 ,  4.47333336],\n",
              "       [-3.81379724,  4.49051809],\n",
              "       [-3.81337428,  4.49040556],\n",
              "       [-3.80428457,  4.48794174],\n",
              "       [-3.58655143,  4.3519907 ],\n",
              "       [-3.80264378,  4.48733425],\n",
              "       [-3.80611348,  4.4884553 ],\n",
              "       [-3.79922199,  4.48599005],\n",
              "       [-3.80599999,  4.48844337],\n",
              "       [-3.81121182,  4.48989201],\n",
              "       [ 1.93814206, -2.43375969],\n",
              "       [-3.79516721,  4.48446655],\n",
              "       [-3.81355238,  4.49047041],\n",
              "       [-3.81309867,  4.49041128],\n",
              "       [-3.79904747,  4.48599577],\n",
              "       [-3.81279254,  4.49034834],\n",
              "       [-3.80988073,  4.48952484],\n",
              "       [-3.80869436,  4.4891758 ],\n",
              "       [-3.79475069,  4.48427773],\n",
              "       [-3.80187464,  4.48698711],\n",
              "       [-3.79506683,  4.48442221],\n",
              "       [-3.79837322,  4.48581505],\n",
              "       [-3.80290031,  4.48742533],\n",
              "       [-3.80782652,  4.48902225],\n",
              "       [-3.78959846,  4.48193312],\n",
              "       [-3.78567171,  4.4803462 ],\n",
              "       [-3.80738878,  4.48883629],\n",
              "       [-3.80956578,  4.48947906],\n",
              "       [-3.80765009,  4.48893452],\n",
              "       [-3.80122089,  4.48678875],\n",
              "       [-3.80114603,  4.48667908],\n",
              "       [ 2.04876423, -2.51030278],\n",
              "       [-3.80454135,  4.48799181],\n",
              "       [-3.80672407,  4.48867178],\n",
              "       [-3.81223631,  4.49016094],\n",
              "       [-3.80802441,  4.48901653],\n",
              "       [-3.78216791,  4.47879982],\n",
              "       [-3.81219769,  4.49023199],\n",
              "       [-3.81199622,  4.49011564],\n",
              "       [-3.81339312,  4.49043083],\n",
              "       [-3.58038187,  4.35722589],\n",
              "       [-3.79981613,  4.48626041],\n",
              "       [-3.81244588,  4.49019241],\n",
              "       [-3.81169462,  4.49003887],\n",
              "       [-3.80445075,  4.48785877],\n",
              "       [-3.80844307,  4.48921585],\n",
              "       [-3.80694294,  4.48870516],\n",
              "       [-3.80956984,  4.4894805 ],\n",
              "       [-3.81004477,  4.48965931],\n",
              "       [-3.80978441,  4.48945522],\n",
              "       [-3.81124115,  4.48990679],\n",
              "       [-3.81311393,  4.49042988],\n",
              "       [-3.80515051,  4.48807049],\n",
              "       [-3.80039334,  4.48646069],\n",
              "       [-3.79890394,  4.48592663],\n",
              "       [-3.80965304,  4.4895916 ],\n",
              "       [-3.80595851,  4.48838139],\n",
              "       [-3.81190729,  4.49006939],\n",
              "       [-3.81013608,  4.48959923],\n",
              "       [-3.80896187,  4.48928595],\n",
              "       [-3.81148672,  4.48998547],\n",
              "       [-3.80709028,  4.48866749],\n",
              "       [-3.80361366,  4.48751879],\n",
              "       [-3.79703403,  4.48530388],\n",
              "       [-3.75302434,  4.46348667],\n",
              "       [-3.80929613,  4.4893899 ],\n",
              "       [-3.80749846,  4.48894978],\n",
              "       [-3.80519176,  4.48817682],\n",
              "       [-3.80882883,  4.48920107],\n",
              "       [-3.7999084 ,  4.48633242],\n",
              "       [ 2.0813446 , -2.53782988],\n",
              "       [-3.78644943,  4.48060417],\n",
              "       [-3.81135941,  4.48996735],\n",
              "       [-3.81022859,  4.48965836],\n",
              "       [-3.78874063,  4.48161459],\n",
              "       [-3.8058567 ,  4.48839283],\n",
              "       [-3.81302214,  4.49038696],\n",
              "       [-3.80722904,  4.48878098],\n",
              "       [-3.80967069,  4.48958778],\n",
              "       [ 2.08337426, -2.53972387],\n",
              "       [-3.81321383,  4.49039745],\n",
              "       [-3.80206823,  4.48715115],\n",
              "       [-3.8046937 ,  4.48792744],\n",
              "       [-3.79413939,  4.4839592 ],\n",
              "       [-3.81211901,  4.49013805],\n",
              "       [-3.81388998,  4.49057198],\n",
              "       [-3.80987978,  4.4895215 ],\n",
              "       [-3.8082993 ,  4.48902798],\n",
              "       [-3.80904531,  4.4893589 ],\n",
              "       [-3.31859255,  4.16882277],\n",
              "       [-3.80725074,  4.48876286],\n",
              "       [-3.81102562,  4.48983479],\n",
              "       [-3.80892134,  4.48927975],\n",
              "       [-3.78021693,  4.47757339],\n",
              "       [-3.80783582,  4.48902369],\n",
              "       [-3.81199336,  4.49004078],\n",
              "       [-3.80836916,  4.48919821],\n",
              "       [-3.80976295,  4.48953772],\n",
              "       [-3.81241131,  4.49023056],\n",
              "       [-3.80541182,  4.48825264],\n",
              "       [-3.81213903,  4.49020958],\n",
              "       [-3.81390619,  4.49061489],\n",
              "       [-3.81083679,  4.48983192],\n",
              "       [-3.81040573,  4.48970509],\n",
              "       [-3.77674961,  4.4756937 ],\n",
              "       [-3.80973816,  4.48951864],\n",
              "       [-3.80528307,  4.48818016],\n",
              "       [-3.80564308,  4.48839188],\n",
              "       [-3.78740358,  4.4813571 ],\n",
              "       [-3.80400109,  4.4878273 ],\n",
              "       [-3.80372977,  4.48767853],\n",
              "       [-3.79141593,  4.4829731 ],\n",
              "       [-3.81106067,  4.48990726],\n",
              "       [-3.80956888,  4.48949623],\n",
              "       [-3.81424665,  4.49068785],\n",
              "       [-3.77459288,  4.47430611],\n",
              "       [-3.80957222,  4.48945427],\n",
              "       [-3.813272  ,  4.49048328],\n",
              "       [-3.80989361,  4.48949814],\n",
              "       [-3.80760598,  4.48885822],\n",
              "       [-3.80732012,  4.488801  ],\n",
              "       [-3.78981066,  4.48198462],\n",
              "       [-3.80905151,  4.48926449],\n",
              "       [-3.80705547,  4.48891544],\n",
              "       [-3.81113815,  4.48993301],\n",
              "       [-3.80389214,  4.4876976 ],\n",
              "       [-3.80510139,  4.48813629],\n",
              "       [ 2.08331203, -2.53967428],\n",
              "       [-3.80774236,  4.48895597],\n",
              "       [-3.80241156,  4.48731613],\n",
              "       [-3.8086462 ,  4.48923969],\n",
              "       [-3.81506205,  4.49080944],\n",
              "       [-3.80051398,  4.48652267],\n",
              "       [-3.81215906,  4.49017239],\n",
              "       [-3.80300903,  4.48743343],\n",
              "       [-3.81285858,  4.49034786],\n",
              "       [-3.80713034,  4.48872471],\n",
              "       [-3.81028652,  4.48967028],\n",
              "       [-3.79601383,  4.48498344],\n",
              "       [ 2.07394361, -2.53157187],\n",
              "       [-3.7976017 ,  4.4852767 ],\n",
              "       [-3.79746962,  4.48542738],\n",
              "       [-3.80272675,  4.48718262],\n",
              "       [-3.81006122,  4.48957253],\n",
              "       [-3.81384897,  4.4905467 ],\n",
              "       [-3.76599455,  4.46969986],\n",
              "       [-3.81237745,  4.49022293],\n",
              "       [-3.80780983,  4.48894978],\n",
              "       [-3.81274438,  4.49031067],\n",
              "       [-3.80954456,  4.48949432],\n",
              "       [-3.80342102,  4.4875946 ],\n",
              "       [-3.80941272,  4.48948002],\n",
              "       [-3.80538082,  4.48820353],\n",
              "       [-3.80763006,  4.48895836],\n",
              "       [-3.8099227 ,  4.48963356],\n",
              "       [-3.78552532,  4.4800663 ],\n",
              "       [-3.80818892,  4.48909855],\n",
              "       [-3.81016397,  4.4895916 ],\n",
              "       [-3.701756  ,  4.4480896 ],\n",
              "       [-3.81091881,  4.48979855],\n",
              "       [-3.71497059,  4.43917608],\n",
              "       [-3.8099699 ,  4.48954916],\n",
              "       [-3.81015205,  4.48968554],\n",
              "       [-3.80919886,  4.48937607],\n",
              "       [-3.81491828,  4.49082088],\n",
              "       [ 2.08307433, -2.53926086],\n",
              "       [-3.80906677,  4.48926973],\n",
              "       [-3.81121373,  4.48988724],\n",
              "       [-3.80070448,  4.48665524],\n",
              "       [-3.79008818,  4.48236942],\n",
              "       [ 1.95134354, -2.45323491],\n",
              "       [-3.80838633,  4.48909426],\n",
              "       [-3.80949044,  4.48947525],\n",
              "       [-3.80854177,  4.48916149],\n",
              "       [-3.80946732,  4.48943233],\n",
              "       [-3.81265783,  4.49029064],\n",
              "       [-3.80399561,  4.48776913],\n",
              "       [-3.81177115,  4.49018002],\n",
              "       [-3.78870368,  4.48209858],\n",
              "       [-3.80373454,  4.48770046],\n",
              "       [-3.80825543,  4.48923445],\n",
              "       [-3.77303505,  4.47415066],\n",
              "       [-3.81010914,  4.4896245 ],\n",
              "       [-3.80587721,  4.48844385],\n",
              "       [-3.8090086 ,  4.48936462],\n",
              "       [-3.80703759,  4.48873806],\n",
              "       [-3.80986381,  4.48958969],\n",
              "       [-3.80543637,  4.48819447],\n",
              "       [-3.81292105,  4.49035168],\n",
              "       [-3.81161261,  4.49007034],\n",
              "       [-3.8103826 ,  4.48966551],\n",
              "       [-3.80020714,  4.48630047],\n",
              "       [-3.77563524,  4.47513437],\n",
              "       [-3.81161189,  4.49009371],\n",
              "       [-3.80940104,  4.48947859],\n",
              "       [-3.81254601,  4.4902401 ],\n",
              "       [-3.81160855,  4.49000835],\n",
              "       [-3.80976343,  4.48947906],\n",
              "       [-3.80545807,  4.48810101],\n",
              "       [-3.80822134,  4.48911667],\n",
              "       [-3.79403234,  4.48392057],\n",
              "       [-3.80369568,  4.48771477],\n",
              "       [-3.80784321,  4.48896694],\n",
              "       [-3.80302715,  4.48746061],\n",
              "       [-3.81196737,  4.49010563],\n",
              "       [-3.80946255,  4.48941517],\n",
              "       [-3.80710411,  4.48880196],\n",
              "       [-3.8082881 ,  4.48912525],\n",
              "       [-3.80707765,  4.4887476 ],\n",
              "       [-3.76957965,  4.47170067],\n",
              "       [-3.80646896,  4.48869133],\n",
              "       [-3.8065238 ,  4.48857975],\n",
              "       [-3.8062427 ,  4.48842621],\n",
              "       [-3.80688667,  4.48859215],\n",
              "       [-3.81165385,  4.49002171],\n",
              "       [-3.81071591,  4.48977757],\n",
              "       [-3.7768147 ,  4.47561073],\n",
              "       [-3.80940342,  4.48941612],\n",
              "       [-3.81026411,  4.48982716],\n",
              "       [-3.81190538,  4.49004459],\n",
              "       [-3.8087697 ,  4.48927832],\n",
              "       [-3.80867696,  4.48913193],\n",
              "       [-3.79911566,  4.48609018],\n",
              "       [-3.80601954,  4.48844433],\n",
              "       [-3.79199982,  4.48293209],\n",
              "       [-3.81304288,  4.49034786],\n",
              "       [-3.8072505 ,  4.48880959],\n",
              "       [-3.79405355,  4.48403645],\n",
              "       [-3.79552889,  4.48459339],\n",
              "       [-3.80991411,  4.4896245 ],\n",
              "       [-3.81143618,  4.49000263],\n",
              "       [-3.81270623,  4.49032259],\n",
              "       [-3.80932522,  4.48932123],\n",
              "       [-3.81225944,  4.49016857],\n",
              "       [-3.81058002,  4.489748  ],\n",
              "       [-3.80566216,  4.48833466],\n",
              "       [-3.79713893,  4.48527336],\n",
              "       [ 2.08233714, -2.53859663],\n",
              "       [-3.8100419 ,  4.48963356],\n",
              "       [-3.81365705,  4.49049997],\n",
              "       [-3.8113265 ,  4.48994684]])"
            ]
          },
          "metadata": {
            "tags": []
          },
          "execution_count": 121
        }
      ]
    },
    {
      "cell_type": "markdown",
      "metadata": {
        "id": "hHMAGRNnHt9G"
      },
      "source": [
        "Check the whole test set, where the model predicted impolite."
      ]
    },
    {
      "cell_type": "code",
      "metadata": {
        "id": "1dWMZJmq3Ej_"
      },
      "source": [
        "class_list = ['Impolite','Polite']"
      ],
      "execution_count": 122,
      "outputs": []
    },
    {
      "cell_type": "code",
      "metadata": {
        "id": "COEI5xOUOu_d"
      },
      "source": [
        "mailsList = test_data['Mails_Combined'].to_list()"
      ],
      "execution_count": 123,
      "outputs": []
    },
    {
      "cell_type": "code",
      "metadata": {
        "id": "EuL28XEyOkfa",
        "colab": {
          "base_uri": "https://localhost:8080/",
          "height": 81,
          "referenced_widgets": [
            "01697a9db8d1457cb49467007179b667",
            "5a81ba5bae024634ae5f5670f0e7e039",
            "537e36e325fa46769f74a28fdf03585b",
            "8fa252dc26f2444995fefc72ce7e0d04",
            "b535c6f43f984407a8f1976b2d8f20cb",
            "79a76c533a394e038fdeefe087383570",
            "69df1f3d4b3345a3a0d41951b9438919",
            "338cf29443ba4f5fad36959a669c7298",
            "7b41c3de7c614f4eaa775e96ddbf513c",
            "4187f96636b04311a52f3a9c421f86d2",
            "b80b6e2a357c4e1bb70176d8dc92421d",
            "225f59f032e344c68bd8697f866a1ccb",
            "29d10bea680947cf9a482da3c235c83a",
            "c21b57f2730045728695c493030e16e2",
            "5e4a3c82c20c433c950e489a34f267be",
            "b4c09fc4461d42349bdd51cd20bf06bb",
            "8fa84e182bd54503894767fd39aac394",
            "6ccd618c1aa7494cb08273870aff9af7",
            "1acb25b9c2964043b5b1aa460e71fd2c",
            "3e271b9fa1a044b7b35823e512ea6dd6",
            "e3b6dd570d444667ac4173086b4ebd4e",
            "ec6f36849e4d41ab805162c5510fd7cc"
          ]
        },
        "outputId": "525d4c75-a207-44ef-da4c-7ff44b0e0ef2"
      },
      "source": [
        "prediction, raw_output = model.predict(to_predict=mailsList)"
      ],
      "execution_count": 124,
      "outputs": [
        {
          "output_type": "display_data",
          "data": {
            "application/vnd.jupyter.widget-view+json": {
              "model_id": "01697a9db8d1457cb49467007179b667",
              "version_minor": 0,
              "version_major": 2
            },
            "text/plain": [
              "  0%|          | 0/417 [00:00<?, ?it/s]"
            ]
          },
          "metadata": {
            "tags": []
          }
        },
        {
          "output_type": "display_data",
          "data": {
            "application/vnd.jupyter.widget-view+json": {
              "model_id": "225f59f032e344c68bd8697f866a1ccb",
              "version_minor": 0,
              "version_major": 2
            },
            "text/plain": [
              "  0%|          | 0/53 [00:00<?, ?it/s]"
            ]
          },
          "metadata": {
            "tags": []
          }
        }
      ]
    },
    {
      "cell_type": "code",
      "metadata": {
        "id": "SJ778XFJPF6w",
        "colab": {
          "base_uri": "https://localhost:8080/"
        },
        "outputId": "5acfc21e-f0be-4d0b-f6d5-037e362cc16f"
      },
      "source": [
        "prediction"
      ],
      "execution_count": 125,
      "outputs": [
        {
          "output_type": "execute_result",
          "data": {
            "text/plain": [
              "array([1, 1, 1, 1, 1, 1, 1, 1, 1, 1, 1, 1, 1, 1, 1, 1, 1, 1, 1, 1, 1, 1,\n",
              "       1, 1, 1, 1, 1, 1, 1, 1, 1, 1, 1, 1, 1, 1, 1, 1, 1, 1, 1, 1, 1, 1,\n",
              "       1, 1, 1, 1, 1, 1, 1, 1, 1, 1, 1, 1, 1, 1, 1, 1, 1, 1, 0, 1, 1, 0,\n",
              "       1, 1, 1, 1, 1, 1, 1, 1, 1, 1, 1, 1, 1, 1, 1, 1, 1, 1, 1, 1, 1, 1,\n",
              "       1, 1, 1, 1, 1, 1, 1, 1, 1, 1, 1, 1, 1, 1, 1, 1, 1, 1, 1, 1, 1, 1,\n",
              "       1, 1, 1, 1, 1, 1, 1, 1, 1, 1, 1, 1, 1, 1, 1, 1, 1, 1, 1, 1, 1, 1,\n",
              "       1, 1, 1, 1, 1, 1, 1, 1, 0, 1, 1, 1, 1, 1, 1, 1, 1, 0, 1, 1, 1, 1,\n",
              "       1, 1, 1, 1, 1, 1, 1, 1, 1, 1, 1, 1, 1, 1, 1, 1, 1, 1, 1, 1, 1, 1,\n",
              "       1, 1, 1, 1, 1, 1, 1, 1, 1, 1, 1, 1, 1, 1, 1, 1, 1, 1, 1, 1, 1, 1,\n",
              "       1, 1, 1, 1, 1, 1, 1, 1, 1, 1, 1, 1, 1, 1, 1, 1, 1, 0, 1, 1, 1, 1,\n",
              "       1, 1, 1, 1, 1, 1, 1, 1, 1, 1, 1, 1, 1, 1, 1, 1, 1, 1, 1, 1, 1, 1,\n",
              "       1, 1, 1, 1, 1, 1, 1, 1, 1, 1, 1, 1, 1, 1, 1, 1, 1, 1, 1, 1, 1, 1,\n",
              "       1, 1, 1, 1, 1, 1, 1, 1, 1, 1, 1, 1, 1, 1, 1, 1, 1, 1, 1, 0, 1, 1,\n",
              "       1, 1, 1, 1, 1, 1, 1, 1, 1, 1, 1, 1, 1, 1, 1, 1, 1, 0, 1, 1, 1, 1,\n",
              "       0, 1, 1, 1, 1, 1, 1, 1, 1, 1, 1, 1, 1, 1, 1, 1, 1, 1, 1, 1, 1, 1,\n",
              "       1, 1, 1, 1, 1, 1, 1, 1, 0, 1, 1, 1, 0, 1, 0, 1, 1, 1, 1, 1, 1, 1,\n",
              "       1, 1, 1, 1, 1, 0, 1, 1, 1, 1, 1, 1, 1, 1, 1, 1, 1, 1, 1, 1, 1, 1,\n",
              "       1, 1, 1, 1, 1, 1, 1, 1, 1, 1, 1, 1, 1, 1, 1, 1, 1, 1, 1, 1, 1, 1,\n",
              "       1, 1, 1, 1, 1, 1, 1, 1, 1, 1, 1, 1, 1, 1, 1, 1, 1, 1, 1, 1, 1])"
            ]
          },
          "metadata": {
            "tags": []
          },
          "execution_count": 125
        }
      ]
    },
    {
      "cell_type": "markdown",
      "metadata": {
        "id": "bLvr3oiyH2bN"
      },
      "source": [
        "All the mails that are classified as impolite by the model."
      ]
    },
    {
      "cell_type": "code",
      "metadata": {
        "id": "-CpREvBAF1cl"
      },
      "source": [
        "print(test_data['Mails_Combined'][83])\n",
        "print(test_data['a4s_combined_i2b'][83])\n",
        "\n",
        "print(test_data['Mails_Combined'][92])\n",
        "print(test_data['a4s_combined_i2b'][92])\n",
        "\n",
        "print(test_data['Mails_Combined'][129])\n",
        "print(test_data['a4s_combined_i2b'][129])\n",
        "\n",
        "print(test_data['Mails_Combined'][149])\n",
        "print(test_data['a4s_combined_i2b'][149])\n",
        "\n",
        "print(test_data['Mails_Combined'][174])\n",
        "print(test_data['a4s_combined_i2b'][174])\n",
        "\n",
        "print(test_data['Mails_Combined'][210])\n",
        "print(test_data['a4s_combined_i2b'][210])\n",
        "\n",
        "print(test_data['Mails_Combined'][264])\n",
        "print(test_data['a4s_combined_i2b'][264])\n",
        "\n",
        "print(test_data['Mails_Combined'][283])\n",
        "print(test_data['a4s_combined_i2b'][283])\n",
        "\n",
        "print(test_data['Mails_Combined'][303])\n",
        "print(test_data['a4s_combined_i2b'][303])\n",
        "\n",
        "print(test_data['Mails_Combined'][308])\n",
        "print(test_data['a4s_combined_i2b'][308])\n",
        "\n",
        "print(test_data['Mails_Combined'][329])\n",
        "print(test_data['a4s_combined_i2b'][329])\n",
        "\n",
        "print(test_data['Mails_Combined'][338])\n",
        "print(test_data['a4s_combined_i2b'][338])\n",
        "\n",
        "print(test_data['Mails_Combined'][342])\n",
        "print(test_data['a4s_combined_i2b'][342])\n",
        "\n",
        "print(test_data['Mails_Combined'][344])\n",
        "print(test_data['a4s_combined_i2b'][344])\n",
        "\n",
        "print(test_data['Mails_Combined'][357])\n",
        "print(test_data['a4s_combined_i2b'][357])\n",
        "\n",
        "print(test_data['Mails_Combined'][391])\n",
        "print(test_data['a4s_combined_i2b'][391])\n",
        "\n"
      ],
      "execution_count": null,
      "outputs": []
    },
    {
      "cell_type": "markdown",
      "metadata": {
        "id": "9NGfT4dBIDKM"
      },
      "source": [
        "Having a look into the data. For some sentences it is at the very least questionable if they are labeled correctly by the scorer. For some sentences model and human scorer have the same opinion, for others they are different and it is not always completely clear to us, why the data has been labelled Polite or Impolite by the scorer. Hence the accuracy of the model is also affected by the initial labelling.\n",
        "\n",
        "It is though not easy to find a measurable baseline for the scores, as there is a rather large grey zone for polite and impolite answers. The sentences below are an example of this. It is not fully clear, why the mail 118 is considered impolite by the scorer, while mail 391 and 416 are considered polite. There would be arguments for each mail in both directions. In this regard maybe the models can help to develop a standard that follows measurable rules and is not subject to human error."
      ]
    },
    {
      "cell_type": "code",
      "metadata": {
        "id": "As_gfXVCLzxT"
      },
      "source": [
        "test_data['Mails_Combined'][391]"
      ],
      "execution_count": null,
      "outputs": []
    },
    {
      "cell_type": "code",
      "metadata": {
        "id": "hkLLjLVmMJnc",
        "outputId": "e57b92fd-da37-462d-cd7e-3cb1cd804cf0",
        "colab": {
          "base_uri": "https://localhost:8080/"
        }
      },
      "source": [
        "test_data['a4s_combined_i2b'][391]"
      ],
      "execution_count": 128,
      "outputs": [
        {
          "output_type": "execute_result",
          "data": {
            "text/plain": [
              "1.0"
            ]
          },
          "metadata": {
            "tags": []
          },
          "execution_count": 128
        }
      ]
    },
    {
      "cell_type": "code",
      "metadata": {
        "id": "S1Fs7e1AK3ls"
      },
      "source": [
        "test_data['Mails_Combined'][118]"
      ],
      "execution_count": null,
      "outputs": []
    },
    {
      "cell_type": "code",
      "metadata": {
        "id": "8KeOjNpCMMwP",
        "outputId": "9b0f8001-d098-4983-d8aa-b6fa0d7a83c1",
        "colab": {
          "base_uri": "https://localhost:8080/"
        }
      },
      "source": [
        "test_data['a4s_combined_i2b'][118]"
      ],
      "execution_count": 130,
      "outputs": [
        {
          "output_type": "execute_result",
          "data": {
            "text/plain": [
              "0.0"
            ]
          },
          "metadata": {
            "tags": []
          },
          "execution_count": 130
        }
      ]
    },
    {
      "cell_type": "code",
      "metadata": {
        "id": "33YIHvwbMDGQ"
      },
      "source": [
        "test_data['Mails_Combined'][416]"
      ],
      "execution_count": null,
      "outputs": []
    },
    {
      "cell_type": "code",
      "metadata": {
        "id": "8bO5SYVbMN_N",
        "outputId": "af821e51-ea9c-4e47-f6ae-237edb929423",
        "colab": {
          "base_uri": "https://localhost:8080/"
        }
      },
      "source": [
        "test_data['a4s_combined_i2b'][416]"
      ],
      "execution_count": 132,
      "outputs": [
        {
          "output_type": "execute_result",
          "data": {
            "text/plain": [
              "1.0"
            ]
          },
          "metadata": {
            "tags": []
          },
          "execution_count": 132
        }
      ]
    }
  ]
}