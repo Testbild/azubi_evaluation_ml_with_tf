{
  "nbformat": 4,
  "nbformat_minor": 0,
  "metadata": {
    "kernelspec": {
      "display_name": "Python 3",
      "language": "python",
      "name": "python3"
    },
    "language_info": {
      "codemirror_mode": {
        "name": "ipython",
        "version": 3
      },
      "file_extension": ".py",
      "mimetype": "text/x-python",
      "name": "python",
      "nbconvert_exporter": "python",
      "pygments_lexer": "ipython3",
      "version": "3.8.5"
    },
    "colab": {
      "name": "Project_Notebook_Christopher.ipynb",
      "provenance": []
    },
    "accelerator": "GPU",
    "widgets": {
      "application/vnd.jupyter.widget-state+json": {
        "0d7fa8bee2444b5c96f736a8a68097ff": {
          "model_module": "@jupyter-widgets/controls",
          "model_name": "HBoxModel",
          "state": {
            "_view_name": "HBoxView",
            "_dom_classes": [],
            "_model_name": "HBoxModel",
            "_view_module": "@jupyter-widgets/controls",
            "_model_module_version": "1.5.0",
            "_view_count": null,
            "_view_module_version": "1.5.0",
            "box_style": "",
            "layout": "IPY_MODEL_eddcd1d1ad474923afeb653c017b2e22",
            "_model_module": "@jupyter-widgets/controls",
            "children": [
              "IPY_MODEL_bad83acdaea34573968998d0f09ef7bb",
              "IPY_MODEL_e3a9a67dfaf641168b9387d83e5c14a9",
              "IPY_MODEL_c20bc3ce055842bfae8a8c6edaaf4da8"
            ]
          }
        },
        "eddcd1d1ad474923afeb653c017b2e22": {
          "model_module": "@jupyter-widgets/base",
          "model_name": "LayoutModel",
          "state": {
            "_view_name": "LayoutView",
            "grid_template_rows": null,
            "right": null,
            "justify_content": null,
            "_view_module": "@jupyter-widgets/base",
            "overflow": null,
            "_model_module_version": "1.2.0",
            "_view_count": null,
            "flex_flow": null,
            "width": null,
            "min_width": null,
            "border": null,
            "align_items": null,
            "bottom": null,
            "_model_module": "@jupyter-widgets/base",
            "top": null,
            "grid_column": null,
            "overflow_y": null,
            "overflow_x": null,
            "grid_auto_flow": null,
            "grid_area": null,
            "grid_template_columns": null,
            "flex": null,
            "_model_name": "LayoutModel",
            "justify_items": null,
            "grid_row": null,
            "max_height": null,
            "align_content": null,
            "visibility": null,
            "align_self": null,
            "height": null,
            "min_height": null,
            "padding": null,
            "grid_auto_rows": null,
            "grid_gap": null,
            "max_width": null,
            "order": null,
            "_view_module_version": "1.2.0",
            "grid_template_areas": null,
            "object_position": null,
            "object_fit": null,
            "grid_auto_columns": null,
            "margin": null,
            "display": null,
            "left": null
          }
        },
        "bad83acdaea34573968998d0f09ef7bb": {
          "model_module": "@jupyter-widgets/controls",
          "model_name": "HTMLModel",
          "state": {
            "_view_name": "HTMLView",
            "style": "IPY_MODEL_33803e2feb524e59bbdee7f4469d6624",
            "_dom_classes": [],
            "description": "",
            "_model_name": "HTMLModel",
            "placeholder": "​",
            "_view_module": "@jupyter-widgets/controls",
            "_model_module_version": "1.5.0",
            "value": "Downloading: 100%",
            "_view_count": null,
            "_view_module_version": "1.5.0",
            "description_tooltip": null,
            "_model_module": "@jupyter-widgets/controls",
            "layout": "IPY_MODEL_151b4231cb1247f88c11f50bd759f743"
          }
        },
        "e3a9a67dfaf641168b9387d83e5c14a9": {
          "model_module": "@jupyter-widgets/controls",
          "model_name": "FloatProgressModel",
          "state": {
            "_view_name": "ProgressView",
            "style": "IPY_MODEL_b8c0fc03a2c244c0b6236b106fa150e3",
            "_dom_classes": [],
            "description": "",
            "_model_name": "FloatProgressModel",
            "bar_style": "success",
            "max": 464,
            "_view_module": "@jupyter-widgets/controls",
            "_model_module_version": "1.5.0",
            "value": 464,
            "_view_count": null,
            "_view_module_version": "1.5.0",
            "orientation": "horizontal",
            "min": 0,
            "description_tooltip": null,
            "_model_module": "@jupyter-widgets/controls",
            "layout": "IPY_MODEL_c3ba566ac1864e31969c0b94dfcc6985"
          }
        },
        "c20bc3ce055842bfae8a8c6edaaf4da8": {
          "model_module": "@jupyter-widgets/controls",
          "model_name": "HTMLModel",
          "state": {
            "_view_name": "HTMLView",
            "style": "IPY_MODEL_4b8cc9cae75a4a2ea47216ba9fdd5d72",
            "_dom_classes": [],
            "description": "",
            "_model_name": "HTMLModel",
            "placeholder": "​",
            "_view_module": "@jupyter-widgets/controls",
            "_model_module_version": "1.5.0",
            "value": " 464/464 [00:00&lt;00:00, 10.7kB/s]",
            "_view_count": null,
            "_view_module_version": "1.5.0",
            "description_tooltip": null,
            "_model_module": "@jupyter-widgets/controls",
            "layout": "IPY_MODEL_b1416e901f3b4c98959c197bb9805d43"
          }
        },
        "33803e2feb524e59bbdee7f4469d6624": {
          "model_module": "@jupyter-widgets/controls",
          "model_name": "DescriptionStyleModel",
          "state": {
            "_view_name": "StyleView",
            "_model_name": "DescriptionStyleModel",
            "description_width": "",
            "_view_module": "@jupyter-widgets/base",
            "_model_module_version": "1.5.0",
            "_view_count": null,
            "_view_module_version": "1.2.0",
            "_model_module": "@jupyter-widgets/controls"
          }
        },
        "151b4231cb1247f88c11f50bd759f743": {
          "model_module": "@jupyter-widgets/base",
          "model_name": "LayoutModel",
          "state": {
            "_view_name": "LayoutView",
            "grid_template_rows": null,
            "right": null,
            "justify_content": null,
            "_view_module": "@jupyter-widgets/base",
            "overflow": null,
            "_model_module_version": "1.2.0",
            "_view_count": null,
            "flex_flow": null,
            "width": null,
            "min_width": null,
            "border": null,
            "align_items": null,
            "bottom": null,
            "_model_module": "@jupyter-widgets/base",
            "top": null,
            "grid_column": null,
            "overflow_y": null,
            "overflow_x": null,
            "grid_auto_flow": null,
            "grid_area": null,
            "grid_template_columns": null,
            "flex": null,
            "_model_name": "LayoutModel",
            "justify_items": null,
            "grid_row": null,
            "max_height": null,
            "align_content": null,
            "visibility": null,
            "align_self": null,
            "height": null,
            "min_height": null,
            "padding": null,
            "grid_auto_rows": null,
            "grid_gap": null,
            "max_width": null,
            "order": null,
            "_view_module_version": "1.2.0",
            "grid_template_areas": null,
            "object_position": null,
            "object_fit": null,
            "grid_auto_columns": null,
            "margin": null,
            "display": null,
            "left": null
          }
        },
        "b8c0fc03a2c244c0b6236b106fa150e3": {
          "model_module": "@jupyter-widgets/controls",
          "model_name": "ProgressStyleModel",
          "state": {
            "_view_name": "StyleView",
            "_model_name": "ProgressStyleModel",
            "description_width": "",
            "_view_module": "@jupyter-widgets/base",
            "_model_module_version": "1.5.0",
            "_view_count": null,
            "_view_module_version": "1.2.0",
            "bar_color": null,
            "_model_module": "@jupyter-widgets/controls"
          }
        },
        "c3ba566ac1864e31969c0b94dfcc6985": {
          "model_module": "@jupyter-widgets/base",
          "model_name": "LayoutModel",
          "state": {
            "_view_name": "LayoutView",
            "grid_template_rows": null,
            "right": null,
            "justify_content": null,
            "_view_module": "@jupyter-widgets/base",
            "overflow": null,
            "_model_module_version": "1.2.0",
            "_view_count": null,
            "flex_flow": null,
            "width": null,
            "min_width": null,
            "border": null,
            "align_items": null,
            "bottom": null,
            "_model_module": "@jupyter-widgets/base",
            "top": null,
            "grid_column": null,
            "overflow_y": null,
            "overflow_x": null,
            "grid_auto_flow": null,
            "grid_area": null,
            "grid_template_columns": null,
            "flex": null,
            "_model_name": "LayoutModel",
            "justify_items": null,
            "grid_row": null,
            "max_height": null,
            "align_content": null,
            "visibility": null,
            "align_self": null,
            "height": null,
            "min_height": null,
            "padding": null,
            "grid_auto_rows": null,
            "grid_gap": null,
            "max_width": null,
            "order": null,
            "_view_module_version": "1.2.0",
            "grid_template_areas": null,
            "object_position": null,
            "object_fit": null,
            "grid_auto_columns": null,
            "margin": null,
            "display": null,
            "left": null
          }
        },
        "4b8cc9cae75a4a2ea47216ba9fdd5d72": {
          "model_module": "@jupyter-widgets/controls",
          "model_name": "DescriptionStyleModel",
          "state": {
            "_view_name": "StyleView",
            "_model_name": "DescriptionStyleModel",
            "description_width": "",
            "_view_module": "@jupyter-widgets/base",
            "_model_module_version": "1.5.0",
            "_view_count": null,
            "_view_module_version": "1.2.0",
            "_model_module": "@jupyter-widgets/controls"
          }
        },
        "b1416e901f3b4c98959c197bb9805d43": {
          "model_module": "@jupyter-widgets/base",
          "model_name": "LayoutModel",
          "state": {
            "_view_name": "LayoutView",
            "grid_template_rows": null,
            "right": null,
            "justify_content": null,
            "_view_module": "@jupyter-widgets/base",
            "overflow": null,
            "_model_module_version": "1.2.0",
            "_view_count": null,
            "flex_flow": null,
            "width": null,
            "min_width": null,
            "border": null,
            "align_items": null,
            "bottom": null,
            "_model_module": "@jupyter-widgets/base",
            "top": null,
            "grid_column": null,
            "overflow_y": null,
            "overflow_x": null,
            "grid_auto_flow": null,
            "grid_area": null,
            "grid_template_columns": null,
            "flex": null,
            "_model_name": "LayoutModel",
            "justify_items": null,
            "grid_row": null,
            "max_height": null,
            "align_content": null,
            "visibility": null,
            "align_self": null,
            "height": null,
            "min_height": null,
            "padding": null,
            "grid_auto_rows": null,
            "grid_gap": null,
            "max_width": null,
            "order": null,
            "_view_module_version": "1.2.0",
            "grid_template_areas": null,
            "object_position": null,
            "object_fit": null,
            "grid_auto_columns": null,
            "margin": null,
            "display": null,
            "left": null
          }
        },
        "f690d6ba8e8244b4a179ea040c1d6e3c": {
          "model_module": "@jupyter-widgets/controls",
          "model_name": "HBoxModel",
          "state": {
            "_view_name": "HBoxView",
            "_dom_classes": [],
            "_model_name": "HBoxModel",
            "_view_module": "@jupyter-widgets/controls",
            "_model_module_version": "1.5.0",
            "_view_count": null,
            "_view_module_version": "1.5.0",
            "box_style": "",
            "layout": "IPY_MODEL_d99c1d426ab6417bbe153d4d3695d37f",
            "_model_module": "@jupyter-widgets/controls",
            "children": [
              "IPY_MODEL_021373b21cd646a7b5237342a8f7ee73",
              "IPY_MODEL_d41f92eb9b574b4cb5a3c791b2460f5c",
              "IPY_MODEL_c095a6bdd5fe4dd09445695aaaf4d059"
            ]
          }
        },
        "d99c1d426ab6417bbe153d4d3695d37f": {
          "model_module": "@jupyter-widgets/base",
          "model_name": "LayoutModel",
          "state": {
            "_view_name": "LayoutView",
            "grid_template_rows": null,
            "right": null,
            "justify_content": null,
            "_view_module": "@jupyter-widgets/base",
            "overflow": null,
            "_model_module_version": "1.2.0",
            "_view_count": null,
            "flex_flow": null,
            "width": null,
            "min_width": null,
            "border": null,
            "align_items": null,
            "bottom": null,
            "_model_module": "@jupyter-widgets/base",
            "top": null,
            "grid_column": null,
            "overflow_y": null,
            "overflow_x": null,
            "grid_auto_flow": null,
            "grid_area": null,
            "grid_template_columns": null,
            "flex": null,
            "_model_name": "LayoutModel",
            "justify_items": null,
            "grid_row": null,
            "max_height": null,
            "align_content": null,
            "visibility": null,
            "align_self": null,
            "height": null,
            "min_height": null,
            "padding": null,
            "grid_auto_rows": null,
            "grid_gap": null,
            "max_width": null,
            "order": null,
            "_view_module_version": "1.2.0",
            "grid_template_areas": null,
            "object_position": null,
            "object_fit": null,
            "grid_auto_columns": null,
            "margin": null,
            "display": null,
            "left": null
          }
        },
        "021373b21cd646a7b5237342a8f7ee73": {
          "model_module": "@jupyter-widgets/controls",
          "model_name": "HTMLModel",
          "state": {
            "_view_name": "HTMLView",
            "style": "IPY_MODEL_01fde7f2d34440b2add1f1a4aaabd7d1",
            "_dom_classes": [],
            "description": "",
            "_model_name": "HTMLModel",
            "placeholder": "​",
            "_view_module": "@jupyter-widgets/controls",
            "_model_module_version": "1.5.0",
            "value": "Downloading: 100%",
            "_view_count": null,
            "_view_module_version": "1.5.0",
            "description_tooltip": null,
            "_model_module": "@jupyter-widgets/controls",
            "layout": "IPY_MODEL_0382b0706a474e959b5a80fe75392f1f"
          }
        },
        "d41f92eb9b574b4cb5a3c791b2460f5c": {
          "model_module": "@jupyter-widgets/controls",
          "model_name": "FloatProgressModel",
          "state": {
            "_view_name": "ProgressView",
            "style": "IPY_MODEL_ad6b5177687a498bbac34bb4aa9393e1",
            "_dom_classes": [],
            "description": "",
            "_model_name": "FloatProgressModel",
            "bar_style": "success",
            "max": 269752043,
            "_view_module": "@jupyter-widgets/controls",
            "_model_module_version": "1.5.0",
            "value": 269752043,
            "_view_count": null,
            "_view_module_version": "1.5.0",
            "orientation": "horizontal",
            "min": 0,
            "description_tooltip": null,
            "_model_module": "@jupyter-widgets/controls",
            "layout": "IPY_MODEL_664e4d6583a3474e88c1a4c8be37dfb2"
          }
        },
        "c095a6bdd5fe4dd09445695aaaf4d059": {
          "model_module": "@jupyter-widgets/controls",
          "model_name": "HTMLModel",
          "state": {
            "_view_name": "HTMLView",
            "style": "IPY_MODEL_1736d711ec11492da1e78159b3c1094d",
            "_dom_classes": [],
            "description": "",
            "_model_name": "HTMLModel",
            "placeholder": "​",
            "_view_module": "@jupyter-widgets/controls",
            "_model_module_version": "1.5.0",
            "value": " 270M/270M [00:08&lt;00:00, 34.5MB/s]",
            "_view_count": null,
            "_view_module_version": "1.5.0",
            "description_tooltip": null,
            "_model_module": "@jupyter-widgets/controls",
            "layout": "IPY_MODEL_7f39cc32f72842af8e8e272170fed296"
          }
        },
        "01fde7f2d34440b2add1f1a4aaabd7d1": {
          "model_module": "@jupyter-widgets/controls",
          "model_name": "DescriptionStyleModel",
          "state": {
            "_view_name": "StyleView",
            "_model_name": "DescriptionStyleModel",
            "description_width": "",
            "_view_module": "@jupyter-widgets/base",
            "_model_module_version": "1.5.0",
            "_view_count": null,
            "_view_module_version": "1.2.0",
            "_model_module": "@jupyter-widgets/controls"
          }
        },
        "0382b0706a474e959b5a80fe75392f1f": {
          "model_module": "@jupyter-widgets/base",
          "model_name": "LayoutModel",
          "state": {
            "_view_name": "LayoutView",
            "grid_template_rows": null,
            "right": null,
            "justify_content": null,
            "_view_module": "@jupyter-widgets/base",
            "overflow": null,
            "_model_module_version": "1.2.0",
            "_view_count": null,
            "flex_flow": null,
            "width": null,
            "min_width": null,
            "border": null,
            "align_items": null,
            "bottom": null,
            "_model_module": "@jupyter-widgets/base",
            "top": null,
            "grid_column": null,
            "overflow_y": null,
            "overflow_x": null,
            "grid_auto_flow": null,
            "grid_area": null,
            "grid_template_columns": null,
            "flex": null,
            "_model_name": "LayoutModel",
            "justify_items": null,
            "grid_row": null,
            "max_height": null,
            "align_content": null,
            "visibility": null,
            "align_self": null,
            "height": null,
            "min_height": null,
            "padding": null,
            "grid_auto_rows": null,
            "grid_gap": null,
            "max_width": null,
            "order": null,
            "_view_module_version": "1.2.0",
            "grid_template_areas": null,
            "object_position": null,
            "object_fit": null,
            "grid_auto_columns": null,
            "margin": null,
            "display": null,
            "left": null
          }
        },
        "ad6b5177687a498bbac34bb4aa9393e1": {
          "model_module": "@jupyter-widgets/controls",
          "model_name": "ProgressStyleModel",
          "state": {
            "_view_name": "StyleView",
            "_model_name": "ProgressStyleModel",
            "description_width": "",
            "_view_module": "@jupyter-widgets/base",
            "_model_module_version": "1.5.0",
            "_view_count": null,
            "_view_module_version": "1.2.0",
            "bar_color": null,
            "_model_module": "@jupyter-widgets/controls"
          }
        },
        "664e4d6583a3474e88c1a4c8be37dfb2": {
          "model_module": "@jupyter-widgets/base",
          "model_name": "LayoutModel",
          "state": {
            "_view_name": "LayoutView",
            "grid_template_rows": null,
            "right": null,
            "justify_content": null,
            "_view_module": "@jupyter-widgets/base",
            "overflow": null,
            "_model_module_version": "1.2.0",
            "_view_count": null,
            "flex_flow": null,
            "width": null,
            "min_width": null,
            "border": null,
            "align_items": null,
            "bottom": null,
            "_model_module": "@jupyter-widgets/base",
            "top": null,
            "grid_column": null,
            "overflow_y": null,
            "overflow_x": null,
            "grid_auto_flow": null,
            "grid_area": null,
            "grid_template_columns": null,
            "flex": null,
            "_model_name": "LayoutModel",
            "justify_items": null,
            "grid_row": null,
            "max_height": null,
            "align_content": null,
            "visibility": null,
            "align_self": null,
            "height": null,
            "min_height": null,
            "padding": null,
            "grid_auto_rows": null,
            "grid_gap": null,
            "max_width": null,
            "order": null,
            "_view_module_version": "1.2.0",
            "grid_template_areas": null,
            "object_position": null,
            "object_fit": null,
            "grid_auto_columns": null,
            "margin": null,
            "display": null,
            "left": null
          }
        },
        "1736d711ec11492da1e78159b3c1094d": {
          "model_module": "@jupyter-widgets/controls",
          "model_name": "DescriptionStyleModel",
          "state": {
            "_view_name": "StyleView",
            "_model_name": "DescriptionStyleModel",
            "description_width": "",
            "_view_module": "@jupyter-widgets/base",
            "_model_module_version": "1.5.0",
            "_view_count": null,
            "_view_module_version": "1.2.0",
            "_model_module": "@jupyter-widgets/controls"
          }
        },
        "7f39cc32f72842af8e8e272170fed296": {
          "model_module": "@jupyter-widgets/base",
          "model_name": "LayoutModel",
          "state": {
            "_view_name": "LayoutView",
            "grid_template_rows": null,
            "right": null,
            "justify_content": null,
            "_view_module": "@jupyter-widgets/base",
            "overflow": null,
            "_model_module_version": "1.2.0",
            "_view_count": null,
            "flex_flow": null,
            "width": null,
            "min_width": null,
            "border": null,
            "align_items": null,
            "bottom": null,
            "_model_module": "@jupyter-widgets/base",
            "top": null,
            "grid_column": null,
            "overflow_y": null,
            "overflow_x": null,
            "grid_auto_flow": null,
            "grid_area": null,
            "grid_template_columns": null,
            "flex": null,
            "_model_name": "LayoutModel",
            "justify_items": null,
            "grid_row": null,
            "max_height": null,
            "align_content": null,
            "visibility": null,
            "align_self": null,
            "height": null,
            "min_height": null,
            "padding": null,
            "grid_auto_rows": null,
            "grid_gap": null,
            "max_width": null,
            "order": null,
            "_view_module_version": "1.2.0",
            "grid_template_areas": null,
            "object_position": null,
            "object_fit": null,
            "grid_auto_columns": null,
            "margin": null,
            "display": null,
            "left": null
          }
        },
        "ca2e5ea33fd1468a8f5aa119faa3006f": {
          "model_module": "@jupyter-widgets/controls",
          "model_name": "HBoxModel",
          "state": {
            "_view_name": "HBoxView",
            "_dom_classes": [],
            "_model_name": "HBoxModel",
            "_view_module": "@jupyter-widgets/controls",
            "_model_module_version": "1.5.0",
            "_view_count": null,
            "_view_module_version": "1.5.0",
            "box_style": "",
            "layout": "IPY_MODEL_565d1a146e6f43f88e4464c823653da0",
            "_model_module": "@jupyter-widgets/controls",
            "children": [
              "IPY_MODEL_6bfe675aad1442f68c760f83a944f164",
              "IPY_MODEL_cbb7af15554a43e28eb70deae8d16954",
              "IPY_MODEL_613d2751a1774a9a9c85d0951a1853c5"
            ]
          }
        },
        "565d1a146e6f43f88e4464c823653da0": {
          "model_module": "@jupyter-widgets/base",
          "model_name": "LayoutModel",
          "state": {
            "_view_name": "LayoutView",
            "grid_template_rows": null,
            "right": null,
            "justify_content": null,
            "_view_module": "@jupyter-widgets/base",
            "overflow": null,
            "_model_module_version": "1.2.0",
            "_view_count": null,
            "flex_flow": null,
            "width": null,
            "min_width": null,
            "border": null,
            "align_items": null,
            "bottom": null,
            "_model_module": "@jupyter-widgets/base",
            "top": null,
            "grid_column": null,
            "overflow_y": null,
            "overflow_x": null,
            "grid_auto_flow": null,
            "grid_area": null,
            "grid_template_columns": null,
            "flex": null,
            "_model_name": "LayoutModel",
            "justify_items": null,
            "grid_row": null,
            "max_height": null,
            "align_content": null,
            "visibility": null,
            "align_self": null,
            "height": null,
            "min_height": null,
            "padding": null,
            "grid_auto_rows": null,
            "grid_gap": null,
            "max_width": null,
            "order": null,
            "_view_module_version": "1.2.0",
            "grid_template_areas": null,
            "object_position": null,
            "object_fit": null,
            "grid_auto_columns": null,
            "margin": null,
            "display": null,
            "left": null
          }
        },
        "6bfe675aad1442f68c760f83a944f164": {
          "model_module": "@jupyter-widgets/controls",
          "model_name": "HTMLModel",
          "state": {
            "_view_name": "HTMLView",
            "style": "IPY_MODEL_c26f4fd6a0d94485863087aa5530885a",
            "_dom_classes": [],
            "description": "",
            "_model_name": "HTMLModel",
            "placeholder": "​",
            "_view_module": "@jupyter-widgets/controls",
            "_model_module_version": "1.5.0",
            "value": "Downloading: 100%",
            "_view_count": null,
            "_view_module_version": "1.5.0",
            "description_tooltip": null,
            "_model_module": "@jupyter-widgets/controls",
            "layout": "IPY_MODEL_9c5d41ff7fc84775a5343bfbc332dfec"
          }
        },
        "cbb7af15554a43e28eb70deae8d16954": {
          "model_module": "@jupyter-widgets/controls",
          "model_name": "FloatProgressModel",
          "state": {
            "_view_name": "ProgressView",
            "style": "IPY_MODEL_5ac113d2973e46f6aabfe911de6408f5",
            "_dom_classes": [],
            "description": "",
            "_model_name": "FloatProgressModel",
            "bar_style": "success",
            "max": 239836,
            "_view_module": "@jupyter-widgets/controls",
            "_model_module_version": "1.5.0",
            "value": 239836,
            "_view_count": null,
            "_view_module_version": "1.5.0",
            "orientation": "horizontal",
            "min": 0,
            "description_tooltip": null,
            "_model_module": "@jupyter-widgets/controls",
            "layout": "IPY_MODEL_83477eb7ab0f4b9abcca1698aba39f1a"
          }
        },
        "613d2751a1774a9a9c85d0951a1853c5": {
          "model_module": "@jupyter-widgets/controls",
          "model_name": "HTMLModel",
          "state": {
            "_view_name": "HTMLView",
            "style": "IPY_MODEL_cc2ed57a6627429dbcc85dbb2ecc750d",
            "_dom_classes": [],
            "description": "",
            "_model_name": "HTMLModel",
            "placeholder": "​",
            "_view_module": "@jupyter-widgets/controls",
            "_model_module_version": "1.5.0",
            "value": " 240k/240k [00:00&lt;00:00, 561kB/s]",
            "_view_count": null,
            "_view_module_version": "1.5.0",
            "description_tooltip": null,
            "_model_module": "@jupyter-widgets/controls",
            "layout": "IPY_MODEL_05f3fd174a264d00817a20aa6480d758"
          }
        },
        "c26f4fd6a0d94485863087aa5530885a": {
          "model_module": "@jupyter-widgets/controls",
          "model_name": "DescriptionStyleModel",
          "state": {
            "_view_name": "StyleView",
            "_model_name": "DescriptionStyleModel",
            "description_width": "",
            "_view_module": "@jupyter-widgets/base",
            "_model_module_version": "1.5.0",
            "_view_count": null,
            "_view_module_version": "1.2.0",
            "_model_module": "@jupyter-widgets/controls"
          }
        },
        "9c5d41ff7fc84775a5343bfbc332dfec": {
          "model_module": "@jupyter-widgets/base",
          "model_name": "LayoutModel",
          "state": {
            "_view_name": "LayoutView",
            "grid_template_rows": null,
            "right": null,
            "justify_content": null,
            "_view_module": "@jupyter-widgets/base",
            "overflow": null,
            "_model_module_version": "1.2.0",
            "_view_count": null,
            "flex_flow": null,
            "width": null,
            "min_width": null,
            "border": null,
            "align_items": null,
            "bottom": null,
            "_model_module": "@jupyter-widgets/base",
            "top": null,
            "grid_column": null,
            "overflow_y": null,
            "overflow_x": null,
            "grid_auto_flow": null,
            "grid_area": null,
            "grid_template_columns": null,
            "flex": null,
            "_model_name": "LayoutModel",
            "justify_items": null,
            "grid_row": null,
            "max_height": null,
            "align_content": null,
            "visibility": null,
            "align_self": null,
            "height": null,
            "min_height": null,
            "padding": null,
            "grid_auto_rows": null,
            "grid_gap": null,
            "max_width": null,
            "order": null,
            "_view_module_version": "1.2.0",
            "grid_template_areas": null,
            "object_position": null,
            "object_fit": null,
            "grid_auto_columns": null,
            "margin": null,
            "display": null,
            "left": null
          }
        },
        "5ac113d2973e46f6aabfe911de6408f5": {
          "model_module": "@jupyter-widgets/controls",
          "model_name": "ProgressStyleModel",
          "state": {
            "_view_name": "StyleView",
            "_model_name": "ProgressStyleModel",
            "description_width": "",
            "_view_module": "@jupyter-widgets/base",
            "_model_module_version": "1.5.0",
            "_view_count": null,
            "_view_module_version": "1.2.0",
            "bar_color": null,
            "_model_module": "@jupyter-widgets/controls"
          }
        },
        "83477eb7ab0f4b9abcca1698aba39f1a": {
          "model_module": "@jupyter-widgets/base",
          "model_name": "LayoutModel",
          "state": {
            "_view_name": "LayoutView",
            "grid_template_rows": null,
            "right": null,
            "justify_content": null,
            "_view_module": "@jupyter-widgets/base",
            "overflow": null,
            "_model_module_version": "1.2.0",
            "_view_count": null,
            "flex_flow": null,
            "width": null,
            "min_width": null,
            "border": null,
            "align_items": null,
            "bottom": null,
            "_model_module": "@jupyter-widgets/base",
            "top": null,
            "grid_column": null,
            "overflow_y": null,
            "overflow_x": null,
            "grid_auto_flow": null,
            "grid_area": null,
            "grid_template_columns": null,
            "flex": null,
            "_model_name": "LayoutModel",
            "justify_items": null,
            "grid_row": null,
            "max_height": null,
            "align_content": null,
            "visibility": null,
            "align_self": null,
            "height": null,
            "min_height": null,
            "padding": null,
            "grid_auto_rows": null,
            "grid_gap": null,
            "max_width": null,
            "order": null,
            "_view_module_version": "1.2.0",
            "grid_template_areas": null,
            "object_position": null,
            "object_fit": null,
            "grid_auto_columns": null,
            "margin": null,
            "display": null,
            "left": null
          }
        },
        "cc2ed57a6627429dbcc85dbb2ecc750d": {
          "model_module": "@jupyter-widgets/controls",
          "model_name": "DescriptionStyleModel",
          "state": {
            "_view_name": "StyleView",
            "_model_name": "DescriptionStyleModel",
            "description_width": "",
            "_view_module": "@jupyter-widgets/base",
            "_model_module_version": "1.5.0",
            "_view_count": null,
            "_view_module_version": "1.2.0",
            "_model_module": "@jupyter-widgets/controls"
          }
        },
        "05f3fd174a264d00817a20aa6480d758": {
          "model_module": "@jupyter-widgets/base",
          "model_name": "LayoutModel",
          "state": {
            "_view_name": "LayoutView",
            "grid_template_rows": null,
            "right": null,
            "justify_content": null,
            "_view_module": "@jupyter-widgets/base",
            "overflow": null,
            "_model_module_version": "1.2.0",
            "_view_count": null,
            "flex_flow": null,
            "width": null,
            "min_width": null,
            "border": null,
            "align_items": null,
            "bottom": null,
            "_model_module": "@jupyter-widgets/base",
            "top": null,
            "grid_column": null,
            "overflow_y": null,
            "overflow_x": null,
            "grid_auto_flow": null,
            "grid_area": null,
            "grid_template_columns": null,
            "flex": null,
            "_model_name": "LayoutModel",
            "justify_items": null,
            "grid_row": null,
            "max_height": null,
            "align_content": null,
            "visibility": null,
            "align_self": null,
            "height": null,
            "min_height": null,
            "padding": null,
            "grid_auto_rows": null,
            "grid_gap": null,
            "max_width": null,
            "order": null,
            "_view_module_version": "1.2.0",
            "grid_template_areas": null,
            "object_position": null,
            "object_fit": null,
            "grid_auto_columns": null,
            "margin": null,
            "display": null,
            "left": null
          }
        },
        "4c900edd6a0846a9a85bfb9b2665890f": {
          "model_module": "@jupyter-widgets/controls",
          "model_name": "HBoxModel",
          "state": {
            "_view_name": "HBoxView",
            "_dom_classes": [],
            "_model_name": "HBoxModel",
            "_view_module": "@jupyter-widgets/controls",
            "_model_module_version": "1.5.0",
            "_view_count": null,
            "_view_module_version": "1.5.0",
            "box_style": "",
            "layout": "IPY_MODEL_33ef815594fd4f14802ef052f9c6aec0",
            "_model_module": "@jupyter-widgets/controls",
            "children": [
              "IPY_MODEL_6eac35a860874bdc89452995f2ffae43",
              "IPY_MODEL_0cc59b41556e4ca8a093612c9b08b4da",
              "IPY_MODEL_39402f5e4d17411180d13f8aab2d465e"
            ]
          }
        },
        "33ef815594fd4f14802ef052f9c6aec0": {
          "model_module": "@jupyter-widgets/base",
          "model_name": "LayoutModel",
          "state": {
            "_view_name": "LayoutView",
            "grid_template_rows": null,
            "right": null,
            "justify_content": null,
            "_view_module": "@jupyter-widgets/base",
            "overflow": null,
            "_model_module_version": "1.2.0",
            "_view_count": null,
            "flex_flow": null,
            "width": null,
            "min_width": null,
            "border": null,
            "align_items": null,
            "bottom": null,
            "_model_module": "@jupyter-widgets/base",
            "top": null,
            "grid_column": null,
            "overflow_y": null,
            "overflow_x": null,
            "grid_auto_flow": null,
            "grid_area": null,
            "grid_template_columns": null,
            "flex": null,
            "_model_name": "LayoutModel",
            "justify_items": null,
            "grid_row": null,
            "max_height": null,
            "align_content": null,
            "visibility": null,
            "align_self": null,
            "height": null,
            "min_height": null,
            "padding": null,
            "grid_auto_rows": null,
            "grid_gap": null,
            "max_width": null,
            "order": null,
            "_view_module_version": "1.2.0",
            "grid_template_areas": null,
            "object_position": null,
            "object_fit": null,
            "grid_auto_columns": null,
            "margin": null,
            "display": null,
            "left": null
          }
        },
        "6eac35a860874bdc89452995f2ffae43": {
          "model_module": "@jupyter-widgets/controls",
          "model_name": "HTMLModel",
          "state": {
            "_view_name": "HTMLView",
            "style": "IPY_MODEL_ac848525714d482d8af263aec1d455e7",
            "_dom_classes": [],
            "description": "",
            "_model_name": "HTMLModel",
            "placeholder": "​",
            "_view_module": "@jupyter-widgets/controls",
            "_model_module_version": "1.5.0",
            "value": "Downloading: 100%",
            "_view_count": null,
            "_view_module_version": "1.5.0",
            "description_tooltip": null,
            "_model_module": "@jupyter-widgets/controls",
            "layout": "IPY_MODEL_eaeea9ab89af44c19ebad5552bae2a91"
          }
        },
        "0cc59b41556e4ca8a093612c9b08b4da": {
          "model_module": "@jupyter-widgets/controls",
          "model_name": "FloatProgressModel",
          "state": {
            "_view_name": "ProgressView",
            "style": "IPY_MODEL_c87da77cec504940b7dea1f6650efd3a",
            "_dom_classes": [],
            "description": "",
            "_model_name": "FloatProgressModel",
            "bar_style": "success",
            "max": 479086,
            "_view_module": "@jupyter-widgets/controls",
            "_model_module_version": "1.5.0",
            "value": 479086,
            "_view_count": null,
            "_view_module_version": "1.5.0",
            "orientation": "horizontal",
            "min": 0,
            "description_tooltip": null,
            "_model_module": "@jupyter-widgets/controls",
            "layout": "IPY_MODEL_e320021fadd04f9da9e3d00fc6303164"
          }
        },
        "39402f5e4d17411180d13f8aab2d465e": {
          "model_module": "@jupyter-widgets/controls",
          "model_name": "HTMLModel",
          "state": {
            "_view_name": "HTMLView",
            "style": "IPY_MODEL_9dad2ff8f3ba41679b7774d15e5e4a68",
            "_dom_classes": [],
            "description": "",
            "_model_name": "HTMLModel",
            "placeholder": "​",
            "_view_module": "@jupyter-widgets/controls",
            "_model_module_version": "1.5.0",
            "value": " 479k/479k [00:00&lt;00:00, 1.04MB/s]",
            "_view_count": null,
            "_view_module_version": "1.5.0",
            "description_tooltip": null,
            "_model_module": "@jupyter-widgets/controls",
            "layout": "IPY_MODEL_cdc795294c884c61b17f2bde1609ead6"
          }
        },
        "ac848525714d482d8af263aec1d455e7": {
          "model_module": "@jupyter-widgets/controls",
          "model_name": "DescriptionStyleModel",
          "state": {
            "_view_name": "StyleView",
            "_model_name": "DescriptionStyleModel",
            "description_width": "",
            "_view_module": "@jupyter-widgets/base",
            "_model_module_version": "1.5.0",
            "_view_count": null,
            "_view_module_version": "1.2.0",
            "_model_module": "@jupyter-widgets/controls"
          }
        },
        "eaeea9ab89af44c19ebad5552bae2a91": {
          "model_module": "@jupyter-widgets/base",
          "model_name": "LayoutModel",
          "state": {
            "_view_name": "LayoutView",
            "grid_template_rows": null,
            "right": null,
            "justify_content": null,
            "_view_module": "@jupyter-widgets/base",
            "overflow": null,
            "_model_module_version": "1.2.0",
            "_view_count": null,
            "flex_flow": null,
            "width": null,
            "min_width": null,
            "border": null,
            "align_items": null,
            "bottom": null,
            "_model_module": "@jupyter-widgets/base",
            "top": null,
            "grid_column": null,
            "overflow_y": null,
            "overflow_x": null,
            "grid_auto_flow": null,
            "grid_area": null,
            "grid_template_columns": null,
            "flex": null,
            "_model_name": "LayoutModel",
            "justify_items": null,
            "grid_row": null,
            "max_height": null,
            "align_content": null,
            "visibility": null,
            "align_self": null,
            "height": null,
            "min_height": null,
            "padding": null,
            "grid_auto_rows": null,
            "grid_gap": null,
            "max_width": null,
            "order": null,
            "_view_module_version": "1.2.0",
            "grid_template_areas": null,
            "object_position": null,
            "object_fit": null,
            "grid_auto_columns": null,
            "margin": null,
            "display": null,
            "left": null
          }
        },
        "c87da77cec504940b7dea1f6650efd3a": {
          "model_module": "@jupyter-widgets/controls",
          "model_name": "ProgressStyleModel",
          "state": {
            "_view_name": "StyleView",
            "_model_name": "ProgressStyleModel",
            "description_width": "",
            "_view_module": "@jupyter-widgets/base",
            "_model_module_version": "1.5.0",
            "_view_count": null,
            "_view_module_version": "1.2.0",
            "bar_color": null,
            "_model_module": "@jupyter-widgets/controls"
          }
        },
        "e320021fadd04f9da9e3d00fc6303164": {
          "model_module": "@jupyter-widgets/base",
          "model_name": "LayoutModel",
          "state": {
            "_view_name": "LayoutView",
            "grid_template_rows": null,
            "right": null,
            "justify_content": null,
            "_view_module": "@jupyter-widgets/base",
            "overflow": null,
            "_model_module_version": "1.2.0",
            "_view_count": null,
            "flex_flow": null,
            "width": null,
            "min_width": null,
            "border": null,
            "align_items": null,
            "bottom": null,
            "_model_module": "@jupyter-widgets/base",
            "top": null,
            "grid_column": null,
            "overflow_y": null,
            "overflow_x": null,
            "grid_auto_flow": null,
            "grid_area": null,
            "grid_template_columns": null,
            "flex": null,
            "_model_name": "LayoutModel",
            "justify_items": null,
            "grid_row": null,
            "max_height": null,
            "align_content": null,
            "visibility": null,
            "align_self": null,
            "height": null,
            "min_height": null,
            "padding": null,
            "grid_auto_rows": null,
            "grid_gap": null,
            "max_width": null,
            "order": null,
            "_view_module_version": "1.2.0",
            "grid_template_areas": null,
            "object_position": null,
            "object_fit": null,
            "grid_auto_columns": null,
            "margin": null,
            "display": null,
            "left": null
          }
        },
        "9dad2ff8f3ba41679b7774d15e5e4a68": {
          "model_module": "@jupyter-widgets/controls",
          "model_name": "DescriptionStyleModel",
          "state": {
            "_view_name": "StyleView",
            "_model_name": "DescriptionStyleModel",
            "description_width": "",
            "_view_module": "@jupyter-widgets/base",
            "_model_module_version": "1.5.0",
            "_view_count": null,
            "_view_module_version": "1.2.0",
            "_model_module": "@jupyter-widgets/controls"
          }
        },
        "cdc795294c884c61b17f2bde1609ead6": {
          "model_module": "@jupyter-widgets/base",
          "model_name": "LayoutModel",
          "state": {
            "_view_name": "LayoutView",
            "grid_template_rows": null,
            "right": null,
            "justify_content": null,
            "_view_module": "@jupyter-widgets/base",
            "overflow": null,
            "_model_module_version": "1.2.0",
            "_view_count": null,
            "flex_flow": null,
            "width": null,
            "min_width": null,
            "border": null,
            "align_items": null,
            "bottom": null,
            "_model_module": "@jupyter-widgets/base",
            "top": null,
            "grid_column": null,
            "overflow_y": null,
            "overflow_x": null,
            "grid_auto_flow": null,
            "grid_area": null,
            "grid_template_columns": null,
            "flex": null,
            "_model_name": "LayoutModel",
            "justify_items": null,
            "grid_row": null,
            "max_height": null,
            "align_content": null,
            "visibility": null,
            "align_self": null,
            "height": null,
            "min_height": null,
            "padding": null,
            "grid_auto_rows": null,
            "grid_gap": null,
            "max_width": null,
            "order": null,
            "_view_module_version": "1.2.0",
            "grid_template_areas": null,
            "object_position": null,
            "object_fit": null,
            "grid_auto_columns": null,
            "margin": null,
            "display": null,
            "left": null
          }
        },
        "f8f8fac9d2ac47bdbb4afb480deabf95": {
          "model_module": "@jupyter-widgets/controls",
          "model_name": "HBoxModel",
          "state": {
            "_view_name": "HBoxView",
            "_dom_classes": [],
            "_model_name": "HBoxModel",
            "_view_module": "@jupyter-widgets/controls",
            "_model_module_version": "1.5.0",
            "_view_count": null,
            "_view_module_version": "1.5.0",
            "box_style": "",
            "layout": "IPY_MODEL_5d03555d3d0a44089bcf94a4674f8bb5",
            "_model_module": "@jupyter-widgets/controls",
            "children": [
              "IPY_MODEL_edec521bea16402ebfa17db2a227efc2",
              "IPY_MODEL_f70be1e9c4d84607b393a2de3cc4ab84",
              "IPY_MODEL_d1972040cbda46fa8b6262a5e1b94fe9"
            ]
          }
        },
        "5d03555d3d0a44089bcf94a4674f8bb5": {
          "model_module": "@jupyter-widgets/base",
          "model_name": "LayoutModel",
          "state": {
            "_view_name": "LayoutView",
            "grid_template_rows": null,
            "right": null,
            "justify_content": null,
            "_view_module": "@jupyter-widgets/base",
            "overflow": null,
            "_model_module_version": "1.2.0",
            "_view_count": null,
            "flex_flow": null,
            "width": null,
            "min_width": null,
            "border": null,
            "align_items": null,
            "bottom": null,
            "_model_module": "@jupyter-widgets/base",
            "top": null,
            "grid_column": null,
            "overflow_y": null,
            "overflow_x": null,
            "grid_auto_flow": null,
            "grid_area": null,
            "grid_template_columns": null,
            "flex": null,
            "_model_name": "LayoutModel",
            "justify_items": null,
            "grid_row": null,
            "max_height": null,
            "align_content": null,
            "visibility": null,
            "align_self": null,
            "height": null,
            "min_height": null,
            "padding": null,
            "grid_auto_rows": null,
            "grid_gap": null,
            "max_width": null,
            "order": null,
            "_view_module_version": "1.2.0",
            "grid_template_areas": null,
            "object_position": null,
            "object_fit": null,
            "grid_auto_columns": null,
            "margin": null,
            "display": null,
            "left": null
          }
        },
        "edec521bea16402ebfa17db2a227efc2": {
          "model_module": "@jupyter-widgets/controls",
          "model_name": "HTMLModel",
          "state": {
            "_view_name": "HTMLView",
            "style": "IPY_MODEL_37b1a28cd7c8431684ff5c0da59bc6ba",
            "_dom_classes": [],
            "description": "",
            "_model_name": "HTMLModel",
            "placeholder": "​",
            "_view_module": "@jupyter-widgets/controls",
            "_model_module_version": "1.5.0",
            "value": "Downloading: 100%",
            "_view_count": null,
            "_view_module_version": "1.5.0",
            "description_tooltip": null,
            "_model_module": "@jupyter-widgets/controls",
            "layout": "IPY_MODEL_48ce77a7824f47f08365e6644dbc72be"
          }
        },
        "f70be1e9c4d84607b393a2de3cc4ab84": {
          "model_module": "@jupyter-widgets/controls",
          "model_name": "FloatProgressModel",
          "state": {
            "_view_name": "ProgressView",
            "style": "IPY_MODEL_c0c86d507d1243dd9f5a266f105cd031",
            "_dom_classes": [],
            "description": "",
            "_model_name": "FloatProgressModel",
            "bar_style": "success",
            "max": 29,
            "_view_module": "@jupyter-widgets/controls",
            "_model_module_version": "1.5.0",
            "value": 29,
            "_view_count": null,
            "_view_module_version": "1.5.0",
            "orientation": "horizontal",
            "min": 0,
            "description_tooltip": null,
            "_model_module": "@jupyter-widgets/controls",
            "layout": "IPY_MODEL_fae312928c4e45458bfdaa41d20bb381"
          }
        },
        "d1972040cbda46fa8b6262a5e1b94fe9": {
          "model_module": "@jupyter-widgets/controls",
          "model_name": "HTMLModel",
          "state": {
            "_view_name": "HTMLView",
            "style": "IPY_MODEL_edf3760677a14f0281bb07952f33f33c",
            "_dom_classes": [],
            "description": "",
            "_model_name": "HTMLModel",
            "placeholder": "​",
            "_view_module": "@jupyter-widgets/controls",
            "_model_module_version": "1.5.0",
            "value": " 29.0/29.0 [00:00&lt;00:00, 657B/s]",
            "_view_count": null,
            "_view_module_version": "1.5.0",
            "description_tooltip": null,
            "_model_module": "@jupyter-widgets/controls",
            "layout": "IPY_MODEL_bdc3454f329749c683f67f023dd7b79f"
          }
        },
        "37b1a28cd7c8431684ff5c0da59bc6ba": {
          "model_module": "@jupyter-widgets/controls",
          "model_name": "DescriptionStyleModel",
          "state": {
            "_view_name": "StyleView",
            "_model_name": "DescriptionStyleModel",
            "description_width": "",
            "_view_module": "@jupyter-widgets/base",
            "_model_module_version": "1.5.0",
            "_view_count": null,
            "_view_module_version": "1.2.0",
            "_model_module": "@jupyter-widgets/controls"
          }
        },
        "48ce77a7824f47f08365e6644dbc72be": {
          "model_module": "@jupyter-widgets/base",
          "model_name": "LayoutModel",
          "state": {
            "_view_name": "LayoutView",
            "grid_template_rows": null,
            "right": null,
            "justify_content": null,
            "_view_module": "@jupyter-widgets/base",
            "overflow": null,
            "_model_module_version": "1.2.0",
            "_view_count": null,
            "flex_flow": null,
            "width": null,
            "min_width": null,
            "border": null,
            "align_items": null,
            "bottom": null,
            "_model_module": "@jupyter-widgets/base",
            "top": null,
            "grid_column": null,
            "overflow_y": null,
            "overflow_x": null,
            "grid_auto_flow": null,
            "grid_area": null,
            "grid_template_columns": null,
            "flex": null,
            "_model_name": "LayoutModel",
            "justify_items": null,
            "grid_row": null,
            "max_height": null,
            "align_content": null,
            "visibility": null,
            "align_self": null,
            "height": null,
            "min_height": null,
            "padding": null,
            "grid_auto_rows": null,
            "grid_gap": null,
            "max_width": null,
            "order": null,
            "_view_module_version": "1.2.0",
            "grid_template_areas": null,
            "object_position": null,
            "object_fit": null,
            "grid_auto_columns": null,
            "margin": null,
            "display": null,
            "left": null
          }
        },
        "c0c86d507d1243dd9f5a266f105cd031": {
          "model_module": "@jupyter-widgets/controls",
          "model_name": "ProgressStyleModel",
          "state": {
            "_view_name": "StyleView",
            "_model_name": "ProgressStyleModel",
            "description_width": "",
            "_view_module": "@jupyter-widgets/base",
            "_model_module_version": "1.5.0",
            "_view_count": null,
            "_view_module_version": "1.2.0",
            "bar_color": null,
            "_model_module": "@jupyter-widgets/controls"
          }
        },
        "fae312928c4e45458bfdaa41d20bb381": {
          "model_module": "@jupyter-widgets/base",
          "model_name": "LayoutModel",
          "state": {
            "_view_name": "LayoutView",
            "grid_template_rows": null,
            "right": null,
            "justify_content": null,
            "_view_module": "@jupyter-widgets/base",
            "overflow": null,
            "_model_module_version": "1.2.0",
            "_view_count": null,
            "flex_flow": null,
            "width": null,
            "min_width": null,
            "border": null,
            "align_items": null,
            "bottom": null,
            "_model_module": "@jupyter-widgets/base",
            "top": null,
            "grid_column": null,
            "overflow_y": null,
            "overflow_x": null,
            "grid_auto_flow": null,
            "grid_area": null,
            "grid_template_columns": null,
            "flex": null,
            "_model_name": "LayoutModel",
            "justify_items": null,
            "grid_row": null,
            "max_height": null,
            "align_content": null,
            "visibility": null,
            "align_self": null,
            "height": null,
            "min_height": null,
            "padding": null,
            "grid_auto_rows": null,
            "grid_gap": null,
            "max_width": null,
            "order": null,
            "_view_module_version": "1.2.0",
            "grid_template_areas": null,
            "object_position": null,
            "object_fit": null,
            "grid_auto_columns": null,
            "margin": null,
            "display": null,
            "left": null
          }
        },
        "edf3760677a14f0281bb07952f33f33c": {
          "model_module": "@jupyter-widgets/controls",
          "model_name": "DescriptionStyleModel",
          "state": {
            "_view_name": "StyleView",
            "_model_name": "DescriptionStyleModel",
            "description_width": "",
            "_view_module": "@jupyter-widgets/base",
            "_model_module_version": "1.5.0",
            "_view_count": null,
            "_view_module_version": "1.2.0",
            "_model_module": "@jupyter-widgets/controls"
          }
        },
        "bdc3454f329749c683f67f023dd7b79f": {
          "model_module": "@jupyter-widgets/base",
          "model_name": "LayoutModel",
          "state": {
            "_view_name": "LayoutView",
            "grid_template_rows": null,
            "right": null,
            "justify_content": null,
            "_view_module": "@jupyter-widgets/base",
            "overflow": null,
            "_model_module_version": "1.2.0",
            "_view_count": null,
            "flex_flow": null,
            "width": null,
            "min_width": null,
            "border": null,
            "align_items": null,
            "bottom": null,
            "_model_module": "@jupyter-widgets/base",
            "top": null,
            "grid_column": null,
            "overflow_y": null,
            "overflow_x": null,
            "grid_auto_flow": null,
            "grid_area": null,
            "grid_template_columns": null,
            "flex": null,
            "_model_name": "LayoutModel",
            "justify_items": null,
            "grid_row": null,
            "max_height": null,
            "align_content": null,
            "visibility": null,
            "align_self": null,
            "height": null,
            "min_height": null,
            "padding": null,
            "grid_auto_rows": null,
            "grid_gap": null,
            "max_width": null,
            "order": null,
            "_view_module_version": "1.2.0",
            "grid_template_areas": null,
            "object_position": null,
            "object_fit": null,
            "grid_auto_columns": null,
            "margin": null,
            "display": null,
            "left": null
          }
        },
        "7db496b0f05b4ae882033ba7e7d7df67": {
          "model_module": "@jupyter-widgets/controls",
          "model_name": "HBoxModel",
          "state": {
            "_view_name": "HBoxView",
            "_dom_classes": [],
            "_model_name": "HBoxModel",
            "_view_module": "@jupyter-widgets/controls",
            "_model_module_version": "1.5.0",
            "_view_count": null,
            "_view_module_version": "1.5.0",
            "box_style": "",
            "layout": "IPY_MODEL_eddc4fa1996b4bce9fd8a2de6ace1cc5",
            "_model_module": "@jupyter-widgets/controls",
            "children": [
              "IPY_MODEL_4c6f0bfed3e24ee9b0557d4cdd15e058",
              "IPY_MODEL_f7026486e62949d5914d0931cd5504e9",
              "IPY_MODEL_23f2834fa4ad4f62a0dd5edadba3030d"
            ]
          }
        },
        "eddc4fa1996b4bce9fd8a2de6ace1cc5": {
          "model_module": "@jupyter-widgets/base",
          "model_name": "LayoutModel",
          "state": {
            "_view_name": "LayoutView",
            "grid_template_rows": null,
            "right": null,
            "justify_content": null,
            "_view_module": "@jupyter-widgets/base",
            "overflow": null,
            "_model_module_version": "1.2.0",
            "_view_count": null,
            "flex_flow": null,
            "width": null,
            "min_width": null,
            "border": null,
            "align_items": null,
            "bottom": null,
            "_model_module": "@jupyter-widgets/base",
            "top": null,
            "grid_column": null,
            "overflow_y": null,
            "overflow_x": null,
            "grid_auto_flow": null,
            "grid_area": null,
            "grid_template_columns": null,
            "flex": null,
            "_model_name": "LayoutModel",
            "justify_items": null,
            "grid_row": null,
            "max_height": null,
            "align_content": null,
            "visibility": null,
            "align_self": null,
            "height": null,
            "min_height": null,
            "padding": null,
            "grid_auto_rows": null,
            "grid_gap": null,
            "max_width": null,
            "order": null,
            "_view_module_version": "1.2.0",
            "grid_template_areas": null,
            "object_position": null,
            "object_fit": null,
            "grid_auto_columns": null,
            "margin": null,
            "display": null,
            "left": null
          }
        },
        "4c6f0bfed3e24ee9b0557d4cdd15e058": {
          "model_module": "@jupyter-widgets/controls",
          "model_name": "HTMLModel",
          "state": {
            "_view_name": "HTMLView",
            "style": "IPY_MODEL_49aee95009ef4b849e597d6837263666",
            "_dom_classes": [],
            "description": "",
            "_model_name": "HTMLModel",
            "placeholder": "​",
            "_view_module": "@jupyter-widgets/controls",
            "_model_module_version": "1.5.0",
            "value": "  0%",
            "_view_count": null,
            "_view_module_version": "1.5.0",
            "description_tooltip": null,
            "_model_module": "@jupyter-widgets/controls",
            "layout": "IPY_MODEL_8cfa1d0bcbb545e585a64c64b10c1ab1"
          }
        },
        "f7026486e62949d5914d0931cd5504e9": {
          "model_module": "@jupyter-widgets/controls",
          "model_name": "FloatProgressModel",
          "state": {
            "_view_name": "ProgressView",
            "style": "IPY_MODEL_9adafacbd26c46e98b0d173c61218fd7",
            "_dom_classes": [],
            "description": "",
            "_model_name": "FloatProgressModel",
            "bar_style": "danger",
            "max": 1252,
            "_view_module": "@jupyter-widgets/controls",
            "_model_module_version": "1.5.0",
            "value": 3,
            "_view_count": null,
            "_view_module_version": "1.5.0",
            "orientation": "horizontal",
            "min": 0,
            "description_tooltip": null,
            "_model_module": "@jupyter-widgets/controls",
            "layout": "IPY_MODEL_2c2d7032a64142b6a1b55505f23fec10"
          }
        },
        "23f2834fa4ad4f62a0dd5edadba3030d": {
          "model_module": "@jupyter-widgets/controls",
          "model_name": "HTMLModel",
          "state": {
            "_view_name": "HTMLView",
            "style": "IPY_MODEL_3add6436f4a04ce0ac85b7feebb41019",
            "_dom_classes": [],
            "description": "",
            "_model_name": "HTMLModel",
            "placeholder": "​",
            "_view_module": "@jupyter-widgets/controls",
            "_model_module_version": "1.5.0",
            "value": " 3/1252 [00:00&lt;05:04,  4.10it/s]",
            "_view_count": null,
            "_view_module_version": "1.5.0",
            "description_tooltip": null,
            "_model_module": "@jupyter-widgets/controls",
            "layout": "IPY_MODEL_1e3fc57100b44a2c822f32e4fa3b3608"
          }
        },
        "49aee95009ef4b849e597d6837263666": {
          "model_module": "@jupyter-widgets/controls",
          "model_name": "DescriptionStyleModel",
          "state": {
            "_view_name": "StyleView",
            "_model_name": "DescriptionStyleModel",
            "description_width": "",
            "_view_module": "@jupyter-widgets/base",
            "_model_module_version": "1.5.0",
            "_view_count": null,
            "_view_module_version": "1.2.0",
            "_model_module": "@jupyter-widgets/controls"
          }
        },
        "8cfa1d0bcbb545e585a64c64b10c1ab1": {
          "model_module": "@jupyter-widgets/base",
          "model_name": "LayoutModel",
          "state": {
            "_view_name": "LayoutView",
            "grid_template_rows": null,
            "right": null,
            "justify_content": null,
            "_view_module": "@jupyter-widgets/base",
            "overflow": null,
            "_model_module_version": "1.2.0",
            "_view_count": null,
            "flex_flow": null,
            "width": null,
            "min_width": null,
            "border": null,
            "align_items": null,
            "bottom": null,
            "_model_module": "@jupyter-widgets/base",
            "top": null,
            "grid_column": null,
            "overflow_y": null,
            "overflow_x": null,
            "grid_auto_flow": null,
            "grid_area": null,
            "grid_template_columns": null,
            "flex": null,
            "_model_name": "LayoutModel",
            "justify_items": null,
            "grid_row": null,
            "max_height": null,
            "align_content": null,
            "visibility": null,
            "align_self": null,
            "height": null,
            "min_height": null,
            "padding": null,
            "grid_auto_rows": null,
            "grid_gap": null,
            "max_width": null,
            "order": null,
            "_view_module_version": "1.2.0",
            "grid_template_areas": null,
            "object_position": null,
            "object_fit": null,
            "grid_auto_columns": null,
            "margin": null,
            "display": null,
            "left": null
          }
        },
        "9adafacbd26c46e98b0d173c61218fd7": {
          "model_module": "@jupyter-widgets/controls",
          "model_name": "ProgressStyleModel",
          "state": {
            "_view_name": "StyleView",
            "_model_name": "ProgressStyleModel",
            "description_width": "",
            "_view_module": "@jupyter-widgets/base",
            "_model_module_version": "1.5.0",
            "_view_count": null,
            "_view_module_version": "1.2.0",
            "bar_color": null,
            "_model_module": "@jupyter-widgets/controls"
          }
        },
        "2c2d7032a64142b6a1b55505f23fec10": {
          "model_module": "@jupyter-widgets/base",
          "model_name": "LayoutModel",
          "state": {
            "_view_name": "LayoutView",
            "grid_template_rows": null,
            "right": null,
            "justify_content": null,
            "_view_module": "@jupyter-widgets/base",
            "overflow": null,
            "_model_module_version": "1.2.0",
            "_view_count": null,
            "flex_flow": null,
            "width": null,
            "min_width": null,
            "border": null,
            "align_items": null,
            "bottom": null,
            "_model_module": "@jupyter-widgets/base",
            "top": null,
            "grid_column": null,
            "overflow_y": null,
            "overflow_x": null,
            "grid_auto_flow": null,
            "grid_area": null,
            "grid_template_columns": null,
            "flex": null,
            "_model_name": "LayoutModel",
            "justify_items": null,
            "grid_row": null,
            "max_height": null,
            "align_content": null,
            "visibility": null,
            "align_self": null,
            "height": null,
            "min_height": null,
            "padding": null,
            "grid_auto_rows": null,
            "grid_gap": null,
            "max_width": null,
            "order": null,
            "_view_module_version": "1.2.0",
            "grid_template_areas": null,
            "object_position": null,
            "object_fit": null,
            "grid_auto_columns": null,
            "margin": null,
            "display": null,
            "left": null
          }
        },
        "3add6436f4a04ce0ac85b7feebb41019": {
          "model_module": "@jupyter-widgets/controls",
          "model_name": "DescriptionStyleModel",
          "state": {
            "_view_name": "StyleView",
            "_model_name": "DescriptionStyleModel",
            "description_width": "",
            "_view_module": "@jupyter-widgets/base",
            "_model_module_version": "1.5.0",
            "_view_count": null,
            "_view_module_version": "1.2.0",
            "_model_module": "@jupyter-widgets/controls"
          }
        },
        "1e3fc57100b44a2c822f32e4fa3b3608": {
          "model_module": "@jupyter-widgets/base",
          "model_name": "LayoutModel",
          "state": {
            "_view_name": "LayoutView",
            "grid_template_rows": null,
            "right": null,
            "justify_content": null,
            "_view_module": "@jupyter-widgets/base",
            "overflow": null,
            "_model_module_version": "1.2.0",
            "_view_count": null,
            "flex_flow": null,
            "width": null,
            "min_width": null,
            "border": null,
            "align_items": null,
            "bottom": null,
            "_model_module": "@jupyter-widgets/base",
            "top": null,
            "grid_column": null,
            "overflow_y": null,
            "overflow_x": null,
            "grid_auto_flow": null,
            "grid_area": null,
            "grid_template_columns": null,
            "flex": null,
            "_model_name": "LayoutModel",
            "justify_items": null,
            "grid_row": null,
            "max_height": null,
            "align_content": null,
            "visibility": null,
            "align_self": null,
            "height": null,
            "min_height": null,
            "padding": null,
            "grid_auto_rows": null,
            "grid_gap": null,
            "max_width": null,
            "order": null,
            "_view_module_version": "1.2.0",
            "grid_template_areas": null,
            "object_position": null,
            "object_fit": null,
            "grid_auto_columns": null,
            "margin": null,
            "display": null,
            "left": null
          }
        },
        "bcd9e58cae9148e29a0bf8fc5efaf4ab": {
          "model_module": "@jupyter-widgets/controls",
          "model_name": "HBoxModel",
          "state": {
            "_view_name": "HBoxView",
            "_dom_classes": [],
            "_model_name": "HBoxModel",
            "_view_module": "@jupyter-widgets/controls",
            "_model_module_version": "1.5.0",
            "_view_count": null,
            "_view_module_version": "1.5.0",
            "box_style": "",
            "layout": "IPY_MODEL_c599ed2aab954161a1b8286e408b3578",
            "_model_module": "@jupyter-widgets/controls",
            "children": [
              "IPY_MODEL_c6a087025ccd438cb1e4a9877ba5d100",
              "IPY_MODEL_3c5875a36b0b450a9e065d31885968c6",
              "IPY_MODEL_418e1afeda894d5e838399686fdf64f1"
            ]
          }
        },
        "c599ed2aab954161a1b8286e408b3578": {
          "model_module": "@jupyter-widgets/base",
          "model_name": "LayoutModel",
          "state": {
            "_view_name": "LayoutView",
            "grid_template_rows": null,
            "right": null,
            "justify_content": null,
            "_view_module": "@jupyter-widgets/base",
            "overflow": null,
            "_model_module_version": "1.2.0",
            "_view_count": null,
            "flex_flow": null,
            "width": null,
            "min_width": null,
            "border": null,
            "align_items": null,
            "bottom": null,
            "_model_module": "@jupyter-widgets/base",
            "top": null,
            "grid_column": null,
            "overflow_y": null,
            "overflow_x": null,
            "grid_auto_flow": null,
            "grid_area": null,
            "grid_template_columns": null,
            "flex": null,
            "_model_name": "LayoutModel",
            "justify_items": null,
            "grid_row": null,
            "max_height": null,
            "align_content": null,
            "visibility": null,
            "align_self": null,
            "height": null,
            "min_height": null,
            "padding": null,
            "grid_auto_rows": null,
            "grid_gap": null,
            "max_width": null,
            "order": null,
            "_view_module_version": "1.2.0",
            "grid_template_areas": null,
            "object_position": null,
            "object_fit": null,
            "grid_auto_columns": null,
            "margin": null,
            "display": null,
            "left": null
          }
        },
        "c6a087025ccd438cb1e4a9877ba5d100": {
          "model_module": "@jupyter-widgets/controls",
          "model_name": "HTMLModel",
          "state": {
            "_view_name": "HTMLView",
            "style": "IPY_MODEL_c4bfdbfd44874c16a287c120cd4306ba",
            "_dom_classes": [],
            "description": "",
            "_model_name": "HTMLModel",
            "placeholder": "​",
            "_view_module": "@jupyter-widgets/controls",
            "_model_module_version": "1.5.0",
            "value": "Epoch 10 of 10: 100%",
            "_view_count": null,
            "_view_module_version": "1.5.0",
            "description_tooltip": null,
            "_model_module": "@jupyter-widgets/controls",
            "layout": "IPY_MODEL_2ad6e69e5aaa46ffb6f2c9d4f13b9998"
          }
        },
        "3c5875a36b0b450a9e065d31885968c6": {
          "model_module": "@jupyter-widgets/controls",
          "model_name": "FloatProgressModel",
          "state": {
            "_view_name": "ProgressView",
            "style": "IPY_MODEL_9cf70bb7a3544ba48b1a3349185534ef",
            "_dom_classes": [],
            "description": "",
            "_model_name": "FloatProgressModel",
            "bar_style": "success",
            "max": 10,
            "_view_module": "@jupyter-widgets/controls",
            "_model_module_version": "1.5.0",
            "value": 10,
            "_view_count": null,
            "_view_module_version": "1.5.0",
            "orientation": "horizontal",
            "min": 0,
            "description_tooltip": null,
            "_model_module": "@jupyter-widgets/controls",
            "layout": "IPY_MODEL_3d9a919981a444c0bf8836f26d5524b0"
          }
        },
        "418e1afeda894d5e838399686fdf64f1": {
          "model_module": "@jupyter-widgets/controls",
          "model_name": "HTMLModel",
          "state": {
            "_view_name": "HTMLView",
            "style": "IPY_MODEL_d1842c82af064965950c44fde2b0aa13",
            "_dom_classes": [],
            "description": "",
            "_model_name": "HTMLModel",
            "placeholder": "​",
            "_view_module": "@jupyter-widgets/controls",
            "_model_module_version": "1.5.0",
            "value": " 10/10 [04:34&lt;00:00, 27.26s/it]",
            "_view_count": null,
            "_view_module_version": "1.5.0",
            "description_tooltip": null,
            "_model_module": "@jupyter-widgets/controls",
            "layout": "IPY_MODEL_b73f654e88f44f22936b61eba7f39578"
          }
        },
        "c4bfdbfd44874c16a287c120cd4306ba": {
          "model_module": "@jupyter-widgets/controls",
          "model_name": "DescriptionStyleModel",
          "state": {
            "_view_name": "StyleView",
            "_model_name": "DescriptionStyleModel",
            "description_width": "",
            "_view_module": "@jupyter-widgets/base",
            "_model_module_version": "1.5.0",
            "_view_count": null,
            "_view_module_version": "1.2.0",
            "_model_module": "@jupyter-widgets/controls"
          }
        },
        "2ad6e69e5aaa46ffb6f2c9d4f13b9998": {
          "model_module": "@jupyter-widgets/base",
          "model_name": "LayoutModel",
          "state": {
            "_view_name": "LayoutView",
            "grid_template_rows": null,
            "right": null,
            "justify_content": null,
            "_view_module": "@jupyter-widgets/base",
            "overflow": null,
            "_model_module_version": "1.2.0",
            "_view_count": null,
            "flex_flow": null,
            "width": null,
            "min_width": null,
            "border": null,
            "align_items": null,
            "bottom": null,
            "_model_module": "@jupyter-widgets/base",
            "top": null,
            "grid_column": null,
            "overflow_y": null,
            "overflow_x": null,
            "grid_auto_flow": null,
            "grid_area": null,
            "grid_template_columns": null,
            "flex": null,
            "_model_name": "LayoutModel",
            "justify_items": null,
            "grid_row": null,
            "max_height": null,
            "align_content": null,
            "visibility": null,
            "align_self": null,
            "height": null,
            "min_height": null,
            "padding": null,
            "grid_auto_rows": null,
            "grid_gap": null,
            "max_width": null,
            "order": null,
            "_view_module_version": "1.2.0",
            "grid_template_areas": null,
            "object_position": null,
            "object_fit": null,
            "grid_auto_columns": null,
            "margin": null,
            "display": null,
            "left": null
          }
        },
        "9cf70bb7a3544ba48b1a3349185534ef": {
          "model_module": "@jupyter-widgets/controls",
          "model_name": "ProgressStyleModel",
          "state": {
            "_view_name": "StyleView",
            "_model_name": "ProgressStyleModel",
            "description_width": "",
            "_view_module": "@jupyter-widgets/base",
            "_model_module_version": "1.5.0",
            "_view_count": null,
            "_view_module_version": "1.2.0",
            "bar_color": null,
            "_model_module": "@jupyter-widgets/controls"
          }
        },
        "3d9a919981a444c0bf8836f26d5524b0": {
          "model_module": "@jupyter-widgets/base",
          "model_name": "LayoutModel",
          "state": {
            "_view_name": "LayoutView",
            "grid_template_rows": null,
            "right": null,
            "justify_content": null,
            "_view_module": "@jupyter-widgets/base",
            "overflow": null,
            "_model_module_version": "1.2.0",
            "_view_count": null,
            "flex_flow": null,
            "width": null,
            "min_width": null,
            "border": null,
            "align_items": null,
            "bottom": null,
            "_model_module": "@jupyter-widgets/base",
            "top": null,
            "grid_column": null,
            "overflow_y": null,
            "overflow_x": null,
            "grid_auto_flow": null,
            "grid_area": null,
            "grid_template_columns": null,
            "flex": null,
            "_model_name": "LayoutModel",
            "justify_items": null,
            "grid_row": null,
            "max_height": null,
            "align_content": null,
            "visibility": null,
            "align_self": null,
            "height": null,
            "min_height": null,
            "padding": null,
            "grid_auto_rows": null,
            "grid_gap": null,
            "max_width": null,
            "order": null,
            "_view_module_version": "1.2.0",
            "grid_template_areas": null,
            "object_position": null,
            "object_fit": null,
            "grid_auto_columns": null,
            "margin": null,
            "display": null,
            "left": null
          }
        },
        "d1842c82af064965950c44fde2b0aa13": {
          "model_module": "@jupyter-widgets/controls",
          "model_name": "DescriptionStyleModel",
          "state": {
            "_view_name": "StyleView",
            "_model_name": "DescriptionStyleModel",
            "description_width": "",
            "_view_module": "@jupyter-widgets/base",
            "_model_module_version": "1.5.0",
            "_view_count": null,
            "_view_module_version": "1.2.0",
            "_model_module": "@jupyter-widgets/controls"
          }
        },
        "b73f654e88f44f22936b61eba7f39578": {
          "model_module": "@jupyter-widgets/base",
          "model_name": "LayoutModel",
          "state": {
            "_view_name": "LayoutView",
            "grid_template_rows": null,
            "right": null,
            "justify_content": null,
            "_view_module": "@jupyter-widgets/base",
            "overflow": null,
            "_model_module_version": "1.2.0",
            "_view_count": null,
            "flex_flow": null,
            "width": null,
            "min_width": null,
            "border": null,
            "align_items": null,
            "bottom": null,
            "_model_module": "@jupyter-widgets/base",
            "top": null,
            "grid_column": null,
            "overflow_y": null,
            "overflow_x": null,
            "grid_auto_flow": null,
            "grid_area": null,
            "grid_template_columns": null,
            "flex": null,
            "_model_name": "LayoutModel",
            "justify_items": null,
            "grid_row": null,
            "max_height": null,
            "align_content": null,
            "visibility": null,
            "align_self": null,
            "height": null,
            "min_height": null,
            "padding": null,
            "grid_auto_rows": null,
            "grid_gap": null,
            "max_width": null,
            "order": null,
            "_view_module_version": "1.2.0",
            "grid_template_areas": null,
            "object_position": null,
            "object_fit": null,
            "grid_auto_columns": null,
            "margin": null,
            "display": null,
            "left": null
          }
        },
        "e305302ae2b94bbb8c1303699037a85f": {
          "model_module": "@jupyter-widgets/controls",
          "model_name": "HBoxModel",
          "state": {
            "_view_name": "HBoxView",
            "_dom_classes": [],
            "_model_name": "HBoxModel",
            "_view_module": "@jupyter-widgets/controls",
            "_model_module_version": "1.5.0",
            "_view_count": null,
            "_view_module_version": "1.5.0",
            "box_style": "",
            "layout": "IPY_MODEL_3033766042d84e3dbff9c917c66a10ff",
            "_model_module": "@jupyter-widgets/controls",
            "children": [
              "IPY_MODEL_7cf798a0a13247c0a51d64c3e097ee74",
              "IPY_MODEL_6066e038f00040269811c641c509dcf7",
              "IPY_MODEL_391ff7508027477b9b4617f4c19a84bc"
            ]
          }
        },
        "3033766042d84e3dbff9c917c66a10ff": {
          "model_module": "@jupyter-widgets/base",
          "model_name": "LayoutModel",
          "state": {
            "_view_name": "LayoutView",
            "grid_template_rows": null,
            "right": null,
            "justify_content": null,
            "_view_module": "@jupyter-widgets/base",
            "overflow": null,
            "_model_module_version": "1.2.0",
            "_view_count": null,
            "flex_flow": null,
            "width": null,
            "min_width": null,
            "border": null,
            "align_items": null,
            "bottom": null,
            "_model_module": "@jupyter-widgets/base",
            "top": null,
            "grid_column": null,
            "overflow_y": null,
            "overflow_x": null,
            "grid_auto_flow": null,
            "grid_area": null,
            "grid_template_columns": null,
            "flex": null,
            "_model_name": "LayoutModel",
            "justify_items": null,
            "grid_row": null,
            "max_height": null,
            "align_content": null,
            "visibility": null,
            "align_self": null,
            "height": null,
            "min_height": null,
            "padding": null,
            "grid_auto_rows": null,
            "grid_gap": null,
            "max_width": null,
            "order": null,
            "_view_module_version": "1.2.0",
            "grid_template_areas": null,
            "object_position": null,
            "object_fit": null,
            "grid_auto_columns": null,
            "margin": null,
            "display": null,
            "left": null
          }
        },
        "7cf798a0a13247c0a51d64c3e097ee74": {
          "model_module": "@jupyter-widgets/controls",
          "model_name": "HTMLModel",
          "state": {
            "_view_name": "HTMLView",
            "style": "IPY_MODEL_8442a320629443acb4e54c4a25cd1bd2",
            "_dom_classes": [],
            "description": "",
            "_model_name": "HTMLModel",
            "placeholder": "​",
            "_view_module": "@jupyter-widgets/controls",
            "_model_module_version": "1.5.0",
            "value": "Epochs 0/10. Running Loss:    0.0093: 100%",
            "_view_count": null,
            "_view_module_version": "1.5.0",
            "description_tooltip": null,
            "_model_module": "@jupyter-widgets/controls",
            "layout": "IPY_MODEL_da3ffe32700945efb9014866281aaa90"
          }
        },
        "6066e038f00040269811c641c509dcf7": {
          "model_module": "@jupyter-widgets/controls",
          "model_name": "FloatProgressModel",
          "state": {
            "_view_name": "ProgressView",
            "style": "IPY_MODEL_e600bc0f38854f5f85d68ba4164d1938",
            "_dom_classes": [],
            "description": "",
            "_model_name": "FloatProgressModel",
            "bar_style": "success",
            "max": 157,
            "_view_module": "@jupyter-widgets/controls",
            "_model_module_version": "1.5.0",
            "value": 157,
            "_view_count": null,
            "_view_module_version": "1.5.0",
            "orientation": "horizontal",
            "min": 0,
            "description_tooltip": null,
            "_model_module": "@jupyter-widgets/controls",
            "layout": "IPY_MODEL_d1fac99d4c094454946c67eb647f1d80"
          }
        },
        "391ff7508027477b9b4617f4c19a84bc": {
          "model_module": "@jupyter-widgets/controls",
          "model_name": "HTMLModel",
          "state": {
            "_view_name": "HTMLView",
            "style": "IPY_MODEL_2cc0af1287ef49228d65a4599c4edc3d",
            "_dom_classes": [],
            "description": "",
            "_model_name": "HTMLModel",
            "placeholder": "​",
            "_view_module": "@jupyter-widgets/controls",
            "_model_module_version": "1.5.0",
            "value": " 157/157 [00:22&lt;00:00,  7.49it/s]",
            "_view_count": null,
            "_view_module_version": "1.5.0",
            "description_tooltip": null,
            "_model_module": "@jupyter-widgets/controls",
            "layout": "IPY_MODEL_6d93804381a044fc847b14863fe73d2c"
          }
        },
        "8442a320629443acb4e54c4a25cd1bd2": {
          "model_module": "@jupyter-widgets/controls",
          "model_name": "DescriptionStyleModel",
          "state": {
            "_view_name": "StyleView",
            "_model_name": "DescriptionStyleModel",
            "description_width": "",
            "_view_module": "@jupyter-widgets/base",
            "_model_module_version": "1.5.0",
            "_view_count": null,
            "_view_module_version": "1.2.0",
            "_model_module": "@jupyter-widgets/controls"
          }
        },
        "da3ffe32700945efb9014866281aaa90": {
          "model_module": "@jupyter-widgets/base",
          "model_name": "LayoutModel",
          "state": {
            "_view_name": "LayoutView",
            "grid_template_rows": null,
            "right": null,
            "justify_content": null,
            "_view_module": "@jupyter-widgets/base",
            "overflow": null,
            "_model_module_version": "1.2.0",
            "_view_count": null,
            "flex_flow": null,
            "width": null,
            "min_width": null,
            "border": null,
            "align_items": null,
            "bottom": null,
            "_model_module": "@jupyter-widgets/base",
            "top": null,
            "grid_column": null,
            "overflow_y": null,
            "overflow_x": null,
            "grid_auto_flow": null,
            "grid_area": null,
            "grid_template_columns": null,
            "flex": null,
            "_model_name": "LayoutModel",
            "justify_items": null,
            "grid_row": null,
            "max_height": null,
            "align_content": null,
            "visibility": null,
            "align_self": null,
            "height": null,
            "min_height": null,
            "padding": null,
            "grid_auto_rows": null,
            "grid_gap": null,
            "max_width": null,
            "order": null,
            "_view_module_version": "1.2.0",
            "grid_template_areas": null,
            "object_position": null,
            "object_fit": null,
            "grid_auto_columns": null,
            "margin": null,
            "display": null,
            "left": null
          }
        },
        "e600bc0f38854f5f85d68ba4164d1938": {
          "model_module": "@jupyter-widgets/controls",
          "model_name": "ProgressStyleModel",
          "state": {
            "_view_name": "StyleView",
            "_model_name": "ProgressStyleModel",
            "description_width": "",
            "_view_module": "@jupyter-widgets/base",
            "_model_module_version": "1.5.0",
            "_view_count": null,
            "_view_module_version": "1.2.0",
            "bar_color": null,
            "_model_module": "@jupyter-widgets/controls"
          }
        },
        "d1fac99d4c094454946c67eb647f1d80": {
          "model_module": "@jupyter-widgets/base",
          "model_name": "LayoutModel",
          "state": {
            "_view_name": "LayoutView",
            "grid_template_rows": null,
            "right": null,
            "justify_content": null,
            "_view_module": "@jupyter-widgets/base",
            "overflow": null,
            "_model_module_version": "1.2.0",
            "_view_count": null,
            "flex_flow": null,
            "width": null,
            "min_width": null,
            "border": null,
            "align_items": null,
            "bottom": null,
            "_model_module": "@jupyter-widgets/base",
            "top": null,
            "grid_column": null,
            "overflow_y": null,
            "overflow_x": null,
            "grid_auto_flow": null,
            "grid_area": null,
            "grid_template_columns": null,
            "flex": null,
            "_model_name": "LayoutModel",
            "justify_items": null,
            "grid_row": null,
            "max_height": null,
            "align_content": null,
            "visibility": null,
            "align_self": null,
            "height": null,
            "min_height": null,
            "padding": null,
            "grid_auto_rows": null,
            "grid_gap": null,
            "max_width": null,
            "order": null,
            "_view_module_version": "1.2.0",
            "grid_template_areas": null,
            "object_position": null,
            "object_fit": null,
            "grid_auto_columns": null,
            "margin": null,
            "display": null,
            "left": null
          }
        },
        "2cc0af1287ef49228d65a4599c4edc3d": {
          "model_module": "@jupyter-widgets/controls",
          "model_name": "DescriptionStyleModel",
          "state": {
            "_view_name": "StyleView",
            "_model_name": "DescriptionStyleModel",
            "description_width": "",
            "_view_module": "@jupyter-widgets/base",
            "_model_module_version": "1.5.0",
            "_view_count": null,
            "_view_module_version": "1.2.0",
            "_model_module": "@jupyter-widgets/controls"
          }
        },
        "6d93804381a044fc847b14863fe73d2c": {
          "model_module": "@jupyter-widgets/base",
          "model_name": "LayoutModel",
          "state": {
            "_view_name": "LayoutView",
            "grid_template_rows": null,
            "right": null,
            "justify_content": null,
            "_view_module": "@jupyter-widgets/base",
            "overflow": null,
            "_model_module_version": "1.2.0",
            "_view_count": null,
            "flex_flow": null,
            "width": null,
            "min_width": null,
            "border": null,
            "align_items": null,
            "bottom": null,
            "_model_module": "@jupyter-widgets/base",
            "top": null,
            "grid_column": null,
            "overflow_y": null,
            "overflow_x": null,
            "grid_auto_flow": null,
            "grid_area": null,
            "grid_template_columns": null,
            "flex": null,
            "_model_name": "LayoutModel",
            "justify_items": null,
            "grid_row": null,
            "max_height": null,
            "align_content": null,
            "visibility": null,
            "align_self": null,
            "height": null,
            "min_height": null,
            "padding": null,
            "grid_auto_rows": null,
            "grid_gap": null,
            "max_width": null,
            "order": null,
            "_view_module_version": "1.2.0",
            "grid_template_areas": null,
            "object_position": null,
            "object_fit": null,
            "grid_auto_columns": null,
            "margin": null,
            "display": null,
            "left": null
          }
        },
        "608af5ebcd7e4e3d94780fe40fba1a04": {
          "model_module": "@jupyter-widgets/controls",
          "model_name": "HBoxModel",
          "state": {
            "_view_name": "HBoxView",
            "_dom_classes": [],
            "_model_name": "HBoxModel",
            "_view_module": "@jupyter-widgets/controls",
            "_model_module_version": "1.5.0",
            "_view_count": null,
            "_view_module_version": "1.5.0",
            "box_style": "",
            "layout": "IPY_MODEL_ce41ceb4f89247e4a1dc45cb24952b10",
            "_model_module": "@jupyter-widgets/controls",
            "children": [
              "IPY_MODEL_72261b26b3514a21b572c75889ea28b3",
              "IPY_MODEL_49ebe7b2d4244147a1bbdd1293214b47",
              "IPY_MODEL_899e0bfcfc72423b8e30e79969cfef3d"
            ]
          }
        },
        "ce41ceb4f89247e4a1dc45cb24952b10": {
          "model_module": "@jupyter-widgets/base",
          "model_name": "LayoutModel",
          "state": {
            "_view_name": "LayoutView",
            "grid_template_rows": null,
            "right": null,
            "justify_content": null,
            "_view_module": "@jupyter-widgets/base",
            "overflow": null,
            "_model_module_version": "1.2.0",
            "_view_count": null,
            "flex_flow": null,
            "width": null,
            "min_width": null,
            "border": null,
            "align_items": null,
            "bottom": null,
            "_model_module": "@jupyter-widgets/base",
            "top": null,
            "grid_column": null,
            "overflow_y": null,
            "overflow_x": null,
            "grid_auto_flow": null,
            "grid_area": null,
            "grid_template_columns": null,
            "flex": null,
            "_model_name": "LayoutModel",
            "justify_items": null,
            "grid_row": null,
            "max_height": null,
            "align_content": null,
            "visibility": null,
            "align_self": null,
            "height": null,
            "min_height": null,
            "padding": null,
            "grid_auto_rows": null,
            "grid_gap": null,
            "max_width": null,
            "order": null,
            "_view_module_version": "1.2.0",
            "grid_template_areas": null,
            "object_position": null,
            "object_fit": null,
            "grid_auto_columns": null,
            "margin": null,
            "display": null,
            "left": null
          }
        },
        "72261b26b3514a21b572c75889ea28b3": {
          "model_module": "@jupyter-widgets/controls",
          "model_name": "HTMLModel",
          "state": {
            "_view_name": "HTMLView",
            "style": "IPY_MODEL_e18d6a258e78419cbe272772d7197e1c",
            "_dom_classes": [],
            "description": "",
            "_model_name": "HTMLModel",
            "placeholder": "​",
            "_view_module": "@jupyter-widgets/controls",
            "_model_module_version": "1.5.0",
            "value": "Epochs 1/10. Running Loss:    0.0334: 100%",
            "_view_count": null,
            "_view_module_version": "1.5.0",
            "description_tooltip": null,
            "_model_module": "@jupyter-widgets/controls",
            "layout": "IPY_MODEL_e9149600e7e94d54a7cc9174b2845eaa"
          }
        },
        "49ebe7b2d4244147a1bbdd1293214b47": {
          "model_module": "@jupyter-widgets/controls",
          "model_name": "FloatProgressModel",
          "state": {
            "_view_name": "ProgressView",
            "style": "IPY_MODEL_007819d242614ba1a7d5a56d139ac293",
            "_dom_classes": [],
            "description": "",
            "_model_name": "FloatProgressModel",
            "bar_style": "success",
            "max": 157,
            "_view_module": "@jupyter-widgets/controls",
            "_model_module_version": "1.5.0",
            "value": 157,
            "_view_count": null,
            "_view_module_version": "1.5.0",
            "orientation": "horizontal",
            "min": 0,
            "description_tooltip": null,
            "_model_module": "@jupyter-widgets/controls",
            "layout": "IPY_MODEL_b2b36500a2344dde83a3150e369fbfec"
          }
        },
        "899e0bfcfc72423b8e30e79969cfef3d": {
          "model_module": "@jupyter-widgets/controls",
          "model_name": "HTMLModel",
          "state": {
            "_view_name": "HTMLView",
            "style": "IPY_MODEL_70b4e89acd0a4360ad85890cc33a48c1",
            "_dom_classes": [],
            "description": "",
            "_model_name": "HTMLModel",
            "placeholder": "​",
            "_view_module": "@jupyter-widgets/controls",
            "_model_module_version": "1.5.0",
            "value": " 157/157 [00:22&lt;00:00,  7.63it/s]",
            "_view_count": null,
            "_view_module_version": "1.5.0",
            "description_tooltip": null,
            "_model_module": "@jupyter-widgets/controls",
            "layout": "IPY_MODEL_65450eedf7754eb88b53b0c1285f0708"
          }
        },
        "e18d6a258e78419cbe272772d7197e1c": {
          "model_module": "@jupyter-widgets/controls",
          "model_name": "DescriptionStyleModel",
          "state": {
            "_view_name": "StyleView",
            "_model_name": "DescriptionStyleModel",
            "description_width": "",
            "_view_module": "@jupyter-widgets/base",
            "_model_module_version": "1.5.0",
            "_view_count": null,
            "_view_module_version": "1.2.0",
            "_model_module": "@jupyter-widgets/controls"
          }
        },
        "e9149600e7e94d54a7cc9174b2845eaa": {
          "model_module": "@jupyter-widgets/base",
          "model_name": "LayoutModel",
          "state": {
            "_view_name": "LayoutView",
            "grid_template_rows": null,
            "right": null,
            "justify_content": null,
            "_view_module": "@jupyter-widgets/base",
            "overflow": null,
            "_model_module_version": "1.2.0",
            "_view_count": null,
            "flex_flow": null,
            "width": null,
            "min_width": null,
            "border": null,
            "align_items": null,
            "bottom": null,
            "_model_module": "@jupyter-widgets/base",
            "top": null,
            "grid_column": null,
            "overflow_y": null,
            "overflow_x": null,
            "grid_auto_flow": null,
            "grid_area": null,
            "grid_template_columns": null,
            "flex": null,
            "_model_name": "LayoutModel",
            "justify_items": null,
            "grid_row": null,
            "max_height": null,
            "align_content": null,
            "visibility": null,
            "align_self": null,
            "height": null,
            "min_height": null,
            "padding": null,
            "grid_auto_rows": null,
            "grid_gap": null,
            "max_width": null,
            "order": null,
            "_view_module_version": "1.2.0",
            "grid_template_areas": null,
            "object_position": null,
            "object_fit": null,
            "grid_auto_columns": null,
            "margin": null,
            "display": null,
            "left": null
          }
        },
        "007819d242614ba1a7d5a56d139ac293": {
          "model_module": "@jupyter-widgets/controls",
          "model_name": "ProgressStyleModel",
          "state": {
            "_view_name": "StyleView",
            "_model_name": "ProgressStyleModel",
            "description_width": "",
            "_view_module": "@jupyter-widgets/base",
            "_model_module_version": "1.5.0",
            "_view_count": null,
            "_view_module_version": "1.2.0",
            "bar_color": null,
            "_model_module": "@jupyter-widgets/controls"
          }
        },
        "b2b36500a2344dde83a3150e369fbfec": {
          "model_module": "@jupyter-widgets/base",
          "model_name": "LayoutModel",
          "state": {
            "_view_name": "LayoutView",
            "grid_template_rows": null,
            "right": null,
            "justify_content": null,
            "_view_module": "@jupyter-widgets/base",
            "overflow": null,
            "_model_module_version": "1.2.0",
            "_view_count": null,
            "flex_flow": null,
            "width": null,
            "min_width": null,
            "border": null,
            "align_items": null,
            "bottom": null,
            "_model_module": "@jupyter-widgets/base",
            "top": null,
            "grid_column": null,
            "overflow_y": null,
            "overflow_x": null,
            "grid_auto_flow": null,
            "grid_area": null,
            "grid_template_columns": null,
            "flex": null,
            "_model_name": "LayoutModel",
            "justify_items": null,
            "grid_row": null,
            "max_height": null,
            "align_content": null,
            "visibility": null,
            "align_self": null,
            "height": null,
            "min_height": null,
            "padding": null,
            "grid_auto_rows": null,
            "grid_gap": null,
            "max_width": null,
            "order": null,
            "_view_module_version": "1.2.0",
            "grid_template_areas": null,
            "object_position": null,
            "object_fit": null,
            "grid_auto_columns": null,
            "margin": null,
            "display": null,
            "left": null
          }
        },
        "70b4e89acd0a4360ad85890cc33a48c1": {
          "model_module": "@jupyter-widgets/controls",
          "model_name": "DescriptionStyleModel",
          "state": {
            "_view_name": "StyleView",
            "_model_name": "DescriptionStyleModel",
            "description_width": "",
            "_view_module": "@jupyter-widgets/base",
            "_model_module_version": "1.5.0",
            "_view_count": null,
            "_view_module_version": "1.2.0",
            "_model_module": "@jupyter-widgets/controls"
          }
        },
        "65450eedf7754eb88b53b0c1285f0708": {
          "model_module": "@jupyter-widgets/base",
          "model_name": "LayoutModel",
          "state": {
            "_view_name": "LayoutView",
            "grid_template_rows": null,
            "right": null,
            "justify_content": null,
            "_view_module": "@jupyter-widgets/base",
            "overflow": null,
            "_model_module_version": "1.2.0",
            "_view_count": null,
            "flex_flow": null,
            "width": null,
            "min_width": null,
            "border": null,
            "align_items": null,
            "bottom": null,
            "_model_module": "@jupyter-widgets/base",
            "top": null,
            "grid_column": null,
            "overflow_y": null,
            "overflow_x": null,
            "grid_auto_flow": null,
            "grid_area": null,
            "grid_template_columns": null,
            "flex": null,
            "_model_name": "LayoutModel",
            "justify_items": null,
            "grid_row": null,
            "max_height": null,
            "align_content": null,
            "visibility": null,
            "align_self": null,
            "height": null,
            "min_height": null,
            "padding": null,
            "grid_auto_rows": null,
            "grid_gap": null,
            "max_width": null,
            "order": null,
            "_view_module_version": "1.2.0",
            "grid_template_areas": null,
            "object_position": null,
            "object_fit": null,
            "grid_auto_columns": null,
            "margin": null,
            "display": null,
            "left": null
          }
        },
        "641d81e0d2334e8aa93772ff84bfee9e": {
          "model_module": "@jupyter-widgets/controls",
          "model_name": "HBoxModel",
          "state": {
            "_view_name": "HBoxView",
            "_dom_classes": [],
            "_model_name": "HBoxModel",
            "_view_module": "@jupyter-widgets/controls",
            "_model_module_version": "1.5.0",
            "_view_count": null,
            "_view_module_version": "1.5.0",
            "box_style": "",
            "layout": "IPY_MODEL_274f954cf8774566a7480a456cbc24db",
            "_model_module": "@jupyter-widgets/controls",
            "children": [
              "IPY_MODEL_64e0e59aa1f14461bbd13b58840ff647",
              "IPY_MODEL_2411666207a0435289bac24220bc3f47",
              "IPY_MODEL_97cf342c4a184711a28d40ace7293c49"
            ]
          }
        },
        "274f954cf8774566a7480a456cbc24db": {
          "model_module": "@jupyter-widgets/base",
          "model_name": "LayoutModel",
          "state": {
            "_view_name": "LayoutView",
            "grid_template_rows": null,
            "right": null,
            "justify_content": null,
            "_view_module": "@jupyter-widgets/base",
            "overflow": null,
            "_model_module_version": "1.2.0",
            "_view_count": null,
            "flex_flow": null,
            "width": null,
            "min_width": null,
            "border": null,
            "align_items": null,
            "bottom": null,
            "_model_module": "@jupyter-widgets/base",
            "top": null,
            "grid_column": null,
            "overflow_y": null,
            "overflow_x": null,
            "grid_auto_flow": null,
            "grid_area": null,
            "grid_template_columns": null,
            "flex": null,
            "_model_name": "LayoutModel",
            "justify_items": null,
            "grid_row": null,
            "max_height": null,
            "align_content": null,
            "visibility": null,
            "align_self": null,
            "height": null,
            "min_height": null,
            "padding": null,
            "grid_auto_rows": null,
            "grid_gap": null,
            "max_width": null,
            "order": null,
            "_view_module_version": "1.2.0",
            "grid_template_areas": null,
            "object_position": null,
            "object_fit": null,
            "grid_auto_columns": null,
            "margin": null,
            "display": null,
            "left": null
          }
        },
        "64e0e59aa1f14461bbd13b58840ff647": {
          "model_module": "@jupyter-widgets/controls",
          "model_name": "HTMLModel",
          "state": {
            "_view_name": "HTMLView",
            "style": "IPY_MODEL_ec07d787b66242408d15841b1856050c",
            "_dom_classes": [],
            "description": "",
            "_model_name": "HTMLModel",
            "placeholder": "​",
            "_view_module": "@jupyter-widgets/controls",
            "_model_module_version": "1.5.0",
            "value": "Epochs 2/10. Running Loss:    1.1030: 100%",
            "_view_count": null,
            "_view_module_version": "1.5.0",
            "description_tooltip": null,
            "_model_module": "@jupyter-widgets/controls",
            "layout": "IPY_MODEL_e84462f5597147fcb37ae4557b2e9fa7"
          }
        },
        "2411666207a0435289bac24220bc3f47": {
          "model_module": "@jupyter-widgets/controls",
          "model_name": "FloatProgressModel",
          "state": {
            "_view_name": "ProgressView",
            "style": "IPY_MODEL_f6f29f44c39947cfbd89b4a14dbfd137",
            "_dom_classes": [],
            "description": "",
            "_model_name": "FloatProgressModel",
            "bar_style": "success",
            "max": 157,
            "_view_module": "@jupyter-widgets/controls",
            "_model_module_version": "1.5.0",
            "value": 157,
            "_view_count": null,
            "_view_module_version": "1.5.0",
            "orientation": "horizontal",
            "min": 0,
            "description_tooltip": null,
            "_model_module": "@jupyter-widgets/controls",
            "layout": "IPY_MODEL_8d245a61bec1404a882b39338d488cb5"
          }
        },
        "97cf342c4a184711a28d40ace7293c49": {
          "model_module": "@jupyter-widgets/controls",
          "model_name": "HTMLModel",
          "state": {
            "_view_name": "HTMLView",
            "style": "IPY_MODEL_2cfd7c74f8d548feb6e753fe8334cb71",
            "_dom_classes": [],
            "description": "",
            "_model_name": "HTMLModel",
            "placeholder": "​",
            "_view_module": "@jupyter-widgets/controls",
            "_model_module_version": "1.5.0",
            "value": " 157/157 [00:22&lt;00:00,  7.42it/s]",
            "_view_count": null,
            "_view_module_version": "1.5.0",
            "description_tooltip": null,
            "_model_module": "@jupyter-widgets/controls",
            "layout": "IPY_MODEL_a396c085a728446fb04cbed35bbb2521"
          }
        },
        "ec07d787b66242408d15841b1856050c": {
          "model_module": "@jupyter-widgets/controls",
          "model_name": "DescriptionStyleModel",
          "state": {
            "_view_name": "StyleView",
            "_model_name": "DescriptionStyleModel",
            "description_width": "",
            "_view_module": "@jupyter-widgets/base",
            "_model_module_version": "1.5.0",
            "_view_count": null,
            "_view_module_version": "1.2.0",
            "_model_module": "@jupyter-widgets/controls"
          }
        },
        "e84462f5597147fcb37ae4557b2e9fa7": {
          "model_module": "@jupyter-widgets/base",
          "model_name": "LayoutModel",
          "state": {
            "_view_name": "LayoutView",
            "grid_template_rows": null,
            "right": null,
            "justify_content": null,
            "_view_module": "@jupyter-widgets/base",
            "overflow": null,
            "_model_module_version": "1.2.0",
            "_view_count": null,
            "flex_flow": null,
            "width": null,
            "min_width": null,
            "border": null,
            "align_items": null,
            "bottom": null,
            "_model_module": "@jupyter-widgets/base",
            "top": null,
            "grid_column": null,
            "overflow_y": null,
            "overflow_x": null,
            "grid_auto_flow": null,
            "grid_area": null,
            "grid_template_columns": null,
            "flex": null,
            "_model_name": "LayoutModel",
            "justify_items": null,
            "grid_row": null,
            "max_height": null,
            "align_content": null,
            "visibility": null,
            "align_self": null,
            "height": null,
            "min_height": null,
            "padding": null,
            "grid_auto_rows": null,
            "grid_gap": null,
            "max_width": null,
            "order": null,
            "_view_module_version": "1.2.0",
            "grid_template_areas": null,
            "object_position": null,
            "object_fit": null,
            "grid_auto_columns": null,
            "margin": null,
            "display": null,
            "left": null
          }
        },
        "f6f29f44c39947cfbd89b4a14dbfd137": {
          "model_module": "@jupyter-widgets/controls",
          "model_name": "ProgressStyleModel",
          "state": {
            "_view_name": "StyleView",
            "_model_name": "ProgressStyleModel",
            "description_width": "",
            "_view_module": "@jupyter-widgets/base",
            "_model_module_version": "1.5.0",
            "_view_count": null,
            "_view_module_version": "1.2.0",
            "bar_color": null,
            "_model_module": "@jupyter-widgets/controls"
          }
        },
        "8d245a61bec1404a882b39338d488cb5": {
          "model_module": "@jupyter-widgets/base",
          "model_name": "LayoutModel",
          "state": {
            "_view_name": "LayoutView",
            "grid_template_rows": null,
            "right": null,
            "justify_content": null,
            "_view_module": "@jupyter-widgets/base",
            "overflow": null,
            "_model_module_version": "1.2.0",
            "_view_count": null,
            "flex_flow": null,
            "width": null,
            "min_width": null,
            "border": null,
            "align_items": null,
            "bottom": null,
            "_model_module": "@jupyter-widgets/base",
            "top": null,
            "grid_column": null,
            "overflow_y": null,
            "overflow_x": null,
            "grid_auto_flow": null,
            "grid_area": null,
            "grid_template_columns": null,
            "flex": null,
            "_model_name": "LayoutModel",
            "justify_items": null,
            "grid_row": null,
            "max_height": null,
            "align_content": null,
            "visibility": null,
            "align_self": null,
            "height": null,
            "min_height": null,
            "padding": null,
            "grid_auto_rows": null,
            "grid_gap": null,
            "max_width": null,
            "order": null,
            "_view_module_version": "1.2.0",
            "grid_template_areas": null,
            "object_position": null,
            "object_fit": null,
            "grid_auto_columns": null,
            "margin": null,
            "display": null,
            "left": null
          }
        },
        "2cfd7c74f8d548feb6e753fe8334cb71": {
          "model_module": "@jupyter-widgets/controls",
          "model_name": "DescriptionStyleModel",
          "state": {
            "_view_name": "StyleView",
            "_model_name": "DescriptionStyleModel",
            "description_width": "",
            "_view_module": "@jupyter-widgets/base",
            "_model_module_version": "1.5.0",
            "_view_count": null,
            "_view_module_version": "1.2.0",
            "_model_module": "@jupyter-widgets/controls"
          }
        },
        "a396c085a728446fb04cbed35bbb2521": {
          "model_module": "@jupyter-widgets/base",
          "model_name": "LayoutModel",
          "state": {
            "_view_name": "LayoutView",
            "grid_template_rows": null,
            "right": null,
            "justify_content": null,
            "_view_module": "@jupyter-widgets/base",
            "overflow": null,
            "_model_module_version": "1.2.0",
            "_view_count": null,
            "flex_flow": null,
            "width": null,
            "min_width": null,
            "border": null,
            "align_items": null,
            "bottom": null,
            "_model_module": "@jupyter-widgets/base",
            "top": null,
            "grid_column": null,
            "overflow_y": null,
            "overflow_x": null,
            "grid_auto_flow": null,
            "grid_area": null,
            "grid_template_columns": null,
            "flex": null,
            "_model_name": "LayoutModel",
            "justify_items": null,
            "grid_row": null,
            "max_height": null,
            "align_content": null,
            "visibility": null,
            "align_self": null,
            "height": null,
            "min_height": null,
            "padding": null,
            "grid_auto_rows": null,
            "grid_gap": null,
            "max_width": null,
            "order": null,
            "_view_module_version": "1.2.0",
            "grid_template_areas": null,
            "object_position": null,
            "object_fit": null,
            "grid_auto_columns": null,
            "margin": null,
            "display": null,
            "left": null
          }
        },
        "c74434f7306b4377adb0b77ca22282a7": {
          "model_module": "@jupyter-widgets/controls",
          "model_name": "HBoxModel",
          "state": {
            "_view_name": "HBoxView",
            "_dom_classes": [],
            "_model_name": "HBoxModel",
            "_view_module": "@jupyter-widgets/controls",
            "_model_module_version": "1.5.0",
            "_view_count": null,
            "_view_module_version": "1.5.0",
            "box_style": "",
            "layout": "IPY_MODEL_1197375d79ba44ce973627f585e20572",
            "_model_module": "@jupyter-widgets/controls",
            "children": [
              "IPY_MODEL_57123bf284de45d3a3655da49bf0ca25",
              "IPY_MODEL_dd8c10fe698c44c884764e7b0020f2b8",
              "IPY_MODEL_5b53da07c551459cb53839084993353b"
            ]
          }
        },
        "1197375d79ba44ce973627f585e20572": {
          "model_module": "@jupyter-widgets/base",
          "model_name": "LayoutModel",
          "state": {
            "_view_name": "LayoutView",
            "grid_template_rows": null,
            "right": null,
            "justify_content": null,
            "_view_module": "@jupyter-widgets/base",
            "overflow": null,
            "_model_module_version": "1.2.0",
            "_view_count": null,
            "flex_flow": null,
            "width": null,
            "min_width": null,
            "border": null,
            "align_items": null,
            "bottom": null,
            "_model_module": "@jupyter-widgets/base",
            "top": null,
            "grid_column": null,
            "overflow_y": null,
            "overflow_x": null,
            "grid_auto_flow": null,
            "grid_area": null,
            "grid_template_columns": null,
            "flex": null,
            "_model_name": "LayoutModel",
            "justify_items": null,
            "grid_row": null,
            "max_height": null,
            "align_content": null,
            "visibility": null,
            "align_self": null,
            "height": null,
            "min_height": null,
            "padding": null,
            "grid_auto_rows": null,
            "grid_gap": null,
            "max_width": null,
            "order": null,
            "_view_module_version": "1.2.0",
            "grid_template_areas": null,
            "object_position": null,
            "object_fit": null,
            "grid_auto_columns": null,
            "margin": null,
            "display": null,
            "left": null
          }
        },
        "57123bf284de45d3a3655da49bf0ca25": {
          "model_module": "@jupyter-widgets/controls",
          "model_name": "HTMLModel",
          "state": {
            "_view_name": "HTMLView",
            "style": "IPY_MODEL_b0c3de7cd3a9426bbe6e0d96fc8a5c2c",
            "_dom_classes": [],
            "description": "",
            "_model_name": "HTMLModel",
            "placeholder": "​",
            "_view_module": "@jupyter-widgets/controls",
            "_model_module_version": "1.5.0",
            "value": "Epochs 3/10. Running Loss:    1.0707: 100%",
            "_view_count": null,
            "_view_module_version": "1.5.0",
            "description_tooltip": null,
            "_model_module": "@jupyter-widgets/controls",
            "layout": "IPY_MODEL_52aa227c26594d5f9250f2da95daae8d"
          }
        },
        "dd8c10fe698c44c884764e7b0020f2b8": {
          "model_module": "@jupyter-widgets/controls",
          "model_name": "FloatProgressModel",
          "state": {
            "_view_name": "ProgressView",
            "style": "IPY_MODEL_25a0cd3e66e14676aa26db9c4034ec6a",
            "_dom_classes": [],
            "description": "",
            "_model_name": "FloatProgressModel",
            "bar_style": "success",
            "max": 157,
            "_view_module": "@jupyter-widgets/controls",
            "_model_module_version": "1.5.0",
            "value": 157,
            "_view_count": null,
            "_view_module_version": "1.5.0",
            "orientation": "horizontal",
            "min": 0,
            "description_tooltip": null,
            "_model_module": "@jupyter-widgets/controls",
            "layout": "IPY_MODEL_9a4b841ef89644eb991949c826f8de74"
          }
        },
        "5b53da07c551459cb53839084993353b": {
          "model_module": "@jupyter-widgets/controls",
          "model_name": "HTMLModel",
          "state": {
            "_view_name": "HTMLView",
            "style": "IPY_MODEL_6932f549e93347d8a572de8a57693169",
            "_dom_classes": [],
            "description": "",
            "_model_name": "HTMLModel",
            "placeholder": "​",
            "_view_module": "@jupyter-widgets/controls",
            "_model_module_version": "1.5.0",
            "value": " 157/157 [00:22&lt;00:00,  7.57it/s]",
            "_view_count": null,
            "_view_module_version": "1.5.0",
            "description_tooltip": null,
            "_model_module": "@jupyter-widgets/controls",
            "layout": "IPY_MODEL_b035256b3ed44db7ba4cf7a7ab6fb08b"
          }
        },
        "b0c3de7cd3a9426bbe6e0d96fc8a5c2c": {
          "model_module": "@jupyter-widgets/controls",
          "model_name": "DescriptionStyleModel",
          "state": {
            "_view_name": "StyleView",
            "_model_name": "DescriptionStyleModel",
            "description_width": "",
            "_view_module": "@jupyter-widgets/base",
            "_model_module_version": "1.5.0",
            "_view_count": null,
            "_view_module_version": "1.2.0",
            "_model_module": "@jupyter-widgets/controls"
          }
        },
        "52aa227c26594d5f9250f2da95daae8d": {
          "model_module": "@jupyter-widgets/base",
          "model_name": "LayoutModel",
          "state": {
            "_view_name": "LayoutView",
            "grid_template_rows": null,
            "right": null,
            "justify_content": null,
            "_view_module": "@jupyter-widgets/base",
            "overflow": null,
            "_model_module_version": "1.2.0",
            "_view_count": null,
            "flex_flow": null,
            "width": null,
            "min_width": null,
            "border": null,
            "align_items": null,
            "bottom": null,
            "_model_module": "@jupyter-widgets/base",
            "top": null,
            "grid_column": null,
            "overflow_y": null,
            "overflow_x": null,
            "grid_auto_flow": null,
            "grid_area": null,
            "grid_template_columns": null,
            "flex": null,
            "_model_name": "LayoutModel",
            "justify_items": null,
            "grid_row": null,
            "max_height": null,
            "align_content": null,
            "visibility": null,
            "align_self": null,
            "height": null,
            "min_height": null,
            "padding": null,
            "grid_auto_rows": null,
            "grid_gap": null,
            "max_width": null,
            "order": null,
            "_view_module_version": "1.2.0",
            "grid_template_areas": null,
            "object_position": null,
            "object_fit": null,
            "grid_auto_columns": null,
            "margin": null,
            "display": null,
            "left": null
          }
        },
        "25a0cd3e66e14676aa26db9c4034ec6a": {
          "model_module": "@jupyter-widgets/controls",
          "model_name": "ProgressStyleModel",
          "state": {
            "_view_name": "StyleView",
            "_model_name": "ProgressStyleModel",
            "description_width": "",
            "_view_module": "@jupyter-widgets/base",
            "_model_module_version": "1.5.0",
            "_view_count": null,
            "_view_module_version": "1.2.0",
            "bar_color": null,
            "_model_module": "@jupyter-widgets/controls"
          }
        },
        "9a4b841ef89644eb991949c826f8de74": {
          "model_module": "@jupyter-widgets/base",
          "model_name": "LayoutModel",
          "state": {
            "_view_name": "LayoutView",
            "grid_template_rows": null,
            "right": null,
            "justify_content": null,
            "_view_module": "@jupyter-widgets/base",
            "overflow": null,
            "_model_module_version": "1.2.0",
            "_view_count": null,
            "flex_flow": null,
            "width": null,
            "min_width": null,
            "border": null,
            "align_items": null,
            "bottom": null,
            "_model_module": "@jupyter-widgets/base",
            "top": null,
            "grid_column": null,
            "overflow_y": null,
            "overflow_x": null,
            "grid_auto_flow": null,
            "grid_area": null,
            "grid_template_columns": null,
            "flex": null,
            "_model_name": "LayoutModel",
            "justify_items": null,
            "grid_row": null,
            "max_height": null,
            "align_content": null,
            "visibility": null,
            "align_self": null,
            "height": null,
            "min_height": null,
            "padding": null,
            "grid_auto_rows": null,
            "grid_gap": null,
            "max_width": null,
            "order": null,
            "_view_module_version": "1.2.0",
            "grid_template_areas": null,
            "object_position": null,
            "object_fit": null,
            "grid_auto_columns": null,
            "margin": null,
            "display": null,
            "left": null
          }
        },
        "6932f549e93347d8a572de8a57693169": {
          "model_module": "@jupyter-widgets/controls",
          "model_name": "DescriptionStyleModel",
          "state": {
            "_view_name": "StyleView",
            "_model_name": "DescriptionStyleModel",
            "description_width": "",
            "_view_module": "@jupyter-widgets/base",
            "_model_module_version": "1.5.0",
            "_view_count": null,
            "_view_module_version": "1.2.0",
            "_model_module": "@jupyter-widgets/controls"
          }
        },
        "b035256b3ed44db7ba4cf7a7ab6fb08b": {
          "model_module": "@jupyter-widgets/base",
          "model_name": "LayoutModel",
          "state": {
            "_view_name": "LayoutView",
            "grid_template_rows": null,
            "right": null,
            "justify_content": null,
            "_view_module": "@jupyter-widgets/base",
            "overflow": null,
            "_model_module_version": "1.2.0",
            "_view_count": null,
            "flex_flow": null,
            "width": null,
            "min_width": null,
            "border": null,
            "align_items": null,
            "bottom": null,
            "_model_module": "@jupyter-widgets/base",
            "top": null,
            "grid_column": null,
            "overflow_y": null,
            "overflow_x": null,
            "grid_auto_flow": null,
            "grid_area": null,
            "grid_template_columns": null,
            "flex": null,
            "_model_name": "LayoutModel",
            "justify_items": null,
            "grid_row": null,
            "max_height": null,
            "align_content": null,
            "visibility": null,
            "align_self": null,
            "height": null,
            "min_height": null,
            "padding": null,
            "grid_auto_rows": null,
            "grid_gap": null,
            "max_width": null,
            "order": null,
            "_view_module_version": "1.2.0",
            "grid_template_areas": null,
            "object_position": null,
            "object_fit": null,
            "grid_auto_columns": null,
            "margin": null,
            "display": null,
            "left": null
          }
        },
        "0837f11a579d4928bbca2182468668c0": {
          "model_module": "@jupyter-widgets/controls",
          "model_name": "HBoxModel",
          "state": {
            "_view_name": "HBoxView",
            "_dom_classes": [],
            "_model_name": "HBoxModel",
            "_view_module": "@jupyter-widgets/controls",
            "_model_module_version": "1.5.0",
            "_view_count": null,
            "_view_module_version": "1.5.0",
            "box_style": "",
            "layout": "IPY_MODEL_eb0e1828b8fc470c803b92d97132aaec",
            "_model_module": "@jupyter-widgets/controls",
            "children": [
              "IPY_MODEL_2bcc60c005a54453a4efc6e5384b762f",
              "IPY_MODEL_79d8d49c0f0648fe90deaf834780f0d5",
              "IPY_MODEL_24eae392a45b4bdebfaa113b3f042baf"
            ]
          }
        },
        "eb0e1828b8fc470c803b92d97132aaec": {
          "model_module": "@jupyter-widgets/base",
          "model_name": "LayoutModel",
          "state": {
            "_view_name": "LayoutView",
            "grid_template_rows": null,
            "right": null,
            "justify_content": null,
            "_view_module": "@jupyter-widgets/base",
            "overflow": null,
            "_model_module_version": "1.2.0",
            "_view_count": null,
            "flex_flow": null,
            "width": null,
            "min_width": null,
            "border": null,
            "align_items": null,
            "bottom": null,
            "_model_module": "@jupyter-widgets/base",
            "top": null,
            "grid_column": null,
            "overflow_y": null,
            "overflow_x": null,
            "grid_auto_flow": null,
            "grid_area": null,
            "grid_template_columns": null,
            "flex": null,
            "_model_name": "LayoutModel",
            "justify_items": null,
            "grid_row": null,
            "max_height": null,
            "align_content": null,
            "visibility": null,
            "align_self": null,
            "height": null,
            "min_height": null,
            "padding": null,
            "grid_auto_rows": null,
            "grid_gap": null,
            "max_width": null,
            "order": null,
            "_view_module_version": "1.2.0",
            "grid_template_areas": null,
            "object_position": null,
            "object_fit": null,
            "grid_auto_columns": null,
            "margin": null,
            "display": null,
            "left": null
          }
        },
        "2bcc60c005a54453a4efc6e5384b762f": {
          "model_module": "@jupyter-widgets/controls",
          "model_name": "HTMLModel",
          "state": {
            "_view_name": "HTMLView",
            "style": "IPY_MODEL_bd9ec8c8af2446dbb2a504e1fb99a4b9",
            "_dom_classes": [],
            "description": "",
            "_model_name": "HTMLModel",
            "placeholder": "​",
            "_view_module": "@jupyter-widgets/controls",
            "_model_module_version": "1.5.0",
            "value": "Epochs 4/10. Running Loss:    0.0205: 100%",
            "_view_count": null,
            "_view_module_version": "1.5.0",
            "description_tooltip": null,
            "_model_module": "@jupyter-widgets/controls",
            "layout": "IPY_MODEL_3d399fddc7f0414a976f5e281bdf492e"
          }
        },
        "79d8d49c0f0648fe90deaf834780f0d5": {
          "model_module": "@jupyter-widgets/controls",
          "model_name": "FloatProgressModel",
          "state": {
            "_view_name": "ProgressView",
            "style": "IPY_MODEL_50f4b89ee8234edd920feec8080ed762",
            "_dom_classes": [],
            "description": "",
            "_model_name": "FloatProgressModel",
            "bar_style": "success",
            "max": 157,
            "_view_module": "@jupyter-widgets/controls",
            "_model_module_version": "1.5.0",
            "value": 157,
            "_view_count": null,
            "_view_module_version": "1.5.0",
            "orientation": "horizontal",
            "min": 0,
            "description_tooltip": null,
            "_model_module": "@jupyter-widgets/controls",
            "layout": "IPY_MODEL_024cb09d2cf24cec84bd541a0f2ede3a"
          }
        },
        "24eae392a45b4bdebfaa113b3f042baf": {
          "model_module": "@jupyter-widgets/controls",
          "model_name": "HTMLModel",
          "state": {
            "_view_name": "HTMLView",
            "style": "IPY_MODEL_d0fa2d9b78624ba086cb06e54a1585f1",
            "_dom_classes": [],
            "description": "",
            "_model_name": "HTMLModel",
            "placeholder": "​",
            "_view_module": "@jupyter-widgets/controls",
            "_model_module_version": "1.5.0",
            "value": " 157/157 [00:22&lt;00:00,  7.61it/s]",
            "_view_count": null,
            "_view_module_version": "1.5.0",
            "description_tooltip": null,
            "_model_module": "@jupyter-widgets/controls",
            "layout": "IPY_MODEL_944f90813cdd467a8a1e5a01687f85a5"
          }
        },
        "bd9ec8c8af2446dbb2a504e1fb99a4b9": {
          "model_module": "@jupyter-widgets/controls",
          "model_name": "DescriptionStyleModel",
          "state": {
            "_view_name": "StyleView",
            "_model_name": "DescriptionStyleModel",
            "description_width": "",
            "_view_module": "@jupyter-widgets/base",
            "_model_module_version": "1.5.0",
            "_view_count": null,
            "_view_module_version": "1.2.0",
            "_model_module": "@jupyter-widgets/controls"
          }
        },
        "3d399fddc7f0414a976f5e281bdf492e": {
          "model_module": "@jupyter-widgets/base",
          "model_name": "LayoutModel",
          "state": {
            "_view_name": "LayoutView",
            "grid_template_rows": null,
            "right": null,
            "justify_content": null,
            "_view_module": "@jupyter-widgets/base",
            "overflow": null,
            "_model_module_version": "1.2.0",
            "_view_count": null,
            "flex_flow": null,
            "width": null,
            "min_width": null,
            "border": null,
            "align_items": null,
            "bottom": null,
            "_model_module": "@jupyter-widgets/base",
            "top": null,
            "grid_column": null,
            "overflow_y": null,
            "overflow_x": null,
            "grid_auto_flow": null,
            "grid_area": null,
            "grid_template_columns": null,
            "flex": null,
            "_model_name": "LayoutModel",
            "justify_items": null,
            "grid_row": null,
            "max_height": null,
            "align_content": null,
            "visibility": null,
            "align_self": null,
            "height": null,
            "min_height": null,
            "padding": null,
            "grid_auto_rows": null,
            "grid_gap": null,
            "max_width": null,
            "order": null,
            "_view_module_version": "1.2.0",
            "grid_template_areas": null,
            "object_position": null,
            "object_fit": null,
            "grid_auto_columns": null,
            "margin": null,
            "display": null,
            "left": null
          }
        },
        "50f4b89ee8234edd920feec8080ed762": {
          "model_module": "@jupyter-widgets/controls",
          "model_name": "ProgressStyleModel",
          "state": {
            "_view_name": "StyleView",
            "_model_name": "ProgressStyleModel",
            "description_width": "",
            "_view_module": "@jupyter-widgets/base",
            "_model_module_version": "1.5.0",
            "_view_count": null,
            "_view_module_version": "1.2.0",
            "bar_color": null,
            "_model_module": "@jupyter-widgets/controls"
          }
        },
        "024cb09d2cf24cec84bd541a0f2ede3a": {
          "model_module": "@jupyter-widgets/base",
          "model_name": "LayoutModel",
          "state": {
            "_view_name": "LayoutView",
            "grid_template_rows": null,
            "right": null,
            "justify_content": null,
            "_view_module": "@jupyter-widgets/base",
            "overflow": null,
            "_model_module_version": "1.2.0",
            "_view_count": null,
            "flex_flow": null,
            "width": null,
            "min_width": null,
            "border": null,
            "align_items": null,
            "bottom": null,
            "_model_module": "@jupyter-widgets/base",
            "top": null,
            "grid_column": null,
            "overflow_y": null,
            "overflow_x": null,
            "grid_auto_flow": null,
            "grid_area": null,
            "grid_template_columns": null,
            "flex": null,
            "_model_name": "LayoutModel",
            "justify_items": null,
            "grid_row": null,
            "max_height": null,
            "align_content": null,
            "visibility": null,
            "align_self": null,
            "height": null,
            "min_height": null,
            "padding": null,
            "grid_auto_rows": null,
            "grid_gap": null,
            "max_width": null,
            "order": null,
            "_view_module_version": "1.2.0",
            "grid_template_areas": null,
            "object_position": null,
            "object_fit": null,
            "grid_auto_columns": null,
            "margin": null,
            "display": null,
            "left": null
          }
        },
        "d0fa2d9b78624ba086cb06e54a1585f1": {
          "model_module": "@jupyter-widgets/controls",
          "model_name": "DescriptionStyleModel",
          "state": {
            "_view_name": "StyleView",
            "_model_name": "DescriptionStyleModel",
            "description_width": "",
            "_view_module": "@jupyter-widgets/base",
            "_model_module_version": "1.5.0",
            "_view_count": null,
            "_view_module_version": "1.2.0",
            "_model_module": "@jupyter-widgets/controls"
          }
        },
        "944f90813cdd467a8a1e5a01687f85a5": {
          "model_module": "@jupyter-widgets/base",
          "model_name": "LayoutModel",
          "state": {
            "_view_name": "LayoutView",
            "grid_template_rows": null,
            "right": null,
            "justify_content": null,
            "_view_module": "@jupyter-widgets/base",
            "overflow": null,
            "_model_module_version": "1.2.0",
            "_view_count": null,
            "flex_flow": null,
            "width": null,
            "min_width": null,
            "border": null,
            "align_items": null,
            "bottom": null,
            "_model_module": "@jupyter-widgets/base",
            "top": null,
            "grid_column": null,
            "overflow_y": null,
            "overflow_x": null,
            "grid_auto_flow": null,
            "grid_area": null,
            "grid_template_columns": null,
            "flex": null,
            "_model_name": "LayoutModel",
            "justify_items": null,
            "grid_row": null,
            "max_height": null,
            "align_content": null,
            "visibility": null,
            "align_self": null,
            "height": null,
            "min_height": null,
            "padding": null,
            "grid_auto_rows": null,
            "grid_gap": null,
            "max_width": null,
            "order": null,
            "_view_module_version": "1.2.0",
            "grid_template_areas": null,
            "object_position": null,
            "object_fit": null,
            "grid_auto_columns": null,
            "margin": null,
            "display": null,
            "left": null
          }
        },
        "222aea41976a4574a8256161072b53da": {
          "model_module": "@jupyter-widgets/controls",
          "model_name": "HBoxModel",
          "state": {
            "_view_name": "HBoxView",
            "_dom_classes": [],
            "_model_name": "HBoxModel",
            "_view_module": "@jupyter-widgets/controls",
            "_model_module_version": "1.5.0",
            "_view_count": null,
            "_view_module_version": "1.5.0",
            "box_style": "",
            "layout": "IPY_MODEL_3b85f567ef5442d686e04224d0850266",
            "_model_module": "@jupyter-widgets/controls",
            "children": [
              "IPY_MODEL_9c6479f51e8e4ab7bfc23527dbd44e26",
              "IPY_MODEL_99eee5938a8e4ac69a218ad0138562b0",
              "IPY_MODEL_48655e03455c4639bcce25ddcba73f56"
            ]
          }
        },
        "3b85f567ef5442d686e04224d0850266": {
          "model_module": "@jupyter-widgets/base",
          "model_name": "LayoutModel",
          "state": {
            "_view_name": "LayoutView",
            "grid_template_rows": null,
            "right": null,
            "justify_content": null,
            "_view_module": "@jupyter-widgets/base",
            "overflow": null,
            "_model_module_version": "1.2.0",
            "_view_count": null,
            "flex_flow": null,
            "width": null,
            "min_width": null,
            "border": null,
            "align_items": null,
            "bottom": null,
            "_model_module": "@jupyter-widgets/base",
            "top": null,
            "grid_column": null,
            "overflow_y": null,
            "overflow_x": null,
            "grid_auto_flow": null,
            "grid_area": null,
            "grid_template_columns": null,
            "flex": null,
            "_model_name": "LayoutModel",
            "justify_items": null,
            "grid_row": null,
            "max_height": null,
            "align_content": null,
            "visibility": null,
            "align_self": null,
            "height": null,
            "min_height": null,
            "padding": null,
            "grid_auto_rows": null,
            "grid_gap": null,
            "max_width": null,
            "order": null,
            "_view_module_version": "1.2.0",
            "grid_template_areas": null,
            "object_position": null,
            "object_fit": null,
            "grid_auto_columns": null,
            "margin": null,
            "display": null,
            "left": null
          }
        },
        "9c6479f51e8e4ab7bfc23527dbd44e26": {
          "model_module": "@jupyter-widgets/controls",
          "model_name": "HTMLModel",
          "state": {
            "_view_name": "HTMLView",
            "style": "IPY_MODEL_c0e8fa5b0d254867a7dc6171a81b9933",
            "_dom_classes": [],
            "description": "",
            "_model_name": "HTMLModel",
            "placeholder": "​",
            "_view_module": "@jupyter-widgets/controls",
            "_model_module_version": "1.5.0",
            "value": "Epochs 5/10. Running Loss:    0.0111: 100%",
            "_view_count": null,
            "_view_module_version": "1.5.0",
            "description_tooltip": null,
            "_model_module": "@jupyter-widgets/controls",
            "layout": "IPY_MODEL_d0368ac6e5e14378aba116e18c525a84"
          }
        },
        "99eee5938a8e4ac69a218ad0138562b0": {
          "model_module": "@jupyter-widgets/controls",
          "model_name": "FloatProgressModel",
          "state": {
            "_view_name": "ProgressView",
            "style": "IPY_MODEL_8a1745a8309b46d19075dc85a1d4d533",
            "_dom_classes": [],
            "description": "",
            "_model_name": "FloatProgressModel",
            "bar_style": "success",
            "max": 157,
            "_view_module": "@jupyter-widgets/controls",
            "_model_module_version": "1.5.0",
            "value": 157,
            "_view_count": null,
            "_view_module_version": "1.5.0",
            "orientation": "horizontal",
            "min": 0,
            "description_tooltip": null,
            "_model_module": "@jupyter-widgets/controls",
            "layout": "IPY_MODEL_bc825e97859549eaba30621210661c55"
          }
        },
        "48655e03455c4639bcce25ddcba73f56": {
          "model_module": "@jupyter-widgets/controls",
          "model_name": "HTMLModel",
          "state": {
            "_view_name": "HTMLView",
            "style": "IPY_MODEL_c217b796a240437686d0a3704e11042c",
            "_dom_classes": [],
            "description": "",
            "_model_name": "HTMLModel",
            "placeholder": "​",
            "_view_module": "@jupyter-widgets/controls",
            "_model_module_version": "1.5.0",
            "value": " 157/157 [00:22&lt;00:00,  7.58it/s]",
            "_view_count": null,
            "_view_module_version": "1.5.0",
            "description_tooltip": null,
            "_model_module": "@jupyter-widgets/controls",
            "layout": "IPY_MODEL_6b83c54b7a1c424f921d55c7a64ba5e7"
          }
        },
        "c0e8fa5b0d254867a7dc6171a81b9933": {
          "model_module": "@jupyter-widgets/controls",
          "model_name": "DescriptionStyleModel",
          "state": {
            "_view_name": "StyleView",
            "_model_name": "DescriptionStyleModel",
            "description_width": "",
            "_view_module": "@jupyter-widgets/base",
            "_model_module_version": "1.5.0",
            "_view_count": null,
            "_view_module_version": "1.2.0",
            "_model_module": "@jupyter-widgets/controls"
          }
        },
        "d0368ac6e5e14378aba116e18c525a84": {
          "model_module": "@jupyter-widgets/base",
          "model_name": "LayoutModel",
          "state": {
            "_view_name": "LayoutView",
            "grid_template_rows": null,
            "right": null,
            "justify_content": null,
            "_view_module": "@jupyter-widgets/base",
            "overflow": null,
            "_model_module_version": "1.2.0",
            "_view_count": null,
            "flex_flow": null,
            "width": null,
            "min_width": null,
            "border": null,
            "align_items": null,
            "bottom": null,
            "_model_module": "@jupyter-widgets/base",
            "top": null,
            "grid_column": null,
            "overflow_y": null,
            "overflow_x": null,
            "grid_auto_flow": null,
            "grid_area": null,
            "grid_template_columns": null,
            "flex": null,
            "_model_name": "LayoutModel",
            "justify_items": null,
            "grid_row": null,
            "max_height": null,
            "align_content": null,
            "visibility": null,
            "align_self": null,
            "height": null,
            "min_height": null,
            "padding": null,
            "grid_auto_rows": null,
            "grid_gap": null,
            "max_width": null,
            "order": null,
            "_view_module_version": "1.2.0",
            "grid_template_areas": null,
            "object_position": null,
            "object_fit": null,
            "grid_auto_columns": null,
            "margin": null,
            "display": null,
            "left": null
          }
        },
        "8a1745a8309b46d19075dc85a1d4d533": {
          "model_module": "@jupyter-widgets/controls",
          "model_name": "ProgressStyleModel",
          "state": {
            "_view_name": "StyleView",
            "_model_name": "ProgressStyleModel",
            "description_width": "",
            "_view_module": "@jupyter-widgets/base",
            "_model_module_version": "1.5.0",
            "_view_count": null,
            "_view_module_version": "1.2.0",
            "bar_color": null,
            "_model_module": "@jupyter-widgets/controls"
          }
        },
        "bc825e97859549eaba30621210661c55": {
          "model_module": "@jupyter-widgets/base",
          "model_name": "LayoutModel",
          "state": {
            "_view_name": "LayoutView",
            "grid_template_rows": null,
            "right": null,
            "justify_content": null,
            "_view_module": "@jupyter-widgets/base",
            "overflow": null,
            "_model_module_version": "1.2.0",
            "_view_count": null,
            "flex_flow": null,
            "width": null,
            "min_width": null,
            "border": null,
            "align_items": null,
            "bottom": null,
            "_model_module": "@jupyter-widgets/base",
            "top": null,
            "grid_column": null,
            "overflow_y": null,
            "overflow_x": null,
            "grid_auto_flow": null,
            "grid_area": null,
            "grid_template_columns": null,
            "flex": null,
            "_model_name": "LayoutModel",
            "justify_items": null,
            "grid_row": null,
            "max_height": null,
            "align_content": null,
            "visibility": null,
            "align_self": null,
            "height": null,
            "min_height": null,
            "padding": null,
            "grid_auto_rows": null,
            "grid_gap": null,
            "max_width": null,
            "order": null,
            "_view_module_version": "1.2.0",
            "grid_template_areas": null,
            "object_position": null,
            "object_fit": null,
            "grid_auto_columns": null,
            "margin": null,
            "display": null,
            "left": null
          }
        },
        "c217b796a240437686d0a3704e11042c": {
          "model_module": "@jupyter-widgets/controls",
          "model_name": "DescriptionStyleModel",
          "state": {
            "_view_name": "StyleView",
            "_model_name": "DescriptionStyleModel",
            "description_width": "",
            "_view_module": "@jupyter-widgets/base",
            "_model_module_version": "1.5.0",
            "_view_count": null,
            "_view_module_version": "1.2.0",
            "_model_module": "@jupyter-widgets/controls"
          }
        },
        "6b83c54b7a1c424f921d55c7a64ba5e7": {
          "model_module": "@jupyter-widgets/base",
          "model_name": "LayoutModel",
          "state": {
            "_view_name": "LayoutView",
            "grid_template_rows": null,
            "right": null,
            "justify_content": null,
            "_view_module": "@jupyter-widgets/base",
            "overflow": null,
            "_model_module_version": "1.2.0",
            "_view_count": null,
            "flex_flow": null,
            "width": null,
            "min_width": null,
            "border": null,
            "align_items": null,
            "bottom": null,
            "_model_module": "@jupyter-widgets/base",
            "top": null,
            "grid_column": null,
            "overflow_y": null,
            "overflow_x": null,
            "grid_auto_flow": null,
            "grid_area": null,
            "grid_template_columns": null,
            "flex": null,
            "_model_name": "LayoutModel",
            "justify_items": null,
            "grid_row": null,
            "max_height": null,
            "align_content": null,
            "visibility": null,
            "align_self": null,
            "height": null,
            "min_height": null,
            "padding": null,
            "grid_auto_rows": null,
            "grid_gap": null,
            "max_width": null,
            "order": null,
            "_view_module_version": "1.2.0",
            "grid_template_areas": null,
            "object_position": null,
            "object_fit": null,
            "grid_auto_columns": null,
            "margin": null,
            "display": null,
            "left": null
          }
        },
        "37596c9ce9fa403a895c045aba8b50f8": {
          "model_module": "@jupyter-widgets/controls",
          "model_name": "HBoxModel",
          "state": {
            "_view_name": "HBoxView",
            "_dom_classes": [],
            "_model_name": "HBoxModel",
            "_view_module": "@jupyter-widgets/controls",
            "_model_module_version": "1.5.0",
            "_view_count": null,
            "_view_module_version": "1.5.0",
            "box_style": "",
            "layout": "IPY_MODEL_323408e70d9d494cad7554edac54b8b3",
            "_model_module": "@jupyter-widgets/controls",
            "children": [
              "IPY_MODEL_d97439efb1114dea8e724b903ee85d11",
              "IPY_MODEL_21e98d6e640a48d4b40a419ac81bdec1",
              "IPY_MODEL_3a80684f5b4945f2a0b64fece112e08f"
            ]
          }
        },
        "323408e70d9d494cad7554edac54b8b3": {
          "model_module": "@jupyter-widgets/base",
          "model_name": "LayoutModel",
          "state": {
            "_view_name": "LayoutView",
            "grid_template_rows": null,
            "right": null,
            "justify_content": null,
            "_view_module": "@jupyter-widgets/base",
            "overflow": null,
            "_model_module_version": "1.2.0",
            "_view_count": null,
            "flex_flow": null,
            "width": null,
            "min_width": null,
            "border": null,
            "align_items": null,
            "bottom": null,
            "_model_module": "@jupyter-widgets/base",
            "top": null,
            "grid_column": null,
            "overflow_y": null,
            "overflow_x": null,
            "grid_auto_flow": null,
            "grid_area": null,
            "grid_template_columns": null,
            "flex": null,
            "_model_name": "LayoutModel",
            "justify_items": null,
            "grid_row": null,
            "max_height": null,
            "align_content": null,
            "visibility": null,
            "align_self": null,
            "height": null,
            "min_height": null,
            "padding": null,
            "grid_auto_rows": null,
            "grid_gap": null,
            "max_width": null,
            "order": null,
            "_view_module_version": "1.2.0",
            "grid_template_areas": null,
            "object_position": null,
            "object_fit": null,
            "grid_auto_columns": null,
            "margin": null,
            "display": null,
            "left": null
          }
        },
        "d97439efb1114dea8e724b903ee85d11": {
          "model_module": "@jupyter-widgets/controls",
          "model_name": "HTMLModel",
          "state": {
            "_view_name": "HTMLView",
            "style": "IPY_MODEL_50d833eec501462f93fdc1e38eee1380",
            "_dom_classes": [],
            "description": "",
            "_model_name": "HTMLModel",
            "placeholder": "​",
            "_view_module": "@jupyter-widgets/controls",
            "_model_module_version": "1.5.0",
            "value": "Epochs 6/10. Running Loss:    0.0023: 100%",
            "_view_count": null,
            "_view_module_version": "1.5.0",
            "description_tooltip": null,
            "_model_module": "@jupyter-widgets/controls",
            "layout": "IPY_MODEL_f97ed821ffcb4426beb7d4da6d33b387"
          }
        },
        "21e98d6e640a48d4b40a419ac81bdec1": {
          "model_module": "@jupyter-widgets/controls",
          "model_name": "FloatProgressModel",
          "state": {
            "_view_name": "ProgressView",
            "style": "IPY_MODEL_0f8e152c00f7485ba8dfbab019f5797a",
            "_dom_classes": [],
            "description": "",
            "_model_name": "FloatProgressModel",
            "bar_style": "success",
            "max": 157,
            "_view_module": "@jupyter-widgets/controls",
            "_model_module_version": "1.5.0",
            "value": 157,
            "_view_count": null,
            "_view_module_version": "1.5.0",
            "orientation": "horizontal",
            "min": 0,
            "description_tooltip": null,
            "_model_module": "@jupyter-widgets/controls",
            "layout": "IPY_MODEL_af35c06ef3c94e678ef1a1ed66629c78"
          }
        },
        "3a80684f5b4945f2a0b64fece112e08f": {
          "model_module": "@jupyter-widgets/controls",
          "model_name": "HTMLModel",
          "state": {
            "_view_name": "HTMLView",
            "style": "IPY_MODEL_02661634e5e643fa96f6a13914195429",
            "_dom_classes": [],
            "description": "",
            "_model_name": "HTMLModel",
            "placeholder": "​",
            "_view_module": "@jupyter-widgets/controls",
            "_model_module_version": "1.5.0",
            "value": " 157/157 [00:22&lt;00:00,  7.72it/s]",
            "_view_count": null,
            "_view_module_version": "1.5.0",
            "description_tooltip": null,
            "_model_module": "@jupyter-widgets/controls",
            "layout": "IPY_MODEL_94dc48524afc4ff49f4f1d6dc52edf2c"
          }
        },
        "50d833eec501462f93fdc1e38eee1380": {
          "model_module": "@jupyter-widgets/controls",
          "model_name": "DescriptionStyleModel",
          "state": {
            "_view_name": "StyleView",
            "_model_name": "DescriptionStyleModel",
            "description_width": "",
            "_view_module": "@jupyter-widgets/base",
            "_model_module_version": "1.5.0",
            "_view_count": null,
            "_view_module_version": "1.2.0",
            "_model_module": "@jupyter-widgets/controls"
          }
        },
        "f97ed821ffcb4426beb7d4da6d33b387": {
          "model_module": "@jupyter-widgets/base",
          "model_name": "LayoutModel",
          "state": {
            "_view_name": "LayoutView",
            "grid_template_rows": null,
            "right": null,
            "justify_content": null,
            "_view_module": "@jupyter-widgets/base",
            "overflow": null,
            "_model_module_version": "1.2.0",
            "_view_count": null,
            "flex_flow": null,
            "width": null,
            "min_width": null,
            "border": null,
            "align_items": null,
            "bottom": null,
            "_model_module": "@jupyter-widgets/base",
            "top": null,
            "grid_column": null,
            "overflow_y": null,
            "overflow_x": null,
            "grid_auto_flow": null,
            "grid_area": null,
            "grid_template_columns": null,
            "flex": null,
            "_model_name": "LayoutModel",
            "justify_items": null,
            "grid_row": null,
            "max_height": null,
            "align_content": null,
            "visibility": null,
            "align_self": null,
            "height": null,
            "min_height": null,
            "padding": null,
            "grid_auto_rows": null,
            "grid_gap": null,
            "max_width": null,
            "order": null,
            "_view_module_version": "1.2.0",
            "grid_template_areas": null,
            "object_position": null,
            "object_fit": null,
            "grid_auto_columns": null,
            "margin": null,
            "display": null,
            "left": null
          }
        },
        "0f8e152c00f7485ba8dfbab019f5797a": {
          "model_module": "@jupyter-widgets/controls",
          "model_name": "ProgressStyleModel",
          "state": {
            "_view_name": "StyleView",
            "_model_name": "ProgressStyleModel",
            "description_width": "",
            "_view_module": "@jupyter-widgets/base",
            "_model_module_version": "1.5.0",
            "_view_count": null,
            "_view_module_version": "1.2.0",
            "bar_color": null,
            "_model_module": "@jupyter-widgets/controls"
          }
        },
        "af35c06ef3c94e678ef1a1ed66629c78": {
          "model_module": "@jupyter-widgets/base",
          "model_name": "LayoutModel",
          "state": {
            "_view_name": "LayoutView",
            "grid_template_rows": null,
            "right": null,
            "justify_content": null,
            "_view_module": "@jupyter-widgets/base",
            "overflow": null,
            "_model_module_version": "1.2.0",
            "_view_count": null,
            "flex_flow": null,
            "width": null,
            "min_width": null,
            "border": null,
            "align_items": null,
            "bottom": null,
            "_model_module": "@jupyter-widgets/base",
            "top": null,
            "grid_column": null,
            "overflow_y": null,
            "overflow_x": null,
            "grid_auto_flow": null,
            "grid_area": null,
            "grid_template_columns": null,
            "flex": null,
            "_model_name": "LayoutModel",
            "justify_items": null,
            "grid_row": null,
            "max_height": null,
            "align_content": null,
            "visibility": null,
            "align_self": null,
            "height": null,
            "min_height": null,
            "padding": null,
            "grid_auto_rows": null,
            "grid_gap": null,
            "max_width": null,
            "order": null,
            "_view_module_version": "1.2.0",
            "grid_template_areas": null,
            "object_position": null,
            "object_fit": null,
            "grid_auto_columns": null,
            "margin": null,
            "display": null,
            "left": null
          }
        },
        "02661634e5e643fa96f6a13914195429": {
          "model_module": "@jupyter-widgets/controls",
          "model_name": "DescriptionStyleModel",
          "state": {
            "_view_name": "StyleView",
            "_model_name": "DescriptionStyleModel",
            "description_width": "",
            "_view_module": "@jupyter-widgets/base",
            "_model_module_version": "1.5.0",
            "_view_count": null,
            "_view_module_version": "1.2.0",
            "_model_module": "@jupyter-widgets/controls"
          }
        },
        "94dc48524afc4ff49f4f1d6dc52edf2c": {
          "model_module": "@jupyter-widgets/base",
          "model_name": "LayoutModel",
          "state": {
            "_view_name": "LayoutView",
            "grid_template_rows": null,
            "right": null,
            "justify_content": null,
            "_view_module": "@jupyter-widgets/base",
            "overflow": null,
            "_model_module_version": "1.2.0",
            "_view_count": null,
            "flex_flow": null,
            "width": null,
            "min_width": null,
            "border": null,
            "align_items": null,
            "bottom": null,
            "_model_module": "@jupyter-widgets/base",
            "top": null,
            "grid_column": null,
            "overflow_y": null,
            "overflow_x": null,
            "grid_auto_flow": null,
            "grid_area": null,
            "grid_template_columns": null,
            "flex": null,
            "_model_name": "LayoutModel",
            "justify_items": null,
            "grid_row": null,
            "max_height": null,
            "align_content": null,
            "visibility": null,
            "align_self": null,
            "height": null,
            "min_height": null,
            "padding": null,
            "grid_auto_rows": null,
            "grid_gap": null,
            "max_width": null,
            "order": null,
            "_view_module_version": "1.2.0",
            "grid_template_areas": null,
            "object_position": null,
            "object_fit": null,
            "grid_auto_columns": null,
            "margin": null,
            "display": null,
            "left": null
          }
        },
        "49cbe4d8628a4bc5adab0924fe93e9b6": {
          "model_module": "@jupyter-widgets/controls",
          "model_name": "HBoxModel",
          "state": {
            "_view_name": "HBoxView",
            "_dom_classes": [],
            "_model_name": "HBoxModel",
            "_view_module": "@jupyter-widgets/controls",
            "_model_module_version": "1.5.0",
            "_view_count": null,
            "_view_module_version": "1.5.0",
            "box_style": "",
            "layout": "IPY_MODEL_0156ff2089bf420e991ab29b6e3ec1cd",
            "_model_module": "@jupyter-widgets/controls",
            "children": [
              "IPY_MODEL_1f8280ac556d4144910d9480e01d1a9d",
              "IPY_MODEL_b39da33fc44648beac60d0f596c8956d",
              "IPY_MODEL_94c3398a2a844a75839c2b2fbba4762a"
            ]
          }
        },
        "0156ff2089bf420e991ab29b6e3ec1cd": {
          "model_module": "@jupyter-widgets/base",
          "model_name": "LayoutModel",
          "state": {
            "_view_name": "LayoutView",
            "grid_template_rows": null,
            "right": null,
            "justify_content": null,
            "_view_module": "@jupyter-widgets/base",
            "overflow": null,
            "_model_module_version": "1.2.0",
            "_view_count": null,
            "flex_flow": null,
            "width": null,
            "min_width": null,
            "border": null,
            "align_items": null,
            "bottom": null,
            "_model_module": "@jupyter-widgets/base",
            "top": null,
            "grid_column": null,
            "overflow_y": null,
            "overflow_x": null,
            "grid_auto_flow": null,
            "grid_area": null,
            "grid_template_columns": null,
            "flex": null,
            "_model_name": "LayoutModel",
            "justify_items": null,
            "grid_row": null,
            "max_height": null,
            "align_content": null,
            "visibility": null,
            "align_self": null,
            "height": null,
            "min_height": null,
            "padding": null,
            "grid_auto_rows": null,
            "grid_gap": null,
            "max_width": null,
            "order": null,
            "_view_module_version": "1.2.0",
            "grid_template_areas": null,
            "object_position": null,
            "object_fit": null,
            "grid_auto_columns": null,
            "margin": null,
            "display": null,
            "left": null
          }
        },
        "1f8280ac556d4144910d9480e01d1a9d": {
          "model_module": "@jupyter-widgets/controls",
          "model_name": "HTMLModel",
          "state": {
            "_view_name": "HTMLView",
            "style": "IPY_MODEL_075816fd33d34bd286e1a53978cb4762",
            "_dom_classes": [],
            "description": "",
            "_model_name": "HTMLModel",
            "placeholder": "​",
            "_view_module": "@jupyter-widgets/controls",
            "_model_module_version": "1.5.0",
            "value": "Epochs 7/10. Running Loss:    0.0017: 100%",
            "_view_count": null,
            "_view_module_version": "1.5.0",
            "description_tooltip": null,
            "_model_module": "@jupyter-widgets/controls",
            "layout": "IPY_MODEL_94366cb0fc354ea8ac4d35731a61e6b0"
          }
        },
        "b39da33fc44648beac60d0f596c8956d": {
          "model_module": "@jupyter-widgets/controls",
          "model_name": "FloatProgressModel",
          "state": {
            "_view_name": "ProgressView",
            "style": "IPY_MODEL_b038245029fd46a0bfeb697fcc3be10b",
            "_dom_classes": [],
            "description": "",
            "_model_name": "FloatProgressModel",
            "bar_style": "success",
            "max": 157,
            "_view_module": "@jupyter-widgets/controls",
            "_model_module_version": "1.5.0",
            "value": 157,
            "_view_count": null,
            "_view_module_version": "1.5.0",
            "orientation": "horizontal",
            "min": 0,
            "description_tooltip": null,
            "_model_module": "@jupyter-widgets/controls",
            "layout": "IPY_MODEL_af3929b0c92a46b7a95c04202d9b6c25"
          }
        },
        "94c3398a2a844a75839c2b2fbba4762a": {
          "model_module": "@jupyter-widgets/controls",
          "model_name": "HTMLModel",
          "state": {
            "_view_name": "HTMLView",
            "style": "IPY_MODEL_4b8ff08d0bdd462a94b97960865b3964",
            "_dom_classes": [],
            "description": "",
            "_model_name": "HTMLModel",
            "placeholder": "​",
            "_view_module": "@jupyter-widgets/controls",
            "_model_module_version": "1.5.0",
            "value": " 157/157 [00:22&lt;00:00,  7.65it/s]",
            "_view_count": null,
            "_view_module_version": "1.5.0",
            "description_tooltip": null,
            "_model_module": "@jupyter-widgets/controls",
            "layout": "IPY_MODEL_b55be38a3cd4490285d2bf7baf8180d5"
          }
        },
        "075816fd33d34bd286e1a53978cb4762": {
          "model_module": "@jupyter-widgets/controls",
          "model_name": "DescriptionStyleModel",
          "state": {
            "_view_name": "StyleView",
            "_model_name": "DescriptionStyleModel",
            "description_width": "",
            "_view_module": "@jupyter-widgets/base",
            "_model_module_version": "1.5.0",
            "_view_count": null,
            "_view_module_version": "1.2.0",
            "_model_module": "@jupyter-widgets/controls"
          }
        },
        "94366cb0fc354ea8ac4d35731a61e6b0": {
          "model_module": "@jupyter-widgets/base",
          "model_name": "LayoutModel",
          "state": {
            "_view_name": "LayoutView",
            "grid_template_rows": null,
            "right": null,
            "justify_content": null,
            "_view_module": "@jupyter-widgets/base",
            "overflow": null,
            "_model_module_version": "1.2.0",
            "_view_count": null,
            "flex_flow": null,
            "width": null,
            "min_width": null,
            "border": null,
            "align_items": null,
            "bottom": null,
            "_model_module": "@jupyter-widgets/base",
            "top": null,
            "grid_column": null,
            "overflow_y": null,
            "overflow_x": null,
            "grid_auto_flow": null,
            "grid_area": null,
            "grid_template_columns": null,
            "flex": null,
            "_model_name": "LayoutModel",
            "justify_items": null,
            "grid_row": null,
            "max_height": null,
            "align_content": null,
            "visibility": null,
            "align_self": null,
            "height": null,
            "min_height": null,
            "padding": null,
            "grid_auto_rows": null,
            "grid_gap": null,
            "max_width": null,
            "order": null,
            "_view_module_version": "1.2.0",
            "grid_template_areas": null,
            "object_position": null,
            "object_fit": null,
            "grid_auto_columns": null,
            "margin": null,
            "display": null,
            "left": null
          }
        },
        "b038245029fd46a0bfeb697fcc3be10b": {
          "model_module": "@jupyter-widgets/controls",
          "model_name": "ProgressStyleModel",
          "state": {
            "_view_name": "StyleView",
            "_model_name": "ProgressStyleModel",
            "description_width": "",
            "_view_module": "@jupyter-widgets/base",
            "_model_module_version": "1.5.0",
            "_view_count": null,
            "_view_module_version": "1.2.0",
            "bar_color": null,
            "_model_module": "@jupyter-widgets/controls"
          }
        },
        "af3929b0c92a46b7a95c04202d9b6c25": {
          "model_module": "@jupyter-widgets/base",
          "model_name": "LayoutModel",
          "state": {
            "_view_name": "LayoutView",
            "grid_template_rows": null,
            "right": null,
            "justify_content": null,
            "_view_module": "@jupyter-widgets/base",
            "overflow": null,
            "_model_module_version": "1.2.0",
            "_view_count": null,
            "flex_flow": null,
            "width": null,
            "min_width": null,
            "border": null,
            "align_items": null,
            "bottom": null,
            "_model_module": "@jupyter-widgets/base",
            "top": null,
            "grid_column": null,
            "overflow_y": null,
            "overflow_x": null,
            "grid_auto_flow": null,
            "grid_area": null,
            "grid_template_columns": null,
            "flex": null,
            "_model_name": "LayoutModel",
            "justify_items": null,
            "grid_row": null,
            "max_height": null,
            "align_content": null,
            "visibility": null,
            "align_self": null,
            "height": null,
            "min_height": null,
            "padding": null,
            "grid_auto_rows": null,
            "grid_gap": null,
            "max_width": null,
            "order": null,
            "_view_module_version": "1.2.0",
            "grid_template_areas": null,
            "object_position": null,
            "object_fit": null,
            "grid_auto_columns": null,
            "margin": null,
            "display": null,
            "left": null
          }
        },
        "4b8ff08d0bdd462a94b97960865b3964": {
          "model_module": "@jupyter-widgets/controls",
          "model_name": "DescriptionStyleModel",
          "state": {
            "_view_name": "StyleView",
            "_model_name": "DescriptionStyleModel",
            "description_width": "",
            "_view_module": "@jupyter-widgets/base",
            "_model_module_version": "1.5.0",
            "_view_count": null,
            "_view_module_version": "1.2.0",
            "_model_module": "@jupyter-widgets/controls"
          }
        },
        "b55be38a3cd4490285d2bf7baf8180d5": {
          "model_module": "@jupyter-widgets/base",
          "model_name": "LayoutModel",
          "state": {
            "_view_name": "LayoutView",
            "grid_template_rows": null,
            "right": null,
            "justify_content": null,
            "_view_module": "@jupyter-widgets/base",
            "overflow": null,
            "_model_module_version": "1.2.0",
            "_view_count": null,
            "flex_flow": null,
            "width": null,
            "min_width": null,
            "border": null,
            "align_items": null,
            "bottom": null,
            "_model_module": "@jupyter-widgets/base",
            "top": null,
            "grid_column": null,
            "overflow_y": null,
            "overflow_x": null,
            "grid_auto_flow": null,
            "grid_area": null,
            "grid_template_columns": null,
            "flex": null,
            "_model_name": "LayoutModel",
            "justify_items": null,
            "grid_row": null,
            "max_height": null,
            "align_content": null,
            "visibility": null,
            "align_self": null,
            "height": null,
            "min_height": null,
            "padding": null,
            "grid_auto_rows": null,
            "grid_gap": null,
            "max_width": null,
            "order": null,
            "_view_module_version": "1.2.0",
            "grid_template_areas": null,
            "object_position": null,
            "object_fit": null,
            "grid_auto_columns": null,
            "margin": null,
            "display": null,
            "left": null
          }
        },
        "4d9e97f39eb54d83baf38bc58a1ec5d9": {
          "model_module": "@jupyter-widgets/controls",
          "model_name": "HBoxModel",
          "state": {
            "_view_name": "HBoxView",
            "_dom_classes": [],
            "_model_name": "HBoxModel",
            "_view_module": "@jupyter-widgets/controls",
            "_model_module_version": "1.5.0",
            "_view_count": null,
            "_view_module_version": "1.5.0",
            "box_style": "",
            "layout": "IPY_MODEL_af1543d756df46f696d185847566f9d1",
            "_model_module": "@jupyter-widgets/controls",
            "children": [
              "IPY_MODEL_3af7eb32231a492bbfc08da14d5b4121",
              "IPY_MODEL_c036573c203d465f9b95f70d2ccd5fc3",
              "IPY_MODEL_ff03052a95c3415da49cd18fda180e28"
            ]
          }
        },
        "af1543d756df46f696d185847566f9d1": {
          "model_module": "@jupyter-widgets/base",
          "model_name": "LayoutModel",
          "state": {
            "_view_name": "LayoutView",
            "grid_template_rows": null,
            "right": null,
            "justify_content": null,
            "_view_module": "@jupyter-widgets/base",
            "overflow": null,
            "_model_module_version": "1.2.0",
            "_view_count": null,
            "flex_flow": null,
            "width": null,
            "min_width": null,
            "border": null,
            "align_items": null,
            "bottom": null,
            "_model_module": "@jupyter-widgets/base",
            "top": null,
            "grid_column": null,
            "overflow_y": null,
            "overflow_x": null,
            "grid_auto_flow": null,
            "grid_area": null,
            "grid_template_columns": null,
            "flex": null,
            "_model_name": "LayoutModel",
            "justify_items": null,
            "grid_row": null,
            "max_height": null,
            "align_content": null,
            "visibility": null,
            "align_self": null,
            "height": null,
            "min_height": null,
            "padding": null,
            "grid_auto_rows": null,
            "grid_gap": null,
            "max_width": null,
            "order": null,
            "_view_module_version": "1.2.0",
            "grid_template_areas": null,
            "object_position": null,
            "object_fit": null,
            "grid_auto_columns": null,
            "margin": null,
            "display": null,
            "left": null
          }
        },
        "3af7eb32231a492bbfc08da14d5b4121": {
          "model_module": "@jupyter-widgets/controls",
          "model_name": "HTMLModel",
          "state": {
            "_view_name": "HTMLView",
            "style": "IPY_MODEL_c2a2168d9b704265a34b4b20c41237eb",
            "_dom_classes": [],
            "description": "",
            "_model_name": "HTMLModel",
            "placeholder": "​",
            "_view_module": "@jupyter-widgets/controls",
            "_model_module_version": "1.5.0",
            "value": "Epochs 8/10. Running Loss:    0.0027: 100%",
            "_view_count": null,
            "_view_module_version": "1.5.0",
            "description_tooltip": null,
            "_model_module": "@jupyter-widgets/controls",
            "layout": "IPY_MODEL_a3d0ab22ee934e04b121b4161bc83036"
          }
        },
        "c036573c203d465f9b95f70d2ccd5fc3": {
          "model_module": "@jupyter-widgets/controls",
          "model_name": "FloatProgressModel",
          "state": {
            "_view_name": "ProgressView",
            "style": "IPY_MODEL_9cfd2ab0a5f94a8b8c4209ab7e41823a",
            "_dom_classes": [],
            "description": "",
            "_model_name": "FloatProgressModel",
            "bar_style": "success",
            "max": 157,
            "_view_module": "@jupyter-widgets/controls",
            "_model_module_version": "1.5.0",
            "value": 157,
            "_view_count": null,
            "_view_module_version": "1.5.0",
            "orientation": "horizontal",
            "min": 0,
            "description_tooltip": null,
            "_model_module": "@jupyter-widgets/controls",
            "layout": "IPY_MODEL_901bcf6c701c42bb85e13e411c32cce9"
          }
        },
        "ff03052a95c3415da49cd18fda180e28": {
          "model_module": "@jupyter-widgets/controls",
          "model_name": "HTMLModel",
          "state": {
            "_view_name": "HTMLView",
            "style": "IPY_MODEL_513310d2adf146879bab21336f18abb1",
            "_dom_classes": [],
            "description": "",
            "_model_name": "HTMLModel",
            "placeholder": "​",
            "_view_module": "@jupyter-widgets/controls",
            "_model_module_version": "1.5.0",
            "value": " 157/157 [00:22&lt;00:00,  7.84it/s]",
            "_view_count": null,
            "_view_module_version": "1.5.0",
            "description_tooltip": null,
            "_model_module": "@jupyter-widgets/controls",
            "layout": "IPY_MODEL_e047d05331704cd092b1beef72a1ad71"
          }
        },
        "c2a2168d9b704265a34b4b20c41237eb": {
          "model_module": "@jupyter-widgets/controls",
          "model_name": "DescriptionStyleModel",
          "state": {
            "_view_name": "StyleView",
            "_model_name": "DescriptionStyleModel",
            "description_width": "",
            "_view_module": "@jupyter-widgets/base",
            "_model_module_version": "1.5.0",
            "_view_count": null,
            "_view_module_version": "1.2.0",
            "_model_module": "@jupyter-widgets/controls"
          }
        },
        "a3d0ab22ee934e04b121b4161bc83036": {
          "model_module": "@jupyter-widgets/base",
          "model_name": "LayoutModel",
          "state": {
            "_view_name": "LayoutView",
            "grid_template_rows": null,
            "right": null,
            "justify_content": null,
            "_view_module": "@jupyter-widgets/base",
            "overflow": null,
            "_model_module_version": "1.2.0",
            "_view_count": null,
            "flex_flow": null,
            "width": null,
            "min_width": null,
            "border": null,
            "align_items": null,
            "bottom": null,
            "_model_module": "@jupyter-widgets/base",
            "top": null,
            "grid_column": null,
            "overflow_y": null,
            "overflow_x": null,
            "grid_auto_flow": null,
            "grid_area": null,
            "grid_template_columns": null,
            "flex": null,
            "_model_name": "LayoutModel",
            "justify_items": null,
            "grid_row": null,
            "max_height": null,
            "align_content": null,
            "visibility": null,
            "align_self": null,
            "height": null,
            "min_height": null,
            "padding": null,
            "grid_auto_rows": null,
            "grid_gap": null,
            "max_width": null,
            "order": null,
            "_view_module_version": "1.2.0",
            "grid_template_areas": null,
            "object_position": null,
            "object_fit": null,
            "grid_auto_columns": null,
            "margin": null,
            "display": null,
            "left": null
          }
        },
        "9cfd2ab0a5f94a8b8c4209ab7e41823a": {
          "model_module": "@jupyter-widgets/controls",
          "model_name": "ProgressStyleModel",
          "state": {
            "_view_name": "StyleView",
            "_model_name": "ProgressStyleModel",
            "description_width": "",
            "_view_module": "@jupyter-widgets/base",
            "_model_module_version": "1.5.0",
            "_view_count": null,
            "_view_module_version": "1.2.0",
            "bar_color": null,
            "_model_module": "@jupyter-widgets/controls"
          }
        },
        "901bcf6c701c42bb85e13e411c32cce9": {
          "model_module": "@jupyter-widgets/base",
          "model_name": "LayoutModel",
          "state": {
            "_view_name": "LayoutView",
            "grid_template_rows": null,
            "right": null,
            "justify_content": null,
            "_view_module": "@jupyter-widgets/base",
            "overflow": null,
            "_model_module_version": "1.2.0",
            "_view_count": null,
            "flex_flow": null,
            "width": null,
            "min_width": null,
            "border": null,
            "align_items": null,
            "bottom": null,
            "_model_module": "@jupyter-widgets/base",
            "top": null,
            "grid_column": null,
            "overflow_y": null,
            "overflow_x": null,
            "grid_auto_flow": null,
            "grid_area": null,
            "grid_template_columns": null,
            "flex": null,
            "_model_name": "LayoutModel",
            "justify_items": null,
            "grid_row": null,
            "max_height": null,
            "align_content": null,
            "visibility": null,
            "align_self": null,
            "height": null,
            "min_height": null,
            "padding": null,
            "grid_auto_rows": null,
            "grid_gap": null,
            "max_width": null,
            "order": null,
            "_view_module_version": "1.2.0",
            "grid_template_areas": null,
            "object_position": null,
            "object_fit": null,
            "grid_auto_columns": null,
            "margin": null,
            "display": null,
            "left": null
          }
        },
        "513310d2adf146879bab21336f18abb1": {
          "model_module": "@jupyter-widgets/controls",
          "model_name": "DescriptionStyleModel",
          "state": {
            "_view_name": "StyleView",
            "_model_name": "DescriptionStyleModel",
            "description_width": "",
            "_view_module": "@jupyter-widgets/base",
            "_model_module_version": "1.5.0",
            "_view_count": null,
            "_view_module_version": "1.2.0",
            "_model_module": "@jupyter-widgets/controls"
          }
        },
        "e047d05331704cd092b1beef72a1ad71": {
          "model_module": "@jupyter-widgets/base",
          "model_name": "LayoutModel",
          "state": {
            "_view_name": "LayoutView",
            "grid_template_rows": null,
            "right": null,
            "justify_content": null,
            "_view_module": "@jupyter-widgets/base",
            "overflow": null,
            "_model_module_version": "1.2.0",
            "_view_count": null,
            "flex_flow": null,
            "width": null,
            "min_width": null,
            "border": null,
            "align_items": null,
            "bottom": null,
            "_model_module": "@jupyter-widgets/base",
            "top": null,
            "grid_column": null,
            "overflow_y": null,
            "overflow_x": null,
            "grid_auto_flow": null,
            "grid_area": null,
            "grid_template_columns": null,
            "flex": null,
            "_model_name": "LayoutModel",
            "justify_items": null,
            "grid_row": null,
            "max_height": null,
            "align_content": null,
            "visibility": null,
            "align_self": null,
            "height": null,
            "min_height": null,
            "padding": null,
            "grid_auto_rows": null,
            "grid_gap": null,
            "max_width": null,
            "order": null,
            "_view_module_version": "1.2.0",
            "grid_template_areas": null,
            "object_position": null,
            "object_fit": null,
            "grid_auto_columns": null,
            "margin": null,
            "display": null,
            "left": null
          }
        },
        "2fba3d85b5dd4dab88ca34554174a319": {
          "model_module": "@jupyter-widgets/controls",
          "model_name": "HBoxModel",
          "state": {
            "_view_name": "HBoxView",
            "_dom_classes": [],
            "_model_name": "HBoxModel",
            "_view_module": "@jupyter-widgets/controls",
            "_model_module_version": "1.5.0",
            "_view_count": null,
            "_view_module_version": "1.5.0",
            "box_style": "",
            "layout": "IPY_MODEL_c61c841801424d93b618aa6dd3dd6ab5",
            "_model_module": "@jupyter-widgets/controls",
            "children": [
              "IPY_MODEL_d34df44bff594a8aa1f764b6ac79ab20",
              "IPY_MODEL_63703c9856764b1a97fe3ea7d205b36c",
              "IPY_MODEL_f5f78c28709b4776bb366083d68bd7a4"
            ]
          }
        },
        "c61c841801424d93b618aa6dd3dd6ab5": {
          "model_module": "@jupyter-widgets/base",
          "model_name": "LayoutModel",
          "state": {
            "_view_name": "LayoutView",
            "grid_template_rows": null,
            "right": null,
            "justify_content": null,
            "_view_module": "@jupyter-widgets/base",
            "overflow": null,
            "_model_module_version": "1.2.0",
            "_view_count": null,
            "flex_flow": null,
            "width": null,
            "min_width": null,
            "border": null,
            "align_items": null,
            "bottom": null,
            "_model_module": "@jupyter-widgets/base",
            "top": null,
            "grid_column": null,
            "overflow_y": null,
            "overflow_x": null,
            "grid_auto_flow": null,
            "grid_area": null,
            "grid_template_columns": null,
            "flex": null,
            "_model_name": "LayoutModel",
            "justify_items": null,
            "grid_row": null,
            "max_height": null,
            "align_content": null,
            "visibility": null,
            "align_self": null,
            "height": null,
            "min_height": null,
            "padding": null,
            "grid_auto_rows": null,
            "grid_gap": null,
            "max_width": null,
            "order": null,
            "_view_module_version": "1.2.0",
            "grid_template_areas": null,
            "object_position": null,
            "object_fit": null,
            "grid_auto_columns": null,
            "margin": null,
            "display": null,
            "left": null
          }
        },
        "d34df44bff594a8aa1f764b6ac79ab20": {
          "model_module": "@jupyter-widgets/controls",
          "model_name": "HTMLModel",
          "state": {
            "_view_name": "HTMLView",
            "style": "IPY_MODEL_0c97dc2416024c4c9c25566a90af25b3",
            "_dom_classes": [],
            "description": "",
            "_model_name": "HTMLModel",
            "placeholder": "​",
            "_view_module": "@jupyter-widgets/controls",
            "_model_module_version": "1.5.0",
            "value": "Epochs 9/10. Running Loss:    0.0007: 100%",
            "_view_count": null,
            "_view_module_version": "1.5.0",
            "description_tooltip": null,
            "_model_module": "@jupyter-widgets/controls",
            "layout": "IPY_MODEL_5ba65e80948b4f428d9fcd2e2b8bb82f"
          }
        },
        "63703c9856764b1a97fe3ea7d205b36c": {
          "model_module": "@jupyter-widgets/controls",
          "model_name": "FloatProgressModel",
          "state": {
            "_view_name": "ProgressView",
            "style": "IPY_MODEL_ca2f91d7670940c385dcbd6bce36193e",
            "_dom_classes": [],
            "description": "",
            "_model_name": "FloatProgressModel",
            "bar_style": "success",
            "max": 157,
            "_view_module": "@jupyter-widgets/controls",
            "_model_module_version": "1.5.0",
            "value": 157,
            "_view_count": null,
            "_view_module_version": "1.5.0",
            "orientation": "horizontal",
            "min": 0,
            "description_tooltip": null,
            "_model_module": "@jupyter-widgets/controls",
            "layout": "IPY_MODEL_4ac4efb41f9a452daff9d7f7816bfc20"
          }
        },
        "f5f78c28709b4776bb366083d68bd7a4": {
          "model_module": "@jupyter-widgets/controls",
          "model_name": "HTMLModel",
          "state": {
            "_view_name": "HTMLView",
            "style": "IPY_MODEL_d4e72a0221ac42b5be3f0cd5715010e4",
            "_dom_classes": [],
            "description": "",
            "_model_name": "HTMLModel",
            "placeholder": "​",
            "_view_module": "@jupyter-widgets/controls",
            "_model_module_version": "1.5.0",
            "value": " 157/157 [00:22&lt;00:00,  7.77it/s]",
            "_view_count": null,
            "_view_module_version": "1.5.0",
            "description_tooltip": null,
            "_model_module": "@jupyter-widgets/controls",
            "layout": "IPY_MODEL_1aa6392745384e85a8c8a76b8d49f4cb"
          }
        },
        "0c97dc2416024c4c9c25566a90af25b3": {
          "model_module": "@jupyter-widgets/controls",
          "model_name": "DescriptionStyleModel",
          "state": {
            "_view_name": "StyleView",
            "_model_name": "DescriptionStyleModel",
            "description_width": "",
            "_view_module": "@jupyter-widgets/base",
            "_model_module_version": "1.5.0",
            "_view_count": null,
            "_view_module_version": "1.2.0",
            "_model_module": "@jupyter-widgets/controls"
          }
        },
        "5ba65e80948b4f428d9fcd2e2b8bb82f": {
          "model_module": "@jupyter-widgets/base",
          "model_name": "LayoutModel",
          "state": {
            "_view_name": "LayoutView",
            "grid_template_rows": null,
            "right": null,
            "justify_content": null,
            "_view_module": "@jupyter-widgets/base",
            "overflow": null,
            "_model_module_version": "1.2.0",
            "_view_count": null,
            "flex_flow": null,
            "width": null,
            "min_width": null,
            "border": null,
            "align_items": null,
            "bottom": null,
            "_model_module": "@jupyter-widgets/base",
            "top": null,
            "grid_column": null,
            "overflow_y": null,
            "overflow_x": null,
            "grid_auto_flow": null,
            "grid_area": null,
            "grid_template_columns": null,
            "flex": null,
            "_model_name": "LayoutModel",
            "justify_items": null,
            "grid_row": null,
            "max_height": null,
            "align_content": null,
            "visibility": null,
            "align_self": null,
            "height": null,
            "min_height": null,
            "padding": null,
            "grid_auto_rows": null,
            "grid_gap": null,
            "max_width": null,
            "order": null,
            "_view_module_version": "1.2.0",
            "grid_template_areas": null,
            "object_position": null,
            "object_fit": null,
            "grid_auto_columns": null,
            "margin": null,
            "display": null,
            "left": null
          }
        },
        "ca2f91d7670940c385dcbd6bce36193e": {
          "model_module": "@jupyter-widgets/controls",
          "model_name": "ProgressStyleModel",
          "state": {
            "_view_name": "StyleView",
            "_model_name": "ProgressStyleModel",
            "description_width": "",
            "_view_module": "@jupyter-widgets/base",
            "_model_module_version": "1.5.0",
            "_view_count": null,
            "_view_module_version": "1.2.0",
            "bar_color": null,
            "_model_module": "@jupyter-widgets/controls"
          }
        },
        "4ac4efb41f9a452daff9d7f7816bfc20": {
          "model_module": "@jupyter-widgets/base",
          "model_name": "LayoutModel",
          "state": {
            "_view_name": "LayoutView",
            "grid_template_rows": null,
            "right": null,
            "justify_content": null,
            "_view_module": "@jupyter-widgets/base",
            "overflow": null,
            "_model_module_version": "1.2.0",
            "_view_count": null,
            "flex_flow": null,
            "width": null,
            "min_width": null,
            "border": null,
            "align_items": null,
            "bottom": null,
            "_model_module": "@jupyter-widgets/base",
            "top": null,
            "grid_column": null,
            "overflow_y": null,
            "overflow_x": null,
            "grid_auto_flow": null,
            "grid_area": null,
            "grid_template_columns": null,
            "flex": null,
            "_model_name": "LayoutModel",
            "justify_items": null,
            "grid_row": null,
            "max_height": null,
            "align_content": null,
            "visibility": null,
            "align_self": null,
            "height": null,
            "min_height": null,
            "padding": null,
            "grid_auto_rows": null,
            "grid_gap": null,
            "max_width": null,
            "order": null,
            "_view_module_version": "1.2.0",
            "grid_template_areas": null,
            "object_position": null,
            "object_fit": null,
            "grid_auto_columns": null,
            "margin": null,
            "display": null,
            "left": null
          }
        },
        "d4e72a0221ac42b5be3f0cd5715010e4": {
          "model_module": "@jupyter-widgets/controls",
          "model_name": "DescriptionStyleModel",
          "state": {
            "_view_name": "StyleView",
            "_model_name": "DescriptionStyleModel",
            "description_width": "",
            "_view_module": "@jupyter-widgets/base",
            "_model_module_version": "1.5.0",
            "_view_count": null,
            "_view_module_version": "1.2.0",
            "_model_module": "@jupyter-widgets/controls"
          }
        },
        "1aa6392745384e85a8c8a76b8d49f4cb": {
          "model_module": "@jupyter-widgets/base",
          "model_name": "LayoutModel",
          "state": {
            "_view_name": "LayoutView",
            "grid_template_rows": null,
            "right": null,
            "justify_content": null,
            "_view_module": "@jupyter-widgets/base",
            "overflow": null,
            "_model_module_version": "1.2.0",
            "_view_count": null,
            "flex_flow": null,
            "width": null,
            "min_width": null,
            "border": null,
            "align_items": null,
            "bottom": null,
            "_model_module": "@jupyter-widgets/base",
            "top": null,
            "grid_column": null,
            "overflow_y": null,
            "overflow_x": null,
            "grid_auto_flow": null,
            "grid_area": null,
            "grid_template_columns": null,
            "flex": null,
            "_model_name": "LayoutModel",
            "justify_items": null,
            "grid_row": null,
            "max_height": null,
            "align_content": null,
            "visibility": null,
            "align_self": null,
            "height": null,
            "min_height": null,
            "padding": null,
            "grid_auto_rows": null,
            "grid_gap": null,
            "max_width": null,
            "order": null,
            "_view_module_version": "1.2.0",
            "grid_template_areas": null,
            "object_position": null,
            "object_fit": null,
            "grid_auto_columns": null,
            "margin": null,
            "display": null,
            "left": null
          }
        },
        "271943688662402da1f3e3a496cd6c0f": {
          "model_module": "@jupyter-widgets/controls",
          "model_name": "HBoxModel",
          "state": {
            "_view_name": "HBoxView",
            "_dom_classes": [],
            "_model_name": "HBoxModel",
            "_view_module": "@jupyter-widgets/controls",
            "_model_module_version": "1.5.0",
            "_view_count": null,
            "_view_module_version": "1.5.0",
            "box_style": "",
            "layout": "IPY_MODEL_bbd07ea96f0d4bc2bfafe3a18d38c8a8",
            "_model_module": "@jupyter-widgets/controls",
            "children": [
              "IPY_MODEL_9294262a0b834eccae55b37abf676489",
              "IPY_MODEL_98f11758a3b543909ba4e21385221f6b",
              "IPY_MODEL_af3359012ea54f438bd632175e3658b7"
            ]
          }
        },
        "bbd07ea96f0d4bc2bfafe3a18d38c8a8": {
          "model_module": "@jupyter-widgets/base",
          "model_name": "LayoutModel",
          "state": {
            "_view_name": "LayoutView",
            "grid_template_rows": null,
            "right": null,
            "justify_content": null,
            "_view_module": "@jupyter-widgets/base",
            "overflow": null,
            "_model_module_version": "1.2.0",
            "_view_count": null,
            "flex_flow": null,
            "width": null,
            "min_width": null,
            "border": null,
            "align_items": null,
            "bottom": null,
            "_model_module": "@jupyter-widgets/base",
            "top": null,
            "grid_column": null,
            "overflow_y": null,
            "overflow_x": null,
            "grid_auto_flow": null,
            "grid_area": null,
            "grid_template_columns": null,
            "flex": null,
            "_model_name": "LayoutModel",
            "justify_items": null,
            "grid_row": null,
            "max_height": null,
            "align_content": null,
            "visibility": null,
            "align_self": null,
            "height": null,
            "min_height": null,
            "padding": null,
            "grid_auto_rows": null,
            "grid_gap": null,
            "max_width": null,
            "order": null,
            "_view_module_version": "1.2.0",
            "grid_template_areas": null,
            "object_position": null,
            "object_fit": null,
            "grid_auto_columns": null,
            "margin": null,
            "display": null,
            "left": null
          }
        },
        "9294262a0b834eccae55b37abf676489": {
          "model_module": "@jupyter-widgets/controls",
          "model_name": "HTMLModel",
          "state": {
            "_view_name": "HTMLView",
            "style": "IPY_MODEL_e261ffac4583471fbe341494b5599008",
            "_dom_classes": [],
            "description": "",
            "_model_name": "HTMLModel",
            "placeholder": "​",
            "_view_module": "@jupyter-widgets/controls",
            "_model_module_version": "1.5.0",
            "value": "  0%",
            "_view_count": null,
            "_view_module_version": "1.5.0",
            "description_tooltip": null,
            "_model_module": "@jupyter-widgets/controls",
            "layout": "IPY_MODEL_0e168713654a41b2ad230cb1c3daebcb"
          }
        },
        "98f11758a3b543909ba4e21385221f6b": {
          "model_module": "@jupyter-widgets/controls",
          "model_name": "FloatProgressModel",
          "state": {
            "_view_name": "ProgressView",
            "style": "IPY_MODEL_1c124ef16b3846c8a27f26561ca01455",
            "_dom_classes": [],
            "description": "",
            "_model_name": "FloatProgressModel",
            "bar_style": "danger",
            "max": 418,
            "_view_module": "@jupyter-widgets/controls",
            "_model_module_version": "1.5.0",
            "value": 1,
            "_view_count": null,
            "_view_module_version": "1.5.0",
            "orientation": "horizontal",
            "min": 0,
            "description_tooltip": null,
            "_model_module": "@jupyter-widgets/controls",
            "layout": "IPY_MODEL_b01b0060de874ff5925ab6e64ac5adc9"
          }
        },
        "af3359012ea54f438bd632175e3658b7": {
          "model_module": "@jupyter-widgets/controls",
          "model_name": "HTMLModel",
          "state": {
            "_view_name": "HTMLView",
            "style": "IPY_MODEL_5378f5e1908a4de9917eb527b304ba63",
            "_dom_classes": [],
            "description": "",
            "_model_name": "HTMLModel",
            "placeholder": "​",
            "_view_module": "@jupyter-widgets/controls",
            "_model_module_version": "1.5.0",
            "value": " 1/418 [00:00&lt;01:52,  3.70it/s]",
            "_view_count": null,
            "_view_module_version": "1.5.0",
            "description_tooltip": null,
            "_model_module": "@jupyter-widgets/controls",
            "layout": "IPY_MODEL_0b0ccb1e7a834d079d7328303630de8f"
          }
        },
        "e261ffac4583471fbe341494b5599008": {
          "model_module": "@jupyter-widgets/controls",
          "model_name": "DescriptionStyleModel",
          "state": {
            "_view_name": "StyleView",
            "_model_name": "DescriptionStyleModel",
            "description_width": "",
            "_view_module": "@jupyter-widgets/base",
            "_model_module_version": "1.5.0",
            "_view_count": null,
            "_view_module_version": "1.2.0",
            "_model_module": "@jupyter-widgets/controls"
          }
        },
        "0e168713654a41b2ad230cb1c3daebcb": {
          "model_module": "@jupyter-widgets/base",
          "model_name": "LayoutModel",
          "state": {
            "_view_name": "LayoutView",
            "grid_template_rows": null,
            "right": null,
            "justify_content": null,
            "_view_module": "@jupyter-widgets/base",
            "overflow": null,
            "_model_module_version": "1.2.0",
            "_view_count": null,
            "flex_flow": null,
            "width": null,
            "min_width": null,
            "border": null,
            "align_items": null,
            "bottom": null,
            "_model_module": "@jupyter-widgets/base",
            "top": null,
            "grid_column": null,
            "overflow_y": null,
            "overflow_x": null,
            "grid_auto_flow": null,
            "grid_area": null,
            "grid_template_columns": null,
            "flex": null,
            "_model_name": "LayoutModel",
            "justify_items": null,
            "grid_row": null,
            "max_height": null,
            "align_content": null,
            "visibility": null,
            "align_self": null,
            "height": null,
            "min_height": null,
            "padding": null,
            "grid_auto_rows": null,
            "grid_gap": null,
            "max_width": null,
            "order": null,
            "_view_module_version": "1.2.0",
            "grid_template_areas": null,
            "object_position": null,
            "object_fit": null,
            "grid_auto_columns": null,
            "margin": null,
            "display": null,
            "left": null
          }
        },
        "1c124ef16b3846c8a27f26561ca01455": {
          "model_module": "@jupyter-widgets/controls",
          "model_name": "ProgressStyleModel",
          "state": {
            "_view_name": "StyleView",
            "_model_name": "ProgressStyleModel",
            "description_width": "",
            "_view_module": "@jupyter-widgets/base",
            "_model_module_version": "1.5.0",
            "_view_count": null,
            "_view_module_version": "1.2.0",
            "bar_color": null,
            "_model_module": "@jupyter-widgets/controls"
          }
        },
        "b01b0060de874ff5925ab6e64ac5adc9": {
          "model_module": "@jupyter-widgets/base",
          "model_name": "LayoutModel",
          "state": {
            "_view_name": "LayoutView",
            "grid_template_rows": null,
            "right": null,
            "justify_content": null,
            "_view_module": "@jupyter-widgets/base",
            "overflow": null,
            "_model_module_version": "1.2.0",
            "_view_count": null,
            "flex_flow": null,
            "width": null,
            "min_width": null,
            "border": null,
            "align_items": null,
            "bottom": null,
            "_model_module": "@jupyter-widgets/base",
            "top": null,
            "grid_column": null,
            "overflow_y": null,
            "overflow_x": null,
            "grid_auto_flow": null,
            "grid_area": null,
            "grid_template_columns": null,
            "flex": null,
            "_model_name": "LayoutModel",
            "justify_items": null,
            "grid_row": null,
            "max_height": null,
            "align_content": null,
            "visibility": null,
            "align_self": null,
            "height": null,
            "min_height": null,
            "padding": null,
            "grid_auto_rows": null,
            "grid_gap": null,
            "max_width": null,
            "order": null,
            "_view_module_version": "1.2.0",
            "grid_template_areas": null,
            "object_position": null,
            "object_fit": null,
            "grid_auto_columns": null,
            "margin": null,
            "display": null,
            "left": null
          }
        },
        "5378f5e1908a4de9917eb527b304ba63": {
          "model_module": "@jupyter-widgets/controls",
          "model_name": "DescriptionStyleModel",
          "state": {
            "_view_name": "StyleView",
            "_model_name": "DescriptionStyleModel",
            "description_width": "",
            "_view_module": "@jupyter-widgets/base",
            "_model_module_version": "1.5.0",
            "_view_count": null,
            "_view_module_version": "1.2.0",
            "_model_module": "@jupyter-widgets/controls"
          }
        },
        "0b0ccb1e7a834d079d7328303630de8f": {
          "model_module": "@jupyter-widgets/base",
          "model_name": "LayoutModel",
          "state": {
            "_view_name": "LayoutView",
            "grid_template_rows": null,
            "right": null,
            "justify_content": null,
            "_view_module": "@jupyter-widgets/base",
            "overflow": null,
            "_model_module_version": "1.2.0",
            "_view_count": null,
            "flex_flow": null,
            "width": null,
            "min_width": null,
            "border": null,
            "align_items": null,
            "bottom": null,
            "_model_module": "@jupyter-widgets/base",
            "top": null,
            "grid_column": null,
            "overflow_y": null,
            "overflow_x": null,
            "grid_auto_flow": null,
            "grid_area": null,
            "grid_template_columns": null,
            "flex": null,
            "_model_name": "LayoutModel",
            "justify_items": null,
            "grid_row": null,
            "max_height": null,
            "align_content": null,
            "visibility": null,
            "align_self": null,
            "height": null,
            "min_height": null,
            "padding": null,
            "grid_auto_rows": null,
            "grid_gap": null,
            "max_width": null,
            "order": null,
            "_view_module_version": "1.2.0",
            "grid_template_areas": null,
            "object_position": null,
            "object_fit": null,
            "grid_auto_columns": null,
            "margin": null,
            "display": null,
            "left": null
          }
        },
        "007ec583af6b451395e56f729faefe0d": {
          "model_module": "@jupyter-widgets/controls",
          "model_name": "HBoxModel",
          "state": {
            "_view_name": "HBoxView",
            "_dom_classes": [],
            "_model_name": "HBoxModel",
            "_view_module": "@jupyter-widgets/controls",
            "_model_module_version": "1.5.0",
            "_view_count": null,
            "_view_module_version": "1.5.0",
            "box_style": "",
            "layout": "IPY_MODEL_56bc1920ef1f4fb2abdd6f933d3688ed",
            "_model_module": "@jupyter-widgets/controls",
            "children": [
              "IPY_MODEL_13d059ad8020401bb854aef974122b61",
              "IPY_MODEL_e597243ea4784c0397ba806bd9e30a74",
              "IPY_MODEL_5f91fec6499848248a47706e9755537e"
            ]
          }
        },
        "56bc1920ef1f4fb2abdd6f933d3688ed": {
          "model_module": "@jupyter-widgets/base",
          "model_name": "LayoutModel",
          "state": {
            "_view_name": "LayoutView",
            "grid_template_rows": null,
            "right": null,
            "justify_content": null,
            "_view_module": "@jupyter-widgets/base",
            "overflow": null,
            "_model_module_version": "1.2.0",
            "_view_count": null,
            "flex_flow": null,
            "width": null,
            "min_width": null,
            "border": null,
            "align_items": null,
            "bottom": null,
            "_model_module": "@jupyter-widgets/base",
            "top": null,
            "grid_column": null,
            "overflow_y": null,
            "overflow_x": null,
            "grid_auto_flow": null,
            "grid_area": null,
            "grid_template_columns": null,
            "flex": null,
            "_model_name": "LayoutModel",
            "justify_items": null,
            "grid_row": null,
            "max_height": null,
            "align_content": null,
            "visibility": null,
            "align_self": null,
            "height": null,
            "min_height": null,
            "padding": null,
            "grid_auto_rows": null,
            "grid_gap": null,
            "max_width": null,
            "order": null,
            "_view_module_version": "1.2.0",
            "grid_template_areas": null,
            "object_position": null,
            "object_fit": null,
            "grid_auto_columns": null,
            "margin": null,
            "display": null,
            "left": null
          }
        },
        "13d059ad8020401bb854aef974122b61": {
          "model_module": "@jupyter-widgets/controls",
          "model_name": "HTMLModel",
          "state": {
            "_view_name": "HTMLView",
            "style": "IPY_MODEL_15e95a5d18004e0b99e5f2958a44ef03",
            "_dom_classes": [],
            "description": "",
            "_model_name": "HTMLModel",
            "placeholder": "​",
            "_view_module": "@jupyter-widgets/controls",
            "_model_module_version": "1.5.0",
            "value": "Running Evaluation: 100%",
            "_view_count": null,
            "_view_module_version": "1.5.0",
            "description_tooltip": null,
            "_model_module": "@jupyter-widgets/controls",
            "layout": "IPY_MODEL_cd7c810175954f44be4d2732b0c0b058"
          }
        },
        "e597243ea4784c0397ba806bd9e30a74": {
          "model_module": "@jupyter-widgets/controls",
          "model_name": "FloatProgressModel",
          "state": {
            "_view_name": "ProgressView",
            "style": "IPY_MODEL_a5cccaa258bf4caf935ba94032b89a49",
            "_dom_classes": [],
            "description": "",
            "_model_name": "FloatProgressModel",
            "bar_style": "success",
            "max": 53,
            "_view_module": "@jupyter-widgets/controls",
            "_model_module_version": "1.5.0",
            "value": 53,
            "_view_count": null,
            "_view_module_version": "1.5.0",
            "orientation": "horizontal",
            "min": 0,
            "description_tooltip": null,
            "_model_module": "@jupyter-widgets/controls",
            "layout": "IPY_MODEL_105854c607c1415eb061a0cc4c9e17e3"
          }
        },
        "5f91fec6499848248a47706e9755537e": {
          "model_module": "@jupyter-widgets/controls",
          "model_name": "HTMLModel",
          "state": {
            "_view_name": "HTMLView",
            "style": "IPY_MODEL_fc622dadbb334b37b015c4a86c6c2be6",
            "_dom_classes": [],
            "description": "",
            "_model_name": "HTMLModel",
            "placeholder": "​",
            "_view_module": "@jupyter-widgets/controls",
            "_model_module_version": "1.5.0",
            "value": " 53/53 [00:01&lt;00:00, 27.84it/s]",
            "_view_count": null,
            "_view_module_version": "1.5.0",
            "description_tooltip": null,
            "_model_module": "@jupyter-widgets/controls",
            "layout": "IPY_MODEL_29890ecd192f47c9b8ad27e7c300810d"
          }
        },
        "15e95a5d18004e0b99e5f2958a44ef03": {
          "model_module": "@jupyter-widgets/controls",
          "model_name": "DescriptionStyleModel",
          "state": {
            "_view_name": "StyleView",
            "_model_name": "DescriptionStyleModel",
            "description_width": "",
            "_view_module": "@jupyter-widgets/base",
            "_model_module_version": "1.5.0",
            "_view_count": null,
            "_view_module_version": "1.2.0",
            "_model_module": "@jupyter-widgets/controls"
          }
        },
        "cd7c810175954f44be4d2732b0c0b058": {
          "model_module": "@jupyter-widgets/base",
          "model_name": "LayoutModel",
          "state": {
            "_view_name": "LayoutView",
            "grid_template_rows": null,
            "right": null,
            "justify_content": null,
            "_view_module": "@jupyter-widgets/base",
            "overflow": null,
            "_model_module_version": "1.2.0",
            "_view_count": null,
            "flex_flow": null,
            "width": null,
            "min_width": null,
            "border": null,
            "align_items": null,
            "bottom": null,
            "_model_module": "@jupyter-widgets/base",
            "top": null,
            "grid_column": null,
            "overflow_y": null,
            "overflow_x": null,
            "grid_auto_flow": null,
            "grid_area": null,
            "grid_template_columns": null,
            "flex": null,
            "_model_name": "LayoutModel",
            "justify_items": null,
            "grid_row": null,
            "max_height": null,
            "align_content": null,
            "visibility": null,
            "align_self": null,
            "height": null,
            "min_height": null,
            "padding": null,
            "grid_auto_rows": null,
            "grid_gap": null,
            "max_width": null,
            "order": null,
            "_view_module_version": "1.2.0",
            "grid_template_areas": null,
            "object_position": null,
            "object_fit": null,
            "grid_auto_columns": null,
            "margin": null,
            "display": null,
            "left": null
          }
        },
        "a5cccaa258bf4caf935ba94032b89a49": {
          "model_module": "@jupyter-widgets/controls",
          "model_name": "ProgressStyleModel",
          "state": {
            "_view_name": "StyleView",
            "_model_name": "ProgressStyleModel",
            "description_width": "",
            "_view_module": "@jupyter-widgets/base",
            "_model_module_version": "1.5.0",
            "_view_count": null,
            "_view_module_version": "1.2.0",
            "bar_color": null,
            "_model_module": "@jupyter-widgets/controls"
          }
        },
        "105854c607c1415eb061a0cc4c9e17e3": {
          "model_module": "@jupyter-widgets/base",
          "model_name": "LayoutModel",
          "state": {
            "_view_name": "LayoutView",
            "grid_template_rows": null,
            "right": null,
            "justify_content": null,
            "_view_module": "@jupyter-widgets/base",
            "overflow": null,
            "_model_module_version": "1.2.0",
            "_view_count": null,
            "flex_flow": null,
            "width": null,
            "min_width": null,
            "border": null,
            "align_items": null,
            "bottom": null,
            "_model_module": "@jupyter-widgets/base",
            "top": null,
            "grid_column": null,
            "overflow_y": null,
            "overflow_x": null,
            "grid_auto_flow": null,
            "grid_area": null,
            "grid_template_columns": null,
            "flex": null,
            "_model_name": "LayoutModel",
            "justify_items": null,
            "grid_row": null,
            "max_height": null,
            "align_content": null,
            "visibility": null,
            "align_self": null,
            "height": null,
            "min_height": null,
            "padding": null,
            "grid_auto_rows": null,
            "grid_gap": null,
            "max_width": null,
            "order": null,
            "_view_module_version": "1.2.0",
            "grid_template_areas": null,
            "object_position": null,
            "object_fit": null,
            "grid_auto_columns": null,
            "margin": null,
            "display": null,
            "left": null
          }
        },
        "fc622dadbb334b37b015c4a86c6c2be6": {
          "model_module": "@jupyter-widgets/controls",
          "model_name": "DescriptionStyleModel",
          "state": {
            "_view_name": "StyleView",
            "_model_name": "DescriptionStyleModel",
            "description_width": "",
            "_view_module": "@jupyter-widgets/base",
            "_model_module_version": "1.5.0",
            "_view_count": null,
            "_view_module_version": "1.2.0",
            "_model_module": "@jupyter-widgets/controls"
          }
        },
        "29890ecd192f47c9b8ad27e7c300810d": {
          "model_module": "@jupyter-widgets/base",
          "model_name": "LayoutModel",
          "state": {
            "_view_name": "LayoutView",
            "grid_template_rows": null,
            "right": null,
            "justify_content": null,
            "_view_module": "@jupyter-widgets/base",
            "overflow": null,
            "_model_module_version": "1.2.0",
            "_view_count": null,
            "flex_flow": null,
            "width": null,
            "min_width": null,
            "border": null,
            "align_items": null,
            "bottom": null,
            "_model_module": "@jupyter-widgets/base",
            "top": null,
            "grid_column": null,
            "overflow_y": null,
            "overflow_x": null,
            "grid_auto_flow": null,
            "grid_area": null,
            "grid_template_columns": null,
            "flex": null,
            "_model_name": "LayoutModel",
            "justify_items": null,
            "grid_row": null,
            "max_height": null,
            "align_content": null,
            "visibility": null,
            "align_self": null,
            "height": null,
            "min_height": null,
            "padding": null,
            "grid_auto_rows": null,
            "grid_gap": null,
            "max_width": null,
            "order": null,
            "_view_module_version": "1.2.0",
            "grid_template_areas": null,
            "object_position": null,
            "object_fit": null,
            "grid_auto_columns": null,
            "margin": null,
            "display": null,
            "left": null
          }
        },
        "f86538cfb3ab416cb485c167f5f071c0": {
          "model_module": "@jupyter-widgets/controls",
          "model_name": "HBoxModel",
          "state": {
            "_view_name": "HBoxView",
            "_dom_classes": [],
            "_model_name": "HBoxModel",
            "_view_module": "@jupyter-widgets/controls",
            "_model_module_version": "1.5.0",
            "_view_count": null,
            "_view_module_version": "1.5.0",
            "box_style": "",
            "layout": "IPY_MODEL_5403809c276b4ddfb978f2f91103c670",
            "_model_module": "@jupyter-widgets/controls",
            "children": [
              "IPY_MODEL_7eb19ad9f6a14eaa9df8773f13d203f9",
              "IPY_MODEL_c19fbdb040334d90abeffca9876bdc10",
              "IPY_MODEL_583cb032f0cc4d14a5f1d98cdd49e12e"
            ]
          }
        },
        "5403809c276b4ddfb978f2f91103c670": {
          "model_module": "@jupyter-widgets/base",
          "model_name": "LayoutModel",
          "state": {
            "_view_name": "LayoutView",
            "grid_template_rows": null,
            "right": null,
            "justify_content": null,
            "_view_module": "@jupyter-widgets/base",
            "overflow": null,
            "_model_module_version": "1.2.0",
            "_view_count": null,
            "flex_flow": null,
            "width": null,
            "min_width": null,
            "border": null,
            "align_items": null,
            "bottom": null,
            "_model_module": "@jupyter-widgets/base",
            "top": null,
            "grid_column": null,
            "overflow_y": null,
            "overflow_x": null,
            "grid_auto_flow": null,
            "grid_area": null,
            "grid_template_columns": null,
            "flex": null,
            "_model_name": "LayoutModel",
            "justify_items": null,
            "grid_row": null,
            "max_height": null,
            "align_content": null,
            "visibility": null,
            "align_self": null,
            "height": null,
            "min_height": null,
            "padding": null,
            "grid_auto_rows": null,
            "grid_gap": null,
            "max_width": null,
            "order": null,
            "_view_module_version": "1.2.0",
            "grid_template_areas": null,
            "object_position": null,
            "object_fit": null,
            "grid_auto_columns": null,
            "margin": null,
            "display": null,
            "left": null
          }
        },
        "7eb19ad9f6a14eaa9df8773f13d203f9": {
          "model_module": "@jupyter-widgets/controls",
          "model_name": "HTMLModel",
          "state": {
            "_view_name": "HTMLView",
            "style": "IPY_MODEL_fe0028a93e7842a2b3b8eaf3b893a70f",
            "_dom_classes": [],
            "description": "",
            "_model_name": "HTMLModel",
            "placeholder": "​",
            "_view_module": "@jupyter-widgets/controls",
            "_model_module_version": "1.5.0",
            "value": "  0%",
            "_view_count": null,
            "_view_module_version": "1.5.0",
            "description_tooltip": null,
            "_model_module": "@jupyter-widgets/controls",
            "layout": "IPY_MODEL_b40504c419a34c07ad9581586d2761be"
          }
        },
        "c19fbdb040334d90abeffca9876bdc10": {
          "model_module": "@jupyter-widgets/controls",
          "model_name": "FloatProgressModel",
          "state": {
            "_view_name": "ProgressView",
            "style": "IPY_MODEL_7d57e1cce8d24cd4a7b803460eb0ea6b",
            "_dom_classes": [],
            "description": "",
            "_model_name": "FloatProgressModel",
            "bar_style": "danger",
            "max": 417,
            "_view_module": "@jupyter-widgets/controls",
            "_model_module_version": "1.5.0",
            "value": 1,
            "_view_count": null,
            "_view_module_version": "1.5.0",
            "orientation": "horizontal",
            "min": 0,
            "description_tooltip": null,
            "_model_module": "@jupyter-widgets/controls",
            "layout": "IPY_MODEL_1564ce315a684e9c990a970818f724d4"
          }
        },
        "583cb032f0cc4d14a5f1d98cdd49e12e": {
          "model_module": "@jupyter-widgets/controls",
          "model_name": "HTMLModel",
          "state": {
            "_view_name": "HTMLView",
            "style": "IPY_MODEL_d175599ccb984b4290930a5116c26b19",
            "_dom_classes": [],
            "description": "",
            "_model_name": "HTMLModel",
            "placeholder": "​",
            "_view_module": "@jupyter-widgets/controls",
            "_model_module_version": "1.5.0",
            "value": " 1/417 [00:00&lt;01:46,  3.89it/s]",
            "_view_count": null,
            "_view_module_version": "1.5.0",
            "description_tooltip": null,
            "_model_module": "@jupyter-widgets/controls",
            "layout": "IPY_MODEL_8c02edee83904579ba55317d8aba4166"
          }
        },
        "fe0028a93e7842a2b3b8eaf3b893a70f": {
          "model_module": "@jupyter-widgets/controls",
          "model_name": "DescriptionStyleModel",
          "state": {
            "_view_name": "StyleView",
            "_model_name": "DescriptionStyleModel",
            "description_width": "",
            "_view_module": "@jupyter-widgets/base",
            "_model_module_version": "1.5.0",
            "_view_count": null,
            "_view_module_version": "1.2.0",
            "_model_module": "@jupyter-widgets/controls"
          }
        },
        "b40504c419a34c07ad9581586d2761be": {
          "model_module": "@jupyter-widgets/base",
          "model_name": "LayoutModel",
          "state": {
            "_view_name": "LayoutView",
            "grid_template_rows": null,
            "right": null,
            "justify_content": null,
            "_view_module": "@jupyter-widgets/base",
            "overflow": null,
            "_model_module_version": "1.2.0",
            "_view_count": null,
            "flex_flow": null,
            "width": null,
            "min_width": null,
            "border": null,
            "align_items": null,
            "bottom": null,
            "_model_module": "@jupyter-widgets/base",
            "top": null,
            "grid_column": null,
            "overflow_y": null,
            "overflow_x": null,
            "grid_auto_flow": null,
            "grid_area": null,
            "grid_template_columns": null,
            "flex": null,
            "_model_name": "LayoutModel",
            "justify_items": null,
            "grid_row": null,
            "max_height": null,
            "align_content": null,
            "visibility": null,
            "align_self": null,
            "height": null,
            "min_height": null,
            "padding": null,
            "grid_auto_rows": null,
            "grid_gap": null,
            "max_width": null,
            "order": null,
            "_view_module_version": "1.2.0",
            "grid_template_areas": null,
            "object_position": null,
            "object_fit": null,
            "grid_auto_columns": null,
            "margin": null,
            "display": null,
            "left": null
          }
        },
        "7d57e1cce8d24cd4a7b803460eb0ea6b": {
          "model_module": "@jupyter-widgets/controls",
          "model_name": "ProgressStyleModel",
          "state": {
            "_view_name": "StyleView",
            "_model_name": "ProgressStyleModel",
            "description_width": "",
            "_view_module": "@jupyter-widgets/base",
            "_model_module_version": "1.5.0",
            "_view_count": null,
            "_view_module_version": "1.2.0",
            "bar_color": null,
            "_model_module": "@jupyter-widgets/controls"
          }
        },
        "1564ce315a684e9c990a970818f724d4": {
          "model_module": "@jupyter-widgets/base",
          "model_name": "LayoutModel",
          "state": {
            "_view_name": "LayoutView",
            "grid_template_rows": null,
            "right": null,
            "justify_content": null,
            "_view_module": "@jupyter-widgets/base",
            "overflow": null,
            "_model_module_version": "1.2.0",
            "_view_count": null,
            "flex_flow": null,
            "width": null,
            "min_width": null,
            "border": null,
            "align_items": null,
            "bottom": null,
            "_model_module": "@jupyter-widgets/base",
            "top": null,
            "grid_column": null,
            "overflow_y": null,
            "overflow_x": null,
            "grid_auto_flow": null,
            "grid_area": null,
            "grid_template_columns": null,
            "flex": null,
            "_model_name": "LayoutModel",
            "justify_items": null,
            "grid_row": null,
            "max_height": null,
            "align_content": null,
            "visibility": null,
            "align_self": null,
            "height": null,
            "min_height": null,
            "padding": null,
            "grid_auto_rows": null,
            "grid_gap": null,
            "max_width": null,
            "order": null,
            "_view_module_version": "1.2.0",
            "grid_template_areas": null,
            "object_position": null,
            "object_fit": null,
            "grid_auto_columns": null,
            "margin": null,
            "display": null,
            "left": null
          }
        },
        "d175599ccb984b4290930a5116c26b19": {
          "model_module": "@jupyter-widgets/controls",
          "model_name": "DescriptionStyleModel",
          "state": {
            "_view_name": "StyleView",
            "_model_name": "DescriptionStyleModel",
            "description_width": "",
            "_view_module": "@jupyter-widgets/base",
            "_model_module_version": "1.5.0",
            "_view_count": null,
            "_view_module_version": "1.2.0",
            "_model_module": "@jupyter-widgets/controls"
          }
        },
        "8c02edee83904579ba55317d8aba4166": {
          "model_module": "@jupyter-widgets/base",
          "model_name": "LayoutModel",
          "state": {
            "_view_name": "LayoutView",
            "grid_template_rows": null,
            "right": null,
            "justify_content": null,
            "_view_module": "@jupyter-widgets/base",
            "overflow": null,
            "_model_module_version": "1.2.0",
            "_view_count": null,
            "flex_flow": null,
            "width": null,
            "min_width": null,
            "border": null,
            "align_items": null,
            "bottom": null,
            "_model_module": "@jupyter-widgets/base",
            "top": null,
            "grid_column": null,
            "overflow_y": null,
            "overflow_x": null,
            "grid_auto_flow": null,
            "grid_area": null,
            "grid_template_columns": null,
            "flex": null,
            "_model_name": "LayoutModel",
            "justify_items": null,
            "grid_row": null,
            "max_height": null,
            "align_content": null,
            "visibility": null,
            "align_self": null,
            "height": null,
            "min_height": null,
            "padding": null,
            "grid_auto_rows": null,
            "grid_gap": null,
            "max_width": null,
            "order": null,
            "_view_module_version": "1.2.0",
            "grid_template_areas": null,
            "object_position": null,
            "object_fit": null,
            "grid_auto_columns": null,
            "margin": null,
            "display": null,
            "left": null
          }
        },
        "7ac145b5d68942bc9884208abe28c0ff": {
          "model_module": "@jupyter-widgets/controls",
          "model_name": "HBoxModel",
          "state": {
            "_view_name": "HBoxView",
            "_dom_classes": [],
            "_model_name": "HBoxModel",
            "_view_module": "@jupyter-widgets/controls",
            "_model_module_version": "1.5.0",
            "_view_count": null,
            "_view_module_version": "1.5.0",
            "box_style": "",
            "layout": "IPY_MODEL_75b6e2d660394edfb9565352ab74c09b",
            "_model_module": "@jupyter-widgets/controls",
            "children": [
              "IPY_MODEL_34d4ef3fe8df4c6ca0fa52bc9c12c095",
              "IPY_MODEL_ee3983f3905b4537a5324b3cbb10274c",
              "IPY_MODEL_bf98b694ebb14cb8b12c91c258ebd362"
            ]
          }
        },
        "75b6e2d660394edfb9565352ab74c09b": {
          "model_module": "@jupyter-widgets/base",
          "model_name": "LayoutModel",
          "state": {
            "_view_name": "LayoutView",
            "grid_template_rows": null,
            "right": null,
            "justify_content": null,
            "_view_module": "@jupyter-widgets/base",
            "overflow": null,
            "_model_module_version": "1.2.0",
            "_view_count": null,
            "flex_flow": null,
            "width": null,
            "min_width": null,
            "border": null,
            "align_items": null,
            "bottom": null,
            "_model_module": "@jupyter-widgets/base",
            "top": null,
            "grid_column": null,
            "overflow_y": null,
            "overflow_x": null,
            "grid_auto_flow": null,
            "grid_area": null,
            "grid_template_columns": null,
            "flex": null,
            "_model_name": "LayoutModel",
            "justify_items": null,
            "grid_row": null,
            "max_height": null,
            "align_content": null,
            "visibility": null,
            "align_self": null,
            "height": null,
            "min_height": null,
            "padding": null,
            "grid_auto_rows": null,
            "grid_gap": null,
            "max_width": null,
            "order": null,
            "_view_module_version": "1.2.0",
            "grid_template_areas": null,
            "object_position": null,
            "object_fit": null,
            "grid_auto_columns": null,
            "margin": null,
            "display": null,
            "left": null
          }
        },
        "34d4ef3fe8df4c6ca0fa52bc9c12c095": {
          "model_module": "@jupyter-widgets/controls",
          "model_name": "HTMLModel",
          "state": {
            "_view_name": "HTMLView",
            "style": "IPY_MODEL_772f5972bd494ce8ad202d84e3f16ccf",
            "_dom_classes": [],
            "description": "",
            "_model_name": "HTMLModel",
            "placeholder": "​",
            "_view_module": "@jupyter-widgets/controls",
            "_model_module_version": "1.5.0",
            "value": "100%",
            "_view_count": null,
            "_view_module_version": "1.5.0",
            "description_tooltip": null,
            "_model_module": "@jupyter-widgets/controls",
            "layout": "IPY_MODEL_7eae8e347e314dee9d845e8d8a35db18"
          }
        },
        "ee3983f3905b4537a5324b3cbb10274c": {
          "model_module": "@jupyter-widgets/controls",
          "model_name": "FloatProgressModel",
          "state": {
            "_view_name": "ProgressView",
            "style": "IPY_MODEL_c1b9d1d0aea64ce695a8fc527670adf8",
            "_dom_classes": [],
            "description": "",
            "_model_name": "FloatProgressModel",
            "bar_style": "success",
            "max": 53,
            "_view_module": "@jupyter-widgets/controls",
            "_model_module_version": "1.5.0",
            "value": 53,
            "_view_count": null,
            "_view_module_version": "1.5.0",
            "orientation": "horizontal",
            "min": 0,
            "description_tooltip": null,
            "_model_module": "@jupyter-widgets/controls",
            "layout": "IPY_MODEL_8f3f534cb8d74dfe90fa6f9de2d7b99e"
          }
        },
        "bf98b694ebb14cb8b12c91c258ebd362": {
          "model_module": "@jupyter-widgets/controls",
          "model_name": "HTMLModel",
          "state": {
            "_view_name": "HTMLView",
            "style": "IPY_MODEL_ef7ff3d37bab43a1b39c9075ea6d0261",
            "_dom_classes": [],
            "description": "",
            "_model_name": "HTMLModel",
            "placeholder": "​",
            "_view_module": "@jupyter-widgets/controls",
            "_model_module_version": "1.5.0",
            "value": " 53/53 [00:01&lt;00:00, 26.88it/s]",
            "_view_count": null,
            "_view_module_version": "1.5.0",
            "description_tooltip": null,
            "_model_module": "@jupyter-widgets/controls",
            "layout": "IPY_MODEL_b50476e264e74cb1a4f0bf25984aea2d"
          }
        },
        "772f5972bd494ce8ad202d84e3f16ccf": {
          "model_module": "@jupyter-widgets/controls",
          "model_name": "DescriptionStyleModel",
          "state": {
            "_view_name": "StyleView",
            "_model_name": "DescriptionStyleModel",
            "description_width": "",
            "_view_module": "@jupyter-widgets/base",
            "_model_module_version": "1.5.0",
            "_view_count": null,
            "_view_module_version": "1.2.0",
            "_model_module": "@jupyter-widgets/controls"
          }
        },
        "7eae8e347e314dee9d845e8d8a35db18": {
          "model_module": "@jupyter-widgets/base",
          "model_name": "LayoutModel",
          "state": {
            "_view_name": "LayoutView",
            "grid_template_rows": null,
            "right": null,
            "justify_content": null,
            "_view_module": "@jupyter-widgets/base",
            "overflow": null,
            "_model_module_version": "1.2.0",
            "_view_count": null,
            "flex_flow": null,
            "width": null,
            "min_width": null,
            "border": null,
            "align_items": null,
            "bottom": null,
            "_model_module": "@jupyter-widgets/base",
            "top": null,
            "grid_column": null,
            "overflow_y": null,
            "overflow_x": null,
            "grid_auto_flow": null,
            "grid_area": null,
            "grid_template_columns": null,
            "flex": null,
            "_model_name": "LayoutModel",
            "justify_items": null,
            "grid_row": null,
            "max_height": null,
            "align_content": null,
            "visibility": null,
            "align_self": null,
            "height": null,
            "min_height": null,
            "padding": null,
            "grid_auto_rows": null,
            "grid_gap": null,
            "max_width": null,
            "order": null,
            "_view_module_version": "1.2.0",
            "grid_template_areas": null,
            "object_position": null,
            "object_fit": null,
            "grid_auto_columns": null,
            "margin": null,
            "display": null,
            "left": null
          }
        },
        "c1b9d1d0aea64ce695a8fc527670adf8": {
          "model_module": "@jupyter-widgets/controls",
          "model_name": "ProgressStyleModel",
          "state": {
            "_view_name": "StyleView",
            "_model_name": "ProgressStyleModel",
            "description_width": "",
            "_view_module": "@jupyter-widgets/base",
            "_model_module_version": "1.5.0",
            "_view_count": null,
            "_view_module_version": "1.2.0",
            "bar_color": null,
            "_model_module": "@jupyter-widgets/controls"
          }
        },
        "8f3f534cb8d74dfe90fa6f9de2d7b99e": {
          "model_module": "@jupyter-widgets/base",
          "model_name": "LayoutModel",
          "state": {
            "_view_name": "LayoutView",
            "grid_template_rows": null,
            "right": null,
            "justify_content": null,
            "_view_module": "@jupyter-widgets/base",
            "overflow": null,
            "_model_module_version": "1.2.0",
            "_view_count": null,
            "flex_flow": null,
            "width": null,
            "min_width": null,
            "border": null,
            "align_items": null,
            "bottom": null,
            "_model_module": "@jupyter-widgets/base",
            "top": null,
            "grid_column": null,
            "overflow_y": null,
            "overflow_x": null,
            "grid_auto_flow": null,
            "grid_area": null,
            "grid_template_columns": null,
            "flex": null,
            "_model_name": "LayoutModel",
            "justify_items": null,
            "grid_row": null,
            "max_height": null,
            "align_content": null,
            "visibility": null,
            "align_self": null,
            "height": null,
            "min_height": null,
            "padding": null,
            "grid_auto_rows": null,
            "grid_gap": null,
            "max_width": null,
            "order": null,
            "_view_module_version": "1.2.0",
            "grid_template_areas": null,
            "object_position": null,
            "object_fit": null,
            "grid_auto_columns": null,
            "margin": null,
            "display": null,
            "left": null
          }
        },
        "ef7ff3d37bab43a1b39c9075ea6d0261": {
          "model_module": "@jupyter-widgets/controls",
          "model_name": "DescriptionStyleModel",
          "state": {
            "_view_name": "StyleView",
            "_model_name": "DescriptionStyleModel",
            "description_width": "",
            "_view_module": "@jupyter-widgets/base",
            "_model_module_version": "1.5.0",
            "_view_count": null,
            "_view_module_version": "1.2.0",
            "_model_module": "@jupyter-widgets/controls"
          }
        },
        "b50476e264e74cb1a4f0bf25984aea2d": {
          "model_module": "@jupyter-widgets/base",
          "model_name": "LayoutModel",
          "state": {
            "_view_name": "LayoutView",
            "grid_template_rows": null,
            "right": null,
            "justify_content": null,
            "_view_module": "@jupyter-widgets/base",
            "overflow": null,
            "_model_module_version": "1.2.0",
            "_view_count": null,
            "flex_flow": null,
            "width": null,
            "min_width": null,
            "border": null,
            "align_items": null,
            "bottom": null,
            "_model_module": "@jupyter-widgets/base",
            "top": null,
            "grid_column": null,
            "overflow_y": null,
            "overflow_x": null,
            "grid_auto_flow": null,
            "grid_area": null,
            "grid_template_columns": null,
            "flex": null,
            "_model_name": "LayoutModel",
            "justify_items": null,
            "grid_row": null,
            "max_height": null,
            "align_content": null,
            "visibility": null,
            "align_self": null,
            "height": null,
            "min_height": null,
            "padding": null,
            "grid_auto_rows": null,
            "grid_gap": null,
            "max_width": null,
            "order": null,
            "_view_module_version": "1.2.0",
            "grid_template_areas": null,
            "object_position": null,
            "object_fit": null,
            "grid_auto_columns": null,
            "margin": null,
            "display": null,
            "left": null
          }
        }
      }
    }
  },
  "cells": [
    {
      "cell_type": "markdown",
      "metadata": {
        "id": "wcK4xEzRs9xK"
      },
      "source": [
        "---\n",
        "## Note from the Teachers:\n",
        "We added a header with information about your project. \n",
        "This is useful since we want to keep a database of all the cool projects participants have made during the courses.\n",
        "We will save the code in our database and host on github a page to show all the projects. Therefore it is more practical to add some information in the header of each notebook.\n",
        "Thanks a lot for the understanding and for taking care of it.\n",
        "\n",
        "You can delete this cell if you want\n",
        "\n",
        "---"
      ]
    },
    {
      "cell_type": "markdown",
      "metadata": {
        "id": "dgD3XbPds9xQ"
      },
      "source": [
        "# Project Name (replace with your project name)\n",
        "Project description (replace with your project description, you can use the same from the `INFO.md` file."
      ]
    },
    {
      "cell_type": "markdown",
      "metadata": {
        "id": "v27TWYp_s9xR"
      },
      "source": [
        "### Project Repo \n",
        "link (replace if you have your own repo, otherwise delete)"
      ]
    },
    {
      "cell_type": "markdown",
      "metadata": {
        "id": "4Nbtlpq0s9xS"
      },
      "source": [
        "## Participants:\n",
        "Please list here all the participants alongside with any information you may want to be visible. This will be hosted on a opencampus.sh repository, so if you want to keep a connection to your github user include this information here. \n",
        "\n",
        "Name / Github User  \n",
        "Christopher Hansen / Testbild  \n",
        "Sabrina Ludwig / saludwig26  \n",
        "Kerstin Eilers / kemeni23  \n",
        "Christian Mayer / maychr"
      ]
    },
    {
      "cell_type": "markdown",
      "metadata": {
        "id": "_OAz0ANbs9xS"
      },
      "source": [
        "### Course and Semester\n",
        "Machine Learning With Tensorflow / SoSe2021"
      ]
    },
    {
      "cell_type": "markdown",
      "metadata": {
        "id": "-0JN1ztBs9xT"
      },
      "source": [
        "### License\n",
        "If you are releasing the software under some certain license, you can mention it and also include the `LICENSE.md` file in the folder\n",
        "\n",
        "---"
      ]
    },
    {
      "cell_type": "code",
      "metadata": {
        "id": "EKuWTTVMs9xU"
      },
      "source": [
        "# Here you can start your code! Thanks"
      ],
      "execution_count": 1,
      "outputs": []
    },
    {
      "cell_type": "code",
      "metadata": {
        "id": "9U9Scx8Q1jps"
      },
      "source": [
        "!pip install tensorflow-text"
      ],
      "execution_count": null,
      "outputs": []
    },
    {
      "cell_type": "code",
      "metadata": {
        "id": "dGobds8gs9xV"
      },
      "source": [
        "import numpy as np\n",
        "import matplotlib.pyplot as plt\n",
        "from matplotlib import pyplot\n",
        "import seaborn as sns\n",
        "import csv\n",
        "import os\n",
        "import pandas as pd\n",
        "from sklearn.model_selection import train_test_split\n",
        "\n",
        "from tensorflow.keras.preprocessing.sequence import pad_sequences\n",
        "from tensorflow.keras.layers import Embedding, LSTM, Dense, Dropout, Bidirectional\n",
        "from tensorflow.keras.preprocessing.text import Tokenizer\n",
        "from tensorflow.keras.models import Sequential\n",
        "from tensorflow.keras.optimizers import Adam\n",
        "from tensorflow.keras import regularizers\n",
        "from keras import regularizers\n",
        "import tensorflow.keras.utils as ku\n",
        "from tensorflow.keras.utils import to_categorical\n",
        "import tensorflow_hub as hub\n",
        "\n",
        "from sklearn.naive_bayes import MultinomialNB\n",
        "from sklearn.pipeline import Pipeline\n",
        "from sklearn.feature_extraction.text import TfidfTransformer\n",
        "from sklearn.linear_model import SGDClassifier\n",
        "from sklearn.linear_model import LogisticRegression\n",
        "from sklearn.metrics import recall_score, precision_score, f1_score\n",
        "\n",
        "from sklearn.ensemble import RandomForestClassifier\n",
        "from sklearn.preprocessing import StandardScaler\n",
        "from sklearn.metrics import classification_report, confusion_matrix, accuracy_score\n",
        "\n",
        "from sklearn.datasets import make_classification\n",
        "from sklearn.model_selection import cross_val_score\n",
        "from sklearn.model_selection import RepeatedStratifiedKFold\n",
        "from sklearn.ensemble import RandomForestClassifier\n",
        "import matplotlib.pyplot as plt\n",
        "import matplotlib.image as mpimg\n",
        "from sklearn.naive_bayes import MultinomialNB\n",
        "from sklearn.pipeline import Pipeline\n",
        "\n",
        "from sklearn.feature_extraction.text import CountVectorizer\n",
        "\n",
        "from gensim.models import Word2Vec\n",
        "from gensim.models import KeyedVectors\n",
        "\n",
        "\n",
        "import nltk \n",
        "from nltk.corpus import stopwords\n",
        "from nltk.stem.snowball import SnowballStemmer\n",
        "from nltk.tokenize import word_tokenize \n",
        "\n",
        "import tensorflow as tf\n",
        "import random\n",
        "\n",
        "import tensorflow_text as text "
      ],
      "execution_count": 3,
      "outputs": []
    },
    {
      "cell_type": "code",
      "metadata": {
        "id": "vR3fbbyfs9xV"
      },
      "source": [
        "#In case of Google Colab run this:\n",
        "from google.colab import files\n",
        "uploaded = files.upload()"
      ],
      "execution_count": null,
      "outputs": []
    },
    {
      "cell_type": "code",
      "metadata": {
        "id": "1qU6uzHys9xW"
      },
      "source": [
        "import io\n",
        "azubi_df = pd.read_csv(io.BytesIO(uploaded['data_MailsAndPC.csv']))"
      ],
      "execution_count": 5,
      "outputs": []
    },
    {
      "cell_type": "code",
      "metadata": {
        "id": "FFzncW_Ouehq"
      },
      "source": [
        "#Global Hyperparameters\n",
        "vocab_size = 3000\n",
        "embedding_dim = 32\n",
        "max_length = 120\n",
        "trunc_type='post'\n",
        "padding_type='post'\n",
        "oov_tok = \"<OOV>\""
      ],
      "execution_count": 6,
      "outputs": []
    },
    {
      "cell_type": "code",
      "metadata": {
        "id": "HM2nxJkJs9xW"
      },
      "source": [
        "#In case of local github export run this:\n",
        "#DATA_FOLDER = './../data'\n",
        "#AZUBI_DATA = 'data_MailsAndPC.csv'\n",
        "#AZUBI_DATA_CLEANED = 'data_MailsAndPC_cleaned.csv'\n",
        "#azubi_df = pd.read_csv(os.path.join(DATA_FOLDER, AZUBI_DATA))"
      ],
      "execution_count": 7,
      "outputs": []
    },
    {
      "cell_type": "markdown",
      "metadata": {
        "id": "lm2kVe3jz61A"
      },
      "source": [
        "# Data Preparation\n"
      ]
    },
    {
      "cell_type": "markdown",
      "metadata": {
        "id": "dCvEwcJz-daw"
      },
      "source": [
        "## Data Preparation Functions"
      ]
    },
    {
      "cell_type": "markdown",
      "metadata": {
        "id": "3T1-ZdC78Mk8"
      },
      "source": [
        "Selects the mail and item of interest from the azubi dataframe.  \n",
        "\n",
        "Returns the dataframe only containing the columns of interest."
      ]
    },
    {
      "cell_type": "code",
      "metadata": {
        "id": "7Zm-nnaJQqWN"
      },
      "source": [
        "def selectColumns(azubi_df, mail, item):\n",
        "\n",
        "  azubi_df_selected_columns = azubi_df[[mail,item]]\n",
        "\n",
        "  return azubi_df_selected_columns"
      ],
      "execution_count": 8,
      "outputs": []
    },
    {
      "cell_type": "markdown",
      "metadata": {
        "id": "zpJGo1yR7yBF"
      },
      "source": [
        "The dataframe needs to be cleaned from NaN values, as well as error codes in the labels. Furthermore linebreaks are indicated with the letters \"cr\". They have to be removed as well. The mails are in German language and we could not think of a German word that contains \"cr\", hence we think it is fine to just remove the \"cr\" and replace it with a space.  \n",
        "\n",
        "Returns the cleaned azubi dataframe.\n",
        "\n",
        "Expects the dataframe, the mail of interest, as well as the item of interest."
      ]
    },
    {
      "cell_type": "code",
      "metadata": {
        "id": "253GubJ5s9xZ"
      },
      "source": [
        "def cleanupDataframe(azubi_df, mail, item):\n",
        "    #Remove unneccesary columns\n",
        "    #azubi_df = azubi_df.drop(columns=['Unnamed: 0', 'id'])\n",
        "    #Remove \"cr\". Assumption made, that there are no real words containing cr in the mails.\n",
        "    azubi_df[\"S1_mail\"] = azubi_df[\"S1_mail\"].str.replace(\"cr\", \" \")\n",
        "    azubi_df[\"S2_mail\"] = azubi_df[\"S2_mail\"].str.replace(\"cr\", \" \")\n",
        "    azubi_df[\"S3_mail\"] = azubi_df[\"S3_mail\"].str.replace(\"cr\", \" \")\n",
        "    \n",
        "    azubi_df = selectColumns(azubi_df, mail, item)\n",
        "    #Drop NA rows to only have full datasets\n",
        "    azubi_df = azubi_df.dropna()\n",
        "    #Select all rows without '99' | ~ inverts the operator\n",
        "    dropThisNumber = 99\n",
        "    azubi_df = azubi_df[~azubi_df.eq(dropThisNumber).any(1)]\n",
        "    #Select all rows without '6' | ~ inverts the operator\n",
        "    #dropThisNumber = 6\n",
        "    #azubi_df = azubi_df[~azubi_df.eq(dropThisNumber).any(1)]\n",
        "    #Reset the index of the Dataframe\n",
        "    azubi_df = azubi_df.reset_index(drop=True)\n",
        "    return azubi_df"
      ],
      "execution_count": 9,
      "outputs": []
    },
    {
      "cell_type": "markdown",
      "metadata": {
        "id": "yZDIBcct8fnU"
      },
      "source": [
        "The data needs to be split into Train/Dev/Test sets. We use the sklearn train_test_split function and manually divide the dev set into two subsets. Since the classes are not evenly split we also use stratification to make sure the sets contain equal numbers of each class.\n",
        "\n",
        "Returns the X and Y for train, dev and test set.\n",
        "\n",
        "Expects the X and Y that should be split, the test size (float between 0 and 1), a random seed and if stratification should be done."
      ]
    },
    {
      "cell_type": "code",
      "metadata": {
        "id": "iNwHseQc2pCV"
      },
      "source": [
        "def trainDevTestSplit_sklearn(X, Y, testSize, randomSeed, stratify):\n",
        "  #Splits by test size into Train / Dev\n",
        "  #Splits dev then 50/50 into dev and Test\n",
        "\n",
        "  if (stratify == True):\n",
        "    xTrain, xDev, yTrain, yDev = train_test_split(X, Y, test_size=testSize,stratify = Y, random_state=randomSeed)\n",
        "  else:\n",
        "    xTrain, xDev, yTrain, yDev = train_test_split(X, Y, test_size=testSize, random_state=randomSeed)\n",
        "\n",
        "  xTest = xDev[:len(xDev)//2]\n",
        "  yTest = yDev[:len(yDev)//2]\n",
        "  \n",
        "  xDev = xDev[len(xDev)//2:]\n",
        "  yDev = yDev[len(yDev)//2:]\n",
        "  #xDev, yDev, xTest, yTest = train_test_split(xDev, yDev, test_size =0.5, random_state = randomSeed)\n",
        "\n",
        "  return xTrain, yTrain, xDev, yDev, xTest, yTest"
      ],
      "execution_count": 10,
      "outputs": []
    },
    {
      "cell_type": "markdown",
      "metadata": {
        "id": "OFFe4SjrAKqx"
      },
      "source": [
        ""
      ]
    },
    {
      "cell_type": "code",
      "metadata": {
        "id": "aLjrs8Ql3ZsB"
      },
      "source": [
        "def tokenizeData(vocab_size, oov_tok, train_sentences, max_length, padding_type, trunc_type):\n",
        "    tokenizer = Tokenizer(num_words = vocab_size, oov_token=oov_tok)\n",
        "    tokenizer.fit_on_texts(train_sentences)\n",
        "   \n",
        "    word_index = tokenizer.word_index\n",
        "    vocab_size=len(word_index)\n",
        "\n",
        "    print(\"Word Index: \\n\")\n",
        "    print(word_index)\n",
        "    \n",
        "    sequences = tokenizer.texts_to_sequences(train_sentences)\n",
        "\n",
        "    print(\"Sequences: \\n\")\n",
        "    print(sequences)\n",
        "    padded = pad_sequences(sequences, maxlen=max_length, padding=padding_type, truncating=trunc_type)\n",
        "\n",
        "    return padded"
      ],
      "execution_count": 11,
      "outputs": []
    },
    {
      "cell_type": "markdown",
      "metadata": {
        "id": "QhU0PziLAMiQ"
      },
      "source": [
        "The classes are categorical, like schoolgrades and have to be treated as such. In order to make the labels categorical we use One Hot Encoding. Keras provides the function to_categorical, which is used here. Since the Keras function checks the highest integer and makes as many columns as this number we have to remove the columns that are all zero. (E.g. your classes are 1,2 and 9 then to_categorical will make 9 columns, where 6 of them are always zero).\n",
        "\n",
        "Returns one hot encoded labels.\n",
        "\n",
        "Expects the labels to encode and if the zero columns should be removed (bool)."
      ]
    },
    {
      "cell_type": "code",
      "metadata": {
        "id": "B_XrQiWFyR3D"
      },
      "source": [
        "def oneHotEncodePreSplit(yTrain, removeZeros):\n",
        "  #a = np.array([1, 0, 3])\n",
        "  #yTrain = yTrain.astype(int)\n",
        "  \n",
        "  print(\"Unique Values:\")\n",
        "  print(np.unique(yTrain))\n",
        "  print(\"\\n\")\n",
        "  yTrainOneHot = tf.keras.utils.to_categorical(yTrain)\n",
        "  print(\"Classes before removing zeros:\")\n",
        "  print(yTrainOneHot)\n",
        "  print(yTrainOneHot.sum(axis=0))\n",
        "  print(\"\\n\")\n",
        "\n",
        "  if (removeZeros == True):\n",
        "    yTrainOneHot = yTrainOneHot[:,~np.all(yTrainOneHot == 0, axis = 0)]\n",
        "  print(\"Classes after removing zeros:\")\n",
        "  print(yTrainOneHot)\n",
        "  print(yTrainOneHot.sum(axis=0))\n",
        "  print(\"\\n\")\n",
        "\n",
        "  return yTrainOneHot"
      ],
      "execution_count": 12,
      "outputs": []
    },
    {
      "cell_type": "markdown",
      "metadata": {
        "id": "uC00K9fJA-0m"
      },
      "source": [
        "Some functions and models require the data to be in a list (instead of array or dataframe). This function does this.\n",
        "\n",
        "Returns two lists. A list with the mail sentences and a list with the scores.\n",
        "\n",
        "Expects the azubi dataframe, the mail of interest and the score of interest."
      ]
    },
    {
      "cell_type": "code",
      "metadata": {
        "id": "lXudDjuNRXo1"
      },
      "source": [
        "def makeListSelectedColumns(azubi_df, mail, score):\n",
        "  #Sentence S1\n",
        "  mailSentences = azubi_df[mail].tolist()\n",
        "  #Labels S1\n",
        "  scoreLabels = azubi_df[score].tolist()\n",
        "\n",
        "  return mailSentences, scoreLabels"
      ],
      "execution_count": 13,
      "outputs": []
    },
    {
      "cell_type": "markdown",
      "metadata": {
        "id": "RkFz6t2qQUOn"
      },
      "source": [
        "## Stop Words\n"
      ]
    },
    {
      "cell_type": "markdown",
      "metadata": {
        "id": "4VUrg6JDeSXH"
      },
      "source": [
        "Some words have very little influence on the meaning of the sentence. Those words are stopwords and are usually removed. There are preset stopwords lists which we also took. "
      ]
    },
    {
      "cell_type": "code",
      "metadata": {
        "id": "VMlPtbzIUoTH"
      },
      "source": [
        "#stopwords\n",
        "def removeStopWordsSelectedColumns(azubi_df_cleaned, mail):\n",
        "\n",
        "  nltk.download('punkt')\n",
        "  nltk.download('stopwords')\n",
        "\n",
        "  stemmer = SnowballStemmer(\"german\")\n",
        "  stop_words = set(stopwords.words(\"german\"))\n",
        "  #stop_words.add('Meier')\n",
        "  #stop_words.add('Neumann')\n",
        "\n",
        "  azubi_df_cleaned_no_stopwords = pd.DataFrame()\n",
        "\n",
        "  pat = r'\\b(?:{})\\b'.format('|'.join(stop_words))\n",
        "  azubi_df_cleaned[mail] = azubi_df_cleaned[mail].str.replace(pat, '')\n",
        "  azubi_df_cleaned[mail] = azubi_df_cleaned[mail].str.replace(r'\\s+', ' ')\n",
        "\n",
        "  return azubi_df_cleaned\n",
        "\n"
      ],
      "execution_count": 14,
      "outputs": []
    },
    {
      "cell_type": "markdown",
      "metadata": {
        "id": "GqY5lr_m28HI"
      },
      "source": [
        "## Show Model Performance"
      ]
    },
    {
      "cell_type": "markdown",
      "metadata": {
        "id": "NF6IenX9mi_t"
      },
      "source": [
        "Comfort function for easier plotting of the graphs"
      ]
    },
    {
      "cell_type": "code",
      "metadata": {
        "id": "p5nwd0d726iw"
      },
      "source": [
        "def showModelPerformance(history, string):\n",
        "    plt.plot(history.history[string])\n",
        "    plt.plot(history.history['val_'+string])\n",
        "    plt.xlabel(\"Epochs\")\n",
        "    plt.ylabel(string)\n",
        "    plt.title('Random Forest Model')\n",
        "    plt.legend([string, 'val_'+string])\n",
        "    plt.show()\n",
        "\n",
        "    return"
      ],
      "execution_count": 15,
      "outputs": []
    },
    {
      "cell_type": "markdown",
      "metadata": {
        "id": "b1o5IhvFEhdq"
      },
      "source": [
        "## Combine all mails for a4s2_combined_i2b score"
      ]
    },
    {
      "cell_type": "markdown",
      "metadata": {
        "id": "NhCqEW2vmnwL"
      },
      "source": [
        "The score a4s1i2b, a4s2i2b and a4s3i2b describes the politeness of the mail. This score is unrelated to the topic of the mail. Hence to have more training data available all mails have been combined to train this score."
      ]
    },
    {
      "cell_type": "code",
      "metadata": {
        "id": "2fY2PLulBOQ6"
      },
      "source": [
        "#Create new dataframe\n",
        "azubi_df_mails_and_scored_combined = pd.DataFrame(columns=[\"Mails_Combined\", \"a4s_combined_i2b\"])\n",
        "#Use cleanup function to select the correct data from the dataframe\n",
        "azubi_df_mail1 = cleanupDataframe(azubi_df, 'S1_mail', 'a4s1i2b')\n",
        "azubi_df_mail2 = cleanupDataframe(azubi_df, 'S2_mail', 'a4s2i2b')\n",
        "azubi_df_mail3 = cleanupDataframe(azubi_df, 'S3_mail', 'a4s3i2b')"
      ],
      "execution_count": 16,
      "outputs": []
    },
    {
      "cell_type": "code",
      "metadata": {
        "id": "W_3-vjNKCJTk"
      },
      "source": [
        "#Rename the columns\n",
        "azubi_df_mail1_renamed = azubi_df_mail1.rename(columns={\"S1_mail\": \"Mails_Combined\", \"a4s1i2b\": \"a4s_combined_i2b\"})\n",
        "azubi_df_mail2_renamed = azubi_df_mail2.rename(columns={\"S2_mail\": \"Mails_Combined\", \"a4s2i2b\": \"a4s_combined_i2b\"})\n",
        "azubi_df_mail3_renamed = azubi_df_mail3.rename(columns={\"S3_mail\": \"Mails_Combined\", \"a4s3i2b\": \"a4s_combined_i2b\"})"
      ],
      "execution_count": 17,
      "outputs": []
    },
    {
      "cell_type": "code",
      "metadata": {
        "id": "4hdbd12mCv0f"
      },
      "source": [
        "#Append the renamed columns, ignore index so it is appended at the end\n",
        "azubi_df_mails_and_scored_combined = azubi_df_mails_and_scored_combined.append(azubi_df_mail1_renamed, ignore_index=True)\n",
        "azubi_df_mails_and_scored_combined = azubi_df_mails_and_scored_combined.append(azubi_df_mail2_renamed, ignore_index=True)\n",
        "azubi_df_mails_and_scored_combined = azubi_df_mails_and_scored_combined.append(azubi_df_mail3_renamed, ignore_index=True)"
      ],
      "execution_count": 18,
      "outputs": []
    },
    {
      "cell_type": "code",
      "metadata": {
        "id": "78LqLIZjC5zb"
      },
      "source": [
        "azubi_df_mails_and_scored_combined = azubi_df_mails_and_scored_combined[azubi_df_mails_and_scored_combined.a4s_combined_i2b != 9.0]\n",
        "azubi_df_mails_and_scored_combined = azubi_df_mails_and_scored_combined[azubi_df_mails_and_scored_combined.a4s_combined_i2b != 2.0]\n",
        "azubi_df_mails_and_scored_combined = azubi_df_mails_and_scored_combined.reset_index()"
      ],
      "execution_count": 19,
      "outputs": []
    },
    {
      "cell_type": "code",
      "metadata": {
        "id": "TAjvQ3lw3vif"
      },
      "source": [
        "azubi_df_mails_and_scored_combined['Mails_Combined'][2]"
      ],
      "execution_count": null,
      "outputs": []
    },
    {
      "cell_type": "code",
      "metadata": {
        "id": "iaoTEgisESHp",
        "colab": {
          "base_uri": "https://localhost:8080/"
        },
        "outputId": "b22a9ea3-f54b-4851-de5e-809779b5ec1d"
      },
      "source": [
        "azubi_df_mails_and_scored_combined['a4s_combined_i2b']"
      ],
      "execution_count": 21,
      "outputs": [
        {
          "output_type": "execute_result",
          "data": {
            "text/plain": [
              "0       1.0\n",
              "1       1.0\n",
              "2       0.0\n",
              "3       1.0\n",
              "4       1.0\n",
              "       ... \n",
              "2082    0.0\n",
              "2083    1.0\n",
              "2084    1.0\n",
              "2085    1.0\n",
              "2086    1.0\n",
              "Name: a4s_combined_i2b, Length: 2087, dtype: float64"
            ]
          },
          "metadata": {
            "tags": []
          },
          "execution_count": 21
        }
      ]
    },
    {
      "cell_type": "code",
      "metadata": {
        "id": "BltN2QS78Tdc"
      },
      "source": [
        "azubi_df_mails_and_scored_combined"
      ],
      "execution_count": null,
      "outputs": []
    },
    {
      "cell_type": "markdown",
      "metadata": {
        "id": "XW2NGDIXg9Zh"
      },
      "source": [
        "### Selected Columns Scores"
      ]
    },
    {
      "cell_type": "markdown",
      "metadata": {
        "id": "oVg01P4knC_k"
      },
      "source": [
        "This function returns the Train, Dev and Test sets, as well as the cleaned azubi_df. The Train, Dev and Test sets (including labels) are in a format, that can be read by the models afterwards."
      ]
    },
    {
      "cell_type": "code",
      "metadata": {
        "id": "yvdbiU3MRJH-"
      },
      "source": [
        "def prepareDataSelectedColumns(azubi_df, mail, score, doCleanup, paddedOutput, word2vec): \n",
        "  #Prepare the data\n",
        "  if doCleanup == True:\n",
        "    azubi_df_cleaned = cleanupDataframe(azubi_df, mail, score)\n",
        "  else:\n",
        "    azubi_df_cleaned = azubi_df\n",
        "  #print(azubi_df_cleaned[score][9])\n",
        "\n",
        "  #Remove Stop words\n",
        "  #azubi_df_cleaned_no_stopwords = removeStopWordsSelectedColumns(azubi_df_cleaned, mail)\n",
        "  mailSentences, scoreLabels = makeListSelectedColumns(azubi_df_cleaned, mail, score)\n",
        "  print(len(mailSentences))\n",
        "  print(len(scoreLabels))\n",
        "\n",
        "  yTrainOneHot = oneHotEncodePreSplit(np.array(scoreLabels), True)\n",
        "\n",
        "  if paddedOutput == True and word2vec == False:\n",
        "    print(\"Padded Output True\")\n",
        "    padded = tokenizeData(vocab_size, oov_tok, mailSentences, max_length, padding_type, trunc_type)\n",
        "    xTrain, yTrain, xVal, yVal, xTest, yTest = trainDevTestSplit_sklearn(padded, yTrainOneHot, 0.1, 42, False)\n",
        "  elif word2vec == True and paddedOutput == False:\n",
        "    padded = word2vecTokenizer(mailSentences, glove_vectors)\n",
        "    print(padded)\n",
        "  else:\n",
        "    xTrain, yTrain, xVal, yVal, xTest, yTest = trainDevTestSplit_sklearn(mailSentences, yTrainOneHot, 0.4, 42, False)\n",
        "\n",
        "  xTrainArray = xTrain#np.array(xTrain)\n",
        "  yTrainArray = yTrain#np.array(yTrain)\n",
        "\n",
        "\n",
        "  xValArray = xVal#np.array(xVal)\n",
        "  yValArray = yVal#np.array(yVal)\n",
        "\n",
        "\n",
        "  xTestArray = xTest#np.array(xTest)\n",
        "  yTestArray = yTest#np.array(yTest)\n",
        "  print(len(xTrainArray))\n",
        "  print(len(yTrainArray))\n",
        "  print(len(xValArray))\n",
        "  print(len(yValArray))\n",
        "  print(len(xTestArray))\n",
        "  print(len(yTestArray))\n",
        "\n",
        "\n",
        "  return xTrainArray, yTrainArray, xValArray, yValArray, xTestArray, yTestArray, azubi_df_cleaned\n"
      ],
      "execution_count": 23,
      "outputs": []
    },
    {
      "cell_type": "code",
      "metadata": {
        "id": "Cwbmv5MJ79OJ"
      },
      "source": [
        "#xTrainArray"
      ],
      "execution_count": 24,
      "outputs": []
    },
    {
      "cell_type": "code",
      "metadata": {
        "colab": {
          "base_uri": "https://localhost:8080/"
        },
        "id": "AB1YDw5ZS83B",
        "outputId": "4747b708-ad0e-4160-83f2-2ca331d3dfe3"
      },
      "source": [
        "xTrainArray, yTrainArray, xValArray, yValArray, xTestArray, yTestArray, azubi_df_cleaned_no_stopwords = prepareDataSelectedColumns(azubi_df_mails_and_scored_combined, 'Mails_Combined', 'a4s_combined_i2b', False, False, False)"
      ],
      "execution_count": 25,
      "outputs": [
        {
          "output_type": "stream",
          "text": [
            "2087\n",
            "2087\n",
            "Unique Values:\n",
            "[0. 1.]\n",
            "\n",
            "\n",
            "Classes before removing zeros:\n",
            "[[0. 1.]\n",
            " [0. 1.]\n",
            " [1. 0.]\n",
            " ...\n",
            " [0. 1.]\n",
            " [0. 1.]\n",
            " [0. 1.]]\n",
            "[ 146. 1941.]\n",
            "\n",
            "\n",
            "Classes after removing zeros:\n",
            "[[0. 1.]\n",
            " [0. 1.]\n",
            " [1. 0.]\n",
            " ...\n",
            " [0. 1.]\n",
            " [0. 1.]\n",
            " [0. 1.]]\n",
            "[ 146. 1941.]\n",
            "\n",
            "\n",
            "1252\n",
            "1252\n",
            "418\n",
            "418\n",
            "417\n",
            "417\n"
          ],
          "name": "stdout"
        }
      ]
    },
    {
      "cell_type": "code",
      "metadata": {
        "colab": {
          "base_uri": "https://localhost:8080/"
        },
        "id": "ZrP4YZ4mw2bp",
        "outputId": "fda3cd50-94df-4b69-8a23-030996f17b28"
      },
      "source": [
        "xTrainArray2, yTrainArray2, xValArray2, yValArray2, xTestArray2, yTestArray2, azubi_df_cleaned_no_stopwords2 = prepareDataSelectedColumns(azubi_df, 'S2_mail', 'a4s2i2b', True,  False, False)"
      ],
      "execution_count": 26,
      "outputs": [
        {
          "output_type": "stream",
          "text": [
            "725\n",
            "725\n",
            "Unique Values:\n",
            "[0. 1. 2. 9.]\n",
            "\n",
            "\n",
            "Classes before removing zeros:\n",
            "[[1. 0. 0. ... 0. 0. 0.]\n",
            " [0. 1. 0. ... 0. 0. 0.]\n",
            " [0. 1. 0. ... 0. 0. 0.]\n",
            " ...\n",
            " [0. 1. 0. ... 0. 0. 0.]\n",
            " [0. 1. 0. ... 0. 0. 0.]\n",
            " [0. 1. 0. ... 0. 0. 0.]]\n",
            "[ 38. 666.   1.   0.   0.   0.   0.   0.   0.  20.]\n",
            "\n",
            "\n",
            "Classes after removing zeros:\n",
            "[[1. 0. 0. 0.]\n",
            " [0. 1. 0. 0.]\n",
            " [0. 1. 0. 0.]\n",
            " ...\n",
            " [0. 1. 0. 0.]\n",
            " [0. 1. 0. 0.]\n",
            " [0. 1. 0. 0.]]\n",
            "[ 38. 666.   1.  20.]\n",
            "\n",
            "\n",
            "435\n",
            "435\n",
            "145\n",
            "145\n",
            "145\n",
            "145\n"
          ],
          "name": "stdout"
        }
      ]
    },
    {
      "cell_type": "code",
      "metadata": {
        "id": "N7p2trH64fy9"
      },
      "source": [
        "xTrainArray3, yTrainArray3, xValArray3, yValArray3, xTestArray3, yTestArray3, azubi_df_cleaned_no_stopwords3 = prepareDataSelectedColumns(azubi_df_mails_and_scored_combined, 'Mails_Combined', 'a4s_combined_i2b', False, True, False)"
      ],
      "execution_count": null,
      "outputs": []
    },
    {
      "cell_type": "markdown",
      "metadata": {
        "id": "3U-2O6LU1-Sg"
      },
      "source": [
        "# Transfer and self designed Models"
      ]
    },
    {
      "cell_type": "markdown",
      "metadata": {
        "id": "YZHxdFUhQEjs"
      },
      "source": [
        "## Fit learning rate\n"
      ]
    },
    {
      "cell_type": "markdown",
      "metadata": {
        "id": "yyBIJ5aBnvWY"
      },
      "source": [
        "This learning rate tuner would allow for the self designed model to find a good initial learning rate. If you change the architecture of your model, you will also have to change it in the learning rate tuner."
      ]
    },
    {
      "cell_type": "code",
      "metadata": {
        "id": "yEvAKhgRJ1XS"
      },
      "source": [
        "def fitLearningRate(training_padded, training_labels,validation_padded, validation_label, vocab_size, embedding_dim, max_length, num_epochs):\n",
        "  \n",
        "  model = tf.keras.Sequential([\n",
        "   \n",
        "  tf.keras.layers.Embedding(vocab_size+1, embedding_dim, input_length=max_length),\n",
        "  tf.keras.layers.Dropout(0.2),\n",
        "  tf.keras.layers.LSTM(32),\n",
        "  tf.keras.layers.Dropout(0.3),\n",
        "  tf.keras.layers.Dense(16, activation='relu'),\n",
        "  tf.keras.layers.Dropout(0.2),\n",
        "  tf.keras.layers.Dense(1, activation='sigmoid')])\n",
        "  \n",
        "  #Fit the model\n",
        "  #Input: compiled Model, Train and Validation Data, Batch Size and trainingEpochs\n",
        "  #Return: history and model\n",
        "  optimizer = tf.keras.optimizers.RMSprop(lr=1e-6)\n",
        "  model.compile(optimizer = optimizer,\n",
        "                loss='binary_crossentropy', metrics=['accuracy'])\n",
        "  lr_schedule = tf.keras.callbacks.LearningRateScheduler(\n",
        "    lambda epoch: 1e-6 * 10**(epoch / 20))\n",
        "  \n",
        "\n",
        "  print(\"xtrain\")\n",
        "  print(training_padded.shape)\n",
        "  print(\"ytrain\")\n",
        "  print(training_labels.shape)\n",
        "  print(\"xval\")\n",
        "  print(validation_padded.shape)\n",
        "  print(\"yval\")\n",
        "  print(validation_label.shape)\n",
        "  \n",
        "\n",
        "  # fit network\n",
        "  history = model.fit(training_padded, training_labels, epochs=num_epochs, validation_data=(validation_padded, validation_label),callbacks=[lr_schedule], verbose=2)\n",
        "\n",
        "  # plot history\n",
        "  plt.semilogx(history.history[\"lr\"], history.history[\"loss\"])\n",
        "  plt.show()\n",
        "  #pyplot.legend()\n",
        "  #pyplot.show()\n",
        "  #history = compiledModel.fit(xTrain, yTrain,batch_size=512, epochs = trainingEpochs,callbacks=[lr_schedule])\n",
        "\n",
        "  return model, history"
      ],
      "execution_count": 109,
      "outputs": []
    },
    {
      "cell_type": "markdown",
      "metadata": {
        "id": "UkD1FcIslB3w"
      },
      "source": [
        "## Bidirectional Binary"
      ]
    },
    {
      "cell_type": "markdown",
      "metadata": {
        "id": "knmRefYWqFPa"
      },
      "source": [
        "First approach for a model to automatically score the essays. It was only of minor success and has not been continued after starting with transfer learning approaches."
      ]
    },
    {
      "cell_type": "code",
      "metadata": {
        "id": "-JFQauRyNuud"
      },
      "source": [
        "def startermodelBidirectionalExperimentalBinary(training_padded, training_labels,validation_padded, validation_label, vocab_size, \n",
        "                                                embedding_dim, max_length, num_epochs): #weights=[embeddings_matrix], trainable=False\n",
        "\n",
        "  model = tf.keras.Sequential([\n",
        "   \n",
        "    tf.keras.layers.Embedding(input_dim = vocab_size+1, output_dim = embedding_dim, input_length=max_length, mask_zero=False),\n",
        "    tf.keras.layers.Dropout(0.2),\n",
        "    tf.keras.layers.LSTM(16),\n",
        "    tf.keras.layers.Dropout(0.2),\n",
        "    tf.keras.layers.Dense(1, activation='sigmoid')])\n",
        "  \n",
        "  metric = tf.keras.metrics.BinaryAccuracy()\n",
        "  lr_schedule = tf.keras.optimizers.schedules.ExponentialDecay(\n",
        "    initial_learning_rate=1e-2,\n",
        "    decay_steps=10000,\n",
        "    decay_rate=0.8)\n",
        "  \n",
        "  optimizerAdam = tf.keras.optimizers.Adam(learning_rate=lr_schedule)\n",
        "  optimizerSGD = tf.keras.optimizers.SGD(learning_rate=lr_schedule)\n",
        "\n",
        "  model.compile(loss='binary_crossentropy',optimizer=optimizerAdam ,metrics=metric)\n",
        "  model.summary()\n",
        "  model.save_weights('model.h5')\n",
        "\n",
        "  class_weights = {0: 1.,\n",
        "                1: 0.1}\n",
        "\n",
        "  # fit network\n",
        "  history = model.fit(training_padded, training_labels, epochs=num_epochs,batch_size=32, validation_data=(validation_padded, validation_label), verbose=2)\n",
        "  returnmodel = model\n",
        "  model.load_weights('model.h5')\n",
        "  # plot history\n",
        "  pyplot.plot(history.history['loss'], label='train')\n",
        "  pyplot.plot(history.history['val_loss'], label='test')\n",
        "  pyplot.legend()\n",
        "  pyplot.show()\n",
        "\n",
        "  pyplot.plot(history.history['binary_accuracy'], label='train')\n",
        "  pyplot.plot(history.history['val_binary_accuracy'], label='test')\n",
        "  pyplot.legend()\n",
        "  pyplot.show()\n",
        "          \n",
        "  return returnmodel, history"
      ],
      "execution_count": 28,
      "outputs": []
    },
    {
      "cell_type": "code",
      "metadata": {
        "id": "HjOUg_ou6JQX",
        "outputId": "f500e4fe-0f75-4d34-8341-506b70bed0e7",
        "colab": {
          "base_uri": "https://localhost:8080/",
          "height": 1000
        }
      },
      "source": [
        "tunerModel, tunerHistory = fitLearningRate(np.array(xTrainArray3), np.array(yTrainArray3[:,1]), np.array(xValArray3), np.array(yValArray3[:,1]), vocab_size, embedding_dim, max_length, 100)"
      ],
      "execution_count": 110,
      "outputs": [
        {
          "output_type": "stream",
          "text": [
            "/usr/local/lib/python3.7/dist-packages/tensorflow/python/keras/optimizer_v2/optimizer_v2.py:375: UserWarning: The `lr` argument is deprecated, use `learning_rate` instead.\n",
            "  \"The `lr` argument is deprecated, use `learning_rate` instead.\")\n"
          ],
          "name": "stderr"
        },
        {
          "output_type": "stream",
          "text": [
            "xtrain\n",
            "(1878, 120)\n",
            "ytrain\n",
            "(1878,)\n",
            "xval\n",
            "(105, 120)\n",
            "yval\n",
            "(105,)\n",
            "Epoch 1/100\n",
            "59/59 - 3s - loss: 0.6937 - accuracy: 0.4766 - val_loss: 0.6924 - val_accuracy: 0.9524\n",
            "Epoch 2/100\n",
            "59/59 - 1s - loss: 0.6936 - accuracy: 0.4872 - val_loss: 0.6921 - val_accuracy: 0.9524\n",
            "Epoch 3/100\n",
            "59/59 - 1s - loss: 0.6930 - accuracy: 0.5522 - val_loss: 0.6917 - val_accuracy: 0.9524\n",
            "Epoch 4/100\n",
            "59/59 - 1s - loss: 0.6930 - accuracy: 0.5564 - val_loss: 0.6913 - val_accuracy: 0.9524\n",
            "Epoch 5/100\n",
            "59/59 - 1s - loss: 0.6926 - accuracy: 0.5969 - val_loss: 0.6909 - val_accuracy: 0.9524\n",
            "Epoch 6/100\n",
            "59/59 - 0s - loss: 0.6920 - accuracy: 0.6528 - val_loss: 0.6903 - val_accuracy: 0.9524\n",
            "Epoch 7/100\n",
            "59/59 - 1s - loss: 0.6917 - accuracy: 0.6842 - val_loss: 0.6898 - val_accuracy: 0.9524\n",
            "Epoch 8/100\n",
            "59/59 - 1s - loss: 0.6911 - accuracy: 0.7412 - val_loss: 0.6893 - val_accuracy: 0.9524\n",
            "Epoch 9/100\n",
            "59/59 - 1s - loss: 0.6907 - accuracy: 0.7567 - val_loss: 0.6889 - val_accuracy: 0.9524\n",
            "Epoch 10/100\n",
            "59/59 - 1s - loss: 0.6901 - accuracy: 0.8035 - val_loss: 0.6883 - val_accuracy: 0.9524\n",
            "Epoch 11/100\n",
            "59/59 - 1s - loss: 0.6894 - accuracy: 0.8344 - val_loss: 0.6877 - val_accuracy: 0.9524\n",
            "Epoch 12/100\n",
            "59/59 - 1s - loss: 0.6888 - accuracy: 0.8578 - val_loss: 0.6870 - val_accuracy: 0.9524\n",
            "Epoch 13/100\n",
            "59/59 - 1s - loss: 0.6878 - accuracy: 0.8722 - val_loss: 0.6862 - val_accuracy: 0.9524\n",
            "Epoch 14/100\n",
            "59/59 - 1s - loss: 0.6867 - accuracy: 0.8940 - val_loss: 0.6852 - val_accuracy: 0.9524\n",
            "Epoch 15/100\n",
            "59/59 - 1s - loss: 0.6854 - accuracy: 0.8988 - val_loss: 0.6841 - val_accuracy: 0.9524\n",
            "Epoch 16/100\n",
            "59/59 - 1s - loss: 0.6843 - accuracy: 0.9105 - val_loss: 0.6829 - val_accuracy: 0.9524\n",
            "Epoch 17/100\n",
            "59/59 - 1s - loss: 0.6830 - accuracy: 0.9111 - val_loss: 0.6815 - val_accuracy: 0.9524\n",
            "Epoch 18/100\n",
            "59/59 - 1s - loss: 0.6813 - accuracy: 0.9191 - val_loss: 0.6798 - val_accuracy: 0.9524\n",
            "Epoch 19/100\n",
            "59/59 - 1s - loss: 0.6793 - accuracy: 0.9164 - val_loss: 0.6778 - val_accuracy: 0.9524\n",
            "Epoch 20/100\n",
            "59/59 - 1s - loss: 0.6768 - accuracy: 0.9153 - val_loss: 0.6745 - val_accuracy: 0.9524\n",
            "Epoch 21/100\n",
            "59/59 - 1s - loss: 0.6742 - accuracy: 0.9196 - val_loss: 0.6706 - val_accuracy: 0.9524\n",
            "Epoch 22/100\n",
            "59/59 - 1s - loss: 0.6701 - accuracy: 0.9233 - val_loss: 0.6659 - val_accuracy: 0.9524\n",
            "Epoch 23/100\n",
            "59/59 - 1s - loss: 0.6662 - accuracy: 0.9239 - val_loss: 0.6605 - val_accuracy: 0.9524\n",
            "Epoch 24/100\n",
            "59/59 - 1s - loss: 0.6605 - accuracy: 0.9255 - val_loss: 0.6538 - val_accuracy: 0.9524\n",
            "Epoch 25/100\n",
            "59/59 - 1s - loss: 0.6538 - accuracy: 0.9271 - val_loss: 0.6456 - val_accuracy: 0.9524\n",
            "Epoch 26/100\n",
            "59/59 - 1s - loss: 0.6461 - accuracy: 0.9265 - val_loss: 0.6355 - val_accuracy: 0.9524\n",
            "Epoch 27/100\n",
            "59/59 - 1s - loss: 0.6354 - accuracy: 0.9276 - val_loss: 0.6228 - val_accuracy: 0.9524\n",
            "Epoch 28/100\n",
            "59/59 - 1s - loss: 0.6232 - accuracy: 0.9255 - val_loss: 0.6063 - val_accuracy: 0.9524\n",
            "Epoch 29/100\n",
            "59/59 - 1s - loss: 0.6057 - accuracy: 0.9271 - val_loss: 0.5831 - val_accuracy: 0.9524\n",
            "Epoch 30/100\n",
            "59/59 - 1s - loss: 0.5776 - accuracy: 0.9265 - val_loss: 0.5479 - val_accuracy: 0.9524\n",
            "Epoch 31/100\n",
            "59/59 - 1s - loss: 0.5350 - accuracy: 0.9265 - val_loss: 0.4871 - val_accuracy: 0.9524\n",
            "Epoch 32/100\n",
            "59/59 - 1s - loss: 0.4644 - accuracy: 0.9281 - val_loss: 0.3882 - val_accuracy: 0.9524\n",
            "Epoch 33/100\n",
            "59/59 - 1s - loss: 0.3794 - accuracy: 0.9276 - val_loss: 0.2948 - val_accuracy: 0.9524\n",
            "Epoch 34/100\n",
            "59/59 - 1s - loss: 0.3246 - accuracy: 0.9271 - val_loss: 0.2422 - val_accuracy: 0.9524\n",
            "Epoch 35/100\n",
            "59/59 - 1s - loss: 0.3003 - accuracy: 0.9276 - val_loss: 0.2188 - val_accuracy: 0.9524\n",
            "Epoch 36/100\n",
            "59/59 - 1s - loss: 0.2905 - accuracy: 0.9276 - val_loss: 0.2073 - val_accuracy: 0.9524\n",
            "Epoch 37/100\n",
            "59/59 - 1s - loss: 0.2833 - accuracy: 0.9276 - val_loss: 0.2005 - val_accuracy: 0.9524\n",
            "Epoch 38/100\n",
            "59/59 - 1s - loss: 0.2846 - accuracy: 0.9281 - val_loss: 0.1974 - val_accuracy: 0.9524\n",
            "Epoch 39/100\n",
            "59/59 - 1s - loss: 0.2777 - accuracy: 0.9276 - val_loss: 0.1956 - val_accuracy: 0.9524\n",
            "Epoch 40/100\n",
            "59/59 - 1s - loss: 0.2843 - accuracy: 0.9265 - val_loss: 0.1951 - val_accuracy: 0.9524\n",
            "Epoch 41/100\n",
            "59/59 - 1s - loss: 0.2847 - accuracy: 0.9281 - val_loss: 0.1958 - val_accuracy: 0.9524\n",
            "Epoch 42/100\n",
            "59/59 - 1s - loss: 0.2857 - accuracy: 0.9281 - val_loss: 0.1948 - val_accuracy: 0.9524\n",
            "Epoch 43/100\n",
            "59/59 - 1s - loss: 0.2764 - accuracy: 0.9281 - val_loss: 0.1957 - val_accuracy: 0.9524\n",
            "Epoch 44/100\n",
            "59/59 - 1s - loss: 0.2843 - accuracy: 0.9281 - val_loss: 0.1965 - val_accuracy: 0.9524\n",
            "Epoch 45/100\n",
            "59/59 - 1s - loss: 0.2780 - accuracy: 0.9281 - val_loss: 0.1986 - val_accuracy: 0.9524\n",
            "Epoch 46/100\n",
            "59/59 - 1s - loss: 0.2699 - accuracy: 0.9281 - val_loss: 0.1936 - val_accuracy: 0.9524\n",
            "Epoch 47/100\n",
            "59/59 - 1s - loss: 0.2686 - accuracy: 0.9281 - val_loss: 0.1932 - val_accuracy: 0.9524\n",
            "Epoch 48/100\n",
            "59/59 - 1s - loss: 0.2663 - accuracy: 0.9281 - val_loss: 0.1945 - val_accuracy: 0.9524\n",
            "Epoch 49/100\n",
            "59/59 - 1s - loss: 0.2672 - accuracy: 0.9281 - val_loss: 0.1950 - val_accuracy: 0.9524\n",
            "Epoch 50/100\n",
            "59/59 - 1s - loss: 0.2711 - accuracy: 0.9281 - val_loss: 0.1950 - val_accuracy: 0.9524\n",
            "Epoch 51/100\n",
            "59/59 - 1s - loss: 0.2746 - accuracy: 0.9281 - val_loss: 0.1971 - val_accuracy: 0.9524\n",
            "Epoch 52/100\n",
            "59/59 - 1s - loss: 0.2711 - accuracy: 0.9281 - val_loss: 0.1952 - val_accuracy: 0.9524\n",
            "Epoch 53/100\n",
            "59/59 - 1s - loss: 0.2751 - accuracy: 0.9281 - val_loss: 0.1962 - val_accuracy: 0.9524\n",
            "Epoch 54/100\n",
            "59/59 - 1s - loss: 0.2676 - accuracy: 0.9281 - val_loss: 0.1927 - val_accuracy: 0.9524\n",
            "Epoch 55/100\n",
            "59/59 - 0s - loss: 0.2672 - accuracy: 0.9281 - val_loss: 0.1978 - val_accuracy: 0.9524\n",
            "Epoch 56/100\n",
            "59/59 - 1s - loss: 0.2461 - accuracy: 0.9281 - val_loss: 0.1469 - val_accuracy: 0.9524\n",
            "Epoch 57/100\n",
            "59/59 - 1s - loss: 0.2145 - accuracy: 0.9281 - val_loss: 0.2867 - val_accuracy: 0.9524\n",
            "Epoch 58/100\n",
            "59/59 - 1s - loss: 0.1868 - accuracy: 0.9286 - val_loss: 0.1705 - val_accuracy: 0.9524\n",
            "Epoch 59/100\n",
            "59/59 - 0s - loss: 0.1998 - accuracy: 0.9281 - val_loss: 0.1549 - val_accuracy: 0.9524\n",
            "Epoch 60/100\n",
            "59/59 - 1s - loss: 0.2131 - accuracy: 0.9286 - val_loss: 0.1494 - val_accuracy: 0.9524\n",
            "Epoch 61/100\n",
            "59/59 - 1s - loss: 0.1835 - accuracy: 0.9286 - val_loss: 0.1455 - val_accuracy: 0.9524\n",
            "Epoch 62/100\n",
            "59/59 - 1s - loss: 0.1850 - accuracy: 0.9286 - val_loss: 0.1494 - val_accuracy: 0.9524\n",
            "Epoch 63/100\n",
            "59/59 - 1s - loss: 0.1826 - accuracy: 0.9281 - val_loss: 0.2021 - val_accuracy: 0.9524\n",
            "Epoch 64/100\n",
            "59/59 - 1s - loss: 0.2032 - accuracy: 0.9068 - val_loss: 0.3215 - val_accuracy: 0.9524\n",
            "Epoch 65/100\n",
            "59/59 - 1s - loss: 0.2088 - accuracy: 0.9233 - val_loss: 0.1576 - val_accuracy: 0.9524\n",
            "Epoch 66/100\n",
            "59/59 - 1s - loss: 0.2253 - accuracy: 0.9281 - val_loss: 0.1445 - val_accuracy: 0.9524\n",
            "Epoch 67/100\n",
            "59/59 - 1s - loss: 0.1794 - accuracy: 0.9276 - val_loss: 0.1933 - val_accuracy: 0.9524\n",
            "Epoch 68/100\n",
            "59/59 - 1s - loss: 0.1752 - accuracy: 0.9324 - val_loss: 0.1483 - val_accuracy: 0.9619\n",
            "Epoch 69/100\n",
            "59/59 - 1s - loss: 0.1997 - accuracy: 0.9478 - val_loss: 0.1696 - val_accuracy: 0.9429\n",
            "Epoch 70/100\n",
            "59/59 - 1s - loss: 0.1888 - accuracy: 0.9510 - val_loss: 0.1873 - val_accuracy: 0.9333\n",
            "Epoch 71/100\n",
            "59/59 - 1s - loss: 0.2075 - accuracy: 0.9473 - val_loss: 0.1922 - val_accuracy: 0.9333\n",
            "Epoch 72/100\n",
            "59/59 - 1s - loss: 0.2163 - accuracy: 0.9398 - val_loss: 0.1925 - val_accuracy: 0.9524\n",
            "Epoch 73/100\n",
            "59/59 - 1s - loss: 0.2187 - accuracy: 0.9340 - val_loss: 0.1892 - val_accuracy: 0.9333\n",
            "Epoch 74/100\n",
            "59/59 - 1s - loss: 0.2038 - accuracy: 0.9393 - val_loss: 0.2130 - val_accuracy: 0.9048\n",
            "Epoch 75/100\n",
            "59/59 - 1s - loss: 0.2121 - accuracy: 0.9292 - val_loss: 0.1949 - val_accuracy: 0.9524\n",
            "Epoch 76/100\n",
            "59/59 - 1s - loss: 0.2269 - accuracy: 0.9286 - val_loss: 0.2002 - val_accuracy: 0.9524\n",
            "Epoch 77/100\n",
            "59/59 - 1s - loss: 0.2149 - accuracy: 0.9297 - val_loss: 0.1985 - val_accuracy: 0.9524\n",
            "Epoch 78/100\n",
            "59/59 - 1s - loss: 0.2610 - accuracy: 0.9302 - val_loss: 0.1921 - val_accuracy: 0.9524\n",
            "Epoch 79/100\n",
            "59/59 - 1s - loss: 0.2610 - accuracy: 0.9313 - val_loss: 0.1969 - val_accuracy: 0.9524\n",
            "Epoch 80/100\n",
            "59/59 - 1s - loss: 0.2488 - accuracy: 0.9169 - val_loss: 0.1907 - val_accuracy: 0.9524\n",
            "Epoch 81/100\n",
            "59/59 - 1s - loss: 0.2366 - accuracy: 0.9297 - val_loss: 0.1792 - val_accuracy: 0.9524\n",
            "Epoch 82/100\n",
            "59/59 - 1s - loss: 0.2338 - accuracy: 0.9302 - val_loss: 0.2078 - val_accuracy: 0.9238\n",
            "Epoch 83/100\n",
            "59/59 - 1s - loss: 0.2576 - accuracy: 0.9302 - val_loss: 0.2016 - val_accuracy: 0.9524\n",
            "Epoch 84/100\n",
            "59/59 - 1s - loss: 0.2620 - accuracy: 0.9302 - val_loss: 0.2217 - val_accuracy: 0.9524\n",
            "Epoch 85/100\n",
            "59/59 - 1s - loss: 0.2686 - accuracy: 0.9281 - val_loss: 0.1805 - val_accuracy: 0.9524\n",
            "Epoch 86/100\n",
            "59/59 - 1s - loss: 0.2246 - accuracy: 0.9313 - val_loss: 0.1793 - val_accuracy: 0.9524\n",
            "Epoch 87/100\n",
            "59/59 - 1s - loss: 0.2325 - accuracy: 0.9281 - val_loss: 0.1799 - val_accuracy: 0.9524\n",
            "Epoch 88/100\n",
            "59/59 - 1s - loss: 0.2389 - accuracy: 0.9345 - val_loss: 0.1786 - val_accuracy: 0.9524\n",
            "Epoch 89/100\n",
            "59/59 - 1s - loss: 0.2318 - accuracy: 0.9414 - val_loss: 0.1764 - val_accuracy: 0.9524\n",
            "Epoch 90/100\n",
            "59/59 - 1s - loss: 0.2399 - accuracy: 0.9377 - val_loss: 0.2123 - val_accuracy: 0.9524\n",
            "Epoch 91/100\n",
            "59/59 - 1s - loss: 0.3001 - accuracy: 0.9249 - val_loss: 0.1716 - val_accuracy: 0.9619\n",
            "Epoch 92/100\n",
            "59/59 - 1s - loss: 0.2050 - accuracy: 0.9430 - val_loss: 0.1925 - val_accuracy: 0.9524\n",
            "Epoch 93/100\n",
            "59/59 - 1s - loss: 0.1749 - accuracy: 0.9526 - val_loss: 0.1553 - val_accuracy: 0.9619\n",
            "Epoch 94/100\n",
            "59/59 - 1s - loss: 0.1708 - accuracy: 0.9452 - val_loss: 0.1790 - val_accuracy: 0.9619\n",
            "Epoch 95/100\n",
            "59/59 - 1s - loss: 0.1426 - accuracy: 0.9547 - val_loss: 0.2394 - val_accuracy: 0.9524\n",
            "Epoch 96/100\n",
            "59/59 - 1s - loss: 0.1264 - accuracy: 0.9665 - val_loss: 0.1568 - val_accuracy: 0.9619\n",
            "Epoch 97/100\n",
            "59/59 - 1s - loss: 0.1388 - accuracy: 0.9547 - val_loss: 0.2351 - val_accuracy: 0.9048\n",
            "Epoch 98/100\n",
            "59/59 - 1s - loss: 0.1409 - accuracy: 0.9633 - val_loss: 0.2032 - val_accuracy: 0.9524\n",
            "Epoch 99/100\n",
            "59/59 - 1s - loss: 0.1506 - accuracy: 0.9585 - val_loss: 0.1877 - val_accuracy: 0.9524\n",
            "Epoch 100/100\n",
            "59/59 - 1s - loss: 0.1472 - accuracy: 0.9601 - val_loss: 0.1552 - val_accuracy: 0.9429\n"
          ],
          "name": "stdout"
        },
        {
          "output_type": "display_data",
          "data": {
            "image/png": "[encoded data removed]",
            "text/plain": [
              "<Figure size 432x288 with 1 Axes>"
            ]
          },
          "metadata": {
            "tags": [],
            "image/png": {
              "width": 372,
              "height": 249
            },
            "needs_background": "light"
          }
        }
      ]
    },
    {
      "cell_type": "code",
      "metadata": {
        "id": "W6BBzxOx3czy",
        "outputId": "f1a9723e-eaf3-4bb6-f1fb-892f6f0a1101",
        "colab": {
          "base_uri": "https://localhost:8080/",
          "height": 1000
        }
      },
      "source": [
        "ownModel, ownHistory = startermodelBidirectionalExperimentalBinary(np.array(xTrainArray3), np.array(yTrainArray3[:,1]), np.array(xValArray3), np.array(yValArray3[:,1]), vocab_size, embedding_dim, max_length, 100)"
      ],
      "execution_count": 95,
      "outputs": [
        {
          "output_type": "stream",
          "text": [
            "Model: \"sequential_4\"\n",
            "_________________________________________________________________\n",
            "Layer (type)                 Output Shape              Param #   \n",
            "=================================================================\n",
            "embedding_5 (Embedding)      (None, 120, 32)           96032     \n",
            "_________________________________________________________________\n",
            "dropout_8 (Dropout)          (None, 120, 32)           0         \n",
            "_________________________________________________________________\n",
            "lstm_6 (LSTM)                (None, 16)                3136      \n",
            "_________________________________________________________________\n",
            "dropout_9 (Dropout)          (None, 16)                0         \n",
            "_________________________________________________________________\n",
            "dense_6 (Dense)              (None, 1)                 17        \n",
            "=================================================================\n",
            "Total params: 99,185\n",
            "Trainable params: 99,185\n",
            "Non-trainable params: 0\n",
            "_________________________________________________________________\n",
            "Epoch 1/100\n",
            "59/59 - 3s - loss: 0.2852 - binary_accuracy: 0.9265 - val_loss: 0.1915 - val_binary_accuracy: 0.9524\n",
            "Epoch 2/100\n",
            "59/59 - 1s - loss: 0.2666 - binary_accuracy: 0.9292 - val_loss: 0.1997 - val_binary_accuracy: 0.9524\n",
            "Epoch 3/100\n",
            "59/59 - 1s - loss: 0.2625 - binary_accuracy: 0.9302 - val_loss: 0.1999 - val_binary_accuracy: 0.9524\n",
            "Epoch 4/100\n",
            "59/59 - 1s - loss: 0.2625 - binary_accuracy: 0.9302 - val_loss: 0.1955 - val_binary_accuracy: 0.9524\n",
            "Epoch 5/100\n",
            "59/59 - 1s - loss: 0.2596 - binary_accuracy: 0.9308 - val_loss: 0.1957 - val_binary_accuracy: 0.9524\n",
            "Epoch 6/100\n",
            "59/59 - 1s - loss: 0.2584 - binary_accuracy: 0.9308 - val_loss: 0.1974 - val_binary_accuracy: 0.9524\n",
            "Epoch 7/100\n",
            "59/59 - 1s - loss: 0.2592 - binary_accuracy: 0.9308 - val_loss: 0.1990 - val_binary_accuracy: 0.9524\n",
            "Epoch 8/100\n",
            "59/59 - 1s - loss: 0.2551 - binary_accuracy: 0.9313 - val_loss: 0.2028 - val_binary_accuracy: 0.9524\n",
            "Epoch 9/100\n",
            "59/59 - 1s - loss: 0.2956 - binary_accuracy: 0.9121 - val_loss: 0.1832 - val_binary_accuracy: 0.9524\n",
            "Epoch 10/100\n",
            "59/59 - 1s - loss: 0.2469 - binary_accuracy: 0.9281 - val_loss: 0.1835 - val_binary_accuracy: 0.9524\n",
            "Epoch 11/100\n",
            "59/59 - 1s - loss: 0.2367 - binary_accuracy: 0.9281 - val_loss: 0.1796 - val_binary_accuracy: 0.9524\n",
            "Epoch 12/100\n",
            "59/59 - 1s - loss: 0.2303 - binary_accuracy: 0.9286 - val_loss: 0.1798 - val_binary_accuracy: 0.9524\n",
            "Epoch 13/100\n",
            "59/59 - 1s - loss: 0.2332 - binary_accuracy: 0.9302 - val_loss: 0.1886 - val_binary_accuracy: 0.9524\n",
            "Epoch 14/100\n",
            "59/59 - 1s - loss: 0.2249 - binary_accuracy: 0.9286 - val_loss: 0.1877 - val_binary_accuracy: 0.9524\n",
            "Epoch 15/100\n",
            "59/59 - 1s - loss: 0.2289 - binary_accuracy: 0.9302 - val_loss: 0.1852 - val_binary_accuracy: 0.9524\n",
            "Epoch 16/100\n",
            "59/59 - 1s - loss: 0.2265 - binary_accuracy: 0.9302 - val_loss: 0.1923 - val_binary_accuracy: 0.9524\n",
            "Epoch 17/100\n",
            "59/59 - 1s - loss: 0.2236 - binary_accuracy: 0.9313 - val_loss: 0.1886 - val_binary_accuracy: 0.9524\n",
            "Epoch 18/100\n",
            "59/59 - 1s - loss: 0.2277 - binary_accuracy: 0.9292 - val_loss: 0.1888 - val_binary_accuracy: 0.9524\n",
            "Epoch 19/100\n",
            "59/59 - 1s - loss: 0.2250 - binary_accuracy: 0.9302 - val_loss: 0.1893 - val_binary_accuracy: 0.9524\n",
            "Epoch 20/100\n",
            "59/59 - 1s - loss: 0.2241 - binary_accuracy: 0.9302 - val_loss: 0.1906 - val_binary_accuracy: 0.9524\n",
            "Epoch 21/100\n",
            "59/59 - 1s - loss: 0.2261 - binary_accuracy: 0.9302 - val_loss: 0.1900 - val_binary_accuracy: 0.9524\n",
            "Epoch 22/100\n",
            "59/59 - 1s - loss: 0.2190 - binary_accuracy: 0.9302 - val_loss: 0.1934 - val_binary_accuracy: 0.9524\n",
            "Epoch 23/100\n",
            "59/59 - 1s - loss: 0.2198 - binary_accuracy: 0.9297 - val_loss: 0.1914 - val_binary_accuracy: 0.9524\n",
            "Epoch 24/100\n",
            "59/59 - 1s - loss: 0.2174 - binary_accuracy: 0.9302 - val_loss: 0.1899 - val_binary_accuracy: 0.9524\n",
            "Epoch 25/100\n",
            "59/59 - 1s - loss: 0.2215 - binary_accuracy: 0.9313 - val_loss: 0.1906 - val_binary_accuracy: 0.9524\n",
            "Epoch 26/100\n",
            "59/59 - 1s - loss: 0.2252 - binary_accuracy: 0.9302 - val_loss: 0.1966 - val_binary_accuracy: 0.9524\n",
            "Epoch 27/100\n",
            "59/59 - 1s - loss: 0.2238 - binary_accuracy: 0.9297 - val_loss: 0.1898 - val_binary_accuracy: 0.9524\n",
            "Epoch 28/100\n",
            "59/59 - 1s - loss: 0.2198 - binary_accuracy: 0.9302 - val_loss: 0.1927 - val_binary_accuracy: 0.9524\n",
            "Epoch 29/100\n",
            "59/59 - 1s - loss: 0.2190 - binary_accuracy: 0.9281 - val_loss: 0.1950 - val_binary_accuracy: 0.9524\n",
            "Epoch 30/100\n",
            "59/59 - 1s - loss: 0.2162 - binary_accuracy: 0.9286 - val_loss: 0.1939 - val_binary_accuracy: 0.9238\n",
            "Epoch 31/100\n",
            "59/59 - 1s - loss: 0.2203 - binary_accuracy: 0.9334 - val_loss: 0.1938 - val_binary_accuracy: 0.9524\n",
            "Epoch 32/100\n",
            "59/59 - 1s - loss: 0.2196 - binary_accuracy: 0.9286 - val_loss: 0.1905 - val_binary_accuracy: 0.9524\n",
            "Epoch 33/100\n",
            "59/59 - 1s - loss: 0.2154 - binary_accuracy: 0.9233 - val_loss: 0.1935 - val_binary_accuracy: 0.9238\n",
            "Epoch 34/100\n",
            "59/59 - 1s - loss: 0.2190 - binary_accuracy: 0.9313 - val_loss: 0.1926 - val_binary_accuracy: 0.9524\n",
            "Epoch 35/100\n",
            "59/59 - 1s - loss: 0.2160 - binary_accuracy: 0.9334 - val_loss: 0.1948 - val_binary_accuracy: 0.9238\n",
            "Epoch 36/100\n",
            "59/59 - 1s - loss: 0.2950 - binary_accuracy: 0.9196 - val_loss: 0.1986 - val_binary_accuracy: 0.9524\n",
            "Epoch 37/100\n",
            "59/59 - 1s - loss: 0.2589 - binary_accuracy: 0.9281 - val_loss: 0.1987 - val_binary_accuracy: 0.9524\n",
            "Epoch 38/100\n",
            "59/59 - 1s - loss: 0.2557 - binary_accuracy: 0.9281 - val_loss: 0.1952 - val_binary_accuracy: 0.9524\n",
            "Epoch 39/100\n",
            "59/59 - 1s - loss: 0.2565 - binary_accuracy: 0.9286 - val_loss: 0.1924 - val_binary_accuracy: 0.9524\n",
            "Epoch 40/100\n",
            "59/59 - 1s - loss: 0.2587 - binary_accuracy: 0.9286 - val_loss: 0.1930 - val_binary_accuracy: 0.9524\n",
            "Epoch 41/100\n",
            "59/59 - 1s - loss: 0.2553 - binary_accuracy: 0.9292 - val_loss: 0.2019 - val_binary_accuracy: 0.9524\n",
            "Epoch 42/100\n",
            "59/59 - 1s - loss: 0.2569 - binary_accuracy: 0.9297 - val_loss: 0.1950 - val_binary_accuracy: 0.9524\n",
            "Epoch 43/100\n",
            "59/59 - 1s - loss: 0.2582 - binary_accuracy: 0.9292 - val_loss: 0.1932 - val_binary_accuracy: 0.9524\n",
            "Epoch 44/100\n",
            "59/59 - 1s - loss: 0.2555 - binary_accuracy: 0.9292 - val_loss: 0.1952 - val_binary_accuracy: 0.9524\n",
            "Epoch 45/100\n",
            "59/59 - 1s - loss: 0.2546 - binary_accuracy: 0.9297 - val_loss: 0.1952 - val_binary_accuracy: 0.9524\n",
            "Epoch 46/100\n",
            "59/59 - 1s - loss: 0.2556 - binary_accuracy: 0.9297 - val_loss: 0.1991 - val_binary_accuracy: 0.9524\n",
            "Epoch 47/100\n",
            "59/59 - 1s - loss: 0.2576 - binary_accuracy: 0.9302 - val_loss: 0.2060 - val_binary_accuracy: 0.9524\n",
            "Epoch 48/100\n",
            "59/59 - 1s - loss: 0.2554 - binary_accuracy: 0.9302 - val_loss: 0.1944 - val_binary_accuracy: 0.9524\n",
            "Epoch 49/100\n",
            "59/59 - 1s - loss: 0.2533 - binary_accuracy: 0.9302 - val_loss: 0.1949 - val_binary_accuracy: 0.9524\n",
            "Epoch 50/100\n",
            "59/59 - 1s - loss: 0.2242 - binary_accuracy: 0.9297 - val_loss: 0.1684 - val_binary_accuracy: 0.9524\n",
            "Epoch 51/100\n",
            "59/59 - 1s - loss: 0.1627 - binary_accuracy: 0.9350 - val_loss: 0.1756 - val_binary_accuracy: 0.9524\n",
            "Epoch 52/100\n",
            "59/59 - 1s - loss: 0.1229 - binary_accuracy: 0.9499 - val_loss: 0.1737 - val_binary_accuracy: 0.9619\n",
            "Epoch 53/100\n",
            "59/59 - 1s - loss: 0.0889 - binary_accuracy: 0.9696 - val_loss: 0.1835 - val_binary_accuracy: 0.9619\n",
            "Epoch 54/100\n",
            "59/59 - 1s - loss: 0.0802 - binary_accuracy: 0.9718 - val_loss: 0.1760 - val_binary_accuracy: 0.9619\n",
            "Epoch 55/100\n",
            "59/59 - 1s - loss: 0.0616 - binary_accuracy: 0.9819 - val_loss: 0.2194 - val_binary_accuracy: 0.9429\n",
            "Epoch 56/100\n",
            "59/59 - 1s - loss: 0.0575 - binary_accuracy: 0.9830 - val_loss: 0.2313 - val_binary_accuracy: 0.9333\n",
            "Epoch 57/100\n",
            "59/59 - 1s - loss: 0.0527 - binary_accuracy: 0.9840 - val_loss: 0.2022 - val_binary_accuracy: 0.9524\n",
            "Epoch 58/100\n",
            "59/59 - 1s - loss: 0.0511 - binary_accuracy: 0.9835 - val_loss: 0.2186 - val_binary_accuracy: 0.9524\n",
            "Epoch 59/100\n",
            "59/59 - 1s - loss: 0.0402 - binary_accuracy: 0.9872 - val_loss: 0.2322 - val_binary_accuracy: 0.9524\n",
            "Epoch 60/100\n",
            "59/59 - 1s - loss: 0.0394 - binary_accuracy: 0.9867 - val_loss: 0.2341 - val_binary_accuracy: 0.9524\n",
            "Epoch 61/100\n",
            "59/59 - 1s - loss: 0.0348 - binary_accuracy: 0.9894 - val_loss: 0.2300 - val_binary_accuracy: 0.9524\n",
            "Epoch 62/100\n",
            "59/59 - 1s - loss: 0.0320 - binary_accuracy: 0.9909 - val_loss: 0.2337 - val_binary_accuracy: 0.9524\n",
            "Epoch 63/100\n",
            "59/59 - 1s - loss: 0.0253 - binary_accuracy: 0.9931 - val_loss: 0.2195 - val_binary_accuracy: 0.9524\n",
            "Epoch 64/100\n",
            "59/59 - 1s - loss: 0.0256 - binary_accuracy: 0.9909 - val_loss: 0.2614 - val_binary_accuracy: 0.9524\n",
            "Epoch 65/100\n",
            "59/59 - 1s - loss: 0.0239 - binary_accuracy: 0.9920 - val_loss: 0.2468 - val_binary_accuracy: 0.9524\n",
            "Epoch 66/100\n",
            "59/59 - 1s - loss: 0.0226 - binary_accuracy: 0.9947 - val_loss: 0.2666 - val_binary_accuracy: 0.9524\n",
            "Epoch 67/100\n",
            "59/59 - 1s - loss: 0.0274 - binary_accuracy: 0.9936 - val_loss: 0.2722 - val_binary_accuracy: 0.9524\n",
            "Epoch 68/100\n",
            "59/59 - 1s - loss: 0.0208 - binary_accuracy: 0.9931 - val_loss: 0.2752 - val_binary_accuracy: 0.9524\n",
            "Epoch 69/100\n",
            "59/59 - 1s - loss: 0.0195 - binary_accuracy: 0.9936 - val_loss: 0.2805 - val_binary_accuracy: 0.9524\n",
            "Epoch 70/100\n",
            "59/59 - 1s - loss: 0.0151 - binary_accuracy: 0.9963 - val_loss: 0.2832 - val_binary_accuracy: 0.9524\n",
            "Epoch 71/100\n",
            "59/59 - 1s - loss: 0.0132 - binary_accuracy: 0.9957 - val_loss: 0.2988 - val_binary_accuracy: 0.9524\n",
            "Epoch 72/100\n",
            "59/59 - 1s - loss: 0.0150 - binary_accuracy: 0.9963 - val_loss: 0.3050 - val_binary_accuracy: 0.9524\n",
            "Epoch 73/100\n",
            "59/59 - 1s - loss: 0.0130 - binary_accuracy: 0.9963 - val_loss: 0.3071 - val_binary_accuracy: 0.9429\n",
            "Epoch 74/100\n",
            "59/59 - 1s - loss: 0.0142 - binary_accuracy: 0.9947 - val_loss: 0.3145 - val_binary_accuracy: 0.9524\n",
            "Epoch 75/100\n",
            "59/59 - 1s - loss: 0.0107 - binary_accuracy: 0.9973 - val_loss: 0.3087 - val_binary_accuracy: 0.9524\n",
            "Epoch 76/100\n",
            "59/59 - 1s - loss: 0.0118 - binary_accuracy: 0.9973 - val_loss: 0.3476 - val_binary_accuracy: 0.9429\n",
            "Epoch 77/100\n",
            "59/59 - 1s - loss: 0.0131 - binary_accuracy: 0.9968 - val_loss: 0.3506 - val_binary_accuracy: 0.9429\n",
            "Epoch 78/100\n",
            "59/59 - 1s - loss: 0.0104 - binary_accuracy: 0.9979 - val_loss: 0.3401 - val_binary_accuracy: 0.9429\n",
            "Epoch 79/100\n",
            "59/59 - 1s - loss: 0.0094 - binary_accuracy: 0.9973 - val_loss: 0.3600 - val_binary_accuracy: 0.9429\n",
            "Epoch 80/100\n",
            "59/59 - 1s - loss: 0.0103 - binary_accuracy: 0.9973 - val_loss: 0.3693 - val_binary_accuracy: 0.9429\n",
            "Epoch 81/100\n",
            "59/59 - 1s - loss: 0.0071 - binary_accuracy: 0.9984 - val_loss: 0.3791 - val_binary_accuracy: 0.9429\n",
            "Epoch 82/100\n",
            "59/59 - 1s - loss: 0.0073 - binary_accuracy: 0.9984 - val_loss: 0.3795 - val_binary_accuracy: 0.9429\n",
            "Epoch 83/100\n",
            "59/59 - 1s - loss: 0.0069 - binary_accuracy: 0.9984 - val_loss: 0.3820 - val_binary_accuracy: 0.9429\n",
            "Epoch 84/100\n",
            "59/59 - 1s - loss: 0.0052 - binary_accuracy: 0.9989 - val_loss: 0.3881 - val_binary_accuracy: 0.9429\n",
            "Epoch 85/100\n",
            "59/59 - 1s - loss: 0.0074 - binary_accuracy: 0.9979 - val_loss: 0.3958 - val_binary_accuracy: 0.9429\n",
            "Epoch 86/100\n",
            "59/59 - 1s - loss: 0.0047 - binary_accuracy: 0.9979 - val_loss: 0.4004 - val_binary_accuracy: 0.9429\n",
            "Epoch 87/100\n",
            "59/59 - 1s - loss: 0.0103 - binary_accuracy: 0.9979 - val_loss: 0.3658 - val_binary_accuracy: 0.9429\n",
            "Epoch 88/100\n",
            "59/59 - 1s - loss: 0.0071 - binary_accuracy: 0.9984 - val_loss: 0.3984 - val_binary_accuracy: 0.9429\n",
            "Epoch 89/100\n",
            "59/59 - 1s - loss: 0.0048 - binary_accuracy: 0.9984 - val_loss: 0.4020 - val_binary_accuracy: 0.9429\n",
            "Epoch 90/100\n",
            "59/59 - 1s - loss: 0.0058 - binary_accuracy: 0.9984 - val_loss: 0.4048 - val_binary_accuracy: 0.9333\n",
            "Epoch 91/100\n",
            "59/59 - 1s - loss: 0.0107 - binary_accuracy: 0.9963 - val_loss: 0.3541 - val_binary_accuracy: 0.9429\n",
            "Epoch 92/100\n",
            "59/59 - 1s - loss: 0.0044 - binary_accuracy: 0.9984 - val_loss: 0.3672 - val_binary_accuracy: 0.9524\n",
            "Epoch 93/100\n",
            "59/59 - 1s - loss: 0.0071 - binary_accuracy: 0.9984 - val_loss: 0.3757 - val_binary_accuracy: 0.9524\n",
            "Epoch 94/100\n",
            "59/59 - 1s - loss: 0.0075 - binary_accuracy: 0.9973 - val_loss: 0.3849 - val_binary_accuracy: 0.9524\n",
            "Epoch 95/100\n",
            "59/59 - 1s - loss: 0.0062 - binary_accuracy: 0.9973 - val_loss: 0.3900 - val_binary_accuracy: 0.9429\n",
            "Epoch 96/100\n",
            "59/59 - 1s - loss: 0.0051 - binary_accuracy: 0.9989 - val_loss: 0.3887 - val_binary_accuracy: 0.9524\n",
            "Epoch 97/100\n",
            "59/59 - 1s - loss: 0.0044 - binary_accuracy: 0.9989 - val_loss: 0.3941 - val_binary_accuracy: 0.9524\n",
            "Epoch 98/100\n",
            "59/59 - 1s - loss: 0.0069 - binary_accuracy: 0.9984 - val_loss: 0.3882 - val_binary_accuracy: 0.9524\n",
            "Epoch 99/100\n",
            "59/59 - 1s - loss: 0.0059 - binary_accuracy: 0.9979 - val_loss: 0.3907 - val_binary_accuracy: 0.9429\n",
            "Epoch 100/100\n",
            "59/59 - 1s - loss: 0.0065 - binary_accuracy: 0.9989 - val_loss: 0.4099 - val_binary_accuracy: 0.9429\n"
          ],
          "name": "stdout"
        },
        {
          "output_type": "display_data",
          "data": {
            "image/png": "[encoded data removed]",
            "text/plain": [
              "<Figure size 432x288 with 1 Axes>"
            ]
          },
          "metadata": {
            "tags": [],
            "image/png": {
              "width": 378,
              "height": 248
            },
            "needs_background": "light"
          }
        },
        {
          "output_type": "display_data",
          "data": {
            "image/png": "[encoded data removed]",
            "text/plain": [
              "<Figure size 432x288 with 1 Axes>"
            ]
          },
          "metadata": {
            "tags": [],
            "image/png": {
              "width": 378,
              "height": 248
            },
            "needs_background": "light"
          }
        }
      ]
    },
    {
      "cell_type": "markdown",
      "metadata": {
        "id": "kVX3KSFClDpR"
      },
      "source": [
        "### Predict Model"
      ]
    },
    {
      "cell_type": "code",
      "metadata": {
        "id": "w-qcn_d9tnPU"
      },
      "source": [
        "def predictModel(model, xTest, yTest):\n",
        "\n",
        "  predictions = model.predict(xTest)\n",
        "  print(predictions.size)\n",
        "  print(yTest.size)\n",
        "\n",
        "  class_labels = np.argmax(predictions, axis=1)\n",
        "  print(\"Class Labels:\\n\")\n",
        "  print(class_labels)\n",
        "  test_labels = np.argmax(yTest, axis=1)\n",
        "  print(\"Test Labels:\\n\")\n",
        "  print(test_labels)\n",
        "  #class_labels_reshaped = class_labels.reshape(yTest.shape[0],yTest.shape[1])\n",
        "  class_labels_diff = class_labels - test_labels\n",
        "  print(\"Class Labels Diff:\\n\")\n",
        "  print(class_labels_diff)\n",
        "  #label = [\"class1\", \"class2\", \"class3\", \"class4\", \"class5\", \"class6\"]\n",
        "  \n",
        "  print(len(xTest))\n",
        "  print(test_labels.shape)\n",
        "  print(class_labels.shape)\n",
        "\n",
        "  #plt.scatter(xTest, class_labels)\n",
        "  #plt.scatter(xTest, test_labels)\n",
        "\n",
        "  #plt.title('Test Set Predictions')\n",
        "  #plt.ylabel('class')\n",
        "\n",
        "  #plt.legend(loc=\"upper left\")\n",
        "  #plt.legend(['prediction', 'real test result'], loc='upper right')\n",
        "  #plt.show()\n",
        "\n",
        "  return predictions"
      ],
      "execution_count": 101,
      "outputs": []
    },
    {
      "cell_type": "code",
      "metadata": {
        "id": "ROBNwrEP49-U",
        "outputId": "271e5679-29f9-4db6-ca50-e3d5c2a06fe0",
        "colab": {
          "base_uri": "https://localhost:8080/"
        }
      },
      "source": [
        "predictionsOwnModel = predictModel(ownModel, xTestArray3, yTestArray3)"
      ],
      "execution_count": 102,
      "outputs": [
        {
          "output_type": "stream",
          "text": [
            "104\n",
            "208\n",
            "Class Labels:\n",
            "\n",
            "[0 0 0 0 0 0 0 0 0 0 0 0 0 0 0 0 0 0 0 0 0 0 0 0 0 0 0 0 0 0 0 0 0 0 0 0 0\n",
            " 0 0 0 0 0 0 0 0 0 0 0 0 0 0 0 0 0 0 0 0 0 0 0 0 0 0 0 0 0 0 0 0 0 0 0 0 0\n",
            " 0 0 0 0 0 0 0 0 0 0 0 0 0 0 0 0 0 0 0 0 0 0 0 0 0 0 0 0 0 0]\n",
            "Test Labels:\n",
            "\n",
            "[1 1 1 1 1 1 1 1 1 1 1 1 1 1 1 1 1 1 1 1 1 1 1 1 1 1 1 1 1 1 1 1 1 1 1 1 1\n",
            " 1 1 1 1 1 1 1 1 1 1 1 1 1 1 1 1 0 1 0 1 0 1 1 1 1 1 1 1 0 1 1 1 1 1 1 1 1\n",
            " 1 1 1 1 1 1 1 1 1 1 1 1 1 1 1 1 1 1 0 1 1 1 1 1 1 0 1 1 1 1]\n",
            "Class Labels Diff:\n",
            "\n",
            "[-1 -1 -1 -1 -1 -1 -1 -1 -1 -1 -1 -1 -1 -1 -1 -1 -1 -1 -1 -1 -1 -1 -1 -1\n",
            " -1 -1 -1 -1 -1 -1 -1 -1 -1 -1 -1 -1 -1 -1 -1 -1 -1 -1 -1 -1 -1 -1 -1 -1\n",
            " -1 -1 -1 -1 -1  0 -1  0 -1  0 -1 -1 -1 -1 -1 -1 -1  0 -1 -1 -1 -1 -1 -1\n",
            " -1 -1 -1 -1 -1 -1 -1 -1 -1 -1 -1 -1 -1 -1 -1 -1 -1 -1 -1 -1  0 -1 -1 -1\n",
            " -1 -1 -1  0 -1 -1 -1 -1]\n",
            "104\n",
            "(104,)\n",
            "(104,)\n"
          ],
          "name": "stdout"
        }
      ]
    },
    {
      "cell_type": "markdown",
      "metadata": {
        "id": "UHDSzirMs8dC"
      },
      "source": [
        "## Bert Model German with simpletransformers"
      ]
    },
    {
      "cell_type": "markdown",
      "metadata": {
        "id": "UUHso55MGj6K"
      },
      "source": [
        "First we need to install the simpletransformers."
      ]
    },
    {
      "cell_type": "code",
      "metadata": {
        "id": "uxXazU9Fzxt-",
        "outputId": "fa0fe1b3-57cd-42f2-f7d8-20465389fd97",
        "colab": {
          "base_uri": "https://localhost:8080/",
          "height": 1000
        }
      },
      "source": [
        "# install simpletransformers\n",
        "!pip install simpletransformers\n",
        "\n",
        "# check installed version\n",
        "!pip freeze | grep simpletransformers\n",
        "# simpletransformers==0.28.2"
      ],
      "execution_count": 30,
      "outputs": [
        {
          "output_type": "stream",
          "text": [
            "Collecting simpletransformers\n",
            "\u001b[?25l  Downloading https://files.pythonhosted.org/packages/cf/2b/9073313586a8cdd7997b2f4ed43c0a44d9c484013b51f77c1c0f034dd78b/simpletransformers-0.61.6-py3-none-any.whl (220kB)\n",
            "\u001b[K     |████████████████████████████████| 225kB 4.2MB/s \n",
            "\u001b[?25hRequirement already satisfied: numpy in /usr/local/lib/python3.7/dist-packages (from simpletransformers) (1.19.5)\n",
            "Collecting tqdm>=4.47.0\n",
            "\u001b[?25l  Downloading https://files.pythonhosted.org/packages/b4/20/9f1e974bb4761128fc0d0a32813eaa92827309b1756c4b892d28adfb4415/tqdm-4.61.1-py2.py3-none-any.whl (75kB)\n",
            "\u001b[K     |████████████████████████████████| 81kB 5.7MB/s \n",
            "\u001b[?25hRequirement already satisfied: regex in /usr/local/lib/python3.7/dist-packages (from simpletransformers) (2019.12.20)\n",
            "Requirement already satisfied: scipy in /usr/local/lib/python3.7/dist-packages (from simpletransformers) (1.4.1)\n",
            "Collecting wandb\n",
            "\u001b[?25l  Downloading https://files.pythonhosted.org/packages/e0/b4/9d92953d8cddc8450c859be12e3dbdd4c7754fb8def94c28b3b351c6ee4e/wandb-0.10.32-py2.py3-none-any.whl (1.8MB)\n",
            "\u001b[K     |████████████████████████████████| 1.8MB 7.2MB/s \n",
            "\u001b[?25hCollecting tokenizers\n",
            "\u001b[?25l  Downloading https://files.pythonhosted.org/packages/d4/e2/df3543e8ffdab68f5acc73f613de9c2b155ac47f162e725dcac87c521c11/tokenizers-0.10.3-cp37-cp37m-manylinux_2_5_x86_64.manylinux1_x86_64.manylinux_2_12_x86_64.manylinux2010_x86_64.whl (3.3MB)\n",
            "\u001b[K     |████████████████████████████████| 3.3MB 18.5MB/s \n",
            "\u001b[?25hRequirement already satisfied: scikit-learn in /usr/local/lib/python3.7/dist-packages (from simpletransformers) (0.22.2.post1)\n",
            "Collecting transformers>=4.2.0\n",
            "\u001b[?25l  Downloading https://files.pythonhosted.org/packages/00/92/6153f4912b84ee1ab53ab45663d23e7cf3704161cb5ef18b0c07e207cef2/transformers-4.7.0-py3-none-any.whl (2.5MB)\n",
            "\u001b[K     |████████████████████████████████| 2.5MB 42.8MB/s \n",
            "\u001b[?25hCollecting datasets\n",
            "\u001b[?25l  Downloading https://files.pythonhosted.org/packages/08/a2/d4e1024c891506e1cee8f9d719d20831bac31cb5b7416983c4d2f65a6287/datasets-1.8.0-py3-none-any.whl (237kB)\n",
            "\u001b[K     |████████████████████████████████| 245kB 37.1MB/s \n",
            "\u001b[?25hRequirement already satisfied: pandas in /usr/local/lib/python3.7/dist-packages (from simpletransformers) (1.1.5)\n",
            "Requirement already satisfied: requests in /usr/local/lib/python3.7/dist-packages (from simpletransformers) (2.23.0)\n",
            "Collecting streamlit\n",
            "\u001b[?25l  Downloading https://files.pythonhosted.org/packages/d7/0c/469ee9160ad7bc064eb498fa95aefd4e96b593ce0d53fb07ff217badff47/streamlit-0.83.0-py2.py3-none-any.whl (7.7MB)\n",
            "\u001b[K     |████████████████████████████████| 7.8MB 19.0MB/s \n",
            "\u001b[?25hCollecting seqeval\n",
            "\u001b[?25l  Downloading https://files.pythonhosted.org/packages/9d/2d/233c79d5b4e5ab1dbf111242299153f3caddddbb691219f363ad55ce783d/seqeval-1.2.2.tar.gz (43kB)\n",
            "\u001b[K     |████████████████████████████████| 51kB 7.1MB/s \n",
            "\u001b[?25hCollecting tensorboardx\n",
            "\u001b[?25l  Downloading https://files.pythonhosted.org/packages/07/84/46421bd3e0e89a92682b1a38b40efc22dafb6d8e3d947e4ceefd4a5fabc7/tensorboardX-2.2-py2.py3-none-any.whl (120kB)\n",
            "\u001b[K     |████████████████████████████████| 122kB 41.7MB/s \n",
            "\u001b[?25hCollecting sentencepiece\n",
            "\u001b[?25l  Downloading https://files.pythonhosted.org/packages/ac/aa/1437691b0c7c83086ebb79ce2da16e00bef024f24fec2a5161c35476f499/sentencepiece-0.1.96-cp37-cp37m-manylinux_2_17_x86_64.manylinux2014_x86_64.whl (1.2MB)\n",
            "\u001b[K     |████████████████████████████████| 1.2MB 34.3MB/s \n",
            "\u001b[?25hRequirement already satisfied: python-dateutil>=2.6.1 in /usr/local/lib/python3.7/dist-packages (from wandb->simpletransformers) (2.8.1)\n",
            "Requirement already satisfied: PyYAML in /usr/local/lib/python3.7/dist-packages (from wandb->simpletransformers) (3.13)\n",
            "Collecting sentry-sdk>=0.4.0\n",
            "\u001b[?25l  Downloading https://files.pythonhosted.org/packages/1c/4a/a54b254f67d8f4052338d54ebe90126f200693440a93ef76d254d581e3ec/sentry_sdk-1.1.0-py2.py3-none-any.whl (131kB)\n",
            "\u001b[K     |████████████████████████████████| 133kB 39.7MB/s \n",
            "\u001b[?25hCollecting docker-pycreds>=0.4.0\n",
            "  Downloading https://files.pythonhosted.org/packages/f5/e8/f6bd1eee09314e7e6dee49cbe2c5e22314ccdb38db16c9fc72d2fa80d054/docker_pycreds-0.4.0-py2.py3-none-any.whl\n",
            "Collecting GitPython>=1.0.0\n",
            "\u001b[?25l  Downloading https://files.pythonhosted.org/packages/bc/91/b38c4fabb6e5092ab23492ded4f318ab7299b19263272b703478038c0fbc/GitPython-3.1.18-py3-none-any.whl (170kB)\n",
            "\u001b[K     |████████████████████████████████| 174kB 41.2MB/s \n",
            "\u001b[?25hCollecting shortuuid>=0.5.0\n",
            "  Downloading https://files.pythonhosted.org/packages/25/a6/2ecc1daa6a304e7f1b216f0896b26156b78e7c38e1211e9b798b4716c53d/shortuuid-1.0.1-py3-none-any.whl\n",
            "Requirement already satisfied: six>=1.13.0 in /usr/local/lib/python3.7/dist-packages (from wandb->simpletransformers) (1.15.0)\n",
            "Collecting configparser>=3.8.1\n",
            "  Downloading https://files.pythonhosted.org/packages/fd/01/ff260a18caaf4457eb028c96eeb405c4a230ca06c8ec9c1379f813caa52e/configparser-5.0.2-py3-none-any.whl\n",
            "Collecting subprocess32>=3.5.3\n",
            "\u001b[?25l  Downloading https://files.pythonhosted.org/packages/32/c8/564be4d12629b912ea431f1a50eb8b3b9d00f1a0b1ceff17f266be190007/subprocess32-3.5.4.tar.gz (97kB)\n",
            "\u001b[K     |████████████████████████████████| 102kB 11.0MB/s \n",
            "\u001b[?25hRequirement already satisfied: Click!=8.0.0,>=7.0 in /usr/local/lib/python3.7/dist-packages (from wandb->simpletransformers) (7.1.2)\n",
            "Collecting pathtools\n",
            "  Downloading https://files.pythonhosted.org/packages/e7/7f/470d6fcdf23f9f3518f6b0b76be9df16dcc8630ad409947f8be2eb0ed13a/pathtools-0.1.2.tar.gz\n",
            "Requirement already satisfied: psutil>=5.0.0 in /usr/local/lib/python3.7/dist-packages (from wandb->simpletransformers) (5.4.8)\n",
            "Requirement already satisfied: protobuf>=3.12.0 in /usr/local/lib/python3.7/dist-packages (from wandb->simpletransformers) (3.12.4)\n",
            "Requirement already satisfied: promise<3,>=2.0 in /usr/local/lib/python3.7/dist-packages (from wandb->simpletransformers) (2.3)\n",
            "Requirement already satisfied: joblib>=0.11 in /usr/local/lib/python3.7/dist-packages (from scikit-learn->simpletransformers) (1.0.1)\n",
            "Collecting huggingface-hub==0.0.8\n",
            "  Downloading https://files.pythonhosted.org/packages/a1/88/7b1e45720ecf59c6c6737ff332f41c955963090a18e72acbcbeac6b25e86/huggingface_hub-0.0.8-py3-none-any.whl\n",
            "Collecting sacremoses\n",
            "\u001b[?25l  Downloading https://files.pythonhosted.org/packages/75/ee/67241dc87f266093c533a2d4d3d69438e57d7a90abb216fa076e7d475d4a/sacremoses-0.0.45-py3-none-any.whl (895kB)\n",
            "\u001b[K     |████████████████████████████████| 901kB 30.2MB/s \n",
            "\u001b[?25hRequirement already satisfied: importlib-metadata; python_version < \"3.8\" in /usr/local/lib/python3.7/dist-packages (from transformers>=4.2.0->simpletransformers) (4.5.0)\n",
            "Requirement already satisfied: filelock in /usr/local/lib/python3.7/dist-packages (from transformers>=4.2.0->simpletransformers) (3.0.12)\n",
            "Requirement already satisfied: packaging in /usr/local/lib/python3.7/dist-packages (from transformers>=4.2.0->simpletransformers) (20.9)\n",
            "Requirement already satisfied: pyarrow<4.0.0,>=1.0.0 in /usr/local/lib/python3.7/dist-packages (from datasets->simpletransformers) (3.0.0)\n",
            "Collecting fsspec\n",
            "\u001b[?25l  Downloading https://files.pythonhosted.org/packages/8e/d2/d05466997f7751a2c06a7a416b7d1f131d765f7916698d3fdcb3a4d037e5/fsspec-2021.6.0-py3-none-any.whl (114kB)\n",
            "\u001b[K     |████████████████████████████████| 122kB 44.2MB/s \n",
            "\u001b[?25hRequirement already satisfied: multiprocess in /usr/local/lib/python3.7/dist-packages (from datasets->simpletransformers) (0.70.12.2)\n",
            "Requirement already satisfied: dill in /usr/local/lib/python3.7/dist-packages (from datasets->simpletransformers) (0.3.4)\n",
            "Collecting xxhash\n",
            "\u001b[?25l  Downloading https://files.pythonhosted.org/packages/7d/4f/0a862cad26aa2ed7a7cd87178cbbfa824fc1383e472d63596a0d018374e7/xxhash-2.0.2-cp37-cp37m-manylinux2010_x86_64.whl (243kB)\n",
            "\u001b[K     |████████████████████████████████| 245kB 36.7MB/s \n",
            "\u001b[?25hRequirement already satisfied: pytz>=2017.2 in /usr/local/lib/python3.7/dist-packages (from pandas->simpletransformers) (2018.9)\n",
            "Requirement already satisfied: urllib3!=1.25.0,!=1.25.1,<1.26,>=1.21.1 in /usr/local/lib/python3.7/dist-packages (from requests->simpletransformers) (1.24.3)\n",
            "Requirement already satisfied: idna<3,>=2.5 in /usr/local/lib/python3.7/dist-packages (from requests->simpletransformers) (2.10)\n",
            "Requirement already satisfied: chardet<4,>=3.0.2 in /usr/local/lib/python3.7/dist-packages (from requests->simpletransformers) (3.0.4)\n",
            "Requirement already satisfied: certifi>=2017.4.17 in /usr/local/lib/python3.7/dist-packages (from requests->simpletransformers) (2021.5.30)\n",
            "Requirement already satisfied: pillow>=6.2.0 in /usr/local/lib/python3.7/dist-packages (from streamlit->simpletransformers) (7.1.2)\n",
            "Requirement already satisfied: toml in /usr/local/lib/python3.7/dist-packages (from streamlit->simpletransformers) (0.10.2)\n",
            "Collecting pydeck>=0.1.dev5\n",
            "\u001b[?25l  Downloading https://files.pythonhosted.org/packages/d6/bc/f0e44828e4290367c869591d50d3671a4d0ee94926da6cb734b7b200308c/pydeck-0.6.2-py2.py3-none-any.whl (4.2MB)\n",
            "\u001b[K     |████████████████████████████████| 4.2MB 33.5MB/s \n",
            "\u001b[?25hRequirement already satisfied: altair>=3.2.0 in /usr/local/lib/python3.7/dist-packages (from streamlit->simpletransformers) (4.1.0)\n",
            "Collecting watchdog; platform_system != \"Darwin\"\n",
            "\u001b[?25l  Downloading https://files.pythonhosted.org/packages/f2/5b/36b3b11e557830de6fc1dc06e9aa3ee274119b8cea9cc98175dbbf72cf87/watchdog-2.1.2-py3-none-manylinux2014_x86_64.whl (74kB)\n",
            "\u001b[K     |████████████████████████████████| 81kB 10.5MB/s \n",
            "\u001b[?25hCollecting blinker\n",
            "\u001b[?25l  Downloading https://files.pythonhosted.org/packages/1b/51/e2a9f3b757eb802f61dc1f2b09c8c99f6eb01cf06416c0671253536517b6/blinker-1.4.tar.gz (111kB)\n",
            "\u001b[K     |████████████████████████████████| 112kB 41.5MB/s \n",
            "\u001b[?25hRequirement already satisfied: tornado>=5.0 in /usr/local/lib/python3.7/dist-packages (from streamlit->simpletransformers) (5.1.1)\n",
            "Requirement already satisfied: tzlocal in /usr/local/lib/python3.7/dist-packages (from streamlit->simpletransformers) (1.5.1)\n",
            "Requirement already satisfied: cachetools>=4.0 in /usr/local/lib/python3.7/dist-packages (from streamlit->simpletransformers) (4.2.2)\n",
            "Collecting validators\n",
            "  Downloading https://files.pythonhosted.org/packages/db/2f/7fed3ee94ad665ad2c1de87f858f10a7785251ff75b4fd47987888d07ef1/validators-0.18.2-py3-none-any.whl\n",
            "Requirement already satisfied: astor in /usr/local/lib/python3.7/dist-packages (from streamlit->simpletransformers) (0.8.1)\n",
            "Collecting base58\n",
            "  Downloading https://files.pythonhosted.org/packages/b8/a1/d9f565e9910c09fd325dc638765e8843a19fa696275c16cc08cf3b0a3c25/base58-2.1.0-py3-none-any.whl\n",
            "Collecting gitdb<5,>=4.0.1\n",
            "\u001b[?25l  Downloading https://files.pythonhosted.org/packages/ea/e8/f414d1a4f0bbc668ed441f74f44c116d9816833a48bf81d22b697090dba8/gitdb-4.0.7-py3-none-any.whl (63kB)\n",
            "\u001b[K     |████████████████████████████████| 71kB 8.5MB/s \n",
            "\u001b[?25hRequirement already satisfied: typing-extensions>=3.7.4.0; python_version < \"3.8\" in /usr/local/lib/python3.7/dist-packages (from GitPython>=1.0.0->wandb->simpletransformers) (3.7.4.3)\n",
            "Requirement already satisfied: setuptools in /usr/local/lib/python3.7/dist-packages (from protobuf>=3.12.0->wandb->simpletransformers) (57.0.0)\n",
            "Requirement already satisfied: zipp>=0.5 in /usr/local/lib/python3.7/dist-packages (from importlib-metadata; python_version < \"3.8\"->transformers>=4.2.0->simpletransformers) (3.4.1)\n",
            "Requirement already satisfied: pyparsing>=2.0.2 in /usr/local/lib/python3.7/dist-packages (from packaging->transformers>=4.2.0->simpletransformers) (2.4.7)\n",
            "Requirement already satisfied: jinja2>=2.10.1 in /usr/local/lib/python3.7/dist-packages (from pydeck>=0.1.dev5->streamlit->simpletransformers) (2.11.3)\n",
            "Requirement already satisfied: ipywidgets>=7.0.0 in /usr/local/lib/python3.7/dist-packages (from pydeck>=0.1.dev5->streamlit->simpletransformers) (7.6.3)\n",
            "Requirement already satisfied: traitlets>=4.3.2 in /usr/local/lib/python3.7/dist-packages (from pydeck>=0.1.dev5->streamlit->simpletransformers) (5.0.5)\n",
            "Collecting ipykernel>=5.1.2; python_version >= \"3.4\"\n",
            "\u001b[?25l  Downloading https://files.pythonhosted.org/packages/90/6d/6c8fe4b658f77947d4244ce81f60230c4c8d1dc1a21ae83e63b269339178/ipykernel-5.5.5-py3-none-any.whl (120kB)\n",
            "\u001b[K     |████████████████████████████████| 122kB 42.7MB/s \n",
            "\u001b[?25hRequirement already satisfied: jsonschema in /usr/local/lib/python3.7/dist-packages (from altair>=3.2.0->streamlit->simpletransformers) (2.6.0)\n",
            "Requirement already satisfied: toolz in /usr/local/lib/python3.7/dist-packages (from altair>=3.2.0->streamlit->simpletransformers) (0.11.1)\n",
            "Requirement already satisfied: entrypoints in /usr/local/lib/python3.7/dist-packages (from altair>=3.2.0->streamlit->simpletransformers) (0.3)\n",
            "Requirement already satisfied: decorator>=3.4.0 in /usr/local/lib/python3.7/dist-packages (from validators->streamlit->simpletransformers) (4.4.2)\n",
            "Collecting smmap<5,>=3.0.1\n",
            "  Downloading https://files.pythonhosted.org/packages/68/ee/d540eb5e5996eb81c26ceffac6ee49041d473bc5125f2aa995cf51ec1cf1/smmap-4.0.0-py2.py3-none-any.whl\n",
            "Requirement already satisfied: MarkupSafe>=0.23 in /usr/local/lib/python3.7/dist-packages (from jinja2>=2.10.1->pydeck>=0.1.dev5->streamlit->simpletransformers) (2.0.1)\n",
            "Requirement already satisfied: widgetsnbextension~=3.5.0 in /usr/local/lib/python3.7/dist-packages (from ipywidgets>=7.0.0->pydeck>=0.1.dev5->streamlit->simpletransformers) (3.5.1)\n",
            "Requirement already satisfied: nbformat>=4.2.0 in /usr/local/lib/python3.7/dist-packages (from ipywidgets>=7.0.0->pydeck>=0.1.dev5->streamlit->simpletransformers) (5.1.3)\n",
            "Requirement already satisfied: jupyterlab-widgets>=1.0.0; python_version >= \"3.6\" in /usr/local/lib/python3.7/dist-packages (from ipywidgets>=7.0.0->pydeck>=0.1.dev5->streamlit->simpletransformers) (1.0.0)\n",
            "Requirement already satisfied: ipython>=4.0.0; python_version >= \"3.3\" in /usr/local/lib/python3.7/dist-packages (from ipywidgets>=7.0.0->pydeck>=0.1.dev5->streamlit->simpletransformers) (5.5.0)\n",
            "Requirement already satisfied: ipython-genutils in /usr/local/lib/python3.7/dist-packages (from traitlets>=4.3.2->pydeck>=0.1.dev5->streamlit->simpletransformers) (0.2.0)\n",
            "Requirement already satisfied: jupyter-client in /usr/local/lib/python3.7/dist-packages (from ipykernel>=5.1.2; python_version >= \"3.4\"->pydeck>=0.1.dev5->streamlit->simpletransformers) (5.3.5)\n",
            "Requirement already satisfied: notebook>=4.4.1 in /usr/local/lib/python3.7/dist-packages (from widgetsnbextension~=3.5.0->ipywidgets>=7.0.0->pydeck>=0.1.dev5->streamlit->simpletransformers) (5.3.1)\n",
            "Requirement already satisfied: jupyter-core in /usr/local/lib/python3.7/dist-packages (from nbformat>=4.2.0->ipywidgets>=7.0.0->pydeck>=0.1.dev5->streamlit->simpletransformers) (4.7.1)\n",
            "Requirement already satisfied: prompt-toolkit<2.0.0,>=1.0.4 in /usr/local/lib/python3.7/dist-packages (from ipython>=4.0.0; python_version >= \"3.3\"->ipywidgets>=7.0.0->pydeck>=0.1.dev5->streamlit->simpletransformers) (1.0.18)\n",
            "Requirement already satisfied: pygments in /usr/local/lib/python3.7/dist-packages (from ipython>=4.0.0; python_version >= \"3.3\"->ipywidgets>=7.0.0->pydeck>=0.1.dev5->streamlit->simpletransformers) (2.6.1)\n",
            "Requirement already satisfied: simplegeneric>0.8 in /usr/local/lib/python3.7/dist-packages (from ipython>=4.0.0; python_version >= \"3.3\"->ipywidgets>=7.0.0->pydeck>=0.1.dev5->streamlit->simpletransformers) (0.8.1)\n",
            "Requirement already satisfied: pickleshare in /usr/local/lib/python3.7/dist-packages (from ipython>=4.0.0; python_version >= \"3.3\"->ipywidgets>=7.0.0->pydeck>=0.1.dev5->streamlit->simpletransformers) (0.7.5)\n",
            "Requirement already satisfied: pexpect; sys_platform != \"win32\" in /usr/local/lib/python3.7/dist-packages (from ipython>=4.0.0; python_version >= \"3.3\"->ipywidgets>=7.0.0->pydeck>=0.1.dev5->streamlit->simpletransformers) (4.8.0)\n",
            "Requirement already satisfied: pyzmq>=13 in /usr/local/lib/python3.7/dist-packages (from jupyter-client->ipykernel>=5.1.2; python_version >= \"3.4\"->pydeck>=0.1.dev5->streamlit->simpletransformers) (22.1.0)\n",
            "Requirement already satisfied: terminado>=0.8.1 in /usr/local/lib/python3.7/dist-packages (from notebook>=4.4.1->widgetsnbextension~=3.5.0->ipywidgets>=7.0.0->pydeck>=0.1.dev5->streamlit->simpletransformers) (0.10.1)\n",
            "Requirement already satisfied: nbconvert in /usr/local/lib/python3.7/dist-packages (from notebook>=4.4.1->widgetsnbextension~=3.5.0->ipywidgets>=7.0.0->pydeck>=0.1.dev5->streamlit->simpletransformers) (5.6.1)\n",
            "Requirement already satisfied: Send2Trash in /usr/local/lib/python3.7/dist-packages (from notebook>=4.4.1->widgetsnbextension~=3.5.0->ipywidgets>=7.0.0->pydeck>=0.1.dev5->streamlit->simpletransformers) (1.5.0)\n",
            "Requirement already satisfied: wcwidth in /usr/local/lib/python3.7/dist-packages (from prompt-toolkit<2.0.0,>=1.0.4->ipython>=4.0.0; python_version >= \"3.3\"->ipywidgets>=7.0.0->pydeck>=0.1.dev5->streamlit->simpletransformers) (0.2.5)\n",
            "Requirement already satisfied: ptyprocess>=0.5 in /usr/local/lib/python3.7/dist-packages (from pexpect; sys_platform != \"win32\"->ipython>=4.0.0; python_version >= \"3.3\"->ipywidgets>=7.0.0->pydeck>=0.1.dev5->streamlit->simpletransformers) (0.7.0)\n",
            "Requirement already satisfied: mistune<2,>=0.8.1 in /usr/local/lib/python3.7/dist-packages (from nbconvert->notebook>=4.4.1->widgetsnbextension~=3.5.0->ipywidgets>=7.0.0->pydeck>=0.1.dev5->streamlit->simpletransformers) (0.8.4)\n",
            "Requirement already satisfied: defusedxml in /usr/local/lib/python3.7/dist-packages (from nbconvert->notebook>=4.4.1->widgetsnbextension~=3.5.0->ipywidgets>=7.0.0->pydeck>=0.1.dev5->streamlit->simpletransformers) (0.7.1)\n",
            "Requirement already satisfied: bleach in /usr/local/lib/python3.7/dist-packages (from nbconvert->notebook>=4.4.1->widgetsnbextension~=3.5.0->ipywidgets>=7.0.0->pydeck>=0.1.dev5->streamlit->simpletransformers) (3.3.0)\n",
            "Requirement already satisfied: pandocfilters>=1.4.1 in /usr/local/lib/python3.7/dist-packages (from nbconvert->notebook>=4.4.1->widgetsnbextension~=3.5.0->ipywidgets>=7.0.0->pydeck>=0.1.dev5->streamlit->simpletransformers) (1.4.3)\n",
            "Requirement already satisfied: testpath in /usr/local/lib/python3.7/dist-packages (from nbconvert->notebook>=4.4.1->widgetsnbextension~=3.5.0->ipywidgets>=7.0.0->pydeck>=0.1.dev5->streamlit->simpletransformers) (0.5.0)\n",
            "Requirement already satisfied: webencodings in /usr/local/lib/python3.7/dist-packages (from bleach->nbconvert->notebook>=4.4.1->widgetsnbextension~=3.5.0->ipywidgets>=7.0.0->pydeck>=0.1.dev5->streamlit->simpletransformers) (0.5.1)\n",
            "Building wheels for collected packages: seqeval, subprocess32, pathtools, blinker\n",
            "  Building wheel for seqeval (setup.py) ... \u001b[?25l\u001b[?25hdone\n",
            "  Created wheel for seqeval: filename=seqeval-1.2.2-cp37-none-any.whl size=16184 sha256=832474d86d6001ff4a8f6ffae1881f2955f05e425dbe9c47c01dfbad1ac35a9e\n",
            "  Stored in directory: /root/.cache/pip/wheels/52/df/1b/45d75646c37428f7e626214704a0e35bd3cfc32eda37e59e5f\n",
            "  Building wheel for subprocess32 (setup.py) ... \u001b[?25l\u001b[?25hdone\n",
            "  Created wheel for subprocess32: filename=subprocess32-3.5.4-cp37-none-any.whl size=6502 sha256=7b6a9773e0e2079883922548569d313ae3ed79aba716f8bc3db56d2552a83c05\n",
            "  Stored in directory: /root/.cache/pip/wheels/68/39/1a/5e402bdfdf004af1786c8b853fd92f8c4a04f22aad179654d1\n",
            "  Building wheel for pathtools (setup.py) ... \u001b[?25l\u001b[?25hdone\n",
            "  Created wheel for pathtools: filename=pathtools-0.1.2-cp37-none-any.whl size=8807 sha256=1c631ad6e810f2fd1b3cf200c04dcb092e47f381208f7423a0a5e3cc581acd4d\n",
            "  Stored in directory: /root/.cache/pip/wheels/0b/04/79/c3b0c3a0266a3cb4376da31e5bfe8bba0c489246968a68e843\n",
            "  Building wheel for blinker (setup.py) ... \u001b[?25l\u001b[?25hdone\n",
            "  Created wheel for blinker: filename=blinker-1.4-cp37-none-any.whl size=13476 sha256=ea53a3a72db0b47e41afd07e046092a5f462edc7b1cb4035e9282a530c1615fe\n",
            "  Stored in directory: /root/.cache/pip/wheels/92/a0/00/8690a57883956a301d91cf4ec999cc0b258b01e3f548f86e89\n",
            "Successfully built seqeval subprocess32 pathtools blinker\n",
            "\u001b[31mERROR: google-colab 1.0.0 has requirement ipykernel~=4.10, but you'll have ipykernel 5.5.5 which is incompatible.\u001b[0m\n",
            "\u001b[31mERROR: datasets 1.8.0 has requirement tqdm<4.50.0,>=4.27, but you'll have tqdm 4.61.1 which is incompatible.\u001b[0m\n",
            "Installing collected packages: tqdm, sentry-sdk, docker-pycreds, smmap, gitdb, GitPython, shortuuid, configparser, subprocess32, pathtools, wandb, tokenizers, huggingface-hub, sacremoses, transformers, fsspec, xxhash, datasets, ipykernel, pydeck, watchdog, blinker, validators, base58, streamlit, seqeval, tensorboardx, sentencepiece, simpletransformers\n",
            "  Found existing installation: tqdm 4.41.1\n",
            "    Uninstalling tqdm-4.41.1:\n",
            "      Successfully uninstalled tqdm-4.41.1\n",
            "  Found existing installation: ipykernel 4.10.1\n",
            "    Uninstalling ipykernel-4.10.1:\n",
            "      Successfully uninstalled ipykernel-4.10.1\n",
            "Successfully installed GitPython-3.1.18 base58-2.1.0 blinker-1.4 configparser-5.0.2 datasets-1.8.0 docker-pycreds-0.4.0 fsspec-2021.6.0 gitdb-4.0.7 huggingface-hub-0.0.8 ipykernel-5.5.5 pathtools-0.1.2 pydeck-0.6.2 sacremoses-0.0.45 sentencepiece-0.1.96 sentry-sdk-1.1.0 seqeval-1.2.2 shortuuid-1.0.1 simpletransformers-0.61.6 smmap-4.0.0 streamlit-0.83.0 subprocess32-3.5.4 tensorboardx-2.2 tokenizers-0.10.3 tqdm-4.61.1 transformers-4.7.0 validators-0.18.2 wandb-0.10.32 watchdog-2.1.2 xxhash-2.0.2\n"
          ],
          "name": "stdout"
        },
        {
          "output_type": "display_data",
          "data": {
            "application/vnd.colab-display-data+json": {
              "pip_warning": {
                "packages": [
                  "ipykernel"
                ]
              }
            }
          },
          "metadata": {
            "tags": []
          }
        },
        {
          "output_type": "stream",
          "text": [
            "simpletransformers==0.61.6\n"
          ],
          "name": "stdout"
        }
      ]
    },
    {
      "cell_type": "markdown",
      "metadata": {
        "id": "PA3RRiC4GpK9"
      },
      "source": [
        "Class 0 refers to impolite mails and class 1 to polite ones, so we renamed them. Making a new dataframe called df is not necessary, just to shorten the names."
      ]
    },
    {
      "cell_type": "code",
      "metadata": {
        "id": "fABPYNx_0Db4",
        "colab": {
          "base_uri": "https://localhost:8080/",
          "height": 224
        },
        "outputId": "ea957628-d285-44e9-d20c-d2f27ff8aa2a"
      },
      "source": [
        "import pandas as pd\n",
        "\n",
        "class_list = ['Impolite','Polite']\n",
        "\n",
        "df =azubi_df_mails_and_scored_combined #df[['tweet','pred_class']]\n",
        "\n",
        "print(df.shape)\n",
        "df.head()"
      ],
      "execution_count": 31,
      "outputs": [
        {
          "output_type": "stream",
          "text": [
            "(2087, 3)\n"
          ],
          "name": "stdout"
        },
        {
          "output_type": "execute_result",
          "data": {
            "text/html": [
              "<div>\n",
              "<style scoped>\n",
              "    .dataframe tbody tr th:only-of-type {\n",
              "        vertical-align: middle;\n",
              "    }\n",
              "\n",
              "    .dataframe tbody tr th {\n",
              "        vertical-align: top;\n",
              "    }\n",
              "\n",
              "    .dataframe thead th {\n",
              "        text-align: right;\n",
              "    }\n",
              "</style>\n",
              "<table border=\"1\" class=\"dataframe\">\n",
              "  <thead>\n",
              "    <tr style=\"text-align: right;\">\n",
              "      <th></th>\n",
              "      <th>index</th>\n",
              "      <th>Mails_Combined</th>\n",
              "      <th>a4s_combined_i2b</th>\n",
              "    </tr>\n",
              "  </thead>\n",
              "  <tbody>\n",
              "    <tr>\n",
              "      <th>0</th>\n",
              "      <td>0</td>\n",
              "      <td>Hallo Fr. Meier,  leider konnte ich die von Ih...</td>\n",
              "      <td>1.0</td>\n",
              "    </tr>\n",
              "    <tr>\n",
              "      <th>1</th>\n",
              "      <td>1</td>\n",
              "      <td>Ihre Antwort...   Der EP Plan weicht viel zuse...</td>\n",
              "      <td>1.0</td>\n",
              "    </tr>\n",
              "    <tr>\n",
              "      <th>2</th>\n",
              "      <td>2</td>\n",
              "      <td>bitte kommen Sie rüber und erklären mir es selbst</td>\n",
              "      <td>0.0</td>\n",
              "    </tr>\n",
              "    <tr>\n",
              "      <th>3</th>\n",
              "      <td>3</td>\n",
              "      <td>Sehr geehrte Frau Meier,  leider konnte Ich Ih...</td>\n",
              "      <td>1.0</td>\n",
              "    </tr>\n",
              "    <tr>\n",
              "      <th>4</th>\n",
              "      <td>5</td>\n",
              "      <td>Hallo Frau Meier,  das Controlling hat für das...</td>\n",
              "      <td>1.0</td>\n",
              "    </tr>\n",
              "  </tbody>\n",
              "</table>\n",
              "</div>"
            ],
            "text/plain": [
              "   index                                     Mails_Combined  a4s_combined_i2b\n",
              "0      0  Hallo Fr. Meier,  leider konnte ich die von Ih...               1.0\n",
              "1      1  Ihre Antwort...   Der EP Plan weicht viel zuse...               1.0\n",
              "2      2  bitte kommen Sie rüber und erklären mir es selbst               0.0\n",
              "3      3  Sehr geehrte Frau Meier,  leider konnte Ich Ih...               1.0\n",
              "4      5  Hallo Frau Meier,  das Controlling hat für das...               1.0"
            ]
          },
          "metadata": {
            "tags": []
          },
          "execution_count": 31
        }
      ]
    },
    {
      "cell_type": "markdown",
      "metadata": {
        "id": "wZJCxjAQG93F"
      },
      "source": [
        "With the simpletransformers we use a Classification model. In the training arguments some settings of the model can be handed over, e.g. the training_epochs. Afterwards the classification model is created with bert. Furthermore the training arguments are passed."
      ]
    },
    {
      "cell_type": "code",
      "metadata": {
        "id": "jguhRrS70ATj",
        "colab": {
          "base_uri": "https://localhost:8080/",
          "height": 304,
          "referenced_widgets": [
            "0d7fa8bee2444b5c96f736a8a68097ff",
            "eddcd1d1ad474923afeb653c017b2e22",
            "bad83acdaea34573968998d0f09ef7bb",
            "e3a9a67dfaf641168b9387d83e5c14a9",
            "c20bc3ce055842bfae8a8c6edaaf4da8",
            "33803e2feb524e59bbdee7f4469d6624",
            "151b4231cb1247f88c11f50bd759f743",
            "b8c0fc03a2c244c0b6236b106fa150e3",
            "c3ba566ac1864e31969c0b94dfcc6985",
            "4b8cc9cae75a4a2ea47216ba9fdd5d72",
            "b1416e901f3b4c98959c197bb9805d43",
            "f690d6ba8e8244b4a179ea040c1d6e3c",
            "d99c1d426ab6417bbe153d4d3695d37f",
            "021373b21cd646a7b5237342a8f7ee73",
            "d41f92eb9b574b4cb5a3c791b2460f5c",
            "c095a6bdd5fe4dd09445695aaaf4d059",
            "01fde7f2d34440b2add1f1a4aaabd7d1",
            "0382b0706a474e959b5a80fe75392f1f",
            "ad6b5177687a498bbac34bb4aa9393e1",
            "664e4d6583a3474e88c1a4c8be37dfb2",
            "1736d711ec11492da1e78159b3c1094d",
            "7f39cc32f72842af8e8e272170fed296",
            "ca2e5ea33fd1468a8f5aa119faa3006f",
            "565d1a146e6f43f88e4464c823653da0",
            "6bfe675aad1442f68c760f83a944f164",
            "cbb7af15554a43e28eb70deae8d16954",
            "613d2751a1774a9a9c85d0951a1853c5",
            "c26f4fd6a0d94485863087aa5530885a",
            "9c5d41ff7fc84775a5343bfbc332dfec",
            "5ac113d2973e46f6aabfe911de6408f5",
            "83477eb7ab0f4b9abcca1698aba39f1a",
            "cc2ed57a6627429dbcc85dbb2ecc750d",
            "05f3fd174a264d00817a20aa6480d758",
            "4c900edd6a0846a9a85bfb9b2665890f",
            "33ef815594fd4f14802ef052f9c6aec0",
            "6eac35a860874bdc89452995f2ffae43",
            "0cc59b41556e4ca8a093612c9b08b4da",
            "39402f5e4d17411180d13f8aab2d465e",
            "ac848525714d482d8af263aec1d455e7",
            "eaeea9ab89af44c19ebad5552bae2a91",
            "c87da77cec504940b7dea1f6650efd3a",
            "e320021fadd04f9da9e3d00fc6303164",
            "9dad2ff8f3ba41679b7774d15e5e4a68",
            "cdc795294c884c61b17f2bde1609ead6",
            "f8f8fac9d2ac47bdbb4afb480deabf95",
            "5d03555d3d0a44089bcf94a4674f8bb5",
            "edec521bea16402ebfa17db2a227efc2",
            "f70be1e9c4d84607b393a2de3cc4ab84",
            "d1972040cbda46fa8b6262a5e1b94fe9",
            "37b1a28cd7c8431684ff5c0da59bc6ba",
            "48ce77a7824f47f08365e6644dbc72be",
            "c0c86d507d1243dd9f5a266f105cd031",
            "fae312928c4e45458bfdaa41d20bb381",
            "edf3760677a14f0281bb07952f33f33c",
            "bdc3454f329749c683f67f023dd7b79f"
          ]
        },
        "outputId": "713b3825-db73-40dc-d214-8d6b6c2cd829"
      },
      "source": [
        "from simpletransformers.classification import ClassificationModel\n",
        "\n",
        "# define hyperparameter\n",
        "train_args ={\"reprocess_input_data\": True,\n",
        "             \"overwrite_output_dir\": True,\n",
        "             \"fp16\":False,\n",
        "             \"num_train_epochs\": 10}\n",
        "\n",
        "# Create a ClassificationModel\n",
        "model = ClassificationModel(\n",
        "    \"bert\", \"distilbert-base-german-cased\",\n",
        "    #num_labels=1,\n",
        "    args=train_args\n",
        ")\n"
      ],
      "execution_count": 32,
      "outputs": [
        {
          "output_type": "display_data",
          "data": {
            "application/vnd.jupyter.widget-view+json": {
              "model_id": "0d7fa8bee2444b5c96f736a8a68097ff",
              "version_minor": 0,
              "version_major": 2
            },
            "text/plain": [
              "Downloading:   0%|          | 0.00/464 [00:00<?, ?B/s]"
            ]
          },
          "metadata": {
            "tags": []
          }
        },
        {
          "output_type": "stream",
          "text": [
            "You are using a model of type distilbert to instantiate a model of type bert. This is not supported for all configurations of models and can yield errors.\n"
          ],
          "name": "stderr"
        },
        {
          "output_type": "display_data",
          "data": {
            "application/vnd.jupyter.widget-view+json": {
              "model_id": "f690d6ba8e8244b4a179ea040c1d6e3c",
              "version_minor": 0,
              "version_major": 2
            },
            "text/plain": [
              "Downloading:   0%|          | 0.00/270M [00:00<?, ?B/s]"
            ]
          },
          "metadata": {
            "tags": []
          }
        },
        {
          "output_type": "stream",
          "text": [
            "Some weights of the model checkpoint at distilbert-base-german-cased were not used when initializing BertForSequenceClassification: ['distilbert.transformer.layer.4.sa_layer_norm.bias', 'distilbert.transformer.layer.5.ffn.lin2.weight', 'distilbert.transformer.layer.0.ffn.lin1.bias', 'distilbert.transformer.layer.4.sa_layer_norm.weight', 'distilbert.transformer.layer.4.attention.v_lin.weight', 'distilbert.transformer.layer.4.ffn.lin1.bias', 'distilbert.transformer.layer.2.attention.k_lin.weight', 'distilbert.transformer.layer.5.output_layer_norm.bias', 'distilbert.transformer.layer.4.attention.out_lin.bias', 'distilbert.transformer.layer.2.sa_layer_norm.bias', 'distilbert.transformer.layer.5.ffn.lin2.bias', 'distilbert.transformer.layer.0.ffn.lin1.weight', 'distilbert.transformer.layer.5.attention.v_lin.bias', 'distilbert.transformer.layer.1.attention.q_lin.bias', 'distilbert.transformer.layer.1.ffn.lin2.bias', 'distilbert.transformer.layer.3.output_layer_norm.weight', 'distilbert.transformer.layer.2.output_layer_norm.weight', 'distilbert.transformer.layer.5.attention.k_lin.weight', 'distilbert.transformer.layer.5.output_layer_norm.weight', 'distilbert.transformer.layer.4.attention.q_lin.bias', 'distilbert.transformer.layer.1.attention.out_lin.bias', 'distilbert.transformer.layer.4.attention.v_lin.bias', 'distilbert.embeddings.LayerNorm.bias', 'distilbert.transformer.layer.5.attention.out_lin.weight', 'distilbert.transformer.layer.2.attention.q_lin.weight', 'distilbert.transformer.layer.2.attention.k_lin.bias', 'distilbert.transformer.layer.1.ffn.lin2.weight', 'distilbert.transformer.layer.5.attention.q_lin.weight', 'distilbert.embeddings.position_embeddings.weight', 'vocab_transform.weight', 'distilbert.transformer.layer.1.attention.v_lin.bias', 'distilbert.transformer.layer.1.attention.q_lin.weight', 'distilbert.transformer.layer.2.ffn.lin2.weight', 'distilbert.transformer.layer.5.ffn.lin1.weight', 'distilbert.transformer.layer.1.attention.v_lin.weight', 'distilbert.transformer.layer.3.sa_layer_norm.weight', 'distilbert.transformer.layer.0.output_layer_norm.bias', 'distilbert.transformer.layer.0.attention.v_lin.weight', 'distilbert.transformer.layer.0.sa_layer_norm.bias', 'distilbert.transformer.layer.3.attention.q_lin.weight', 'vocab_projector.weight', 'distilbert.transformer.layer.2.ffn.lin2.bias', 'distilbert.transformer.layer.0.attention.v_lin.bias', 'distilbert.transformer.layer.0.output_layer_norm.weight', 'distilbert.transformer.layer.5.attention.v_lin.weight', 'distilbert.transformer.layer.5.attention.out_lin.bias', 'distilbert.transformer.layer.2.sa_layer_norm.weight', 'distilbert.transformer.layer.3.output_layer_norm.bias', 'distilbert.transformer.layer.1.output_layer_norm.bias', 'distilbert.transformer.layer.1.attention.k_lin.bias', 'distilbert.transformer.layer.2.attention.out_lin.weight', 'distilbert.transformer.layer.2.output_layer_norm.bias', 'distilbert.transformer.layer.0.ffn.lin2.bias', 'distilbert.transformer.layer.3.attention.v_lin.weight', 'vocab_projector.bias', 'distilbert.transformer.layer.3.ffn.lin1.weight', 'distilbert.transformer.layer.4.attention.k_lin.weight', 'distilbert.transformer.layer.0.attention.out_lin.weight', 'distilbert.transformer.layer.2.attention.q_lin.bias', 'distilbert.transformer.layer.1.ffn.lin1.weight', 'distilbert.transformer.layer.0.attention.k_lin.weight', 'distilbert.transformer.layer.5.ffn.lin1.bias', 'distilbert.transformer.layer.0.attention.q_lin.weight', 'distilbert.transformer.layer.3.attention.q_lin.bias', 'distilbert.transformer.layer.0.attention.k_lin.bias', 'distilbert.transformer.layer.5.sa_layer_norm.bias', 'distilbert.transformer.layer.1.attention.out_lin.weight', 'distilbert.transformer.layer.4.output_layer_norm.bias', 'distilbert.transformer.layer.1.attention.k_lin.weight', 'distilbert.transformer.layer.2.ffn.lin1.weight', 'distilbert.transformer.layer.4.attention.out_lin.weight', 'distilbert.transformer.layer.4.ffn.lin2.bias', 'distilbert.transformer.layer.4.ffn.lin2.weight', 'distilbert.transformer.layer.5.sa_layer_norm.weight', 'distilbert.transformer.layer.3.sa_layer_norm.bias', 'distilbert.transformer.layer.3.ffn.lin2.bias', 'vocab_layer_norm.bias', 'distilbert.transformer.layer.0.attention.q_lin.bias', 'distilbert.transformer.layer.1.output_layer_norm.weight', 'distilbert.transformer.layer.5.attention.q_lin.bias', 'distilbert.transformer.layer.3.ffn.lin1.bias', 'distilbert.transformer.layer.2.ffn.lin1.bias', 'distilbert.transformer.layer.3.attention.out_lin.weight', 'vocab_transform.bias', 'distilbert.transformer.layer.3.attention.v_lin.bias', 'distilbert.transformer.layer.3.attention.k_lin.bias', 'distilbert.transformer.layer.1.sa_layer_norm.weight', 'distilbert.transformer.layer.0.ffn.lin2.weight', 'distilbert.transformer.layer.5.attention.k_lin.bias', 'distilbert.transformer.layer.1.sa_layer_norm.bias', 'distilbert.transformer.layer.1.ffn.lin1.bias', 'distilbert.transformer.layer.0.attention.out_lin.bias', 'distilbert.transformer.layer.3.attention.k_lin.weight', 'distilbert.embeddings.LayerNorm.weight', 'distilbert.transformer.layer.3.attention.out_lin.bias', 'vocab_layer_norm.weight', 'distilbert.transformer.layer.0.sa_layer_norm.weight', 'distilbert.transformer.layer.2.attention.v_lin.bias', 'distilbert.transformer.layer.4.output_layer_norm.weight', 'distilbert.transformer.layer.4.attention.q_lin.weight', 'distilbert.transformer.layer.3.ffn.lin2.weight', 'distilbert.embeddings.word_embeddings.weight', 'distilbert.transformer.layer.4.ffn.lin1.weight', 'distilbert.transformer.layer.4.attention.k_lin.bias', 'distilbert.transformer.layer.2.attention.v_lin.weight', 'distilbert.transformer.layer.2.attention.out_lin.bias']\n",
            "- This IS expected if you are initializing BertForSequenceClassification from the checkpoint of a model trained on another task or with another architecture (e.g. initializing a BertForSequenceClassification model from a BertForPreTraining model).\n",
            "- This IS NOT expected if you are initializing BertForSequenceClassification from the checkpoint of a model that you expect to be exactly identical (initializing a BertForSequenceClassification model from a BertForSequenceClassification model).\n",
            "Some weights of BertForSequenceClassification were not initialized from the model checkpoint at distilbert-base-german-cased and are newly initialized: ['encoder.layer.5.attention.self.key.weight', 'encoder.layer.8.attention.output.LayerNorm.weight', 'encoder.layer.2.attention.self.key.bias', 'encoder.layer.2.output.LayerNorm.bias', 'encoder.layer.7.attention.output.LayerNorm.bias', 'encoder.layer.2.attention.output.dense.weight', 'embeddings.LayerNorm.weight', 'encoder.layer.6.output.LayerNorm.weight', 'encoder.layer.11.output.LayerNorm.bias', 'encoder.layer.2.output.dense.weight', 'encoder.layer.10.attention.self.key.weight', 'encoder.layer.3.output.dense.weight', 'encoder.layer.8.output.dense.weight', 'encoder.layer.9.attention.self.query.bias', 'encoder.layer.1.output.LayerNorm.bias', 'encoder.layer.0.output.LayerNorm.bias', 'encoder.layer.5.intermediate.dense.weight', 'encoder.layer.6.attention.output.LayerNorm.bias', 'encoder.layer.9.output.LayerNorm.weight', 'encoder.layer.3.output.dense.bias', 'encoder.layer.4.attention.output.dense.weight', 'encoder.layer.4.attention.self.query.bias', 'encoder.layer.7.intermediate.dense.bias', 'encoder.layer.0.attention.self.key.weight', 'encoder.layer.2.attention.self.value.bias', 'encoder.layer.9.attention.self.value.bias', 'encoder.layer.2.intermediate.dense.weight', 'encoder.layer.0.output.dense.bias', 'encoder.layer.1.attention.self.key.bias', 'encoder.layer.8.attention.self.value.weight', 'encoder.layer.9.attention.self.key.bias', 'encoder.layer.1.attention.output.LayerNorm.weight', 'encoder.layer.7.attention.self.key.weight', 'encoder.layer.2.attention.self.key.weight', 'encoder.layer.8.output.LayerNorm.weight', 'encoder.layer.8.attention.self.value.bias', 'encoder.layer.9.intermediate.dense.bias', 'encoder.layer.7.output.LayerNorm.weight', 'encoder.layer.8.output.dense.bias', 'encoder.layer.1.output.LayerNorm.weight', 'encoder.layer.8.attention.self.query.bias', 'encoder.layer.10.attention.output.LayerNorm.bias', 'encoder.layer.11.output.dense.bias', 'encoder.layer.3.attention.output.dense.bias', 'encoder.layer.2.attention.output.dense.bias', 'encoder.layer.3.intermediate.dense.weight', 'encoder.layer.2.attention.self.query.weight', 'encoder.layer.5.attention.output.LayerNorm.bias', 'encoder.layer.9.attention.output.dense.bias', 'encoder.layer.5.attention.self.query.bias', 'encoder.layer.6.attention.output.dense.bias', 'encoder.layer.3.attention.self.key.weight', 'encoder.layer.9.output.dense.weight', 'encoder.layer.1.attention.self.value.weight', 'encoder.layer.7.intermediate.dense.weight', 'encoder.layer.5.attention.self.value.weight', 'encoder.layer.3.output.LayerNorm.weight', 'encoder.layer.10.output.dense.bias', 'encoder.layer.4.attention.self.value.bias', 'encoder.layer.7.attention.self.value.bias', 'encoder.layer.9.intermediate.dense.weight', 'embeddings.LayerNorm.bias', 'encoder.layer.10.attention.self.value.bias', 'encoder.layer.5.attention.self.query.weight', 'encoder.layer.5.intermediate.dense.bias', 'encoder.layer.4.attention.self.key.bias', 'encoder.layer.0.attention.output.dense.weight', 'encoder.layer.11.attention.output.LayerNorm.weight', 'encoder.layer.11.attention.output.LayerNorm.bias', 'encoder.layer.11.output.dense.weight', 'encoder.layer.2.output.dense.bias', 'encoder.layer.6.attention.self.key.weight', 'encoder.layer.2.attention.output.LayerNorm.bias', 'encoder.layer.0.output.LayerNorm.weight', 'encoder.layer.3.attention.output.LayerNorm.weight', 'encoder.layer.2.intermediate.dense.bias', 'encoder.layer.6.attention.output.dense.weight', 'encoder.layer.7.output.dense.weight', 'encoder.layer.7.attention.output.dense.weight', 'encoder.layer.0.attention.output.LayerNorm.bias', 'encoder.layer.8.output.LayerNorm.bias', 'encoder.layer.2.attention.self.query.bias', 'encoder.layer.3.attention.self.value.bias', 'encoder.layer.8.intermediate.dense.bias', 'encoder.layer.11.attention.self.key.weight', 'encoder.layer.10.attention.output.dense.bias', 'encoder.layer.6.attention.self.query.bias', 'encoder.layer.11.attention.self.query.bias', 'encoder.layer.5.attention.output.LayerNorm.weight', 'encoder.layer.8.attention.output.dense.weight', 'encoder.layer.10.attention.output.dense.weight', 'encoder.layer.10.output.LayerNorm.bias', 'encoder.layer.2.output.LayerNorm.weight', 'encoder.layer.9.attention.self.query.weight', 'encoder.layer.5.attention.output.dense.bias', 'encoder.layer.7.attention.self.value.weight', 'encoder.layer.11.output.LayerNorm.weight', 'encoder.layer.7.output.LayerNorm.bias', 'encoder.layer.3.attention.output.LayerNorm.bias', 'encoder.layer.7.output.dense.bias', 'embeddings.word_embeddings.weight', 'encoder.layer.10.attention.self.query.weight', 'encoder.layer.1.attention.output.LayerNorm.bias', 'encoder.layer.5.attention.self.key.bias', 'encoder.layer.4.attention.self.key.weight', 'encoder.layer.0.attention.self.query.bias', 'encoder.layer.10.intermediate.dense.weight', 'encoder.layer.10.output.dense.weight', 'encoder.layer.4.intermediate.dense.weight', 'encoder.layer.4.output.dense.bias', 'encoder.layer.3.attention.self.value.weight', 'encoder.layer.11.intermediate.dense.weight', 'encoder.layer.3.attention.self.query.bias', 'encoder.layer.1.output.dense.weight', 'encoder.layer.1.attention.output.dense.bias', 'encoder.layer.6.attention.self.key.bias', 'encoder.layer.3.attention.output.dense.weight', 'encoder.layer.6.intermediate.dense.bias', 'encoder.layer.8.intermediate.dense.weight', 'encoder.layer.11.attention.self.key.bias', 'encoder.layer.1.attention.output.dense.weight', 'encoder.layer.6.output.dense.weight', 'encoder.layer.1.attention.self.query.bias', 'encoder.layer.5.output.dense.bias', 'encoder.layer.0.intermediate.dense.weight', 'encoder.layer.9.output.LayerNorm.bias', 'encoder.layer.1.attention.self.query.weight', 'encoder.layer.7.attention.output.LayerNorm.weight', 'encoder.layer.11.attention.self.value.bias', 'encoder.layer.11.attention.self.query.weight', 'encoder.layer.10.intermediate.dense.bias', 'encoder.layer.10.attention.self.value.weight', 'encoder.layer.6.attention.self.query.weight', 'encoder.layer.0.attention.self.value.bias', 'embeddings.position_embeddings.weight', 'embeddings.token_type_embeddings.weight', 'classifier.bias', 'encoder.layer.9.attention.self.value.weight', 'encoder.layer.5.output.LayerNorm.bias', 'encoder.layer.0.output.dense.weight', 'encoder.layer.1.output.dense.bias', 'encoder.layer.0.attention.output.dense.bias', 'encoder.layer.0.intermediate.dense.bias', 'encoder.layer.10.attention.output.LayerNorm.weight', 'encoder.layer.8.attention.self.key.weight', 'encoder.layer.0.attention.self.value.weight', 'encoder.layer.8.attention.output.dense.bias', 'encoder.layer.6.intermediate.dense.weight', 'encoder.layer.4.attention.self.value.weight', 'encoder.layer.4.attention.output.LayerNorm.bias', 'encoder.layer.10.attention.self.query.bias', 'encoder.layer.9.attention.output.LayerNorm.weight', 'encoder.layer.2.attention.self.value.weight', 'encoder.layer.8.attention.output.LayerNorm.bias', 'encoder.layer.11.attention.output.dense.weight', 'encoder.layer.3.intermediate.dense.bias', 'encoder.layer.4.output.LayerNorm.weight', 'encoder.layer.6.attention.self.value.weight', 'encoder.layer.4.attention.self.query.weight', 'encoder.layer.6.output.dense.bias', 'encoder.layer.1.intermediate.dense.weight', 'encoder.layer.7.attention.self.query.bias', 'encoder.layer.8.attention.self.query.weight', 'encoder.layer.1.intermediate.dense.bias', 'encoder.layer.0.attention.self.key.bias', 'encoder.layer.6.attention.self.value.bias', 'encoder.layer.1.attention.self.key.weight', 'encoder.layer.7.attention.self.query.weight', 'encoder.layer.9.attention.self.key.weight', 'encoder.layer.3.attention.self.key.bias', 'encoder.layer.4.intermediate.dense.bias', 'encoder.layer.11.attention.self.value.weight', 'encoder.layer.1.attention.self.value.bias', 'encoder.layer.5.attention.self.value.bias', 'encoder.layer.9.output.dense.bias', 'encoder.layer.10.output.LayerNorm.weight', 'classifier.weight', 'encoder.layer.3.output.LayerNorm.bias', 'encoder.layer.4.attention.output.dense.bias', 'encoder.layer.7.attention.self.key.bias', 'encoder.layer.6.output.LayerNorm.bias', 'pooler.dense.bias', 'encoder.layer.3.attention.self.query.weight', 'encoder.layer.0.attention.output.LayerNorm.weight', 'encoder.layer.10.attention.self.key.bias', 'encoder.layer.7.attention.output.dense.bias', 'encoder.layer.2.attention.output.LayerNorm.weight', 'encoder.layer.5.attention.output.dense.weight', 'encoder.layer.8.attention.self.key.bias', 'encoder.layer.4.attention.output.LayerNorm.weight', 'encoder.layer.4.output.LayerNorm.bias', 'encoder.layer.0.attention.self.query.weight', 'encoder.layer.6.attention.output.LayerNorm.weight', 'encoder.layer.9.attention.output.dense.weight', 'encoder.layer.5.output.LayerNorm.weight', 'encoder.layer.11.attention.output.dense.bias', 'encoder.layer.11.intermediate.dense.bias', 'pooler.dense.weight', 'encoder.layer.9.attention.output.LayerNorm.bias', 'encoder.layer.5.output.dense.weight', 'encoder.layer.4.output.dense.weight']\n",
            "You should probably TRAIN this model on a down-stream task to be able to use it for predictions and inference.\n"
          ],
          "name": "stderr"
        },
        {
          "output_type": "display_data",
          "data": {
            "application/vnd.jupyter.widget-view+json": {
              "model_id": "ca2e5ea33fd1468a8f5aa119faa3006f",
              "version_minor": 0,
              "version_major": 2
            },
            "text/plain": [
              "Downloading:   0%|          | 0.00/240k [00:00<?, ?B/s]"
            ]
          },
          "metadata": {
            "tags": []
          }
        },
        {
          "output_type": "display_data",
          "data": {
            "application/vnd.jupyter.widget-view+json": {
              "model_id": "4c900edd6a0846a9a85bfb9b2665890f",
              "version_minor": 0,
              "version_major": 2
            },
            "text/plain": [
              "Downloading:   0%|          | 0.00/479k [00:00<?, ?B/s]"
            ]
          },
          "metadata": {
            "tags": []
          }
        },
        {
          "output_type": "display_data",
          "data": {
            "application/vnd.jupyter.widget-view+json": {
              "model_id": "f8f8fac9d2ac47bdbb4afb480deabf95",
              "version_minor": 0,
              "version_major": 2
            },
            "text/plain": [
              "Downloading:   0%|          | 0.00/29.0 [00:00<?, ?B/s]"
            ]
          },
          "metadata": {
            "tags": []
          }
        }
      ]
    },
    {
      "cell_type": "markdown",
      "metadata": {
        "id": "OghYb9Q-HXHI"
      },
      "source": [
        "The model wants a dataframe instead of a np.array, hence we make a pandas dataframe from our arrays."
      ]
    },
    {
      "cell_type": "code",
      "metadata": {
        "id": "6Y2EvDEt65nx"
      },
      "source": [
        "# Creating pandas dataframe from numpy array\n",
        "train_data = pd.DataFrame({'Mails_Combined': xTrainArray, 'a4s_combined_i2b': yTrainArray[:,1]})\n",
        "val_data = pd.DataFrame({'Mails_Combined': xValArray, 'a4s_combined_i2b': yValArray[:,1]})\n",
        "test_data = pd.DataFrame({'Mails_Combined': xTestArray, 'a4s_combined_i2b': yTestArray[:,1]})\n"
      ],
      "execution_count": 33,
      "outputs": []
    },
    {
      "cell_type": "code",
      "metadata": {
        "id": "J86qD4EA7Q1g"
      },
      "source": [
        "test_data.head()"
      ],
      "execution_count": null,
      "outputs": []
    },
    {
      "cell_type": "markdown",
      "metadata": {
        "id": "rkXsgFMIHfWh"
      },
      "source": [
        "The model is trained with our training data and evaluated with the validation set."
      ]
    },
    {
      "cell_type": "code",
      "metadata": {
        "id": "o8-R1F1U2LLu",
        "colab": {
          "base_uri": "https://localhost:8080/",
          "height": 455,
          "referenced_widgets": [
            "7db496b0f05b4ae882033ba7e7d7df67",
            "eddc4fa1996b4bce9fd8a2de6ace1cc5",
            "4c6f0bfed3e24ee9b0557d4cdd15e058",
            "f7026486e62949d5914d0931cd5504e9",
            "23f2834fa4ad4f62a0dd5edadba3030d",
            "49aee95009ef4b849e597d6837263666",
            "8cfa1d0bcbb545e585a64c64b10c1ab1",
            "9adafacbd26c46e98b0d173c61218fd7",
            "2c2d7032a64142b6a1b55505f23fec10",
            "3add6436f4a04ce0ac85b7feebb41019",
            "1e3fc57100b44a2c822f32e4fa3b3608",
            "bcd9e58cae9148e29a0bf8fc5efaf4ab",
            "c599ed2aab954161a1b8286e408b3578",
            "c6a087025ccd438cb1e4a9877ba5d100",
            "3c5875a36b0b450a9e065d31885968c6",
            "418e1afeda894d5e838399686fdf64f1",
            "c4bfdbfd44874c16a287c120cd4306ba",
            "2ad6e69e5aaa46ffb6f2c9d4f13b9998",
            "9cf70bb7a3544ba48b1a3349185534ef",
            "3d9a919981a444c0bf8836f26d5524b0",
            "d1842c82af064965950c44fde2b0aa13",
            "b73f654e88f44f22936b61eba7f39578",
            "e305302ae2b94bbb8c1303699037a85f",
            "3033766042d84e3dbff9c917c66a10ff",
            "7cf798a0a13247c0a51d64c3e097ee74",
            "6066e038f00040269811c641c509dcf7",
            "391ff7508027477b9b4617f4c19a84bc",
            "8442a320629443acb4e54c4a25cd1bd2",
            "da3ffe32700945efb9014866281aaa90",
            "e600bc0f38854f5f85d68ba4164d1938",
            "d1fac99d4c094454946c67eb647f1d80",
            "2cc0af1287ef49228d65a4599c4edc3d",
            "6d93804381a044fc847b14863fe73d2c",
            "608af5ebcd7e4e3d94780fe40fba1a04",
            "ce41ceb4f89247e4a1dc45cb24952b10",
            "72261b26b3514a21b572c75889ea28b3",
            "49ebe7b2d4244147a1bbdd1293214b47",
            "899e0bfcfc72423b8e30e79969cfef3d",
            "e18d6a258e78419cbe272772d7197e1c",
            "e9149600e7e94d54a7cc9174b2845eaa",
            "007819d242614ba1a7d5a56d139ac293",
            "b2b36500a2344dde83a3150e369fbfec",
            "70b4e89acd0a4360ad85890cc33a48c1",
            "65450eedf7754eb88b53b0c1285f0708",
            "641d81e0d2334e8aa93772ff84bfee9e",
            "274f954cf8774566a7480a456cbc24db",
            "64e0e59aa1f14461bbd13b58840ff647",
            "2411666207a0435289bac24220bc3f47",
            "97cf342c4a184711a28d40ace7293c49",
            "ec07d787b66242408d15841b1856050c",
            "e84462f5597147fcb37ae4557b2e9fa7",
            "f6f29f44c39947cfbd89b4a14dbfd137",
            "8d245a61bec1404a882b39338d488cb5",
            "2cfd7c74f8d548feb6e753fe8334cb71",
            "a396c085a728446fb04cbed35bbb2521",
            "c74434f7306b4377adb0b77ca22282a7",
            "1197375d79ba44ce973627f585e20572",
            "57123bf284de45d3a3655da49bf0ca25",
            "dd8c10fe698c44c884764e7b0020f2b8",
            "5b53da07c551459cb53839084993353b",
            "b0c3de7cd3a9426bbe6e0d96fc8a5c2c",
            "52aa227c26594d5f9250f2da95daae8d",
            "25a0cd3e66e14676aa26db9c4034ec6a",
            "9a4b841ef89644eb991949c826f8de74",
            "6932f549e93347d8a572de8a57693169",
            "b035256b3ed44db7ba4cf7a7ab6fb08b",
            "0837f11a579d4928bbca2182468668c0",
            "eb0e1828b8fc470c803b92d97132aaec",
            "2bcc60c005a54453a4efc6e5384b762f",
            "79d8d49c0f0648fe90deaf834780f0d5",
            "24eae392a45b4bdebfaa113b3f042baf",
            "bd9ec8c8af2446dbb2a504e1fb99a4b9",
            "3d399fddc7f0414a976f5e281bdf492e",
            "50f4b89ee8234edd920feec8080ed762",
            "024cb09d2cf24cec84bd541a0f2ede3a",
            "d0fa2d9b78624ba086cb06e54a1585f1",
            "944f90813cdd467a8a1e5a01687f85a5",
            "222aea41976a4574a8256161072b53da",
            "3b85f567ef5442d686e04224d0850266",
            "9c6479f51e8e4ab7bfc23527dbd44e26",
            "99eee5938a8e4ac69a218ad0138562b0",
            "48655e03455c4639bcce25ddcba73f56",
            "c0e8fa5b0d254867a7dc6171a81b9933",
            "d0368ac6e5e14378aba116e18c525a84",
            "8a1745a8309b46d19075dc85a1d4d533",
            "bc825e97859549eaba30621210661c55",
            "c217b796a240437686d0a3704e11042c",
            "6b83c54b7a1c424f921d55c7a64ba5e7",
            "37596c9ce9fa403a895c045aba8b50f8",
            "323408e70d9d494cad7554edac54b8b3",
            "d97439efb1114dea8e724b903ee85d11",
            "21e98d6e640a48d4b40a419ac81bdec1",
            "3a80684f5b4945f2a0b64fece112e08f",
            "50d833eec501462f93fdc1e38eee1380",
            "f97ed821ffcb4426beb7d4da6d33b387",
            "0f8e152c00f7485ba8dfbab019f5797a",
            "af35c06ef3c94e678ef1a1ed66629c78",
            "02661634e5e643fa96f6a13914195429",
            "94dc48524afc4ff49f4f1d6dc52edf2c",
            "49cbe4d8628a4bc5adab0924fe93e9b6",
            "0156ff2089bf420e991ab29b6e3ec1cd",
            "1f8280ac556d4144910d9480e01d1a9d",
            "b39da33fc44648beac60d0f596c8956d",
            "94c3398a2a844a75839c2b2fbba4762a",
            "075816fd33d34bd286e1a53978cb4762",
            "94366cb0fc354ea8ac4d35731a61e6b0",
            "b038245029fd46a0bfeb697fcc3be10b",
            "af3929b0c92a46b7a95c04202d9b6c25",
            "4b8ff08d0bdd462a94b97960865b3964",
            "b55be38a3cd4490285d2bf7baf8180d5",
            "4d9e97f39eb54d83baf38bc58a1ec5d9",
            "af1543d756df46f696d185847566f9d1",
            "3af7eb32231a492bbfc08da14d5b4121",
            "c036573c203d465f9b95f70d2ccd5fc3",
            "ff03052a95c3415da49cd18fda180e28",
            "c2a2168d9b704265a34b4b20c41237eb",
            "a3d0ab22ee934e04b121b4161bc83036",
            "9cfd2ab0a5f94a8b8c4209ab7e41823a",
            "901bcf6c701c42bb85e13e411c32cce9",
            "513310d2adf146879bab21336f18abb1",
            "e047d05331704cd092b1beef72a1ad71",
            "2fba3d85b5dd4dab88ca34554174a319",
            "c61c841801424d93b618aa6dd3dd6ab5",
            "d34df44bff594a8aa1f764b6ac79ab20",
            "63703c9856764b1a97fe3ea7d205b36c",
            "f5f78c28709b4776bb366083d68bd7a4",
            "0c97dc2416024c4c9c25566a90af25b3",
            "5ba65e80948b4f428d9fcd2e2b8bb82f",
            "ca2f91d7670940c385dcbd6bce36193e",
            "4ac4efb41f9a452daff9d7f7816bfc20",
            "d4e72a0221ac42b5be3f0cd5715010e4",
            "1aa6392745384e85a8c8a76b8d49f4cb"
          ]
        },
        "outputId": "b93dcd4b-befc-48db-a8df-c788ec375750"
      },
      "source": [
        "# Train the model\n",
        "model.train_model(train_df=train_data, eval_df=val_data)\n"
      ],
      "execution_count": 35,
      "outputs": [
        {
          "output_type": "stream",
          "text": [
            "/usr/local/lib/python3.7/dist-packages/simpletransformers/classification/classification_model.py:602: UserWarning: Dataframe headers not specified. Falling back to using column 0 as text and column 1 as labels.\n",
            "  \"Dataframe headers not specified. Falling back to using column 0 as text and column 1 as labels.\"\n"
          ],
          "name": "stderr"
        },
        {
          "output_type": "display_data",
          "data": {
            "application/vnd.jupyter.widget-view+json": {
              "model_id": "7db496b0f05b4ae882033ba7e7d7df67",
              "version_minor": 0,
              "version_major": 2
            },
            "text/plain": [
              "  0%|          | 0/1252 [00:00<?, ?it/s]"
            ]
          },
          "metadata": {
            "tags": []
          }
        },
        {
          "output_type": "display_data",
          "data": {
            "application/vnd.jupyter.widget-view+json": {
              "model_id": "bcd9e58cae9148e29a0bf8fc5efaf4ab",
              "version_minor": 0,
              "version_major": 2
            },
            "text/plain": [
              "Epoch:   0%|          | 0/10 [00:00<?, ?it/s]"
            ]
          },
          "metadata": {
            "tags": []
          }
        },
        {
          "output_type": "display_data",
          "data": {
            "application/vnd.jupyter.widget-view+json": {
              "model_id": "e305302ae2b94bbb8c1303699037a85f",
              "version_minor": 0,
              "version_major": 2
            },
            "text/plain": [
              "Running Epoch 0 of 10:   0%|          | 0/157 [00:00<?, ?it/s]"
            ]
          },
          "metadata": {
            "tags": []
          }
        },
        {
          "output_type": "display_data",
          "data": {
            "application/vnd.jupyter.widget-view+json": {
              "model_id": "608af5ebcd7e4e3d94780fe40fba1a04",
              "version_minor": 0,
              "version_major": 2
            },
            "text/plain": [
              "Running Epoch 1 of 10:   0%|          | 0/157 [00:00<?, ?it/s]"
            ]
          },
          "metadata": {
            "tags": []
          }
        },
        {
          "output_type": "display_data",
          "data": {
            "application/vnd.jupyter.widget-view+json": {
              "model_id": "641d81e0d2334e8aa93772ff84bfee9e",
              "version_minor": 0,
              "version_major": 2
            },
            "text/plain": [
              "Running Epoch 2 of 10:   0%|          | 0/157 [00:00<?, ?it/s]"
            ]
          },
          "metadata": {
            "tags": []
          }
        },
        {
          "output_type": "display_data",
          "data": {
            "application/vnd.jupyter.widget-view+json": {
              "model_id": "c74434f7306b4377adb0b77ca22282a7",
              "version_minor": 0,
              "version_major": 2
            },
            "text/plain": [
              "Running Epoch 3 of 10:   0%|          | 0/157 [00:00<?, ?it/s]"
            ]
          },
          "metadata": {
            "tags": []
          }
        },
        {
          "output_type": "display_data",
          "data": {
            "application/vnd.jupyter.widget-view+json": {
              "model_id": "0837f11a579d4928bbca2182468668c0",
              "version_minor": 0,
              "version_major": 2
            },
            "text/plain": [
              "Running Epoch 4 of 10:   0%|          | 0/157 [00:00<?, ?it/s]"
            ]
          },
          "metadata": {
            "tags": []
          }
        },
        {
          "output_type": "display_data",
          "data": {
            "application/vnd.jupyter.widget-view+json": {
              "model_id": "222aea41976a4574a8256161072b53da",
              "version_minor": 0,
              "version_major": 2
            },
            "text/plain": [
              "Running Epoch 5 of 10:   0%|          | 0/157 [00:00<?, ?it/s]"
            ]
          },
          "metadata": {
            "tags": []
          }
        },
        {
          "output_type": "display_data",
          "data": {
            "application/vnd.jupyter.widget-view+json": {
              "model_id": "37596c9ce9fa403a895c045aba8b50f8",
              "version_minor": 0,
              "version_major": 2
            },
            "text/plain": [
              "Running Epoch 6 of 10:   0%|          | 0/157 [00:00<?, ?it/s]"
            ]
          },
          "metadata": {
            "tags": []
          }
        },
        {
          "output_type": "display_data",
          "data": {
            "application/vnd.jupyter.widget-view+json": {
              "model_id": "49cbe4d8628a4bc5adab0924fe93e9b6",
              "version_minor": 0,
              "version_major": 2
            },
            "text/plain": [
              "Running Epoch 7 of 10:   0%|          | 0/157 [00:00<?, ?it/s]"
            ]
          },
          "metadata": {
            "tags": []
          }
        },
        {
          "output_type": "display_data",
          "data": {
            "application/vnd.jupyter.widget-view+json": {
              "model_id": "4d9e97f39eb54d83baf38bc58a1ec5d9",
              "version_minor": 0,
              "version_major": 2
            },
            "text/plain": [
              "Running Epoch 8 of 10:   0%|          | 0/157 [00:00<?, ?it/s]"
            ]
          },
          "metadata": {
            "tags": []
          }
        },
        {
          "output_type": "display_data",
          "data": {
            "application/vnd.jupyter.widget-view+json": {
              "model_id": "2fba3d85b5dd4dab88ca34554174a319",
              "version_minor": 0,
              "version_major": 2
            },
            "text/plain": [
              "Running Epoch 9 of 10:   0%|          | 0/157 [00:00<?, ?it/s]"
            ]
          },
          "metadata": {
            "tags": []
          }
        },
        {
          "output_type": "execute_result",
          "data": {
            "text/plain": [
              "(1570, 0.20228882402168277)"
            ]
          },
          "metadata": {
            "tags": []
          },
          "execution_count": 35
        }
      ]
    },
    {
      "cell_type": "markdown",
      "metadata": {
        "id": "0IRIDV8YHlkq"
      },
      "source": [
        "Check the metrics to see, how the model performs."
      ]
    },
    {
      "cell_type": "code",
      "metadata": {
        "id": "fjLyvDN82yW2",
        "colab": {
          "base_uri": "https://localhost:8080/",
          "height": 295,
          "referenced_widgets": [
            "271943688662402da1f3e3a496cd6c0f",
            "bbd07ea96f0d4bc2bfafe3a18d38c8a8",
            "9294262a0b834eccae55b37abf676489",
            "98f11758a3b543909ba4e21385221f6b",
            "af3359012ea54f438bd632175e3658b7",
            "e261ffac4583471fbe341494b5599008",
            "0e168713654a41b2ad230cb1c3daebcb",
            "1c124ef16b3846c8a27f26561ca01455",
            "b01b0060de874ff5925ab6e64ac5adc9",
            "5378f5e1908a4de9917eb527b304ba63",
            "0b0ccb1e7a834d079d7328303630de8f",
            "007ec583af6b451395e56f729faefe0d",
            "56bc1920ef1f4fb2abdd6f933d3688ed",
            "13d059ad8020401bb854aef974122b61",
            "e597243ea4784c0397ba806bd9e30a74",
            "5f91fec6499848248a47706e9755537e",
            "15e95a5d18004e0b99e5f2958a44ef03",
            "cd7c810175954f44be4d2732b0c0b058",
            "a5cccaa258bf4caf935ba94032b89a49",
            "105854c607c1415eb061a0cc4c9e17e3",
            "fc622dadbb334b37b015c4a86c6c2be6",
            "29890ecd192f47c9b8ad27e7c300810d"
          ]
        },
        "outputId": "9161607c-1ec6-4578-9fe9-6a7d48a2e51f"
      },
      "source": [
        "from sklearn.metrics import f1_score, accuracy_score\n",
        "\n",
        "\n",
        "def f1_multiclass(labels, preds):\n",
        "    return f1_score(labels, preds, average='micro')\n",
        "    \n",
        "result, model_outputs, wrong_predictions = model.eval_model(eval_df=val_data, f1=f1_score, acc=accuracy_score) #eval_df=val_data, f1=f1_score, acc=accuracy_score, verbose=2\n",
        "\n",
        "result"
      ],
      "execution_count": 36,
      "outputs": [
        {
          "output_type": "stream",
          "text": [
            "/usr/local/lib/python3.7/dist-packages/simpletransformers/classification/classification_model.py:1384: UserWarning: Dataframe headers not specified. Falling back to using column 0 as text and column 1 as labels.\n",
            "  \"Dataframe headers not specified. Falling back to using column 0 as text and column 1 as labels.\"\n"
          ],
          "name": "stderr"
        },
        {
          "output_type": "display_data",
          "data": {
            "application/vnd.jupyter.widget-view+json": {
              "model_id": "271943688662402da1f3e3a496cd6c0f",
              "version_minor": 0,
              "version_major": 2
            },
            "text/plain": [
              "  0%|          | 0/418 [00:00<?, ?it/s]"
            ]
          },
          "metadata": {
            "tags": []
          }
        },
        {
          "output_type": "display_data",
          "data": {
            "application/vnd.jupyter.widget-view+json": {
              "model_id": "007ec583af6b451395e56f729faefe0d",
              "version_minor": 0,
              "version_major": 2
            },
            "text/plain": [
              "Running Evaluation:   0%|          | 0/53 [00:00<?, ?it/s]"
            ]
          },
          "metadata": {
            "tags": []
          }
        },
        {
          "output_type": "execute_result",
          "data": {
            "text/plain": [
              "{'acc': 0.9234449760765551,\n",
              " 'auprc': 0.9782090316030954,\n",
              " 'auroc': 0.8022038567493114,\n",
              " 'eval_loss': 0.4358614133143762,\n",
              " 'f1': 0.9592875318066157,\n",
              " 'fn': 8,\n",
              " 'fp': 24,\n",
              " 'mcc': 0.3439550517757071,\n",
              " 'tn': 9,\n",
              " 'tp': 377}"
            ]
          },
          "metadata": {
            "tags": []
          },
          "execution_count": 36
        }
      ]
    },
    {
      "cell_type": "code",
      "metadata": {
        "id": "px0sE1MrOPgj",
        "outputId": "453e39de-e14d-4ca0-b8c5-674216c8a281",
        "colab": {
          "base_uri": "https://localhost:8080/"
        }
      },
      "source": [
        "model_outputs"
      ],
      "execution_count": 37,
      "outputs": [
        {
          "output_type": "execute_result",
          "data": {
            "text/plain": [
              "array([[-3.68077445,  3.62846351],\n",
              "       [ 2.22797656, -2.60873795],\n",
              "       [-3.66593552,  3.622118  ],\n",
              "       [-3.64530826,  3.6091063 ],\n",
              "       [-3.62953734,  3.59746957],\n",
              "       [-3.67218685,  3.62459207],\n",
              "       [-3.61600757,  3.58795285],\n",
              "       [-3.62589526,  3.59728646],\n",
              "       [-3.57560897,  3.55738378],\n",
              "       [-3.64666414,  3.61141968],\n",
              "       [-3.65155864,  3.61417484],\n",
              "       [-3.61813283,  3.59050322],\n",
              "       [-3.67771935,  3.62822032],\n",
              "       [-3.67734718,  3.62708163],\n",
              "       [-3.64966702,  3.61169386],\n",
              "       [-3.5426662 ,  3.53263116],\n",
              "       [-3.50854063,  3.50741959],\n",
              "       [-3.66287684,  3.6211555 ],\n",
              "       [-3.5748961 ,  3.56014323],\n",
              "       [-3.43004131,  3.44810081],\n",
              "       [-3.47859645,  3.48052192],\n",
              "       [-3.66119933,  3.62295866],\n",
              "       [-3.6188252 ,  3.59291148],\n",
              "       [-3.67280912,  3.62481117],\n",
              "       [-3.63796306,  3.60508966],\n",
              "       [-3.58330607,  3.56562328],\n",
              "       [-3.60005164,  3.57921481],\n",
              "       [-3.67839122,  3.62836289],\n",
              "       [-3.42309499,  3.42890716],\n",
              "       [-3.56263661,  3.54766035],\n",
              "       [-3.55389142,  3.5404613 ],\n",
              "       [-3.64529085,  3.60784578],\n",
              "       [-3.64652896,  3.6101172 ],\n",
              "       [-3.67253494,  3.62534571],\n",
              "       [-3.57985234,  3.56016517],\n",
              "       [-3.63773656,  3.60579085],\n",
              "       [-3.64037156,  3.60729051],\n",
              "       [-3.49819493,  3.5043993 ],\n",
              "       [-3.67246294,  3.62645698],\n",
              "       [-3.615628  ,  3.58917236],\n",
              "       [-3.6817348 ,  3.62790298],\n",
              "       [ 2.19225669, -2.47903371],\n",
              "       [-3.56454968,  3.54792619],\n",
              "       [-3.67448545,  3.6271081 ],\n",
              "       [-3.50862265,  3.50928807],\n",
              "       [-3.64193225,  3.60734057],\n",
              "       [-3.67142916,  3.62457442],\n",
              "       [-3.14933848,  3.20360446],\n",
              "       [-3.65859103,  3.61644483],\n",
              "       [-3.58704352,  3.5665586 ],\n",
              "       [-3.68194914,  3.62774539],\n",
              "       [ 2.11022067, -2.25875807],\n",
              "       [-3.6771462 ,  3.62826061],\n",
              "       [-3.65780115,  3.61757827],\n",
              "       [-3.53276992,  3.52642965],\n",
              "       [-3.66269565,  3.62345648],\n",
              "       [-3.63828921,  3.60240197],\n",
              "       [-3.66821194,  3.62348652],\n",
              "       [ 2.18219614, -2.44487071],\n",
              "       [ 2.033746  , -2.16310716],\n",
              "       [-3.65737987,  3.61703062],\n",
              "       [-3.66724968,  3.6226213 ],\n",
              "       [-3.65652776,  3.61562705],\n",
              "       [-3.58850718,  3.57063365],\n",
              "       [-3.6768806 ,  3.6273911 ],\n",
              "       [-3.34058785,  3.36368251],\n",
              "       [-3.64375186,  3.60860348],\n",
              "       [-3.47886848,  3.48489213],\n",
              "       [-2.91922474,  2.99726486],\n",
              "       [-2.86159539,  2.96105599],\n",
              "       [-3.67973542,  3.62870812],\n",
              "       [-3.63050938,  3.60089445],\n",
              "       [-3.5411222 ,  3.53433061],\n",
              "       [-3.66260219,  3.62161469],\n",
              "       [-3.47719908,  3.48074746],\n",
              "       [-3.66513419,  3.62113833],\n",
              "       [-3.64476609,  3.60883737],\n",
              "       [-3.63884735,  3.6055994 ],\n",
              "       [-3.63121629,  3.60058522],\n",
              "       [-3.64457297,  3.61001444],\n",
              "       [-3.66497731,  3.62227726],\n",
              "       [ 2.16396213, -2.4001193 ],\n",
              "       [-3.60809112,  3.58287692],\n",
              "       [-3.64619136,  3.60981631],\n",
              "       [-2.97472405,  3.03592896],\n",
              "       [ 2.06488323, -2.20136476],\n",
              "       [-3.68172812,  3.62787533],\n",
              "       [-3.6035912 ,  3.57814574],\n",
              "       [-3.67185116,  3.62538791],\n",
              "       [-3.48582578,  3.49013567],\n",
              "       [-3.5784061 ,  3.56141639],\n",
              "       [-3.66803026,  3.62277794],\n",
              "       [-3.39324665,  3.41489673],\n",
              "       [-3.27700925,  3.31579709],\n",
              "       [-3.45236039,  3.46351218],\n",
              "       [-3.44278836,  3.45302391],\n",
              "       [-3.65332532,  3.61220407],\n",
              "       [-3.56084275,  3.54853225],\n",
              "       [-3.67075229,  3.62485957],\n",
              "       [-3.57699823,  3.55847073],\n",
              "       [-3.66214514,  3.61933231],\n",
              "       [-3.62548804,  3.59409833],\n",
              "       [-3.49331474,  3.49756503],\n",
              "       [-3.57497239,  3.56068158],\n",
              "       [-3.67341924,  3.62654877],\n",
              "       [-3.61782956,  3.58946538],\n",
              "       [-3.5203557 ,  3.51575732],\n",
              "       [-3.61635518,  3.58849764],\n",
              "       [-3.64723897,  3.61012006],\n",
              "       [-3.20224357,  3.25016522],\n",
              "       [-3.67865062,  3.62755036],\n",
              "       [-3.26242399,  3.30666804],\n",
              "       [-3.67612386,  3.627702  ],\n",
              "       [-3.66480398,  3.6202457 ],\n",
              "       [-3.6318152 ,  3.60158753],\n",
              "       [-3.67264366,  3.62663722],\n",
              "       [-3.32676291,  3.35993695],\n",
              "       [-3.66241193,  3.62327409],\n",
              "       [-3.6793735 ,  3.62915993],\n",
              "       [-3.67738295,  3.62677956],\n",
              "       [-3.66634727,  3.6220324 ],\n",
              "       [-3.66430259,  3.62194681],\n",
              "       [ 2.13394046, -2.30396295],\n",
              "       [-3.60127974,  3.57871294],\n",
              "       [-3.48735595,  3.48808551],\n",
              "       [-3.67367959,  3.62791657],\n",
              "       [-3.67186928,  3.6246829 ],\n",
              "       [ 2.21733403, -2.54947686],\n",
              "       [-3.51240396,  3.50866413],\n",
              "       [-3.67276621,  3.62611747],\n",
              "       [-3.67206836,  3.62515044],\n",
              "       [-3.61639333,  3.5877831 ],\n",
              "       [-3.6571691 ,  3.6200366 ],\n",
              "       [-3.5874002 ,  3.56649804],\n",
              "       [-3.60341978,  3.5794282 ],\n",
              "       [-3.2056694 ,  3.24679184],\n",
              "       [-3.67329454,  3.62625623],\n",
              "       [-3.63964128,  3.60466862],\n",
              "       [-3.52030277,  3.51519227],\n",
              "       [-3.66002011,  3.61906385],\n",
              "       [-3.66165066,  3.62090898],\n",
              "       [-3.60187626,  3.57967162],\n",
              "       [-3.43475604,  3.44888997],\n",
              "       [-3.65903831,  3.6184361 ],\n",
              "       [-3.67504859,  3.62824798],\n",
              "       [-3.68015075,  3.62929749],\n",
              "       [-2.80041575,  2.89631391],\n",
              "       [-3.61647773,  3.5912261 ],\n",
              "       [-3.64953494,  3.6107676 ],\n",
              "       [-3.67739701,  3.62779093],\n",
              "       [-3.65192747,  3.61253285],\n",
              "       [-3.6111486 ,  3.58306384],\n",
              "       [-3.65236497,  3.61426115],\n",
              "       [-3.52126288,  3.52040792],\n",
              "       [-3.65626001,  3.61789393],\n",
              "       [-3.64614058,  3.60925651],\n",
              "       [-3.63356113,  3.60011768],\n",
              "       [-3.66576552,  3.62249279],\n",
              "       [-3.63032937,  3.59788179],\n",
              "       [-3.60981631,  3.58089375],\n",
              "       [-3.58856153,  3.56914949],\n",
              "       [-3.57713819,  3.55983353],\n",
              "       [-3.67429399,  3.62702489],\n",
              "       [-3.64436269,  3.60737538],\n",
              "       [-3.67024922,  3.62469196],\n",
              "       [-2.30185843,  2.44984746],\n",
              "       [-3.66699696,  3.62153411],\n",
              "       [-3.65418911,  3.61591411],\n",
              "       [-3.64999127,  3.61265516],\n",
              "       [-3.60016298,  3.57724404],\n",
              "       [-2.61742306,  2.73118949],\n",
              "       [-3.34101462,  3.37313437],\n",
              "       [-3.67858744,  3.62929463],\n",
              "       [-3.55745816,  3.54592824],\n",
              "       [-3.67633533,  3.62621951],\n",
              "       [-3.67826724,  3.62838244],\n",
              "       [-3.46231842,  3.47245598],\n",
              "       [-3.28210282,  3.32116199],\n",
              "       [-3.68140101,  3.62847757],\n",
              "       [-3.67321253,  3.62549305],\n",
              "       [-3.6668644 ,  3.62229705],\n",
              "       [-3.03114152,  3.09644437],\n",
              "       [-3.59390926,  3.57206368],\n",
              "       [-3.31011701,  3.34782863],\n",
              "       [-1.3103112 ,  1.44294858],\n",
              "       [-3.55546188,  3.5443604 ],\n",
              "       [-3.67506456,  3.62729931],\n",
              "       [-2.48911023,  2.62051463],\n",
              "       [-3.61184263,  3.58423567],\n",
              "       [-3.6776185 ,  3.62777662],\n",
              "       [-3.67767739,  3.6283412 ],\n",
              "       [-3.28662348,  3.32611394],\n",
              "       [-3.65951419,  3.61820865],\n",
              "       [-3.66331387,  3.61980557],\n",
              "       [-3.66711354,  3.62352037],\n",
              "       [-2.99295402,  3.06614709],\n",
              "       [-3.5247829 ,  3.51726484],\n",
              "       [-3.5556643 ,  3.5428772 ],\n",
              "       [-3.60433388,  3.57922196],\n",
              "       [-3.58538079,  3.56669188],\n",
              "       [-3.6555388 ,  3.61694741],\n",
              "       [-3.47789574,  3.48166442],\n",
              "       [-3.57882524,  3.56283689],\n",
              "       [-3.52918792,  3.522861  ],\n",
              "       [-3.64998817,  3.61205387],\n",
              "       [-3.07826829,  3.14853787],\n",
              "       [-3.66175389,  3.62094069],\n",
              "       [-3.50711823,  3.5078094 ],\n",
              "       [-0.02634934,  0.04876642],\n",
              "       [-3.54343772,  3.53405571],\n",
              "       [-3.61628175,  3.58545971],\n",
              "       [-3.63804984,  3.60522747],\n",
              "       [-3.66780257,  3.62408781],\n",
              "       [-2.57892299,  2.6974194 ],\n",
              "       [-3.6732533 ,  3.62576628],\n",
              "       [-3.67687583,  3.62728834],\n",
              "       [-3.67489076,  3.62672925],\n",
              "       [ 1.13870633, -1.20668173],\n",
              "       [-3.57203603,  3.5576241 ],\n",
              "       [-3.67378497,  3.62622166],\n",
              "       [-3.67815089,  3.62930942],\n",
              "       [-3.35825133,  3.38474393],\n",
              "       [-3.67298865,  3.62611771],\n",
              "       [-3.63840818,  3.60402441],\n",
              "       [-3.65084219,  3.61271286],\n",
              "       [-3.67094064,  3.62542844],\n",
              "       [-3.67957258,  3.62874818],\n",
              "       [-3.66350031,  3.61986971],\n",
              "       [-3.50051427,  3.49408412],\n",
              "       [-3.62870407,  3.59902978],\n",
              "       [-3.04811978,  3.12428021],\n",
              "       [-3.55264783,  3.54392028],\n",
              "       [-3.49025607,  3.50103641],\n",
              "       [-3.65481877,  3.61653185],\n",
              "       [-3.589113  ,  3.57134032],\n",
              "       [-3.63862562,  3.6064651 ],\n",
              "       [-3.6408596 ,  3.60865998],\n",
              "       [-3.67635345,  3.62743735],\n",
              "       [-3.48593521,  3.491822  ],\n",
              "       [-3.62551069,  3.59658742],\n",
              "       [-3.60663009,  3.5805676 ],\n",
              "       [-3.53021932,  3.52223587],\n",
              "       [-3.55828524,  3.54561281],\n",
              "       [-3.60805845,  3.58384418],\n",
              "       [-3.60144973,  3.57977796],\n",
              "       [-3.65118575,  3.61306572],\n",
              "       [-3.61020398,  3.58405304],\n",
              "       [ 2.08251548, -2.20178246],\n",
              "       [-3.27471566,  3.30599093],\n",
              "       [-3.64156222,  3.60657954],\n",
              "       [-3.66513348,  3.62127233],\n",
              "       [-3.4277916 ,  3.44138408],\n",
              "       [-3.51580286,  3.5101335 ],\n",
              "       [-3.67928433,  3.62794566],\n",
              "       [-3.63106894,  3.59915233],\n",
              "       [-3.61858606,  3.58968782],\n",
              "       [ 2.22046638, -2.55883956],\n",
              "       [-3.67683506,  3.62790513],\n",
              "       [-3.62097955,  3.59306812],\n",
              "       [-3.63136411,  3.6009171 ],\n",
              "       [-3.53680491,  3.52882862],\n",
              "       [-3.67435908,  3.62601089],\n",
              "       [-3.67380834,  3.62585688],\n",
              "       [-3.64423299,  3.60992932],\n",
              "       [-3.57439256,  3.55630326],\n",
              "       [-3.62373281,  3.5921309 ],\n",
              "       [ 1.26460433, -1.34252691],\n",
              "       [-3.65452719,  3.61525798],\n",
              "       [-3.64981318,  3.61149645],\n",
              "       [-3.64582419,  3.60843062],\n",
              "       [-3.33186316,  3.36436367],\n",
              "       [-3.1540122 ,  3.20779681],\n",
              "       [-3.68214512,  3.62755227],\n",
              "       [-3.55569863,  3.54881787],\n",
              "       [-3.64612317,  3.6092093 ],\n",
              "       [-3.66255283,  3.62235045],\n",
              "       [-3.5990541 ,  3.57712007],\n",
              "       [-3.67603207,  3.6265099 ],\n",
              "       [-3.67440486,  3.62550044],\n",
              "       [-3.66643214,  3.62362218],\n",
              "       [-3.64950633,  3.61239934],\n",
              "       [-3.56350493,  3.54942942],\n",
              "       [-3.65369654,  3.61629748],\n",
              "       [-3.63569379,  3.60213447],\n",
              "       [-3.6257205 ,  3.59783053],\n",
              "       [-2.20821595,  2.36588693],\n",
              "       [-3.66894698,  3.62610841],\n",
              "       [-3.56727433,  3.5533278 ],\n",
              "       [-3.40697622,  3.42233157],\n",
              "       [-3.68070054,  3.62812757],\n",
              "       [-3.65607142,  3.61707711],\n",
              "       [-3.67954373,  3.62876725],\n",
              "       [-3.57105088,  3.55629897],\n",
              "       [-3.66157842,  3.6192019 ],\n",
              "       [-3.67625022,  3.62684083],\n",
              "       [-3.63609171,  3.60230184],\n",
              "       [-3.65708971,  3.61721778],\n",
              "       [-3.61561561,  3.58808804],\n",
              "       [-3.5345149 ,  3.52761507],\n",
              "       [-3.67772675,  3.62852573],\n",
              "       [-3.51745248,  3.51702857],\n",
              "       [-3.61793923,  3.59040618],\n",
              "       [-3.51686072,  3.51342678],\n",
              "       [-3.64244771,  3.6088903 ],\n",
              "       [-2.54337215,  2.66235232],\n",
              "       [-3.64523578,  3.60985661],\n",
              "       [-3.49432397,  3.49767661],\n",
              "       [-3.66358542,  3.62194371],\n",
              "       [-3.68219304,  3.62488985],\n",
              "       [-3.60638666,  3.58458066],\n",
              "       [-3.62163377,  3.59226155],\n",
              "       [-3.57647824,  3.55874228],\n",
              "       [-3.67807794,  3.62831903],\n",
              "       [-3.66783381,  3.62545276],\n",
              "       [-3.66238594,  3.61981392],\n",
              "       [ 0.55376571, -0.54062563],\n",
              "       [ 2.21377969, -2.54071856],\n",
              "       [-3.66738629,  3.62305093],\n",
              "       [-3.53101873,  3.52577376],\n",
              "       [-3.62576365,  3.59528542],\n",
              "       [-3.36595464,  3.38272333],\n",
              "       [-3.68177009,  3.62690234],\n",
              "       [-3.29457021,  3.33516765],\n",
              "       [-3.67887282,  3.62847662],\n",
              "       [-3.61655498,  3.58885312],\n",
              "       [-3.67602205,  3.62833095],\n",
              "       [-3.65883327,  3.61702943],\n",
              "       [-3.57704806,  3.560148  ],\n",
              "       [-3.64400244,  3.6076746 ],\n",
              "       [-3.59655952,  3.57374167],\n",
              "       [-3.51564336,  3.51131606],\n",
              "       [-3.64858437,  3.61270022],\n",
              "       [-3.49584222,  3.49686933],\n",
              "       [-3.63831806,  3.60353947],\n",
              "       [-3.67017508,  3.62518191],\n",
              "       [ 2.17241597, -2.39335608],\n",
              "       [-3.66080642,  3.61956406],\n",
              "       [-3.36965394,  3.39769769],\n",
              "       [-3.64657784,  3.60861897],\n",
              "       [-3.67597795,  3.62768102],\n",
              "       [-3.65897751,  3.619591  ],\n",
              "       [-3.6792376 ,  3.6225729 ],\n",
              "       [-3.51145816,  3.50983787],\n",
              "       [-3.14601064,  3.19939208],\n",
              "       [-3.65401006,  3.6154635 ],\n",
              "       [-3.6605165 ,  3.61916423],\n",
              "       [-3.10360169,  3.15321279],\n",
              "       [-3.63399911,  3.6034925 ],\n",
              "       [-3.6205132 ,  3.59099603],\n",
              "       [-3.64521599,  3.60899115],\n",
              "       [-3.64056087,  3.60782456],\n",
              "       [-3.6600461 ,  3.61903644],\n",
              "       [-3.68125892,  3.6285603 ],\n",
              "       [-3.48396182,  3.48942256],\n",
              "       [-3.67922616,  3.62845635],\n",
              "       [-2.07725286,  2.22753882],\n",
              "       [-3.64652228,  3.61047697],\n",
              "       [-3.65807939,  3.61741281],\n",
              "       [-3.59871054,  3.57789087],\n",
              "       [-3.62946463,  3.5973208 ],\n",
              "       [-3.63921046,  3.60623598],\n",
              "       [-3.65866685,  3.61736941],\n",
              "       [-3.63133264,  3.59967208],\n",
              "       [-3.65610576,  3.61857486],\n",
              "       [-3.64432025,  3.60659623],\n",
              "       [-3.65111399,  3.61265993],\n",
              "       [-3.67420745,  3.62617803],\n",
              "       [-3.65660095,  3.61563945],\n",
              "       [-3.58681607,  3.56753659],\n",
              "       [-1.53628683,  1.68604982],\n",
              "       [-3.67221665,  3.62521338],\n",
              "       [-3.59596944,  3.57559848],\n",
              "       [-3.67157006,  3.62590289],\n",
              "       [-3.68058968,  3.62896514],\n",
              "       [-3.68072772,  3.62902617],\n",
              "       [-3.66967177,  3.62561107],\n",
              "       [-3.16884542,  3.21894288],\n",
              "       [-3.49014926,  3.49912834],\n",
              "       [-3.52136493,  3.51693273],\n",
              "       [-3.61598802,  3.58897853],\n",
              "       [-3.57010531,  3.55560255],\n",
              "       [-3.66965961,  3.62409282],\n",
              "       [-3.66516924,  3.62161088],\n",
              "       [-3.65533876,  3.61731315],\n",
              "       [-3.64438009,  3.60788441],\n",
              "       [-3.63068128,  3.59945869],\n",
              "       [-3.31845379,  3.35052085],\n",
              "       [-2.25134063,  2.40762305],\n",
              "       [-3.39922214,  3.42034507],\n",
              "       [-3.49263239,  3.49460769],\n",
              "       [-3.67413306,  3.62654901],\n",
              "       [-3.64516139,  3.60791469],\n",
              "       [-3.649966  ,  3.61223388],\n",
              "       [-3.53238964,  3.52661705],\n",
              "       [-3.60612988,  3.57975745],\n",
              "       [-3.52942872,  3.52099156],\n",
              "       [-3.67833972,  3.6276505 ],\n",
              "       [-3.63334513,  3.59837556],\n",
              "       [-3.66997266,  3.62226224],\n",
              "       [-3.41147852,  3.42852545],\n",
              "       [-3.63647342,  3.60356998],\n",
              "       [-3.5493567 ,  3.53704762],\n",
              "       [-3.67297435,  3.62507129],\n",
              "       [-3.6131618 ,  3.58634591],\n",
              "       [-3.64352655,  3.60724902],\n",
              "       [-3.64144015,  3.60589385],\n",
              "       [-3.65128136,  3.61477947],\n",
              "       [-3.67621636,  3.62875366],\n",
              "       [-3.68152547,  3.6282866 ],\n",
              "       [-3.58145499,  3.56584072],\n",
              "       [-3.63069892,  3.59868431],\n",
              "       [-3.67744017,  3.62661362],\n",
              "       [-3.53696847,  3.53237486],\n",
              "       [-3.43603587,  3.44696665],\n",
              "       [ 2.11872816, -2.30004811],\n",
              "       [-3.67065358,  3.62504005],\n",
              "       [-3.67721081,  3.62816501],\n",
              "       [-3.66322708,  3.62153387]])"
            ]
          },
          "metadata": {
            "tags": []
          },
          "execution_count": 37
        }
      ]
    },
    {
      "cell_type": "markdown",
      "metadata": {
        "id": "hHMAGRNnHt9G"
      },
      "source": [
        "Check the whole test set, where the model predicted impolite."
      ]
    },
    {
      "cell_type": "code",
      "metadata": {
        "id": "1dWMZJmq3Ej_"
      },
      "source": [
        "class_list = ['Impolite','Polite']"
      ],
      "execution_count": 38,
      "outputs": []
    },
    {
      "cell_type": "code",
      "metadata": {
        "id": "COEI5xOUOu_d"
      },
      "source": [
        "mailsList = test_data['Mails_Combined'].to_list()"
      ],
      "execution_count": 39,
      "outputs": []
    },
    {
      "cell_type": "code",
      "metadata": {
        "id": "EuL28XEyOkfa",
        "colab": {
          "base_uri": "https://localhost:8080/",
          "height": 81,
          "referenced_widgets": [
            "f86538cfb3ab416cb485c167f5f071c0",
            "5403809c276b4ddfb978f2f91103c670",
            "7eb19ad9f6a14eaa9df8773f13d203f9",
            "c19fbdb040334d90abeffca9876bdc10",
            "583cb032f0cc4d14a5f1d98cdd49e12e",
            "fe0028a93e7842a2b3b8eaf3b893a70f",
            "b40504c419a34c07ad9581586d2761be",
            "7d57e1cce8d24cd4a7b803460eb0ea6b",
            "1564ce315a684e9c990a970818f724d4",
            "d175599ccb984b4290930a5116c26b19",
            "8c02edee83904579ba55317d8aba4166",
            "7ac145b5d68942bc9884208abe28c0ff",
            "75b6e2d660394edfb9565352ab74c09b",
            "34d4ef3fe8df4c6ca0fa52bc9c12c095",
            "ee3983f3905b4537a5324b3cbb10274c",
            "bf98b694ebb14cb8b12c91c258ebd362",
            "772f5972bd494ce8ad202d84e3f16ccf",
            "7eae8e347e314dee9d845e8d8a35db18",
            "c1b9d1d0aea64ce695a8fc527670adf8",
            "8f3f534cb8d74dfe90fa6f9de2d7b99e",
            "ef7ff3d37bab43a1b39c9075ea6d0261",
            "b50476e264e74cb1a4f0bf25984aea2d"
          ]
        },
        "outputId": "d5474a7b-f993-4700-da18-5da6838062e1"
      },
      "source": [
        "prediction, raw_output = model.predict(to_predict=mailsList)"
      ],
      "execution_count": 40,
      "outputs": [
        {
          "output_type": "display_data",
          "data": {
            "application/vnd.jupyter.widget-view+json": {
              "model_id": "f86538cfb3ab416cb485c167f5f071c0",
              "version_minor": 0,
              "version_major": 2
            },
            "text/plain": [
              "  0%|          | 0/417 [00:00<?, ?it/s]"
            ]
          },
          "metadata": {
            "tags": []
          }
        },
        {
          "output_type": "display_data",
          "data": {
            "application/vnd.jupyter.widget-view+json": {
              "model_id": "7ac145b5d68942bc9884208abe28c0ff",
              "version_minor": 0,
              "version_major": 2
            },
            "text/plain": [
              "  0%|          | 0/53 [00:00<?, ?it/s]"
            ]
          },
          "metadata": {
            "tags": []
          }
        }
      ]
    },
    {
      "cell_type": "code",
      "metadata": {
        "id": "SJ778XFJPF6w",
        "colab": {
          "base_uri": "https://localhost:8080/"
        },
        "outputId": "c7a4213e-56bb-4ed1-9a46-c84180b4a8dc"
      },
      "source": [
        "prediction"
      ],
      "execution_count": 41,
      "outputs": [
        {
          "output_type": "execute_result",
          "data": {
            "text/plain": [
              "array([1, 1, 1, 1, 1, 1, 1, 1, 1, 1, 1, 1, 1, 1, 1, 1, 1, 1, 1, 1, 1, 1,\n",
              "       1, 1, 1, 1, 1, 1, 1, 1, 1, 1, 1, 1, 1, 1, 1, 1, 1, 1, 1, 1, 1, 1,\n",
              "       1, 1, 1, 1, 1, 1, 1, 1, 1, 1, 1, 1, 1, 1, 1, 1, 1, 1, 1, 1, 1, 0,\n",
              "       1, 1, 1, 1, 1, 1, 1, 1, 1, 1, 1, 1, 1, 1, 1, 1, 1, 0, 1, 1, 1, 1,\n",
              "       1, 1, 1, 1, 1, 1, 1, 1, 1, 1, 1, 1, 1, 1, 1, 1, 1, 1, 1, 1, 1, 1,\n",
              "       1, 1, 1, 1, 1, 1, 1, 1, 1, 1, 1, 1, 1, 1, 1, 1, 1, 1, 1, 0, 1, 1,\n",
              "       1, 1, 1, 1, 1, 1, 1, 1, 0, 1, 1, 1, 1, 1, 1, 1, 1, 0, 1, 1, 1, 1,\n",
              "       1, 1, 1, 1, 1, 0, 1, 1, 1, 1, 1, 1, 1, 1, 1, 1, 1, 1, 1, 1, 1, 1,\n",
              "       1, 1, 1, 1, 1, 1, 1, 1, 1, 1, 1, 1, 1, 1, 1, 1, 1, 1, 1, 1, 1, 1,\n",
              "       1, 1, 1, 1, 1, 1, 1, 1, 1, 1, 1, 1, 1, 1, 1, 1, 1, 1, 1, 1, 1, 1,\n",
              "       1, 1, 1, 1, 1, 1, 1, 1, 1, 1, 1, 1, 1, 1, 1, 1, 1, 1, 1, 1, 1, 1,\n",
              "       1, 1, 1, 1, 1, 1, 1, 1, 1, 1, 1, 1, 1, 1, 1, 1, 1, 1, 1, 1, 1, 1,\n",
              "       0, 0, 1, 1, 1, 1, 1, 1, 1, 1, 1, 1, 1, 1, 1, 1, 1, 1, 1, 0, 1, 1,\n",
              "       1, 1, 1, 1, 1, 1, 1, 1, 1, 1, 1, 1, 1, 1, 1, 1, 1, 0, 1, 1, 1, 1,\n",
              "       0, 1, 1, 1, 1, 1, 1, 1, 1, 1, 1, 0, 1, 1, 1, 1, 1, 1, 1, 1, 1, 0,\n",
              "       1, 1, 1, 1, 1, 1, 1, 1, 0, 1, 1, 1, 1, 1, 1, 1, 1, 1, 1, 1, 1, 1,\n",
              "       1, 1, 1, 1, 1, 0, 1, 1, 1, 1, 1, 1, 1, 1, 1, 1, 1, 1, 1, 1, 1, 1,\n",
              "       1, 1, 1, 1, 1, 1, 1, 1, 1, 1, 1, 1, 1, 1, 1, 1, 1, 1, 1, 1, 1, 1,\n",
              "       1, 1, 1, 1, 1, 1, 1, 1, 1, 1, 1, 1, 1, 1, 1, 1, 1, 1, 1, 1, 1])"
            ]
          },
          "metadata": {
            "tags": []
          },
          "execution_count": 41
        }
      ]
    },
    {
      "cell_type": "markdown",
      "metadata": {
        "id": "bLvr3oiyH2bN"
      },
      "source": [
        "All the mails that are classified as impolite by the model."
      ]
    },
    {
      "cell_type": "code",
      "metadata": {
        "id": "-CpREvBAF1cl"
      },
      "source": [
        "print(test_data['Mails_Combined'][83])\n",
        "print(test_data['a4s_combined_i2b'][83])\n",
        "\n",
        "print(test_data['Mails_Combined'][92])\n",
        "print(test_data['a4s_combined_i2b'][92])\n",
        "\n",
        "print(test_data['Mails_Combined'][129])\n",
        "print(test_data['a4s_combined_i2b'][129])\n",
        "\n",
        "print(test_data['Mails_Combined'][149])\n",
        "print(test_data['a4s_combined_i2b'][149])\n",
        "\n",
        "print(test_data['Mails_Combined'][174])\n",
        "print(test_data['a4s_combined_i2b'][174])\n",
        "\n",
        "print(test_data['Mails_Combined'][210])\n",
        "print(test_data['a4s_combined_i2b'][210])\n",
        "\n",
        "print(test_data['Mails_Combined'][264])\n",
        "print(test_data['a4s_combined_i2b'][264])\n",
        "\n",
        "print(test_data['Mails_Combined'][283])\n",
        "print(test_data['a4s_combined_i2b'][283])\n",
        "\n",
        "print(test_data['Mails_Combined'][303])\n",
        "print(test_data['a4s_combined_i2b'][303])\n",
        "\n",
        "print(test_data['Mails_Combined'][308])\n",
        "print(test_data['a4s_combined_i2b'][308])\n",
        "\n",
        "print(test_data['Mails_Combined'][329])\n",
        "print(test_data['a4s_combined_i2b'][329])\n",
        "\n",
        "print(test_data['Mails_Combined'][338])\n",
        "print(test_data['a4s_combined_i2b'][338])\n",
        "\n",
        "print(test_data['Mails_Combined'][342])\n",
        "print(test_data['a4s_combined_i2b'][342])\n",
        "\n",
        "print(test_data['Mails_Combined'][344])\n",
        "print(test_data['a4s_combined_i2b'][344])\n",
        "\n",
        "print(test_data['Mails_Combined'][357])\n",
        "print(test_data['a4s_combined_i2b'][357])\n",
        "\n",
        "print(test_data['Mails_Combined'][391])\n",
        "print(test_data['a4s_combined_i2b'][391])\n",
        "\n"
      ],
      "execution_count": null,
      "outputs": []
    },
    {
      "cell_type": "markdown",
      "metadata": {
        "id": "9NGfT4dBIDKM"
      },
      "source": [
        "Having a look into the data. For some sentences it is at the very least questionable if they are labeled correctly by the scorer. For some sentences model and human scorer have the same opinion, for others they are different and it is not always completely clear to us, why the data has been labelled Polite or Impolite by the scorer. Hence the accuracy of the model is also affected by the initial labelling.\n",
        "\n",
        "It is though not easy to find a measurable baseline for the scores, as there is a rather large grey zone for polite and impolite answers. The sentences below are an example of this. It is not fully clear, why the mail 118 is considered impolite by the scorer, while mail 391 and 416 are considered polite. There would be arguments for each mail in both directions. In this regard maybe the models can help to develop a standard that follows measurable rules and is not subject to human error."
      ]
    },
    {
      "cell_type": "code",
      "metadata": {
        "id": "As_gfXVCLzxT"
      },
      "source": [
        "test_data['Mails_Combined'][391]"
      ],
      "execution_count": null,
      "outputs": []
    },
    {
      "cell_type": "code",
      "metadata": {
        "id": "hkLLjLVmMJnc"
      },
      "source": [
        "test_data['a4s_combined_i2b'][391]"
      ],
      "execution_count": null,
      "outputs": []
    },
    {
      "cell_type": "code",
      "metadata": {
        "id": "S1Fs7e1AK3ls"
      },
      "source": [
        "test_data['Mails_Combined'][118]"
      ],
      "execution_count": null,
      "outputs": []
    },
    {
      "cell_type": "code",
      "metadata": {
        "id": "8KeOjNpCMMwP"
      },
      "source": [
        "test_data['a4s_combined_i2b'][118]"
      ],
      "execution_count": null,
      "outputs": []
    },
    {
      "cell_type": "code",
      "metadata": {
        "id": "33YIHvwbMDGQ"
      },
      "source": [
        "test_data['Mails_Combined'][416]"
      ],
      "execution_count": null,
      "outputs": []
    },
    {
      "cell_type": "code",
      "metadata": {
        "id": "8bO5SYVbMN_N"
      },
      "source": [
        "test_data['a4s_combined_i2b'][416]"
      ],
      "execution_count": null,
      "outputs": []
    },
    {
      "cell_type": "code",
      "metadata": {
        "id": "esKYDxDbFvOa"
      },
      "source": [
        "test_data.loc[test_data['a4s_combined_i2b']  == 1]"
      ],
      "execution_count": null,
      "outputs": []
    },
    {
      "cell_type": "markdown",
      "metadata": {
        "id": "R00YcxTIvoyG"
      },
      "source": [
        "# Primitive Models"
      ]
    },
    {
      "cell_type": "markdown",
      "metadata": {
        "id": "OcyM88Hdvr8n"
      },
      "source": [
        "## SVM"
      ]
    },
    {
      "cell_type": "markdown",
      "metadata": {
        "id": "msckXYl_Mlzj"
      },
      "source": [
        "Function for a Support Vector Machine with the SGDClassifier (stochastic gradient descent) from the sklearn library.\n",
        "\n",
        "Important hyperparameters: The regularization term \"penalty\" adds a penalty to the loss function using the squared euclidean norm L2 by default. \"alpha\" is a constant by which the regularization term is multiplied; the higher the value, the stronger the regularization; 0.0001 is set by default, but with 0.01 we had the best results. \"max_iter\" is the maximum number of epochs. Finally, \"class_weight\" assigns weights to each class; class_weight = \"balance\" uses the values of the labels to automatically adjust weights inversely proportional to class frequencies. This mode achieved the best results.\n",
        "\n",
        "Funtion returns the model and the prediction of the class labels, and prints the accuracy of the model and the classification report for the two classes. \n",
        "\n",
        "\n"
      ]
    },
    {
      "cell_type": "code",
      "metadata": {
        "id": "-Bngdx1yvoHP"
      },
      "source": [
        "## Linear Support Vector Machine\n",
        "def svmModel(X_train, y_train, X_test, y_test):\n",
        "  sgd = Pipeline([('vect', CountVectorizer()),\n",
        "                ('tfidf', TfidfTransformer()),\n",
        "                ('clf', SGDClassifier(loss='hinge', penalty='l2',alpha=0.01, random_state=42, max_iter=5, tol=None, shuffle=True, class_weight=\"balanced\")), # class_weight={0: 10} \n",
        "               ])\n",
        "  sgd.fit(X_train, y_train)\n",
        "\n",
        "  #%%time\n",
        "  \n",
        "  y_pred = sgd.predict(X_test)\n",
        "  my_tags = ['class 0', 'class 1']\n",
        "\n",
        "  print('accuracy %s' % accuracy_score(y_pred, y_test))\n",
        "  print(classification_report(y_test, y_pred,target_names=my_tags))\n",
        "  return sgd, y_pred"
      ],
      "execution_count": 50,
      "outputs": []
    },
    {
      "cell_type": "markdown",
      "metadata": {
        "id": "Mmjl7BDVyYCG"
      },
      "source": [
        "##Logistic Regression"
      ]
    },
    {
      "cell_type": "markdown",
      "metadata": {
        "id": "KEbThGvnaoGK"
      },
      "source": [
        "Function for a logistic regression algorithm. \n",
        "\n",
        "Important hyperparameters: \"C\" inverses regularization strength; the default value is 1.0. The remaining parameters have already been described for the svm model.\n",
        "\n",
        "Function returns the model and the prediction of the class labels, and prints the accuracy of the model and the classification report for the two classes."
      ]
    },
    {
      "cell_type": "code",
      "metadata": {
        "id": "ZzQJqeUQyXlL"
      },
      "source": [
        "def lgModel(X_train, y_train, X_test, y_test):\n",
        "  logreg = Pipeline([('vect', CountVectorizer()),\n",
        "                ('tfidf', TfidfTransformer()),\n",
        "                ('clf', LogisticRegression(n_jobs=5, C=5.0, class_weight=\"balanced\")), #C=1e5, C=1e-1 #class_weight=\"balanced\", class_weight={0: 50}\n",
        "               ])\n",
        "  logreg.fit(X_train, y_train)\n",
        "\n",
        "  #%%time\n",
        "\n",
        "  y_pred = logreg.predict(X_test)\n",
        "  y_predProba = logreg.predict_proba(X_test)\n",
        "  my_tags = ['class 0', 'class 1']\n",
        "  print('accuracy %s' % accuracy_score(y_pred, y_test))\n",
        "  print(classification_report(y_test, y_pred,target_names=my_tags))\n",
        "  return logreg, y_pred, y_predProba"
      ],
      "execution_count": 51,
      "outputs": []
    },
    {
      "cell_type": "markdown",
      "metadata": {
        "id": "5Vi-Wwg80pfn"
      },
      "source": [
        "## Random Forest"
      ]
    },
    {
      "cell_type": "markdown",
      "metadata": {
        "id": "F5rPLfuJmLCW"
      },
      "source": [
        "Function for a Random Forest Classifier. \n",
        "\n",
        "Important hyperparameters: The default value for \"n_estimators\" (number of trees in the forest) is 100. A much higher or much lower number of trees produced worse results. Unlike the two previous models, when adding the \"class_weight\" parameter, the f1 score for the underrepresented class got much worse.\n",
        " \n",
        "Function returns the model and the prediction of the class labels, and prints the accuracy of the model and the classification report for the two classes."
      ]
    },
    {
      "cell_type": "code",
      "metadata": {
        "id": "01gAtqOY0orV"
      },
      "source": [
        "def randomtree_Model(n_estimators, X_train, y_train, X_test, y_test):\n",
        "    model = RandomForestClassifier(n_estimators = n_estimators, criterion  = 'entropy', random_state = 42) #class_weight=\"balanced\") \n",
        "\n",
        "    history = model.fit(X_train, y_train)\n",
        "\n",
        "    y_predict = model.predict(X_test)\n",
        "\n",
        "    print(confusion_matrix(y_test,y_predict))\n",
        "    print(classification_report(y_test,y_predict))\n",
        "    print(accuracy_score(y_test, y_predict))\n",
        "    return model, history, y_predict"
      ],
      "execution_count": 52,
      "outputs": []
    },
    {
      "cell_type": "code",
      "metadata": {
        "id": "buYH45PA9KEL"
      },
      "source": [
        "import matplotlib.pyplot as plt\n",
        "import seaborn as sns\n",
        "import numpy as np\n",
        "\n",
        "try:\n",
        "    get_ipython().magic('matplotlib inline')\n",
        "    get_ipython().magic('config InlineBackend.figure_formats = set([\"retina\"])')\n",
        "except NameError:\n",
        "    pass\n",
        "\n",
        "def plot_classifier(model, X_test, y_test, proba=True, xlabel='Essays', ylabel='Politeness'):\n",
        "    # https://matplotlib.org/examples/color/colormaps_reference.html\n",
        "    plt.set_cmap(\"RdYlBu\")\n",
        "    \n",
        "    x_min = X_test[:, 0].min() - 1\n",
        "    x_max = X_test[:, 0].max() + 1\n",
        "    \n",
        "    y_min = X_test[:, 1].min() - 1\n",
        "    y_max = X_test[:, 1].max() + 1\n",
        "    \n",
        "    xx, yy = np.meshgrid(\n",
        "        np.linspace(x_min, x_max, 1000),\n",
        "        np.linspace(y_min, y_max, 1000)\n",
        "    )\n",
        "\n",
        "    if proba:\n",
        "        zz = model.predict_proba(np.c_[xx.ravel(), yy.ravel()])[:, 1]\n",
        "        plt.imshow(zz.reshape(xx.shape), \n",
        "                   origin = \"lower\", \n",
        "                   aspect = \"auto\", \n",
        "                   extent = (x_min, x_max, y_min, y_max), \n",
        "                   vmin = 0, \n",
        "                   vmax = 1, \n",
        "                   alpha = 0.25)\n",
        "    else: \n",
        "        zz = model.predict(np.c_[xx.ravel(), yy.ravel()])\n",
        "        plt.contourf(xx, yy, zz.reshape(xx.shape), \n",
        "                     alpha = 0.25, \n",
        "                     vmin = 0, \n",
        "                     vmax = 1)\n",
        "\n",
        "    plt.scatter(X[:, 0], X[:, 1], c=Z)\n",
        "    \n",
        "    if xlabel is not None:\n",
        "        plt.xlabel(xlabel)\n",
        "       \n",
        "    if ylabel is not None:\n",
        "        plt.ylabel(ylabel)\n",
        "        \n",
        "    # Damit wird die Grafik genau so groß angezeigt wie der\n",
        "    # schattierte Farbbereich:\n",
        "    plt.xlim(x_min, x_max)\n",
        "    plt.ylim(y_min, y_max)\n",
        "\n",
        "    plt.show()"
      ],
      "execution_count": 53,
      "outputs": []
    },
    {
      "cell_type": "code",
      "metadata": {
        "id": "ZBGvDQEM9UM2"
      },
      "source": [
        "#Rt_plot = plot_classifier(modelRandomForest, xValArray, yValArray[:,1], proba=True, xlabel='Essays', ylabel='Politeness')"
      ],
      "execution_count": 54,
      "outputs": []
    },
    {
      "cell_type": "markdown",
      "metadata": {
        "id": "we4aNM4I4bx_"
      },
      "source": [
        "# Execute Primitive Models"
      ]
    },
    {
      "cell_type": "markdown",
      "metadata": {
        "id": "YIw-4fgqqHk1"
      },
      "source": [
        "The functions defined above for the primitive models are executed.\n"
      ]
    },
    {
      "cell_type": "markdown",
      "metadata": {
        "id": "0446jBc7Cj47"
      },
      "source": [
        "The randomtree_Model function receives as input the number of trees and the untokenized training and test datasets. "
      ]
    },
    {
      "cell_type": "code",
      "metadata": {
        "id": "9u3d-_bU0rT1"
      },
      "source": [
        "#Execute random forest model\n",
        "#modelRandomForest,historyRandomForest, y_predictRandomForest = randomtree_Model(100, xTrainArray, yTrainArray[:,1], xValArray, yValArray[:,1])"
      ],
      "execution_count": 55,
      "outputs": []
    },
    {
      "cell_type": "markdown",
      "metadata": {
        "id": "_oxlLaoNDAy_"
      },
      "source": [
        "The lgModel function receives as input the untokenized training and test datasets. "
      ]
    },
    {
      "cell_type": "code",
      "metadata": {
        "id": "ntgXVPRGyc4z",
        "colab": {
          "base_uri": "https://localhost:8080/"
        },
        "outputId": "0b59d60c-2d22-4685-c85d-376c54ac3eab"
      },
      "source": [
        "#Execute logistic regression Model\n",
        "logreg, y_predLg, y_predProbaLg = lgModel(xTrainArray2, yTrainArray2[:,1], xValArray2, yValArray2[:,1])"
      ],
      "execution_count": 56,
      "outputs": [
        {
          "output_type": "stream",
          "text": [
            "accuracy 0.9586206896551724\n",
            "              precision    recall  f1-score   support\n",
            "\n",
            "     class 0       0.00      0.00      0.00         6\n",
            "     class 1       0.96      1.00      0.98       139\n",
            "\n",
            "    accuracy                           0.96       145\n",
            "   macro avg       0.48      0.50      0.49       145\n",
            "weighted avg       0.92      0.96      0.94       145\n",
            "\n"
          ],
          "name": "stdout"
        },
        {
          "output_type": "stream",
          "text": [
            "/usr/local/lib/python3.7/dist-packages/sklearn/metrics/_classification.py:1272: UndefinedMetricWarning: Precision and F-score are ill-defined and being set to 0.0 in labels with no predicted samples. Use `zero_division` parameter to control this behavior.\n",
            "  _warn_prf(average, modifier, msg_start, len(result))\n"
          ],
          "name": "stderr"
        }
      ]
    },
    {
      "cell_type": "markdown",
      "metadata": {
        "id": "phb30ECkDgk0"
      },
      "source": [
        "The svmModel function receives as input the untokenized training and test datasets. "
      ]
    },
    {
      "cell_type": "code",
      "metadata": {
        "id": "sDjgLOWSvwwN",
        "colab": {
          "base_uri": "https://localhost:8080/"
        },
        "outputId": "4809921d-ea2e-4289-b099-67fb5ab623cf"
      },
      "source": [
        "#Execute svmModel\n",
        "sgd, y_predSgd = svmModel(xTrainArray2, yTrainArray2[:,1], xValArray2, yValArray2[:,1])"
      ],
      "execution_count": 57,
      "outputs": [
        {
          "output_type": "stream",
          "text": [
            "accuracy 0.9517241379310345\n",
            "              precision    recall  f1-score   support\n",
            "\n",
            "     class 0       0.33      0.17      0.22         6\n",
            "     class 1       0.96      0.99      0.98       139\n",
            "\n",
            "    accuracy                           0.95       145\n",
            "   macro avg       0.65      0.58      0.60       145\n",
            "weighted avg       0.94      0.95      0.94       145\n",
            "\n"
          ],
          "name": "stdout"
        }
      ]
    },
    {
      "cell_type": "markdown",
      "metadata": {
        "id": "FJ0_TuUZ78gb"
      },
      "source": [
        "# Word2Vec"
      ]
    },
    {
      "cell_type": "markdown",
      "metadata": {
        "id": "EhQ_iEeMDQdH"
      },
      "source": [
        "## preparation"
      ]
    },
    {
      "cell_type": "markdown",
      "metadata": {
        "id": "PRxc1PdRvJCZ"
      },
      "source": [
        "Sources and tutorials i used to create word2vec embeddings:\n"
      ]
    },
    {
      "cell_type": "code",
      "metadata": {
        "id": "B_Xk8HYm8viJ"
      },
      "source": [
        "#Word2vec approach. We followed a mix out of several turoials:\n",
        "#    https://radimrehurek.com/gensim/auto_examples/tutorials/run_word2vec.html\n",
        "#    https://discuss.huggingface.co/t/generate-raw-word-embeddings-using-transformer-models-like-bert-for-downstream-process/2958\n",
        "#    https://towardsdatascience.com/text-classification-with-nlp-tf-idf-vs-word2vec-vs-bert-41ff868d1794\n",
        "#    https://phdstatsphys.wordpress.com/2018/12/27/word2vec-how-to-train-and-update-it/"
      ],
      "execution_count": 58,
      "outputs": []
    },
    {
      "cell_type": "markdown",
      "metadata": {
        "id": "NBWZEgbwvbPT"
      },
      "source": [
        "Import, especially gensim and gensim.downloader for word2vec if you like to use a pretrained word2vec"
      ]
    },
    {
      "cell_type": "code",
      "metadata": {
        "id": "Lz9tCOQo9CCk",
        "colab": {
          "base_uri": "https://localhost:8080/"
        },
        "outputId": "24908c1f-d26e-45d2-e200-589e30906b41"
      },
      "source": [
        "## for data\n",
        "import json\n",
        "import pandas as pd\n",
        "import numpy as np\n",
        "## for plotting\n",
        "import matplotlib.pyplot as plt\n",
        "import seaborn as sns\n",
        "## for processing\n",
        "import re\n",
        "import nltk\n",
        "# for bag-of-words\n",
        "from sklearn import feature_extraction, model_selection, naive_bayes, pipeline, manifold, preprocessing\n",
        "## for explainer\n",
        "!pip install lime\n",
        "from lime import lime_text\n",
        "## for word embedding\n",
        "import gensim\n",
        "import gensim.downloader as gensim_api\n",
        "## for deep learning\n",
        "from tensorflow.keras import models, layers, preprocessing as kprocessing\n",
        "from tensorflow.keras import backend as K\n",
        "## for bert language model\n",
        "#!pip install transformer\n",
        "#from transformer"
      ],
      "execution_count": 59,
      "outputs": [
        {
          "output_type": "stream",
          "text": [
            "Collecting lime\n",
            "\u001b[?25l  Downloading https://files.pythonhosted.org/packages/f5/86/91a13127d83d793ecb50eb75e716f76e6eda809b6803c5a4ff462339789e/lime-0.2.0.1.tar.gz (275kB)\n",
            "\u001b[K     |████████████████████████████████| 276kB 4.0MB/s \n",
            "\u001b[?25hRequirement already satisfied: matplotlib in /usr/local/lib/python3.7/dist-packages (from lime) (3.2.2)\n",
            "Requirement already satisfied: numpy in /usr/local/lib/python3.7/dist-packages (from lime) (1.19.5)\n",
            "Requirement already satisfied: scipy in /usr/local/lib/python3.7/dist-packages (from lime) (1.4.1)\n",
            "Requirement already satisfied: tqdm in /usr/local/lib/python3.7/dist-packages (from lime) (4.61.1)\n",
            "Requirement already satisfied: scikit-learn>=0.18 in /usr/local/lib/python3.7/dist-packages (from lime) (0.22.2.post1)\n",
            "Requirement already satisfied: scikit-image>=0.12 in /usr/local/lib/python3.7/dist-packages (from lime) (0.16.2)\n",
            "Requirement already satisfied: kiwisolver>=1.0.1 in /usr/local/lib/python3.7/dist-packages (from matplotlib->lime) (1.3.1)\n",
            "Requirement already satisfied: cycler>=0.10 in /usr/local/lib/python3.7/dist-packages (from matplotlib->lime) (0.10.0)\n",
            "Requirement already satisfied: python-dateutil>=2.1 in /usr/local/lib/python3.7/dist-packages (from matplotlib->lime) (2.8.1)\n",
            "Requirement already satisfied: pyparsing!=2.0.4,!=2.1.2,!=2.1.6,>=2.0.1 in /usr/local/lib/python3.7/dist-packages (from matplotlib->lime) (2.4.7)\n",
            "Requirement already satisfied: joblib>=0.11 in /usr/local/lib/python3.7/dist-packages (from scikit-learn>=0.18->lime) (1.0.1)\n",
            "Requirement already satisfied: imageio>=2.3.0 in /usr/local/lib/python3.7/dist-packages (from scikit-image>=0.12->lime) (2.4.1)\n",
            "Requirement already satisfied: networkx>=2.0 in /usr/local/lib/python3.7/dist-packages (from scikit-image>=0.12->lime) (2.5.1)\n",
            "Requirement already satisfied: pillow>=4.3.0 in /usr/local/lib/python3.7/dist-packages (from scikit-image>=0.12->lime) (7.1.2)\n",
            "Requirement already satisfied: PyWavelets>=0.4.0 in /usr/local/lib/python3.7/dist-packages (from scikit-image>=0.12->lime) (1.1.1)\n",
            "Requirement already satisfied: six in /usr/local/lib/python3.7/dist-packages (from cycler>=0.10->matplotlib->lime) (1.15.0)\n",
            "Requirement already satisfied: decorator<5,>=4.3 in /usr/local/lib/python3.7/dist-packages (from networkx>=2.0->scikit-image>=0.12->lime) (4.4.2)\n",
            "Building wheels for collected packages: lime\n",
            "  Building wheel for lime (setup.py) ... \u001b[?25l\u001b[?25hdone\n",
            "  Created wheel for lime: filename=lime-0.2.0.1-cp37-none-any.whl size=283858 sha256=2b8d8bc66187f815e95c4c9b7c73924f6861b8676cfcb274ff05acdaa20eed0a\n",
            "  Stored in directory: /root/.cache/pip/wheels/4c/4f/a5/0bc765457bd41378bf3ce8d17d7495369d6e7ca3b712c60c89\n",
            "Successfully built lime\n",
            "Installing collected packages: lime\n",
            "Successfully installed lime-0.2.0.1\n"
          ],
          "name": "stdout"
        }
      ]
    },
    {
      "cell_type": "markdown",
      "metadata": {
        "id": "iDR33jzfvipv"
      },
      "source": [
        "Take a look into the dataframe to ensure everything is okay"
      ]
    },
    {
      "cell_type": "code",
      "metadata": {
        "id": "YWuFMm9RIHjZ"
      },
      "source": [
        "azubi_df_mails_and_scored_combined"
      ],
      "execution_count": null,
      "outputs": []
    },
    {
      "cell_type": "code",
      "metadata": {
        "id": "iABfsxDK9SvI"
      },
      "source": [
        "azubi_df_mails_and_scored_combined.sample(5)"
      ],
      "execution_count": null,
      "outputs": []
    },
    {
      "cell_type": "markdown",
      "metadata": {
        "id": "aUBHcFrbGtGd"
      },
      "source": [
        "And now we remove stopwords"
      ]
    },
    {
      "cell_type": "code",
      "metadata": {
        "colab": {
          "base_uri": "https://localhost:8080/"
        },
        "id": "YcSESeuVEkSH",
        "outputId": "75bcf8d6-f383-4a23-c449-0f2ba7b758c7"
      },
      "source": [
        "azubi_df_mails_and_scored_combined = removeStopWordsSelectedColumns(azubi_df_mails_and_scored_combined,'Mails_Combined')"
      ],
      "execution_count": 62,
      "outputs": [
        {
          "output_type": "stream",
          "text": [
            "[nltk_data] Downloading package punkt to /root/nltk_data...\n",
            "[nltk_data]   Unzipping tokenizers/punkt.zip.\n",
            "[nltk_data] Downloading package stopwords to /root/nltk_data...\n",
            "[nltk_data]   Unzipping corpora/stopwords.zip.\n"
          ],
          "name": "stdout"
        }
      ]
    },
    {
      "cell_type": "markdown",
      "metadata": {
        "id": "Y4lyNlujHU7B"
      },
      "source": [
        "and take a look into the cleaned dataframe again"
      ]
    },
    {
      "cell_type": "code",
      "metadata": {
        "id": "SQT0amgWIQPr"
      },
      "source": [
        "azubi_df_mails_and_scored_combined"
      ],
      "execution_count": null,
      "outputs": []
    },
    {
      "cell_type": "code",
      "metadata": {
        "id": "nQd69X_gD_QA"
      },
      "source": [
        "azubi_df_mails_and_scored_combined.sample(5)"
      ],
      "execution_count": null,
      "outputs": []
    },
    {
      "cell_type": "markdown",
      "metadata": {
        "id": "S2NdVFnuvnbA"
      },
      "source": [
        "We want to make sure our data set is balanced. Which is not the case. Thus, we include weights lateron in the model. Here you can see the inbalance for this variable clearly."
      ]
    },
    {
      "cell_type": "code",
      "metadata": {
        "id": "BevGZsl-9WXD",
        "colab": {
          "base_uri": "https://localhost:8080/",
          "height": 294
        },
        "outputId": "af24af29-f714-4161-97a3-d848b31cf269"
      },
      "source": [
        "fig, ax = plt.subplots()\n",
        "fig.suptitle(\"count\", fontsize=12)\n",
        "azubi_df_mails_and_scored_combined[\"a4s_combined_i2b\"].reset_index().groupby(\"a4s_combined_i2b\").count().sort_values(by= \n",
        "       \"index\").plot(kind=\"barh\", legend=False, \n",
        "        ax=ax).grid(axis='x')\n",
        "plt.show()"
      ],
      "execution_count": 65,
      "outputs": [
        {
          "output_type": "display_data",
          "data": {
            "image/png": "[encoded data removed]",
            "text/plain": [
              "<Figure size 432x288 with 1 Axes>"
            ]
          },
          "metadata": {
            "tags": [],
            "image/png": {
              "width": 392,
              "height": 277
            },
            "needs_background": "light"
          }
        }
      ]
    },
    {
      "cell_type": "markdown",
      "metadata": {
        "id": "TeI5OUUJv0Lk"
      },
      "source": [
        "Lets split the data into a train and test set."
      ]
    },
    {
      "cell_type": "code",
      "metadata": {
        "id": "ACP3DkQh9ay6"
      },
      "source": [
        "## split dataset\n",
        "dtf_train, dtf_test = model_selection.train_test_split(azubi_df_cleaned_no_stopwords, test_size=0.3)## get target\n",
        "y_train = dtf_train[\"a4s_combined_i2b\"].values\n",
        "y_test = dtf_test[\"a4s_combined_i2b\"].values"
      ],
      "execution_count": 66,
      "outputs": []
    },
    {
      "cell_type": "markdown",
      "metadata": {
        "id": "o8PPmugt9-Ux"
      },
      "source": [
        "## word2vec"
      ]
    },
    {
      "cell_type": "markdown",
      "metadata": {
        "id": "v87T-zvAv3f7"
      },
      "source": [
        "Here we start with the word2vec after our data preprocessing. Download a already pretrained word2vc might take some time... if you like here are some facts about word2vec: \n",
        "\n",
        "*The word2vec tool takes a text corpus as input and produces the word vectors as output. It first constructs a vocabulary from the training text data and then learns vector representation of words. The resulting word vector file can be used as features in many natural language processing and machine learning applications.*\n",
        "\n",
        "(more info: https://code.google.com/archive/p/word2vec/)"
      ]
    },
    {
      "cell_type": "code",
      "metadata": {
        "id": "RrteU-xt-Cbm"
      },
      "source": [
        "# download word2vec takes 10 min\n",
        "#we could use this word2vec pretrained model by using this line of code, but instead we wanted to make a word2vec embedding with our own corpus, because word2vec wasn't trained with business mails\n",
        "# nlp = gensim_api.load(\"word2vec-google-news-300\") "
      ],
      "execution_count": 67,
      "outputs": []
    },
    {
      "cell_type": "markdown",
      "metadata": {
        "id": "z9vQrKNOwPqx"
      },
      "source": [
        "Lets use word2vec with our dataframe and create our own embeddings. We define unigrams  to determine intersting (rather polite or inpolite) word vectors. The functions we use are part of gensim, so this is also super easy."
      ]
    },
    {
      "cell_type": "code",
      "metadata": {
        "id": "4J7iw1d8-HHF"
      },
      "source": [
        "corpus =  dtf_train[\"Mails_Combined\"]\n",
        "## create list of lists of unigrams (#Sehr)\n",
        "lst_corpus = []\n",
        "for string in corpus:\n",
        "   lst_words = string.split()\n",
        "   lst_grams = [\" \".join(lst_words[i:i+1]) \n",
        "               for i in range(0, len(lst_words), 1)]\n",
        "   lst_corpus.append(lst_grams)\n",
        "## detect bigrams (#Sehr geehrter) and trigrams (#Sehr geehrte:r Herr:Frau)\n",
        "bigrams_detector = gensim.models.phrases.Phrases(lst_corpus, \n",
        "                 delimiter=\" \".encode(), min_count=5, threshold=10)\n",
        "bigrams_detector = gensim.models.phrases.Phraser(bigrams_detector)\n",
        "trigrams_detector = gensim.models.phrases.Phrases(bigrams_detector[lst_corpus], \n",
        "            delimiter=\" \".encode(), min_count=5, threshold=10)\n",
        "trigrams_detector = gensim.models.phrases.Phraser(trigrams_detector)\n",
        "\n"
      ],
      "execution_count": 68,
      "outputs": []
    },
    {
      "cell_type": "markdown",
      "metadata": {
        "id": "O2HC1uJbwgpT"
      },
      "source": [
        "This part is crucial. We determine the setup to create our word embeddings.\n",
        "- target size = size of the word vectors\n",
        "- window =  the maximum distance between a current and predicted word within a mail\n",
        "- sg = training algorithm. skip-grams (sg=1) is used as it was used in the tutorial and this should also in general lead to the best results in most cases\n",
        "- iter = number of iterations (10, 20, 30)"
      ]
    },
    {
      "cell_type": "code",
      "metadata": {
        "id": "0DeKTzAh-XU5"
      },
      "source": [
        "#word2vec setup\n",
        "#play with size=300, window = 8? mean lenght?\n",
        "# target size, mean length window of distance, and sgram 1: has proven robust \n",
        "nlp = gensim.models.word2vec.Word2Vec(lst_corpus, size=300,   \n",
        "            window=5, min_count=3, sg=1, iter=30)\n",
        "\n"
      ],
      "execution_count": 69,
      "outputs": []
    },
    {
      "cell_type": "markdown",
      "metadata": {
        "id": "JGC_PGASzfqb"
      },
      "source": [
        "How is our vector shaped? It is a 1dim array. Lets take a closer look:"
      ]
    },
    {
      "cell_type": "code",
      "metadata": {
        "id": "tvgZ7UMH-oGC",
        "outputId": "e970f850-b33b-40f9-b4a1-607af01af343",
        "colab": {
          "base_uri": "https://localhost:8080/"
        }
      },
      "source": [
        "word = \"freundlichen\"\n",
        "nlp[word].shape"
      ],
      "execution_count": 70,
      "outputs": [
        {
          "output_type": "stream",
          "text": [
            "/usr/local/lib/python3.7/dist-packages/ipykernel_launcher.py:2: DeprecationWarning: Call to deprecated `__getitem__` (Method will be removed in 4.0.0, use self.wv.__getitem__() instead).\n",
            "  \n"
          ],
          "name": "stderr"
        },
        {
          "output_type": "execute_result",
          "data": {
            "text/plain": [
              "(300,)"
            ]
          },
          "metadata": {
            "tags": []
          },
          "execution_count": 70
        }
      ]
    },
    {
      "cell_type": "markdown",
      "metadata": {
        "id": "Zle-LzZCzpAA"
      },
      "source": [
        "This is the vector for [word]. Cool Hmm? Test it for yourself if you like to play with..."
      ]
    },
    {
      "cell_type": "code",
      "metadata": {
        "id": "rR5dB8iRzL6O",
        "outputId": "6719eb07-77df-4dc7-8197-243d11833c36",
        "colab": {
          "base_uri": "https://localhost:8080/"
        }
      },
      "source": [
        "nlp[word]"
      ],
      "execution_count": 71,
      "outputs": [
        {
          "output_type": "stream",
          "text": [
            "/usr/local/lib/python3.7/dist-packages/ipykernel_launcher.py:1: DeprecationWarning: Call to deprecated `__getitem__` (Method will be removed in 4.0.0, use self.wv.__getitem__() instead).\n",
            "  \"\"\"Entry point for launching an IPython kernel.\n"
          ],
          "name": "stderr"
        },
        {
          "output_type": "execute_result",
          "data": {
            "text/plain": [
              "array([-0.32974005,  0.24775222,  0.24217816,  0.3293566 ,  0.24209847,\n",
              "       -0.29967928,  0.13505496,  0.08668644,  0.00209883,  0.02585483,\n",
              "       -0.53281   , -0.2314519 , -0.06544475, -0.13746592, -0.01674181,\n",
              "       -0.01295724, -0.44352245,  0.09913571,  0.10167756, -0.21858071,\n",
              "        0.25720322, -0.05878609, -0.21340653,  0.06600522,  0.17615917,\n",
              "       -0.3267261 , -0.01154289,  0.4444552 , -0.166082  , -0.30285788,\n",
              "       -0.45423558,  0.10661162,  0.07778329, -0.2698415 ,  0.10313307,\n",
              "       -0.34361508, -0.01333401, -0.15801936,  0.3445883 , -0.2493156 ,\n",
              "       -0.11365502,  0.16231313, -0.24130538,  0.05135682,  0.07491335,\n",
              "        0.05782755,  0.29817793,  0.12448044, -0.10545274, -0.24992578,\n",
              "       -0.28304136, -0.00395277, -0.18411793,  0.2314574 ,  0.0881696 ,\n",
              "        0.08299382,  0.20183372,  0.21053967, -0.35496944, -0.17676057,\n",
              "        0.10483285,  0.02562543, -0.22985621,  0.2780487 ,  0.08106878,\n",
              "        0.21204646, -0.21961136,  0.02565196, -0.38138327, -0.20327847,\n",
              "       -0.1729736 ,  0.09161845,  0.16128226,  0.03831654, -0.04672427,\n",
              "        0.21765323,  0.13010892,  0.15823682, -0.28616253,  0.10324145,\n",
              "       -0.3000473 ,  0.12462032,  0.1702721 , -0.22100525, -0.25390196,\n",
              "       -0.31440753,  0.15823276, -0.10631987, -0.14560354,  0.11749116,\n",
              "       -0.08198819, -0.05505958, -0.25060937,  0.18932204, -0.01233054,\n",
              "        0.08611691,  0.27284446,  0.15328482, -0.40215594, -0.2564198 ,\n",
              "       -0.01658205, -0.06861597, -0.01679835,  0.33358914,  0.23802401,\n",
              "        0.17051928, -0.13439207, -0.19731724,  0.29415086, -0.53353524,\n",
              "       -0.0233216 ,  0.24736296,  0.16142727, -0.43863937, -0.13580859,\n",
              "        0.24632604, -0.3692917 , -0.25030294, -0.14634132,  0.19253719,\n",
              "       -0.41887218, -0.04663393,  0.09037083, -0.17616613, -0.27358535,\n",
              "        0.20455898,  0.11259525, -0.19665422,  0.22312959, -0.0604464 ,\n",
              "       -0.07367159, -0.06255083, -0.23350179,  0.06781854, -0.42976978,\n",
              "        0.04634548,  0.42159063,  0.12082928, -0.21555142,  0.10289427,\n",
              "        0.5359304 , -0.00192202, -0.33979654,  0.24512726, -0.3930016 ,\n",
              "       -0.08323416, -0.42255688, -0.28052047, -0.00262137, -0.09600163,\n",
              "        0.4038423 ,  0.24064654, -0.05484176, -0.06981608,  0.09909406,\n",
              "        0.01137985,  0.21721114,  0.36789763, -0.02156975, -0.16180092,\n",
              "       -0.2287312 , -0.063631  ,  0.43330413,  0.26941544, -0.20010893,\n",
              "        0.08212683,  0.12556429, -0.3135401 ,  0.02424499,  0.1515282 ,\n",
              "        0.09299515, -0.50816506, -0.5478649 , -0.03890835, -0.16278754,\n",
              "       -0.27298185,  0.2451704 ,  0.00429457, -0.21889241, -0.10929184,\n",
              "        0.15073575, -0.27377042,  0.01347082, -0.54143476,  0.04882751,\n",
              "       -0.1524291 , -0.01458483,  0.39603028, -0.01455173,  0.21699888,\n",
              "        0.48148948, -0.17494893, -0.07160601, -0.5316411 ,  0.18291643,\n",
              "       -0.04595852,  0.06920519, -0.54774344,  0.14875096, -0.32662424,\n",
              "        0.3195396 , -0.2428136 , -0.0551804 , -0.18526644,  0.03347275,\n",
              "       -0.24780224,  0.35913226, -0.096195  , -0.27462295,  0.04282012,\n",
              "        0.11542267,  0.16707458,  0.14991818,  0.3952284 ,  0.03370684,\n",
              "       -0.15943241, -0.10312141, -0.02199775, -0.03424387, -0.40051132,\n",
              "        0.27014014, -0.27976033,  0.16859797, -0.35405847, -0.08253856,\n",
              "        0.17072996, -0.15489525,  0.12287029,  0.0746739 ,  0.2316354 ,\n",
              "        0.09689204,  0.4306039 ,  0.32939652, -0.44545183,  0.19866903,\n",
              "        0.23982361,  0.13526547, -0.2754583 ,  0.16084835,  0.1381878 ,\n",
              "       -0.12351669,  0.31502312,  0.21164797,  0.01493223, -0.06433538,\n",
              "        0.13145803,  0.2847649 ,  0.09537432,  0.18810438,  0.35261697,\n",
              "        0.02007845,  0.3580786 , -0.13557646,  0.15299049, -0.01815802,\n",
              "        0.09941131, -0.02127201,  0.00444539,  0.08224317, -0.259428  ,\n",
              "       -0.13752156, -0.03409968,  0.21701512,  0.13062026, -0.12117799,\n",
              "        0.06944791, -0.08196972,  0.05956181, -0.03528034, -0.28801122,\n",
              "        0.15227532,  0.33132917, -0.20046684, -0.03798043,  0.06253836,\n",
              "        0.00520414,  0.29166704, -0.27390978, -0.36788747, -0.16758531,\n",
              "        0.07440895,  0.06879401, -0.23575771, -0.04306836, -0.00869464,\n",
              "        0.31413156, -0.4635303 ,  0.04321922, -0.16282542,  0.00415628,\n",
              "       -0.03998874, -0.15135013,  0.287912  ,  0.19888467, -0.16012993,\n",
              "        0.07575904, -0.03592985,  0.08345448,  0.01728367,  0.28438702],\n",
              "      dtype=float32)"
            ]
          },
          "metadata": {
            "tags": []
          },
          "execution_count": 71
        }
      ]
    },
    {
      "cell_type": "markdown",
      "metadata": {
        "id": "9HtQcl3qzwcD"
      },
      "source": [
        "We can print this also in a *3d* space with related words..."
      ]
    },
    {
      "cell_type": "code",
      "metadata": {
        "id": "YRevGKcn00KO"
      },
      "source": [
        "word = word\n",
        "fig = plt.figure()## word embedding\n",
        "tot_words = [word] + [tupla[0] for tupla in \n",
        "                 nlp.most_similar(word, topn=20)]\n",
        "X = nlp[tot_words]## pca to reduce dimensionality from 300 to 3\n",
        "pca = manifold.TSNE(perplexity=40, n_components=3, init='pca')\n",
        "X = pca.fit_transform(X)## create dtf\n",
        "dtf_ = pd.DataFrame(X, index=tot_words, columns=[\"x\",\"y\",\"z\"])\n",
        "dtf_[\"input\"] = 0\n",
        "dtf_[\"input\"].iloc[0:1] = 1## plot 3d\n",
        "from mpl_toolkits.mplot3d import Axes3D\n",
        "ax = fig.add_subplot(111, projection='3d')\n",
        "ax.scatter(dtf_[dtf_[\"input\"]==0]['x'], \n",
        "           dtf_[dtf_[\"input\"]==0]['y'], \n",
        "           dtf_[dtf_[\"input\"]==0]['z'], c=\"black\")\n",
        "ax.scatter(dtf_[dtf_[\"input\"]==1]['x'], \n",
        "           dtf_[dtf_[\"input\"]==1]['y'], \n",
        "           dtf_[dtf_[\"input\"]==1]['z'], c=\"red\")\n",
        "ax.set(xlabel=None, ylabel=None, zlabel=None, xticklabels=[], \n",
        "       yticklabels=[], zticklabels=[])\n",
        "for label, row in dtf_[[\"x\",\"y\",\"z\"]].iterrows():\n",
        "    x, y, z = row\n",
        "    ax.text(x, y, z, s=label)"
      ],
      "execution_count": null,
      "outputs": []
    },
    {
      "cell_type": "markdown",
      "metadata": {
        "id": "qn3wMYrp-u5r"
      },
      "source": [
        "*note: maybe we can add here a download buttom to upload these files in this cool tensorflow showcase for word embeddings\n",
        "shortcoming: need to be lowercased, thus might not be appropriate to measure politeness in german, e.g. Sie vs. sie / Ihre vs ihre*"
      ]
    },
    {
      "cell_type": "markdown",
      "metadata": {
        "id": "DBaTS7m91h-8"
      },
      "source": [
        "Ok, lets use our embeddings by tokenizing, sequencing and padding our mails.\n"
      ]
    },
    {
      "cell_type": "code",
      "metadata": {
        "id": "ixp_Jlmn-6_P"
      },
      "source": [
        "## tokenize text\n",
        "tokenizer = kprocessing.text.Tokenizer(lower=False, split=' ', \n",
        "                     oov_token=\"NaN\", \n",
        "                     filters='!\"#$%&()*+,-./:;<=>?@[\\\\]^_`{|}~\\t\\n')\n",
        "tokenizer.fit_on_texts(lst_corpus)\n",
        "dic_vocabulary = tokenizer.word_index\n",
        "\n",
        "## create sequence\n",
        "lst_text2seq= tokenizer.texts_to_sequences(lst_corpus)\n",
        "\n",
        "## padding sequence\n",
        "X_train = kprocessing.sequence.pad_sequences(lst_text2seq, \n",
        "                    maxlen=150, padding=\"post\", truncating=\"post\") #need to think about maxlen"
      ],
      "execution_count": 73,
      "outputs": []
    },
    {
      "cell_type": "markdown",
      "metadata": {
        "id": "3iH87Hb31_nX"
      },
      "source": [
        "How does our features look like? We see here a feature map where we see that some mails contains more features (black) than others."
      ]
    },
    {
      "cell_type": "code",
      "metadata": {
        "id": "LIIO2aPi-9nY",
        "outputId": "ee44de3e-2287-483d-baaf-2b615fb71278",
        "colab": {
          "base_uri": "https://localhost:8080/",
          "height": 278
        }
      },
      "source": [
        "sns.heatmap(X_train==0, vmin=0, vmax=1, cbar=False)\n",
        "plt.show()\n",
        "#feature matrixy visual x * 120"
      ],
      "execution_count": 74,
      "outputs": [
        {
          "output_type": "display_data",
          "data": {
            "image/png": "[encoded data removed]",
            "text/plain": [
              "<Figure size 432x288 with 1 Axes>"
            ]
          },
          "metadata": {
            "tags": [],
            "image/png": {
              "width": 381,
              "height": 261
            },
            "needs_background": "light"
          }
        }
      ]
    },
    {
      "cell_type": "markdown",
      "metadata": {
        "id": "Mgp0iiC228Az"
      },
      "source": [
        "Lets see if this worked... you can again change the i value to whatever u like"
      ]
    },
    {
      "cell_type": "code",
      "metadata": {
        "id": "tG5mpsFK_Ast"
      },
      "source": [
        "i = 10\n",
        "\n",
        "# list of text: [\"I like this\", ...]\n",
        "len_txt = len(dtf_train[\"Mails_Combined\"].iloc[i].split())\n",
        "print(\"from: \", dtf_train[\"Mails_Combined\"].iloc[i], \"| len:\", len_txt)\n",
        "\n",
        "# sequence of token ids: [[1, 2, 3], ...]\n",
        "len_tokens = len(X_train[i])\n",
        "print(\"to: \", X_train[i], \"| len:\", len(X_train[i]))\n",
        "\n",
        "# vocabulary: {\"I\":1, \"like\":2, \"this\":3, ...}\n",
        "print(\"check: \", dtf_train[\"Mails_Combined\"].iloc[i].split()[0], \n",
        "      \" -- idx in vocabulary -->\",  \n",
        "      dic_vocabulary[dtf_train[\"Mails_Combined\"].iloc[i].split()[0]])\n",
        "\n",
        "print(\"vocabulary: \", dict(list(dic_vocabulary.items())[0:10]), \"... (padding element, 0)\")"
      ],
      "execution_count": null,
      "outputs": []
    },
    {
      "cell_type": "markdown",
      "metadata": {
        "id": "S9V4DZcK4574"
      },
      "source": [
        "We need to \"engineer\" the same features on the test set too!"
      ]
    },
    {
      "cell_type": "code",
      "metadata": {
        "id": "I6b_H1Lh_FOY"
      },
      "source": [
        "### do some engineering\n",
        "corpus = dtf_test[\"Mails_Combined\"]\n",
        "## create list of n-grams\n",
        "lst_corpus = []\n",
        "for string in corpus:\n",
        "    lst_words = string.split()\n",
        "    lst_grams = [\" \".join(lst_words[i:i+1]) for i in range(0, \n",
        "                 len(lst_words), 1)]\n",
        "    lst_corpus.append(lst_grams)\n",
        "    ## detect common bigrams and trigrams using the fitted detectors\n",
        "lst_corpus = list(bigrams_detector[lst_corpus])\n",
        "lst_corpus = list(trigrams_detector[lst_corpus])\n",
        "## text to sequence with the fitted tokenizer\n",
        "lst_text2seq = tokenizer.texts_to_sequences(lst_corpus)\n",
        "## padding sequence\n",
        "X_test = kprocessing.sequence.pad_sequences(lst_text2seq, \n",
        "                                            maxlen=150,\n",
        "             padding=\"post\", truncating=\"post\")"
      ],
      "execution_count": 76,
      "outputs": []
    },
    {
      "cell_type": "markdown",
      "metadata": {
        "id": "OxSJvtn25XvA"
      },
      "source": [
        "And now we create the matrix of embeddings that will be used as a weight matrix in the neural network classifier."
      ]
    },
    {
      "cell_type": "code",
      "metadata": {
        "id": "-lj7yHfD_Hvx",
        "outputId": "41b9b6d5-9d87-45db-95e1-bc220cb9e0b6",
        "colab": {
          "base_uri": "https://localhost:8080/"
        }
      },
      "source": [
        "## start the matrix (length of vocabulary x vector size) with all 0s\n",
        "embeddings = np.zeros((len(dic_vocabulary)+1, 300))\n",
        "\n",
        "for word,idx in dic_vocabulary.items():\n",
        "    ## update the row with vector\n",
        "    try:\n",
        "        embeddings[idx] =  nlp[word]\n",
        "    ## if word not in model then skip and the row stays all 0s\n",
        "    except:\n",
        "        pass"
      ],
      "execution_count": 77,
      "outputs": [
        {
          "output_type": "stream",
          "text": [
            "/usr/local/lib/python3.7/dist-packages/ipykernel_launcher.py:7: DeprecationWarning: Call to deprecated `__getitem__` (Method will be removed in 4.0.0, use self.wv.__getitem__() instead).\n",
            "  import sys\n"
          ],
          "name": "stderr"
        }
      ]
    },
    {
      "cell_type": "markdown",
      "metadata": {
        "id": "RX-n5b3W5u75"
      },
      "source": [
        "Just a final check to see if everything is all right"
      ]
    },
    {
      "cell_type": "code",
      "metadata": {
        "id": "N336OJ9B_K0K",
        "outputId": "8d69c5b7-24a2-40c2-c1c9-c0f20cd9f390",
        "colab": {
          "base_uri": "https://localhost:8080/"
        }
      },
      "source": [
        "word = \"freundlichen\"\n",
        "print(\"dic[word]:\", dic_vocabulary[word], \"|idx\")\n",
        "print(\"embeddings[idx]:\", embeddings[dic_vocabulary[word]].shape, \n",
        "      \"|vector\")"
      ],
      "execution_count": 78,
      "outputs": [
        {
          "output_type": "stream",
          "text": [
            "dic[word]: 8 |idx\n",
            "embeddings[idx]: (300,) |vector\n"
          ],
          "name": "stdout"
        }
      ]
    },
    {
      "cell_type": "markdown",
      "metadata": {
        "id": "VYrBu14c5_zB"
      },
      "source": [
        "Lets quickly measure the inbalance to get some class_weights"
      ]
    },
    {
      "cell_type": "code",
      "metadata": {
        "id": "jiQM9hi4Imw5",
        "outputId": "e1083ca0-192e-4389-f4c6-ad67ffd9940c",
        "colab": {
          "base_uri": "https://localhost:8080/"
        }
      },
      "source": [
        "# we need to fix our inbalanced dataset by using a balance function by sklearn\n",
        "from sklearn.utils import class_weight\n",
        "class_weights = class_weight.compute_class_weight('balanced',\n",
        "                                                 np.unique(y_train),\n",
        "                                                 y_train)\n",
        "class_weights"
      ],
      "execution_count": 79,
      "outputs": [
        {
          "output_type": "execute_result",
          "data": {
            "text/plain": [
              "array([6.95238095, 0.53874539])"
            ]
          },
          "metadata": {
            "tags": []
          },
          "execution_count": 79
        }
      ]
    },
    {
      "cell_type": "markdown",
      "metadata": {
        "id": "EUuehNOG55UJ"
      },
      "source": [
        "And now we define our model without an attention but an embedding layer. We use an embedding layer to include our embeddings as untrainable weights, and a small RNN with two bidirectional LSTM layers, a dense layer and an output layer with 2 neurons, and a softmax as activation function. (we use this model design, as it was sucessfully used in a similar task)."
      ]
    },
    {
      "cell_type": "code",
      "metadata": {
        "id": "X2pkOoLX_O-R",
        "outputId": "aebe32f4-3ac5-4344-cfa5-197e4e8fd315",
        "colab": {
          "base_uri": "https://localhost:8080/"
        }
      },
      "source": [
        "from tensorflow import keras\n",
        "\n",
        "## input\n",
        "x_in = layers.Input(shape=(150,))## embedding\n",
        "x = layers.Embedding(input_dim=embeddings.shape[0],  \n",
        "                     output_dim=embeddings.shape[1], \n",
        "                     weights=[embeddings],\n",
        "                     input_length=150, trainable=False)(x_in)\n",
        "## apply attention\n",
        "#x = attention_layer(x, neurons=150)\n",
        "## 2 layers of bidirectional lstm\n",
        "x = layers.Bidirectional(layers.LSTM(units=200, dropout=0.2, \n",
        "                         return_sequences=True))(x)\n",
        "x = layers.Bidirectional(layers.LSTM(units=200, dropout=0.2,\n",
        "                          return_sequences=False))(x)\n",
        "#x = layers.LSTM(units=100, dropout=0.2)(x)\n",
        "## final dense layers\n",
        "x = layers.Dense(64, activation='relu')(x)\n",
        "y_out = layers.Dense(2, activation='softmax')(x)\n",
        "#y_out = layers.Dense(1, activation='sigmoid')(x)## compile\n",
        "model = models.Model(x_in, y_out)\n",
        "\n",
        "opt = keras.optimizers.Adam(lr=1e-6)\n",
        "model.compile(loss='sparse_categorical_crossentropy',  # #binary_crossentropy \n",
        "              optimizer=opt, metrics=['accuracy'])\n",
        "\n",
        "model.summary()"
      ],
      "execution_count": 80,
      "outputs": [
        {
          "output_type": "stream",
          "text": [
            "Model: \"model\"\n",
            "_________________________________________________________________\n",
            "Layer (type)                 Output Shape              Param #   \n",
            "=================================================================\n",
            "input_1 (InputLayer)         [(None, 150)]             0         \n",
            "_________________________________________________________________\n",
            "embedding (Embedding)        (None, 150, 300)          3480900   \n",
            "_________________________________________________________________\n",
            "bidirectional (Bidirectional (None, 150, 400)          801600    \n",
            "_________________________________________________________________\n",
            "bidirectional_1 (Bidirection (None, 400)               961600    \n",
            "_________________________________________________________________\n",
            "dense (Dense)                (None, 64)                25664     \n",
            "_________________________________________________________________\n",
            "dense_1 (Dense)              (None, 2)                 130       \n",
            "=================================================================\n",
            "Total params: 5,269,894\n",
            "Trainable params: 1,788,994\n",
            "Non-trainable params: 3,480,900\n",
            "_________________________________________________________________\n"
          ],
          "name": "stdout"
        },
        {
          "output_type": "stream",
          "text": [
            "/usr/local/lib/python3.7/dist-packages/tensorflow/python/keras/optimizer_v2/optimizer_v2.py:375: UserWarning: The `lr` argument is deprecated, use `learning_rate` instead.\n",
            "  \"The `lr` argument is deprecated, use `learning_rate` instead.\")\n"
          ],
          "name": "stderr"
        }
      ]
    },
    {
      "cell_type": "code",
      "metadata": {
        "id": "Tgt2sVYW_S_W",
        "outputId": "fa954974-983e-4170-9ff6-8347ddc76a46",
        "colab": {
          "base_uri": "https://localhost:8080/",
          "height": 1000
        }
      },
      "source": [
        "## encode y\n",
        "dic_y_mapping = {n:label for n,label in \n",
        "                 enumerate(np.unique(y_train))}\n",
        "inverse_dic = {v:k for k,v in dic_y_mapping.items()}\n",
        "y_train = np.array([inverse_dic[y] for y in y_train])\n",
        "\n",
        "## train\n",
        "training = model.fit(x=X_train, y=y_train, batch_size=64, \n",
        "                     epochs=50, shuffle=True, verbose=2, \n",
        "                     validation_split=0.2, class_weight={0:7, 1:0.5}) #0:14, 1:1\n",
        "\n",
        "## plot loss and accuracy\n",
        "metrics = [k for k in training.history.keys() if (\"loss\" not in k) and (\"val\" not in k)]\n",
        "fig, ax = plt.subplots(nrows=1, ncols=2, sharey=True)\n",
        "\n",
        "ax[0].set(title=\"Training\")\n",
        "ax11 = ax[0].twinx()\n",
        "ax[0].plot(training.history['loss'], color='black')\n",
        "ax[0].set_xlabel('Epochs')\n",
        "ax[0].set_ylabel('Loss', color='black')\n",
        "for metric in metrics:\n",
        "    ax11.plot(training.history[metric], label=metric)\n",
        "ax11.set_ylabel(\"Score\", color='steelblue')\n",
        "ax11.legend()\n",
        "ax[1].set(title=\"Validation\")\n",
        "ax22 = ax[1].twinx()\n",
        "\n",
        "ax[1].plot(training.history['val_loss'], color='black')\n",
        "ax[1].set_xlabel('Epochs')\n",
        "ax[1].set_ylabel('Loss', color='black')\n",
        "for metric in metrics:\n",
        "     ax22.plot(training.history['val_'+metric], label=metric)\n",
        "ax22.set_ylabel(\"Score\", color=\"steelblue\")\n",
        "plt.show()\n",
        "\n"
      ],
      "execution_count": 81,
      "outputs": [
        {
          "output_type": "stream",
          "text": [
            "WARNING:tensorflow:From /usr/local/lib/python3.7/dist-packages/tensorflow/python/ops/array_ops.py:5049: calling gather (from tensorflow.python.ops.array_ops) with validate_indices is deprecated and will be removed in a future version.\n",
            "Instructions for updating:\n",
            "The `validate_indices` argument has no effect. Indices are always validated on CPU and never validated on GPU.\n",
            "Epoch 1/50\n",
            "19/19 - 13s - loss: 0.6339 - accuracy: 0.2825 - val_loss: 0.7022 - val_accuracy: 0.3185\n",
            "Epoch 2/50\n",
            "19/19 - 1s - loss: 0.6343 - accuracy: 0.3399 - val_loss: 0.6986 - val_accuracy: 0.3904\n",
            "Epoch 3/50\n",
            "19/19 - 1s - loss: 0.6316 - accuracy: 0.4187 - val_loss: 0.6944 - val_accuracy: 0.4897\n",
            "Epoch 4/50\n",
            "19/19 - 1s - loss: 0.6317 - accuracy: 0.4820 - val_loss: 0.6915 - val_accuracy: 0.5377\n",
            "Epoch 5/50\n",
            "19/19 - 1s - loss: 0.6306 - accuracy: 0.5788 - val_loss: 0.6878 - val_accuracy: 0.6267\n",
            "Epoch 6/50\n",
            "19/19 - 1s - loss: 0.6302 - accuracy: 0.6396 - val_loss: 0.6838 - val_accuracy: 0.6918\n",
            "Epoch 7/50\n",
            "19/19 - 1s - loss: 0.6275 - accuracy: 0.6798 - val_loss: 0.6810 - val_accuracy: 0.7329\n",
            "Epoch 8/50\n",
            "19/19 - 1s - loss: 0.6270 - accuracy: 0.7457 - val_loss: 0.6772 - val_accuracy: 0.7911\n",
            "Epoch 9/50\n",
            "19/19 - 1s - loss: 0.6261 - accuracy: 0.7783 - val_loss: 0.6735 - val_accuracy: 0.8322\n",
            "Epoch 10/50\n",
            "19/19 - 1s - loss: 0.6255 - accuracy: 0.8236 - val_loss: 0.6697 - val_accuracy: 0.8562\n",
            "Epoch 11/50\n",
            "19/19 - 1s - loss: 0.6241 - accuracy: 0.8553 - val_loss: 0.6666 - val_accuracy: 0.8630\n",
            "Epoch 12/50\n",
            "19/19 - 1s - loss: 0.6226 - accuracy: 0.8801 - val_loss: 0.6634 - val_accuracy: 0.8836\n",
            "Epoch 13/50\n",
            "19/19 - 1s - loss: 0.6218 - accuracy: 0.8870 - val_loss: 0.6600 - val_accuracy: 0.8836\n",
            "Epoch 14/50\n",
            "19/19 - 1s - loss: 0.6214 - accuracy: 0.9084 - val_loss: 0.6565 - val_accuracy: 0.8836\n",
            "Epoch 15/50\n",
            "19/19 - 1s - loss: 0.6203 - accuracy: 0.9212 - val_loss: 0.6534 - val_accuracy: 0.8836\n",
            "Epoch 16/50\n",
            "19/19 - 1s - loss: 0.6198 - accuracy: 0.9229 - val_loss: 0.6506 - val_accuracy: 0.8870\n",
            "Epoch 17/50\n",
            "19/19 - 1s - loss: 0.6186 - accuracy: 0.9238 - val_loss: 0.6475 - val_accuracy: 0.8904\n",
            "Epoch 18/50\n",
            "19/19 - 1s - loss: 0.6177 - accuracy: 0.9366 - val_loss: 0.6442 - val_accuracy: 0.8973\n",
            "Epoch 19/50\n",
            "19/19 - 1s - loss: 0.6163 - accuracy: 0.9392 - val_loss: 0.6415 - val_accuracy: 0.8973\n",
            "Epoch 20/50\n",
            "19/19 - 1s - loss: 0.6168 - accuracy: 0.9426 - val_loss: 0.6383 - val_accuracy: 0.8973\n",
            "Epoch 21/50\n",
            "19/19 - 1s - loss: 0.6158 - accuracy: 0.9461 - val_loss: 0.6354 - val_accuracy: 0.9007\n",
            "Epoch 22/50\n",
            "19/19 - 1s - loss: 0.6143 - accuracy: 0.9426 - val_loss: 0.6326 - val_accuracy: 0.9041\n",
            "Epoch 23/50\n",
            "19/19 - 1s - loss: 0.6140 - accuracy: 0.9426 - val_loss: 0.6300 - val_accuracy: 0.9041\n",
            "Epoch 24/50\n",
            "19/19 - 1s - loss: 0.6127 - accuracy: 0.9384 - val_loss: 0.6273 - val_accuracy: 0.9007\n",
            "Epoch 25/50\n",
            "19/19 - 1s - loss: 0.6130 - accuracy: 0.9409 - val_loss: 0.6244 - val_accuracy: 0.8973\n",
            "Epoch 26/50\n",
            "19/19 - 1s - loss: 0.6112 - accuracy: 0.9443 - val_loss: 0.6217 - val_accuracy: 0.8973\n",
            "Epoch 27/50\n",
            "19/19 - 1s - loss: 0.6109 - accuracy: 0.9478 - val_loss: 0.6193 - val_accuracy: 0.9007\n",
            "Epoch 28/50\n",
            "19/19 - 1s - loss: 0.6093 - accuracy: 0.9512 - val_loss: 0.6173 - val_accuracy: 0.9007\n",
            "Epoch 29/50\n",
            "19/19 - 1s - loss: 0.6086 - accuracy: 0.9443 - val_loss: 0.6145 - val_accuracy: 0.9007\n",
            "Epoch 30/50\n",
            "19/19 - 1s - loss: 0.6084 - accuracy: 0.9478 - val_loss: 0.6120 - val_accuracy: 0.9007\n",
            "Epoch 31/50\n",
            "19/19 - 1s - loss: 0.6085 - accuracy: 0.9486 - val_loss: 0.6096 - val_accuracy: 0.9007\n",
            "Epoch 32/50\n",
            "19/19 - 1s - loss: 0.6073 - accuracy: 0.9495 - val_loss: 0.6077 - val_accuracy: 0.9007\n",
            "Epoch 33/50\n",
            "19/19 - 1s - loss: 0.6061 - accuracy: 0.9469 - val_loss: 0.6050 - val_accuracy: 0.9007\n",
            "Epoch 34/50\n",
            "19/19 - 1s - loss: 0.6061 - accuracy: 0.9478 - val_loss: 0.6024 - val_accuracy: 0.9041\n",
            "Epoch 35/50\n",
            "19/19 - 1s - loss: 0.6054 - accuracy: 0.9495 - val_loss: 0.6001 - val_accuracy: 0.9041\n",
            "Epoch 36/50\n",
            "19/19 - 1s - loss: 0.6033 - accuracy: 0.9495 - val_loss: 0.5973 - val_accuracy: 0.9041\n",
            "Epoch 37/50\n",
            "19/19 - 1s - loss: 0.6041 - accuracy: 0.9469 - val_loss: 0.5949 - val_accuracy: 0.9041\n",
            "Epoch 38/50\n",
            "19/19 - 1s - loss: 0.6017 - accuracy: 0.9486 - val_loss: 0.5928 - val_accuracy: 0.9041\n",
            "Epoch 39/50\n",
            "19/19 - 1s - loss: 0.6024 - accuracy: 0.9461 - val_loss: 0.5905 - val_accuracy: 0.9041\n",
            "Epoch 40/50\n",
            "19/19 - 1s - loss: 0.6023 - accuracy: 0.9478 - val_loss: 0.5880 - val_accuracy: 0.9041\n",
            "Epoch 41/50\n",
            "19/19 - 1s - loss: 0.6001 - accuracy: 0.9478 - val_loss: 0.5857 - val_accuracy: 0.9110\n",
            "Epoch 42/50\n",
            "19/19 - 1s - loss: 0.6001 - accuracy: 0.9495 - val_loss: 0.5832 - val_accuracy: 0.9110\n",
            "Epoch 43/50\n",
            "19/19 - 1s - loss: 0.5989 - accuracy: 0.9495 - val_loss: 0.5810 - val_accuracy: 0.9110\n",
            "Epoch 44/50\n",
            "19/19 - 1s - loss: 0.5989 - accuracy: 0.9486 - val_loss: 0.5798 - val_accuracy: 0.9110\n",
            "Epoch 45/50\n",
            "19/19 - 1s - loss: 0.5989 - accuracy: 0.9486 - val_loss: 0.5773 - val_accuracy: 0.9110\n",
            "Epoch 46/50\n",
            "19/19 - 1s - loss: 0.5973 - accuracy: 0.9443 - val_loss: 0.5750 - val_accuracy: 0.9110\n",
            "Epoch 47/50\n",
            "19/19 - 1s - loss: 0.5970 - accuracy: 0.9495 - val_loss: 0.5732 - val_accuracy: 0.9110\n",
            "Epoch 48/50\n",
            "19/19 - 1s - loss: 0.5969 - accuracy: 0.9486 - val_loss: 0.5715 - val_accuracy: 0.9110\n",
            "Epoch 49/50\n",
            "19/19 - 1s - loss: 0.5947 - accuracy: 0.9486 - val_loss: 0.5689 - val_accuracy: 0.9110\n",
            "Epoch 50/50\n",
            "19/19 - 1s - loss: 0.5957 - accuracy: 0.9486 - val_loss: 0.5677 - val_accuracy: 0.9110\n"
          ],
          "name": "stdout"
        },
        {
          "output_type": "display_data",
          "data": {
            "image/png": "[encoded data removed]",
            "text/plain": [
              "<Figure size 432x288 with 4 Axes>"
            ]
          },
          "metadata": {
            "tags": [],
            "image/png": {
              "width": 428,
              "height": 277
            },
            "needs_background": "light"
          }
        }
      ]
    },
    {
      "cell_type": "markdown",
      "metadata": {
        "id": "mqmrfGm9MVup"
      },
      "source": [
        "Lets see if this works"
      ]
    },
    {
      "cell_type": "code",
      "metadata": {
        "id": "w4YAKP7SiELk"
      },
      "source": [
        "def showModelPerformance(history, string):\n",
        "    plt.plot(history.history[string])\n",
        "    plt.plot(history.history['val_'+string])\n",
        "    plt.xlabel(\"Epochs\")\n",
        "    plt.ylabel(string)\n",
        "    plt.title('Model')\n",
        "    plt.legend([string, 'val_'+string])\n",
        "    plt.show()\n",
        "    \n",
        "    return"
      ],
      "execution_count": 82,
      "outputs": []
    },
    {
      "cell_type": "code",
      "metadata": {
        "id": "bqtu_dH2iGdh",
        "outputId": "b83d93a4-1959-4985-ac13-4e6062176759",
        "colab": {
          "base_uri": "https://localhost:8080/",
          "height": 294
        }
      },
      "source": [
        "showModelPerformance(training, \"loss\")"
      ],
      "execution_count": 83,
      "outputs": [
        {
          "output_type": "display_data",
          "data": {
            "image/png": "[encoded data removed]",
            "text/plain": [
              "<Figure size 432x288 with 1 Axes>"
            ]
          },
          "metadata": {
            "tags": [],
            "image/png": {
              "width": 392,
              "height": 277
            },
            "needs_background": "light"
          }
        }
      ]
    },
    {
      "cell_type": "code",
      "metadata": {
        "id": "ljmtRQHymTCH"
      },
      "source": [
        "predictions=model.predict(X_test)"
      ],
      "execution_count": 84,
      "outputs": []
    },
    {
      "cell_type": "code",
      "metadata": {
        "id": "Lu_OwoCwnhbf"
      },
      "source": [
        "import sys\n",
        "np.set_printoptions(threshold=sys.maxsize)"
      ],
      "execution_count": 85,
      "outputs": []
    },
    {
      "cell_type": "code",
      "metadata": {
        "id": "anyzupprmYbK",
        "outputId": "942b2659-619d-4879-fff2-6bdcbc6c663c",
        "colab": {
          "base_uri": "https://localhost:8080/"
        }
      },
      "source": [
        "predictions"
      ],
      "execution_count": 86,
      "outputs": [
        {
          "output_type": "execute_result",
          "data": {
            "text/plain": [
              "array([[0.47862685, 0.52137315],\n",
              "       [0.4666333 , 0.5333667 ],\n",
              "       [0.4651865 , 0.5348135 ],\n",
              "       [0.48726958, 0.5127304 ],\n",
              "       [0.49207658, 0.5079234 ],\n",
              "       [0.4838612 , 0.5161388 ],\n",
              "       [0.49267384, 0.5073261 ],\n",
              "       [0.46132255, 0.5386774 ],\n",
              "       [0.47754702, 0.52245295],\n",
              "       [0.46986604, 0.5301339 ],\n",
              "       [0.4574733 , 0.54252666],\n",
              "       [0.47396845, 0.5260316 ],\n",
              "       [0.4846194 , 0.51538056],\n",
              "       [0.4462578 , 0.55374223],\n",
              "       [0.4718064 , 0.5281936 ],\n",
              "       [0.49943864, 0.50056136],\n",
              "       [0.5166654 , 0.48333463],\n",
              "       [0.4975622 , 0.5024378 ],\n",
              "       [0.482822  , 0.51717794],\n",
              "       [0.4913916 , 0.50860834],\n",
              "       [0.47699943, 0.5230006 ],\n",
              "       [0.50390875, 0.49609128],\n",
              "       [0.49135056, 0.50864947],\n",
              "       [0.47782794, 0.5221721 ],\n",
              "       [0.48530883, 0.5146912 ],\n",
              "       [0.47541648, 0.5245835 ],\n",
              "       [0.4587849 , 0.5412151 ],\n",
              "       [0.49431083, 0.50568914],\n",
              "       [0.4949606 , 0.50503945],\n",
              "       [0.4643368 , 0.5356631 ],\n",
              "       [0.49787757, 0.50212246],\n",
              "       [0.49187708, 0.5081229 ],\n",
              "       [0.48956808, 0.51043195],\n",
              "       [0.48963046, 0.51036954],\n",
              "       [0.47612876, 0.52387124],\n",
              "       [0.4940923 , 0.5059077 ],\n",
              "       [0.44191355, 0.5580865 ],\n",
              "       [0.49036488, 0.5096351 ],\n",
              "       [0.5003298 , 0.49967024],\n",
              "       [0.48364088, 0.5163591 ],\n",
              "       [0.48466894, 0.5153311 ],\n",
              "       [0.47674534, 0.5232547 ],\n",
              "       [0.48052794, 0.51947206],\n",
              "       [0.48199433, 0.51800567],\n",
              "       [0.47693914, 0.52306086],\n",
              "       [0.45858634, 0.54141366],\n",
              "       [0.49755466, 0.50244534],\n",
              "       [0.4575622 , 0.54243785],\n",
              "       [0.5099238 , 0.4900762 ],\n",
              "       [0.49069515, 0.5093049 ],\n",
              "       [0.473123  , 0.526877  ],\n",
              "       [0.49349266, 0.50650734],\n",
              "       [0.4622746 , 0.53772545],\n",
              "       [0.48774216, 0.5122579 ],\n",
              "       [0.46668962, 0.53331035],\n",
              "       [0.49877617, 0.50122386],\n",
              "       [0.48785636, 0.5121436 ],\n",
              "       [0.4925855 , 0.5074145 ],\n",
              "       [0.4761734 , 0.52382666],\n",
              "       [0.5035384 , 0.49646157],\n",
              "       [0.4648063 , 0.5351937 ],\n",
              "       [0.4353497 , 0.5646503 ],\n",
              "       [0.46823576, 0.53176427],\n",
              "       [0.48327565, 0.51672435],\n",
              "       [0.46392816, 0.53607184],\n",
              "       [0.4974668 , 0.5025332 ],\n",
              "       [0.45823735, 0.54176265],\n",
              "       [0.49583387, 0.5041662 ],\n",
              "       [0.45321476, 0.5467852 ],\n",
              "       [0.44448876, 0.5555113 ],\n",
              "       [0.50027883, 0.4997212 ],\n",
              "       [0.49972484, 0.5002752 ],\n",
              "       [0.4742012 , 0.5257988 ],\n",
              "       [0.50053203, 0.49946794],\n",
              "       [0.46960747, 0.53039247],\n",
              "       [0.4725942 , 0.5274058 ],\n",
              "       [0.509674  , 0.490326  ],\n",
              "       [0.47538617, 0.52461386],\n",
              "       [0.49084768, 0.50915235],\n",
              "       [0.45809218, 0.5419078 ],\n",
              "       [0.47975248, 0.5202475 ],\n",
              "       [0.47533357, 0.5246664 ],\n",
              "       [0.512027  , 0.48797303],\n",
              "       [0.44385928, 0.5561408 ],\n",
              "       [0.44311005, 0.55688995],\n",
              "       [0.47314963, 0.5268504 ],\n",
              "       [0.498705  , 0.50129503],\n",
              "       [0.4375788 , 0.5624212 ],\n",
              "       [0.49630383, 0.50369614],\n",
              "       [0.45508468, 0.5449153 ],\n",
              "       [0.4524404 , 0.5475596 ],\n",
              "       [0.44685122, 0.55314875],\n",
              "       [0.48425084, 0.51574916],\n",
              "       [0.48963213, 0.5103679 ],\n",
              "       [0.49335757, 0.50664246],\n",
              "       [0.47560093, 0.5243991 ],\n",
              "       [0.5237481 , 0.4762519 ],\n",
              "       [0.48131394, 0.51868606],\n",
              "       [0.48854956, 0.5114504 ],\n",
              "       [0.4590002 , 0.54099977],\n",
              "       [0.47002575, 0.5299742 ],\n",
              "       [0.47317523, 0.5268247 ],\n",
              "       [0.45986968, 0.5401304 ],\n",
              "       [0.4546298 , 0.5453702 ],\n",
              "       [0.45134264, 0.54865736],\n",
              "       [0.4533189 , 0.54668117],\n",
              "       [0.4716241 , 0.5283759 ],\n",
              "       [0.48467723, 0.5153228 ],\n",
              "       [0.46772873, 0.53227127],\n",
              "       [0.49482507, 0.50517493],\n",
              "       [0.45630908, 0.5436909 ],\n",
              "       [0.4865148 , 0.5134852 ],\n",
              "       [0.4901033 , 0.50989676],\n",
              "       [0.48874134, 0.51125866],\n",
              "       [0.4967204 , 0.5032796 ],\n",
              "       [0.47927704, 0.520723  ],\n",
              "       [0.486317  , 0.51368296],\n",
              "       [0.48756215, 0.5124378 ],\n",
              "       [0.4909074 , 0.5090926 ],\n",
              "       [0.485836  , 0.51416403],\n",
              "       [0.50351083, 0.49648917],\n",
              "       [0.45907947, 0.54092056],\n",
              "       [0.47516844, 0.52483153],\n",
              "       [0.50951207, 0.49048793],\n",
              "       [0.50049704, 0.4995029 ],\n",
              "       [0.49533147, 0.5046686 ],\n",
              "       [0.5027825 , 0.49721745],\n",
              "       [0.47455123, 0.5254488 ],\n",
              "       [0.45653877, 0.54346126],\n",
              "       [0.50526977, 0.49473026],\n",
              "       [0.50767535, 0.49232462],\n",
              "       [0.48009318, 0.5199068 ],\n",
              "       [0.48113188, 0.5188681 ],\n",
              "       [0.46125078, 0.5387492 ],\n",
              "       [0.49905637, 0.5009436 ],\n",
              "       [0.47021776, 0.52978224],\n",
              "       [0.49217895, 0.507821  ],\n",
              "       [0.45825198, 0.54174805],\n",
              "       [0.4685166 , 0.5314834 ],\n",
              "       [0.46955976, 0.5304403 ],\n",
              "       [0.48802936, 0.51197064],\n",
              "       [0.440196  , 0.559804  ],\n",
              "       [0.4642406 , 0.5357593 ],\n",
              "       [0.4887647 , 0.51123536],\n",
              "       [0.4441684 , 0.5558317 ],\n",
              "       [0.4724175 , 0.52758247],\n",
              "       [0.50279546, 0.4972045 ],\n",
              "       [0.4782249 , 0.5217751 ],\n",
              "       [0.49460217, 0.50539786],\n",
              "       [0.47921905, 0.520781  ],\n",
              "       [0.50099206, 0.49900797],\n",
              "       [0.46519005, 0.53480995],\n",
              "       [0.47320202, 0.526798  ],\n",
              "       [0.49093017, 0.50906986],\n",
              "       [0.4610235 , 0.53897643],\n",
              "       [0.4948216 , 0.50517845],\n",
              "       [0.49521416, 0.50478584],\n",
              "       [0.49002108, 0.5099789 ],\n",
              "       [0.48979577, 0.5102042 ],\n",
              "       [0.48821273, 0.5117873 ],\n",
              "       [0.48216522, 0.5178347 ],\n",
              "       [0.501486  , 0.498514  ],\n",
              "       [0.467325  , 0.532675  ],\n",
              "       [0.4837327 , 0.51626736],\n",
              "       [0.4617843 , 0.5382157 ],\n",
              "       [0.47556078, 0.5244392 ],\n",
              "       [0.4618789 , 0.5381211 ],\n",
              "       [0.49172145, 0.50827855],\n",
              "       [0.48929277, 0.51070726],\n",
              "       [0.4707321 , 0.52926797],\n",
              "       [0.4413586 , 0.55864143],\n",
              "       [0.5057485 , 0.4942515 ],\n",
              "       [0.47376177, 0.52623826],\n",
              "       [0.46812567, 0.5318743 ],\n",
              "       [0.4871661 , 0.5128339 ],\n",
              "       [0.4780785 , 0.52192146],\n",
              "       [0.4683991 , 0.5316009 ],\n",
              "       [0.5223056 , 0.47769442],\n",
              "       [0.49877563, 0.5012244 ],\n",
              "       [0.49321976, 0.5067802 ],\n",
              "       [0.50086784, 0.49913216],\n",
              "       [0.5291313 , 0.4708687 ],\n",
              "       [0.47290796, 0.52709204],\n",
              "       [0.48053917, 0.5194608 ],\n",
              "       [0.48976034, 0.51023966],\n",
              "       [0.48324347, 0.51675653],\n",
              "       [0.47858804, 0.52141196],\n",
              "       [0.4459781 , 0.5540219 ],\n",
              "       [0.50784785, 0.49215215],\n",
              "       [0.47276086, 0.52723914],\n",
              "       [0.4808158 , 0.5191842 ],\n",
              "       [0.49476683, 0.5052331 ],\n",
              "       [0.48892415, 0.51107585],\n",
              "       [0.48772737, 0.5122726 ],\n",
              "       [0.49011773, 0.5098822 ],\n",
              "       [0.48539668, 0.5146033 ],\n",
              "       [0.4570313 , 0.5429687 ],\n",
              "       [0.42152733, 0.5784727 ],\n",
              "       [0.4700092 , 0.5299908 ],\n",
              "       [0.48506966, 0.5149303 ],\n",
              "       [0.4922432 , 0.5077568 ],\n",
              "       [0.45718643, 0.5428136 ],\n",
              "       [0.50188726, 0.49811277],\n",
              "       [0.49531022, 0.5046898 ],\n",
              "       [0.4830548 , 0.5169452 ],\n",
              "       [0.4757105 , 0.5242895 ],\n",
              "       [0.47680935, 0.5231907 ],\n",
              "       [0.47098222, 0.5290178 ],\n",
              "       [0.49629626, 0.5037038 ],\n",
              "       [0.47509757, 0.5249024 ],\n",
              "       [0.49482223, 0.50517774],\n",
              "       [0.47923774, 0.5207623 ],\n",
              "       [0.45509756, 0.5449024 ],\n",
              "       [0.4854894 , 0.5145106 ],\n",
              "       [0.48960987, 0.51039016],\n",
              "       [0.47734937, 0.5226506 ],\n",
              "       [0.4627118 , 0.5372882 ],\n",
              "       [0.44658598, 0.55341405],\n",
              "       [0.49222544, 0.5077746 ],\n",
              "       [0.4929781 , 0.5070219 ],\n",
              "       [0.47088477, 0.52911526],\n",
              "       [0.44805917, 0.55194086],\n",
              "       [0.49189118, 0.5081088 ],\n",
              "       [0.48493823, 0.51506174],\n",
              "       [0.46155635, 0.5384437 ],\n",
              "       [0.47167474, 0.52832526],\n",
              "       [0.51064533, 0.48935467],\n",
              "       [0.48292625, 0.51707375],\n",
              "       [0.5108645 , 0.48913544],\n",
              "       [0.5122963 , 0.4877037 ],\n",
              "       [0.49306032, 0.50693965],\n",
              "       [0.47571832, 0.5242817 ],\n",
              "       [0.4729465 , 0.52705353],\n",
              "       [0.46794724, 0.53205276],\n",
              "       [0.47686723, 0.5231328 ],\n",
              "       [0.4795591 , 0.5204409 ],\n",
              "       [0.5141703 , 0.48582968],\n",
              "       [0.50738674, 0.4926133 ],\n",
              "       [0.48265308, 0.5173469 ],\n",
              "       [0.5003728 , 0.49962723],\n",
              "       [0.46178555, 0.53821445],\n",
              "       [0.46057814, 0.53942186],\n",
              "       [0.47669056, 0.52330947],\n",
              "       [0.48913282, 0.5108671 ],\n",
              "       [0.49195433, 0.50804573],\n",
              "       [0.47814545, 0.5218546 ],\n",
              "       [0.4456305 , 0.5543695 ],\n",
              "       [0.47073308, 0.5292669 ],\n",
              "       [0.4847366 , 0.51526344],\n",
              "       [0.48956704, 0.510433  ],\n",
              "       [0.45800918, 0.5419908 ],\n",
              "       [0.43668267, 0.5633173 ],\n",
              "       [0.47460148, 0.5253985 ],\n",
              "       [0.4967508 , 0.5032492 ],\n",
              "       [0.46461198, 0.535388  ],\n",
              "       [0.46805757, 0.5319424 ],\n",
              "       [0.45651412, 0.5434859 ],\n",
              "       [0.4677628 , 0.5322372 ],\n",
              "       [0.50998724, 0.49001274],\n",
              "       [0.4815353 , 0.5184647 ],\n",
              "       [0.4723406 , 0.52765936],\n",
              "       [0.47366893, 0.52633107],\n",
              "       [0.5018175 , 0.49818242],\n",
              "       [0.49792075, 0.50207925],\n",
              "       [0.514084  , 0.48591596],\n",
              "       [0.47172454, 0.52827543],\n",
              "       [0.5132111 , 0.486789  ],\n",
              "       [0.4728107 , 0.5271893 ],\n",
              "       [0.50688154, 0.49311846],\n",
              "       [0.4712969 , 0.52870315],\n",
              "       [0.47974887, 0.5202511 ],\n",
              "       [0.51039547, 0.48960456],\n",
              "       [0.48622096, 0.51377904],\n",
              "       [0.48673806, 0.513262  ],\n",
              "       [0.48266125, 0.51733875],\n",
              "       [0.48722506, 0.512775  ],\n",
              "       [0.46471238, 0.5352876 ],\n",
              "       [0.46771032, 0.5322897 ],\n",
              "       [0.5025626 , 0.49743745],\n",
              "       [0.49742436, 0.5025756 ],\n",
              "       [0.48410565, 0.5158944 ],\n",
              "       [0.47944817, 0.52055186],\n",
              "       [0.45401996, 0.54598   ],\n",
              "       [0.46448982, 0.53551024],\n",
              "       [0.46224385, 0.53775615],\n",
              "       [0.5071445 , 0.49285555],\n",
              "       [0.4781092 , 0.5218908 ],\n",
              "       [0.46129954, 0.53870046],\n",
              "       [0.468437  , 0.53156304],\n",
              "       [0.48411882, 0.5158812 ],\n",
              "       [0.46904275, 0.5309573 ],\n",
              "       [0.4834002 , 0.5165998 ],\n",
              "       [0.5039305 , 0.4960695 ],\n",
              "       [0.48461986, 0.51538014],\n",
              "       [0.45171985, 0.5482801 ],\n",
              "       [0.49162185, 0.5083781 ],\n",
              "       [0.4946409 , 0.50535905],\n",
              "       [0.49927208, 0.5007279 ],\n",
              "       [0.4829609 , 0.51703906],\n",
              "       [0.4653147 , 0.5346854 ],\n",
              "       [0.4689586 , 0.53104144],\n",
              "       [0.47853252, 0.5214675 ],\n",
              "       [0.506387  , 0.493613  ],\n",
              "       [0.51290154, 0.48709846],\n",
              "       [0.48901913, 0.5109809 ],\n",
              "       [0.5058236 , 0.4941764 ],\n",
              "       [0.4684281 , 0.5315719 ],\n",
              "       [0.4869347 , 0.5130653 ],\n",
              "       [0.48519635, 0.51480365],\n",
              "       [0.5116239 , 0.48837608],\n",
              "       [0.49556908, 0.5044309 ],\n",
              "       [0.5056103 , 0.49438968],\n",
              "       [0.48335502, 0.51664495],\n",
              "       [0.49751252, 0.5024875 ],\n",
              "       [0.50691414, 0.4930859 ],\n",
              "       [0.4901084 , 0.50989157],\n",
              "       [0.50879925, 0.49120075],\n",
              "       [0.48349842, 0.5165016 ],\n",
              "       [0.48411927, 0.5158807 ],\n",
              "       [0.4902169 , 0.5097831 ],\n",
              "       [0.48562324, 0.5143768 ],\n",
              "       [0.4865456 , 0.5134544 ],\n",
              "       [0.44769382, 0.5523062 ],\n",
              "       [0.47273186, 0.5272682 ],\n",
              "       [0.48840714, 0.51159286],\n",
              "       [0.47587675, 0.5241233 ],\n",
              "       [0.4948519 , 0.5051481 ],\n",
              "       [0.4647216 , 0.5352784 ],\n",
              "       [0.49367914, 0.50632083],\n",
              "       [0.4647692 , 0.5352308 ],\n",
              "       [0.46707755, 0.5329224 ],\n",
              "       [0.46260145, 0.5373985 ],\n",
              "       [0.45761263, 0.5423874 ],\n",
              "       [0.47542542, 0.5245746 ],\n",
              "       [0.50298965, 0.49701038],\n",
              "       [0.4603474 , 0.5396526 ],\n",
              "       [0.49669415, 0.50330585],\n",
              "       [0.4910166 , 0.50898343],\n",
              "       [0.49706995, 0.50293   ],\n",
              "       [0.44211212, 0.55788785],\n",
              "       [0.48263878, 0.5173612 ],\n",
              "       [0.5188375 , 0.4811625 ],\n",
              "       [0.5141255 , 0.48587447],\n",
              "       [0.481535  , 0.51846504],\n",
              "       [0.4568182 , 0.5431818 ],\n",
              "       [0.48990393, 0.5100961 ],\n",
              "       [0.4977129 , 0.5022871 ],\n",
              "       [0.46000883, 0.5399912 ],\n",
              "       [0.46066505, 0.53933495],\n",
              "       [0.4472595 , 0.5527405 ],\n",
              "       [0.47970852, 0.5202915 ],\n",
              "       [0.46861362, 0.5313864 ],\n",
              "       [0.5003201 , 0.4996799 ],\n",
              "       [0.47884327, 0.5211567 ],\n",
              "       [0.49236947, 0.50763047],\n",
              "       [0.5003641 , 0.49963588],\n",
              "       [0.48589703, 0.514103  ],\n",
              "       [0.5156498 , 0.48435026],\n",
              "       [0.49594632, 0.5040537 ],\n",
              "       [0.4547446 , 0.54525536],\n",
              "       [0.46259114, 0.5374089 ],\n",
              "       [0.45638543, 0.54361457],\n",
              "       [0.487422  , 0.512578  ],\n",
              "       [0.4681744 , 0.5318256 ],\n",
              "       [0.48885584, 0.51114416],\n",
              "       [0.4902047 , 0.5097953 ],\n",
              "       [0.46990028, 0.5300997 ],\n",
              "       [0.46750075, 0.53249925],\n",
              "       [0.47149456, 0.52850544],\n",
              "       [0.50500757, 0.49499246],\n",
              "       [0.49328527, 0.5067147 ],\n",
              "       [0.48879623, 0.51120377],\n",
              "       [0.49574432, 0.5042557 ],\n",
              "       [0.48232916, 0.51767087],\n",
              "       [0.4547543 , 0.54524577],\n",
              "       [0.48188972, 0.5181103 ],\n",
              "       [0.4595207 , 0.5404793 ],\n",
              "       [0.46630138, 0.5336986 ],\n",
              "       [0.45854735, 0.54145265],\n",
              "       [0.4912243 , 0.5087757 ],\n",
              "       [0.49283665, 0.50716335],\n",
              "       [0.46648946, 0.5335105 ],\n",
              "       [0.4606826 , 0.5393174 ],\n",
              "       [0.49090812, 0.50909185],\n",
              "       [0.48663378, 0.5133662 ],\n",
              "       [0.48759565, 0.5124043 ],\n",
              "       [0.49093625, 0.5090637 ],\n",
              "       [0.49614194, 0.5038581 ],\n",
              "       [0.475276  , 0.52472407],\n",
              "       [0.46747452, 0.5325254 ],\n",
              "       [0.47416106, 0.525839  ],\n",
              "       [0.49215242, 0.5078476 ],\n",
              "       [0.4839784 , 0.5160216 ],\n",
              "       [0.4897091 , 0.5102909 ],\n",
              "       [0.4802212 , 0.5197788 ],\n",
              "       [0.5003342 , 0.4996658 ],\n",
              "       [0.47153673, 0.52846324],\n",
              "       [0.48696765, 0.5130324 ],\n",
              "       [0.47642794, 0.5235721 ],\n",
              "       [0.45453554, 0.54546446],\n",
              "       [0.50374275, 0.49625725],\n",
              "       [0.4765633 , 0.5234367 ],\n",
              "       [0.5009166 , 0.49908343],\n",
              "       [0.48258424, 0.51741576],\n",
              "       [0.49385756, 0.50614244],\n",
              "       [0.45372757, 0.54627246],\n",
              "       [0.48433504, 0.51566494],\n",
              "       [0.46900752, 0.5309925 ],\n",
              "       [0.47143406, 0.52856594],\n",
              "       [0.47172892, 0.5282711 ],\n",
              "       [0.49869767, 0.5013023 ],\n",
              "       [0.4865852 , 0.51341486],\n",
              "       [0.490135  , 0.509865  ],\n",
              "       [0.50230366, 0.4976963 ],\n",
              "       [0.46584484, 0.53415513],\n",
              "       [0.45628944, 0.5437106 ],\n",
              "       [0.48030412, 0.5196959 ],\n",
              "       [0.50385684, 0.49614316],\n",
              "       [0.50352806, 0.496472  ],\n",
              "       [0.5014038 , 0.49859616],\n",
              "       [0.4742055 , 0.5257945 ],\n",
              "       [0.48611972, 0.51388025],\n",
              "       [0.49215516, 0.5078448 ],\n",
              "       [0.46210116, 0.53789884],\n",
              "       [0.49724936, 0.5027506 ],\n",
              "       [0.4953756 , 0.5046244 ],\n",
              "       [0.47923034, 0.5207696 ],\n",
              "       [0.44596598, 0.554034  ],\n",
              "       [0.4742983 , 0.5257017 ],\n",
              "       [0.45755678, 0.5424432 ],\n",
              "       [0.500858  , 0.49914205],\n",
              "       [0.44546118, 0.5545388 ],\n",
              "       [0.48598325, 0.51401675],\n",
              "       [0.4625053 , 0.53749466],\n",
              "       [0.49103352, 0.5089665 ],\n",
              "       [0.45365733, 0.5463427 ],\n",
              "       [0.4759466 , 0.52405334],\n",
              "       [0.46752453, 0.5324755 ],\n",
              "       [0.48412472, 0.5158753 ],\n",
              "       [0.45923588, 0.54076415],\n",
              "       [0.4634042 , 0.5365958 ],\n",
              "       [0.50352806, 0.496472  ],\n",
              "       [0.47904205, 0.5209579 ],\n",
              "       [0.5043069 , 0.4956931 ],\n",
              "       [0.45486873, 0.5451312 ],\n",
              "       [0.4846269 , 0.5153731 ],\n",
              "       [0.45130986, 0.5486902 ],\n",
              "       [0.492515  , 0.507485  ],\n",
              "       [0.49390864, 0.50609136],\n",
              "       [0.47974825, 0.52025175],\n",
              "       [0.4875411 , 0.51245886],\n",
              "       [0.50328094, 0.4967191 ],\n",
              "       [0.46899584, 0.53100413],\n",
              "       [0.48858836, 0.51141167],\n",
              "       [0.5072962 , 0.49270386],\n",
              "       [0.4570714 , 0.54292864],\n",
              "       [0.52248883, 0.47751117],\n",
              "       [0.47082618, 0.52917385],\n",
              "       [0.50856656, 0.49143347],\n",
              "       [0.49426907, 0.505731  ],\n",
              "       [0.48631173, 0.5136883 ],\n",
              "       [0.46438974, 0.53561026],\n",
              "       [0.50148416, 0.49851587],\n",
              "       [0.49519196, 0.504808  ],\n",
              "       [0.47906193, 0.52093804],\n",
              "       [0.4995462 , 0.50045377],\n",
              "       [0.472783  , 0.527217  ],\n",
              "       [0.5026644 , 0.49733558],\n",
              "       [0.48869124, 0.5113087 ],\n",
              "       [0.48724243, 0.51275754],\n",
              "       [0.46882418, 0.53117585],\n",
              "       [0.49490726, 0.50509274],\n",
              "       [0.4808214 , 0.5191786 ],\n",
              "       [0.48891166, 0.5110884 ],\n",
              "       [0.46622112, 0.53377885],\n",
              "       [0.4681931 , 0.5318069 ],\n",
              "       [0.49251062, 0.5074893 ],\n",
              "       [0.48170185, 0.51829815],\n",
              "       [0.43303648, 0.5669635 ],\n",
              "       [0.4809463 , 0.5190537 ],\n",
              "       [0.50523174, 0.4947683 ],\n",
              "       [0.4710557 , 0.5289443 ],\n",
              "       [0.47485167, 0.52514833],\n",
              "       [0.49715215, 0.50284785],\n",
              "       [0.51123536, 0.48876464],\n",
              "       [0.49949145, 0.50050855],\n",
              "       [0.50903577, 0.49096423],\n",
              "       [0.48982847, 0.51017153],\n",
              "       [0.46210787, 0.5378921 ],\n",
              "       [0.5057036 , 0.49429634],\n",
              "       [0.49765286, 0.5023471 ],\n",
              "       [0.44457215, 0.55542785],\n",
              "       [0.48781854, 0.51218146],\n",
              "       [0.4962098 , 0.50379014],\n",
              "       [0.4549668 , 0.5450332 ],\n",
              "       [0.45972168, 0.5402783 ],\n",
              "       [0.49761507, 0.5023849 ],\n",
              "       [0.48778826, 0.51221174],\n",
              "       [0.47038683, 0.52961314],\n",
              "       [0.46777934, 0.53222066],\n",
              "       [0.4495119 , 0.5504881 ],\n",
              "       [0.48879576, 0.51120424],\n",
              "       [0.51123625, 0.48876372],\n",
              "       [0.452123  , 0.5478771 ],\n",
              "       [0.49257797, 0.50742203],\n",
              "       [0.49931026, 0.50068974],\n",
              "       [0.45859507, 0.5414049 ],\n",
              "       [0.45120966, 0.54879034],\n",
              "       [0.4916836 , 0.5083164 ],\n",
              "       [0.5067307 , 0.4932693 ],\n",
              "       [0.44375375, 0.5562462 ],\n",
              "       [0.49799833, 0.5020017 ],\n",
              "       [0.47728476, 0.5227152 ],\n",
              "       [0.49391276, 0.5060872 ],\n",
              "       [0.5007042 , 0.49929577],\n",
              "       [0.4911251 , 0.5088749 ],\n",
              "       [0.49239734, 0.50760263],\n",
              "       [0.505404  , 0.494596  ],\n",
              "       [0.48937297, 0.51062703],\n",
              "       [0.47672588, 0.5232742 ],\n",
              "       [0.40292525, 0.59707475],\n",
              "       [0.46538293, 0.53461707],\n",
              "       [0.48171267, 0.51828736],\n",
              "       [0.46293822, 0.53706175],\n",
              "       [0.46481335, 0.5351866 ],\n",
              "       [0.5094137 , 0.49058634],\n",
              "       [0.5044738 , 0.4955262 ],\n",
              "       [0.48573658, 0.5142634 ],\n",
              "       [0.5135882 , 0.48641184],\n",
              "       [0.5027715 , 0.49722844],\n",
              "       [0.48021725, 0.5197827 ],\n",
              "       [0.46990678, 0.53009325],\n",
              "       [0.4820221 , 0.5179779 ],\n",
              "       [0.44811472, 0.55188525],\n",
              "       [0.5210791 , 0.47892085],\n",
              "       [0.5155443 , 0.4844557 ],\n",
              "       [0.49394575, 0.5060543 ],\n",
              "       [0.47388273, 0.52611727],\n",
              "       [0.4985652 , 0.5014348 ],\n",
              "       [0.4818332 , 0.5181668 ],\n",
              "       [0.4701291 , 0.5298709 ],\n",
              "       [0.4553165 , 0.54468346],\n",
              "       [0.47245723, 0.52754277],\n",
              "       [0.4804616 , 0.51953846],\n",
              "       [0.5070165 , 0.49298352],\n",
              "       [0.48645833, 0.51354164],\n",
              "       [0.5056829 , 0.49431705],\n",
              "       [0.46850678, 0.5314932 ],\n",
              "       [0.47671148, 0.52328855],\n",
              "       [0.47605908, 0.52394086],\n",
              "       [0.48988166, 0.5101183 ],\n",
              "       [0.5002882 , 0.49971178],\n",
              "       [0.5058458 , 0.49415419],\n",
              "       [0.4989474 , 0.5010526 ],\n",
              "       [0.48840153, 0.51159847],\n",
              "       [0.48484918, 0.5151508 ],\n",
              "       [0.4515295 , 0.5484705 ],\n",
              "       [0.46965274, 0.5303473 ],\n",
              "       [0.48057926, 0.51942074],\n",
              "       [0.47439626, 0.5256038 ],\n",
              "       [0.50921273, 0.49078727],\n",
              "       [0.5033479 , 0.49665213],\n",
              "       [0.46581328, 0.5341867 ],\n",
              "       [0.51221704, 0.487783  ],\n",
              "       [0.5015691 , 0.4984309 ],\n",
              "       [0.50333637, 0.49666366],\n",
              "       [0.5034689 , 0.49653116],\n",
              "       [0.48762637, 0.5123736 ],\n",
              "       [0.47963014, 0.5203698 ],\n",
              "       [0.44268373, 0.55731624],\n",
              "       [0.49961266, 0.5003874 ],\n",
              "       [0.47398424, 0.52601576],\n",
              "       [0.46003428, 0.5399657 ],\n",
              "       [0.47322944, 0.5267706 ],\n",
              "       [0.47185147, 0.5281485 ],\n",
              "       [0.49786034, 0.5021397 ],\n",
              "       [0.5079532 , 0.4920468 ],\n",
              "       [0.48806137, 0.51193863],\n",
              "       [0.4901796 , 0.50982046],\n",
              "       [0.49971423, 0.5002858 ],\n",
              "       [0.51061   , 0.48939002],\n",
              "       [0.46157014, 0.53842986],\n",
              "       [0.49689296, 0.5031071 ],\n",
              "       [0.4678652 , 0.5321348 ],\n",
              "       [0.48245785, 0.5175422 ],\n",
              "       [0.45848325, 0.5415168 ],\n",
              "       [0.48560014, 0.5143998 ],\n",
              "       [0.4588431 , 0.5411569 ],\n",
              "       [0.4866    , 0.5134    ],\n",
              "       [0.47077954, 0.52922046],\n",
              "       [0.49403462, 0.50596535],\n",
              "       [0.50578535, 0.49421462],\n",
              "       [0.4714672 , 0.5285328 ],\n",
              "       [0.49000055, 0.5099994 ],\n",
              "       [0.48937657, 0.51062346],\n",
              "       [0.46613592, 0.53386414],\n",
              "       [0.4808491 , 0.5191509 ],\n",
              "       [0.48081765, 0.5191824 ],\n",
              "       [0.4814085 , 0.5185915 ],\n",
              "       [0.50518626, 0.49481374],\n",
              "       [0.46949086, 0.5305092 ],\n",
              "       [0.44811648, 0.5518835 ],\n",
              "       [0.4868245 , 0.5131754 ],\n",
              "       [0.46141574, 0.53858423],\n",
              "       [0.47921258, 0.5207875 ],\n",
              "       [0.49008802, 0.509912  ],\n",
              "       [0.49595812, 0.5040419 ],\n",
              "       [0.4748628 , 0.5251372 ],\n",
              "       [0.47323123, 0.52676874],\n",
              "       [0.48691648, 0.51308346],\n",
              "       [0.4852894 , 0.5147106 ],\n",
              "       [0.4774119 , 0.52258813],\n",
              "       [0.44943792, 0.5505621 ],\n",
              "       [0.45899466, 0.5410053 ],\n",
              "       [0.48779485, 0.5122051 ],\n",
              "       [0.4516541 , 0.54834586],\n",
              "       [0.45311907, 0.54688096],\n",
              "       [0.46910834, 0.5308917 ],\n",
              "       [0.46689427, 0.53310573],\n",
              "       [0.493223  , 0.5067769 ],\n",
              "       [0.49505228, 0.50494766],\n",
              "       [0.49627134, 0.5037287 ],\n",
              "       [0.47262996, 0.52737004],\n",
              "       [0.51122224, 0.48877773],\n",
              "       [0.46445665, 0.5355433 ],\n",
              "       [0.48379713, 0.51620287],\n",
              "       [0.45893973, 0.54106027]], dtype=float32)"
            ]
          },
          "metadata": {
            "tags": []
          },
          "execution_count": 86
        }
      ]
    },
    {
      "cell_type": "code",
      "metadata": {
        "id": "g5KRZI1lmcD-"
      },
      "source": [
        "predictionslabels = predictions.argmax(axis=1)\n"
      ],
      "execution_count": 87,
      "outputs": []
    },
    {
      "cell_type": "code",
      "metadata": {
        "id": "anTJbqRHmncu"
      },
      "source": [
        "classes = predictionslabels-y_test"
      ],
      "execution_count": 88,
      "outputs": []
    },
    {
      "cell_type": "code",
      "metadata": {
        "id": "7dFXr_RHnD5M",
        "outputId": "6ea60193-761e-45dc-b3d4-7f1bcf18d690",
        "colab": {
          "base_uri": "https://localhost:8080/"
        }
      },
      "source": [
        "classes"
      ],
      "execution_count": 89,
      "outputs": [
        {
          "output_type": "execute_result",
          "data": {
            "text/plain": [
              "array([ 0.,  0.,  0.,  0.,  0.,  0.,  0.,  0.,  0.,  0.,  0.,  0.,  0.,\n",
              "        0.,  0.,  1., -1.,  0.,  0.,  0.,  0., -1.,  0.,  0.,  0.,  0.,\n",
              "        0.,  0.,  0.,  0.,  0.,  0.,  0.,  0.,  0.,  0.,  0.,  0., -1.,\n",
              "        0.,  0.,  0.,  0.,  0.,  0.,  0.,  0.,  0., -1.,  0.,  0.,  0.,\n",
              "        0.,  0.,  0.,  0.,  0.,  0.,  0., -1.,  0.,  0.,  0.,  0.,  0.,\n",
              "        0.,  0.,  0.,  0.,  0., -1.,  0.,  0., -1.,  0.,  0., -1.,  0.,\n",
              "        0.,  0.,  0.,  0., -1.,  0.,  0.,  0.,  0.,  0.,  1.,  0.,  0.,\n",
              "        0.,  0.,  0.,  0.,  0., -1.,  0.,  1.,  0.,  0.,  0.,  0.,  0.,\n",
              "        0.,  0.,  0.,  0.,  0.,  0.,  0.,  0.,  0.,  0.,  0.,  0.,  0.,\n",
              "        0.,  0.,  0., -1.,  0.,  0., -1., -1.,  0., -1.,  0.,  0., -1.,\n",
              "       -1.,  0.,  0.,  0.,  0.,  0.,  0.,  0.,  0.,  0.,  0.,  0.,  0.,\n",
              "        0.,  0.,  0.,  0.,  0.,  0.,  0., -1.,  0.,  0.,  0.,  0.,  0.,\n",
              "        1.,  0.,  0.,  0.,  0.,  0.,  0.,  0.,  0.,  0.,  0.,  0.,  0.,\n",
              "        0.,  0., -1.,  0.,  0.,  0.,  0.,  0., -1.,  0.,  0., -1., -1.,\n",
              "        0.,  0.,  0.,  1.,  0.,  0., -1.,  0.,  0.,  0.,  0.,  0.,  0.,\n",
              "        0.,  0.,  0.,  0.,  0.,  0.,  0., -1.,  1.,  0.,  0.,  0.,  0.,\n",
              "        0.,  0.,  0.,  0.,  0.,  0.,  0.,  0.,  0.,  0.,  0.,  0.,  0.,\n",
              "        0.,  0.,  0.,  0.,  0., -1.,  0., -1., -1.,  0.,  0.,  0.,  0.,\n",
              "        0.,  0., -1., -1.,  0., -1.,  0.,  0.,  0.,  0.,  1.,  0.,  0.,\n",
              "        0.,  0.,  0.,  0.,  0.,  0.,  0.,  1.,  0.,  0.,  0., -1.,  0.,\n",
              "        0.,  0., -1.,  0., -1.,  0., -1.,  0., -1.,  0.,  0., -1.,  0.,\n",
              "        0.,  0.,  0.,  0.,  0., -1.,  0.,  0.,  0.,  0.,  0.,  0.,  0.,\n",
              "        0.,  0.,  0.,  0.,  0.,  1., -1.,  0.,  0.,  0.,  0.,  0.,  0.,\n",
              "        0.,  0.,  0., -1.,  0.,  0.,  0.,  0.,  0.,  0.,  0.,  0.,  0.,\n",
              "        0.,  0., -1.,  0., -1.,  0.,  0.,  0.,  0.,  0.,  0.,  0.,  0.,\n",
              "        0.,  0.,  0.,  0.,  0.,  0.,  0.,  0.,  0.,  0.,  0.,  0.,  0.,\n",
              "        0.,  0.,  0.,  0., -1.,  0.,  0.,  0.,  0.,  0.,  0.,  0.,  0.,\n",
              "        0., -1.,  0.,  0., -1.,  0., -1.,  0.,  0.,  0.,  0.,  0.,  0.,\n",
              "        0.,  0.,  0.,  0.,  0., -1.,  0.,  0.,  0.,  0.,  0.,  0.,  0.,\n",
              "        0.,  0.,  0.,  0.,  0.,  0.,  0.,  0.,  0.,  0.,  0.,  0.,  0.,\n",
              "        0.,  1.,  0.,  0.,  0., -1.,  0.,  0.,  0.,  0., -1.,  0., -1.,\n",
              "        0.,  0.,  0.,  0.,  0.,  0.,  1.,  0.,  0.,  0., -1.,  0.,  0.,\n",
              "        0., -1.,  0., -1.,  0.,  1.,  0.,  0.,  0.,  0.,  0.,  1.,  0.,\n",
              "        0., -1.,  0.,  0.,  0.,  0.,  0.,  0.,  0.,  0.,  0.,  0.,  0.,\n",
              "        0.,  0.,  0.,  0.,  0.,  0.,  0.,  0.,  0., -1.,  0.,  0., -1.,\n",
              "        0., -1.,  0., -1.,  0.,  0.,  0., -1.,  0.,  0.,  0.,  0., -1.,\n",
              "        0.,  0.,  0.,  0.,  0.,  0.,  0.,  0.,  0.,  0.,  1.,  1., -1.,\n",
              "        0.,  0.,  0., -1.,  0., -1.,  0.,  0., -1.,  0.,  0.,  0.,  0.,\n",
              "        0.,  0.,  0.,  0.,  0.,  0.,  0.,  0., -1.,  0.,  0.,  0.,  0.,\n",
              "        0.,  0., -1.,  0.,  0.,  0.,  1., -1.,  0.,  0., -1.,  0.,  0.,\n",
              "        0.,  0.,  1.,  0.,  0., -1., -1.,  0.,  0., -1.,  0.,  0.,  0.,\n",
              "        0., -1., -1.,  0.,  0.,  0.,  0.,  1.,  0.,  0.,  0., -1.,  0.,\n",
              "       -1.,  0.,  0.,  0.,  0., -1., -1.,  0.,  0.,  0.,  0.,  0.,  0.,\n",
              "        0.,  0.,  0.,  0., -1.,  0., -1., -1.,  0.,  1.,  0.,  1.,  0.,\n",
              "        0.,  0.,  0.,  0., -1.,  0.,  0.,  0., -1.,  0.,  0.,  0.,  0.,\n",
              "        0.,  1.,  0.,  0.,  0.,  0.,  0.,  0.,  0.,  0.,  0.,  0.,  0.,\n",
              "        0.,  0.,  0.,  0.,  0.,  0.,  0.,  0.,  0.,  0.,  0.,  0.,  0.,\n",
              "        0.,  0.,  0.,  0.,  0.,  0.,  0.,  0.,  1.,  0.,  0.,  0.,  0.,\n",
              "        0.,  0.,  0.])"
            ]
          },
          "metadata": {
            "tags": []
          },
          "execution_count": 89
        }
      ]
    },
    {
      "cell_type": "markdown",
      "metadata": {
        "id": "E38ZIM50KJSC"
      },
      "source": [
        "Several problems might be implemented in this approach:\n",
        "- maybe our dataset is to small to create our own embeddings\n",
        "- maybe we made some major fails when creating embeddings or the model\n",
        "- its definitely overfitting ;-)\n",
        "\n",
        "anyways... lets continue with a pretrained model (BERT)"
      ]
    }
  ]
}