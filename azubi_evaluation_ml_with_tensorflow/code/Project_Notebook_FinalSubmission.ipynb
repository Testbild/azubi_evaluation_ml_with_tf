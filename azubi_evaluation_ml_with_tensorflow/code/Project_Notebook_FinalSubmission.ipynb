{
  "nbformat": 4,
  "nbformat_minor": 0,
  "metadata": {
    "kernelspec": {
      "display_name": "Python 3",
      "language": "python",
      "name": "python3"
    },
    "language_info": {
      "codemirror_mode": {
        "name": "ipython",
        "version": 3
      },
      "file_extension": ".py",
      "mimetype": "text/x-python",
      "name": "python",
      "nbconvert_exporter": "python",
      "pygments_lexer": "ipython3",
      "version": "3.8.5"
    },
    "colab": {
      "name": "Project_Notebook_Christopher.ipynb",
      "provenance": []
    },
    "accelerator": "GPU",
    "widgets": {
      "application/vnd.jupyter.widget-state+json": {
        "2813be2e3dc9451eb29043040f50f1c4": {
          "model_module": "@jupyter-widgets/controls",
          "model_name": "HBoxModel",
          "state": {
            "_view_name": "HBoxView",
            "_dom_classes": [],
            "_model_name": "HBoxModel",
            "_view_module": "@jupyter-widgets/controls",
            "_model_module_version": "1.5.0",
            "_view_count": null,
            "_view_module_version": "1.5.0",
            "box_style": "",
            "layout": "IPY_MODEL_0027360668684a119f4b3dc7493abea3",
            "_model_module": "@jupyter-widgets/controls",
            "children": [
              "IPY_MODEL_6e03157d7bfb44859f92bf33276efd46",
              "IPY_MODEL_7a8da2afad40423e9b9bc4e55da03a0d",
              "IPY_MODEL_0202d9472ac54f908c6f42d99651740c"
            ]
          }
        },
        "0027360668684a119f4b3dc7493abea3": {
          "model_module": "@jupyter-widgets/base",
          "model_name": "LayoutModel",
          "state": {
            "_view_name": "LayoutView",
            "grid_template_rows": null,
            "right": null,
            "justify_content": null,
            "_view_module": "@jupyter-widgets/base",
            "overflow": null,
            "_model_module_version": "1.2.0",
            "_view_count": null,
            "flex_flow": null,
            "width": null,
            "min_width": null,
            "border": null,
            "align_items": null,
            "bottom": null,
            "_model_module": "@jupyter-widgets/base",
            "top": null,
            "grid_column": null,
            "overflow_y": null,
            "overflow_x": null,
            "grid_auto_flow": null,
            "grid_area": null,
            "grid_template_columns": null,
            "flex": null,
            "_model_name": "LayoutModel",
            "justify_items": null,
            "grid_row": null,
            "max_height": null,
            "align_content": null,
            "visibility": null,
            "align_self": null,
            "height": null,
            "min_height": null,
            "padding": null,
            "grid_auto_rows": null,
            "grid_gap": null,
            "max_width": null,
            "order": null,
            "_view_module_version": "1.2.0",
            "grid_template_areas": null,
            "object_position": null,
            "object_fit": null,
            "grid_auto_columns": null,
            "margin": null,
            "display": null,
            "left": null
          }
        },
        "6e03157d7bfb44859f92bf33276efd46": {
          "model_module": "@jupyter-widgets/controls",
          "model_name": "HTMLModel",
          "state": {
            "_view_name": "HTMLView",
            "style": "IPY_MODEL_8e33e3763d0642469bc8f8e7627338d0",
            "_dom_classes": [],
            "description": "",
            "_model_name": "HTMLModel",
            "placeholder": "​",
            "_view_module": "@jupyter-widgets/controls",
            "_model_module_version": "1.5.0",
            "value": "Downloading: 100%",
            "_view_count": null,
            "_view_module_version": "1.5.0",
            "description_tooltip": null,
            "_model_module": "@jupyter-widgets/controls",
            "layout": "IPY_MODEL_60af2872227e434fa3b5c12d82b0f101"
          }
        },
        "7a8da2afad40423e9b9bc4e55da03a0d": {
          "model_module": "@jupyter-widgets/controls",
          "model_name": "FloatProgressModel",
          "state": {
            "_view_name": "ProgressView",
            "style": "IPY_MODEL_1f298fa74e92427aa2756f5bf6de423d",
            "_dom_classes": [],
            "description": "",
            "_model_name": "FloatProgressModel",
            "bar_style": "success",
            "max": 464,
            "_view_module": "@jupyter-widgets/controls",
            "_model_module_version": "1.5.0",
            "value": 464,
            "_view_count": null,
            "_view_module_version": "1.5.0",
            "orientation": "horizontal",
            "min": 0,
            "description_tooltip": null,
            "_model_module": "@jupyter-widgets/controls",
            "layout": "IPY_MODEL_115982fcf777473592b024bd3fd4c7be"
          }
        },
        "0202d9472ac54f908c6f42d99651740c": {
          "model_module": "@jupyter-widgets/controls",
          "model_name": "HTMLModel",
          "state": {
            "_view_name": "HTMLView",
            "style": "IPY_MODEL_89bb363025124ebcb95a8a6ac2df3a60",
            "_dom_classes": [],
            "description": "",
            "_model_name": "HTMLModel",
            "placeholder": "​",
            "_view_module": "@jupyter-widgets/controls",
            "_model_module_version": "1.5.0",
            "value": " 464/464 [00:00&lt;00:00, 12.2kB/s]",
            "_view_count": null,
            "_view_module_version": "1.5.0",
            "description_tooltip": null,
            "_model_module": "@jupyter-widgets/controls",
            "layout": "IPY_MODEL_cc1ae1c4adf94098a45d95ecb58cb29d"
          }
        },
        "8e33e3763d0642469bc8f8e7627338d0": {
          "model_module": "@jupyter-widgets/controls",
          "model_name": "DescriptionStyleModel",
          "state": {
            "_view_name": "StyleView",
            "_model_name": "DescriptionStyleModel",
            "description_width": "",
            "_view_module": "@jupyter-widgets/base",
            "_model_module_version": "1.5.0",
            "_view_count": null,
            "_view_module_version": "1.2.0",
            "_model_module": "@jupyter-widgets/controls"
          }
        },
        "60af2872227e434fa3b5c12d82b0f101": {
          "model_module": "@jupyter-widgets/base",
          "model_name": "LayoutModel",
          "state": {
            "_view_name": "LayoutView",
            "grid_template_rows": null,
            "right": null,
            "justify_content": null,
            "_view_module": "@jupyter-widgets/base",
            "overflow": null,
            "_model_module_version": "1.2.0",
            "_view_count": null,
            "flex_flow": null,
            "width": null,
            "min_width": null,
            "border": null,
            "align_items": null,
            "bottom": null,
            "_model_module": "@jupyter-widgets/base",
            "top": null,
            "grid_column": null,
            "overflow_y": null,
            "overflow_x": null,
            "grid_auto_flow": null,
            "grid_area": null,
            "grid_template_columns": null,
            "flex": null,
            "_model_name": "LayoutModel",
            "justify_items": null,
            "grid_row": null,
            "max_height": null,
            "align_content": null,
            "visibility": null,
            "align_self": null,
            "height": null,
            "min_height": null,
            "padding": null,
            "grid_auto_rows": null,
            "grid_gap": null,
            "max_width": null,
            "order": null,
            "_view_module_version": "1.2.0",
            "grid_template_areas": null,
            "object_position": null,
            "object_fit": null,
            "grid_auto_columns": null,
            "margin": null,
            "display": null,
            "left": null
          }
        },
        "1f298fa74e92427aa2756f5bf6de423d": {
          "model_module": "@jupyter-widgets/controls",
          "model_name": "ProgressStyleModel",
          "state": {
            "_view_name": "StyleView",
            "_model_name": "ProgressStyleModel",
            "description_width": "",
            "_view_module": "@jupyter-widgets/base",
            "_model_module_version": "1.5.0",
            "_view_count": null,
            "_view_module_version": "1.2.0",
            "bar_color": null,
            "_model_module": "@jupyter-widgets/controls"
          }
        },
        "115982fcf777473592b024bd3fd4c7be": {
          "model_module": "@jupyter-widgets/base",
          "model_name": "LayoutModel",
          "state": {
            "_view_name": "LayoutView",
            "grid_template_rows": null,
            "right": null,
            "justify_content": null,
            "_view_module": "@jupyter-widgets/base",
            "overflow": null,
            "_model_module_version": "1.2.0",
            "_view_count": null,
            "flex_flow": null,
            "width": null,
            "min_width": null,
            "border": null,
            "align_items": null,
            "bottom": null,
            "_model_module": "@jupyter-widgets/base",
            "top": null,
            "grid_column": null,
            "overflow_y": null,
            "overflow_x": null,
            "grid_auto_flow": null,
            "grid_area": null,
            "grid_template_columns": null,
            "flex": null,
            "_model_name": "LayoutModel",
            "justify_items": null,
            "grid_row": null,
            "max_height": null,
            "align_content": null,
            "visibility": null,
            "align_self": null,
            "height": null,
            "min_height": null,
            "padding": null,
            "grid_auto_rows": null,
            "grid_gap": null,
            "max_width": null,
            "order": null,
            "_view_module_version": "1.2.0",
            "grid_template_areas": null,
            "object_position": null,
            "object_fit": null,
            "grid_auto_columns": null,
            "margin": null,
            "display": null,
            "left": null
          }
        },
        "89bb363025124ebcb95a8a6ac2df3a60": {
          "model_module": "@jupyter-widgets/controls",
          "model_name": "DescriptionStyleModel",
          "state": {
            "_view_name": "StyleView",
            "_model_name": "DescriptionStyleModel",
            "description_width": "",
            "_view_module": "@jupyter-widgets/base",
            "_model_module_version": "1.5.0",
            "_view_count": null,
            "_view_module_version": "1.2.0",
            "_model_module": "@jupyter-widgets/controls"
          }
        },
        "cc1ae1c4adf94098a45d95ecb58cb29d": {
          "model_module": "@jupyter-widgets/base",
          "model_name": "LayoutModel",
          "state": {
            "_view_name": "LayoutView",
            "grid_template_rows": null,
            "right": null,
            "justify_content": null,
            "_view_module": "@jupyter-widgets/base",
            "overflow": null,
            "_model_module_version": "1.2.0",
            "_view_count": null,
            "flex_flow": null,
            "width": null,
            "min_width": null,
            "border": null,
            "align_items": null,
            "bottom": null,
            "_model_module": "@jupyter-widgets/base",
            "top": null,
            "grid_column": null,
            "overflow_y": null,
            "overflow_x": null,
            "grid_auto_flow": null,
            "grid_area": null,
            "grid_template_columns": null,
            "flex": null,
            "_model_name": "LayoutModel",
            "justify_items": null,
            "grid_row": null,
            "max_height": null,
            "align_content": null,
            "visibility": null,
            "align_self": null,
            "height": null,
            "min_height": null,
            "padding": null,
            "grid_auto_rows": null,
            "grid_gap": null,
            "max_width": null,
            "order": null,
            "_view_module_version": "1.2.0",
            "grid_template_areas": null,
            "object_position": null,
            "object_fit": null,
            "grid_auto_columns": null,
            "margin": null,
            "display": null,
            "left": null
          }
        },
        "e83a457d100444d9acf44f91f562a16e": {
          "model_module": "@jupyter-widgets/controls",
          "model_name": "HBoxModel",
          "state": {
            "_view_name": "HBoxView",
            "_dom_classes": [],
            "_model_name": "HBoxModel",
            "_view_module": "@jupyter-widgets/controls",
            "_model_module_version": "1.5.0",
            "_view_count": null,
            "_view_module_version": "1.5.0",
            "box_style": "",
            "layout": "IPY_MODEL_74d6b8cd0a524d16bf844cb1928a2459",
            "_model_module": "@jupyter-widgets/controls",
            "children": [
              "IPY_MODEL_daca99160ab842318d72db7ec73eafdb",
              "IPY_MODEL_a01a92d7ade14065beec67a1b36b73c7",
              "IPY_MODEL_49d5a1c49b5a4d3793a1a4225b0dabbf"
            ]
          }
        },
        "74d6b8cd0a524d16bf844cb1928a2459": {
          "model_module": "@jupyter-widgets/base",
          "model_name": "LayoutModel",
          "state": {
            "_view_name": "LayoutView",
            "grid_template_rows": null,
            "right": null,
            "justify_content": null,
            "_view_module": "@jupyter-widgets/base",
            "overflow": null,
            "_model_module_version": "1.2.0",
            "_view_count": null,
            "flex_flow": null,
            "width": null,
            "min_width": null,
            "border": null,
            "align_items": null,
            "bottom": null,
            "_model_module": "@jupyter-widgets/base",
            "top": null,
            "grid_column": null,
            "overflow_y": null,
            "overflow_x": null,
            "grid_auto_flow": null,
            "grid_area": null,
            "grid_template_columns": null,
            "flex": null,
            "_model_name": "LayoutModel",
            "justify_items": null,
            "grid_row": null,
            "max_height": null,
            "align_content": null,
            "visibility": null,
            "align_self": null,
            "height": null,
            "min_height": null,
            "padding": null,
            "grid_auto_rows": null,
            "grid_gap": null,
            "max_width": null,
            "order": null,
            "_view_module_version": "1.2.0",
            "grid_template_areas": null,
            "object_position": null,
            "object_fit": null,
            "grid_auto_columns": null,
            "margin": null,
            "display": null,
            "left": null
          }
        },
        "daca99160ab842318d72db7ec73eafdb": {
          "model_module": "@jupyter-widgets/controls",
          "model_name": "HTMLModel",
          "state": {
            "_view_name": "HTMLView",
            "style": "IPY_MODEL_4a28f73ee4ec4229ab00c6bebad5c9c5",
            "_dom_classes": [],
            "description": "",
            "_model_name": "HTMLModel",
            "placeholder": "​",
            "_view_module": "@jupyter-widgets/controls",
            "_model_module_version": "1.5.0",
            "value": "Downloading: 100%",
            "_view_count": null,
            "_view_module_version": "1.5.0",
            "description_tooltip": null,
            "_model_module": "@jupyter-widgets/controls",
            "layout": "IPY_MODEL_fb8c7a88135645a3bea2f5fdae45f33d"
          }
        },
        "a01a92d7ade14065beec67a1b36b73c7": {
          "model_module": "@jupyter-widgets/controls",
          "model_name": "FloatProgressModel",
          "state": {
            "_view_name": "ProgressView",
            "style": "IPY_MODEL_afe0f9fdb4174bcb8fc79e1cde097ee0",
            "_dom_classes": [],
            "description": "",
            "_model_name": "FloatProgressModel",
            "bar_style": "success",
            "max": 269752043,
            "_view_module": "@jupyter-widgets/controls",
            "_model_module_version": "1.5.0",
            "value": 269752043,
            "_view_count": null,
            "_view_module_version": "1.5.0",
            "orientation": "horizontal",
            "min": 0,
            "description_tooltip": null,
            "_model_module": "@jupyter-widgets/controls",
            "layout": "IPY_MODEL_5464e189c33d42c8b8efd2ad85412f35"
          }
        },
        "49d5a1c49b5a4d3793a1a4225b0dabbf": {
          "model_module": "@jupyter-widgets/controls",
          "model_name": "HTMLModel",
          "state": {
            "_view_name": "HTMLView",
            "style": "IPY_MODEL_5cbaf180f2514fe2bd1ba3756f5d32b8",
            "_dom_classes": [],
            "description": "",
            "_model_name": "HTMLModel",
            "placeholder": "​",
            "_view_module": "@jupyter-widgets/controls",
            "_model_module_version": "1.5.0",
            "value": " 270M/270M [00:05&lt;00:00, 51.0MB/s]",
            "_view_count": null,
            "_view_module_version": "1.5.0",
            "description_tooltip": null,
            "_model_module": "@jupyter-widgets/controls",
            "layout": "IPY_MODEL_26f7db0307e740c7b6d29bfca9587a52"
          }
        },
        "4a28f73ee4ec4229ab00c6bebad5c9c5": {
          "model_module": "@jupyter-widgets/controls",
          "model_name": "DescriptionStyleModel",
          "state": {
            "_view_name": "StyleView",
            "_model_name": "DescriptionStyleModel",
            "description_width": "",
            "_view_module": "@jupyter-widgets/base",
            "_model_module_version": "1.5.0",
            "_view_count": null,
            "_view_module_version": "1.2.0",
            "_model_module": "@jupyter-widgets/controls"
          }
        },
        "fb8c7a88135645a3bea2f5fdae45f33d": {
          "model_module": "@jupyter-widgets/base",
          "model_name": "LayoutModel",
          "state": {
            "_view_name": "LayoutView",
            "grid_template_rows": null,
            "right": null,
            "justify_content": null,
            "_view_module": "@jupyter-widgets/base",
            "overflow": null,
            "_model_module_version": "1.2.0",
            "_view_count": null,
            "flex_flow": null,
            "width": null,
            "min_width": null,
            "border": null,
            "align_items": null,
            "bottom": null,
            "_model_module": "@jupyter-widgets/base",
            "top": null,
            "grid_column": null,
            "overflow_y": null,
            "overflow_x": null,
            "grid_auto_flow": null,
            "grid_area": null,
            "grid_template_columns": null,
            "flex": null,
            "_model_name": "LayoutModel",
            "justify_items": null,
            "grid_row": null,
            "max_height": null,
            "align_content": null,
            "visibility": null,
            "align_self": null,
            "height": null,
            "min_height": null,
            "padding": null,
            "grid_auto_rows": null,
            "grid_gap": null,
            "max_width": null,
            "order": null,
            "_view_module_version": "1.2.0",
            "grid_template_areas": null,
            "object_position": null,
            "object_fit": null,
            "grid_auto_columns": null,
            "margin": null,
            "display": null,
            "left": null
          }
        },
        "afe0f9fdb4174bcb8fc79e1cde097ee0": {
          "model_module": "@jupyter-widgets/controls",
          "model_name": "ProgressStyleModel",
          "state": {
            "_view_name": "StyleView",
            "_model_name": "ProgressStyleModel",
            "description_width": "",
            "_view_module": "@jupyter-widgets/base",
            "_model_module_version": "1.5.0",
            "_view_count": null,
            "_view_module_version": "1.2.0",
            "bar_color": null,
            "_model_module": "@jupyter-widgets/controls"
          }
        },
        "5464e189c33d42c8b8efd2ad85412f35": {
          "model_module": "@jupyter-widgets/base",
          "model_name": "LayoutModel",
          "state": {
            "_view_name": "LayoutView",
            "grid_template_rows": null,
            "right": null,
            "justify_content": null,
            "_view_module": "@jupyter-widgets/base",
            "overflow": null,
            "_model_module_version": "1.2.0",
            "_view_count": null,
            "flex_flow": null,
            "width": null,
            "min_width": null,
            "border": null,
            "align_items": null,
            "bottom": null,
            "_model_module": "@jupyter-widgets/base",
            "top": null,
            "grid_column": null,
            "overflow_y": null,
            "overflow_x": null,
            "grid_auto_flow": null,
            "grid_area": null,
            "grid_template_columns": null,
            "flex": null,
            "_model_name": "LayoutModel",
            "justify_items": null,
            "grid_row": null,
            "max_height": null,
            "align_content": null,
            "visibility": null,
            "align_self": null,
            "height": null,
            "min_height": null,
            "padding": null,
            "grid_auto_rows": null,
            "grid_gap": null,
            "max_width": null,
            "order": null,
            "_view_module_version": "1.2.0",
            "grid_template_areas": null,
            "object_position": null,
            "object_fit": null,
            "grid_auto_columns": null,
            "margin": null,
            "display": null,
            "left": null
          }
        },
        "5cbaf180f2514fe2bd1ba3756f5d32b8": {
          "model_module": "@jupyter-widgets/controls",
          "model_name": "DescriptionStyleModel",
          "state": {
            "_view_name": "StyleView",
            "_model_name": "DescriptionStyleModel",
            "description_width": "",
            "_view_module": "@jupyter-widgets/base",
            "_model_module_version": "1.5.0",
            "_view_count": null,
            "_view_module_version": "1.2.0",
            "_model_module": "@jupyter-widgets/controls"
          }
        },
        "26f7db0307e740c7b6d29bfca9587a52": {
          "model_module": "@jupyter-widgets/base",
          "model_name": "LayoutModel",
          "state": {
            "_view_name": "LayoutView",
            "grid_template_rows": null,
            "right": null,
            "justify_content": null,
            "_view_module": "@jupyter-widgets/base",
            "overflow": null,
            "_model_module_version": "1.2.0",
            "_view_count": null,
            "flex_flow": null,
            "width": null,
            "min_width": null,
            "border": null,
            "align_items": null,
            "bottom": null,
            "_model_module": "@jupyter-widgets/base",
            "top": null,
            "grid_column": null,
            "overflow_y": null,
            "overflow_x": null,
            "grid_auto_flow": null,
            "grid_area": null,
            "grid_template_columns": null,
            "flex": null,
            "_model_name": "LayoutModel",
            "justify_items": null,
            "grid_row": null,
            "max_height": null,
            "align_content": null,
            "visibility": null,
            "align_self": null,
            "height": null,
            "min_height": null,
            "padding": null,
            "grid_auto_rows": null,
            "grid_gap": null,
            "max_width": null,
            "order": null,
            "_view_module_version": "1.2.0",
            "grid_template_areas": null,
            "object_position": null,
            "object_fit": null,
            "grid_auto_columns": null,
            "margin": null,
            "display": null,
            "left": null
          }
        },
        "5038c34b7f0c4c97bb781cd390b7172d": {
          "model_module": "@jupyter-widgets/controls",
          "model_name": "HBoxModel",
          "state": {
            "_view_name": "HBoxView",
            "_dom_classes": [],
            "_model_name": "HBoxModel",
            "_view_module": "@jupyter-widgets/controls",
            "_model_module_version": "1.5.0",
            "_view_count": null,
            "_view_module_version": "1.5.0",
            "box_style": "",
            "layout": "IPY_MODEL_bd26ea144c4a44e4872de465092adc8b",
            "_model_module": "@jupyter-widgets/controls",
            "children": [
              "IPY_MODEL_2d959e15f3094838a2669ecedfec5324",
              "IPY_MODEL_5ef4d458a3e24fc981790f809437364e",
              "IPY_MODEL_710e18a0860242e997560723f5104b12"
            ]
          }
        },
        "bd26ea144c4a44e4872de465092adc8b": {
          "model_module": "@jupyter-widgets/base",
          "model_name": "LayoutModel",
          "state": {
            "_view_name": "LayoutView",
            "grid_template_rows": null,
            "right": null,
            "justify_content": null,
            "_view_module": "@jupyter-widgets/base",
            "overflow": null,
            "_model_module_version": "1.2.0",
            "_view_count": null,
            "flex_flow": null,
            "width": null,
            "min_width": null,
            "border": null,
            "align_items": null,
            "bottom": null,
            "_model_module": "@jupyter-widgets/base",
            "top": null,
            "grid_column": null,
            "overflow_y": null,
            "overflow_x": null,
            "grid_auto_flow": null,
            "grid_area": null,
            "grid_template_columns": null,
            "flex": null,
            "_model_name": "LayoutModel",
            "justify_items": null,
            "grid_row": null,
            "max_height": null,
            "align_content": null,
            "visibility": null,
            "align_self": null,
            "height": null,
            "min_height": null,
            "padding": null,
            "grid_auto_rows": null,
            "grid_gap": null,
            "max_width": null,
            "order": null,
            "_view_module_version": "1.2.0",
            "grid_template_areas": null,
            "object_position": null,
            "object_fit": null,
            "grid_auto_columns": null,
            "margin": null,
            "display": null,
            "left": null
          }
        },
        "2d959e15f3094838a2669ecedfec5324": {
          "model_module": "@jupyter-widgets/controls",
          "model_name": "HTMLModel",
          "state": {
            "_view_name": "HTMLView",
            "style": "IPY_MODEL_5f09ed4d4a5b4451bedf08c3ab15cdc8",
            "_dom_classes": [],
            "description": "",
            "_model_name": "HTMLModel",
            "placeholder": "​",
            "_view_module": "@jupyter-widgets/controls",
            "_model_module_version": "1.5.0",
            "value": "Downloading: 100%",
            "_view_count": null,
            "_view_module_version": "1.5.0",
            "description_tooltip": null,
            "_model_module": "@jupyter-widgets/controls",
            "layout": "IPY_MODEL_77b3f55f723a4c39843a590f86ff9ac4"
          }
        },
        "5ef4d458a3e24fc981790f809437364e": {
          "model_module": "@jupyter-widgets/controls",
          "model_name": "FloatProgressModel",
          "state": {
            "_view_name": "ProgressView",
            "style": "IPY_MODEL_1e10822391704febb8d218506bc4ba63",
            "_dom_classes": [],
            "description": "",
            "_model_name": "FloatProgressModel",
            "bar_style": "success",
            "max": 239836,
            "_view_module": "@jupyter-widgets/controls",
            "_model_module_version": "1.5.0",
            "value": 239836,
            "_view_count": null,
            "_view_module_version": "1.5.0",
            "orientation": "horizontal",
            "min": 0,
            "description_tooltip": null,
            "_model_module": "@jupyter-widgets/controls",
            "layout": "IPY_MODEL_cb368f4131bd43729d0ed7a0ee6dfc0c"
          }
        },
        "710e18a0860242e997560723f5104b12": {
          "model_module": "@jupyter-widgets/controls",
          "model_name": "HTMLModel",
          "state": {
            "_view_name": "HTMLView",
            "style": "IPY_MODEL_53ff00fcefe44d458db9f19077d48cd0",
            "_dom_classes": [],
            "description": "",
            "_model_name": "HTMLModel",
            "placeholder": "​",
            "_view_module": "@jupyter-widgets/controls",
            "_model_module_version": "1.5.0",
            "value": " 240k/240k [00:00&lt;00:00, 1.10MB/s]",
            "_view_count": null,
            "_view_module_version": "1.5.0",
            "description_tooltip": null,
            "_model_module": "@jupyter-widgets/controls",
            "layout": "IPY_MODEL_753213054428462190664433c0f2d6f7"
          }
        },
        "5f09ed4d4a5b4451bedf08c3ab15cdc8": {
          "model_module": "@jupyter-widgets/controls",
          "model_name": "DescriptionStyleModel",
          "state": {
            "_view_name": "StyleView",
            "_model_name": "DescriptionStyleModel",
            "description_width": "",
            "_view_module": "@jupyter-widgets/base",
            "_model_module_version": "1.5.0",
            "_view_count": null,
            "_view_module_version": "1.2.0",
            "_model_module": "@jupyter-widgets/controls"
          }
        },
        "77b3f55f723a4c39843a590f86ff9ac4": {
          "model_module": "@jupyter-widgets/base",
          "model_name": "LayoutModel",
          "state": {
            "_view_name": "LayoutView",
            "grid_template_rows": null,
            "right": null,
            "justify_content": null,
            "_view_module": "@jupyter-widgets/base",
            "overflow": null,
            "_model_module_version": "1.2.0",
            "_view_count": null,
            "flex_flow": null,
            "width": null,
            "min_width": null,
            "border": null,
            "align_items": null,
            "bottom": null,
            "_model_module": "@jupyter-widgets/base",
            "top": null,
            "grid_column": null,
            "overflow_y": null,
            "overflow_x": null,
            "grid_auto_flow": null,
            "grid_area": null,
            "grid_template_columns": null,
            "flex": null,
            "_model_name": "LayoutModel",
            "justify_items": null,
            "grid_row": null,
            "max_height": null,
            "align_content": null,
            "visibility": null,
            "align_self": null,
            "height": null,
            "min_height": null,
            "padding": null,
            "grid_auto_rows": null,
            "grid_gap": null,
            "max_width": null,
            "order": null,
            "_view_module_version": "1.2.0",
            "grid_template_areas": null,
            "object_position": null,
            "object_fit": null,
            "grid_auto_columns": null,
            "margin": null,
            "display": null,
            "left": null
          }
        },
        "1e10822391704febb8d218506bc4ba63": {
          "model_module": "@jupyter-widgets/controls",
          "model_name": "ProgressStyleModel",
          "state": {
            "_view_name": "StyleView",
            "_model_name": "ProgressStyleModel",
            "description_width": "",
            "_view_module": "@jupyter-widgets/base",
            "_model_module_version": "1.5.0",
            "_view_count": null,
            "_view_module_version": "1.2.0",
            "bar_color": null,
            "_model_module": "@jupyter-widgets/controls"
          }
        },
        "cb368f4131bd43729d0ed7a0ee6dfc0c": {
          "model_module": "@jupyter-widgets/base",
          "model_name": "LayoutModel",
          "state": {
            "_view_name": "LayoutView",
            "grid_template_rows": null,
            "right": null,
            "justify_content": null,
            "_view_module": "@jupyter-widgets/base",
            "overflow": null,
            "_model_module_version": "1.2.0",
            "_view_count": null,
            "flex_flow": null,
            "width": null,
            "min_width": null,
            "border": null,
            "align_items": null,
            "bottom": null,
            "_model_module": "@jupyter-widgets/base",
            "top": null,
            "grid_column": null,
            "overflow_y": null,
            "overflow_x": null,
            "grid_auto_flow": null,
            "grid_area": null,
            "grid_template_columns": null,
            "flex": null,
            "_model_name": "LayoutModel",
            "justify_items": null,
            "grid_row": null,
            "max_height": null,
            "align_content": null,
            "visibility": null,
            "align_self": null,
            "height": null,
            "min_height": null,
            "padding": null,
            "grid_auto_rows": null,
            "grid_gap": null,
            "max_width": null,
            "order": null,
            "_view_module_version": "1.2.0",
            "grid_template_areas": null,
            "object_position": null,
            "object_fit": null,
            "grid_auto_columns": null,
            "margin": null,
            "display": null,
            "left": null
          }
        },
        "53ff00fcefe44d458db9f19077d48cd0": {
          "model_module": "@jupyter-widgets/controls",
          "model_name": "DescriptionStyleModel",
          "state": {
            "_view_name": "StyleView",
            "_model_name": "DescriptionStyleModel",
            "description_width": "",
            "_view_module": "@jupyter-widgets/base",
            "_model_module_version": "1.5.0",
            "_view_count": null,
            "_view_module_version": "1.2.0",
            "_model_module": "@jupyter-widgets/controls"
          }
        },
        "753213054428462190664433c0f2d6f7": {
          "model_module": "@jupyter-widgets/base",
          "model_name": "LayoutModel",
          "state": {
            "_view_name": "LayoutView",
            "grid_template_rows": null,
            "right": null,
            "justify_content": null,
            "_view_module": "@jupyter-widgets/base",
            "overflow": null,
            "_model_module_version": "1.2.0",
            "_view_count": null,
            "flex_flow": null,
            "width": null,
            "min_width": null,
            "border": null,
            "align_items": null,
            "bottom": null,
            "_model_module": "@jupyter-widgets/base",
            "top": null,
            "grid_column": null,
            "overflow_y": null,
            "overflow_x": null,
            "grid_auto_flow": null,
            "grid_area": null,
            "grid_template_columns": null,
            "flex": null,
            "_model_name": "LayoutModel",
            "justify_items": null,
            "grid_row": null,
            "max_height": null,
            "align_content": null,
            "visibility": null,
            "align_self": null,
            "height": null,
            "min_height": null,
            "padding": null,
            "grid_auto_rows": null,
            "grid_gap": null,
            "max_width": null,
            "order": null,
            "_view_module_version": "1.2.0",
            "grid_template_areas": null,
            "object_position": null,
            "object_fit": null,
            "grid_auto_columns": null,
            "margin": null,
            "display": null,
            "left": null
          }
        },
        "be9918b6a563498b95d574831e94b747": {
          "model_module": "@jupyter-widgets/controls",
          "model_name": "HBoxModel",
          "state": {
            "_view_name": "HBoxView",
            "_dom_classes": [],
            "_model_name": "HBoxModel",
            "_view_module": "@jupyter-widgets/controls",
            "_model_module_version": "1.5.0",
            "_view_count": null,
            "_view_module_version": "1.5.0",
            "box_style": "",
            "layout": "IPY_MODEL_1fd270b2208045a4a5f87d02eb66d547",
            "_model_module": "@jupyter-widgets/controls",
            "children": [
              "IPY_MODEL_fba28382fabf449aae1abaa5d9a537d9",
              "IPY_MODEL_6281e539cee04343ad0cf4146d38315b",
              "IPY_MODEL_9f2f39ba52d2415b93e1afe95bddec88"
            ]
          }
        },
        "1fd270b2208045a4a5f87d02eb66d547": {
          "model_module": "@jupyter-widgets/base",
          "model_name": "LayoutModel",
          "state": {
            "_view_name": "LayoutView",
            "grid_template_rows": null,
            "right": null,
            "justify_content": null,
            "_view_module": "@jupyter-widgets/base",
            "overflow": null,
            "_model_module_version": "1.2.0",
            "_view_count": null,
            "flex_flow": null,
            "width": null,
            "min_width": null,
            "border": null,
            "align_items": null,
            "bottom": null,
            "_model_module": "@jupyter-widgets/base",
            "top": null,
            "grid_column": null,
            "overflow_y": null,
            "overflow_x": null,
            "grid_auto_flow": null,
            "grid_area": null,
            "grid_template_columns": null,
            "flex": null,
            "_model_name": "LayoutModel",
            "justify_items": null,
            "grid_row": null,
            "max_height": null,
            "align_content": null,
            "visibility": null,
            "align_self": null,
            "height": null,
            "min_height": null,
            "padding": null,
            "grid_auto_rows": null,
            "grid_gap": null,
            "max_width": null,
            "order": null,
            "_view_module_version": "1.2.0",
            "grid_template_areas": null,
            "object_position": null,
            "object_fit": null,
            "grid_auto_columns": null,
            "margin": null,
            "display": null,
            "left": null
          }
        },
        "fba28382fabf449aae1abaa5d9a537d9": {
          "model_module": "@jupyter-widgets/controls",
          "model_name": "HTMLModel",
          "state": {
            "_view_name": "HTMLView",
            "style": "IPY_MODEL_df1da943678a459ead7454a2c6c9b978",
            "_dom_classes": [],
            "description": "",
            "_model_name": "HTMLModel",
            "placeholder": "​",
            "_view_module": "@jupyter-widgets/controls",
            "_model_module_version": "1.5.0",
            "value": "Downloading: 100%",
            "_view_count": null,
            "_view_module_version": "1.5.0",
            "description_tooltip": null,
            "_model_module": "@jupyter-widgets/controls",
            "layout": "IPY_MODEL_1d8358f706e04cfca9165eef0d3aeae5"
          }
        },
        "6281e539cee04343ad0cf4146d38315b": {
          "model_module": "@jupyter-widgets/controls",
          "model_name": "FloatProgressModel",
          "state": {
            "_view_name": "ProgressView",
            "style": "IPY_MODEL_046a86cf07104db9ad66b5e770920644",
            "_dom_classes": [],
            "description": "",
            "_model_name": "FloatProgressModel",
            "bar_style": "success",
            "max": 479086,
            "_view_module": "@jupyter-widgets/controls",
            "_model_module_version": "1.5.0",
            "value": 479086,
            "_view_count": null,
            "_view_module_version": "1.5.0",
            "orientation": "horizontal",
            "min": 0,
            "description_tooltip": null,
            "_model_module": "@jupyter-widgets/controls",
            "layout": "IPY_MODEL_28401320131e4de6b2277f3ead72000f"
          }
        },
        "9f2f39ba52d2415b93e1afe95bddec88": {
          "model_module": "@jupyter-widgets/controls",
          "model_name": "HTMLModel",
          "state": {
            "_view_name": "HTMLView",
            "style": "IPY_MODEL_87bfa0729b71466d99f4355344b4c489",
            "_dom_classes": [],
            "description": "",
            "_model_name": "HTMLModel",
            "placeholder": "​",
            "_view_module": "@jupyter-widgets/controls",
            "_model_module_version": "1.5.0",
            "value": " 479k/479k [00:00&lt;00:00, 1.22MB/s]",
            "_view_count": null,
            "_view_module_version": "1.5.0",
            "description_tooltip": null,
            "_model_module": "@jupyter-widgets/controls",
            "layout": "IPY_MODEL_e00148334f51452ebba6eb841085588f"
          }
        },
        "df1da943678a459ead7454a2c6c9b978": {
          "model_module": "@jupyter-widgets/controls",
          "model_name": "DescriptionStyleModel",
          "state": {
            "_view_name": "StyleView",
            "_model_name": "DescriptionStyleModel",
            "description_width": "",
            "_view_module": "@jupyter-widgets/base",
            "_model_module_version": "1.5.0",
            "_view_count": null,
            "_view_module_version": "1.2.0",
            "_model_module": "@jupyter-widgets/controls"
          }
        },
        "1d8358f706e04cfca9165eef0d3aeae5": {
          "model_module": "@jupyter-widgets/base",
          "model_name": "LayoutModel",
          "state": {
            "_view_name": "LayoutView",
            "grid_template_rows": null,
            "right": null,
            "justify_content": null,
            "_view_module": "@jupyter-widgets/base",
            "overflow": null,
            "_model_module_version": "1.2.0",
            "_view_count": null,
            "flex_flow": null,
            "width": null,
            "min_width": null,
            "border": null,
            "align_items": null,
            "bottom": null,
            "_model_module": "@jupyter-widgets/base",
            "top": null,
            "grid_column": null,
            "overflow_y": null,
            "overflow_x": null,
            "grid_auto_flow": null,
            "grid_area": null,
            "grid_template_columns": null,
            "flex": null,
            "_model_name": "LayoutModel",
            "justify_items": null,
            "grid_row": null,
            "max_height": null,
            "align_content": null,
            "visibility": null,
            "align_self": null,
            "height": null,
            "min_height": null,
            "padding": null,
            "grid_auto_rows": null,
            "grid_gap": null,
            "max_width": null,
            "order": null,
            "_view_module_version": "1.2.0",
            "grid_template_areas": null,
            "object_position": null,
            "object_fit": null,
            "grid_auto_columns": null,
            "margin": null,
            "display": null,
            "left": null
          }
        },
        "046a86cf07104db9ad66b5e770920644": {
          "model_module": "@jupyter-widgets/controls",
          "model_name": "ProgressStyleModel",
          "state": {
            "_view_name": "StyleView",
            "_model_name": "ProgressStyleModel",
            "description_width": "",
            "_view_module": "@jupyter-widgets/base",
            "_model_module_version": "1.5.0",
            "_view_count": null,
            "_view_module_version": "1.2.0",
            "bar_color": null,
            "_model_module": "@jupyter-widgets/controls"
          }
        },
        "28401320131e4de6b2277f3ead72000f": {
          "model_module": "@jupyter-widgets/base",
          "model_name": "LayoutModel",
          "state": {
            "_view_name": "LayoutView",
            "grid_template_rows": null,
            "right": null,
            "justify_content": null,
            "_view_module": "@jupyter-widgets/base",
            "overflow": null,
            "_model_module_version": "1.2.0",
            "_view_count": null,
            "flex_flow": null,
            "width": null,
            "min_width": null,
            "border": null,
            "align_items": null,
            "bottom": null,
            "_model_module": "@jupyter-widgets/base",
            "top": null,
            "grid_column": null,
            "overflow_y": null,
            "overflow_x": null,
            "grid_auto_flow": null,
            "grid_area": null,
            "grid_template_columns": null,
            "flex": null,
            "_model_name": "LayoutModel",
            "justify_items": null,
            "grid_row": null,
            "max_height": null,
            "align_content": null,
            "visibility": null,
            "align_self": null,
            "height": null,
            "min_height": null,
            "padding": null,
            "grid_auto_rows": null,
            "grid_gap": null,
            "max_width": null,
            "order": null,
            "_view_module_version": "1.2.0",
            "grid_template_areas": null,
            "object_position": null,
            "object_fit": null,
            "grid_auto_columns": null,
            "margin": null,
            "display": null,
            "left": null
          }
        },
        "87bfa0729b71466d99f4355344b4c489": {
          "model_module": "@jupyter-widgets/controls",
          "model_name": "DescriptionStyleModel",
          "state": {
            "_view_name": "StyleView",
            "_model_name": "DescriptionStyleModel",
            "description_width": "",
            "_view_module": "@jupyter-widgets/base",
            "_model_module_version": "1.5.0",
            "_view_count": null,
            "_view_module_version": "1.2.0",
            "_model_module": "@jupyter-widgets/controls"
          }
        },
        "e00148334f51452ebba6eb841085588f": {
          "model_module": "@jupyter-widgets/base",
          "model_name": "LayoutModel",
          "state": {
            "_view_name": "LayoutView",
            "grid_template_rows": null,
            "right": null,
            "justify_content": null,
            "_view_module": "@jupyter-widgets/base",
            "overflow": null,
            "_model_module_version": "1.2.0",
            "_view_count": null,
            "flex_flow": null,
            "width": null,
            "min_width": null,
            "border": null,
            "align_items": null,
            "bottom": null,
            "_model_module": "@jupyter-widgets/base",
            "top": null,
            "grid_column": null,
            "overflow_y": null,
            "overflow_x": null,
            "grid_auto_flow": null,
            "grid_area": null,
            "grid_template_columns": null,
            "flex": null,
            "_model_name": "LayoutModel",
            "justify_items": null,
            "grid_row": null,
            "max_height": null,
            "align_content": null,
            "visibility": null,
            "align_self": null,
            "height": null,
            "min_height": null,
            "padding": null,
            "grid_auto_rows": null,
            "grid_gap": null,
            "max_width": null,
            "order": null,
            "_view_module_version": "1.2.0",
            "grid_template_areas": null,
            "object_position": null,
            "object_fit": null,
            "grid_auto_columns": null,
            "margin": null,
            "display": null,
            "left": null
          }
        },
        "2a963bf677944039aa75419909fb0758": {
          "model_module": "@jupyter-widgets/controls",
          "model_name": "HBoxModel",
          "state": {
            "_view_name": "HBoxView",
            "_dom_classes": [],
            "_model_name": "HBoxModel",
            "_view_module": "@jupyter-widgets/controls",
            "_model_module_version": "1.5.0",
            "_view_count": null,
            "_view_module_version": "1.5.0",
            "box_style": "",
            "layout": "IPY_MODEL_6178e82b0c0643be86d8148e3ed0b684",
            "_model_module": "@jupyter-widgets/controls",
            "children": [
              "IPY_MODEL_48a3f6c9084e4ae98e0ca227558a19d4",
              "IPY_MODEL_0608110d0efb4851ba0cb273f32424bc",
              "IPY_MODEL_51e24e21ac3642149d76a4607f7e35d1"
            ]
          }
        },
        "6178e82b0c0643be86d8148e3ed0b684": {
          "model_module": "@jupyter-widgets/base",
          "model_name": "LayoutModel",
          "state": {
            "_view_name": "LayoutView",
            "grid_template_rows": null,
            "right": null,
            "justify_content": null,
            "_view_module": "@jupyter-widgets/base",
            "overflow": null,
            "_model_module_version": "1.2.0",
            "_view_count": null,
            "flex_flow": null,
            "width": null,
            "min_width": null,
            "border": null,
            "align_items": null,
            "bottom": null,
            "_model_module": "@jupyter-widgets/base",
            "top": null,
            "grid_column": null,
            "overflow_y": null,
            "overflow_x": null,
            "grid_auto_flow": null,
            "grid_area": null,
            "grid_template_columns": null,
            "flex": null,
            "_model_name": "LayoutModel",
            "justify_items": null,
            "grid_row": null,
            "max_height": null,
            "align_content": null,
            "visibility": null,
            "align_self": null,
            "height": null,
            "min_height": null,
            "padding": null,
            "grid_auto_rows": null,
            "grid_gap": null,
            "max_width": null,
            "order": null,
            "_view_module_version": "1.2.0",
            "grid_template_areas": null,
            "object_position": null,
            "object_fit": null,
            "grid_auto_columns": null,
            "margin": null,
            "display": null,
            "left": null
          }
        },
        "48a3f6c9084e4ae98e0ca227558a19d4": {
          "model_module": "@jupyter-widgets/controls",
          "model_name": "HTMLModel",
          "state": {
            "_view_name": "HTMLView",
            "style": "IPY_MODEL_cee4bd1b857d4150be71e7d590e81015",
            "_dom_classes": [],
            "description": "",
            "_model_name": "HTMLModel",
            "placeholder": "​",
            "_view_module": "@jupyter-widgets/controls",
            "_model_module_version": "1.5.0",
            "value": "Downloading: 100%",
            "_view_count": null,
            "_view_module_version": "1.5.0",
            "description_tooltip": null,
            "_model_module": "@jupyter-widgets/controls",
            "layout": "IPY_MODEL_566a05cbf2d545368bea8166d4043330"
          }
        },
        "0608110d0efb4851ba0cb273f32424bc": {
          "model_module": "@jupyter-widgets/controls",
          "model_name": "FloatProgressModel",
          "state": {
            "_view_name": "ProgressView",
            "style": "IPY_MODEL_f8e0f054874a4f5d8cce625bc40f1f6b",
            "_dom_classes": [],
            "description": "",
            "_model_name": "FloatProgressModel",
            "bar_style": "success",
            "max": 29,
            "_view_module": "@jupyter-widgets/controls",
            "_model_module_version": "1.5.0",
            "value": 29,
            "_view_count": null,
            "_view_module_version": "1.5.0",
            "orientation": "horizontal",
            "min": 0,
            "description_tooltip": null,
            "_model_module": "@jupyter-widgets/controls",
            "layout": "IPY_MODEL_826480cb20dc40ad92bb29d117802a9f"
          }
        },
        "51e24e21ac3642149d76a4607f7e35d1": {
          "model_module": "@jupyter-widgets/controls",
          "model_name": "HTMLModel",
          "state": {
            "_view_name": "HTMLView",
            "style": "IPY_MODEL_435bdbfd227b46759c79e8722064c6c7",
            "_dom_classes": [],
            "description": "",
            "_model_name": "HTMLModel",
            "placeholder": "​",
            "_view_module": "@jupyter-widgets/controls",
            "_model_module_version": "1.5.0",
            "value": " 29.0/29.0 [00:00&lt;00:00, 858B/s]",
            "_view_count": null,
            "_view_module_version": "1.5.0",
            "description_tooltip": null,
            "_model_module": "@jupyter-widgets/controls",
            "layout": "IPY_MODEL_cf5c2409530f4ca391d8d26295018fe3"
          }
        },
        "cee4bd1b857d4150be71e7d590e81015": {
          "model_module": "@jupyter-widgets/controls",
          "model_name": "DescriptionStyleModel",
          "state": {
            "_view_name": "StyleView",
            "_model_name": "DescriptionStyleModel",
            "description_width": "",
            "_view_module": "@jupyter-widgets/base",
            "_model_module_version": "1.5.0",
            "_view_count": null,
            "_view_module_version": "1.2.0",
            "_model_module": "@jupyter-widgets/controls"
          }
        },
        "566a05cbf2d545368bea8166d4043330": {
          "model_module": "@jupyter-widgets/base",
          "model_name": "LayoutModel",
          "state": {
            "_view_name": "LayoutView",
            "grid_template_rows": null,
            "right": null,
            "justify_content": null,
            "_view_module": "@jupyter-widgets/base",
            "overflow": null,
            "_model_module_version": "1.2.0",
            "_view_count": null,
            "flex_flow": null,
            "width": null,
            "min_width": null,
            "border": null,
            "align_items": null,
            "bottom": null,
            "_model_module": "@jupyter-widgets/base",
            "top": null,
            "grid_column": null,
            "overflow_y": null,
            "overflow_x": null,
            "grid_auto_flow": null,
            "grid_area": null,
            "grid_template_columns": null,
            "flex": null,
            "_model_name": "LayoutModel",
            "justify_items": null,
            "grid_row": null,
            "max_height": null,
            "align_content": null,
            "visibility": null,
            "align_self": null,
            "height": null,
            "min_height": null,
            "padding": null,
            "grid_auto_rows": null,
            "grid_gap": null,
            "max_width": null,
            "order": null,
            "_view_module_version": "1.2.0",
            "grid_template_areas": null,
            "object_position": null,
            "object_fit": null,
            "grid_auto_columns": null,
            "margin": null,
            "display": null,
            "left": null
          }
        },
        "f8e0f054874a4f5d8cce625bc40f1f6b": {
          "model_module": "@jupyter-widgets/controls",
          "model_name": "ProgressStyleModel",
          "state": {
            "_view_name": "StyleView",
            "_model_name": "ProgressStyleModel",
            "description_width": "",
            "_view_module": "@jupyter-widgets/base",
            "_model_module_version": "1.5.0",
            "_view_count": null,
            "_view_module_version": "1.2.0",
            "bar_color": null,
            "_model_module": "@jupyter-widgets/controls"
          }
        },
        "826480cb20dc40ad92bb29d117802a9f": {
          "model_module": "@jupyter-widgets/base",
          "model_name": "LayoutModel",
          "state": {
            "_view_name": "LayoutView",
            "grid_template_rows": null,
            "right": null,
            "justify_content": null,
            "_view_module": "@jupyter-widgets/base",
            "overflow": null,
            "_model_module_version": "1.2.0",
            "_view_count": null,
            "flex_flow": null,
            "width": null,
            "min_width": null,
            "border": null,
            "align_items": null,
            "bottom": null,
            "_model_module": "@jupyter-widgets/base",
            "top": null,
            "grid_column": null,
            "overflow_y": null,
            "overflow_x": null,
            "grid_auto_flow": null,
            "grid_area": null,
            "grid_template_columns": null,
            "flex": null,
            "_model_name": "LayoutModel",
            "justify_items": null,
            "grid_row": null,
            "max_height": null,
            "align_content": null,
            "visibility": null,
            "align_self": null,
            "height": null,
            "min_height": null,
            "padding": null,
            "grid_auto_rows": null,
            "grid_gap": null,
            "max_width": null,
            "order": null,
            "_view_module_version": "1.2.0",
            "grid_template_areas": null,
            "object_position": null,
            "object_fit": null,
            "grid_auto_columns": null,
            "margin": null,
            "display": null,
            "left": null
          }
        },
        "435bdbfd227b46759c79e8722064c6c7": {
          "model_module": "@jupyter-widgets/controls",
          "model_name": "DescriptionStyleModel",
          "state": {
            "_view_name": "StyleView",
            "_model_name": "DescriptionStyleModel",
            "description_width": "",
            "_view_module": "@jupyter-widgets/base",
            "_model_module_version": "1.5.0",
            "_view_count": null,
            "_view_module_version": "1.2.0",
            "_model_module": "@jupyter-widgets/controls"
          }
        },
        "cf5c2409530f4ca391d8d26295018fe3": {
          "model_module": "@jupyter-widgets/base",
          "model_name": "LayoutModel",
          "state": {
            "_view_name": "LayoutView",
            "grid_template_rows": null,
            "right": null,
            "justify_content": null,
            "_view_module": "@jupyter-widgets/base",
            "overflow": null,
            "_model_module_version": "1.2.0",
            "_view_count": null,
            "flex_flow": null,
            "width": null,
            "min_width": null,
            "border": null,
            "align_items": null,
            "bottom": null,
            "_model_module": "@jupyter-widgets/base",
            "top": null,
            "grid_column": null,
            "overflow_y": null,
            "overflow_x": null,
            "grid_auto_flow": null,
            "grid_area": null,
            "grid_template_columns": null,
            "flex": null,
            "_model_name": "LayoutModel",
            "justify_items": null,
            "grid_row": null,
            "max_height": null,
            "align_content": null,
            "visibility": null,
            "align_self": null,
            "height": null,
            "min_height": null,
            "padding": null,
            "grid_auto_rows": null,
            "grid_gap": null,
            "max_width": null,
            "order": null,
            "_view_module_version": "1.2.0",
            "grid_template_areas": null,
            "object_position": null,
            "object_fit": null,
            "grid_auto_columns": null,
            "margin": null,
            "display": null,
            "left": null
          }
        },
        "6d77d7d273ab4f569aff18b605fb2e79": {
          "model_module": "@jupyter-widgets/controls",
          "model_name": "HBoxModel",
          "state": {
            "_view_name": "HBoxView",
            "_dom_classes": [],
            "_model_name": "HBoxModel",
            "_view_module": "@jupyter-widgets/controls",
            "_model_module_version": "1.5.0",
            "_view_count": null,
            "_view_module_version": "1.5.0",
            "box_style": "",
            "layout": "IPY_MODEL_23fc3b692b974e5f891fb7ee7fc71112",
            "_model_module": "@jupyter-widgets/controls",
            "children": [
              "IPY_MODEL_1f8fc82a8a0d48c8834003253d88cb3a",
              "IPY_MODEL_4e447a5a4d1d4da99e08ff93093174f1",
              "IPY_MODEL_efb295c95ba547fb8e754b9543cd2287"
            ]
          }
        },
        "23fc3b692b974e5f891fb7ee7fc71112": {
          "model_module": "@jupyter-widgets/base",
          "model_name": "LayoutModel",
          "state": {
            "_view_name": "LayoutView",
            "grid_template_rows": null,
            "right": null,
            "justify_content": null,
            "_view_module": "@jupyter-widgets/base",
            "overflow": null,
            "_model_module_version": "1.2.0",
            "_view_count": null,
            "flex_flow": null,
            "width": null,
            "min_width": null,
            "border": null,
            "align_items": null,
            "bottom": null,
            "_model_module": "@jupyter-widgets/base",
            "top": null,
            "grid_column": null,
            "overflow_y": null,
            "overflow_x": null,
            "grid_auto_flow": null,
            "grid_area": null,
            "grid_template_columns": null,
            "flex": null,
            "_model_name": "LayoutModel",
            "justify_items": null,
            "grid_row": null,
            "max_height": null,
            "align_content": null,
            "visibility": null,
            "align_self": null,
            "height": null,
            "min_height": null,
            "padding": null,
            "grid_auto_rows": null,
            "grid_gap": null,
            "max_width": null,
            "order": null,
            "_view_module_version": "1.2.0",
            "grid_template_areas": null,
            "object_position": null,
            "object_fit": null,
            "grid_auto_columns": null,
            "margin": null,
            "display": null,
            "left": null
          }
        },
        "1f8fc82a8a0d48c8834003253d88cb3a": {
          "model_module": "@jupyter-widgets/controls",
          "model_name": "HTMLModel",
          "state": {
            "_view_name": "HTMLView",
            "style": "IPY_MODEL_c88da93fc7ce49a68e7ebe2f812a3a7a",
            "_dom_classes": [],
            "description": "",
            "_model_name": "HTMLModel",
            "placeholder": "​",
            "_view_module": "@jupyter-widgets/controls",
            "_model_module_version": "1.5.0",
            "value": "  0%",
            "_view_count": null,
            "_view_module_version": "1.5.0",
            "description_tooltip": null,
            "_model_module": "@jupyter-widgets/controls",
            "layout": "IPY_MODEL_0315ff25d8e44fc4b7125e5b36db054a"
          }
        },
        "4e447a5a4d1d4da99e08ff93093174f1": {
          "model_module": "@jupyter-widgets/controls",
          "model_name": "FloatProgressModel",
          "state": {
            "_view_name": "ProgressView",
            "style": "IPY_MODEL_a91dd4740dba4a3c998b37561d3843f2",
            "_dom_classes": [],
            "description": "",
            "_model_name": "FloatProgressModel",
            "bar_style": "danger",
            "max": 1252,
            "_view_module": "@jupyter-widgets/controls",
            "_model_module_version": "1.5.0",
            "value": 3,
            "_view_count": null,
            "_view_module_version": "1.5.0",
            "orientation": "horizontal",
            "min": 0,
            "description_tooltip": null,
            "_model_module": "@jupyter-widgets/controls",
            "layout": "IPY_MODEL_73d7bee10edc411f8413e3af480b2ba5"
          }
        },
        "efb295c95ba547fb8e754b9543cd2287": {
          "model_module": "@jupyter-widgets/controls",
          "model_name": "HTMLModel",
          "state": {
            "_view_name": "HTMLView",
            "style": "IPY_MODEL_8a79b6777dbe4c2791bb481f681eade4",
            "_dom_classes": [],
            "description": "",
            "_model_name": "HTMLModel",
            "placeholder": "​",
            "_view_module": "@jupyter-widgets/controls",
            "_model_module_version": "1.5.0",
            "value": " 3/1252 [00:00&lt;04:13,  4.92it/s]",
            "_view_count": null,
            "_view_module_version": "1.5.0",
            "description_tooltip": null,
            "_model_module": "@jupyter-widgets/controls",
            "layout": "IPY_MODEL_f7b671c085e7469db662b8842dfcddd4"
          }
        },
        "c88da93fc7ce49a68e7ebe2f812a3a7a": {
          "model_module": "@jupyter-widgets/controls",
          "model_name": "DescriptionStyleModel",
          "state": {
            "_view_name": "StyleView",
            "_model_name": "DescriptionStyleModel",
            "description_width": "",
            "_view_module": "@jupyter-widgets/base",
            "_model_module_version": "1.5.0",
            "_view_count": null,
            "_view_module_version": "1.2.0",
            "_model_module": "@jupyter-widgets/controls"
          }
        },
        "0315ff25d8e44fc4b7125e5b36db054a": {
          "model_module": "@jupyter-widgets/base",
          "model_name": "LayoutModel",
          "state": {
            "_view_name": "LayoutView",
            "grid_template_rows": null,
            "right": null,
            "justify_content": null,
            "_view_module": "@jupyter-widgets/base",
            "overflow": null,
            "_model_module_version": "1.2.0",
            "_view_count": null,
            "flex_flow": null,
            "width": null,
            "min_width": null,
            "border": null,
            "align_items": null,
            "bottom": null,
            "_model_module": "@jupyter-widgets/base",
            "top": null,
            "grid_column": null,
            "overflow_y": null,
            "overflow_x": null,
            "grid_auto_flow": null,
            "grid_area": null,
            "grid_template_columns": null,
            "flex": null,
            "_model_name": "LayoutModel",
            "justify_items": null,
            "grid_row": null,
            "max_height": null,
            "align_content": null,
            "visibility": null,
            "align_self": null,
            "height": null,
            "min_height": null,
            "padding": null,
            "grid_auto_rows": null,
            "grid_gap": null,
            "max_width": null,
            "order": null,
            "_view_module_version": "1.2.0",
            "grid_template_areas": null,
            "object_position": null,
            "object_fit": null,
            "grid_auto_columns": null,
            "margin": null,
            "display": null,
            "left": null
          }
        },
        "a91dd4740dba4a3c998b37561d3843f2": {
          "model_module": "@jupyter-widgets/controls",
          "model_name": "ProgressStyleModel",
          "state": {
            "_view_name": "StyleView",
            "_model_name": "ProgressStyleModel",
            "description_width": "",
            "_view_module": "@jupyter-widgets/base",
            "_model_module_version": "1.5.0",
            "_view_count": null,
            "_view_module_version": "1.2.0",
            "bar_color": null,
            "_model_module": "@jupyter-widgets/controls"
          }
        },
        "73d7bee10edc411f8413e3af480b2ba5": {
          "model_module": "@jupyter-widgets/base",
          "model_name": "LayoutModel",
          "state": {
            "_view_name": "LayoutView",
            "grid_template_rows": null,
            "right": null,
            "justify_content": null,
            "_view_module": "@jupyter-widgets/base",
            "overflow": null,
            "_model_module_version": "1.2.0",
            "_view_count": null,
            "flex_flow": null,
            "width": null,
            "min_width": null,
            "border": null,
            "align_items": null,
            "bottom": null,
            "_model_module": "@jupyter-widgets/base",
            "top": null,
            "grid_column": null,
            "overflow_y": null,
            "overflow_x": null,
            "grid_auto_flow": null,
            "grid_area": null,
            "grid_template_columns": null,
            "flex": null,
            "_model_name": "LayoutModel",
            "justify_items": null,
            "grid_row": null,
            "max_height": null,
            "align_content": null,
            "visibility": null,
            "align_self": null,
            "height": null,
            "min_height": null,
            "padding": null,
            "grid_auto_rows": null,
            "grid_gap": null,
            "max_width": null,
            "order": null,
            "_view_module_version": "1.2.0",
            "grid_template_areas": null,
            "object_position": null,
            "object_fit": null,
            "grid_auto_columns": null,
            "margin": null,
            "display": null,
            "left": null
          }
        },
        "8a79b6777dbe4c2791bb481f681eade4": {
          "model_module": "@jupyter-widgets/controls",
          "model_name": "DescriptionStyleModel",
          "state": {
            "_view_name": "StyleView",
            "_model_name": "DescriptionStyleModel",
            "description_width": "",
            "_view_module": "@jupyter-widgets/base",
            "_model_module_version": "1.5.0",
            "_view_count": null,
            "_view_module_version": "1.2.0",
            "_model_module": "@jupyter-widgets/controls"
          }
        },
        "f7b671c085e7469db662b8842dfcddd4": {
          "model_module": "@jupyter-widgets/base",
          "model_name": "LayoutModel",
          "state": {
            "_view_name": "LayoutView",
            "grid_template_rows": null,
            "right": null,
            "justify_content": null,
            "_view_module": "@jupyter-widgets/base",
            "overflow": null,
            "_model_module_version": "1.2.0",
            "_view_count": null,
            "flex_flow": null,
            "width": null,
            "min_width": null,
            "border": null,
            "align_items": null,
            "bottom": null,
            "_model_module": "@jupyter-widgets/base",
            "top": null,
            "grid_column": null,
            "overflow_y": null,
            "overflow_x": null,
            "grid_auto_flow": null,
            "grid_area": null,
            "grid_template_columns": null,
            "flex": null,
            "_model_name": "LayoutModel",
            "justify_items": null,
            "grid_row": null,
            "max_height": null,
            "align_content": null,
            "visibility": null,
            "align_self": null,
            "height": null,
            "min_height": null,
            "padding": null,
            "grid_auto_rows": null,
            "grid_gap": null,
            "max_width": null,
            "order": null,
            "_view_module_version": "1.2.0",
            "grid_template_areas": null,
            "object_position": null,
            "object_fit": null,
            "grid_auto_columns": null,
            "margin": null,
            "display": null,
            "left": null
          }
        },
        "27c4e245d0b94366b025c04d009f412c": {
          "model_module": "@jupyter-widgets/controls",
          "model_name": "HBoxModel",
          "state": {
            "_view_name": "HBoxView",
            "_dom_classes": [],
            "_model_name": "HBoxModel",
            "_view_module": "@jupyter-widgets/controls",
            "_model_module_version": "1.5.0",
            "_view_count": null,
            "_view_module_version": "1.5.0",
            "box_style": "",
            "layout": "IPY_MODEL_e14365d047974afba6e51f3de72c9aed",
            "_model_module": "@jupyter-widgets/controls",
            "children": [
              "IPY_MODEL_40ce31584e4d4a539a354834c0121f78",
              "IPY_MODEL_51a6305e6470432a90efb50ecd28aca6",
              "IPY_MODEL_2c9e3bf62042454d80583e831ce49e04"
            ]
          }
        },
        "e14365d047974afba6e51f3de72c9aed": {
          "model_module": "@jupyter-widgets/base",
          "model_name": "LayoutModel",
          "state": {
            "_view_name": "LayoutView",
            "grid_template_rows": null,
            "right": null,
            "justify_content": null,
            "_view_module": "@jupyter-widgets/base",
            "overflow": null,
            "_model_module_version": "1.2.0",
            "_view_count": null,
            "flex_flow": null,
            "width": null,
            "min_width": null,
            "border": null,
            "align_items": null,
            "bottom": null,
            "_model_module": "@jupyter-widgets/base",
            "top": null,
            "grid_column": null,
            "overflow_y": null,
            "overflow_x": null,
            "grid_auto_flow": null,
            "grid_area": null,
            "grid_template_columns": null,
            "flex": null,
            "_model_name": "LayoutModel",
            "justify_items": null,
            "grid_row": null,
            "max_height": null,
            "align_content": null,
            "visibility": null,
            "align_self": null,
            "height": null,
            "min_height": null,
            "padding": null,
            "grid_auto_rows": null,
            "grid_gap": null,
            "max_width": null,
            "order": null,
            "_view_module_version": "1.2.0",
            "grid_template_areas": null,
            "object_position": null,
            "object_fit": null,
            "grid_auto_columns": null,
            "margin": null,
            "display": null,
            "left": null
          }
        },
        "40ce31584e4d4a539a354834c0121f78": {
          "model_module": "@jupyter-widgets/controls",
          "model_name": "HTMLModel",
          "state": {
            "_view_name": "HTMLView",
            "style": "IPY_MODEL_dad5231678e64c7489b21f47697b6ec3",
            "_dom_classes": [],
            "description": "",
            "_model_name": "HTMLModel",
            "placeholder": "​",
            "_view_module": "@jupyter-widgets/controls",
            "_model_module_version": "1.5.0",
            "value": "Epoch 1 of 10:   0%",
            "_view_count": null,
            "_view_module_version": "1.5.0",
            "description_tooltip": null,
            "_model_module": "@jupyter-widgets/controls",
            "layout": "IPY_MODEL_464fea73eddd440996a7f3443c4a5d17"
          }
        },
        "51a6305e6470432a90efb50ecd28aca6": {
          "model_module": "@jupyter-widgets/controls",
          "model_name": "FloatProgressModel",
          "state": {
            "_view_name": "ProgressView",
            "style": "IPY_MODEL_c24e5b207b2e452a9b61a09d43a72d7c",
            "_dom_classes": [],
            "description": "",
            "_model_name": "FloatProgressModel",
            "bar_style": "danger",
            "max": 10,
            "_view_module": "@jupyter-widgets/controls",
            "_model_module_version": "1.5.0",
            "value": 0,
            "_view_count": null,
            "_view_module_version": "1.5.0",
            "orientation": "horizontal",
            "min": 0,
            "description_tooltip": null,
            "_model_module": "@jupyter-widgets/controls",
            "layout": "IPY_MODEL_9ed2cc1dabce4ce2a6437cd49fa8243a"
          }
        },
        "2c9e3bf62042454d80583e831ce49e04": {
          "model_module": "@jupyter-widgets/controls",
          "model_name": "HTMLModel",
          "state": {
            "_view_name": "HTMLView",
            "style": "IPY_MODEL_72b445caf4024646a4e2b89ac58e3866",
            "_dom_classes": [],
            "description": "",
            "_model_name": "HTMLModel",
            "placeholder": "​",
            "_view_module": "@jupyter-widgets/controls",
            "_model_module_version": "1.5.0",
            "value": " 0/10 [00:10&lt;?, ?it/s]",
            "_view_count": null,
            "_view_module_version": "1.5.0",
            "description_tooltip": null,
            "_model_module": "@jupyter-widgets/controls",
            "layout": "IPY_MODEL_6469c0850a4b4bb6a5446334851be3f6"
          }
        },
        "dad5231678e64c7489b21f47697b6ec3": {
          "model_module": "@jupyter-widgets/controls",
          "model_name": "DescriptionStyleModel",
          "state": {
            "_view_name": "StyleView",
            "_model_name": "DescriptionStyleModel",
            "description_width": "",
            "_view_module": "@jupyter-widgets/base",
            "_model_module_version": "1.5.0",
            "_view_count": null,
            "_view_module_version": "1.2.0",
            "_model_module": "@jupyter-widgets/controls"
          }
        },
        "464fea73eddd440996a7f3443c4a5d17": {
          "model_module": "@jupyter-widgets/base",
          "model_name": "LayoutModel",
          "state": {
            "_view_name": "LayoutView",
            "grid_template_rows": null,
            "right": null,
            "justify_content": null,
            "_view_module": "@jupyter-widgets/base",
            "overflow": null,
            "_model_module_version": "1.2.0",
            "_view_count": null,
            "flex_flow": null,
            "width": null,
            "min_width": null,
            "border": null,
            "align_items": null,
            "bottom": null,
            "_model_module": "@jupyter-widgets/base",
            "top": null,
            "grid_column": null,
            "overflow_y": null,
            "overflow_x": null,
            "grid_auto_flow": null,
            "grid_area": null,
            "grid_template_columns": null,
            "flex": null,
            "_model_name": "LayoutModel",
            "justify_items": null,
            "grid_row": null,
            "max_height": null,
            "align_content": null,
            "visibility": null,
            "align_self": null,
            "height": null,
            "min_height": null,
            "padding": null,
            "grid_auto_rows": null,
            "grid_gap": null,
            "max_width": null,
            "order": null,
            "_view_module_version": "1.2.0",
            "grid_template_areas": null,
            "object_position": null,
            "object_fit": null,
            "grid_auto_columns": null,
            "margin": null,
            "display": null,
            "left": null
          }
        },
        "c24e5b207b2e452a9b61a09d43a72d7c": {
          "model_module": "@jupyter-widgets/controls",
          "model_name": "ProgressStyleModel",
          "state": {
            "_view_name": "StyleView",
            "_model_name": "ProgressStyleModel",
            "description_width": "",
            "_view_module": "@jupyter-widgets/base",
            "_model_module_version": "1.5.0",
            "_view_count": null,
            "_view_module_version": "1.2.0",
            "bar_color": null,
            "_model_module": "@jupyter-widgets/controls"
          }
        },
        "9ed2cc1dabce4ce2a6437cd49fa8243a": {
          "model_module": "@jupyter-widgets/base",
          "model_name": "LayoutModel",
          "state": {
            "_view_name": "LayoutView",
            "grid_template_rows": null,
            "right": null,
            "justify_content": null,
            "_view_module": "@jupyter-widgets/base",
            "overflow": null,
            "_model_module_version": "1.2.0",
            "_view_count": null,
            "flex_flow": null,
            "width": null,
            "min_width": null,
            "border": null,
            "align_items": null,
            "bottom": null,
            "_model_module": "@jupyter-widgets/base",
            "top": null,
            "grid_column": null,
            "overflow_y": null,
            "overflow_x": null,
            "grid_auto_flow": null,
            "grid_area": null,
            "grid_template_columns": null,
            "flex": null,
            "_model_name": "LayoutModel",
            "justify_items": null,
            "grid_row": null,
            "max_height": null,
            "align_content": null,
            "visibility": null,
            "align_self": null,
            "height": null,
            "min_height": null,
            "padding": null,
            "grid_auto_rows": null,
            "grid_gap": null,
            "max_width": null,
            "order": null,
            "_view_module_version": "1.2.0",
            "grid_template_areas": null,
            "object_position": null,
            "object_fit": null,
            "grid_auto_columns": null,
            "margin": null,
            "display": null,
            "left": null
          }
        },
        "72b445caf4024646a4e2b89ac58e3866": {
          "model_module": "@jupyter-widgets/controls",
          "model_name": "DescriptionStyleModel",
          "state": {
            "_view_name": "StyleView",
            "_model_name": "DescriptionStyleModel",
            "description_width": "",
            "_view_module": "@jupyter-widgets/base",
            "_model_module_version": "1.5.0",
            "_view_count": null,
            "_view_module_version": "1.2.0",
            "_model_module": "@jupyter-widgets/controls"
          }
        },
        "6469c0850a4b4bb6a5446334851be3f6": {
          "model_module": "@jupyter-widgets/base",
          "model_name": "LayoutModel",
          "state": {
            "_view_name": "LayoutView",
            "grid_template_rows": null,
            "right": null,
            "justify_content": null,
            "_view_module": "@jupyter-widgets/base",
            "overflow": null,
            "_model_module_version": "1.2.0",
            "_view_count": null,
            "flex_flow": null,
            "width": null,
            "min_width": null,
            "border": null,
            "align_items": null,
            "bottom": null,
            "_model_module": "@jupyter-widgets/base",
            "top": null,
            "grid_column": null,
            "overflow_y": null,
            "overflow_x": null,
            "grid_auto_flow": null,
            "grid_area": null,
            "grid_template_columns": null,
            "flex": null,
            "_model_name": "LayoutModel",
            "justify_items": null,
            "grid_row": null,
            "max_height": null,
            "align_content": null,
            "visibility": null,
            "align_self": null,
            "height": null,
            "min_height": null,
            "padding": null,
            "grid_auto_rows": null,
            "grid_gap": null,
            "max_width": null,
            "order": null,
            "_view_module_version": "1.2.0",
            "grid_template_areas": null,
            "object_position": null,
            "object_fit": null,
            "grid_auto_columns": null,
            "margin": null,
            "display": null,
            "left": null
          }
        },
        "46d44dea564b449d9b3a7185c55d533f": {
          "model_module": "@jupyter-widgets/controls",
          "model_name": "HBoxModel",
          "state": {
            "_view_name": "HBoxView",
            "_dom_classes": [],
            "_model_name": "HBoxModel",
            "_view_module": "@jupyter-widgets/controls",
            "_model_module_version": "1.5.0",
            "_view_count": null,
            "_view_module_version": "1.5.0",
            "box_style": "",
            "layout": "IPY_MODEL_56e1a4cad7be4be4a7c4d5341e93842d",
            "_model_module": "@jupyter-widgets/controls",
            "children": [
              "IPY_MODEL_c3a773fd1c0545e5980143a58db45076",
              "IPY_MODEL_ff247df8416a4e59bce44ce8c76f355a",
              "IPY_MODEL_fe9fcec355444136a236ad976cb3338b"
            ]
          }
        },
        "56e1a4cad7be4be4a7c4d5341e93842d": {
          "model_module": "@jupyter-widgets/base",
          "model_name": "LayoutModel",
          "state": {
            "_view_name": "LayoutView",
            "grid_template_rows": null,
            "right": null,
            "justify_content": null,
            "_view_module": "@jupyter-widgets/base",
            "overflow": null,
            "_model_module_version": "1.2.0",
            "_view_count": null,
            "flex_flow": null,
            "width": null,
            "min_width": null,
            "border": null,
            "align_items": null,
            "bottom": null,
            "_model_module": "@jupyter-widgets/base",
            "top": null,
            "grid_column": null,
            "overflow_y": null,
            "overflow_x": null,
            "grid_auto_flow": null,
            "grid_area": null,
            "grid_template_columns": null,
            "flex": null,
            "_model_name": "LayoutModel",
            "justify_items": null,
            "grid_row": null,
            "max_height": null,
            "align_content": null,
            "visibility": null,
            "align_self": null,
            "height": null,
            "min_height": null,
            "padding": null,
            "grid_auto_rows": null,
            "grid_gap": null,
            "max_width": null,
            "order": null,
            "_view_module_version": "1.2.0",
            "grid_template_areas": null,
            "object_position": null,
            "object_fit": null,
            "grid_auto_columns": null,
            "margin": null,
            "display": null,
            "left": null
          }
        },
        "c3a773fd1c0545e5980143a58db45076": {
          "model_module": "@jupyter-widgets/controls",
          "model_name": "HTMLModel",
          "state": {
            "_view_name": "HTMLView",
            "style": "IPY_MODEL_8e9ad72618494396a67f0fde14a8472d",
            "_dom_classes": [],
            "description": "",
            "_model_name": "HTMLModel",
            "placeholder": "​",
            "_view_module": "@jupyter-widgets/controls",
            "_model_module_version": "1.5.0",
            "value": "Epochs 0/10. Running Loss:    0.0099:  47%",
            "_view_count": null,
            "_view_module_version": "1.5.0",
            "description_tooltip": null,
            "_model_module": "@jupyter-widgets/controls",
            "layout": "IPY_MODEL_00b7b890f8dc4103bf0f7300d98af8f0"
          }
        },
        "ff247df8416a4e59bce44ce8c76f355a": {
          "model_module": "@jupyter-widgets/controls",
          "model_name": "FloatProgressModel",
          "state": {
            "_view_name": "ProgressView",
            "style": "IPY_MODEL_16186f1558a843b29a7d932f7b45be56",
            "_dom_classes": [],
            "description": "",
            "_model_name": "FloatProgressModel",
            "bar_style": "danger",
            "max": 157,
            "_view_module": "@jupyter-widgets/controls",
            "_model_module_version": "1.5.0",
            "value": 74,
            "_view_count": null,
            "_view_module_version": "1.5.0",
            "orientation": "horizontal",
            "min": 0,
            "description_tooltip": null,
            "_model_module": "@jupyter-widgets/controls",
            "layout": "IPY_MODEL_c6b4848c5ec7455f8e10719935393f6a"
          }
        },
        "fe9fcec355444136a236ad976cb3338b": {
          "model_module": "@jupyter-widgets/controls",
          "model_name": "HTMLModel",
          "state": {
            "_view_name": "HTMLView",
            "style": "IPY_MODEL_1c1c855009f344d2ae289936ac9357f0",
            "_dom_classes": [],
            "description": "",
            "_model_name": "HTMLModel",
            "placeholder": "​",
            "_view_module": "@jupyter-widgets/controls",
            "_model_module_version": "1.5.0",
            "value": " 74/157 [00:09&lt;00:10,  7.60it/s]",
            "_view_count": null,
            "_view_module_version": "1.5.0",
            "description_tooltip": null,
            "_model_module": "@jupyter-widgets/controls",
            "layout": "IPY_MODEL_0d8843a7448e4dd28b44286b4ec06e8a"
          }
        },
        "8e9ad72618494396a67f0fde14a8472d": {
          "model_module": "@jupyter-widgets/controls",
          "model_name": "DescriptionStyleModel",
          "state": {
            "_view_name": "StyleView",
            "_model_name": "DescriptionStyleModel",
            "description_width": "",
            "_view_module": "@jupyter-widgets/base",
            "_model_module_version": "1.5.0",
            "_view_count": null,
            "_view_module_version": "1.2.0",
            "_model_module": "@jupyter-widgets/controls"
          }
        },
        "00b7b890f8dc4103bf0f7300d98af8f0": {
          "model_module": "@jupyter-widgets/base",
          "model_name": "LayoutModel",
          "state": {
            "_view_name": "LayoutView",
            "grid_template_rows": null,
            "right": null,
            "justify_content": null,
            "_view_module": "@jupyter-widgets/base",
            "overflow": null,
            "_model_module_version": "1.2.0",
            "_view_count": null,
            "flex_flow": null,
            "width": null,
            "min_width": null,
            "border": null,
            "align_items": null,
            "bottom": null,
            "_model_module": "@jupyter-widgets/base",
            "top": null,
            "grid_column": null,
            "overflow_y": null,
            "overflow_x": null,
            "grid_auto_flow": null,
            "grid_area": null,
            "grid_template_columns": null,
            "flex": null,
            "_model_name": "LayoutModel",
            "justify_items": null,
            "grid_row": null,
            "max_height": null,
            "align_content": null,
            "visibility": null,
            "align_self": null,
            "height": null,
            "min_height": null,
            "padding": null,
            "grid_auto_rows": null,
            "grid_gap": null,
            "max_width": null,
            "order": null,
            "_view_module_version": "1.2.0",
            "grid_template_areas": null,
            "object_position": null,
            "object_fit": null,
            "grid_auto_columns": null,
            "margin": null,
            "display": null,
            "left": null
          }
        },
        "16186f1558a843b29a7d932f7b45be56": {
          "model_module": "@jupyter-widgets/controls",
          "model_name": "ProgressStyleModel",
          "state": {
            "_view_name": "StyleView",
            "_model_name": "ProgressStyleModel",
            "description_width": "",
            "_view_module": "@jupyter-widgets/base",
            "_model_module_version": "1.5.0",
            "_view_count": null,
            "_view_module_version": "1.2.0",
            "bar_color": null,
            "_model_module": "@jupyter-widgets/controls"
          }
        },
        "c6b4848c5ec7455f8e10719935393f6a": {
          "model_module": "@jupyter-widgets/base",
          "model_name": "LayoutModel",
          "state": {
            "_view_name": "LayoutView",
            "grid_template_rows": null,
            "right": null,
            "justify_content": null,
            "_view_module": "@jupyter-widgets/base",
            "overflow": null,
            "_model_module_version": "1.2.0",
            "_view_count": null,
            "flex_flow": null,
            "width": null,
            "min_width": null,
            "border": null,
            "align_items": null,
            "bottom": null,
            "_model_module": "@jupyter-widgets/base",
            "top": null,
            "grid_column": null,
            "overflow_y": null,
            "overflow_x": null,
            "grid_auto_flow": null,
            "grid_area": null,
            "grid_template_columns": null,
            "flex": null,
            "_model_name": "LayoutModel",
            "justify_items": null,
            "grid_row": null,
            "max_height": null,
            "align_content": null,
            "visibility": null,
            "align_self": null,
            "height": null,
            "min_height": null,
            "padding": null,
            "grid_auto_rows": null,
            "grid_gap": null,
            "max_width": null,
            "order": null,
            "_view_module_version": "1.2.0",
            "grid_template_areas": null,
            "object_position": null,
            "object_fit": null,
            "grid_auto_columns": null,
            "margin": null,
            "display": null,
            "left": null
          }
        },
        "1c1c855009f344d2ae289936ac9357f0": {
          "model_module": "@jupyter-widgets/controls",
          "model_name": "DescriptionStyleModel",
          "state": {
            "_view_name": "StyleView",
            "_model_name": "DescriptionStyleModel",
            "description_width": "",
            "_view_module": "@jupyter-widgets/base",
            "_model_module_version": "1.5.0",
            "_view_count": null,
            "_view_module_version": "1.2.0",
            "_model_module": "@jupyter-widgets/controls"
          }
        },
        "0d8843a7448e4dd28b44286b4ec06e8a": {
          "model_module": "@jupyter-widgets/base",
          "model_name": "LayoutModel",
          "state": {
            "_view_name": "LayoutView",
            "grid_template_rows": null,
            "right": null,
            "justify_content": null,
            "_view_module": "@jupyter-widgets/base",
            "overflow": null,
            "_model_module_version": "1.2.0",
            "_view_count": null,
            "flex_flow": null,
            "width": null,
            "min_width": null,
            "border": null,
            "align_items": null,
            "bottom": null,
            "_model_module": "@jupyter-widgets/base",
            "top": null,
            "grid_column": null,
            "overflow_y": null,
            "overflow_x": null,
            "grid_auto_flow": null,
            "grid_area": null,
            "grid_template_columns": null,
            "flex": null,
            "_model_name": "LayoutModel",
            "justify_items": null,
            "grid_row": null,
            "max_height": null,
            "align_content": null,
            "visibility": null,
            "align_self": null,
            "height": null,
            "min_height": null,
            "padding": null,
            "grid_auto_rows": null,
            "grid_gap": null,
            "max_width": null,
            "order": null,
            "_view_module_version": "1.2.0",
            "grid_template_areas": null,
            "object_position": null,
            "object_fit": null,
            "grid_auto_columns": null,
            "margin": null,
            "display": null,
            "left": null
          }
        }
      }
    }
  },
  "cells": [
    {
      "cell_type": "markdown",
      "metadata": {
        "id": "dgD3XbPds9xQ"
      },
      "source": [
        "# Automated Essay Scoring\n",
        "Automated scoring of social study evaluation"
      ]
    },
    {
      "cell_type": "markdown",
      "metadata": {
        "id": "v27TWYp_s9xR"
      },
      "source": [
        "### Project Repo \n",
        "https://github.com/Testbild/azubi_evaluation_ml_with_tf"
      ]
    },
    {
      "cell_type": "markdown",
      "metadata": {
        "id": "4Nbtlpq0s9xS"
      },
      "source": [
        "## Participants:\n",
        "Name / Github User  \n",
        "\n",
        "Christopher Hansen / Testbild  \n",
        "Sabrina Ludwig / saludwig26  \n",
        "Kerstin Eilers / kemeni23  \n",
        "Christian Mayer / maychr"
      ]
    },
    {
      "cell_type": "markdown",
      "metadata": {
        "id": "_OAz0ANbs9xS"
      },
      "source": [
        "### Course and Semester\n",
        "Machine Learning With Tensorflow / SoSe2021"
      ]
    },
    {
      "cell_type": "markdown",
      "metadata": {
        "id": "-0JN1ztBs9xT"
      },
      "source": [
        "### License\n",
        "If you are releasing the software under some certain license, you can mention it and also include the `LICENSE.md` file in the folder\n",
        "\n",
        "---"
      ]
    },
    {
      "cell_type": "code",
      "metadata": {
        "id": "EKuWTTVMs9xU"
      },
      "source": [
        "# Here you can start your code! Thanks"
      ],
      "execution_count": 1,
      "outputs": []
    },
    {
      "cell_type": "code",
      "metadata": {
        "id": "9U9Scx8Q1jps",
        "colab": {
          "base_uri": "https://localhost:8080/"
        },
        "outputId": "b4516a67-9fd5-40f9-eaa5-48aa6a635d5f"
      },
      "source": [
        "!pip install tensorflow-text"
      ],
      "execution_count": 2,
      "outputs": [
        {
          "output_type": "stream",
          "text": [
            "Collecting tensorflow-text\n",
            "\u001b[?25l  Downloading https://files.pythonhosted.org/packages/c0/ed/bbb51e9eccca0c2bfdf9df66e54cdff563b6f32daed9255da9b9a541368f/tensorflow_text-2.5.0-cp37-cp37m-manylinux1_x86_64.whl (4.3MB)\n",
            "\u001b[K     |████████████████████████████████| 4.3MB 13.9MB/s \n",
            "\u001b[?25hRequirement already satisfied: tensorflow-hub>=0.8.0 in /usr/local/lib/python3.7/dist-packages (from tensorflow-text) (0.12.0)\n",
            "Requirement already satisfied: tensorflow<2.6,>=2.5.0 in /usr/local/lib/python3.7/dist-packages (from tensorflow-text) (2.5.0)\n",
            "Requirement already satisfied: protobuf>=3.8.0 in /usr/local/lib/python3.7/dist-packages (from tensorflow-hub>=0.8.0->tensorflow-text) (3.12.4)\n",
            "Requirement already satisfied: numpy>=1.12.0 in /usr/local/lib/python3.7/dist-packages (from tensorflow-hub>=0.8.0->tensorflow-text) (1.19.5)\n",
            "Requirement already satisfied: google-pasta~=0.2 in /usr/local/lib/python3.7/dist-packages (from tensorflow<2.6,>=2.5.0->tensorflow-text) (0.2.0)\n",
            "Requirement already satisfied: wheel~=0.35 in /usr/local/lib/python3.7/dist-packages (from tensorflow<2.6,>=2.5.0->tensorflow-text) (0.36.2)\n",
            "Requirement already satisfied: six~=1.15.0 in /usr/local/lib/python3.7/dist-packages (from tensorflow<2.6,>=2.5.0->tensorflow-text) (1.15.0)\n",
            "Requirement already satisfied: flatbuffers~=1.12.0 in /usr/local/lib/python3.7/dist-packages (from tensorflow<2.6,>=2.5.0->tensorflow-text) (1.12)\n",
            "Requirement already satisfied: keras-preprocessing~=1.1.2 in /usr/local/lib/python3.7/dist-packages (from tensorflow<2.6,>=2.5.0->tensorflow-text) (1.1.2)\n",
            "Requirement already satisfied: keras-nightly~=2.5.0.dev in /usr/local/lib/python3.7/dist-packages (from tensorflow<2.6,>=2.5.0->tensorflow-text) (2.5.0.dev2021032900)\n",
            "Requirement already satisfied: absl-py~=0.10 in /usr/local/lib/python3.7/dist-packages (from tensorflow<2.6,>=2.5.0->tensorflow-text) (0.12.0)\n",
            "Requirement already satisfied: opt-einsum~=3.3.0 in /usr/local/lib/python3.7/dist-packages (from tensorflow<2.6,>=2.5.0->tensorflow-text) (3.3.0)\n",
            "Requirement already satisfied: h5py~=3.1.0 in /usr/local/lib/python3.7/dist-packages (from tensorflow<2.6,>=2.5.0->tensorflow-text) (3.1.0)\n",
            "Requirement already satisfied: grpcio~=1.34.0 in /usr/local/lib/python3.7/dist-packages (from tensorflow<2.6,>=2.5.0->tensorflow-text) (1.34.1)\n",
            "Requirement already satisfied: tensorboard~=2.5 in /usr/local/lib/python3.7/dist-packages (from tensorflow<2.6,>=2.5.0->tensorflow-text) (2.5.0)\n",
            "Requirement already satisfied: astunparse~=1.6.3 in /usr/local/lib/python3.7/dist-packages (from tensorflow<2.6,>=2.5.0->tensorflow-text) (1.6.3)\n",
            "Requirement already satisfied: termcolor~=1.1.0 in /usr/local/lib/python3.7/dist-packages (from tensorflow<2.6,>=2.5.0->tensorflow-text) (1.1.0)\n",
            "Requirement already satisfied: gast==0.4.0 in /usr/local/lib/python3.7/dist-packages (from tensorflow<2.6,>=2.5.0->tensorflow-text) (0.4.0)\n",
            "Requirement already satisfied: typing-extensions~=3.7.4 in /usr/local/lib/python3.7/dist-packages (from tensorflow<2.6,>=2.5.0->tensorflow-text) (3.7.4.3)\n",
            "Requirement already satisfied: tensorflow-estimator<2.6.0,>=2.5.0rc0 in /usr/local/lib/python3.7/dist-packages (from tensorflow<2.6,>=2.5.0->tensorflow-text) (2.5.0)\n",
            "Requirement already satisfied: wrapt~=1.12.1 in /usr/local/lib/python3.7/dist-packages (from tensorflow<2.6,>=2.5.0->tensorflow-text) (1.12.1)\n",
            "Requirement already satisfied: setuptools in /usr/local/lib/python3.7/dist-packages (from protobuf>=3.8.0->tensorflow-hub>=0.8.0->tensorflow-text) (57.0.0)\n",
            "Requirement already satisfied: cached-property; python_version < \"3.8\" in /usr/local/lib/python3.7/dist-packages (from h5py~=3.1.0->tensorflow<2.6,>=2.5.0->tensorflow-text) (1.5.2)\n",
            "Requirement already satisfied: google-auth<2,>=1.6.3 in /usr/local/lib/python3.7/dist-packages (from tensorboard~=2.5->tensorflow<2.6,>=2.5.0->tensorflow-text) (1.31.0)\n",
            "Requirement already satisfied: tensorboard-plugin-wit>=1.6.0 in /usr/local/lib/python3.7/dist-packages (from tensorboard~=2.5->tensorflow<2.6,>=2.5.0->tensorflow-text) (1.8.0)\n",
            "Requirement already satisfied: requests<3,>=2.21.0 in /usr/local/lib/python3.7/dist-packages (from tensorboard~=2.5->tensorflow<2.6,>=2.5.0->tensorflow-text) (2.23.0)\n",
            "Requirement already satisfied: werkzeug>=0.11.15 in /usr/local/lib/python3.7/dist-packages (from tensorboard~=2.5->tensorflow<2.6,>=2.5.0->tensorflow-text) (1.0.1)\n",
            "Requirement already satisfied: google-auth-oauthlib<0.5,>=0.4.1 in /usr/local/lib/python3.7/dist-packages (from tensorboard~=2.5->tensorflow<2.6,>=2.5.0->tensorflow-text) (0.4.4)\n",
            "Requirement already satisfied: tensorboard-data-server<0.7.0,>=0.6.0 in /usr/local/lib/python3.7/dist-packages (from tensorboard~=2.5->tensorflow<2.6,>=2.5.0->tensorflow-text) (0.6.1)\n",
            "Requirement already satisfied: markdown>=2.6.8 in /usr/local/lib/python3.7/dist-packages (from tensorboard~=2.5->tensorflow<2.6,>=2.5.0->tensorflow-text) (3.3.4)\n",
            "Requirement already satisfied: pyasn1-modules>=0.2.1 in /usr/local/lib/python3.7/dist-packages (from google-auth<2,>=1.6.3->tensorboard~=2.5->tensorflow<2.6,>=2.5.0->tensorflow-text) (0.2.8)\n",
            "Requirement already satisfied: rsa<5,>=3.1.4; python_version >= \"3.6\" in /usr/local/lib/python3.7/dist-packages (from google-auth<2,>=1.6.3->tensorboard~=2.5->tensorflow<2.6,>=2.5.0->tensorflow-text) (4.7.2)\n",
            "Requirement already satisfied: cachetools<5.0,>=2.0.0 in /usr/local/lib/python3.7/dist-packages (from google-auth<2,>=1.6.3->tensorboard~=2.5->tensorflow<2.6,>=2.5.0->tensorflow-text) (4.2.2)\n",
            "Requirement already satisfied: idna<3,>=2.5 in /usr/local/lib/python3.7/dist-packages (from requests<3,>=2.21.0->tensorboard~=2.5->tensorflow<2.6,>=2.5.0->tensorflow-text) (2.10)\n",
            "Requirement already satisfied: certifi>=2017.4.17 in /usr/local/lib/python3.7/dist-packages (from requests<3,>=2.21.0->tensorboard~=2.5->tensorflow<2.6,>=2.5.0->tensorflow-text) (2021.5.30)\n",
            "Requirement already satisfied: chardet<4,>=3.0.2 in /usr/local/lib/python3.7/dist-packages (from requests<3,>=2.21.0->tensorboard~=2.5->tensorflow<2.6,>=2.5.0->tensorflow-text) (3.0.4)\n",
            "Requirement already satisfied: urllib3!=1.25.0,!=1.25.1,<1.26,>=1.21.1 in /usr/local/lib/python3.7/dist-packages (from requests<3,>=2.21.0->tensorboard~=2.5->tensorflow<2.6,>=2.5.0->tensorflow-text) (1.24.3)\n",
            "Requirement already satisfied: requests-oauthlib>=0.7.0 in /usr/local/lib/python3.7/dist-packages (from google-auth-oauthlib<0.5,>=0.4.1->tensorboard~=2.5->tensorflow<2.6,>=2.5.0->tensorflow-text) (1.3.0)\n",
            "Requirement already satisfied: importlib-metadata; python_version < \"3.8\" in /usr/local/lib/python3.7/dist-packages (from markdown>=2.6.8->tensorboard~=2.5->tensorflow<2.6,>=2.5.0->tensorflow-text) (4.5.0)\n",
            "Requirement already satisfied: pyasn1<0.5.0,>=0.4.6 in /usr/local/lib/python3.7/dist-packages (from pyasn1-modules>=0.2.1->google-auth<2,>=1.6.3->tensorboard~=2.5->tensorflow<2.6,>=2.5.0->tensorflow-text) (0.4.8)\n",
            "Requirement already satisfied: oauthlib>=3.0.0 in /usr/local/lib/python3.7/dist-packages (from requests-oauthlib>=0.7.0->google-auth-oauthlib<0.5,>=0.4.1->tensorboard~=2.5->tensorflow<2.6,>=2.5.0->tensorflow-text) (3.1.1)\n",
            "Requirement already satisfied: zipp>=0.5 in /usr/local/lib/python3.7/dist-packages (from importlib-metadata; python_version < \"3.8\"->markdown>=2.6.8->tensorboard~=2.5->tensorflow<2.6,>=2.5.0->tensorflow-text) (3.4.1)\n",
            "Installing collected packages: tensorflow-text\n",
            "Successfully installed tensorflow-text-2.5.0\n"
          ],
          "name": "stdout"
        }
      ]
    },
    {
      "cell_type": "code",
      "metadata": {
        "id": "dGobds8gs9xV"
      },
      "source": [
        "import numpy as np\n",
        "import matplotlib.pyplot as plt\n",
        "from matplotlib import pyplot\n",
        "import seaborn as sns\n",
        "import csv\n",
        "import os\n",
        "import pandas as pd\n",
        "from sklearn.model_selection import train_test_split\n",
        "\n",
        "from tensorflow.keras.preprocessing.sequence import pad_sequences\n",
        "from tensorflow.keras.layers import Embedding, LSTM, Dense, Dropout, Bidirectional\n",
        "from tensorflow.keras.preprocessing.text import Tokenizer\n",
        "from tensorflow.keras.models import Sequential\n",
        "from tensorflow.keras.optimizers import Adam\n",
        "from tensorflow.keras import regularizers\n",
        "from keras import regularizers\n",
        "import tensorflow.keras.utils as ku\n",
        "from tensorflow.keras.utils import to_categorical\n",
        "import tensorflow_hub as hub\n",
        "\n",
        "from sklearn.naive_bayes import MultinomialNB\n",
        "from sklearn.pipeline import Pipeline\n",
        "from sklearn.feature_extraction.text import TfidfTransformer\n",
        "from sklearn.linear_model import SGDClassifier\n",
        "from sklearn.linear_model import LogisticRegression\n",
        "from sklearn.metrics import recall_score, precision_score, f1_score\n",
        "\n",
        "from sklearn.ensemble import RandomForestClassifier\n",
        "from sklearn.preprocessing import StandardScaler\n",
        "from sklearn.metrics import classification_report, confusion_matrix, accuracy_score\n",
        "\n",
        "from sklearn.datasets import make_classification\n",
        "from sklearn.model_selection import cross_val_score\n",
        "from sklearn.model_selection import RepeatedStratifiedKFold\n",
        "from sklearn.ensemble import RandomForestClassifier\n",
        "import matplotlib.pyplot as plt\n",
        "import matplotlib.image as mpimg\n",
        "from sklearn.naive_bayes import MultinomialNB\n",
        "from sklearn.pipeline import Pipeline\n",
        "\n",
        "from sklearn.feature_extraction.text import CountVectorizer\n",
        "\n",
        "from gensim.models import Word2Vec\n",
        "from gensim.models import KeyedVectors\n",
        "\n",
        "\n",
        "import nltk \n",
        "from nltk.corpus import stopwords\n",
        "from nltk.stem.snowball import SnowballStemmer\n",
        "from nltk.tokenize import word_tokenize \n",
        "\n",
        "import tensorflow as tf\n",
        "import random\n",
        "\n",
        "import tensorflow_text as text "
      ],
      "execution_count": 3,
      "outputs": []
    },
    {
      "cell_type": "code",
      "metadata": {
        "id": "vR3fbbyfs9xV",
        "colab": {
          "resources": {
            "http://localhost:8080/nbextensions/google.colab/files.js": {
              "data": "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",
              "ok": true,
              "headers": [
                [
                  "content-type",
                  "application/javascript"
                ]
              ],
              "status": 200,
              "status_text": "OK"
            }
          },
          "base_uri": "https://localhost:8080/",
          "height": 74
        },
        "outputId": "11914c78-2a26-4e9e-e96d-7d01b1658c96"
      },
      "source": [
        "#In case of Google Colab run this:\n",
        "from google.colab import files\n",
        "uploaded = files.upload()"
      ],
      "execution_count": 4,
      "outputs": [
        {
          "output_type": "display_data",
          "data": {
            "text/html": [
              "\n",
              "     <input type=\"file\" id=\"files-d2171ae7-670d-4e2f-a260-301d29d1c83a\" name=\"files[]\" multiple disabled\n",
              "        style=\"border:none\" />\n",
              "     <output id=\"result-d2171ae7-670d-4e2f-a260-301d29d1c83a\">\n",
              "      Upload widget is only available when the cell has been executed in the\n",
              "      current browser session. Please rerun this cell to enable.\n",
              "      </output>\n",
              "      <script src=\"/nbextensions/google.colab/files.js\"></script> "
            ],
            "text/plain": [
              "<IPython.core.display.HTML object>"
            ]
          },
          "metadata": {
            "tags": []
          }
        },
        {
          "output_type": "stream",
          "text": [
            "Saving data_MailsAndPC.csv to data_MailsAndPC.csv\n"
          ],
          "name": "stdout"
        }
      ]
    },
    {
      "cell_type": "code",
      "metadata": {
        "id": "1qU6uzHys9xW"
      },
      "source": [
        "import io\n",
        "azubi_df = pd.read_csv(io.BytesIO(uploaded['data_MailsAndPC.csv']))"
      ],
      "execution_count": 5,
      "outputs": []
    },
    {
      "cell_type": "code",
      "metadata": {
        "id": "FFzncW_Ouehq"
      },
      "source": [
        "#Global Hyperparameters\n",
        "vocab_size = 3000\n",
        "embedding_dim = 32\n",
        "max_length = 120\n",
        "trunc_type='post'\n",
        "padding_type='post'\n",
        "oov_tok = \"<OOV>\""
      ],
      "execution_count": 6,
      "outputs": []
    },
    {
      "cell_type": "code",
      "metadata": {
        "id": "HM2nxJkJs9xW"
      },
      "source": [
        "#In case of local github export run this:\n",
        "#DATA_FOLDER = './../data'\n",
        "#AZUBI_DATA = 'data_MailsAndPC.csv'\n",
        "#AZUBI_DATA_CLEANED = 'data_MailsAndPC_cleaned.csv'\n",
        "#azubi_df = pd.read_csv(os.path.join(DATA_FOLDER, AZUBI_DATA))"
      ],
      "execution_count": 7,
      "outputs": []
    },
    {
      "cell_type": "markdown",
      "metadata": {
        "id": "lm2kVe3jz61A"
      },
      "source": [
        "# Data Preparation\n"
      ]
    },
    {
      "cell_type": "markdown",
      "metadata": {
        "id": "dCvEwcJz-daw"
      },
      "source": [
        "## Data Preparation Functions"
      ]
    },
    {
      "cell_type": "markdown",
      "metadata": {
        "id": "3T1-ZdC78Mk8"
      },
      "source": [
        "Selects the mail and item of interest from the azubi dataframe.  \n",
        "\n",
        "Returns the dataframe only containing the columns of interest."
      ]
    },
    {
      "cell_type": "code",
      "metadata": {
        "id": "7Zm-nnaJQqWN"
      },
      "source": [
        "def selectColumns(azubi_df, mail, item):\n",
        "\n",
        "  azubi_df_selected_columns = azubi_df[[mail,item]]\n",
        "\n",
        "  return azubi_df_selected_columns"
      ],
      "execution_count": 8,
      "outputs": []
    },
    {
      "cell_type": "markdown",
      "metadata": {
        "id": "zpJGo1yR7yBF"
      },
      "source": [
        "The dataframe needs to be cleaned from NaN values, as well as error codes in the labels. Furthermore linebreaks are indicated with the letters \"cr\". They have to be removed as well. The mails are in German language and we could not think of a German word that contains \"cr\", hence we think it is fine to just remove the \"cr\" and replace it with a space.  \n",
        "\n",
        "Returns the cleaned azubi dataframe.\n",
        "\n",
        "Expects the dataframe, the mail of interest, as well as the item of interest."
      ]
    },
    {
      "cell_type": "code",
      "metadata": {
        "id": "253GubJ5s9xZ"
      },
      "source": [
        "def cleanupDataframe(azubi_df, mail, item):\n",
        "    #Remove unneccesary columns\n",
        "    #azubi_df = azubi_df.drop(columns=['Unnamed: 0', 'id'])\n",
        "    #Remove \"cr\". Assumption made, that there are no real words containing cr in the mails.\n",
        "    azubi_df[\"S1_mail\"] = azubi_df[\"S1_mail\"].str.replace(\"cr\", \" \")\n",
        "    azubi_df[\"S2_mail\"] = azubi_df[\"S2_mail\"].str.replace(\"cr\", \" \")\n",
        "    azubi_df[\"S3_mail\"] = azubi_df[\"S3_mail\"].str.replace(\"cr\", \" \")\n",
        "    \n",
        "    azubi_df = selectColumns(azubi_df, mail, item)\n",
        "    #Drop NA rows to only have full datasets\n",
        "    azubi_df = azubi_df.dropna()\n",
        "    #Select all rows without '99' | ~ inverts the operator\n",
        "    dropThisNumber = 99\n",
        "    azubi_df = azubi_df[~azubi_df.eq(dropThisNumber).any(1)]\n",
        "    #Select all rows without '6' | ~ inverts the operator\n",
        "    #dropThisNumber = 6\n",
        "    #azubi_df = azubi_df[~azubi_df.eq(dropThisNumber).any(1)]\n",
        "    #Reset the index of the Dataframe\n",
        "    azubi_df = azubi_df.reset_index(drop=True)\n",
        "    return azubi_df"
      ],
      "execution_count": 9,
      "outputs": []
    },
    {
      "cell_type": "markdown",
      "metadata": {
        "id": "yZDIBcct8fnU"
      },
      "source": [
        "The data needs to be split into Train/Dev/Test sets. We use the sklearn train_test_split function and manually divide the dev set into two subsets. Since the classes are not evenly split we also use stratification to make sure the sets contain equal numbers of each class.\n",
        "\n",
        "Returns the X and Y for train, dev and test set.\n",
        "\n",
        "Expects the X and Y that should be split, the test size (float between 0 and 1), a random seed and if stratification should be done."
      ]
    },
    {
      "cell_type": "code",
      "metadata": {
        "id": "iNwHseQc2pCV"
      },
      "source": [
        "def trainDevTestSplit_sklearn(X, Y, testSize, randomSeed, stratify):\n",
        "  #Splits by test size into Train / Dev\n",
        "  #Splits dev then 50/50 into dev and Test\n",
        "\n",
        "  if (stratify == True):\n",
        "    xTrain, xDev, yTrain, yDev = train_test_split(X, Y, test_size=testSize,stratify = Y, random_state=randomSeed)\n",
        "  else:\n",
        "    xTrain, xDev, yTrain, yDev = train_test_split(X, Y, test_size=testSize, random_state=randomSeed)\n",
        "\n",
        "  xTest = xDev[:len(xDev)//2]\n",
        "  yTest = yDev[:len(yDev)//2]\n",
        "  \n",
        "  xDev = xDev[len(xDev)//2:]\n",
        "  yDev = yDev[len(yDev)//2:]\n",
        "  #xDev, yDev, xTest, yTest = train_test_split(xDev, yDev, test_size =0.5, random_state = randomSeed)\n",
        "\n",
        "  return xTrain, yTrain, xDev, yDev, xTest, yTest"
      ],
      "execution_count": 10,
      "outputs": []
    },
    {
      "cell_type": "code",
      "metadata": {
        "id": "aLjrs8Ql3ZsB"
      },
      "source": [
        "def tokenizeData(vocab_size, oov_tok, train_sentences, max_length, padding_type, trunc_type):\n",
        "    tokenizer = Tokenizer(num_words = vocab_size, oov_token=oov_tok)\n",
        "    tokenizer.fit_on_texts(train_sentences)\n",
        "   \n",
        "    word_index = tokenizer.word_index\n",
        "    vocab_size=len(word_index)\n",
        "\n",
        "    print(\"Word Index: \\n\")\n",
        "    print(word_index)\n",
        "    \n",
        "    sequences = tokenizer.texts_to_sequences(train_sentences)\n",
        "\n",
        "    print(\"Sequences: \\n\")\n",
        "    print(sequences)\n",
        "    padded = pad_sequences(sequences, maxlen=max_length, padding=padding_type, truncating=trunc_type)\n",
        "\n",
        "    return padded"
      ],
      "execution_count": 11,
      "outputs": []
    },
    {
      "cell_type": "markdown",
      "metadata": {
        "id": "QhU0PziLAMiQ"
      },
      "source": [
        "The classes are categorical, like schoolgrades and have to be treated as such. In order to make the labels categorical we use One Hot Encoding. Keras provides the function to_categorical, which is used here. Since the Keras function checks the highest integer and makes as many columns as this number we have to remove the columns that are all zero. (E.g. your classes are 1,2 and 9 then to_categorical will make 9 columns, where 6 of them are always zero).\n",
        "\n",
        "Returns one hot encoded labels.\n",
        "\n",
        "Expects the labels to encode and if the zero columns should be removed (bool)."
      ]
    },
    {
      "cell_type": "code",
      "metadata": {
        "id": "B_XrQiWFyR3D"
      },
      "source": [
        "def oneHotEncodePreSplit(yTrain, removeZeros):\n",
        "  #a = np.array([1, 0, 3])\n",
        "  #yTrain = yTrain.astype(int)\n",
        "  \n",
        "  print(\"Unique Values:\")\n",
        "  print(np.unique(yTrain))\n",
        "  print(\"\\n\")\n",
        "  yTrainOneHot = tf.keras.utils.to_categorical(yTrain)\n",
        "  print(\"Classes before removing zeros:\")\n",
        "  print(yTrainOneHot)\n",
        "  print(yTrainOneHot.sum(axis=0))\n",
        "  print(\"\\n\")\n",
        "\n",
        "  if (removeZeros == True):\n",
        "    yTrainOneHot = yTrainOneHot[:,~np.all(yTrainOneHot == 0, axis = 0)]\n",
        "  print(\"Classes after removing zeros:\")\n",
        "  print(yTrainOneHot)\n",
        "  print(yTrainOneHot.sum(axis=0))\n",
        "  print(\"\\n\")\n",
        "\n",
        "  return yTrainOneHot"
      ],
      "execution_count": 12,
      "outputs": []
    },
    {
      "cell_type": "markdown",
      "metadata": {
        "id": "uC00K9fJA-0m"
      },
      "source": [
        "Some functions and models require the data to be in a list (instead of array or dataframe). This function does this.\n",
        "\n",
        "Returns two lists. A list with the mail sentences and a list with the scores.\n",
        "\n",
        "Expects the azubi dataframe, the mail of interest and the score of interest."
      ]
    },
    {
      "cell_type": "code",
      "metadata": {
        "id": "lXudDjuNRXo1"
      },
      "source": [
        "def makeListSelectedColumns(azubi_df, mail, score):\n",
        "  #Sentence S1\n",
        "  mailSentences = azubi_df[mail].tolist()\n",
        "  #Labels S1\n",
        "  scoreLabels = azubi_df[score].tolist()\n",
        "\n",
        "  return mailSentences, scoreLabels"
      ],
      "execution_count": 13,
      "outputs": []
    },
    {
      "cell_type": "markdown",
      "metadata": {
        "id": "RkFz6t2qQUOn"
      },
      "source": [
        "## Stop Words\n"
      ]
    },
    {
      "cell_type": "markdown",
      "metadata": {
        "id": "4VUrg6JDeSXH"
      },
      "source": [
        "Some words have very little influence on the meaning of the sentence. Those words are stopwords and are usually removed. There are preset stopwords lists which we also took. "
      ]
    },
    {
      "cell_type": "code",
      "metadata": {
        "id": "VMlPtbzIUoTH"
      },
      "source": [
        "#stopwords\n",
        "def removeStopWordsSelectedColumns(azubi_df_cleaned, mail):\n",
        "\n",
        "  nltk.download('punkt')\n",
        "  nltk.download('stopwords')\n",
        "\n",
        "  stemmer = SnowballStemmer(\"german\")\n",
        "  stop_words = set(stopwords.words(\"german\"))\n",
        "  #stop_words.add('Meier')\n",
        "  #stop_words.add('Neumann')\n",
        "\n",
        "  azubi_df_cleaned_no_stopwords = pd.DataFrame()\n",
        "\n",
        "  pat = r'\\b(?:{})\\b'.format('|'.join(stop_words))\n",
        "  azubi_df_cleaned[mail] = azubi_df_cleaned[mail].str.replace(pat, '')\n",
        "  azubi_df_cleaned[mail] = azubi_df_cleaned[mail].str.replace(r'\\s+', ' ')\n",
        "\n",
        "  return azubi_df_cleaned\n",
        "\n"
      ],
      "execution_count": 14,
      "outputs": []
    },
    {
      "cell_type": "markdown",
      "metadata": {
        "id": "GqY5lr_m28HI"
      },
      "source": [
        "## Show Model Performance"
      ]
    },
    {
      "cell_type": "markdown",
      "metadata": {
        "id": "NF6IenX9mi_t"
      },
      "source": [
        "Comfort function for easier plotting of the graphs"
      ]
    },
    {
      "cell_type": "code",
      "metadata": {
        "id": "p5nwd0d726iw"
      },
      "source": [
        "def showModelPerformance(history, string):\n",
        "    plt.plot(history.history[string])\n",
        "    plt.plot(history.history['val_'+string])\n",
        "    plt.xlabel(\"Epochs\")\n",
        "    plt.ylabel(string)\n",
        "    plt.title('Random Forest Model')\n",
        "    plt.legend([string, 'val_'+string])\n",
        "    plt.show()\n",
        "\n",
        "    return"
      ],
      "execution_count": 15,
      "outputs": []
    },
    {
      "cell_type": "markdown",
      "metadata": {
        "id": "b1o5IhvFEhdq"
      },
      "source": [
        "## Combine all mails for a4s2_combined_i2b score"
      ]
    },
    {
      "cell_type": "markdown",
      "metadata": {
        "id": "NhCqEW2vmnwL"
      },
      "source": [
        "The score a4s1i2b, a4s2i2b and a4s3i2b describes the politeness of the mail. This score is unrelated to the topic of the mail. Hence to have more training data available all mails have been combined to train this score."
      ]
    },
    {
      "cell_type": "code",
      "metadata": {
        "id": "2fY2PLulBOQ6"
      },
      "source": [
        "#Create new dataframe\n",
        "azubi_df_mails_and_scored_combined = pd.DataFrame(columns=[\"Mails_Combined\", \"a4s_combined_i2b\"])\n",
        "#Use cleanup function to select the correct data from the dataframe\n",
        "azubi_df_mail1 = cleanupDataframe(azubi_df, 'S1_mail', 'a4s1i2b')\n",
        "azubi_df_mail2 = cleanupDataframe(azubi_df, 'S2_mail', 'a4s2i2b')\n",
        "azubi_df_mail3 = cleanupDataframe(azubi_df, 'S3_mail', 'a4s3i2b')"
      ],
      "execution_count": 16,
      "outputs": []
    },
    {
      "cell_type": "code",
      "metadata": {
        "id": "W_3-vjNKCJTk"
      },
      "source": [
        "#Rename the columns\n",
        "azubi_df_mail1_renamed = azubi_df_mail1.rename(columns={\"S1_mail\": \"Mails_Combined\", \"a4s1i2b\": \"a4s_combined_i2b\"})\n",
        "azubi_df_mail2_renamed = azubi_df_mail2.rename(columns={\"S2_mail\": \"Mails_Combined\", \"a4s2i2b\": \"a4s_combined_i2b\"})\n",
        "azubi_df_mail3_renamed = azubi_df_mail3.rename(columns={\"S3_mail\": \"Mails_Combined\", \"a4s3i2b\": \"a4s_combined_i2b\"})"
      ],
      "execution_count": 17,
      "outputs": []
    },
    {
      "cell_type": "code",
      "metadata": {
        "id": "4hdbd12mCv0f"
      },
      "source": [
        "#Append the renamed columns, ignore index so it is appended at the end\n",
        "azubi_df_mails_and_scored_combined = azubi_df_mails_and_scored_combined.append(azubi_df_mail1_renamed, ignore_index=True)\n",
        "azubi_df_mails_and_scored_combined = azubi_df_mails_and_scored_combined.append(azubi_df_mail2_renamed, ignore_index=True)\n",
        "azubi_df_mails_and_scored_combined = azubi_df_mails_and_scored_combined.append(azubi_df_mail3_renamed, ignore_index=True)"
      ],
      "execution_count": 18,
      "outputs": []
    },
    {
      "cell_type": "code",
      "metadata": {
        "id": "78LqLIZjC5zb"
      },
      "source": [
        "azubi_df_mails_and_scored_combined = azubi_df_mails_and_scored_combined[azubi_df_mails_and_scored_combined.a4s_combined_i2b != 9.0]\n",
        "azubi_df_mails_and_scored_combined = azubi_df_mails_and_scored_combined[azubi_df_mails_and_scored_combined.a4s_combined_i2b != 2.0]\n",
        "azubi_df_mails_and_scored_combined = azubi_df_mails_and_scored_combined.reset_index()"
      ],
      "execution_count": 19,
      "outputs": []
    },
    {
      "cell_type": "code",
      "metadata": {
        "id": "TAjvQ3lw3vif"
      },
      "source": [
        "azubi_df_mails_and_scored_combined['Mails_Combined'][2]"
      ],
      "execution_count": null,
      "outputs": []
    },
    {
      "cell_type": "code",
      "metadata": {
        "id": "iaoTEgisESHp",
        "colab": {
          "base_uri": "https://localhost:8080/"
        },
        "outputId": "8cfc0ec1-59a9-4283-cd11-aa5f2b33f9cb"
      },
      "source": [
        "azubi_df_mails_and_scored_combined['a4s_combined_i2b']"
      ],
      "execution_count": 21,
      "outputs": [
        {
          "output_type": "execute_result",
          "data": {
            "text/plain": [
              "0       1.0\n",
              "1       1.0\n",
              "2       0.0\n",
              "3       1.0\n",
              "4       1.0\n",
              "       ... \n",
              "2082    0.0\n",
              "2083    1.0\n",
              "2084    1.0\n",
              "2085    1.0\n",
              "2086    1.0\n",
              "Name: a4s_combined_i2b, Length: 2087, dtype: float64"
            ]
          },
          "metadata": {
            "tags": []
          },
          "execution_count": 21
        }
      ]
    },
    {
      "cell_type": "code",
      "metadata": {
        "id": "BltN2QS78Tdc"
      },
      "source": [
        "azubi_df_mails_and_scored_combined"
      ],
      "execution_count": null,
      "outputs": []
    },
    {
      "cell_type": "markdown",
      "metadata": {
        "id": "XW2NGDIXg9Zh"
      },
      "source": [
        "### Selected Columns Scores"
      ]
    },
    {
      "cell_type": "markdown",
      "metadata": {
        "id": "oVg01P4knC_k"
      },
      "source": [
        "This function returns the Train, Dev and Test sets, as well as the cleaned azubi_df. The Train, Dev and Test sets (including labels) are in a format, that can be read by the models afterwards."
      ]
    },
    {
      "cell_type": "code",
      "metadata": {
        "id": "yvdbiU3MRJH-"
      },
      "source": [
        "def prepareDataSelectedColumns(azubi_df, mail, score, doCleanup, paddedOutput, word2vec): \n",
        "  #Prepare the data\n",
        "  if doCleanup == True:\n",
        "    azubi_df_cleaned = cleanupDataframe(azubi_df, mail, score)\n",
        "  else:\n",
        "    azubi_df_cleaned = azubi_df\n",
        "  #print(azubi_df_cleaned[score][9])\n",
        "\n",
        "  #Remove Stop words\n",
        "  #azubi_df_cleaned_no_stopwords = removeStopWordsSelectedColumns(azubi_df_cleaned, mail)\n",
        "  mailSentences, scoreLabels = makeListSelectedColumns(azubi_df_cleaned, mail, score)\n",
        "  print(len(mailSentences))\n",
        "  print(len(scoreLabels))\n",
        "\n",
        "  yTrainOneHot = oneHotEncodePreSplit(np.array(scoreLabels), True)\n",
        "\n",
        "  if paddedOutput == True and word2vec == False:\n",
        "    print(\"Padded Output True\")\n",
        "    padded = tokenizeData(vocab_size, oov_tok, mailSentences, max_length, padding_type, trunc_type)\n",
        "    xTrain, yTrain, xVal, yVal, xTest, yTest = trainDevTestSplit_sklearn(padded, yTrainOneHot, 0.1, 42, False)\n",
        "  elif word2vec == True and paddedOutput == False:\n",
        "    padded = word2vecTokenizer(mailSentences, glove_vectors)\n",
        "    print(padded)\n",
        "  else:\n",
        "    xTrain, yTrain, xVal, yVal, xTest, yTest = trainDevTestSplit_sklearn(mailSentences, yTrainOneHot, 0.4, 42, False)\n",
        "\n",
        "  xTrainArray = xTrain#np.array(xTrain)\n",
        "  yTrainArray = yTrain#np.array(yTrain)\n",
        "\n",
        "\n",
        "  xValArray = xVal#np.array(xVal)\n",
        "  yValArray = yVal#np.array(yVal)\n",
        "\n",
        "\n",
        "  xTestArray = xTest#np.array(xTest)\n",
        "  yTestArray = yTest#np.array(yTest)\n",
        "  print(len(xTrainArray))\n",
        "  print(len(yTrainArray))\n",
        "  print(len(xValArray))\n",
        "  print(len(yValArray))\n",
        "  print(len(xTestArray))\n",
        "  print(len(yTestArray))\n",
        "\n",
        "\n",
        "  return xTrainArray, yTrainArray, xValArray, yValArray, xTestArray, yTestArray, azubi_df_cleaned\n"
      ],
      "execution_count": 23,
      "outputs": []
    },
    {
      "cell_type": "code",
      "metadata": {
        "id": "Cwbmv5MJ79OJ"
      },
      "source": [
        "#xTrainArray"
      ],
      "execution_count": 24,
      "outputs": []
    },
    {
      "cell_type": "code",
      "metadata": {
        "colab": {
          "base_uri": "https://localhost:8080/"
        },
        "id": "AB1YDw5ZS83B",
        "outputId": "51e3c6f5-e621-4277-e60a-cb3b86841f56"
      },
      "source": [
        "xTrainArray, yTrainArray, xValArray, yValArray, xTestArray, yTestArray, azubi_df_cleaned_no_stopwords = prepareDataSelectedColumns(azubi_df_mails_and_scored_combined, 'Mails_Combined', 'a4s_combined_i2b', False, False, False)"
      ],
      "execution_count": 25,
      "outputs": [
        {
          "output_type": "stream",
          "text": [
            "2087\n",
            "2087\n",
            "Unique Values:\n",
            "[0. 1.]\n",
            "\n",
            "\n",
            "Classes before removing zeros:\n",
            "[[0. 1.]\n",
            " [0. 1.]\n",
            " [1. 0.]\n",
            " ...\n",
            " [0. 1.]\n",
            " [0. 1.]\n",
            " [0. 1.]]\n",
            "[ 146. 1941.]\n",
            "\n",
            "\n",
            "Classes after removing zeros:\n",
            "[[0. 1.]\n",
            " [0. 1.]\n",
            " [1. 0.]\n",
            " ...\n",
            " [0. 1.]\n",
            " [0. 1.]\n",
            " [0. 1.]]\n",
            "[ 146. 1941.]\n",
            "\n",
            "\n",
            "1252\n",
            "1252\n",
            "418\n",
            "418\n",
            "417\n",
            "417\n"
          ],
          "name": "stdout"
        }
      ]
    },
    {
      "cell_type": "code",
      "metadata": {
        "colab": {
          "base_uri": "https://localhost:8080/"
        },
        "id": "ZrP4YZ4mw2bp",
        "outputId": "a7da6811-3ccb-4817-c281-1a37423b264c"
      },
      "source": [
        "xTrainArray2, yTrainArray2, xValArray2, yValArray2, xTestArray2, yTestArray2, azubi_df_cleaned_no_stopwords2 = prepareDataSelectedColumns(azubi_df, 'S2_mail', 'a4s2i2b', True,  False, False)"
      ],
      "execution_count": 26,
      "outputs": [
        {
          "output_type": "stream",
          "text": [
            "725\n",
            "725\n",
            "Unique Values:\n",
            "[0. 1. 2. 9.]\n",
            "\n",
            "\n",
            "Classes before removing zeros:\n",
            "[[1. 0. 0. ... 0. 0. 0.]\n",
            " [0. 1. 0. ... 0. 0. 0.]\n",
            " [0. 1. 0. ... 0. 0. 0.]\n",
            " ...\n",
            " [0. 1. 0. ... 0. 0. 0.]\n",
            " [0. 1. 0. ... 0. 0. 0.]\n",
            " [0. 1. 0. ... 0. 0. 0.]]\n",
            "[ 38. 666.   1.   0.   0.   0.   0.   0.   0.  20.]\n",
            "\n",
            "\n",
            "Classes after removing zeros:\n",
            "[[1. 0. 0. 0.]\n",
            " [0. 1. 0. 0.]\n",
            " [0. 1. 0. 0.]\n",
            " ...\n",
            " [0. 1. 0. 0.]\n",
            " [0. 1. 0. 0.]\n",
            " [0. 1. 0. 0.]]\n",
            "[ 38. 666.   1.  20.]\n",
            "\n",
            "\n",
            "435\n",
            "435\n",
            "145\n",
            "145\n",
            "145\n",
            "145\n"
          ],
          "name": "stdout"
        }
      ]
    },
    {
      "cell_type": "code",
      "metadata": {
        "id": "N7p2trH64fy9"
      },
      "source": [
        "xTrainArray3, yTrainArray3, xValArray3, yValArray3, xTestArray3, yTestArray3, azubi_df_cleaned_no_stopwords3 = prepareDataSelectedColumns(azubi_df_mails_and_scored_combined, 'Mails_Combined', 'a4s_combined_i2b', False, True, False)"
      ],
      "execution_count": null,
      "outputs": []
    },
    {
      "cell_type": "code",
      "metadata": {
        "id": "DxmhSkL-hE_o",
        "colab": {
          "base_uri": "https://localhost:8080/"
        },
        "outputId": "55df17f1-d467-4db2-ef3e-e2ac04b52f71"
      },
      "source": [
        "xTrainArray4, yTrainArray4, xValArray4, yValArray4, xTestArray4, yTestArray4, azubi_df_cleaned_no_stopwords4 = prepareDataSelectedColumns(azubi_df_mails_and_scored_combined, 'Mails_Combined', 'a4s_combined_i2b', False, False, False)"
      ],
      "execution_count": 28,
      "outputs": [
        {
          "output_type": "stream",
          "text": [
            "2087\n",
            "2087\n",
            "Unique Values:\n",
            "[0. 1.]\n",
            "\n",
            "\n",
            "Classes before removing zeros:\n",
            "[[0. 1.]\n",
            " [0. 1.]\n",
            " [1. 0.]\n",
            " ...\n",
            " [0. 1.]\n",
            " [0. 1.]\n",
            " [0. 1.]]\n",
            "[ 146. 1941.]\n",
            "\n",
            "\n",
            "Classes after removing zeros:\n",
            "[[0. 1.]\n",
            " [0. 1.]\n",
            " [1. 0.]\n",
            " ...\n",
            " [0. 1.]\n",
            " [0. 1.]\n",
            " [0. 1.]]\n",
            "[ 146. 1941.]\n",
            "\n",
            "\n",
            "1252\n",
            "1252\n",
            "418\n",
            "418\n",
            "417\n",
            "417\n"
          ],
          "name": "stdout"
        }
      ]
    },
    {
      "cell_type": "markdown",
      "metadata": {
        "id": "R00YcxTIvoyG"
      },
      "source": [
        "# Primitive Models"
      ]
    },
    {
      "cell_type": "markdown",
      "metadata": {
        "id": "OcyM88Hdvr8n"
      },
      "source": [
        "## SVM"
      ]
    },
    {
      "cell_type": "markdown",
      "metadata": {
        "id": "msckXYl_Mlzj"
      },
      "source": [
        "Function for a Support Vector Machine with the SGDClassifier (stochastic gradient descent) from the sklearn library.\n",
        "\n",
        "Important hyperparameters: The regularization term \"penalty\" adds a penalty to the loss function using the squared euclidean norm L2 by default. \"alpha\" is a constant by which the regularization term is multiplied; the higher the value, the stronger the regularization; 0.0001 is set by default, but with 0.01 we had the best results. \"max_iter\" is the maximum number of epochs. Finally, \"class_weight\" assigns weights to each class; class_weight = \"balance\" uses the values of the labels to automatically adjust weights inversely proportional to class frequencies. This mode achieved the best results.\n",
        "\n",
        "Funtion returns the model and the prediction of the class labels, and prints the accuracy of the model and the classification report for the two classes. \n",
        "\n",
        "\n"
      ]
    },
    {
      "cell_type": "code",
      "metadata": {
        "id": "-Bngdx1yvoHP"
      },
      "source": [
        "## Linear Support Vector Machine\n",
        "def svmModel(X_train, y_train, X_test, y_test):\n",
        "  sgd = Pipeline([('vect', CountVectorizer()),\n",
        "                ('tfidf', TfidfTransformer()),\n",
        "                ('clf', SGDClassifier(loss='hinge', penalty='l2',alpha=0.01, random_state=42, max_iter=5, tol=None, shuffle=True, class_weight=\"balanced\")), # class_weight={0: 10} \n",
        "               ])\n",
        "  sgd.fit(X_train, y_train)\n",
        "\n",
        "  #%%time\n",
        "  \n",
        "  y_pred = sgd.predict(X_test)\n",
        "  my_tags = ['class 0', 'class 1']\n",
        "\n",
        "  print('accuracy %s' % accuracy_score(y_pred, y_test))\n",
        "  print(classification_report(y_test, y_pred,target_names=my_tags))\n",
        "  return sgd, y_pred"
      ],
      "execution_count": 29,
      "outputs": []
    },
    {
      "cell_type": "markdown",
      "metadata": {
        "id": "Mmjl7BDVyYCG"
      },
      "source": [
        "##Logistic Regression"
      ]
    },
    {
      "cell_type": "markdown",
      "metadata": {
        "id": "KEbThGvnaoGK"
      },
      "source": [
        "Function for a logistic regression algorithm. \n",
        "\n",
        "Important hyperparameters: \"C\" inverses regularization strength; the default value is 1.0. The remaining parameters have already been described for the svm model.\n",
        "\n",
        "Function returns the model and the prediction of the class labels, and prints the accuracy of the model and the classification report for the two classes."
      ]
    },
    {
      "cell_type": "code",
      "metadata": {
        "id": "ZzQJqeUQyXlL"
      },
      "source": [
        "def lgModel(X_train, y_train, X_test, y_test):\n",
        "  logreg = Pipeline([('vect', CountVectorizer()),\n",
        "                ('tfidf', TfidfTransformer()),\n",
        "                ('clf', LogisticRegression(n_jobs=5, C=5.0, class_weight=\"balanced\")), #C=1e5, C=1e-1 #class_weight=\"balanced\", class_weight={0: 50}\n",
        "               ])\n",
        "  logreg.fit(X_train, y_train)\n",
        "\n",
        "  #%%time\n",
        "\n",
        "  y_pred = logreg.predict(X_test)\n",
        "  y_predProba = logreg.predict_proba(X_test)\n",
        "  my_tags = ['class 0', 'class 1']\n",
        "  print('accuracy %s' % accuracy_score(y_pred, y_test))\n",
        "  print(classification_report(y_test, y_pred,target_names=my_tags))\n",
        "  return logreg, y_pred, y_predProba"
      ],
      "execution_count": 30,
      "outputs": []
    },
    {
      "cell_type": "markdown",
      "metadata": {
        "id": "5Vi-Wwg80pfn"
      },
      "source": [
        "## Random Forest"
      ]
    },
    {
      "cell_type": "markdown",
      "metadata": {
        "id": "F5rPLfuJmLCW"
      },
      "source": [
        "Function for a Random Forest Classifier. \n",
        "\n",
        "Important hyperparameters: The default value for \"n_estimators\" (number of trees in the forest) is 100. A much higher or much lower number of trees produced worse results. Unlike the two previous models, when adding the \"class_weight\" parameter, the f1 score for the underrepresented class got much worse.\n",
        " \n",
        "Function returns the model and the prediction of the class labels, and prints the accuracy of the model and the classification report for the two classes."
      ]
    },
    {
      "cell_type": "code",
      "metadata": {
        "id": "01gAtqOY0orV"
      },
      "source": [
        "def randomtree_Model(n_estimators, X_train, y_train, X_test, y_test):\n",
        "    model = RandomForestClassifier(n_estimators = n_estimators, criterion  = 'entropy', random_state = 42) #class_weight=\"balanced\") \n",
        "\n",
        "    history = model.fit(X_train, y_train)\n",
        "\n",
        "    y_predict = model.predict(X_test)\n",
        "\n",
        "    print(confusion_matrix(y_test,y_predict))\n",
        "    print(classification_report(y_test,y_predict))\n",
        "    print(accuracy_score(y_test, y_predict))\n",
        "    return model, history, y_predict"
      ],
      "execution_count": 31,
      "outputs": []
    },
    {
      "cell_type": "code",
      "metadata": {
        "id": "buYH45PA9KEL"
      },
      "source": [
        "import matplotlib.pyplot as plt\n",
        "import seaborn as sns\n",
        "import numpy as np\n",
        "\n",
        "try:\n",
        "    get_ipython().magic('matplotlib inline')\n",
        "    get_ipython().magic('config InlineBackend.figure_formats = set([\"retina\"])')\n",
        "except NameError:\n",
        "    pass\n",
        "\n",
        "def plot_classifier(model, X_test, y_test, proba=True, xlabel='Essays', ylabel='Politeness'):\n",
        "    # https://matplotlib.org/examples/color/colormaps_reference.html\n",
        "    plt.set_cmap(\"RdYlBu\")\n",
        "    \n",
        "    x_min = X_test[:, 0].min() - 1\n",
        "    x_max = X_test[:, 0].max() + 1\n",
        "    \n",
        "    y_min = X_test[:, 1].min() - 1\n",
        "    y_max = X_test[:, 1].max() + 1\n",
        "    \n",
        "    xx, yy = np.meshgrid(\n",
        "        np.linspace(x_min, x_max, 1000),\n",
        "        np.linspace(y_min, y_max, 1000)\n",
        "    )\n",
        "\n",
        "    if proba:\n",
        "        zz = model.predict_proba(np.c_[xx.ravel(), yy.ravel()])[:, 1]\n",
        "        plt.imshow(zz.reshape(xx.shape), \n",
        "                   origin = \"lower\", \n",
        "                   aspect = \"auto\", \n",
        "                   extent = (x_min, x_max, y_min, y_max), \n",
        "                   vmin = 0, \n",
        "                   vmax = 1, \n",
        "                   alpha = 0.25)\n",
        "    else: \n",
        "        zz = model.predict(np.c_[xx.ravel(), yy.ravel()])\n",
        "        plt.contourf(xx, yy, zz.reshape(xx.shape), \n",
        "                     alpha = 0.25, \n",
        "                     vmin = 0, \n",
        "                     vmax = 1)\n",
        "\n",
        "    plt.scatter(X[:, 0], X[:, 1], c=Z)\n",
        "    \n",
        "    if xlabel is not None:\n",
        "        plt.xlabel(xlabel)\n",
        "       \n",
        "    if ylabel is not None:\n",
        "        plt.ylabel(ylabel)\n",
        "        \n",
        "    # Damit wird die Grafik genau so groß angezeigt wie der\n",
        "    # schattierte Farbbereich:\n",
        "    plt.xlim(x_min, x_max)\n",
        "    plt.ylim(y_min, y_max)\n",
        "\n",
        "    plt.show()"
      ],
      "execution_count": 32,
      "outputs": []
    },
    {
      "cell_type": "code",
      "metadata": {
        "id": "ZBGvDQEM9UM2"
      },
      "source": [
        "#Rt_plot = plot_classifier(modelRandomForest, xValArray, yValArray[:,1], proba=True, xlabel='Essays', ylabel='Politeness')"
      ],
      "execution_count": 33,
      "outputs": []
    },
    {
      "cell_type": "markdown",
      "metadata": {
        "id": "we4aNM4I4bx_"
      },
      "source": [
        "# Execute Primitive Models"
      ]
    },
    {
      "cell_type": "markdown",
      "metadata": {
        "id": "YIw-4fgqqHk1"
      },
      "source": [
        "The functions defined above for the primitive models are executed.\n"
      ]
    },
    {
      "cell_type": "markdown",
      "metadata": {
        "id": "0446jBc7Cj47"
      },
      "source": [
        "The randomtree_Model function receives as input the number of trees and the untokenized training and test datasets. "
      ]
    },
    {
      "cell_type": "code",
      "metadata": {
        "id": "i3AuShZYsIPn"
      },
      "source": [
        "xValTestArray3 = np.concatenate((xValArray3, xTestArray3))\n",
        "yValTestArray3 = np.concatenate((yValArray3, yTestArray3))\n",
        "\n",
        "from sklearn.manifold import TSNE\n",
        "from sklearn.decomposition import TruncatedSVD\n",
        "xTrainArray3_reduced = TruncatedSVD(n_components=50, random_state=0).fit_transform(xTrainArray3)\n",
        "xTrainArray3_embedded = TSNE(n_components=2).fit_transform(xTrainArray3_reduced)\n",
        "xValTestArray3_reduced = TruncatedSVD(n_components=50, random_state=0).fit_transform(xValTestArray3)\n",
        "xValTestArray3_embedded = TSNE(n_components=2).fit_transform(xValTestArray3_reduced)"
      ],
      "execution_count": 34,
      "outputs": []
    },
    {
      "cell_type": "code",
      "metadata": {
        "id": "9u3d-_bU0rT1",
        "colab": {
          "base_uri": "https://localhost:8080/"
        },
        "outputId": "58c541a8-405e-493c-ee63-bffe8fb81eb5"
      },
      "source": [
        "#Execute random forest model\n",
        "modelRandomForest,historyRandomForest, y_predictRandomForest = randomtree_Model(100, xTrainArray3_embedded, yTrainArray3[:,1], xValTestArray3_embedded, yValTestArray3[:,1])"
      ],
      "execution_count": 35,
      "outputs": [
        {
          "output_type": "stream",
          "text": [
            "[[  0  11]\n",
            " [  0 198]]\n",
            "              precision    recall  f1-score   support\n",
            "\n",
            "         0.0       0.00      0.00      0.00        11\n",
            "         1.0       0.95      1.00      0.97       198\n",
            "\n",
            "    accuracy                           0.95       209\n",
            "   macro avg       0.47      0.50      0.49       209\n",
            "weighted avg       0.90      0.95      0.92       209\n",
            "\n",
            "0.9473684210526315\n"
          ],
          "name": "stdout"
        },
        {
          "output_type": "stream",
          "text": [
            "/usr/local/lib/python3.7/dist-packages/sklearn/metrics/_classification.py:1272: UndefinedMetricWarning: Precision and F-score are ill-defined and being set to 0.0 in labels with no predicted samples. Use `zero_division` parameter to control this behavior.\n",
            "  _warn_prf(average, modifier, msg_start, len(result))\n"
          ],
          "name": "stderr"
        }
      ]
    },
    {
      "cell_type": "code",
      "metadata": {
        "colab": {
          "base_uri": "https://localhost:8080/",
          "height": 265
        },
        "id": "I5MosCkorjOI",
        "outputId": "a23cfa83-35c2-4620-89b2-116e8c4d802d"
      },
      "source": [
        "# define bounds of the domain\n",
        "xmin, xmax = np.min(xValTestArray3_embedded[:,0]), np.max(xValTestArray3_embedded[:,0])\n",
        "ymin, ymax = np.min(xValTestArray3_embedded[:,1]), np.max(xValTestArray3_embedded[:,1])\n",
        "# define the x and y scale\n",
        "xgrid = np.arange(xmin, xmax, 0.1)\n",
        "ygrid = np.arange(ymin, ymax, 0.1)\n",
        "# create all of the lines and rows of the grid\n",
        "xx, yy = np.meshgrid(xgrid, ygrid)\n",
        "# flatten each grid to a vector\n",
        "rx, ry = xx.flatten(), yy.flatten()\n",
        "#r = np.array(r)\n",
        "rx, ry = rx.reshape((len(rx), 1)), ry.reshape((len(ry), 1))\n",
        "# horizontal stack vectors to create x input for the model\n",
        "grid = np.hstack((rx, ry))\n",
        "# make predictions for the grid\n",
        "y_predLggrid = modelRandomForest.predict(grid)\n",
        "# reshape the predictions back into a grid\n",
        "zz = y_predLggrid.reshape(xx.shape)\n",
        "# plot the grid of x, y and z values as a surface\n",
        "pyplot.contourf(xx, yy, zz, cmap='Paired')\n",
        "# create scatter plot for samples from each class\n",
        "for class_value in range(2):\n",
        "    # get row indexes for samples with this class\n",
        "    row_ix = np.where(yValTestArray3[:,1] == class_value)\n",
        "    # create scatter of these samples\n",
        "    plt.scatter(xValTestArray3_embedded[row_ix, 0], xValTestArray3_embedded[row_ix, 1], cmap='Paired')"
      ],
      "execution_count": 36,
      "outputs": [
        {
          "output_type": "display_data",
          "data": {
            "image/png": "[encoded data removed]",
            "text/plain": [
              "<Figure size 432x288 with 1 Axes>"
            ]
          },
          "metadata": {
            "tags": [],
            "image/png": {
              "width": 370,
              "height": 248
            },
            "needs_background": "light"
          }
        }
      ]
    },
    {
      "cell_type": "markdown",
      "metadata": {
        "id": "_oxlLaoNDAy_"
      },
      "source": [
        "The lgModel function receives as input the untokenized training and test datasets. "
      ]
    },
    {
      "cell_type": "code",
      "metadata": {
        "id": "ntgXVPRGyc4z",
        "colab": {
          "base_uri": "https://localhost:8080/"
        },
        "outputId": "0e2339da-a36c-45aa-8abb-0acf22c4eb04"
      },
      "source": [
        "#Execute logistic regression Model\n",
        "logreg, y_predLg, y_predProbaLg = lgModel(xTrainArray4, yTrainArray4[:,1], xValArray4, yValArray4[:,1])"
      ],
      "execution_count": 37,
      "outputs": [
        {
          "output_type": "stream",
          "text": [
            "accuracy 0.9425837320574163\n",
            "              precision    recall  f1-score   support\n",
            "\n",
            "     class 0       0.74      0.42      0.54        33\n",
            "     class 1       0.95      0.99      0.97       385\n",
            "\n",
            "    accuracy                           0.94       418\n",
            "   macro avg       0.84      0.71      0.75       418\n",
            "weighted avg       0.94      0.94      0.94       418\n",
            "\n"
          ],
          "name": "stdout"
        }
      ]
    },
    {
      "cell_type": "markdown",
      "metadata": {
        "id": "phb30ECkDgk0"
      },
      "source": [
        "The svmModel function receives as input the untokenized training and test datasets. "
      ]
    },
    {
      "cell_type": "code",
      "metadata": {
        "id": "sDjgLOWSvwwN",
        "colab": {
          "base_uri": "https://localhost:8080/"
        },
        "outputId": "42e9209a-0792-4979-bc81-f5515c259f00"
      },
      "source": [
        "#Execute svmModel\n",
        "sgd, y_predSgd = svmModel(xTrainArray4, yTrainArray4[:,1], xValArray4, yValArray4[:,1])"
      ],
      "execution_count": 38,
      "outputs": [
        {
          "output_type": "stream",
          "text": [
            "accuracy 0.9282296650717703\n",
            "              precision    recall  f1-score   support\n",
            "\n",
            "     class 0       0.55      0.48      0.52        33\n",
            "     class 1       0.96      0.97      0.96       385\n",
            "\n",
            "    accuracy                           0.93       418\n",
            "   macro avg       0.75      0.73      0.74       418\n",
            "weighted avg       0.92      0.93      0.93       418\n",
            "\n"
          ],
          "name": "stdout"
        }
      ]
    },
    {
      "cell_type": "markdown",
      "metadata": {
        "id": "FJ0_TuUZ78gb"
      },
      "source": [
        "# Word2Vec"
      ]
    },
    {
      "cell_type": "markdown",
      "metadata": {
        "id": "EhQ_iEeMDQdH"
      },
      "source": [
        "## preparation"
      ]
    },
    {
      "cell_type": "markdown",
      "metadata": {
        "id": "PRxc1PdRvJCZ"
      },
      "source": [
        "Sources and tutorials i used to create word2vec embeddings:\n"
      ]
    },
    {
      "cell_type": "code",
      "metadata": {
        "id": "B_Xk8HYm8viJ"
      },
      "source": [
        "#Word2vec approach. We followed a mix out of several turoials:\n",
        "#    https://radimrehurek.com/gensim/auto_examples/tutorials/run_word2vec.html\n",
        "#    https://discuss.huggingface.co/t/generate-raw-word-embeddings-using-transformer-models-like-bert-for-downstream-process/2958\n",
        "#    https://towardsdatascience.com/text-classification-with-nlp-tf-idf-vs-word2vec-vs-bert-41ff868d1794\n",
        "#    https://phdstatsphys.wordpress.com/2018/12/27/word2vec-how-to-train-and-update-it/"
      ],
      "execution_count": 39,
      "outputs": []
    },
    {
      "cell_type": "markdown",
      "metadata": {
        "id": "NBWZEgbwvbPT"
      },
      "source": [
        "Import, especially gensim and gensim.downloader for word2vec if you like to use a pretrained word2vec"
      ]
    },
    {
      "cell_type": "code",
      "metadata": {
        "id": "Lz9tCOQo9CCk",
        "colab": {
          "base_uri": "https://localhost:8080/"
        },
        "outputId": "75150bb9-9783-49c7-a5f1-d739e34a1cff"
      },
      "source": [
        "## for data\n",
        "import json\n",
        "import pandas as pd\n",
        "import numpy as np\n",
        "## for plotting\n",
        "import matplotlib.pyplot as plt\n",
        "import seaborn as sns\n",
        "## for processing\n",
        "import re\n",
        "import nltk\n",
        "# for bag-of-words\n",
        "from sklearn import feature_extraction, model_selection, naive_bayes, pipeline, manifold, preprocessing\n",
        "## for explainer\n",
        "!pip install lime\n",
        "from lime import lime_text\n",
        "## for word embedding\n",
        "import gensim\n",
        "import gensim.downloader as gensim_api\n",
        "## for deep learning\n",
        "from tensorflow.keras import models, layers, preprocessing as kprocessing\n",
        "from tensorflow.keras import backend as K\n",
        "## for bert language model\n",
        "#!pip install transformer\n",
        "#from transformer"
      ],
      "execution_count": 40,
      "outputs": [
        {
          "output_type": "stream",
          "text": [
            "Collecting lime\n",
            "\u001b[?25l  Downloading https://files.pythonhosted.org/packages/f5/86/91a13127d83d793ecb50eb75e716f76e6eda809b6803c5a4ff462339789e/lime-0.2.0.1.tar.gz (275kB)\n",
            "\r\u001b[K     |█▏                              | 10kB 12.1MB/s eta 0:00:01\r\u001b[K     |██▍                             | 20kB 17.9MB/s eta 0:00:01\r\u001b[K     |███▋                            | 30kB 21.4MB/s eta 0:00:01\r\u001b[K     |████▊                           | 40kB 23.3MB/s eta 0:00:01\r\u001b[K     |██████                          | 51kB 17.3MB/s eta 0:00:01\r\u001b[K     |███████▏                        | 61kB 13.3MB/s eta 0:00:01\r\u001b[K     |████████▎                       | 71kB 12.5MB/s eta 0:00:01\r\u001b[K     |█████████▌                      | 81kB 13.7MB/s eta 0:00:01\r\u001b[K     |██████████▊                     | 92kB 13.3MB/s eta 0:00:01\r\u001b[K     |███████████▉                    | 102kB 14.4MB/s eta 0:00:01\r\u001b[K     |█████████████                   | 112kB 14.4MB/s eta 0:00:01\r\u001b[K     |██████████████▎                 | 122kB 14.4MB/s eta 0:00:01\r\u001b[K     |███████████████▌                | 133kB 14.4MB/s eta 0:00:01\r\u001b[K     |████████████████▋               | 143kB 14.4MB/s eta 0:00:01\r\u001b[K     |█████████████████▉              | 153kB 14.4MB/s eta 0:00:01\r\u001b[K     |███████████████████             | 163kB 14.4MB/s eta 0:00:01\r\u001b[K     |████████████████████▏           | 174kB 14.4MB/s eta 0:00:01\r\u001b[K     |█████████████████████▍          | 184kB 14.4MB/s eta 0:00:01\r\u001b[K     |██████████████████████▋         | 194kB 14.4MB/s eta 0:00:01\r\u001b[K     |███████████████████████▊        | 204kB 14.4MB/s eta 0:00:01\r\u001b[K     |█████████████████████████       | 215kB 14.4MB/s eta 0:00:01\r\u001b[K     |██████████████████████████▏     | 225kB 14.4MB/s eta 0:00:01\r\u001b[K     |███████████████████████████▍    | 235kB 14.4MB/s eta 0:00:01\r\u001b[K     |████████████████████████████▌   | 245kB 14.4MB/s eta 0:00:01\r\u001b[K     |█████████████████████████████▊  | 256kB 14.4MB/s eta 0:00:01\r\u001b[K     |███████████████████████████████ | 266kB 14.4MB/s eta 0:00:01\r\u001b[K     |████████████████████████████████| 276kB 14.4MB/s \n",
            "\u001b[?25hRequirement already satisfied: matplotlib in /usr/local/lib/python3.7/dist-packages (from lime) (3.2.2)\n",
            "Requirement already satisfied: numpy in /usr/local/lib/python3.7/dist-packages (from lime) (1.19.5)\n",
            "Requirement already satisfied: scipy in /usr/local/lib/python3.7/dist-packages (from lime) (1.4.1)\n",
            "Requirement already satisfied: tqdm in /usr/local/lib/python3.7/dist-packages (from lime) (4.41.1)\n",
            "Requirement already satisfied: scikit-learn>=0.18 in /usr/local/lib/python3.7/dist-packages (from lime) (0.22.2.post1)\n",
            "Requirement already satisfied: scikit-image>=0.12 in /usr/local/lib/python3.7/dist-packages (from lime) (0.16.2)\n",
            "Requirement already satisfied: cycler>=0.10 in /usr/local/lib/python3.7/dist-packages (from matplotlib->lime) (0.10.0)\n",
            "Requirement already satisfied: kiwisolver>=1.0.1 in /usr/local/lib/python3.7/dist-packages (from matplotlib->lime) (1.3.1)\n",
            "Requirement already satisfied: pyparsing!=2.0.4,!=2.1.2,!=2.1.6,>=2.0.1 in /usr/local/lib/python3.7/dist-packages (from matplotlib->lime) (2.4.7)\n",
            "Requirement already satisfied: python-dateutil>=2.1 in /usr/local/lib/python3.7/dist-packages (from matplotlib->lime) (2.8.1)\n",
            "Requirement already satisfied: joblib>=0.11 in /usr/local/lib/python3.7/dist-packages (from scikit-learn>=0.18->lime) (1.0.1)\n",
            "Requirement already satisfied: networkx>=2.0 in /usr/local/lib/python3.7/dist-packages (from scikit-image>=0.12->lime) (2.5.1)\n",
            "Requirement already satisfied: pillow>=4.3.0 in /usr/local/lib/python3.7/dist-packages (from scikit-image>=0.12->lime) (7.1.2)\n",
            "Requirement already satisfied: imageio>=2.3.0 in /usr/local/lib/python3.7/dist-packages (from scikit-image>=0.12->lime) (2.4.1)\n",
            "Requirement already satisfied: PyWavelets>=0.4.0 in /usr/local/lib/python3.7/dist-packages (from scikit-image>=0.12->lime) (1.1.1)\n",
            "Requirement already satisfied: six in /usr/local/lib/python3.7/dist-packages (from cycler>=0.10->matplotlib->lime) (1.15.0)\n",
            "Requirement already satisfied: decorator<5,>=4.3 in /usr/local/lib/python3.7/dist-packages (from networkx>=2.0->scikit-image>=0.12->lime) (4.4.2)\n",
            "Building wheels for collected packages: lime\n",
            "  Building wheel for lime (setup.py) ... \u001b[?25l\u001b[?25hdone\n",
            "  Created wheel for lime: filename=lime-0.2.0.1-cp37-none-any.whl size=283858 sha256=3b19207d4ea7a21a6cb0a6acdabcd5de3d1e4640ba9d2c79f6eade5572d7b7bd\n",
            "  Stored in directory: /root/.cache/pip/wheels/4c/4f/a5/0bc765457bd41378bf3ce8d17d7495369d6e7ca3b712c60c89\n",
            "Successfully built lime\n",
            "Installing collected packages: lime\n",
            "Successfully installed lime-0.2.0.1\n"
          ],
          "name": "stdout"
        }
      ]
    },
    {
      "cell_type": "markdown",
      "metadata": {
        "id": "iDR33jzfvipv"
      },
      "source": [
        "Take a look into the dataframe to ensure everything is okay"
      ]
    },
    {
      "cell_type": "code",
      "metadata": {
        "id": "YWuFMm9RIHjZ"
      },
      "source": [
        "azubi_df_mails_and_scored_combined"
      ],
      "execution_count": null,
      "outputs": []
    },
    {
      "cell_type": "code",
      "metadata": {
        "id": "iABfsxDK9SvI"
      },
      "source": [
        "azubi_df_mails_and_scored_combined.sample(5)"
      ],
      "execution_count": null,
      "outputs": []
    },
    {
      "cell_type": "markdown",
      "metadata": {
        "id": "aUBHcFrbGtGd"
      },
      "source": [
        "And now we remove stopwords"
      ]
    },
    {
      "cell_type": "code",
      "metadata": {
        "colab": {
          "base_uri": "https://localhost:8080/"
        },
        "id": "YcSESeuVEkSH",
        "outputId": "055c331f-deb1-4fb0-e454-44fd655bd664"
      },
      "source": [
        "azubi_df_mails_and_scored_combined = removeStopWordsSelectedColumns(azubi_df_mails_and_scored_combined,'Mails_Combined')"
      ],
      "execution_count": 43,
      "outputs": [
        {
          "output_type": "stream",
          "text": [
            "[nltk_data] Downloading package punkt to /root/nltk_data...\n",
            "[nltk_data]   Unzipping tokenizers/punkt.zip.\n",
            "[nltk_data] Downloading package stopwords to /root/nltk_data...\n",
            "[nltk_data]   Unzipping corpora/stopwords.zip.\n"
          ],
          "name": "stdout"
        }
      ]
    },
    {
      "cell_type": "markdown",
      "metadata": {
        "id": "Y4lyNlujHU7B"
      },
      "source": [
        "and take a look into the cleaned dataframe again"
      ]
    },
    {
      "cell_type": "code",
      "metadata": {
        "id": "SQT0amgWIQPr"
      },
      "source": [
        "azubi_df_mails_and_scored_combined"
      ],
      "execution_count": null,
      "outputs": []
    },
    {
      "cell_type": "code",
      "metadata": {
        "id": "nQd69X_gD_QA"
      },
      "source": [
        "azubi_df_mails_and_scored_combined.sample(5)"
      ],
      "execution_count": null,
      "outputs": []
    },
    {
      "cell_type": "markdown",
      "metadata": {
        "id": "S2NdVFnuvnbA"
      },
      "source": [
        "We want to make sure our data set is balanced. Which is not the case. Thus, we include weights lateron in the model. Here you can see the inbalance for this variable clearly."
      ]
    },
    {
      "cell_type": "code",
      "metadata": {
        "id": "BevGZsl-9WXD",
        "colab": {
          "base_uri": "https://localhost:8080/",
          "height": 294
        },
        "outputId": "e8328ed7-5314-4f3c-82dc-d28c13b3e7ed"
      },
      "source": [
        "fig, ax = plt.subplots()\n",
        "fig.suptitle(\"count\", fontsize=12)\n",
        "azubi_df_mails_and_scored_combined[\"a4s_combined_i2b\"].reset_index().groupby(\"a4s_combined_i2b\").count().sort_values(by= \n",
        "       \"index\").plot(kind=\"barh\", legend=False, \n",
        "        ax=ax).grid(axis='x')\n",
        "plt.show()"
      ],
      "execution_count": 46,
      "outputs": [
        {
          "output_type": "display_data",
          "data": {
            "image/png": "[encoded data removed]",
            "text/plain": [
              "<Figure size 432x288 with 1 Axes>"
            ]
          },
          "metadata": {
            "tags": [],
            "image/png": {
              "width": 392,
              "height": 277
            },
            "needs_background": "light"
          }
        }
      ]
    },
    {
      "cell_type": "markdown",
      "metadata": {
        "id": "TeI5OUUJv0Lk"
      },
      "source": [
        "Lets split the data into a train and test set."
      ]
    },
    {
      "cell_type": "code",
      "metadata": {
        "id": "ACP3DkQh9ay6"
      },
      "source": [
        "## split dataset\n",
        "dtf_train, dtf_test = model_selection.train_test_split(azubi_df_cleaned_no_stopwords, test_size=0.3)## get target\n",
        "y_train = dtf_train[\"a4s_combined_i2b\"].values\n",
        "y_test = dtf_test[\"a4s_combined_i2b\"].values"
      ],
      "execution_count": 47,
      "outputs": []
    },
    {
      "cell_type": "markdown",
      "metadata": {
        "id": "o8PPmugt9-Ux"
      },
      "source": [
        "## word2vec"
      ]
    },
    {
      "cell_type": "markdown",
      "metadata": {
        "id": "v87T-zvAv3f7"
      },
      "source": [
        "Here we start with the word2vec after our data preprocessing. Download a already pretrained word2vc might take some time... if you like here are some facts about word2vec: \n",
        "\n",
        "*The word2vec tool takes a text corpus as input and produces the word vectors as output. It first constructs a vocabulary from the training text data and then learns vector representation of words. The resulting word vector file can be used as features in many natural language processing and machine learning applications.*\n",
        "\n",
        "(more info: https://code.google.com/archive/p/word2vec/)"
      ]
    },
    {
      "cell_type": "code",
      "metadata": {
        "id": "RrteU-xt-Cbm"
      },
      "source": [
        "# download word2vec takes 10 min\n",
        "#we could use this word2vec pretrained model by using this line of code, but instead we wanted to make a word2vec embedding with our own corpus, because word2vec wasn't trained with business mails\n",
        "# nlp = gensim_api.load(\"word2vec-google-news-300\") "
      ],
      "execution_count": 48,
      "outputs": []
    },
    {
      "cell_type": "markdown",
      "metadata": {
        "id": "z9vQrKNOwPqx"
      },
      "source": [
        "Lets use word2vec with our dataframe and create our own embeddings. We define unigrams  to determine intersting (rather polite or inpolite) word vectors. The functions we use are part of gensim, so this is also super easy."
      ]
    },
    {
      "cell_type": "code",
      "metadata": {
        "id": "4J7iw1d8-HHF"
      },
      "source": [
        "corpus =  dtf_train[\"Mails_Combined\"]\n",
        "## create list of lists of unigrams (#Sehr)\n",
        "lst_corpus = []\n",
        "for string in corpus:\n",
        "   lst_words = string.split()\n",
        "   lst_grams = [\" \".join(lst_words[i:i+1]) \n",
        "               for i in range(0, len(lst_words), 1)]\n",
        "   lst_corpus.append(lst_grams)\n",
        "## detect bigrams (#Sehr geehrter) and trigrams (#Sehr geehrte:r Herr:Frau)\n",
        "bigrams_detector = gensim.models.phrases.Phrases(lst_corpus, \n",
        "                 delimiter=\" \".encode(), min_count=5, threshold=10)\n",
        "bigrams_detector = gensim.models.phrases.Phraser(bigrams_detector)\n",
        "trigrams_detector = gensim.models.phrases.Phrases(bigrams_detector[lst_corpus], \n",
        "            delimiter=\" \".encode(), min_count=5, threshold=10)\n",
        "trigrams_detector = gensim.models.phrases.Phraser(trigrams_detector)\n",
        "\n"
      ],
      "execution_count": 49,
      "outputs": []
    },
    {
      "cell_type": "markdown",
      "metadata": {
        "id": "O2HC1uJbwgpT"
      },
      "source": [
        "This part is crucial. We determine the setup to create our word embeddings.\n",
        "- target size = size of the word vectors\n",
        "- window =  the maximum distance between a current and predicted word within a mail\n",
        "- sg = training algorithm. skip-grams (sg=1) is used as it was used in the tutorial and this should also in general lead to the best results in most cases\n",
        "- iter = number of iterations (10, 20, 30)"
      ]
    },
    {
      "cell_type": "code",
      "metadata": {
        "id": "0DeKTzAh-XU5"
      },
      "source": [
        "#word2vec setup\n",
        "#play with size=300, window = 8? mean lenght?\n",
        "# target size, mean length window of distance, and sgram 1: has proven robust \n",
        "nlp = gensim.models.word2vec.Word2Vec(lst_corpus, size=300,   \n",
        "            window=5, min_count=3, sg=1, iter=30)\n",
        "\n"
      ],
      "execution_count": 50,
      "outputs": []
    },
    {
      "cell_type": "markdown",
      "metadata": {
        "id": "JGC_PGASzfqb"
      },
      "source": [
        "How is our vector shaped? It is a 1dim array. Lets take a closer look:"
      ]
    },
    {
      "cell_type": "code",
      "metadata": {
        "id": "tvgZ7UMH-oGC",
        "colab": {
          "base_uri": "https://localhost:8080/"
        },
        "outputId": "2ee00b15-9a12-4f26-a200-b6c0a1f4ba06"
      },
      "source": [
        "word = \"freundlichen\"\n",
        "nlp[word].shape"
      ],
      "execution_count": 51,
      "outputs": [
        {
          "output_type": "stream",
          "text": [
            "/usr/local/lib/python3.7/dist-packages/ipykernel_launcher.py:2: DeprecationWarning: Call to deprecated `__getitem__` (Method will be removed in 4.0.0, use self.wv.__getitem__() instead).\n",
            "  \n"
          ],
          "name": "stderr"
        },
        {
          "output_type": "execute_result",
          "data": {
            "text/plain": [
              "(300,)"
            ]
          },
          "metadata": {
            "tags": []
          },
          "execution_count": 51
        }
      ]
    },
    {
      "cell_type": "markdown",
      "metadata": {
        "id": "Zle-LzZCzpAA"
      },
      "source": [
        "This is the vector for [word]. Cool Hmm? Test it for yourself if you like to play with..."
      ]
    },
    {
      "cell_type": "code",
      "metadata": {
        "id": "rR5dB8iRzL6O",
        "colab": {
          "base_uri": "https://localhost:8080/"
        },
        "outputId": "a99ca158-943f-46e4-d837-2877387eae0e"
      },
      "source": [
        "nlp[word]"
      ],
      "execution_count": 52,
      "outputs": [
        {
          "output_type": "stream",
          "text": [
            "/usr/local/lib/python3.7/dist-packages/ipykernel_launcher.py:1: DeprecationWarning: Call to deprecated `__getitem__` (Method will be removed in 4.0.0, use self.wv.__getitem__() instead).\n",
            "  \"\"\"Entry point for launching an IPython kernel.\n"
          ],
          "name": "stderr"
        },
        {
          "output_type": "execute_result",
          "data": {
            "text/plain": [
              "array([-0.12768376,  0.01777802, -0.01746018,  0.2761406 ,  0.06698161,\n",
              "       -0.21736613, -0.04883792,  0.10350259,  0.17192408,  0.02236494,\n",
              "        0.14264625,  0.26224717, -0.13094418, -0.01992235,  0.07454998,\n",
              "        0.07418239, -0.07229313, -0.06701584, -0.42848712, -0.16312233,\n",
              "        0.34902874,  0.27786204,  0.06250098, -0.10454313, -0.27458775,\n",
              "        0.32102048,  0.02329851,  0.10231343, -0.11299057,  0.40428248,\n",
              "        0.02172331,  0.17793074,  0.04479899, -0.09157839,  0.0833327 ,\n",
              "       -0.11136115,  0.0534155 , -0.32148156, -0.00072974,  0.0979399 ,\n",
              "       -0.08581693,  0.292481  ,  0.2710951 , -0.21221448, -0.08923667,\n",
              "        0.04770917, -0.22567786, -0.177146  , -0.4554957 ,  0.21478887,\n",
              "       -0.211033  , -0.11688182, -0.319916  ,  0.01509097,  0.2367068 ,\n",
              "        0.04078244,  0.2101376 ,  0.20783272, -0.3975814 , -0.16546217,\n",
              "        0.3592486 , -0.2240882 ,  0.12313385,  0.1412776 ,  0.06394765,\n",
              "       -0.17871948, -0.2515265 , -0.3101567 ,  0.40642676, -0.09758186,\n",
              "       -0.14017114,  0.06678233,  0.13505614, -0.06518675,  0.18221259,\n",
              "       -0.18463045,  0.13623488,  0.27892998, -0.06428638,  0.6651361 ,\n",
              "       -0.09517097,  0.2812488 , -0.23410411, -0.21648645,  0.01061983,\n",
              "        0.02684505,  0.1239569 , -0.27170637, -0.11577731,  0.06229125,\n",
              "        0.13018024, -0.02067675,  0.39337564,  0.06137772, -0.20471026,\n",
              "       -0.38037825,  0.14204726,  0.13554202,  0.3578067 , -0.02603083,\n",
              "        0.10906082,  0.14483218,  0.01989923,  0.06502092,  0.05033104,\n",
              "        0.03101781, -0.0518924 , -0.28041172, -0.25172588,  0.24082687,\n",
              "       -0.1669125 ,  0.08087032,  0.474753  , -0.20636164,  0.22878557,\n",
              "        0.3198296 , -0.03077006,  0.2934399 , -0.08072428, -0.1460369 ,\n",
              "        0.22276625, -0.05622239, -0.4308364 , -0.11320114,  0.07270497,\n",
              "        0.14398356,  0.30921122,  0.15107296, -0.2018572 ,  0.02788987,\n",
              "       -0.29857326,  0.125878  ,  0.14778267,  0.39993086,  0.16289568,\n",
              "       -0.12313762,  0.32691032, -0.31296805,  0.17333426, -0.29030854,\n",
              "        0.23027547, -0.09734566,  0.14153074, -0.19602682, -0.1483931 ,\n",
              "       -0.30611733,  0.1659159 , -0.09524377,  0.36020964,  0.23071904,\n",
              "        0.13940781,  0.01626716,  0.6369533 , -0.00659264,  0.01599568,\n",
              "       -0.34468326, -0.14029205, -0.08380883,  0.07300979,  0.13451923,\n",
              "        0.25076857,  0.3959341 ,  0.2863663 ,  0.02943183, -0.24803954,\n",
              "        0.0310541 , -0.2680898 , -0.273926  ,  0.00834905, -0.09924897,\n",
              "       -0.5440367 ,  0.09667024,  0.18186446, -0.07734886,  0.32018068,\n",
              "       -0.00950957, -0.07435685, -0.2935099 ,  0.27660045,  0.21413441,\n",
              "       -0.05136787,  0.17775328, -0.17177768, -0.08210559,  0.05399922,\n",
              "        0.17701395,  0.23102973,  0.12323747, -0.04469377,  0.2859834 ,\n",
              "        0.16023198,  0.272731  ,  0.4753559 ,  0.30410302, -0.33941326,\n",
              "        0.08849241,  0.5535084 , -0.6861369 , -0.10223417,  0.25322118,\n",
              "        0.01712616,  0.16196425, -0.00570897, -0.20604326, -0.07782487,\n",
              "       -0.08829822,  0.21667768, -0.03668197,  0.1279129 ,  0.05045171,\n",
              "       -0.18001378,  0.36149478,  0.27683794, -0.07406298,  0.0969831 ,\n",
              "        0.15656461, -0.31395927,  0.5798375 ,  0.20693187, -0.35757437,\n",
              "       -0.33415934, -0.45065764,  0.2123492 , -0.13359338, -0.01322563,\n",
              "       -0.41860148,  0.07512987,  0.15902258, -0.01497791, -0.23766036,\n",
              "        0.22710316, -0.16744138, -0.030667  ,  0.3005371 , -0.13160463,\n",
              "       -0.02518719, -0.03270309, -0.20509565,  0.30781302,  0.08529854,\n",
              "       -0.23372392,  0.4464713 ,  0.12048291, -0.21942174,  0.01759519,\n",
              "       -0.4635776 ,  0.06508287,  0.4213809 ,  0.07218724,  0.51784456,\n",
              "       -0.02922827, -0.28324223, -0.12341989,  0.12167188,  0.02578482,\n",
              "       -0.12385745,  0.06340295, -0.12420214,  0.10397209, -0.24542044,\n",
              "       -0.11156867,  0.3934484 , -0.2034981 ,  0.3264354 ,  0.1648146 ,\n",
              "        0.01801643, -0.03916699,  0.13125062, -0.12771374, -0.2998146 ,\n",
              "        0.05707499,  0.10019263,  0.72201616, -0.02282805,  0.05753028,\n",
              "       -0.01628454,  0.31676698, -0.19229957, -0.0288574 ,  0.20660669,\n",
              "       -0.20611654, -0.11211027, -0.00603288, -0.31142625, -0.04576046,\n",
              "       -0.05620155,  0.0904869 , -0.09364617,  0.57135487,  0.05032087,\n",
              "       -0.10796895,  0.06790949, -0.10580369,  0.16961658,  0.20484212,\n",
              "        0.3313361 ,  0.43642113,  0.43961868,  0.04533543,  0.03630775],\n",
              "      dtype=float32)"
            ]
          },
          "metadata": {
            "tags": []
          },
          "execution_count": 52
        }
      ]
    },
    {
      "cell_type": "markdown",
      "metadata": {
        "id": "9HtQcl3qzwcD"
      },
      "source": [
        "We can print this also in a *3d* space with related words..."
      ]
    },
    {
      "cell_type": "code",
      "metadata": {
        "id": "YRevGKcn00KO"
      },
      "source": [
        "word = word\n",
        "fig = plt.figure()## word embedding\n",
        "tot_words = [word] + [tupla[0] for tupla in \n",
        "                 nlp.most_similar(word, topn=20)]\n",
        "X = nlp[tot_words]## pca to reduce dimensionality from 300 to 3\n",
        "pca = manifold.TSNE(perplexity=40, n_components=3, init='pca')\n",
        "X = pca.fit_transform(X)## create dtf\n",
        "dtf_ = pd.DataFrame(X, index=tot_words, columns=[\"x\",\"y\",\"z\"])\n",
        "dtf_[\"input\"] = 0\n",
        "dtf_[\"input\"].iloc[0:1] = 1## plot 3d\n",
        "from mpl_toolkits.mplot3d import Axes3D\n",
        "ax = fig.add_subplot(111, projection='3d')\n",
        "ax.scatter(dtf_[dtf_[\"input\"]==0]['x'], \n",
        "           dtf_[dtf_[\"input\"]==0]['y'], \n",
        "           dtf_[dtf_[\"input\"]==0]['z'], c=\"black\")\n",
        "ax.scatter(dtf_[dtf_[\"input\"]==1]['x'], \n",
        "           dtf_[dtf_[\"input\"]==1]['y'], \n",
        "           dtf_[dtf_[\"input\"]==1]['z'], c=\"red\")\n",
        "ax.set(xlabel=None, ylabel=None, zlabel=None, xticklabels=[], \n",
        "       yticklabels=[], zticklabels=[])\n",
        "for label, row in dtf_[[\"x\",\"y\",\"z\"]].iterrows():\n",
        "    x, y, z = row\n",
        "    ax.text(x, y, z, s=label)"
      ],
      "execution_count": null,
      "outputs": []
    },
    {
      "cell_type": "markdown",
      "metadata": {
        "id": "qn3wMYrp-u5r"
      },
      "source": [
        "*note: maybe we can add here a download buttom to upload these files in this cool tensorflow showcase for word embeddings\n",
        "shortcoming: need to be lowercased, thus might not be appropriate to measure politeness in german, e.g. Sie vs. sie / Ihre vs ihre*"
      ]
    },
    {
      "cell_type": "markdown",
      "metadata": {
        "id": "DBaTS7m91h-8"
      },
      "source": [
        "Ok, lets use our embeddings by tokenizing, sequencing and padding our mails.\n"
      ]
    },
    {
      "cell_type": "code",
      "metadata": {
        "id": "ixp_Jlmn-6_P"
      },
      "source": [
        "## tokenize text\n",
        "tokenizer = kprocessing.text.Tokenizer(lower=False, split=' ', \n",
        "                     oov_token=\"NaN\", \n",
        "                     filters='!\"#$%&()*+,-./:;<=>?@[\\\\]^_`{|}~\\t\\n')\n",
        "tokenizer.fit_on_texts(lst_corpus)\n",
        "dic_vocabulary = tokenizer.word_index\n",
        "\n",
        "## create sequence\n",
        "lst_text2seq= tokenizer.texts_to_sequences(lst_corpus)\n",
        "\n",
        "## padding sequence\n",
        "X_train = kprocessing.sequence.pad_sequences(lst_text2seq, \n",
        "                    maxlen=150, padding=\"post\", truncating=\"post\") #need to think about maxlen"
      ],
      "execution_count": 54,
      "outputs": []
    },
    {
      "cell_type": "markdown",
      "metadata": {
        "id": "3iH87Hb31_nX"
      },
      "source": [
        "How does our features look like? We see here a feature map where we see that some mails contains more features (black) than others."
      ]
    },
    {
      "cell_type": "code",
      "metadata": {
        "id": "LIIO2aPi-9nY",
        "colab": {
          "base_uri": "https://localhost:8080/",
          "height": 278
        },
        "outputId": "cba1ceb2-84b9-4fdf-e55e-cd0b78d02777"
      },
      "source": [
        "sns.heatmap(X_train==0, vmin=0, vmax=1, cbar=False)\n",
        "plt.show()\n",
        "#feature matrixy visual x * 120"
      ],
      "execution_count": 55,
      "outputs": [
        {
          "output_type": "display_data",
          "data": {
            "image/png": "[encoded data removed]",
            "text/plain": [
              "<Figure size 432x288 with 1 Axes>"
            ]
          },
          "metadata": {
            "tags": [],
            "image/png": {
              "width": 381,
              "height": 261
            },
            "needs_background": "light"
          }
        }
      ]
    },
    {
      "cell_type": "markdown",
      "metadata": {
        "id": "Mgp0iiC228Az"
      },
      "source": [
        "Lets see if this worked... you can again change the i value to whatever u like"
      ]
    },
    {
      "cell_type": "code",
      "metadata": {
        "id": "tG5mpsFK_Ast"
      },
      "source": [
        "i = 10\n",
        "\n",
        "# list of text: [\"I like this\", ...]\n",
        "len_txt = len(dtf_train[\"Mails_Combined\"].iloc[i].split())\n",
        "print(\"from: \", dtf_train[\"Mails_Combined\"].iloc[i], \"| len:\", len_txt)\n",
        "\n",
        "# sequence of token ids: [[1, 2, 3], ...]\n",
        "len_tokens = len(X_train[i])\n",
        "print(\"to: \", X_train[i], \"| len:\", len(X_train[i]))\n",
        "\n",
        "# vocabulary: {\"I\":1, \"like\":2, \"this\":3, ...}\n",
        "print(\"check: \", dtf_train[\"Mails_Combined\"].iloc[i].split()[0], \n",
        "      \" -- idx in vocabulary -->\",  \n",
        "      dic_vocabulary[dtf_train[\"Mails_Combined\"].iloc[i].split()[0]])\n",
        "\n",
        "print(\"vocabulary: \", dict(list(dic_vocabulary.items())[0:10]), \"... (padding element, 0)\")"
      ],
      "execution_count": null,
      "outputs": []
    },
    {
      "cell_type": "markdown",
      "metadata": {
        "id": "S9V4DZcK4574"
      },
      "source": [
        "We need to \"engineer\" the same features on the test set too!"
      ]
    },
    {
      "cell_type": "code",
      "metadata": {
        "id": "I6b_H1Lh_FOY"
      },
      "source": [
        "### do some engineering\n",
        "corpus = dtf_test[\"Mails_Combined\"]\n",
        "## create list of n-grams\n",
        "lst_corpus = []\n",
        "for string in corpus:\n",
        "    lst_words = string.split()\n",
        "    lst_grams = [\" \".join(lst_words[i:i+1]) for i in range(0, \n",
        "                 len(lst_words), 1)]\n",
        "    lst_corpus.append(lst_grams)\n",
        "    ## detect common bigrams and trigrams using the fitted detectors\n",
        "lst_corpus = list(bigrams_detector[lst_corpus])\n",
        "lst_corpus = list(trigrams_detector[lst_corpus])\n",
        "## text to sequence with the fitted tokenizer\n",
        "lst_text2seq = tokenizer.texts_to_sequences(lst_corpus)\n",
        "## padding sequence\n",
        "X_test = kprocessing.sequence.pad_sequences(lst_text2seq, \n",
        "                                            maxlen=150,\n",
        "             padding=\"post\", truncating=\"post\")"
      ],
      "execution_count": 57,
      "outputs": []
    },
    {
      "cell_type": "markdown",
      "metadata": {
        "id": "OxSJvtn25XvA"
      },
      "source": [
        "And now we create the matrix of embeddings that will be used as a weight matrix in the neural network classifier."
      ]
    },
    {
      "cell_type": "code",
      "metadata": {
        "id": "-lj7yHfD_Hvx",
        "colab": {
          "base_uri": "https://localhost:8080/"
        },
        "outputId": "f5513f40-3848-4ff1-ec4d-f1c35874955e"
      },
      "source": [
        "## start the matrix (length of vocabulary x vector size) with all 0s\n",
        "embeddings = np.zeros((len(dic_vocabulary)+1, 300))\n",
        "\n",
        "for word,idx in dic_vocabulary.items():\n",
        "    ## update the row with vector\n",
        "    try:\n",
        "        embeddings[idx] =  nlp[word]\n",
        "    ## if word not in model then skip and the row stays all 0s\n",
        "    except:\n",
        "        pass"
      ],
      "execution_count": 58,
      "outputs": [
        {
          "output_type": "stream",
          "text": [
            "/usr/local/lib/python3.7/dist-packages/ipykernel_launcher.py:7: DeprecationWarning: Call to deprecated `__getitem__` (Method will be removed in 4.0.0, use self.wv.__getitem__() instead).\n",
            "  import sys\n"
          ],
          "name": "stderr"
        }
      ]
    },
    {
      "cell_type": "markdown",
      "metadata": {
        "id": "RX-n5b3W5u75"
      },
      "source": [
        "Just a final check to see if everything is all right"
      ]
    },
    {
      "cell_type": "code",
      "metadata": {
        "id": "N336OJ9B_K0K",
        "colab": {
          "base_uri": "https://localhost:8080/"
        },
        "outputId": "0bff4499-bd49-42c7-de88-8686468bdf13"
      },
      "source": [
        "word = \"freundlichen\"\n",
        "print(\"dic[word]:\", dic_vocabulary[word], \"|idx\")\n",
        "print(\"embeddings[idx]:\", embeddings[dic_vocabulary[word]].shape, \n",
        "      \"|vector\")"
      ],
      "execution_count": 59,
      "outputs": [
        {
          "output_type": "stream",
          "text": [
            "dic[word]: 10 |idx\n",
            "embeddings[idx]: (300,) |vector\n"
          ],
          "name": "stdout"
        }
      ]
    },
    {
      "cell_type": "markdown",
      "metadata": {
        "id": "VYrBu14c5_zB"
      },
      "source": [
        "Lets quickly measure the inbalance to get some class_weights"
      ]
    },
    {
      "cell_type": "code",
      "metadata": {
        "id": "jiQM9hi4Imw5",
        "colab": {
          "base_uri": "https://localhost:8080/"
        },
        "outputId": "401a9823-c66b-4dc4-ba94-ad424aec775f"
      },
      "source": [
        "# we need to fix our inbalanced dataset by using a balance function by sklearn\n",
        "from sklearn.utils import class_weight\n",
        "class_weights = class_weight.compute_class_weight('balanced',\n",
        "                                                 np.unique(y_train),\n",
        "                                                 y_train)\n",
        "class_weights"
      ],
      "execution_count": 60,
      "outputs": [
        {
          "output_type": "execute_result",
          "data": {
            "text/plain": [
              "array([7.5257732 , 0.53558327])"
            ]
          },
          "metadata": {
            "tags": []
          },
          "execution_count": 60
        }
      ]
    },
    {
      "cell_type": "markdown",
      "metadata": {
        "id": "EUuehNOG55UJ"
      },
      "source": [
        "And now we define our model without an attention but an embedding layer. We use an embedding layer to include our embeddings as untrainable weights, and a small RNN with two bidirectional LSTM layers, a dense layer and an output layer with 2 neurons, and a softmax as activation function. (we use this model design, as it was sucessfully used in a similar task)."
      ]
    },
    {
      "cell_type": "code",
      "metadata": {
        "id": "X2pkOoLX_O-R",
        "colab": {
          "base_uri": "https://localhost:8080/"
        },
        "outputId": "acbc8109-98ed-47db-ecb2-57677c214328"
      },
      "source": [
        "from tensorflow import keras\n",
        "\n",
        "## input\n",
        "x_in = layers.Input(shape=(150,))## embedding\n",
        "x = layers.Embedding(input_dim=embeddings.shape[0],  \n",
        "                     output_dim=embeddings.shape[1], \n",
        "                     weights=[embeddings],\n",
        "                     input_length=150, trainable=False)(x_in)\n",
        "## apply attention\n",
        "#x = attention_layer(x, neurons=150)\n",
        "## 2 layers of bidirectional lstm\n",
        "x = layers.Bidirectional(layers.LSTM(units=200, dropout=0.2, \n",
        "                         return_sequences=True))(x)\n",
        "x = layers.Bidirectional(layers.LSTM(units=200, dropout=0.2,\n",
        "                          return_sequences=False))(x)\n",
        "#x = layers.LSTM(units=100, dropout=0.2)(x)\n",
        "## final dense layers\n",
        "x = layers.Dense(64, activation='relu')(x)\n",
        "y_out = layers.Dense(2, activation='softmax')(x)\n",
        "#y_out = layers.Dense(1, activation='sigmoid')(x)## compile\n",
        "model = models.Model(x_in, y_out)\n",
        "\n",
        "opt = keras.optimizers.Adam(lr=1e-6)\n",
        "model.compile(loss='sparse_categorical_crossentropy',  # #binary_crossentropy \n",
        "              optimizer=opt, metrics=['accuracy'])\n",
        "\n",
        "model.summary()"
      ],
      "execution_count": 61,
      "outputs": [
        {
          "output_type": "stream",
          "text": [
            "Model: \"model\"\n",
            "_________________________________________________________________\n",
            "Layer (type)                 Output Shape              Param #   \n",
            "=================================================================\n",
            "input_1 (InputLayer)         [(None, 150)]             0         \n",
            "_________________________________________________________________\n",
            "embedding (Embedding)        (None, 150, 300)          3452700   \n",
            "_________________________________________________________________\n",
            "bidirectional (Bidirectional (None, 150, 400)          801600    \n",
            "_________________________________________________________________\n",
            "bidirectional_1 (Bidirection (None, 400)               961600    \n",
            "_________________________________________________________________\n",
            "dense (Dense)                (None, 64)                25664     \n",
            "_________________________________________________________________\n",
            "dense_1 (Dense)              (None, 2)                 130       \n",
            "=================================================================\n",
            "Total params: 5,241,694\n",
            "Trainable params: 1,788,994\n",
            "Non-trainable params: 3,452,700\n",
            "_________________________________________________________________\n"
          ],
          "name": "stdout"
        },
        {
          "output_type": "stream",
          "text": [
            "/usr/local/lib/python3.7/dist-packages/tensorflow/python/keras/optimizer_v2/optimizer_v2.py:375: UserWarning: The `lr` argument is deprecated, use `learning_rate` instead.\n",
            "  \"The `lr` argument is deprecated, use `learning_rate` instead.\")\n"
          ],
          "name": "stderr"
        }
      ]
    },
    {
      "cell_type": "code",
      "metadata": {
        "id": "Tgt2sVYW_S_W",
        "colab": {
          "base_uri": "https://localhost:8080/",
          "height": 1000
        },
        "outputId": "682258a8-2926-4b8c-828c-cbac345443ef"
      },
      "source": [
        "## encode y\n",
        "dic_y_mapping = {n:label for n,label in \n",
        "                 enumerate(np.unique(y_train))}\n",
        "inverse_dic = {v:k for k,v in dic_y_mapping.items()}\n",
        "y_train = np.array([inverse_dic[y] for y in y_train])\n",
        "\n",
        "## train\n",
        "training = model.fit(x=X_train, y=y_train, batch_size=64, \n",
        "                     epochs=50, shuffle=True, verbose=2, \n",
        "                     validation_split=0.2, class_weight={0:7, 1:0.5}) #0:14, 1:1\n",
        "\n",
        "## plot loss and accuracy\n",
        "metrics = [k for k in training.history.keys() if (\"loss\" not in k) and (\"val\" not in k)]\n",
        "fig, ax = plt.subplots(nrows=1, ncols=2, sharey=True)\n",
        "\n",
        "ax[0].set(title=\"Training\")\n",
        "ax11 = ax[0].twinx()\n",
        "ax[0].plot(training.history['loss'], color='black')\n",
        "ax[0].set_xlabel('Epochs')\n",
        "ax[0].set_ylabel('Loss', color='black')\n",
        "for metric in metrics:\n",
        "    ax11.plot(training.history[metric], label=metric)\n",
        "ax11.set_ylabel(\"Score\", color='steelblue')\n",
        "ax11.legend()\n",
        "ax[1].set(title=\"Validation\")\n",
        "ax22 = ax[1].twinx()\n",
        "\n",
        "ax[1].plot(training.history['val_loss'], color='black')\n",
        "ax[1].set_xlabel('Epochs')\n",
        "ax[1].set_ylabel('Loss', color='black')\n",
        "for metric in metrics:\n",
        "     ax22.plot(training.history['val_'+metric], label=metric)\n",
        "ax22.set_ylabel(\"Score\", color=\"steelblue\")\n",
        "plt.show()\n",
        "\n"
      ],
      "execution_count": 62,
      "outputs": [
        {
          "output_type": "stream",
          "text": [
            "WARNING:tensorflow:From /usr/local/lib/python3.7/dist-packages/tensorflow/python/ops/array_ops.py:5049: calling gather (from tensorflow.python.ops.array_ops) with validate_indices is deprecated and will be removed in a future version.\n",
            "Instructions for updating:\n",
            "The `validate_indices` argument has no effect. Indices are always validated on CPU and never validated on GPU.\n",
            "Epoch 1/50\n",
            "19/19 - 10s - loss: 0.6397 - accuracy: 0.2705 - val_loss: 0.7068 - val_accuracy: 0.1747\n",
            "Epoch 2/50\n",
            "19/19 - 1s - loss: 0.6376 - accuracy: 0.3613 - val_loss: 0.7020 - val_accuracy: 0.2740\n",
            "Epoch 3/50\n",
            "19/19 - 1s - loss: 0.6364 - accuracy: 0.4289 - val_loss: 0.6978 - val_accuracy: 0.3973\n",
            "Epoch 4/50\n",
            "19/19 - 1s - loss: 0.6366 - accuracy: 0.5163 - val_loss: 0.6937 - val_accuracy: 0.5377\n",
            "Epoch 5/50\n",
            "19/19 - 1s - loss: 0.6351 - accuracy: 0.5933 - val_loss: 0.6899 - val_accuracy: 0.6575\n",
            "Epoch 6/50\n",
            "19/19 - 1s - loss: 0.6341 - accuracy: 0.6507 - val_loss: 0.6862 - val_accuracy: 0.7260\n",
            "Epoch 7/50\n",
            "19/19 - 1s - loss: 0.6340 - accuracy: 0.7286 - val_loss: 0.6828 - val_accuracy: 0.7568\n",
            "Epoch 8/50\n",
            "19/19 - 1s - loss: 0.6328 - accuracy: 0.7800 - val_loss: 0.6789 - val_accuracy: 0.8185\n",
            "Epoch 9/50\n",
            "19/19 - 1s - loss: 0.6305 - accuracy: 0.8236 - val_loss: 0.6747 - val_accuracy: 0.8562\n",
            "Epoch 10/50\n",
            "19/19 - 1s - loss: 0.6305 - accuracy: 0.8493 - val_loss: 0.6710 - val_accuracy: 0.8767\n",
            "Epoch 11/50\n",
            "19/19 - 1s - loss: 0.6290 - accuracy: 0.8801 - val_loss: 0.6678 - val_accuracy: 0.8870\n",
            "Epoch 12/50\n",
            "19/19 - 1s - loss: 0.6296 - accuracy: 0.9007 - val_loss: 0.6638 - val_accuracy: 0.9075\n",
            "Epoch 13/50\n",
            "19/19 - 1s - loss: 0.6285 - accuracy: 0.9144 - val_loss: 0.6600 - val_accuracy: 0.9178\n",
            "Epoch 14/50\n",
            "19/19 - 1s - loss: 0.6272 - accuracy: 0.9204 - val_loss: 0.6571 - val_accuracy: 0.9212\n",
            "Epoch 15/50\n",
            "19/19 - 1s - loss: 0.6266 - accuracy: 0.9161 - val_loss: 0.6535 - val_accuracy: 0.9247\n",
            "Epoch 16/50\n",
            "19/19 - 1s - loss: 0.6247 - accuracy: 0.9307 - val_loss: 0.6501 - val_accuracy: 0.9281\n",
            "Epoch 17/50\n",
            "19/19 - 1s - loss: 0.6240 - accuracy: 0.9264 - val_loss: 0.6470 - val_accuracy: 0.9281\n",
            "Epoch 18/50\n",
            "19/19 - 1s - loss: 0.6233 - accuracy: 0.9341 - val_loss: 0.6444 - val_accuracy: 0.9281\n",
            "Epoch 19/50\n",
            "19/19 - 1s - loss: 0.6238 - accuracy: 0.9349 - val_loss: 0.6413 - val_accuracy: 0.9281\n",
            "Epoch 20/50\n",
            "19/19 - 1s - loss: 0.6228 - accuracy: 0.9349 - val_loss: 0.6381 - val_accuracy: 0.9281\n",
            "Epoch 21/50\n",
            "19/19 - 1s - loss: 0.6206 - accuracy: 0.9332 - val_loss: 0.6350 - val_accuracy: 0.9247\n",
            "Epoch 22/50\n",
            "19/19 - 1s - loss: 0.6211 - accuracy: 0.9366 - val_loss: 0.6312 - val_accuracy: 0.9247\n",
            "Epoch 23/50\n",
            "19/19 - 1s - loss: 0.6199 - accuracy: 0.9366 - val_loss: 0.6288 - val_accuracy: 0.9247\n",
            "Epoch 24/50\n",
            "19/19 - 1s - loss: 0.6194 - accuracy: 0.9375 - val_loss: 0.6255 - val_accuracy: 0.9247\n",
            "Epoch 25/50\n",
            "19/19 - 1s - loss: 0.6190 - accuracy: 0.9358 - val_loss: 0.6226 - val_accuracy: 0.9247\n",
            "Epoch 26/50\n",
            "19/19 - 1s - loss: 0.6174 - accuracy: 0.9384 - val_loss: 0.6196 - val_accuracy: 0.9247\n",
            "Epoch 27/50\n",
            "19/19 - 1s - loss: 0.6176 - accuracy: 0.9341 - val_loss: 0.6166 - val_accuracy: 0.9247\n",
            "Epoch 28/50\n",
            "19/19 - 1s - loss: 0.6170 - accuracy: 0.9358 - val_loss: 0.6136 - val_accuracy: 0.9247\n",
            "Epoch 29/50\n",
            "19/19 - 1s - loss: 0.6161 - accuracy: 0.9358 - val_loss: 0.6108 - val_accuracy: 0.9247\n",
            "Epoch 30/50\n",
            "19/19 - 1s - loss: 0.6150 - accuracy: 0.9349 - val_loss: 0.6086 - val_accuracy: 0.9247\n",
            "Epoch 31/50\n",
            "19/19 - 1s - loss: 0.6141 - accuracy: 0.9384 - val_loss: 0.6061 - val_accuracy: 0.9247\n",
            "Epoch 32/50\n",
            "19/19 - 1s - loss: 0.6144 - accuracy: 0.9366 - val_loss: 0.6034 - val_accuracy: 0.9247\n",
            "Epoch 33/50\n",
            "19/19 - 1s - loss: 0.6139 - accuracy: 0.9384 - val_loss: 0.6006 - val_accuracy: 0.9247\n",
            "Epoch 34/50\n",
            "19/19 - 1s - loss: 0.6127 - accuracy: 0.9409 - val_loss: 0.5972 - val_accuracy: 0.9247\n",
            "Epoch 35/50\n",
            "19/19 - 1s - loss: 0.6128 - accuracy: 0.9375 - val_loss: 0.5951 - val_accuracy: 0.9247\n",
            "Epoch 36/50\n",
            "19/19 - 1s - loss: 0.6121 - accuracy: 0.9392 - val_loss: 0.5929 - val_accuracy: 0.9247\n",
            "Epoch 37/50\n",
            "19/19 - 1s - loss: 0.6120 - accuracy: 0.9384 - val_loss: 0.5902 - val_accuracy: 0.9247\n",
            "Epoch 38/50\n",
            "19/19 - 1s - loss: 0.6105 - accuracy: 0.9375 - val_loss: 0.5881 - val_accuracy: 0.9247\n",
            "Epoch 39/50\n",
            "19/19 - 1s - loss: 0.6101 - accuracy: 0.9375 - val_loss: 0.5847 - val_accuracy: 0.9247\n",
            "Epoch 40/50\n",
            "19/19 - 1s - loss: 0.6105 - accuracy: 0.9366 - val_loss: 0.5825 - val_accuracy: 0.9247\n",
            "Epoch 41/50\n",
            "19/19 - 1s - loss: 0.6094 - accuracy: 0.9375 - val_loss: 0.5806 - val_accuracy: 0.9247\n",
            "Epoch 42/50\n",
            "19/19 - 1s - loss: 0.6096 - accuracy: 0.9358 - val_loss: 0.5782 - val_accuracy: 0.9247\n",
            "Epoch 43/50\n",
            "19/19 - 1s - loss: 0.6082 - accuracy: 0.9384 - val_loss: 0.5755 - val_accuracy: 0.9247\n",
            "Epoch 44/50\n",
            "19/19 - 1s - loss: 0.6072 - accuracy: 0.9392 - val_loss: 0.5734 - val_accuracy: 0.9247\n",
            "Epoch 45/50\n",
            "19/19 - 1s - loss: 0.6074 - accuracy: 0.9384 - val_loss: 0.5717 - val_accuracy: 0.9247\n",
            "Epoch 46/50\n",
            "19/19 - 1s - loss: 0.6066 - accuracy: 0.9392 - val_loss: 0.5692 - val_accuracy: 0.9281\n",
            "Epoch 47/50\n",
            "19/19 - 1s - loss: 0.6059 - accuracy: 0.9409 - val_loss: 0.5673 - val_accuracy: 0.9281\n",
            "Epoch 48/50\n",
            "19/19 - 1s - loss: 0.6043 - accuracy: 0.9375 - val_loss: 0.5644 - val_accuracy: 0.9281\n",
            "Epoch 49/50\n",
            "19/19 - 1s - loss: 0.6052 - accuracy: 0.9392 - val_loss: 0.5630 - val_accuracy: 0.9281\n",
            "Epoch 50/50\n",
            "19/19 - 1s - loss: 0.6052 - accuracy: 0.9384 - val_loss: 0.5609 - val_accuracy: 0.9281\n"
          ],
          "name": "stdout"
        },
        {
          "output_type": "display_data",
          "data": {
            "image/png": "[encoded data removed]",
            "text/plain": [
              "<Figure size 432x288 with 4 Axes>"
            ]
          },
          "metadata": {
            "tags": [],
            "image/png": {
              "width": 428,
              "height": 277
            },
            "needs_background": "light"
          }
        }
      ]
    },
    {
      "cell_type": "markdown",
      "metadata": {
        "id": "mqmrfGm9MVup"
      },
      "source": [
        "Lets see if this works"
      ]
    },
    {
      "cell_type": "code",
      "metadata": {
        "id": "w4YAKP7SiELk"
      },
      "source": [
        "def showModelPerformance(history, string):\n",
        "    plt.plot(history.history[string])\n",
        "    plt.plot(history.history['val_'+string])\n",
        "    plt.xlabel(\"Epochs\")\n",
        "    plt.ylabel(string)\n",
        "    plt.title('Model')\n",
        "    plt.legend([string, 'val_'+string])\n",
        "    plt.show()\n",
        "    \n",
        "    return"
      ],
      "execution_count": 63,
      "outputs": []
    },
    {
      "cell_type": "code",
      "metadata": {
        "id": "bqtu_dH2iGdh",
        "colab": {
          "base_uri": "https://localhost:8080/",
          "height": 294
        },
        "outputId": "cc3ae9c6-b481-4e73-d397-765537c858d4"
      },
      "source": [
        "showModelPerformance(training, \"loss\")"
      ],
      "execution_count": 64,
      "outputs": [
        {
          "output_type": "display_data",
          "data": {
            "image/png": "[encoded data removed]",
            "text/plain": [
              "<Figure size 432x288 with 1 Axes>"
            ]
          },
          "metadata": {
            "tags": [],
            "image/png": {
              "width": 392,
              "height": 277
            },
            "needs_background": "light"
          }
        }
      ]
    },
    {
      "cell_type": "code",
      "metadata": {
        "id": "ljmtRQHymTCH"
      },
      "source": [
        "predictions=model.predict(X_test)"
      ],
      "execution_count": 65,
      "outputs": []
    },
    {
      "cell_type": "code",
      "metadata": {
        "id": "Lu_OwoCwnhbf"
      },
      "source": [
        "import sys\n",
        "np.set_printoptions(threshold=sys.maxsize)"
      ],
      "execution_count": 66,
      "outputs": []
    },
    {
      "cell_type": "code",
      "metadata": {
        "id": "anyzupprmYbK",
        "colab": {
          "base_uri": "https://localhost:8080/"
        },
        "outputId": "d7bcafa5-04dc-4a6a-94db-d1d01be9a971"
      },
      "source": [
        "predictions"
      ],
      "execution_count": 67,
      "outputs": [
        {
          "output_type": "execute_result",
          "data": {
            "text/plain": [
              "array([[0.47744352, 0.5225565 ],\n",
              "       [0.46939358, 0.5306064 ],\n",
              "       [0.4823629 , 0.5176371 ],\n",
              "       [0.45008504, 0.549915  ],\n",
              "       [0.46006444, 0.5399356 ],\n",
              "       [0.45328322, 0.5467168 ],\n",
              "       [0.5001584 , 0.49984157],\n",
              "       [0.46811363, 0.53188634],\n",
              "       [0.46742675, 0.5325732 ],\n",
              "       [0.47114405, 0.528856  ],\n",
              "       [0.4523069 , 0.54769313],\n",
              "       [0.48007363, 0.51992637],\n",
              "       [0.46919253, 0.5308075 ],\n",
              "       [0.4534128 , 0.54658717],\n",
              "       [0.4784848 , 0.5215152 ],\n",
              "       [0.47207138, 0.52792865],\n",
              "       [0.4829066 , 0.5170934 ],\n",
              "       [0.45323637, 0.54676366],\n",
              "       [0.494364  , 0.50563604],\n",
              "       [0.4512082 , 0.54879177],\n",
              "       [0.4348634 , 0.5651367 ],\n",
              "       [0.4463883 , 0.5536117 ],\n",
              "       [0.45056003, 0.54943997],\n",
              "       [0.4795944 , 0.5204056 ],\n",
              "       [0.47627622, 0.5237238 ],\n",
              "       [0.48431233, 0.5156877 ],\n",
              "       [0.4708518 , 0.5291482 ],\n",
              "       [0.47137466, 0.5286253 ],\n",
              "       [0.49307516, 0.50692487],\n",
              "       [0.46252725, 0.5374727 ],\n",
              "       [0.46245244, 0.5375475 ],\n",
              "       [0.4878182 , 0.5121818 ],\n",
              "       [0.45512536, 0.54487467],\n",
              "       [0.48326534, 0.5167347 ],\n",
              "       [0.45791265, 0.5420873 ],\n",
              "       [0.4728303 , 0.5271697 ],\n",
              "       [0.4883344 , 0.5116656 ],\n",
              "       [0.46646506, 0.53353494],\n",
              "       [0.47699413, 0.52300584],\n",
              "       [0.48388442, 0.51611555],\n",
              "       [0.4705672 , 0.52943283],\n",
              "       [0.46910793, 0.530892  ],\n",
              "       [0.4766615 , 0.5233385 ],\n",
              "       [0.45785674, 0.5421433 ],\n",
              "       [0.48795125, 0.5120488 ],\n",
              "       [0.47022742, 0.5297726 ],\n",
              "       [0.4770695 , 0.5229305 ],\n",
              "       [0.46716118, 0.5328388 ],\n",
              "       [0.4940807 , 0.5059193 ],\n",
              "       [0.50102186, 0.4989781 ],\n",
              "       [0.46599865, 0.53400135],\n",
              "       [0.44639373, 0.5536062 ],\n",
              "       [0.48069066, 0.51930934],\n",
              "       [0.45940253, 0.5405975 ],\n",
              "       [0.47905874, 0.52094126],\n",
              "       [0.48568365, 0.5143164 ],\n",
              "       [0.45726213, 0.54273784],\n",
              "       [0.47497818, 0.52502185],\n",
              "       [0.4827399 , 0.51726013],\n",
              "       [0.47875687, 0.52124316],\n",
              "       [0.4623769 , 0.5376231 ],\n",
              "       [0.4602753 , 0.5397247 ],\n",
              "       [0.47351453, 0.5264855 ],\n",
              "       [0.4439896 , 0.5560104 ],\n",
              "       [0.43912864, 0.5608713 ],\n",
              "       [0.4835463 , 0.51645374],\n",
              "       [0.45849484, 0.54150516],\n",
              "       [0.46652865, 0.5334714 ],\n",
              "       [0.4708388 , 0.5291612 ],\n",
              "       [0.47210118, 0.52789885],\n",
              "       [0.46783566, 0.5321643 ],\n",
              "       [0.49944723, 0.5005528 ],\n",
              "       [0.44844353, 0.55155647],\n",
              "       [0.46094546, 0.5390545 ],\n",
              "       [0.46355945, 0.53644055],\n",
              "       [0.48919275, 0.5108073 ],\n",
              "       [0.45120558, 0.5487944 ],\n",
              "       [0.4710406 , 0.5289594 ],\n",
              "       [0.49469522, 0.50530475],\n",
              "       [0.44163868, 0.5583613 ],\n",
              "       [0.4626274 , 0.5373726 ],\n",
              "       [0.454252  , 0.545748  ],\n",
              "       [0.49117973, 0.5088203 ],\n",
              "       [0.46217582, 0.53782415],\n",
              "       [0.45636362, 0.5436364 ],\n",
              "       [0.46809193, 0.53190804],\n",
              "       [0.45249367, 0.5475064 ],\n",
              "       [0.49162063, 0.5083794 ],\n",
              "       [0.45092744, 0.54907256],\n",
              "       [0.48126355, 0.5187364 ],\n",
              "       [0.47656655, 0.52343345],\n",
              "       [0.46704966, 0.5329503 ],\n",
              "       [0.49224296, 0.50775707],\n",
              "       [0.44052988, 0.5594701 ],\n",
              "       [0.46201807, 0.5379819 ],\n",
              "       [0.45553264, 0.54446733],\n",
              "       [0.47484297, 0.525157  ],\n",
              "       [0.47717783, 0.5228222 ],\n",
              "       [0.48387772, 0.5161222 ],\n",
              "       [0.43910792, 0.56089205],\n",
              "       [0.45068476, 0.5493153 ],\n",
              "       [0.46247667, 0.5375234 ],\n",
              "       [0.49738553, 0.5026145 ],\n",
              "       [0.48077556, 0.5192244 ],\n",
              "       [0.44230282, 0.5576972 ],\n",
              "       [0.4639551 , 0.5360449 ],\n",
              "       [0.47129244, 0.52870756],\n",
              "       [0.4599247 , 0.54007536],\n",
              "       [0.50100607, 0.49899396],\n",
              "       [0.45173812, 0.5482618 ],\n",
              "       [0.46402064, 0.53597933],\n",
              "       [0.4372239 , 0.5627761 ],\n",
              "       [0.49619684, 0.5038032 ],\n",
              "       [0.4453022 , 0.55469775],\n",
              "       [0.48127407, 0.51872593],\n",
              "       [0.46636528, 0.5336347 ],\n",
              "       [0.47680178, 0.5231982 ],\n",
              "       [0.4559936 , 0.5440064 ],\n",
              "       [0.4522137 , 0.5477863 ],\n",
              "       [0.4704925 , 0.52950746],\n",
              "       [0.4698505 , 0.5301495 ],\n",
              "       [0.44627336, 0.5537267 ],\n",
              "       [0.46748492, 0.5325151 ],\n",
              "       [0.4631569 , 0.53684306],\n",
              "       [0.45886117, 0.5411389 ],\n",
              "       [0.47775546, 0.5222445 ],\n",
              "       [0.47511497, 0.524885  ],\n",
              "       [0.4910332 , 0.50896674],\n",
              "       [0.46210515, 0.53789485],\n",
              "       [0.4487429 , 0.55125713],\n",
              "       [0.48328882, 0.5167112 ],\n",
              "       [0.49239203, 0.507608  ],\n",
              "       [0.44998676, 0.5500133 ],\n",
              "       [0.4820734 , 0.5179266 ],\n",
              "       [0.4637349 , 0.53626513],\n",
              "       [0.47321406, 0.52678597],\n",
              "       [0.47227463, 0.5277254 ],\n",
              "       [0.45738024, 0.5426198 ],\n",
              "       [0.46219406, 0.537806  ],\n",
              "       [0.47350138, 0.5264986 ],\n",
              "       [0.48024204, 0.5197579 ],\n",
              "       [0.4538474 , 0.5461526 ],\n",
              "       [0.46717742, 0.5328226 ],\n",
              "       [0.47132763, 0.5286724 ],\n",
              "       [0.47914743, 0.52085257],\n",
              "       [0.48228022, 0.5177198 ],\n",
              "       [0.47585252, 0.52414745],\n",
              "       [0.46584854, 0.53415143],\n",
              "       [0.4728778 , 0.5271222 ],\n",
              "       [0.465075  , 0.534925  ],\n",
              "       [0.4691588 , 0.5308412 ],\n",
              "       [0.48355743, 0.51644254],\n",
              "       [0.451156  , 0.54884404],\n",
              "       [0.4795412 , 0.5204588 ],\n",
              "       [0.47608224, 0.52391773],\n",
              "       [0.46866873, 0.53133124],\n",
              "       [0.4693168 , 0.5306832 ],\n",
              "       [0.48385036, 0.51614964],\n",
              "       [0.4388849 , 0.5611151 ],\n",
              "       [0.48364118, 0.5163588 ],\n",
              "       [0.4570027 , 0.5429973 ],\n",
              "       [0.483206  , 0.516794  ],\n",
              "       [0.4568559 , 0.54314405],\n",
              "       [0.49803707, 0.5019629 ],\n",
              "       [0.44378188, 0.55621815],\n",
              "       [0.48670086, 0.5132991 ],\n",
              "       [0.48868   , 0.51132   ],\n",
              "       [0.45224884, 0.5477511 ],\n",
              "       [0.48793203, 0.512068  ],\n",
              "       [0.49234644, 0.50765353],\n",
              "       [0.4700015 , 0.5299985 ],\n",
              "       [0.4714078 , 0.52859217],\n",
              "       [0.45340785, 0.5465921 ],\n",
              "       [0.4561917 , 0.54380834],\n",
              "       [0.4535688 , 0.54643124],\n",
              "       [0.48806828, 0.5119317 ],\n",
              "       [0.49007168, 0.5099283 ],\n",
              "       [0.46657208, 0.53342795],\n",
              "       [0.48814604, 0.511854  ],\n",
              "       [0.47505033, 0.52494967],\n",
              "       [0.46563038, 0.5343696 ],\n",
              "       [0.4809254 , 0.5190746 ],\n",
              "       [0.4450756 , 0.5549244 ],\n",
              "       [0.45780602, 0.54219395],\n",
              "       [0.45458326, 0.5454167 ],\n",
              "       [0.46314868, 0.53685135],\n",
              "       [0.47728318, 0.5227168 ],\n",
              "       [0.49217257, 0.50782746],\n",
              "       [0.46319214, 0.5368079 ],\n",
              "       [0.47963184, 0.52036816],\n",
              "       [0.4671789 , 0.53282106],\n",
              "       [0.4895171 , 0.51048297],\n",
              "       [0.4917622 , 0.50823784],\n",
              "       [0.46116546, 0.5388345 ],\n",
              "       [0.4824129 , 0.51758707],\n",
              "       [0.47529748, 0.5247025 ],\n",
              "       [0.46685705, 0.533143  ],\n",
              "       [0.46901348, 0.53098655],\n",
              "       [0.48311865, 0.51688135],\n",
              "       [0.4830616 , 0.5169384 ],\n",
              "       [0.46461293, 0.5353871 ],\n",
              "       [0.4834695 , 0.5165305 ],\n",
              "       [0.48119316, 0.5188068 ],\n",
              "       [0.48376104, 0.516239  ],\n",
              "       [0.4827741 , 0.5172259 ],\n",
              "       [0.4713572 , 0.5286428 ],\n",
              "       [0.4717301 , 0.5282699 ],\n",
              "       [0.4918761 , 0.5081239 ],\n",
              "       [0.4802192 , 0.5197809 ],\n",
              "       [0.45366192, 0.5463381 ],\n",
              "       [0.4450245 , 0.5549755 ],\n",
              "       [0.49016708, 0.509833  ],\n",
              "       [0.49854723, 0.5014528 ],\n",
              "       [0.4423021 , 0.5576979 ],\n",
              "       [0.475664  , 0.524336  ],\n",
              "       [0.43901858, 0.56098145],\n",
              "       [0.45598957, 0.5440104 ],\n",
              "       [0.47370824, 0.5262917 ],\n",
              "       [0.4522401 , 0.54775995],\n",
              "       [0.46860638, 0.53139365],\n",
              "       [0.47718242, 0.52281755],\n",
              "       [0.442226  , 0.55777395],\n",
              "       [0.49761578, 0.5023842 ],\n",
              "       [0.45187172, 0.5481283 ],\n",
              "       [0.48378956, 0.5162105 ],\n",
              "       [0.4844584 , 0.5155416 ],\n",
              "       [0.4629132 , 0.5370868 ],\n",
              "       [0.45740336, 0.54259664],\n",
              "       [0.46650872, 0.5334913 ],\n",
              "       [0.4475412 , 0.5524588 ],\n",
              "       [0.4921136 , 0.5078864 ],\n",
              "       [0.4685333 , 0.53146666],\n",
              "       [0.46816954, 0.53183043],\n",
              "       [0.503858  , 0.49614203],\n",
              "       [0.47691116, 0.5230889 ],\n",
              "       [0.45407632, 0.5459237 ],\n",
              "       [0.4917587 , 0.5082413 ],\n",
              "       [0.45922595, 0.54077405],\n",
              "       [0.47884154, 0.52115846],\n",
              "       [0.471854  , 0.528146  ],\n",
              "       [0.45690992, 0.54309005],\n",
              "       [0.4763014 , 0.5236986 ],\n",
              "       [0.50125426, 0.49874574],\n",
              "       [0.47844043, 0.52155954],\n",
              "       [0.45050195, 0.5494981 ],\n",
              "       [0.48399618, 0.5160038 ],\n",
              "       [0.48017725, 0.5198227 ],\n",
              "       [0.47984672, 0.5201533 ],\n",
              "       [0.44969687, 0.55030316],\n",
              "       [0.47986588, 0.5201341 ],\n",
              "       [0.45395172, 0.5460483 ],\n",
              "       [0.49961892, 0.50038105],\n",
              "       [0.44960892, 0.5503911 ],\n",
              "       [0.47803113, 0.52196884],\n",
              "       [0.46101028, 0.5389898 ],\n",
              "       [0.4641543 , 0.53584564],\n",
              "       [0.44723678, 0.5527632 ],\n",
              "       [0.46301994, 0.53698003],\n",
              "       [0.48412538, 0.5158747 ],\n",
              "       [0.47572416, 0.5242759 ],\n",
              "       [0.45244905, 0.5475509 ],\n",
              "       [0.4586913 , 0.5413087 ],\n",
              "       [0.48298505, 0.517015  ],\n",
              "       [0.44666544, 0.5533346 ],\n",
              "       [0.45832792, 0.5416721 ],\n",
              "       [0.48472434, 0.51527566],\n",
              "       [0.48104718, 0.51895285],\n",
              "       [0.47428077, 0.5257193 ],\n",
              "       [0.47206098, 0.527939  ],\n",
              "       [0.44094443, 0.5590555 ],\n",
              "       [0.4910825 , 0.5089175 ],\n",
              "       [0.47631073, 0.52368927],\n",
              "       [0.4542872 , 0.54571277],\n",
              "       [0.4484057 , 0.5515943 ],\n",
              "       [0.49030358, 0.5096964 ],\n",
              "       [0.46496978, 0.5350302 ],\n",
              "       [0.46671328, 0.53328675],\n",
              "       [0.44616786, 0.5538321 ],\n",
              "       [0.46256015, 0.5374399 ],\n",
              "       [0.47513244, 0.52486753],\n",
              "       [0.4995607 , 0.5004392 ],\n",
              "       [0.4663454 , 0.53365463],\n",
              "       [0.4611034 , 0.5388966 ],\n",
              "       [0.42930916, 0.5706909 ],\n",
              "       [0.44571847, 0.55428153],\n",
              "       [0.45698065, 0.5430193 ],\n",
              "       [0.4710009 , 0.5289991 ],\n",
              "       [0.46585092, 0.53414905],\n",
              "       [0.45987093, 0.54012907],\n",
              "       [0.44062093, 0.5593791 ],\n",
              "       [0.46875748, 0.53124255],\n",
              "       [0.4639162 , 0.53608376],\n",
              "       [0.47977382, 0.5202262 ],\n",
              "       [0.45429572, 0.54570425],\n",
              "       [0.4808212 , 0.5191788 ],\n",
              "       [0.44193763, 0.5580624 ],\n",
              "       [0.46432316, 0.53567684],\n",
              "       [0.4780318 , 0.5219682 ],\n",
              "       [0.50125426, 0.49874574],\n",
              "       [0.50125426, 0.49874574],\n",
              "       [0.4551313 , 0.5448687 ],\n",
              "       [0.4716799 , 0.52832013],\n",
              "       [0.46538222, 0.53461784],\n",
              "       [0.45013368, 0.5498663 ],\n",
              "       [0.4841201 , 0.51587987],\n",
              "       [0.4639433 , 0.5360567 ],\n",
              "       [0.49434927, 0.5056507 ],\n",
              "       [0.46083978, 0.53916025],\n",
              "       [0.49232456, 0.50767547],\n",
              "       [0.46396387, 0.5360361 ],\n",
              "       [0.4653399 , 0.5346601 ],\n",
              "       [0.47036618, 0.5296338 ],\n",
              "       [0.459012  , 0.540988  ],\n",
              "       [0.4759475 , 0.5240525 ],\n",
              "       [0.4934338 , 0.50656617],\n",
              "       [0.4674434 , 0.5325566 ],\n",
              "       [0.46415472, 0.5358452 ],\n",
              "       [0.44056934, 0.55943066],\n",
              "       [0.46978682, 0.5302131 ],\n",
              "       [0.4677245 , 0.5322755 ],\n",
              "       [0.49268207, 0.5073179 ],\n",
              "       [0.47685874, 0.52314126],\n",
              "       [0.48368976, 0.5163102 ],\n",
              "       [0.4870598 , 0.51294017],\n",
              "       [0.48726308, 0.51273686],\n",
              "       [0.4701292 , 0.52987087],\n",
              "       [0.4765417 , 0.5234583 ],\n",
              "       [0.48178926, 0.51821077],\n",
              "       [0.47077903, 0.52922094],\n",
              "       [0.46204478, 0.5379552 ],\n",
              "       [0.492711  , 0.507289  ],\n",
              "       [0.48680884, 0.51319116],\n",
              "       [0.4814987 , 0.5185013 ],\n",
              "       [0.4874456 , 0.5125544 ],\n",
              "       [0.49077004, 0.50922996],\n",
              "       [0.47731805, 0.522682  ],\n",
              "       [0.48107335, 0.5189266 ],\n",
              "       [0.47374132, 0.52625865],\n",
              "       [0.4961374 , 0.50386256],\n",
              "       [0.47325653, 0.5267435 ],\n",
              "       [0.48284975, 0.5171502 ],\n",
              "       [0.4768305 , 0.5231695 ],\n",
              "       [0.4631667 , 0.5368332 ],\n",
              "       [0.45226172, 0.54773825],\n",
              "       [0.4553372 , 0.54466283],\n",
              "       [0.46750078, 0.5324992 ],\n",
              "       [0.46717837, 0.53282166],\n",
              "       [0.45158637, 0.5484137 ],\n",
              "       [0.4776806 , 0.52231944],\n",
              "       [0.47163472, 0.52836525],\n",
              "       [0.46774152, 0.5322585 ],\n",
              "       [0.4923242 , 0.50767577],\n",
              "       [0.47224697, 0.52775306],\n",
              "       [0.47627014, 0.52372986],\n",
              "       [0.45241776, 0.54758227],\n",
              "       [0.45925862, 0.5407414 ],\n",
              "       [0.46607313, 0.5339269 ],\n",
              "       [0.46890202, 0.53109795],\n",
              "       [0.4826568 , 0.51734316],\n",
              "       [0.4978139 , 0.5021861 ],\n",
              "       [0.49600434, 0.50399566],\n",
              "       [0.4969569 , 0.50304306],\n",
              "       [0.48752165, 0.51247835],\n",
              "       [0.48258778, 0.5174122 ],\n",
              "       [0.49507108, 0.5049289 ],\n",
              "       [0.47513336, 0.52486664],\n",
              "       [0.4866758 , 0.51332414],\n",
              "       [0.46439716, 0.53560287],\n",
              "       [0.46441382, 0.5355862 ],\n",
              "       [0.4681664 , 0.5318336 ],\n",
              "       [0.43228126, 0.56771874],\n",
              "       [0.4717594 , 0.5282406 ],\n",
              "       [0.47008297, 0.52991706],\n",
              "       [0.49332395, 0.506676  ],\n",
              "       [0.47245923, 0.5275408 ],\n",
              "       [0.47653928, 0.5234607 ],\n",
              "       [0.46311507, 0.5368849 ],\n",
              "       [0.4519403 , 0.5480597 ],\n",
              "       [0.46733657, 0.53266346],\n",
              "       [0.47188875, 0.5281113 ],\n",
              "       [0.46047106, 0.53952897],\n",
              "       [0.47510153, 0.52489847],\n",
              "       [0.45996666, 0.54003334],\n",
              "       [0.48296502, 0.51703495],\n",
              "       [0.462396  , 0.537604  ],\n",
              "       [0.4899978 , 0.5100022 ],\n",
              "       [0.4620882 , 0.5379118 ],\n",
              "       [0.4708838 , 0.5291162 ],\n",
              "       [0.4786142 , 0.5213858 ],\n",
              "       [0.4423904 , 0.55760956],\n",
              "       [0.49234265, 0.50765735],\n",
              "       [0.45604303, 0.54395694],\n",
              "       [0.46101978, 0.5389802 ],\n",
              "       [0.48806345, 0.51193655],\n",
              "       [0.48176828, 0.5182317 ],\n",
              "       [0.46450534, 0.5354947 ],\n",
              "       [0.49333748, 0.5066625 ],\n",
              "       [0.46233377, 0.53766626],\n",
              "       [0.48543653, 0.51456344],\n",
              "       [0.4851953 , 0.51480466],\n",
              "       [0.45770732, 0.54229265],\n",
              "       [0.47787824, 0.5221217 ],\n",
              "       [0.46050662, 0.5394934 ],\n",
              "       [0.5024942 , 0.49750578],\n",
              "       [0.48740903, 0.512591  ],\n",
              "       [0.47994313, 0.5200569 ],\n",
              "       [0.49164858, 0.5083514 ],\n",
              "       [0.4547705 , 0.5452295 ],\n",
              "       [0.47708866, 0.52291137],\n",
              "       [0.4681644 , 0.5318356 ],\n",
              "       [0.46991083, 0.53008914],\n",
              "       [0.50125426, 0.49874574],\n",
              "       [0.46856275, 0.5314373 ],\n",
              "       [0.47161588, 0.52838415],\n",
              "       [0.49750155, 0.50249845],\n",
              "       [0.48039073, 0.5196093 ],\n",
              "       [0.46642205, 0.533578  ],\n",
              "       [0.46207395, 0.537926  ],\n",
              "       [0.484521  , 0.515479  ],\n",
              "       [0.46392903, 0.536071  ],\n",
              "       [0.4634373 , 0.53656274],\n",
              "       [0.4501037 , 0.54989624],\n",
              "       [0.44276497, 0.55723506],\n",
              "       [0.47597837, 0.5240216 ],\n",
              "       [0.47640285, 0.5235972 ],\n",
              "       [0.46478203, 0.53521794],\n",
              "       [0.46079963, 0.5392003 ],\n",
              "       [0.4861608 , 0.5138392 ],\n",
              "       [0.46393585, 0.53606415],\n",
              "       [0.4553685 , 0.54463154],\n",
              "       [0.48556882, 0.5144312 ],\n",
              "       [0.45653644, 0.5434636 ],\n",
              "       [0.47732636, 0.5226736 ],\n",
              "       [0.4868429 , 0.5131571 ],\n",
              "       [0.4598564 , 0.54014355],\n",
              "       [0.45346785, 0.54653215],\n",
              "       [0.46758026, 0.53241974],\n",
              "       [0.44256145, 0.55743855],\n",
              "       [0.4471621 , 0.5528379 ],\n",
              "       [0.46071655, 0.53928345],\n",
              "       [0.47353736, 0.5264627 ],\n",
              "       [0.46300218, 0.53699785],\n",
              "       [0.4574978 , 0.54250216],\n",
              "       [0.4748498 , 0.5251502 ],\n",
              "       [0.4541511 , 0.5458489 ],\n",
              "       [0.46723664, 0.53276336],\n",
              "       [0.47249544, 0.52750456],\n",
              "       [0.4816666 , 0.51833344],\n",
              "       [0.45633522, 0.5436648 ],\n",
              "       [0.46566778, 0.5343322 ],\n",
              "       [0.4588332 , 0.54116684],\n",
              "       [0.48494062, 0.5150594 ],\n",
              "       [0.43804345, 0.5619565 ],\n",
              "       [0.48305178, 0.5169482 ],\n",
              "       [0.47910818, 0.52089185],\n",
              "       [0.44645452, 0.5535454 ],\n",
              "       [0.48028246, 0.5197175 ],\n",
              "       [0.47442743, 0.52557254],\n",
              "       [0.46453393, 0.5354661 ],\n",
              "       [0.48567426, 0.51432574],\n",
              "       [0.4739651 , 0.5260349 ],\n",
              "       [0.4637824 , 0.5362176 ],\n",
              "       [0.46478137, 0.53521866],\n",
              "       [0.49455497, 0.50544506],\n",
              "       [0.47514424, 0.5248558 ],\n",
              "       [0.47466952, 0.5253305 ],\n",
              "       [0.4390294 , 0.5609706 ],\n",
              "       [0.47726572, 0.5227343 ],\n",
              "       [0.46946847, 0.5305315 ],\n",
              "       [0.49252272, 0.5074773 ],\n",
              "       [0.47423095, 0.52576905],\n",
              "       [0.47309098, 0.52690905],\n",
              "       [0.47331035, 0.52668965],\n",
              "       [0.47980937, 0.5201906 ],\n",
              "       [0.47076955, 0.5292305 ],\n",
              "       [0.46942827, 0.53057176],\n",
              "       [0.46229845, 0.53770155],\n",
              "       [0.46230245, 0.53769755],\n",
              "       [0.4748439 , 0.52515614],\n",
              "       [0.46855384, 0.53144616],\n",
              "       [0.46153662, 0.5384634 ],\n",
              "       [0.46973336, 0.53026664],\n",
              "       [0.456386  , 0.543614  ],\n",
              "       [0.4607694 , 0.53923064],\n",
              "       [0.46315283, 0.53684723],\n",
              "       [0.47602662, 0.52397335],\n",
              "       [0.45336047, 0.54663956],\n",
              "       [0.47138897, 0.52861106],\n",
              "       [0.45954686, 0.54045314],\n",
              "       [0.45304585, 0.5469541 ],\n",
              "       [0.45614228, 0.5438577 ],\n",
              "       [0.46292162, 0.5370784 ],\n",
              "       [0.48143956, 0.5185604 ],\n",
              "       [0.46192646, 0.53807354],\n",
              "       [0.4885031 , 0.5114969 ],\n",
              "       [0.48714104, 0.512859  ],\n",
              "       [0.46900937, 0.5309906 ],\n",
              "       [0.44720298, 0.552797  ],\n",
              "       [0.4656299 , 0.53437006],\n",
              "       [0.45414376, 0.5458563 ],\n",
              "       [0.47085923, 0.5291408 ],\n",
              "       [0.46997404, 0.53002596],\n",
              "       [0.46032897, 0.539671  ],\n",
              "       [0.4790748 , 0.5209252 ],\n",
              "       [0.44158265, 0.5584174 ],\n",
              "       [0.4706649 , 0.5293351 ],\n",
              "       [0.4723339 , 0.5276661 ],\n",
              "       [0.4662933 , 0.53370667],\n",
              "       [0.46256852, 0.5374315 ],\n",
              "       [0.4765459 , 0.52345407],\n",
              "       [0.48401347, 0.5159865 ],\n",
              "       [0.4581472 , 0.5418528 ],\n",
              "       [0.50010943, 0.4998905 ],\n",
              "       [0.464998  , 0.535002  ],\n",
              "       [0.44059524, 0.5594048 ],\n",
              "       [0.47701296, 0.522987  ],\n",
              "       [0.48159352, 0.5184065 ],\n",
              "       [0.47994003, 0.52006   ],\n",
              "       [0.47356   , 0.52643996],\n",
              "       [0.4362941 , 0.5637059 ],\n",
              "       [0.4816101 , 0.51838994],\n",
              "       [0.46687725, 0.5331227 ],\n",
              "       [0.47317097, 0.526829  ],\n",
              "       [0.46390206, 0.53609794],\n",
              "       [0.48585734, 0.5141427 ],\n",
              "       [0.49537975, 0.5046203 ],\n",
              "       [0.48407188, 0.51592815],\n",
              "       [0.46263337, 0.5373666 ],\n",
              "       [0.4616453 , 0.53835475],\n",
              "       [0.47926676, 0.52073324],\n",
              "       [0.46455258, 0.5354475 ],\n",
              "       [0.47131082, 0.52868915],\n",
              "       [0.46491766, 0.53508234],\n",
              "       [0.4495551 , 0.55044496],\n",
              "       [0.46048588, 0.5395141 ],\n",
              "       [0.48776272, 0.5122373 ],\n",
              "       [0.45749202, 0.542508  ],\n",
              "       [0.49139205, 0.508608  ],\n",
              "       [0.5024942 , 0.49750578],\n",
              "       [0.4602509 , 0.539749  ],\n",
              "       [0.45857158, 0.5414284 ],\n",
              "       [0.47476432, 0.52523565],\n",
              "       [0.45555732, 0.5444427 ],\n",
              "       [0.4744802 , 0.52551985],\n",
              "       [0.47236457, 0.52763546],\n",
              "       [0.4813501 , 0.51864994],\n",
              "       [0.48673397, 0.513266  ],\n",
              "       [0.468323  , 0.53167707],\n",
              "       [0.4596694 , 0.5403306 ],\n",
              "       [0.45634496, 0.54365504],\n",
              "       [0.47857344, 0.52142656],\n",
              "       [0.45423427, 0.5457657 ],\n",
              "       [0.46696454, 0.53303546],\n",
              "       [0.46399203, 0.536008  ],\n",
              "       [0.47424087, 0.52575916],\n",
              "       [0.47560057, 0.52439946],\n",
              "       [0.48268014, 0.51731986],\n",
              "       [0.47676829, 0.52323174],\n",
              "       [0.4846735 , 0.5153265 ],\n",
              "       [0.45749962, 0.54250044],\n",
              "       [0.4762685 , 0.5237315 ],\n",
              "       [0.48172876, 0.5182712 ],\n",
              "       [0.45994437, 0.54005563],\n",
              "       [0.4718891 , 0.5281109 ],\n",
              "       [0.43963876, 0.56036127],\n",
              "       [0.4907348 , 0.50926524],\n",
              "       [0.49114728, 0.5088527 ],\n",
              "       [0.45038718, 0.54961276],\n",
              "       [0.46330747, 0.53669256],\n",
              "       [0.4759474 , 0.5240526 ],\n",
              "       [0.47941804, 0.52058196],\n",
              "       [0.50595456, 0.49404544],\n",
              "       [0.46897438, 0.53102565],\n",
              "       [0.46790028, 0.5320997 ],\n",
              "       [0.4793447 , 0.52065533],\n",
              "       [0.46539578, 0.5346042 ],\n",
              "       [0.46465877, 0.5353412 ],\n",
              "       [0.4659935 , 0.53400654],\n",
              "       [0.47467795, 0.525322  ],\n",
              "       [0.487474  , 0.51252604],\n",
              "       [0.47807848, 0.5219215 ],\n",
              "       [0.46091616, 0.53908384],\n",
              "       [0.45907646, 0.5409235 ],\n",
              "       [0.47980234, 0.52019763],\n",
              "       [0.4872287 , 0.5127713 ],\n",
              "       [0.4832461 , 0.5167539 ],\n",
              "       [0.49378946, 0.5062105 ],\n",
              "       [0.48016888, 0.5198312 ],\n",
              "       [0.47925726, 0.5207428 ],\n",
              "       [0.46907437, 0.53092563],\n",
              "       [0.49385563, 0.50614434],\n",
              "       [0.46933737, 0.5306626 ],\n",
              "       [0.4858319 , 0.51416814],\n",
              "       [0.4583901 , 0.5416099 ],\n",
              "       [0.47211838, 0.5278816 ],\n",
              "       [0.47449484, 0.5255052 ],\n",
              "       [0.45158422, 0.5484158 ],\n",
              "       [0.4705313 , 0.52946866],\n",
              "       [0.46701744, 0.5329825 ],\n",
              "       [0.4686841 , 0.53131586],\n",
              "       [0.45475426, 0.54524577],\n",
              "       [0.4961902 , 0.50380975],\n",
              "       [0.4695887 , 0.53041136],\n",
              "       [0.4509557 , 0.5490443 ],\n",
              "       [0.4748667 , 0.5251333 ],\n",
              "       [0.45833284, 0.5416671 ],\n",
              "       [0.47238973, 0.52761024],\n",
              "       [0.4889664 , 0.51103365],\n",
              "       [0.44876865, 0.5512314 ],\n",
              "       [0.46561164, 0.53438836],\n",
              "       [0.45735812, 0.5426418 ],\n",
              "       [0.46463847, 0.5353615 ],\n",
              "       [0.44214877, 0.5578512 ],\n",
              "       [0.47638285, 0.5236172 ],\n",
              "       [0.4703037 , 0.52969635],\n",
              "       [0.4832462 , 0.5167538 ],\n",
              "       [0.44113156, 0.55886847],\n",
              "       [0.4851353 , 0.51486474],\n",
              "       [0.4733674 , 0.5266326 ],\n",
              "       [0.46793544, 0.5320645 ],\n",
              "       [0.43617785, 0.56382215],\n",
              "       [0.4426533 , 0.55734664],\n",
              "       [0.47615173, 0.5238483 ],\n",
              "       [0.48748633, 0.5125137 ],\n",
              "       [0.49232528, 0.50767475],\n",
              "       [0.45128495, 0.54871505],\n",
              "       [0.44915622, 0.5508438 ]], dtype=float32)"
            ]
          },
          "metadata": {
            "tags": []
          },
          "execution_count": 67
        }
      ]
    },
    {
      "cell_type": "code",
      "metadata": {
        "id": "g5KRZI1lmcD-"
      },
      "source": [
        "predictionslabels = predictions.argmax(axis=1)\n"
      ],
      "execution_count": 68,
      "outputs": []
    },
    {
      "cell_type": "code",
      "metadata": {
        "id": "anTJbqRHmncu"
      },
      "source": [
        "classes = predictionslabels-y_test"
      ],
      "execution_count": 69,
      "outputs": []
    },
    {
      "cell_type": "code",
      "metadata": {
        "id": "7dFXr_RHnD5M",
        "colab": {
          "base_uri": "https://localhost:8080/"
        },
        "outputId": "0fab4a37-df85-4c1c-e448-a3ce4e480774"
      },
      "source": [
        "classes"
      ],
      "execution_count": 70,
      "outputs": [
        {
          "output_type": "execute_result",
          "data": {
            "text/plain": [
              "array([ 0.,  0.,  0.,  0.,  0.,  0.,  0.,  0.,  0.,  0.,  0.,  0.,  0.,\n",
              "        0.,  0.,  0.,  0.,  0.,  0.,  0.,  0.,  0.,  0.,  0.,  0.,  0.,\n",
              "        0.,  0.,  0.,  0.,  0.,  0.,  0.,  0.,  0.,  0.,  0.,  0.,  0.,\n",
              "        0.,  0.,  0.,  0.,  0.,  0.,  1.,  0.,  0.,  0., -1.,  0.,  0.,\n",
              "        0.,  0.,  0.,  0.,  0.,  0.,  0.,  0.,  0.,  0.,  0.,  0.,  0.,\n",
              "        0.,  0.,  0.,  0.,  0.,  0.,  0.,  0.,  0.,  0.,  0.,  0.,  0.,\n",
              "        0.,  0.,  0.,  0.,  1.,  0.,  0.,  0.,  0.,  0.,  0.,  0.,  0.,\n",
              "        0.,  0.,  0.,  0.,  0.,  0.,  0.,  0.,  0.,  0.,  1.,  0.,  0.,\n",
              "        0.,  0.,  0.,  0., -1.,  0.,  0.,  0.,  1.,  0.,  0.,  0.,  0.,\n",
              "        0.,  0.,  0.,  0.,  0.,  0.,  0.,  0.,  0.,  0.,  1.,  0.,  0.,\n",
              "        0.,  0.,  0.,  0.,  0.,  0.,  0.,  0.,  0.,  0.,  0.,  0.,  0.,\n",
              "        0.,  0.,  1.,  0.,  0.,  0.,  0.,  0.,  0.,  0.,  0.,  0.,  0.,\n",
              "        0.,  0.,  0.,  0.,  0.,  0.,  0.,  0.,  0.,  0.,  0.,  0.,  0.,\n",
              "        0.,  0.,  0.,  0.,  0.,  0.,  0.,  1.,  0.,  0.,  0.,  0.,  0.,\n",
              "        0.,  0.,  0.,  0.,  0.,  0.,  0.,  0.,  0.,  1.,  0.,  0.,  0.,\n",
              "        0.,  0.,  0.,  0.,  0.,  0.,  1.,  0.,  1.,  0.,  0.,  0.,  1.,\n",
              "        0.,  0.,  0.,  0.,  1.,  0.,  0.,  1.,  0.,  0.,  0.,  0.,  0.,\n",
              "        0.,  0.,  0.,  0.,  0.,  0.,  0.,  0.,  0.,  1.,  0.,  0., -1.,\n",
              "        0.,  0.,  1.,  0.,  0.,  0.,  0.,  0.,  0.,  0.,  0.,  0.,  0.,\n",
              "        0.,  0.,  0.,  0.,  0.,  0.,  0.,  0.,  0.,  0.,  0.,  0.,  0.,\n",
              "        0.,  0.,  0.,  0.,  0.,  0.,  0.,  0.,  1.,  0.,  1.,  0.,  0.,\n",
              "        0.,  0.,  1.,  0.,  0.,  0.,  0.,  0.,  0.,  0.,  0.,  0.,  0.,\n",
              "        0.,  0.,  0.,  0.,  0.,  0.,  0.,  0.,  1.,  0.,  0.,  0.,  0.,\n",
              "        0.,  0.,  0.,  0.,  0.,  1.,  0.,  0.,  0.,  0.,  0.,  0.,  0.,\n",
              "        0.,  0.,  0.,  0.,  0.,  0.,  0.,  0.,  0.,  0.,  0.,  1.,  0.,\n",
              "        0.,  0.,  0.,  0.,  0.,  0.,  0.,  0.,  0.,  0.,  0.,  0.,  0.,\n",
              "        0.,  1.,  0.,  0.,  0.,  0.,  0.,  0.,  0.,  0.,  0.,  0.,  0.,\n",
              "        1.,  1.,  0.,  0.,  0.,  0.,  0.,  0.,  1.,  1.,  0.,  0.,  0.,\n",
              "        0.,  1.,  0.,  0.,  0.,  0.,  0.,  0.,  0.,  0.,  0.,  0.,  0.,\n",
              "        1.,  0.,  0.,  0.,  0.,  0.,  0.,  0.,  0.,  0.,  0.,  0.,  0.,\n",
              "        0.,  0.,  0.,  0.,  0.,  0.,  0.,  0.,  0.,  0.,  0.,  0.,  0.,\n",
              "       -1.,  0.,  0.,  0.,  0.,  0.,  0.,  0.,  0.,  0.,  0.,  1.,  0.,\n",
              "        0.,  0.,  0.,  0.,  0.,  0.,  0.,  0.,  0.,  0.,  0.,  0.,  0.,\n",
              "        0.,  1.,  0.,  0.,  0.,  0.,  0.,  0.,  0.,  0.,  0.,  1.,  0.,\n",
              "        0.,  0.,  0.,  0.,  0.,  0.,  0.,  0.,  0.,  1.,  0.,  0.,  0.,\n",
              "        0.,  0.,  0.,  0.,  0.,  0.,  0.,  0.,  0.,  0.,  0.,  0.,  0.,\n",
              "        0.,  0.,  1.,  0.,  0.,  0.,  0.,  0.,  0.,  0.,  0.,  0.,  0.,\n",
              "        0.,  0.,  0.,  0.,  1.,  0.,  0.,  0.,  0.,  0.,  0.,  0.,  0.,\n",
              "        0.,  0.,  0.,  0.,  0.,  0.,  0.,  0.,  0.,  0.,  0.,  0.,  0.,\n",
              "        0.,  0.,  0.,  0.,  1.,  0.,  0.,  0.,  0.,  0.,  0.,  0.,  0.,\n",
              "        0.,  0.,  0.,  0.,  0.,  0.,  1.,  0.,  0.,  0.,  0.,  0.,  0.,\n",
              "        0.,  0.,  0.,  0.,  0., -1.,  0.,  0.,  0.,  0.,  0.,  0.,  0.,\n",
              "        0.,  0.,  0.,  0.,  0.,  0.,  0.,  0.,  0.,  0.,  1.,  0.,  0.,\n",
              "        0.,  0.,  1.,  1.,  0.,  0.,  0.,  0.,  0.,  0.,  0.,  0., -1.,\n",
              "        0.,  0.,  0.,  0.,  0.,  0.,  0.,  0.,  0.,  0.,  1.,  0.,  0.,\n",
              "        0.,  0.,  0.,  0.,  0.,  1.,  0.,  0.,  0.,  0.,  0.,  0.,  0.,\n",
              "        0.,  0.,  0.,  1.,  0.,  0.,  0.,  0.,  0.,  0.,  0.,  0.,  0.,\n",
              "        0.,  0.,  0.,  0.,  1.,  0.,  0.,  0.,  0.,  0.,  0.,  0.,  0.,\n",
              "        0.,  0.,  0.])"
            ]
          },
          "metadata": {
            "tags": []
          },
          "execution_count": 70
        }
      ]
    },
    {
      "cell_type": "markdown",
      "metadata": {
        "id": "E38ZIM50KJSC"
      },
      "source": [
        "Several problems might be implemented in this approach:\n",
        "- maybe our dataset is to small to create our own embeddings\n",
        "- maybe we made some major fails when creating embeddings or the model\n",
        "- its definitely overfitting ;-)\n",
        "\n",
        "anyways... lets continue with a pretrained model (BERT)"
      ]
    },
    {
      "cell_type": "markdown",
      "metadata": {
        "id": "3U-2O6LU1-Sg"
      },
      "source": [
        "# Transfer and self designed Models"
      ]
    },
    {
      "cell_type": "markdown",
      "metadata": {
        "id": "YZHxdFUhQEjs"
      },
      "source": [
        "## Fit learning rate\n"
      ]
    },
    {
      "cell_type": "markdown",
      "metadata": {
        "id": "yyBIJ5aBnvWY"
      },
      "source": [
        "This learning rate tuner would allow for the self designed model to find a good initial learning rate. If you change the architecture of your model, you will also have to change it in the learning rate tuner."
      ]
    },
    {
      "cell_type": "code",
      "metadata": {
        "id": "yEvAKhgRJ1XS"
      },
      "source": [
        "def fitLearningRate(training_padded, training_labels,validation_padded, validation_label, vocab_size, embedding_dim, max_length, num_epochs):\n",
        "  \n",
        "  model = tf.keras.Sequential([\n",
        "   \n",
        "  tf.keras.layers.Embedding(vocab_size+1, embedding_dim, input_length=max_length),\n",
        "  tf.keras.layers.Dropout(0.2),\n",
        "  tf.keras.layers.LSTM(32),\n",
        "  tf.keras.layers.Dropout(0.3),\n",
        "  tf.keras.layers.Dense(16, activation='relu'),\n",
        "  tf.keras.layers.Dropout(0.2),\n",
        "  tf.keras.layers.Dense(1, activation='sigmoid')])\n",
        "  \n",
        "  #Fit the model\n",
        "  #Input: compiled Model, Train and Validation Data, Batch Size and trainingEpochs\n",
        "  #Return: history and model\n",
        "  optimizer = tf.keras.optimizers.RMSprop(lr=1e-6)\n",
        "  model.compile(optimizer = optimizer,\n",
        "                loss='binary_crossentropy', metrics=['accuracy'])\n",
        "  lr_schedule = tf.keras.callbacks.LearningRateScheduler(\n",
        "    lambda epoch: 1e-6 * 10**(epoch / 20))\n",
        "  \n",
        "\n",
        "  print(\"xtrain\")\n",
        "  print(training_padded.shape)\n",
        "  print(\"ytrain\")\n",
        "  print(training_labels.shape)\n",
        "  print(\"xval\")\n",
        "  print(validation_padded.shape)\n",
        "  print(\"yval\")\n",
        "  print(validation_label.shape)\n",
        "  \n",
        "\n",
        "  # fit network\n",
        "  history = model.fit(training_padded, training_labels, epochs=num_epochs, validation_data=(validation_padded, validation_label),callbacks=[lr_schedule], verbose=2)\n",
        "\n",
        "  # plot history\n",
        "  plt.semilogx(history.history[\"lr\"], history.history[\"loss\"])\n",
        "  plt.show()\n",
        "  #pyplot.legend()\n",
        "  #pyplot.show()\n",
        "  #history = compiledModel.fit(xTrain, yTrain,batch_size=512, epochs = trainingEpochs,callbacks=[lr_schedule])\n",
        "\n",
        "  return model, history"
      ],
      "execution_count": 71,
      "outputs": []
    },
    {
      "cell_type": "markdown",
      "metadata": {
        "id": "UkD1FcIslB3w"
      },
      "source": [
        "## Bidirectional Binary"
      ]
    },
    {
      "cell_type": "markdown",
      "metadata": {
        "id": "knmRefYWqFPa"
      },
      "source": [
        "First approach for a model to automatically score the essays. It was only of minor success and has not been continued after starting with transfer learning approaches."
      ]
    },
    {
      "cell_type": "code",
      "metadata": {
        "id": "-JFQauRyNuud"
      },
      "source": [
        "def startermodelBidirectionalExperimentalBinary(training_padded, training_labels,validation_padded, validation_label, vocab_size, \n",
        "                                                embedding_dim, max_length, num_epochs): #weights=[embeddings_matrix], trainable=False\n",
        "\n",
        "  model = tf.keras.Sequential([\n",
        "   \n",
        "    tf.keras.layers.Embedding(input_dim = vocab_size+1, output_dim = embedding_dim, input_length=max_length, mask_zero=False),\n",
        "    tf.keras.layers.Dropout(0.2),\n",
        "    tf.keras.layers.LSTM(16),\n",
        "    tf.keras.layers.Dropout(0.2),\n",
        "    tf.keras.layers.Dense(1, activation='sigmoid')])\n",
        "  \n",
        "  metric = tf.keras.metrics.BinaryAccuracy()\n",
        "  lr_schedule = tf.keras.optimizers.schedules.ExponentialDecay(\n",
        "    initial_learning_rate=1e-2,\n",
        "    decay_steps=10000,\n",
        "    decay_rate=0.8)\n",
        "  \n",
        "  optimizerAdam = tf.keras.optimizers.Adam(learning_rate=lr_schedule)\n",
        "  optimizerSGD = tf.keras.optimizers.SGD(learning_rate=lr_schedule)\n",
        "\n",
        "  model.compile(loss='binary_crossentropy',optimizer=optimizerAdam ,metrics=metric)\n",
        "  model.summary()\n",
        "  model.save_weights('model.h5')\n",
        "\n",
        "  class_weights = {0: 1.,\n",
        "                1: 0.1}\n",
        "\n",
        "  # fit network\n",
        "  history = model.fit(training_padded, training_labels, epochs=num_epochs,batch_size=32, validation_data=(validation_padded, validation_label), verbose=2)\n",
        "  returnmodel = model\n",
        "  model.load_weights('model.h5')\n",
        "  # plot history\n",
        "  pyplot.plot(history.history['loss'], label='train')\n",
        "  pyplot.plot(history.history['val_loss'], label='test')\n",
        "  pyplot.legend()\n",
        "  pyplot.show()\n",
        "\n",
        "  pyplot.plot(history.history['binary_accuracy'], label='train')\n",
        "  pyplot.plot(history.history['val_binary_accuracy'], label='test')\n",
        "  pyplot.legend()\n",
        "  pyplot.show()\n",
        "          \n",
        "  return returnmodel, history"
      ],
      "execution_count": 72,
      "outputs": []
    },
    {
      "cell_type": "code",
      "metadata": {
        "id": "HjOUg_ou6JQX",
        "colab": {
          "base_uri": "https://localhost:8080/",
          "height": 1000
        },
        "outputId": "7491f577-7a08-458e-b544-d4322d081fcd"
      },
      "source": [
        "tunerModel, tunerHistory = fitLearningRate(np.array(xTrainArray3), np.array(yTrainArray3[:,1]), np.array(xValArray3), np.array(yValArray3[:,1]), vocab_size, embedding_dim, max_length, 100)"
      ],
      "execution_count": 73,
      "outputs": [
        {
          "output_type": "stream",
          "text": [
            "/usr/local/lib/python3.7/dist-packages/tensorflow/python/keras/optimizer_v2/optimizer_v2.py:375: UserWarning: The `lr` argument is deprecated, use `learning_rate` instead.\n",
            "  \"The `lr` argument is deprecated, use `learning_rate` instead.\")\n"
          ],
          "name": "stderr"
        },
        {
          "output_type": "stream",
          "text": [
            "xtrain\n",
            "(1878, 120)\n",
            "ytrain\n",
            "(1878,)\n",
            "xval\n",
            "(105, 120)\n",
            "yval\n",
            "(105,)\n",
            "Epoch 1/100\n",
            "59/59 - 2s - loss: 0.6979 - accuracy: 0.2854 - val_loss: 0.6994 - val_accuracy: 0.1333\n",
            "Epoch 2/100\n",
            "59/59 - 0s - loss: 0.6974 - accuracy: 0.3099 - val_loss: 0.6989 - val_accuracy: 0.1333\n",
            "Epoch 3/100\n",
            "59/59 - 0s - loss: 0.6969 - accuracy: 0.3259 - val_loss: 0.6983 - val_accuracy: 0.1333\n",
            "Epoch 4/100\n",
            "59/59 - 0s - loss: 0.6965 - accuracy: 0.3307 - val_loss: 0.6976 - val_accuracy: 0.1333\n",
            "Epoch 5/100\n",
            "59/59 - 0s - loss: 0.6960 - accuracy: 0.3584 - val_loss: 0.6969 - val_accuracy: 0.1429\n",
            "Epoch 6/100\n",
            "59/59 - 0s - loss: 0.6951 - accuracy: 0.4105 - val_loss: 0.6961 - val_accuracy: 0.1429\n",
            "Epoch 7/100\n",
            "59/59 - 0s - loss: 0.6947 - accuracy: 0.4286 - val_loss: 0.6951 - val_accuracy: 0.1429\n",
            "Epoch 8/100\n",
            "59/59 - 0s - loss: 0.6940 - accuracy: 0.4553 - val_loss: 0.6941 - val_accuracy: 0.1429\n",
            "Epoch 9/100\n",
            "59/59 - 0s - loss: 0.6936 - accuracy: 0.4941 - val_loss: 0.6929 - val_accuracy: 0.1429\n",
            "Epoch 10/100\n",
            "59/59 - 0s - loss: 0.6925 - accuracy: 0.5596 - val_loss: 0.6917 - val_accuracy: 0.9333\n",
            "Epoch 11/100\n",
            "59/59 - 0s - loss: 0.6917 - accuracy: 0.5942 - val_loss: 0.6904 - val_accuracy: 0.9429\n",
            "Epoch 12/100\n",
            "59/59 - 0s - loss: 0.6901 - accuracy: 0.6970 - val_loss: 0.6889 - val_accuracy: 0.9429\n",
            "Epoch 13/100\n",
            "59/59 - 0s - loss: 0.6896 - accuracy: 0.7226 - val_loss: 0.6876 - val_accuracy: 0.9524\n",
            "Epoch 14/100\n",
            "59/59 - 0s - loss: 0.6882 - accuracy: 0.7790 - val_loss: 0.6868 - val_accuracy: 0.9524\n",
            "Epoch 15/100\n",
            "59/59 - 0s - loss: 0.6870 - accuracy: 0.8435 - val_loss: 0.6859 - val_accuracy: 0.9524\n",
            "Epoch 16/100\n",
            "59/59 - 0s - loss: 0.6851 - accuracy: 0.8717 - val_loss: 0.6845 - val_accuracy: 0.9524\n",
            "Epoch 17/100\n",
            "59/59 - 0s - loss: 0.6833 - accuracy: 0.8924 - val_loss: 0.6824 - val_accuracy: 0.9524\n",
            "Epoch 18/100\n",
            "59/59 - 0s - loss: 0.6814 - accuracy: 0.9100 - val_loss: 0.6798 - val_accuracy: 0.9524\n",
            "Epoch 19/100\n",
            "59/59 - 0s - loss: 0.6791 - accuracy: 0.9159 - val_loss: 0.6768 - val_accuracy: 0.9524\n",
            "Epoch 20/100\n",
            "59/59 - 0s - loss: 0.6759 - accuracy: 0.9223 - val_loss: 0.6732 - val_accuracy: 0.9524\n",
            "Epoch 21/100\n",
            "59/59 - 0s - loss: 0.6725 - accuracy: 0.9271 - val_loss: 0.6692 - val_accuracy: 0.9524\n",
            "Epoch 22/100\n",
            "59/59 - 0s - loss: 0.6691 - accuracy: 0.9249 - val_loss: 0.6645 - val_accuracy: 0.9524\n",
            "Epoch 23/100\n",
            "59/59 - 0s - loss: 0.6647 - accuracy: 0.9260 - val_loss: 0.6593 - val_accuracy: 0.9524\n",
            "Epoch 24/100\n",
            "59/59 - 0s - loss: 0.6593 - accuracy: 0.9281 - val_loss: 0.6532 - val_accuracy: 0.9524\n",
            "Epoch 25/100\n",
            "59/59 - 0s - loss: 0.6530 - accuracy: 0.9276 - val_loss: 0.6460 - val_accuracy: 0.9524\n",
            "Epoch 26/100\n",
            "59/59 - 0s - loss: 0.6463 - accuracy: 0.9286 - val_loss: 0.6375 - val_accuracy: 0.9524\n",
            "Epoch 27/100\n",
            "59/59 - 0s - loss: 0.6359 - accuracy: 0.9276 - val_loss: 0.6273 - val_accuracy: 0.9524\n",
            "Epoch 28/100\n",
            "59/59 - 0s - loss: 0.6275 - accuracy: 0.9281 - val_loss: 0.6148 - val_accuracy: 0.9524\n",
            "Epoch 29/100\n",
            "59/59 - 0s - loss: 0.6134 - accuracy: 0.9281 - val_loss: 0.5987 - val_accuracy: 0.9524\n",
            "Epoch 30/100\n",
            "59/59 - 0s - loss: 0.5971 - accuracy: 0.9276 - val_loss: 0.5776 - val_accuracy: 0.9524\n",
            "Epoch 31/100\n",
            "59/59 - 0s - loss: 0.5735 - accuracy: 0.9276 - val_loss: 0.5481 - val_accuracy: 0.9524\n",
            "Epoch 32/100\n",
            "59/59 - 0s - loss: 0.5429 - accuracy: 0.9265 - val_loss: 0.5046 - val_accuracy: 0.9524\n",
            "Epoch 33/100\n",
            "59/59 - 0s - loss: 0.4948 - accuracy: 0.9265 - val_loss: 0.4399 - val_accuracy: 0.9524\n",
            "Epoch 34/100\n",
            "59/59 - 0s - loss: 0.4330 - accuracy: 0.9276 - val_loss: 0.3568 - val_accuracy: 0.9524\n",
            "Epoch 35/100\n",
            "59/59 - 0s - loss: 0.3614 - accuracy: 0.9281 - val_loss: 0.2775 - val_accuracy: 0.9524\n",
            "Epoch 36/100\n",
            "59/59 - 0s - loss: 0.3230 - accuracy: 0.9271 - val_loss: 0.2349 - val_accuracy: 0.9524\n",
            "Epoch 37/100\n",
            "59/59 - 0s - loss: 0.2922 - accuracy: 0.9281 - val_loss: 0.2135 - val_accuracy: 0.9524\n",
            "Epoch 38/100\n",
            "59/59 - 0s - loss: 0.2883 - accuracy: 0.9281 - val_loss: 0.2037 - val_accuracy: 0.9524\n",
            "Epoch 39/100\n",
            "59/59 - 0s - loss: 0.2819 - accuracy: 0.9281 - val_loss: 0.2004 - val_accuracy: 0.9524\n",
            "Epoch 40/100\n",
            "59/59 - 0s - loss: 0.2718 - accuracy: 0.9281 - val_loss: 0.1981 - val_accuracy: 0.9524\n",
            "Epoch 41/100\n",
            "59/59 - 0s - loss: 0.2868 - accuracy: 0.9276 - val_loss: 0.1987 - val_accuracy: 0.9524\n",
            "Epoch 42/100\n",
            "59/59 - 0s - loss: 0.2859 - accuracy: 0.9281 - val_loss: 0.1982 - val_accuracy: 0.9524\n",
            "Epoch 43/100\n",
            "59/59 - 0s - loss: 0.2860 - accuracy: 0.9281 - val_loss: 0.1972 - val_accuracy: 0.9524\n",
            "Epoch 44/100\n",
            "59/59 - 0s - loss: 0.2846 - accuracy: 0.9281 - val_loss: 0.1961 - val_accuracy: 0.9524\n",
            "Epoch 45/100\n",
            "59/59 - 0s - loss: 0.2873 - accuracy: 0.9281 - val_loss: 0.1970 - val_accuracy: 0.9524\n",
            "Epoch 46/100\n",
            "59/59 - 0s - loss: 0.2833 - accuracy: 0.9281 - val_loss: 0.1972 - val_accuracy: 0.9524\n",
            "Epoch 47/100\n",
            "59/59 - 0s - loss: 0.2746 - accuracy: 0.9281 - val_loss: 0.1955 - val_accuracy: 0.9524\n",
            "Epoch 48/100\n",
            "59/59 - 0s - loss: 0.2807 - accuracy: 0.9281 - val_loss: 0.1951 - val_accuracy: 0.9524\n",
            "Epoch 49/100\n",
            "59/59 - 0s - loss: 0.2786 - accuracy: 0.9281 - val_loss: 0.1958 - val_accuracy: 0.9524\n",
            "Epoch 50/100\n",
            "59/59 - 0s - loss: 0.2722 - accuracy: 0.9281 - val_loss: 0.1942 - val_accuracy: 0.9524\n",
            "Epoch 51/100\n",
            "59/59 - 0s - loss: 0.2763 - accuracy: 0.9281 - val_loss: 0.1968 - val_accuracy: 0.9524\n",
            "Epoch 52/100\n",
            "59/59 - 0s - loss: 0.2762 - accuracy: 0.9281 - val_loss: 0.1940 - val_accuracy: 0.9524\n",
            "Epoch 53/100\n",
            "59/59 - 0s - loss: 0.2683 - accuracy: 0.9281 - val_loss: 0.1940 - val_accuracy: 0.9524\n",
            "Epoch 54/100\n",
            "59/59 - 0s - loss: 0.2828 - accuracy: 0.9281 - val_loss: 0.1975 - val_accuracy: 0.9524\n",
            "Epoch 55/100\n",
            "59/59 - 0s - loss: 0.2649 - accuracy: 0.9281 - val_loss: 0.1928 - val_accuracy: 0.9524\n",
            "Epoch 56/100\n",
            "59/59 - 0s - loss: 0.2639 - accuracy: 0.9281 - val_loss: 0.1735 - val_accuracy: 0.9524\n",
            "Epoch 57/100\n",
            "59/59 - 0s - loss: 0.2429 - accuracy: 0.9281 - val_loss: 0.1629 - val_accuracy: 0.9524\n",
            "Epoch 58/100\n",
            "59/59 - 0s - loss: 0.2537 - accuracy: 0.9281 - val_loss: 0.1941 - val_accuracy: 0.9524\n",
            "Epoch 59/100\n",
            "59/59 - 0s - loss: 0.2527 - accuracy: 0.9281 - val_loss: 0.1557 - val_accuracy: 0.9524\n",
            "Epoch 60/100\n",
            "59/59 - 0s - loss: 0.2443 - accuracy: 0.9281 - val_loss: 0.1633 - val_accuracy: 0.9524\n",
            "Epoch 61/100\n",
            "59/59 - 0s - loss: 0.2262 - accuracy: 0.9281 - val_loss: 0.1531 - val_accuracy: 0.9524\n",
            "Epoch 62/100\n",
            "59/59 - 0s - loss: 0.2490 - accuracy: 0.9281 - val_loss: 0.1633 - val_accuracy: 0.9524\n",
            "Epoch 63/100\n",
            "59/59 - 0s - loss: 0.2436 - accuracy: 0.9297 - val_loss: 0.1553 - val_accuracy: 0.9524\n",
            "Epoch 64/100\n",
            "59/59 - 0s - loss: 0.2410 - accuracy: 0.9334 - val_loss: 0.1465 - val_accuracy: 0.9714\n",
            "Epoch 65/100\n",
            "59/59 - 0s - loss: 0.2353 - accuracy: 0.9340 - val_loss: 0.1537 - val_accuracy: 0.9714\n",
            "Epoch 66/100\n",
            "59/59 - 0s - loss: 0.2341 - accuracy: 0.9318 - val_loss: 0.1403 - val_accuracy: 0.9714\n",
            "Epoch 67/100\n",
            "59/59 - 0s - loss: 0.2419 - accuracy: 0.9356 - val_loss: 0.1791 - val_accuracy: 0.9714\n",
            "Epoch 68/100\n",
            "59/59 - 0s - loss: 0.2317 - accuracy: 0.9388 - val_loss: 0.2604 - val_accuracy: 0.9619\n",
            "Epoch 69/100\n",
            "59/59 - 0s - loss: 0.2414 - accuracy: 0.9345 - val_loss: 0.1681 - val_accuracy: 0.9619\n",
            "Epoch 70/100\n",
            "59/59 - 0s - loss: 0.2372 - accuracy: 0.9361 - val_loss: 0.1659 - val_accuracy: 0.9619\n",
            "Epoch 71/100\n",
            "59/59 - 0s - loss: 0.2412 - accuracy: 0.9382 - val_loss: 0.1694 - val_accuracy: 0.9619\n",
            "Epoch 72/100\n",
            "59/59 - 0s - loss: 0.2296 - accuracy: 0.9340 - val_loss: 0.2027 - val_accuracy: 0.9619\n",
            "Epoch 73/100\n",
            "59/59 - 0s - loss: 0.2142 - accuracy: 0.9340 - val_loss: 0.2048 - val_accuracy: 0.9524\n",
            "Epoch 74/100\n",
            "59/59 - 0s - loss: 0.2460 - accuracy: 0.9271 - val_loss: 0.1756 - val_accuracy: 0.9619\n",
            "Epoch 75/100\n",
            "59/59 - 0s - loss: 0.1986 - accuracy: 0.9313 - val_loss: 0.2021 - val_accuracy: 0.9524\n",
            "Epoch 76/100\n",
            "59/59 - 0s - loss: 0.1946 - accuracy: 0.9361 - val_loss: 0.3094 - val_accuracy: 0.9524\n",
            "Epoch 77/100\n",
            "59/59 - 0s - loss: 0.1771 - accuracy: 0.9334 - val_loss: 0.1616 - val_accuracy: 0.9524\n",
            "Epoch 78/100\n",
            "59/59 - 0s - loss: 0.1748 - accuracy: 0.9388 - val_loss: 0.1524 - val_accuracy: 0.9429\n",
            "Epoch 79/100\n",
            "59/59 - 0s - loss: 0.1378 - accuracy: 0.9393 - val_loss: 0.1672 - val_accuracy: 0.9524\n",
            "Epoch 80/100\n",
            "59/59 - 0s - loss: 0.1613 - accuracy: 0.9526 - val_loss: 0.1409 - val_accuracy: 0.9619\n",
            "Epoch 81/100\n",
            "59/59 - 0s - loss: 0.1214 - accuracy: 0.9574 - val_loss: 0.1545 - val_accuracy: 0.9429\n",
            "Epoch 82/100\n",
            "59/59 - 0s - loss: 0.1036 - accuracy: 0.9771 - val_loss: 0.2022 - val_accuracy: 0.9333\n",
            "Epoch 83/100\n",
            "59/59 - 0s - loss: 0.0978 - accuracy: 0.9723 - val_loss: 0.2045 - val_accuracy: 0.9619\n",
            "Epoch 84/100\n",
            "59/59 - 0s - loss: 0.0776 - accuracy: 0.9776 - val_loss: 0.2531 - val_accuracy: 0.9429\n",
            "Epoch 85/100\n",
            "59/59 - 0s - loss: 0.0909 - accuracy: 0.9744 - val_loss: 0.2278 - val_accuracy: 0.9524\n",
            "Epoch 86/100\n",
            "59/59 - 0s - loss: 0.0745 - accuracy: 0.9771 - val_loss: 0.1803 - val_accuracy: 0.8952\n",
            "Epoch 87/100\n",
            "59/59 - 0s - loss: 0.0740 - accuracy: 0.9792 - val_loss: 0.2645 - val_accuracy: 0.9524\n",
            "Epoch 88/100\n",
            "59/59 - 0s - loss: 0.0652 - accuracy: 0.9856 - val_loss: 0.2316 - val_accuracy: 0.9714\n",
            "Epoch 89/100\n",
            "59/59 - 0s - loss: 0.0837 - accuracy: 0.9814 - val_loss: 0.2635 - val_accuracy: 0.9524\n",
            "Epoch 90/100\n",
            "59/59 - 0s - loss: 0.0746 - accuracy: 0.9798 - val_loss: 0.3063 - val_accuracy: 0.9143\n",
            "Epoch 91/100\n",
            "59/59 - 0s - loss: 0.0804 - accuracy: 0.9819 - val_loss: 0.2463 - val_accuracy: 0.9524\n",
            "Epoch 92/100\n",
            "59/59 - 0s - loss: 0.0937 - accuracy: 0.9771 - val_loss: 0.2117 - val_accuracy: 0.9714\n",
            "Epoch 93/100\n",
            "59/59 - 0s - loss: 0.1026 - accuracy: 0.9654 - val_loss: 0.1683 - val_accuracy: 0.9524\n",
            "Epoch 94/100\n",
            "59/59 - 0s - loss: 0.0764 - accuracy: 0.9824 - val_loss: 0.2613 - val_accuracy: 0.9714\n",
            "Epoch 95/100\n",
            "59/59 - 0s - loss: 0.1432 - accuracy: 0.9718 - val_loss: 0.2267 - val_accuracy: 0.9714\n",
            "Epoch 96/100\n",
            "59/59 - 0s - loss: 0.0950 - accuracy: 0.9808 - val_loss: 0.2528 - val_accuracy: 0.9524\n",
            "Epoch 97/100\n",
            "59/59 - 0s - loss: 0.0792 - accuracy: 0.9782 - val_loss: 0.3211 - val_accuracy: 0.9429\n",
            "Epoch 98/100\n",
            "59/59 - 0s - loss: 0.0610 - accuracy: 0.9835 - val_loss: 0.4060 - val_accuracy: 0.9524\n",
            "Epoch 99/100\n",
            "59/59 - 0s - loss: 0.0538 - accuracy: 0.9872 - val_loss: 0.4750 - val_accuracy: 0.9429\n",
            "Epoch 100/100\n",
            "59/59 - 0s - loss: 0.1060 - accuracy: 0.9760 - val_loss: 0.2856 - val_accuracy: 0.9333\n"
          ],
          "name": "stdout"
        },
        {
          "output_type": "display_data",
          "data": {
            "image/png": "[encoded data removed]",
            "text/plain": [
              "<Figure size 432x288 with 1 Axes>"
            ]
          },
          "metadata": {
            "tags": [],
            "image/png": {
              "width": 372,
              "height": 249
            },
            "needs_background": "light"
          }
        }
      ]
    },
    {
      "cell_type": "code",
      "metadata": {
        "id": "W6BBzxOx3czy",
        "colab": {
          "base_uri": "https://localhost:8080/",
          "height": 1000
        },
        "outputId": "f41f7ce6-4315-4b66-f966-1c6b0a00b0af"
      },
      "source": [
        "ownModel, ownHistory = startermodelBidirectionalExperimentalBinary(np.array(xTrainArray3), np.array(yTrainArray3[:,1]), np.array(xValArray3), np.array(yValArray3[:,1]), vocab_size, embedding_dim, max_length, 100)"
      ],
      "execution_count": 74,
      "outputs": [
        {
          "output_type": "stream",
          "text": [
            "Model: \"sequential_1\"\n",
            "_________________________________________________________________\n",
            "Layer (type)                 Output Shape              Param #   \n",
            "=================================================================\n",
            "embedding_2 (Embedding)      (None, 120, 32)           96032     \n",
            "_________________________________________________________________\n",
            "dropout_3 (Dropout)          (None, 120, 32)           0         \n",
            "_________________________________________________________________\n",
            "lstm_3 (LSTM)                (None, 16)                3136      \n",
            "_________________________________________________________________\n",
            "dropout_4 (Dropout)          (None, 16)                0         \n",
            "_________________________________________________________________\n",
            "dense_4 (Dense)              (None, 1)                 17        \n",
            "=================================================================\n",
            "Total params: 99,185\n",
            "Trainable params: 99,185\n",
            "Non-trainable params: 0\n",
            "_________________________________________________________________\n",
            "Epoch 1/100\n",
            "59/59 - 3s - loss: 0.2880 - binary_accuracy: 0.9281 - val_loss: 0.1947 - val_binary_accuracy: 0.9524\n",
            "Epoch 2/100\n",
            "59/59 - 0s - loss: 0.2666 - binary_accuracy: 0.9281 - val_loss: 0.1984 - val_binary_accuracy: 0.9524\n",
            "Epoch 3/100\n",
            "59/59 - 0s - loss: 0.2670 - binary_accuracy: 0.9281 - val_loss: 0.1904 - val_binary_accuracy: 0.9524\n",
            "Epoch 4/100\n",
            "59/59 - 0s - loss: 0.2572 - binary_accuracy: 0.9281 - val_loss: 0.1895 - val_binary_accuracy: 0.9524\n",
            "Epoch 5/100\n",
            "59/59 - 0s - loss: 0.2478 - binary_accuracy: 0.9324 - val_loss: 0.1945 - val_binary_accuracy: 0.9524\n",
            "Epoch 6/100\n",
            "59/59 - 0s - loss: 0.2408 - binary_accuracy: 0.9350 - val_loss: 0.2013 - val_binary_accuracy: 0.9524\n",
            "Epoch 7/100\n",
            "59/59 - 0s - loss: 0.2349 - binary_accuracy: 0.9350 - val_loss: 0.1958 - val_binary_accuracy: 0.9524\n",
            "Epoch 8/100\n",
            "59/59 - 0s - loss: 0.2538 - binary_accuracy: 0.9334 - val_loss: 0.1895 - val_binary_accuracy: 0.9524\n",
            "Epoch 9/100\n",
            "59/59 - 0s - loss: 0.2425 - binary_accuracy: 0.9340 - val_loss: 0.1886 - val_binary_accuracy: 0.9524\n",
            "Epoch 10/100\n",
            "59/59 - 0s - loss: 0.2416 - binary_accuracy: 0.9350 - val_loss: 0.1975 - val_binary_accuracy: 0.9524\n",
            "Epoch 11/100\n",
            "59/59 - 0s - loss: 0.2390 - binary_accuracy: 0.9345 - val_loss: 0.1928 - val_binary_accuracy: 0.9524\n",
            "Epoch 12/100\n",
            "59/59 - 0s - loss: 0.2395 - binary_accuracy: 0.9350 - val_loss: 0.1930 - val_binary_accuracy: 0.9524\n",
            "Epoch 13/100\n",
            "59/59 - 0s - loss: 0.2409 - binary_accuracy: 0.9350 - val_loss: 0.1919 - val_binary_accuracy: 0.9524\n",
            "Epoch 14/100\n",
            "59/59 - 0s - loss: 0.2377 - binary_accuracy: 0.9350 - val_loss: 0.1956 - val_binary_accuracy: 0.9524\n",
            "Epoch 15/100\n",
            "59/59 - 0s - loss: 0.2304 - binary_accuracy: 0.9350 - val_loss: 0.1707 - val_binary_accuracy: 0.9524\n",
            "Epoch 16/100\n",
            "59/59 - 0s - loss: 0.1852 - binary_accuracy: 0.9340 - val_loss: 0.1795 - val_binary_accuracy: 0.9524\n",
            "Epoch 17/100\n",
            "59/59 - 0s - loss: 0.1459 - binary_accuracy: 0.9462 - val_loss: 0.1800 - val_binary_accuracy: 0.9429\n",
            "Epoch 18/100\n",
            "59/59 - 0s - loss: 0.1240 - binary_accuracy: 0.9627 - val_loss: 0.1673 - val_binary_accuracy: 0.9524\n",
            "Epoch 19/100\n",
            "59/59 - 0s - loss: 0.0890 - binary_accuracy: 0.9755 - val_loss: 0.1808 - val_binary_accuracy: 0.9429\n",
            "Epoch 20/100\n",
            "59/59 - 0s - loss: 0.0797 - binary_accuracy: 0.9750 - val_loss: 0.1926 - val_binary_accuracy: 0.9429\n",
            "Epoch 21/100\n",
            "59/59 - 0s - loss: 0.0648 - binary_accuracy: 0.9846 - val_loss: 0.1931 - val_binary_accuracy: 0.9524\n",
            "Epoch 22/100\n",
            "59/59 - 0s - loss: 0.0666 - binary_accuracy: 0.9867 - val_loss: 0.1473 - val_binary_accuracy: 0.9714\n",
            "Epoch 23/100\n",
            "59/59 - 0s - loss: 0.0411 - binary_accuracy: 0.9915 - val_loss: 0.2164 - val_binary_accuracy: 0.9524\n",
            "Epoch 24/100\n",
            "59/59 - 0s - loss: 0.0408 - binary_accuracy: 0.9920 - val_loss: 0.2235 - val_binary_accuracy: 0.9524\n",
            "Epoch 25/100\n",
            "59/59 - 0s - loss: 0.0436 - binary_accuracy: 0.9925 - val_loss: 0.2482 - val_binary_accuracy: 0.9429\n",
            "Epoch 26/100\n",
            "59/59 - 0s - loss: 0.0393 - binary_accuracy: 0.9936 - val_loss: 0.2668 - val_binary_accuracy: 0.9429\n",
            "Epoch 27/100\n",
            "59/59 - 0s - loss: 0.0379 - binary_accuracy: 0.9931 - val_loss: 0.2629 - val_binary_accuracy: 0.9429\n",
            "Epoch 28/100\n",
            "59/59 - 0s - loss: 0.0358 - binary_accuracy: 0.9941 - val_loss: 0.2849 - val_binary_accuracy: 0.9429\n",
            "Epoch 29/100\n",
            "59/59 - 0s - loss: 0.0367 - binary_accuracy: 0.9941 - val_loss: 0.2389 - val_binary_accuracy: 0.9524\n",
            "Epoch 30/100\n",
            "59/59 - 0s - loss: 0.0349 - binary_accuracy: 0.9952 - val_loss: 0.2234 - val_binary_accuracy: 0.9524\n",
            "Epoch 31/100\n",
            "59/59 - 0s - loss: 0.0350 - binary_accuracy: 0.9952 - val_loss: 0.1981 - val_binary_accuracy: 0.9619\n",
            "Epoch 32/100\n",
            "59/59 - 0s - loss: 0.0379 - binary_accuracy: 0.9941 - val_loss: 0.1625 - val_binary_accuracy: 0.9714\n",
            "Epoch 33/100\n",
            "59/59 - 0s - loss: 0.0370 - binary_accuracy: 0.9925 - val_loss: 0.2582 - val_binary_accuracy: 0.9524\n",
            "Epoch 34/100\n",
            "59/59 - 0s - loss: 0.0348 - binary_accuracy: 0.9931 - val_loss: 0.2625 - val_binary_accuracy: 0.9429\n",
            "Epoch 35/100\n",
            "59/59 - 0s - loss: 0.0351 - binary_accuracy: 0.9936 - val_loss: 0.2258 - val_binary_accuracy: 0.9619\n",
            "Epoch 36/100\n",
            "59/59 - 0s - loss: 0.0328 - binary_accuracy: 0.9952 - val_loss: 0.2319 - val_binary_accuracy: 0.9524\n",
            "Epoch 37/100\n",
            "59/59 - 0s - loss: 0.0345 - binary_accuracy: 0.9941 - val_loss: 0.2407 - val_binary_accuracy: 0.9524\n",
            "Epoch 38/100\n",
            "59/59 - 0s - loss: 0.0358 - binary_accuracy: 0.9936 - val_loss: 0.2523 - val_binary_accuracy: 0.9429\n",
            "Epoch 39/100\n",
            "59/59 - 0s - loss: 0.0348 - binary_accuracy: 0.9941 - val_loss: 0.2292 - val_binary_accuracy: 0.9429\n",
            "Epoch 40/100\n",
            "59/59 - 0s - loss: 0.0320 - binary_accuracy: 0.9952 - val_loss: 0.2544 - val_binary_accuracy: 0.9429\n",
            "Epoch 41/100\n",
            "59/59 - 0s - loss: 0.0310 - binary_accuracy: 0.9952 - val_loss: 0.2756 - val_binary_accuracy: 0.9429\n",
            "Epoch 42/100\n",
            "59/59 - 0s - loss: 0.0294 - binary_accuracy: 0.9957 - val_loss: 0.2747 - val_binary_accuracy: 0.9429\n",
            "Epoch 43/100\n",
            "59/59 - 0s - loss: 0.0258 - binary_accuracy: 0.9957 - val_loss: 0.2764 - val_binary_accuracy: 0.9429\n",
            "Epoch 44/100\n",
            "59/59 - 0s - loss: 0.0231 - binary_accuracy: 0.9968 - val_loss: 0.2826 - val_binary_accuracy: 0.9429\n",
            "Epoch 45/100\n",
            "59/59 - 0s - loss: 0.0223 - binary_accuracy: 0.9968 - val_loss: 0.2956 - val_binary_accuracy: 0.9429\n",
            "Epoch 46/100\n",
            "59/59 - 0s - loss: 0.0252 - binary_accuracy: 0.9963 - val_loss: 0.2892 - val_binary_accuracy: 0.9429\n",
            "Epoch 47/100\n",
            "59/59 - 0s - loss: 0.0249 - binary_accuracy: 0.9957 - val_loss: 0.2926 - val_binary_accuracy: 0.9429\n",
            "Epoch 48/100\n",
            "59/59 - 0s - loss: 0.0243 - binary_accuracy: 0.9968 - val_loss: 0.3088 - val_binary_accuracy: 0.9429\n",
            "Epoch 49/100\n",
            "59/59 - 0s - loss: 0.0233 - binary_accuracy: 0.9968 - val_loss: 0.3011 - val_binary_accuracy: 0.9429\n",
            "Epoch 50/100\n",
            "59/59 - 0s - loss: 0.0212 - binary_accuracy: 0.9968 - val_loss: 0.3106 - val_binary_accuracy: 0.9429\n",
            "Epoch 51/100\n",
            "59/59 - 0s - loss: 0.0225 - binary_accuracy: 0.9968 - val_loss: 0.3025 - val_binary_accuracy: 0.9429\n",
            "Epoch 52/100\n",
            "59/59 - 0s - loss: 0.0236 - binary_accuracy: 0.9968 - val_loss: 0.2931 - val_binary_accuracy: 0.9429\n",
            "Epoch 53/100\n",
            "59/59 - 0s - loss: 0.0224 - binary_accuracy: 0.9968 - val_loss: 0.2872 - val_binary_accuracy: 0.9429\n",
            "Epoch 54/100\n",
            "59/59 - 0s - loss: 0.0218 - binary_accuracy: 0.9968 - val_loss: 0.2714 - val_binary_accuracy: 0.9429\n",
            "Epoch 55/100\n",
            "59/59 - 0s - loss: 0.0196 - binary_accuracy: 0.9973 - val_loss: 0.3065 - val_binary_accuracy: 0.9429\n",
            "Epoch 56/100\n",
            "59/59 - 0s - loss: 0.0219 - binary_accuracy: 0.9973 - val_loss: 0.2841 - val_binary_accuracy: 0.9429\n",
            "Epoch 57/100\n",
            "59/59 - 0s - loss: 0.0189 - binary_accuracy: 0.9973 - val_loss: 0.3061 - val_binary_accuracy: 0.9429\n",
            "Epoch 58/100\n",
            "59/59 - 0s - loss: 0.0219 - binary_accuracy: 0.9973 - val_loss: 0.3040 - val_binary_accuracy: 0.9429\n",
            "Epoch 59/100\n",
            "59/59 - 0s - loss: 0.0264 - binary_accuracy: 0.9957 - val_loss: 0.2695 - val_binary_accuracy: 0.9524\n",
            "Epoch 60/100\n",
            "59/59 - 0s - loss: 0.0358 - binary_accuracy: 0.9936 - val_loss: 0.2785 - val_binary_accuracy: 0.9524\n",
            "Epoch 61/100\n",
            "59/59 - 0s - loss: 0.0306 - binary_accuracy: 0.9931 - val_loss: 0.3318 - val_binary_accuracy: 0.9429\n",
            "Epoch 62/100\n",
            "59/59 - 0s - loss: 0.0297 - binary_accuracy: 0.9947 - val_loss: 0.3126 - val_binary_accuracy: 0.9333\n",
            "Epoch 63/100\n",
            "59/59 - 0s - loss: 0.0248 - binary_accuracy: 0.9963 - val_loss: 0.3372 - val_binary_accuracy: 0.9333\n",
            "Epoch 64/100\n",
            "59/59 - 0s - loss: 0.0265 - binary_accuracy: 0.9957 - val_loss: 0.3762 - val_binary_accuracy: 0.9333\n",
            "Epoch 65/100\n",
            "59/59 - 0s - loss: 0.0255 - binary_accuracy: 0.9963 - val_loss: 0.3919 - val_binary_accuracy: 0.9333\n",
            "Epoch 66/100\n",
            "59/59 - 0s - loss: 0.0201 - binary_accuracy: 0.9973 - val_loss: 0.3961 - val_binary_accuracy: 0.9333\n",
            "Epoch 67/100\n",
            "59/59 - 0s - loss: 0.0254 - binary_accuracy: 0.9963 - val_loss: 0.2317 - val_binary_accuracy: 0.9619\n",
            "Epoch 68/100\n",
            "59/59 - 0s - loss: 0.0380 - binary_accuracy: 0.9915 - val_loss: 0.2832 - val_binary_accuracy: 0.9429\n",
            "Epoch 69/100\n",
            "59/59 - 0s - loss: 0.0286 - binary_accuracy: 0.9947 - val_loss: 0.2582 - val_binary_accuracy: 0.9333\n",
            "Epoch 70/100\n",
            "59/59 - 0s - loss: 0.0274 - binary_accuracy: 0.9947 - val_loss: 0.2046 - val_binary_accuracy: 0.9619\n",
            "Epoch 71/100\n",
            "59/59 - 0s - loss: 0.0222 - binary_accuracy: 0.9963 - val_loss: 0.2298 - val_binary_accuracy: 0.9333\n",
            "Epoch 72/100\n",
            "59/59 - 0s - loss: 0.0154 - binary_accuracy: 0.9963 - val_loss: 0.2636 - val_binary_accuracy: 0.9333\n",
            "Epoch 73/100\n",
            "59/59 - 0s - loss: 0.0342 - binary_accuracy: 0.9925 - val_loss: 0.1944 - val_binary_accuracy: 0.9714\n",
            "Epoch 74/100\n",
            "59/59 - 0s - loss: 0.0326 - binary_accuracy: 0.9925 - val_loss: 0.1816 - val_binary_accuracy: 0.9714\n",
            "Epoch 75/100\n",
            "59/59 - 0s - loss: 0.0174 - binary_accuracy: 0.9952 - val_loss: 0.2548 - val_binary_accuracy: 0.9429\n",
            "Epoch 76/100\n",
            "59/59 - 0s - loss: 0.0127 - binary_accuracy: 0.9973 - val_loss: 0.2594 - val_binary_accuracy: 0.9524\n",
            "Epoch 77/100\n",
            "59/59 - 0s - loss: 0.0115 - binary_accuracy: 0.9973 - val_loss: 0.3408 - val_binary_accuracy: 0.9333\n",
            "Epoch 78/100\n",
            "59/59 - 0s - loss: 0.0074 - binary_accuracy: 0.9984 - val_loss: 0.2390 - val_binary_accuracy: 0.9714\n",
            "Epoch 79/100\n",
            "59/59 - 0s - loss: 0.0075 - binary_accuracy: 0.9979 - val_loss: 0.2764 - val_binary_accuracy: 0.9524\n",
            "Epoch 80/100\n",
            "59/59 - 0s - loss: 0.0087 - binary_accuracy: 0.9968 - val_loss: 0.2942 - val_binary_accuracy: 0.9429\n",
            "Epoch 81/100\n",
            "59/59 - 0s - loss: 0.0056 - binary_accuracy: 0.9989 - val_loss: 0.2490 - val_binary_accuracy: 0.9619\n",
            "Epoch 82/100\n",
            "59/59 - 0s - loss: 0.0071 - binary_accuracy: 0.9979 - val_loss: 0.2608 - val_binary_accuracy: 0.9619\n",
            "Epoch 83/100\n",
            "59/59 - 0s - loss: 0.0039 - binary_accuracy: 0.9995 - val_loss: 0.2547 - val_binary_accuracy: 0.9619\n",
            "Epoch 84/100\n",
            "59/59 - 0s - loss: 0.0039 - binary_accuracy: 0.9989 - val_loss: 0.3559 - val_binary_accuracy: 0.9429\n",
            "Epoch 85/100\n",
            "59/59 - 0s - loss: 0.0064 - binary_accuracy: 0.9989 - val_loss: 0.3762 - val_binary_accuracy: 0.9429\n",
            "Epoch 86/100\n",
            "59/59 - 0s - loss: 0.0080 - binary_accuracy: 0.9984 - val_loss: 0.3749 - val_binary_accuracy: 0.9429\n",
            "Epoch 87/100\n",
            "59/59 - 0s - loss: 0.0041 - binary_accuracy: 0.9995 - val_loss: 0.3563 - val_binary_accuracy: 0.9429\n",
            "Epoch 88/100\n",
            "59/59 - 0s - loss: 0.0035 - binary_accuracy: 0.9995 - val_loss: 0.3042 - val_binary_accuracy: 0.9524\n",
            "Epoch 89/100\n",
            "59/59 - 0s - loss: 0.0035 - binary_accuracy: 0.9989 - val_loss: 0.2922 - val_binary_accuracy: 0.9524\n",
            "Epoch 90/100\n",
            "59/59 - 0s - loss: 0.0035 - binary_accuracy: 0.9995 - val_loss: 0.3007 - val_binary_accuracy: 0.9524\n",
            "Epoch 91/100\n",
            "59/59 - 0s - loss: 0.0029 - binary_accuracy: 0.9995 - val_loss: 0.3047 - val_binary_accuracy: 0.9524\n",
            "Epoch 92/100\n",
            "59/59 - 0s - loss: 0.0021 - binary_accuracy: 0.9995 - val_loss: 0.3121 - val_binary_accuracy: 0.9524\n",
            "Epoch 93/100\n",
            "59/59 - 0s - loss: 0.0037 - binary_accuracy: 0.9989 - val_loss: 0.3218 - val_binary_accuracy: 0.9524\n",
            "Epoch 94/100\n",
            "59/59 - 0s - loss: 0.0027 - binary_accuracy: 0.9995 - val_loss: 0.4482 - val_binary_accuracy: 0.9429\n",
            "Epoch 95/100\n",
            "59/59 - 0s - loss: 0.0051 - binary_accuracy: 0.9989 - val_loss: 0.3833 - val_binary_accuracy: 0.9524\n",
            "Epoch 96/100\n",
            "59/59 - 0s - loss: 0.0044 - binary_accuracy: 0.9989 - val_loss: 0.3038 - val_binary_accuracy: 0.9619\n",
            "Epoch 97/100\n",
            "59/59 - 0s - loss: 0.0024 - binary_accuracy: 0.9995 - val_loss: 0.3125 - val_binary_accuracy: 0.9619\n",
            "Epoch 98/100\n",
            "59/59 - 0s - loss: 0.0027 - binary_accuracy: 0.9995 - val_loss: 0.3072 - val_binary_accuracy: 0.9619\n",
            "Epoch 99/100\n",
            "59/59 - 0s - loss: 0.0018 - binary_accuracy: 0.9995 - val_loss: 0.3102 - val_binary_accuracy: 0.9619\n",
            "Epoch 100/100\n",
            "59/59 - 0s - loss: 0.0057 - binary_accuracy: 0.9989 - val_loss: 0.4587 - val_binary_accuracy: 0.9238\n"
          ],
          "name": "stdout"
        },
        {
          "output_type": "display_data",
          "data": {
            "image/png": "[encoded data removed]",
            "text/plain": [
              "<Figure size 432x288 with 1 Axes>"
            ]
          },
          "metadata": {
            "tags": [],
            "image/png": {
              "width": 372,
              "height": 248
            },
            "needs_background": "light"
          }
        },
        {
          "output_type": "display_data",
          "data": {
            "image/png": "[encoded data removed]",
            "text/plain": [
              "<Figure size 432x288 with 1 Axes>"
            ]
          },
          "metadata": {
            "tags": [],
            "image/png": {
              "width": 378,
              "height": 248
            },
            "needs_background": "light"
          }
        }
      ]
    },
    {
      "cell_type": "markdown",
      "metadata": {
        "id": "kVX3KSFClDpR"
      },
      "source": [
        "### Predict Model"
      ]
    },
    {
      "cell_type": "code",
      "metadata": {
        "id": "w-qcn_d9tnPU"
      },
      "source": [
        "def predictModel(model, xTest, yTest):\n",
        "\n",
        "  predictions = model.predict(xTest)\n",
        "  print(predictions.size)\n",
        "  print(yTest.size)\n",
        "\n",
        "  class_labels = np.argmax(predictions, axis=1)\n",
        "  print(\"Class Labels:\\n\")\n",
        "  print(class_labels)\n",
        "  test_labels = np.argmax(yTest, axis=1)\n",
        "  print(\"Test Labels:\\n\")\n",
        "  print(test_labels)\n",
        "  #class_labels_reshaped = class_labels.reshape(yTest.shape[0],yTest.shape[1])\n",
        "  class_labels_diff = class_labels - test_labels\n",
        "  print(\"Class Labels Diff:\\n\")\n",
        "  print(class_labels_diff)\n",
        "  #label = [\"class1\", \"class2\", \"class3\", \"class4\", \"class5\", \"class6\"]\n",
        "  \n",
        "  print(len(xTest))\n",
        "  print(test_labels.shape)\n",
        "  print(class_labels.shape)\n",
        "\n",
        "  #plt.scatter(xTest, class_labels)\n",
        "  #plt.scatter(xTest, test_labels)\n",
        "\n",
        "  #plt.title('Test Set Predictions')\n",
        "  #plt.ylabel('class')\n",
        "\n",
        "  #plt.legend(loc=\"upper left\")\n",
        "  #plt.legend(['prediction', 'real test result'], loc='upper right')\n",
        "  #plt.show()\n",
        "\n",
        "  return predictions"
      ],
      "execution_count": 75,
      "outputs": []
    },
    {
      "cell_type": "code",
      "metadata": {
        "id": "ROBNwrEP49-U",
        "colab": {
          "base_uri": "https://localhost:8080/"
        },
        "outputId": "9c29c838-694e-475d-a679-1a98711c0fce"
      },
      "source": [
        "predictionsOwnModel = predictModel(ownModel, xTestArray3, yTestArray3)"
      ],
      "execution_count": 76,
      "outputs": [
        {
          "output_type": "stream",
          "text": [
            "104\n",
            "208\n",
            "Class Labels:\n",
            "\n",
            "[0 0 0 0 0 0 0 0 0 0 0 0 0 0 0 0 0 0 0 0 0 0 0 0 0 0 0 0 0 0 0 0 0 0 0 0 0\n",
            " 0 0 0 0 0 0 0 0 0 0 0 0 0 0 0 0 0 0 0 0 0 0 0 0 0 0 0 0 0 0 0 0 0 0 0 0 0\n",
            " 0 0 0 0 0 0 0 0 0 0 0 0 0 0 0 0 0 0 0 0 0 0 0 0 0 0 0 0 0 0]\n",
            "Test Labels:\n",
            "\n",
            "[1 1 1 1 1 1 1 1 1 1 1 1 1 1 1 1 1 1 1 1 1 1 1 1 1 1 1 1 1 1 1 1 1 1 1 1 1\n",
            " 1 1 1 1 1 1 1 1 1 1 1 1 1 1 1 1 0 1 0 1 0 1 1 1 1 1 1 1 0 1 1 1 1 1 1 1 1\n",
            " 1 1 1 1 1 1 1 1 1 1 1 1 1 1 1 1 1 1 0 1 1 1 1 1 1 0 1 1 1 1]\n",
            "Class Labels Diff:\n",
            "\n",
            "[-1 -1 -1 -1 -1 -1 -1 -1 -1 -1 -1 -1 -1 -1 -1 -1 -1 -1 -1 -1 -1 -1 -1 -1\n",
            " -1 -1 -1 -1 -1 -1 -1 -1 -1 -1 -1 -1 -1 -1 -1 -1 -1 -1 -1 -1 -1 -1 -1 -1\n",
            " -1 -1 -1 -1 -1  0 -1  0 -1  0 -1 -1 -1 -1 -1 -1 -1  0 -1 -1 -1 -1 -1 -1\n",
            " -1 -1 -1 -1 -1 -1 -1 -1 -1 -1 -1 -1 -1 -1 -1 -1 -1 -1 -1 -1  0 -1 -1 -1\n",
            " -1 -1 -1  0 -1 -1 -1 -1]\n",
            "104\n",
            "(104,)\n",
            "(104,)\n"
          ],
          "name": "stdout"
        }
      ]
    },
    {
      "cell_type": "markdown",
      "metadata": {
        "id": "UHDSzirMs8dC"
      },
      "source": [
        "## Bert Model German with simpletransformers"
      ]
    },
    {
      "cell_type": "markdown",
      "metadata": {
        "id": "UUHso55MGj6K"
      },
      "source": [
        "First we need to install the simpletransformers."
      ]
    },
    {
      "cell_type": "code",
      "metadata": {
        "id": "uxXazU9Fzxt-"
      },
      "source": [
        "# install simpletransformers\n",
        "!pip install simpletransformers\n",
        "\n",
        "# check installed version\n",
        "!pip freeze | grep simpletransformers\n",
        "# simpletransformers==0.28.2"
      ],
      "execution_count": null,
      "outputs": []
    },
    {
      "cell_type": "markdown",
      "metadata": {
        "id": "PA3RRiC4GpK9"
      },
      "source": [
        "Class 0 refers to impolite mails and class 1 to polite ones, so we renamed them. Making a new dataframe called df is not necessary, just to shorten the names."
      ]
    },
    {
      "cell_type": "code",
      "metadata": {
        "id": "fABPYNx_0Db4"
      },
      "source": [
        "import pandas as pd\n",
        "\n",
        "class_list = ['Impolite','Polite']\n",
        "\n",
        "df =azubi_df_mails_and_scored_combined #df[['tweet','pred_class']]\n",
        "\n",
        "print(df.shape)\n",
        "df.head()"
      ],
      "execution_count": null,
      "outputs": []
    },
    {
      "cell_type": "markdown",
      "metadata": {
        "id": "wZJCxjAQG93F"
      },
      "source": [
        "With the simpletransformers we use a Classification model. In the training arguments some settings of the model can be handed over, e.g. the training_epochs. Afterwards the classification model is created with bert. Furthermore the training arguments are passed."
      ]
    },
    {
      "cell_type": "code",
      "metadata": {
        "id": "jguhRrS70ATj",
        "colab": {
          "base_uri": "https://localhost:8080/",
          "height": 304,
          "referenced_widgets": [
            "2813be2e3dc9451eb29043040f50f1c4",
            "0027360668684a119f4b3dc7493abea3",
            "6e03157d7bfb44859f92bf33276efd46",
            "7a8da2afad40423e9b9bc4e55da03a0d",
            "0202d9472ac54f908c6f42d99651740c",
            "8e33e3763d0642469bc8f8e7627338d0",
            "60af2872227e434fa3b5c12d82b0f101",
            "1f298fa74e92427aa2756f5bf6de423d",
            "115982fcf777473592b024bd3fd4c7be",
            "89bb363025124ebcb95a8a6ac2df3a60",
            "cc1ae1c4adf94098a45d95ecb58cb29d",
            "e83a457d100444d9acf44f91f562a16e",
            "74d6b8cd0a524d16bf844cb1928a2459",
            "daca99160ab842318d72db7ec73eafdb",
            "a01a92d7ade14065beec67a1b36b73c7",
            "49d5a1c49b5a4d3793a1a4225b0dabbf",
            "4a28f73ee4ec4229ab00c6bebad5c9c5",
            "fb8c7a88135645a3bea2f5fdae45f33d",
            "afe0f9fdb4174bcb8fc79e1cde097ee0",
            "5464e189c33d42c8b8efd2ad85412f35",
            "5cbaf180f2514fe2bd1ba3756f5d32b8",
            "26f7db0307e740c7b6d29bfca9587a52",
            "5038c34b7f0c4c97bb781cd390b7172d",
            "bd26ea144c4a44e4872de465092adc8b",
            "2d959e15f3094838a2669ecedfec5324",
            "5ef4d458a3e24fc981790f809437364e",
            "710e18a0860242e997560723f5104b12",
            "5f09ed4d4a5b4451bedf08c3ab15cdc8",
            "77b3f55f723a4c39843a590f86ff9ac4",
            "1e10822391704febb8d218506bc4ba63",
            "cb368f4131bd43729d0ed7a0ee6dfc0c",
            "53ff00fcefe44d458db9f19077d48cd0",
            "753213054428462190664433c0f2d6f7",
            "be9918b6a563498b95d574831e94b747",
            "1fd270b2208045a4a5f87d02eb66d547",
            "fba28382fabf449aae1abaa5d9a537d9",
            "6281e539cee04343ad0cf4146d38315b",
            "9f2f39ba52d2415b93e1afe95bddec88",
            "df1da943678a459ead7454a2c6c9b978",
            "1d8358f706e04cfca9165eef0d3aeae5",
            "046a86cf07104db9ad66b5e770920644",
            "28401320131e4de6b2277f3ead72000f",
            "87bfa0729b71466d99f4355344b4c489",
            "e00148334f51452ebba6eb841085588f",
            "2a963bf677944039aa75419909fb0758",
            "6178e82b0c0643be86d8148e3ed0b684",
            "48a3f6c9084e4ae98e0ca227558a19d4",
            "0608110d0efb4851ba0cb273f32424bc",
            "51e24e21ac3642149d76a4607f7e35d1",
            "cee4bd1b857d4150be71e7d590e81015",
            "566a05cbf2d545368bea8166d4043330",
            "f8e0f054874a4f5d8cce625bc40f1f6b",
            "826480cb20dc40ad92bb29d117802a9f",
            "435bdbfd227b46759c79e8722064c6c7",
            "cf5c2409530f4ca391d8d26295018fe3"
          ]
        },
        "outputId": "e03908f7-51ea-4dd0-877c-145f6eafa4dc"
      },
      "source": [
        "from simpletransformers.classification import ClassificationModel\n",
        "\n",
        "# define hyperparameter\n",
        "train_args ={\"reprocess_input_data\": True,\n",
        "             \"overwrite_output_dir\": True,\n",
        "             \"fp16\":False,\n",
        "             \"num_train_epochs\": 10}\n",
        "\n",
        "# Create a ClassificationModel\n",
        "model = ClassificationModel(\n",
        "    \"bert\", \"distilbert-base-german-cased\",\n",
        "    #num_labels=1,\n",
        "    args=train_args\n",
        ")\n"
      ],
      "execution_count": 79,
      "outputs": [
        {
          "output_type": "display_data",
          "data": {
            "application/vnd.jupyter.widget-view+json": {
              "model_id": "2813be2e3dc9451eb29043040f50f1c4",
              "version_minor": 0,
              "version_major": 2
            },
            "text/plain": [
              "Downloading:   0%|          | 0.00/464 [00:00<?, ?B/s]"
            ]
          },
          "metadata": {
            "tags": []
          }
        },
        {
          "output_type": "stream",
          "text": [
            "You are using a model of type distilbert to instantiate a model of type bert. This is not supported for all configurations of models and can yield errors.\n"
          ],
          "name": "stderr"
        },
        {
          "output_type": "display_data",
          "data": {
            "application/vnd.jupyter.widget-view+json": {
              "model_id": "e83a457d100444d9acf44f91f562a16e",
              "version_minor": 0,
              "version_major": 2
            },
            "text/plain": [
              "Downloading:   0%|          | 0.00/270M [00:00<?, ?B/s]"
            ]
          },
          "metadata": {
            "tags": []
          }
        },
        {
          "output_type": "stream",
          "text": [
            "Some weights of the model checkpoint at distilbert-base-german-cased were not used when initializing BertForSequenceClassification: ['distilbert.transformer.layer.3.attention.q_lin.weight', 'distilbert.transformer.layer.4.sa_layer_norm.weight', 'distilbert.transformer.layer.3.output_layer_norm.weight', 'distilbert.transformer.layer.0.attention.q_lin.weight', 'distilbert.transformer.layer.3.output_layer_norm.bias', 'distilbert.transformer.layer.1.attention.q_lin.weight', 'distilbert.transformer.layer.2.output_layer_norm.weight', 'distilbert.transformer.layer.3.attention.k_lin.bias', 'distilbert.transformer.layer.1.sa_layer_norm.bias', 'distilbert.transformer.layer.4.attention.v_lin.bias', 'distilbert.transformer.layer.2.attention.v_lin.weight', 'vocab_projector.weight', 'distilbert.transformer.layer.5.attention.k_lin.weight', 'distilbert.transformer.layer.4.ffn.lin1.weight', 'distilbert.transformer.layer.4.attention.k_lin.bias', 'distilbert.transformer.layer.1.attention.k_lin.bias', 'distilbert.transformer.layer.5.attention.out_lin.bias', 'distilbert.transformer.layer.1.attention.out_lin.weight', 'distilbert.transformer.layer.1.sa_layer_norm.weight', 'distilbert.transformer.layer.2.sa_layer_norm.weight', 'distilbert.transformer.layer.5.ffn.lin1.weight', 'distilbert.embeddings.position_embeddings.weight', 'distilbert.transformer.layer.4.attention.v_lin.weight', 'vocab_layer_norm.weight', 'distilbert.transformer.layer.2.attention.v_lin.bias', 'vocab_layer_norm.bias', 'distilbert.transformer.layer.0.attention.out_lin.weight', 'distilbert.transformer.layer.2.attention.q_lin.weight', 'distilbert.embeddings.LayerNorm.weight', 'distilbert.transformer.layer.1.output_layer_norm.bias', 'distilbert.transformer.layer.5.output_layer_norm.bias', 'distilbert.transformer.layer.1.attention.v_lin.weight', 'distilbert.transformer.layer.2.sa_layer_norm.bias', 'distilbert.transformer.layer.0.attention.k_lin.weight', 'distilbert.transformer.layer.4.sa_layer_norm.bias', 'distilbert.transformer.layer.5.sa_layer_norm.weight', 'distilbert.transformer.layer.3.attention.q_lin.bias', 'distilbert.transformer.layer.3.attention.v_lin.bias', 'distilbert.transformer.layer.5.attention.v_lin.weight', 'distilbert.transformer.layer.5.ffn.lin2.bias', 'distilbert.transformer.layer.1.attention.q_lin.bias', 'distilbert.transformer.layer.5.ffn.lin2.weight', 'distilbert.transformer.layer.5.attention.q_lin.weight', 'distilbert.transformer.layer.0.output_layer_norm.weight', 'distilbert.transformer.layer.2.ffn.lin2.bias', 'distilbert.transformer.layer.4.ffn.lin1.bias', 'distilbert.transformer.layer.0.attention.v_lin.weight', 'distilbert.transformer.layer.0.ffn.lin2.weight', 'distilbert.transformer.layer.4.attention.q_lin.weight', 'distilbert.transformer.layer.0.attention.out_lin.bias', 'distilbert.transformer.layer.0.ffn.lin1.bias', 'distilbert.transformer.layer.1.attention.k_lin.weight', 'distilbert.transformer.layer.1.output_layer_norm.weight', 'distilbert.transformer.layer.4.ffn.lin2.weight', 'distilbert.transformer.layer.3.ffn.lin1.bias', 'distilbert.transformer.layer.3.attention.out_lin.bias', 'distilbert.transformer.layer.3.attention.out_lin.weight', 'distilbert.transformer.layer.0.attention.v_lin.bias', 'distilbert.transformer.layer.0.sa_layer_norm.weight', 'distilbert.transformer.layer.2.attention.k_lin.bias', 'distilbert.transformer.layer.3.attention.k_lin.weight', 'distilbert.transformer.layer.0.sa_layer_norm.bias', 'distilbert.transformer.layer.5.output_layer_norm.weight', 'distilbert.transformer.layer.4.attention.q_lin.bias', 'distilbert.transformer.layer.0.attention.k_lin.bias', 'distilbert.transformer.layer.5.attention.k_lin.bias', 'distilbert.transformer.layer.2.attention.out_lin.bias', 'distilbert.transformer.layer.2.attention.q_lin.bias', 'distilbert.transformer.layer.3.attention.v_lin.weight', 'distilbert.transformer.layer.1.attention.out_lin.bias', 'distilbert.transformer.layer.0.ffn.lin1.weight', 'distilbert.transformer.layer.4.output_layer_norm.weight', 'distilbert.transformer.layer.2.ffn.lin2.weight', 'distilbert.transformer.layer.3.sa_layer_norm.weight', 'distilbert.transformer.layer.2.attention.out_lin.weight', 'distilbert.transformer.layer.3.ffn.lin2.bias', 'distilbert.transformer.layer.3.sa_layer_norm.bias', 'distilbert.transformer.layer.5.attention.v_lin.bias', 'distilbert.transformer.layer.4.attention.out_lin.bias', 'distilbert.transformer.layer.0.ffn.lin2.bias', 'distilbert.transformer.layer.5.ffn.lin1.bias', 'distilbert.transformer.layer.2.ffn.lin1.weight', 'distilbert.transformer.layer.4.output_layer_norm.bias', 'vocab_projector.bias', 'distilbert.embeddings.word_embeddings.weight', 'distilbert.transformer.layer.0.attention.q_lin.bias', 'distilbert.transformer.layer.1.attention.v_lin.bias', 'vocab_transform.weight', 'distilbert.transformer.layer.2.output_layer_norm.bias', 'distilbert.transformer.layer.3.ffn.lin1.weight', 'distilbert.transformer.layer.1.ffn.lin2.bias', 'distilbert.transformer.layer.5.attention.out_lin.weight', 'distilbert.transformer.layer.2.attention.k_lin.weight', 'distilbert.transformer.layer.4.attention.k_lin.weight', 'distilbert.transformer.layer.0.output_layer_norm.bias', 'distilbert.transformer.layer.2.ffn.lin1.bias', 'distilbert.transformer.layer.4.attention.out_lin.weight', 'distilbert.embeddings.LayerNorm.bias', 'distilbert.transformer.layer.1.ffn.lin1.bias', 'distilbert.transformer.layer.5.attention.q_lin.bias', 'distilbert.transformer.layer.5.sa_layer_norm.bias', 'distilbert.transformer.layer.3.ffn.lin2.weight', 'distilbert.transformer.layer.1.ffn.lin1.weight', 'distilbert.transformer.layer.1.ffn.lin2.weight', 'distilbert.transformer.layer.4.ffn.lin2.bias', 'vocab_transform.bias']\n",
            "- This IS expected if you are initializing BertForSequenceClassification from the checkpoint of a model trained on another task or with another architecture (e.g. initializing a BertForSequenceClassification model from a BertForPreTraining model).\n",
            "- This IS NOT expected if you are initializing BertForSequenceClassification from the checkpoint of a model that you expect to be exactly identical (initializing a BertForSequenceClassification model from a BertForSequenceClassification model).\n",
            "Some weights of BertForSequenceClassification were not initialized from the model checkpoint at distilbert-base-german-cased and are newly initialized: ['encoder.layer.4.output.LayerNorm.bias', 'encoder.layer.4.attention.self.key.weight', 'encoder.layer.0.attention.output.dense.bias', 'encoder.layer.1.attention.output.dense.weight', 'encoder.layer.10.attention.self.key.bias', 'encoder.layer.10.attention.self.value.weight', 'encoder.layer.7.attention.output.dense.weight', 'encoder.layer.11.attention.self.key.bias', 'encoder.layer.4.output.dense.bias', 'encoder.layer.3.attention.output.dense.bias', 'classifier.bias', 'encoder.layer.3.attention.self.key.bias', 'encoder.layer.2.output.dense.bias', 'encoder.layer.2.attention.self.query.weight', 'encoder.layer.9.attention.output.dense.weight', 'encoder.layer.7.output.LayerNorm.weight', 'encoder.layer.0.output.LayerNorm.bias', 'encoder.layer.10.attention.output.LayerNorm.weight', 'encoder.layer.9.attention.self.value.bias', 'encoder.layer.1.attention.self.query.bias', 'encoder.layer.4.attention.output.dense.weight', 'encoder.layer.4.output.LayerNorm.weight', 'embeddings.LayerNorm.bias', 'encoder.layer.2.intermediate.dense.bias', 'encoder.layer.7.intermediate.dense.bias', 'encoder.layer.11.attention.self.value.bias', 'encoder.layer.11.attention.self.value.weight', 'encoder.layer.0.intermediate.dense.weight', 'encoder.layer.6.attention.output.LayerNorm.weight', 'encoder.layer.11.attention.self.query.weight', 'encoder.layer.10.attention.self.query.bias', 'classifier.weight', 'encoder.layer.6.attention.self.value.weight', 'encoder.layer.7.output.LayerNorm.bias', 'encoder.layer.9.intermediate.dense.bias', 'encoder.layer.4.attention.output.dense.bias', 'encoder.layer.9.output.LayerNorm.bias', 'encoder.layer.2.output.dense.weight', 'encoder.layer.1.attention.self.value.weight', 'encoder.layer.3.intermediate.dense.weight', 'encoder.layer.5.attention.self.value.bias', 'encoder.layer.1.attention.self.key.bias', 'encoder.layer.11.attention.output.dense.weight', 'encoder.layer.7.attention.self.query.bias', 'encoder.layer.10.intermediate.dense.weight', 'encoder.layer.10.attention.self.query.weight', 'encoder.layer.10.output.dense.bias', 'encoder.layer.3.attention.self.value.bias', 'encoder.layer.10.attention.output.dense.weight', 'encoder.layer.7.output.dense.bias', 'encoder.layer.5.output.LayerNorm.bias', 'encoder.layer.3.attention.output.LayerNorm.bias', 'encoder.layer.1.attention.output.LayerNorm.bias', 'encoder.layer.7.attention.self.value.bias', 'encoder.layer.1.intermediate.dense.bias', 'encoder.layer.3.output.dense.weight', 'encoder.layer.0.attention.self.key.bias', 'encoder.layer.5.attention.output.dense.weight', 'encoder.layer.8.attention.output.dense.bias', 'encoder.layer.9.attention.output.LayerNorm.bias', 'encoder.layer.1.output.LayerNorm.bias', 'encoder.layer.5.attention.output.dense.bias', 'encoder.layer.3.output.LayerNorm.weight', 'encoder.layer.2.attention.output.LayerNorm.weight', 'encoder.layer.2.output.LayerNorm.bias', 'encoder.layer.2.attention.output.dense.weight', 'encoder.layer.2.attention.self.query.bias', 'encoder.layer.10.attention.output.LayerNorm.bias', 'encoder.layer.3.attention.output.LayerNorm.weight', 'encoder.layer.3.attention.self.key.weight', 'encoder.layer.10.intermediate.dense.bias', 'encoder.layer.1.attention.output.LayerNorm.weight', 'encoder.layer.9.attention.self.key.bias', 'encoder.layer.3.attention.self.query.weight', 'encoder.layer.7.attention.self.key.bias', 'encoder.layer.6.output.dense.weight', 'encoder.layer.11.attention.output.LayerNorm.bias', 'encoder.layer.8.attention.self.query.weight', 'encoder.layer.8.output.LayerNorm.weight', 'encoder.layer.1.intermediate.dense.weight', 'encoder.layer.5.intermediate.dense.weight', 'encoder.layer.9.attention.output.dense.bias', 'encoder.layer.10.attention.self.value.bias', 'encoder.layer.4.attention.self.value.bias', 'encoder.layer.5.output.LayerNorm.weight', 'encoder.layer.8.attention.self.key.bias', 'encoder.layer.6.attention.output.LayerNorm.bias', 'encoder.layer.7.attention.self.key.weight', 'encoder.layer.4.attention.output.LayerNorm.weight', 'encoder.layer.4.intermediate.dense.bias', 'encoder.layer.6.attention.self.query.weight', 'encoder.layer.0.output.LayerNorm.weight', 'encoder.layer.1.output.dense.bias', 'encoder.layer.8.attention.self.query.bias', 'encoder.layer.6.attention.output.dense.weight', 'encoder.layer.3.attention.self.value.weight', 'encoder.layer.5.attention.output.LayerNorm.bias', 'encoder.layer.7.attention.self.query.weight', 'encoder.layer.7.intermediate.dense.weight', 'encoder.layer.0.attention.self.key.weight', 'encoder.layer.10.output.LayerNorm.bias', 'encoder.layer.11.attention.self.query.bias', 'encoder.layer.0.attention.output.dense.weight', 'encoder.layer.6.attention.self.query.bias', 'encoder.layer.8.attention.output.LayerNorm.weight', 'encoder.layer.9.intermediate.dense.weight', 'embeddings.LayerNorm.weight', 'encoder.layer.6.attention.self.key.bias', 'encoder.layer.8.attention.self.key.weight', 'encoder.layer.0.output.dense.bias', 'encoder.layer.9.attention.self.query.weight', 'encoder.layer.9.attention.output.LayerNorm.weight', 'encoder.layer.9.output.dense.bias', 'embeddings.position_embeddings.weight', 'encoder.layer.2.attention.self.key.weight', 'encoder.layer.6.attention.self.key.weight', 'encoder.layer.9.attention.self.value.weight', 'encoder.layer.3.output.LayerNorm.bias', 'encoder.layer.0.attention.output.LayerNorm.weight', 'encoder.layer.3.output.dense.bias', 'encoder.layer.2.attention.self.value.bias', 'encoder.layer.0.attention.self.query.weight', 'encoder.layer.5.attention.self.key.weight', 'encoder.layer.1.output.LayerNorm.weight', 'encoder.layer.4.attention.self.key.bias', 'encoder.layer.5.attention.output.LayerNorm.weight', 'encoder.layer.8.output.LayerNorm.bias', 'encoder.layer.11.attention.output.LayerNorm.weight', 'encoder.layer.0.attention.self.value.bias', 'encoder.layer.0.output.dense.weight', 'embeddings.token_type_embeddings.weight', 'encoder.layer.10.output.dense.weight', 'encoder.layer.1.attention.output.dense.bias', 'encoder.layer.5.output.dense.weight', 'pooler.dense.weight', 'encoder.layer.5.attention.self.value.weight', 'encoder.layer.7.output.dense.weight', 'encoder.layer.0.attention.self.query.bias', 'encoder.layer.3.attention.self.query.bias', 'encoder.layer.6.output.LayerNorm.weight', 'encoder.layer.11.output.LayerNorm.weight', 'encoder.layer.2.output.LayerNorm.weight', 'encoder.layer.1.attention.self.value.bias', 'encoder.layer.5.attention.self.query.bias', 'encoder.layer.11.output.dense.bias', 'encoder.layer.4.attention.output.LayerNorm.bias', 'encoder.layer.7.attention.self.value.weight', 'encoder.layer.7.attention.output.dense.bias', 'encoder.layer.9.output.LayerNorm.weight', 'embeddings.word_embeddings.weight', 'encoder.layer.6.attention.output.dense.bias', 'encoder.layer.1.output.dense.weight', 'encoder.layer.11.attention.self.key.weight', 'encoder.layer.8.intermediate.dense.weight', 'encoder.layer.0.attention.output.LayerNorm.bias', 'encoder.layer.2.attention.output.LayerNorm.bias', 'encoder.layer.5.output.dense.bias', 'encoder.layer.6.attention.self.value.bias', 'encoder.layer.4.attention.self.query.weight', 'encoder.layer.4.output.dense.weight', 'encoder.layer.9.output.dense.weight', 'encoder.layer.11.intermediate.dense.bias', 'encoder.layer.2.attention.self.value.weight', 'encoder.layer.4.attention.self.query.bias', 'encoder.layer.8.attention.self.value.weight', 'encoder.layer.0.attention.self.value.weight', 'encoder.layer.2.attention.output.dense.bias', 'encoder.layer.3.intermediate.dense.bias', 'encoder.layer.6.output.dense.bias', 'encoder.layer.5.attention.self.key.bias', 'encoder.layer.8.attention.self.value.bias', 'encoder.layer.7.attention.output.LayerNorm.weight', 'encoder.layer.9.attention.self.query.bias', 'encoder.layer.11.intermediate.dense.weight', 'encoder.layer.11.output.dense.weight', 'encoder.layer.6.output.LayerNorm.bias', 'encoder.layer.5.intermediate.dense.bias', 'encoder.layer.10.attention.self.key.weight', 'encoder.layer.8.attention.output.dense.weight', 'pooler.dense.bias', 'encoder.layer.5.attention.self.query.weight', 'encoder.layer.4.intermediate.dense.weight', 'encoder.layer.1.attention.self.key.weight', 'encoder.layer.11.attention.output.dense.bias', 'encoder.layer.11.output.LayerNorm.bias', 'encoder.layer.2.intermediate.dense.weight', 'encoder.layer.8.attention.output.LayerNorm.bias', 'encoder.layer.6.intermediate.dense.weight', 'encoder.layer.8.intermediate.dense.bias', 'encoder.layer.8.output.dense.bias', 'encoder.layer.1.attention.self.query.weight', 'encoder.layer.0.intermediate.dense.bias', 'encoder.layer.2.attention.self.key.bias', 'encoder.layer.4.attention.self.value.weight', 'encoder.layer.8.output.dense.weight', 'encoder.layer.10.output.LayerNorm.weight', 'encoder.layer.6.intermediate.dense.bias', 'encoder.layer.3.attention.output.dense.weight', 'encoder.layer.10.attention.output.dense.bias', 'encoder.layer.9.attention.self.key.weight', 'encoder.layer.7.attention.output.LayerNorm.bias']\n",
            "You should probably TRAIN this model on a down-stream task to be able to use it for predictions and inference.\n"
          ],
          "name": "stderr"
        },
        {
          "output_type": "display_data",
          "data": {
            "application/vnd.jupyter.widget-view+json": {
              "model_id": "5038c34b7f0c4c97bb781cd390b7172d",
              "version_minor": 0,
              "version_major": 2
            },
            "text/plain": [
              "Downloading:   0%|          | 0.00/240k [00:00<?, ?B/s]"
            ]
          },
          "metadata": {
            "tags": []
          }
        },
        {
          "output_type": "display_data",
          "data": {
            "application/vnd.jupyter.widget-view+json": {
              "model_id": "be9918b6a563498b95d574831e94b747",
              "version_minor": 0,
              "version_major": 2
            },
            "text/plain": [
              "Downloading:   0%|          | 0.00/479k [00:00<?, ?B/s]"
            ]
          },
          "metadata": {
            "tags": []
          }
        },
        {
          "output_type": "display_data",
          "data": {
            "application/vnd.jupyter.widget-view+json": {
              "model_id": "2a963bf677944039aa75419909fb0758",
              "version_minor": 0,
              "version_major": 2
            },
            "text/plain": [
              "Downloading:   0%|          | 0.00/29.0 [00:00<?, ?B/s]"
            ]
          },
          "metadata": {
            "tags": []
          }
        }
      ]
    },
    {
      "cell_type": "markdown",
      "metadata": {
        "id": "OghYb9Q-HXHI"
      },
      "source": [
        "The model wants a dataframe instead of a np.array, hence we make a pandas dataframe from our arrays."
      ]
    },
    {
      "cell_type": "code",
      "metadata": {
        "id": "6Y2EvDEt65nx"
      },
      "source": [
        "# Creating pandas dataframe from numpy array\n",
        "train_data = pd.DataFrame({'Mails_Combined': xTrainArray, 'a4s_combined_i2b': yTrainArray[:,1]})\n",
        "val_data = pd.DataFrame({'Mails_Combined': xValArray, 'a4s_combined_i2b': yValArray[:,1]})\n",
        "test_data = pd.DataFrame({'Mails_Combined': xTestArray, 'a4s_combined_i2b': yTestArray[:,1]})\n"
      ],
      "execution_count": 80,
      "outputs": []
    },
    {
      "cell_type": "code",
      "metadata": {
        "id": "J86qD4EA7Q1g"
      },
      "source": [
        "test_data.head()"
      ],
      "execution_count": null,
      "outputs": []
    },
    {
      "cell_type": "markdown",
      "metadata": {
        "id": "rkXsgFMIHfWh"
      },
      "source": [
        "The model is trained with our training data and evaluated with the validation set."
      ]
    },
    {
      "cell_type": "code",
      "metadata": {
        "id": "o8-R1F1U2LLu",
        "colab": {
          "base_uri": "https://localhost:8080/",
          "height": 468,
          "referenced_widgets": [
            "6d77d7d273ab4f569aff18b605fb2e79",
            "23fc3b692b974e5f891fb7ee7fc71112",
            "1f8fc82a8a0d48c8834003253d88cb3a",
            "4e447a5a4d1d4da99e08ff93093174f1",
            "efb295c95ba547fb8e754b9543cd2287",
            "c88da93fc7ce49a68e7ebe2f812a3a7a",
            "0315ff25d8e44fc4b7125e5b36db054a",
            "a91dd4740dba4a3c998b37561d3843f2",
            "73d7bee10edc411f8413e3af480b2ba5",
            "8a79b6777dbe4c2791bb481f681eade4",
            "f7b671c085e7469db662b8842dfcddd4",
            "27c4e245d0b94366b025c04d009f412c",
            "e14365d047974afba6e51f3de72c9aed",
            "40ce31584e4d4a539a354834c0121f78",
            "51a6305e6470432a90efb50ecd28aca6",
            "2c9e3bf62042454d80583e831ce49e04",
            "dad5231678e64c7489b21f47697b6ec3",
            "464fea73eddd440996a7f3443c4a5d17",
            "c24e5b207b2e452a9b61a09d43a72d7c",
            "9ed2cc1dabce4ce2a6437cd49fa8243a",
            "72b445caf4024646a4e2b89ac58e3866",
            "6469c0850a4b4bb6a5446334851be3f6",
            "46d44dea564b449d9b3a7185c55d533f",
            "56e1a4cad7be4be4a7c4d5341e93842d",
            "c3a773fd1c0545e5980143a58db45076",
            "ff247df8416a4e59bce44ce8c76f355a",
            "fe9fcec355444136a236ad976cb3338b",
            "8e9ad72618494396a67f0fde14a8472d",
            "00b7b890f8dc4103bf0f7300d98af8f0",
            "16186f1558a843b29a7d932f7b45be56",
            "c6b4848c5ec7455f8e10719935393f6a",
            "1c1c855009f344d2ae289936ac9357f0",
            "0d8843a7448e4dd28b44286b4ec06e8a"
          ]
        },
        "outputId": "4c708b41-b449-4fd5-a30b-1bbed9f048ab"
      },
      "source": [
        "# Train the model\n",
        "model.train_model(train_df=train_data, eval_df=val_data)\n"
      ],
      "execution_count": 82,
      "outputs": [
        {
          "output_type": "stream",
          "text": [
            "/usr/local/lib/python3.7/dist-packages/simpletransformers/classification/classification_model.py:610: UserWarning: Dataframe headers not specified. Falling back to using column 0 as text and column 1 as labels.\n",
            "  \"Dataframe headers not specified. Falling back to using column 0 as text and column 1 as labels.\"\n"
          ],
          "name": "stderr"
        },
        {
          "output_type": "display_data",
          "data": {
            "application/vnd.jupyter.widget-view+json": {
              "model_id": "6d77d7d273ab4f569aff18b605fb2e79",
              "version_minor": 0,
              "version_major": 2
            },
            "text/plain": [
              "  0%|          | 0/1252 [00:00<?, ?it/s]"
            ]
          },
          "metadata": {
            "tags": []
          }
        },
        {
          "output_type": "display_data",
          "data": {
            "application/vnd.jupyter.widget-view+json": {
              "model_id": "27c4e245d0b94366b025c04d009f412c",
              "version_minor": 0,
              "version_major": 2
            },
            "text/plain": [
              "Epoch:   0%|          | 0/10 [00:00<?, ?it/s]"
            ]
          },
          "metadata": {
            "tags": []
          }
        },
        {
          "output_type": "display_data",
          "data": {
            "application/vnd.jupyter.widget-view+json": {
              "model_id": "46d44dea564b449d9b3a7185c55d533f",
              "version_minor": 0,
              "version_major": 2
            },
            "text/plain": [
              "Running Epoch 0 of 10:   0%|          | 0/157 [00:00<?, ?it/s]"
            ]
          },
          "metadata": {
            "tags": []
          }
        },
        {
          "output_type": "error",
          "ename": "KeyboardInterrupt",
          "evalue": "ignored",
          "traceback": [
            "\u001b[0;31m---------------------------------------------------------------------------\u001b[0m",
            "\u001b[0;31mKeyboardInterrupt\u001b[0m                         Traceback (most recent call last)",
            "\u001b[0;32m<ipython-input-82-458e78346a2f>\u001b[0m in \u001b[0;36m<module>\u001b[0;34m()\u001b[0m\n\u001b[1;32m      1\u001b[0m \u001b[0;31m# Train the model\u001b[0m\u001b[0;34m\u001b[0m\u001b[0;34m\u001b[0m\u001b[0;34m\u001b[0m\u001b[0m\n\u001b[0;32m----> 2\u001b[0;31m \u001b[0mmodel\u001b[0m\u001b[0;34m.\u001b[0m\u001b[0mtrain_model\u001b[0m\u001b[0;34m(\u001b[0m\u001b[0mtrain_df\u001b[0m\u001b[0;34m=\u001b[0m\u001b[0mtrain_data\u001b[0m\u001b[0;34m,\u001b[0m \u001b[0meval_df\u001b[0m\u001b[0;34m=\u001b[0m\u001b[0mval_data\u001b[0m\u001b[0;34m)\u001b[0m\u001b[0;34m\u001b[0m\u001b[0;34m\u001b[0m\u001b[0m\n\u001b[0m",
            "\u001b[0;32m/usr/local/lib/python3.7/dist-packages/simpletransformers/classification/classification_model.py\u001b[0m in \u001b[0;36mtrain_model\u001b[0;34m(self, train_df, multi_label, output_dir, show_running_loss, args, eval_df, verbose, **kwargs)\u001b[0m\n\u001b[1;32m    634\u001b[0m             \u001b[0meval_df\u001b[0m\u001b[0;34m=\u001b[0m\u001b[0meval_df\u001b[0m\u001b[0;34m,\u001b[0m\u001b[0;34m\u001b[0m\u001b[0;34m\u001b[0m\u001b[0m\n\u001b[1;32m    635\u001b[0m             \u001b[0mverbose\u001b[0m\u001b[0;34m=\u001b[0m\u001b[0mverbose\u001b[0m\u001b[0;34m,\u001b[0m\u001b[0;34m\u001b[0m\u001b[0;34m\u001b[0m\u001b[0m\n\u001b[0;32m--> 636\u001b[0;31m             \u001b[0;34m**\u001b[0m\u001b[0mkwargs\u001b[0m\u001b[0;34m,\u001b[0m\u001b[0;34m\u001b[0m\u001b[0;34m\u001b[0m\u001b[0m\n\u001b[0m\u001b[1;32m    637\u001b[0m         )\n\u001b[1;32m    638\u001b[0m \u001b[0;34m\u001b[0m\u001b[0m\n",
            "\u001b[0;32m/usr/local/lib/python3.7/dist-packages/simpletransformers/classification/classification_model.py\u001b[0m in \u001b[0;36mtrain\u001b[0;34m(self, train_dataloader, output_dir, multi_label, show_running_loss, eval_df, verbose, **kwargs)\u001b[0m\n\u001b[1;32m    928\u001b[0m                     \u001b[0mloss\u001b[0m\u001b[0;34m.\u001b[0m\u001b[0mbackward\u001b[0m\u001b[0;34m(\u001b[0m\u001b[0;34m)\u001b[0m\u001b[0;34m\u001b[0m\u001b[0;34m\u001b[0m\u001b[0m\n\u001b[1;32m    929\u001b[0m \u001b[0;34m\u001b[0m\u001b[0m\n\u001b[0;32m--> 930\u001b[0;31m                 \u001b[0mtr_loss\u001b[0m \u001b[0;34m+=\u001b[0m \u001b[0mloss\u001b[0m\u001b[0;34m.\u001b[0m\u001b[0mitem\u001b[0m\u001b[0;34m(\u001b[0m\u001b[0;34m)\u001b[0m\u001b[0;34m\u001b[0m\u001b[0;34m\u001b[0m\u001b[0m\n\u001b[0m\u001b[1;32m    931\u001b[0m                 \u001b[0;32mif\u001b[0m \u001b[0;34m(\u001b[0m\u001b[0mstep\u001b[0m \u001b[0;34m+\u001b[0m \u001b[0;36m1\u001b[0m\u001b[0;34m)\u001b[0m \u001b[0;34m%\u001b[0m \u001b[0margs\u001b[0m\u001b[0;34m.\u001b[0m\u001b[0mgradient_accumulation_steps\u001b[0m \u001b[0;34m==\u001b[0m \u001b[0;36m0\u001b[0m\u001b[0;34m:\u001b[0m\u001b[0;34m\u001b[0m\u001b[0;34m\u001b[0m\u001b[0m\n\u001b[1;32m    932\u001b[0m                     \u001b[0;32mif\u001b[0m \u001b[0mself\u001b[0m\u001b[0;34m.\u001b[0m\u001b[0margs\u001b[0m\u001b[0;34m.\u001b[0m\u001b[0mfp16\u001b[0m\u001b[0;34m:\u001b[0m\u001b[0;34m\u001b[0m\u001b[0;34m\u001b[0m\u001b[0m\n",
            "\u001b[0;31mKeyboardInterrupt\u001b[0m: "
          ]
        }
      ]
    },
    {
      "cell_type": "markdown",
      "metadata": {
        "id": "0IRIDV8YHlkq"
      },
      "source": [
        "Check the metrics to see, how the model performs."
      ]
    },
    {
      "cell_type": "code",
      "metadata": {
        "id": "fjLyvDN82yW2"
      },
      "source": [
        "from sklearn.metrics import f1_score, accuracy_score\n",
        "\n",
        "\n",
        "def f1_multiclass(labels, preds):\n",
        "    return f1_score(labels, preds, average='micro')\n",
        "    \n",
        "result, model_outputs, wrong_predictions = model.eval_model(eval_df=val_data, f1=f1_score, acc=accuracy_score) #eval_df=val_data, f1=f1_score, acc=accuracy_score, verbose=2\n",
        "\n",
        "result"
      ],
      "execution_count": null,
      "outputs": []
    },
    {
      "cell_type": "code",
      "metadata": {
        "id": "px0sE1MrOPgj"
      },
      "source": [
        "model_outputs"
      ],
      "execution_count": null,
      "outputs": []
    },
    {
      "cell_type": "markdown",
      "metadata": {
        "id": "hHMAGRNnHt9G"
      },
      "source": [
        "Check the whole test set, where the model predicted impolite."
      ]
    },
    {
      "cell_type": "code",
      "metadata": {
        "id": "1dWMZJmq3Ej_"
      },
      "source": [
        "class_list = ['Impolite','Polite']"
      ],
      "execution_count": null,
      "outputs": []
    },
    {
      "cell_type": "code",
      "metadata": {
        "id": "COEI5xOUOu_d"
      },
      "source": [
        "mailsList = test_data['Mails_Combined'].to_list()"
      ],
      "execution_count": null,
      "outputs": []
    },
    {
      "cell_type": "code",
      "metadata": {
        "id": "EuL28XEyOkfa"
      },
      "source": [
        "prediction, raw_output = model.predict(to_predict=mailsList)"
      ],
      "execution_count": null,
      "outputs": []
    },
    {
      "cell_type": "code",
      "metadata": {
        "id": "SJ778XFJPF6w"
      },
      "source": [
        "prediction"
      ],
      "execution_count": null,
      "outputs": []
    },
    {
      "cell_type": "markdown",
      "metadata": {
        "id": "bLvr3oiyH2bN"
      },
      "source": [
        "All the mails that are classified as impolite by the model."
      ]
    },
    {
      "cell_type": "code",
      "metadata": {
        "id": "-CpREvBAF1cl"
      },
      "source": [
        "print(test_data['Mails_Combined'][83])\n",
        "print(test_data['a4s_combined_i2b'][83])\n",
        "\n",
        "print(test_data['Mails_Combined'][92])\n",
        "print(test_data['a4s_combined_i2b'][92])\n",
        "\n",
        "print(test_data['Mails_Combined'][129])\n",
        "print(test_data['a4s_combined_i2b'][129])\n",
        "\n",
        "print(test_data['Mails_Combined'][149])\n",
        "print(test_data['a4s_combined_i2b'][149])\n",
        "\n",
        "print(test_data['Mails_Combined'][174])\n",
        "print(test_data['a4s_combined_i2b'][174])\n",
        "\n",
        "print(test_data['Mails_Combined'][210])\n",
        "print(test_data['a4s_combined_i2b'][210])\n",
        "\n",
        "print(test_data['Mails_Combined'][264])\n",
        "print(test_data['a4s_combined_i2b'][264])\n",
        "\n",
        "print(test_data['Mails_Combined'][283])\n",
        "print(test_data['a4s_combined_i2b'][283])\n",
        "\n",
        "print(test_data['Mails_Combined'][303])\n",
        "print(test_data['a4s_combined_i2b'][303])\n",
        "\n",
        "print(test_data['Mails_Combined'][308])\n",
        "print(test_data['a4s_combined_i2b'][308])\n",
        "\n",
        "print(test_data['Mails_Combined'][329])\n",
        "print(test_data['a4s_combined_i2b'][329])\n",
        "\n",
        "print(test_data['Mails_Combined'][338])\n",
        "print(test_data['a4s_combined_i2b'][338])\n",
        "\n",
        "print(test_data['Mails_Combined'][342])\n",
        "print(test_data['a4s_combined_i2b'][342])\n",
        "\n",
        "print(test_data['Mails_Combined'][344])\n",
        "print(test_data['a4s_combined_i2b'][344])\n",
        "\n",
        "print(test_data['Mails_Combined'][357])\n",
        "print(test_data['a4s_combined_i2b'][357])\n",
        "\n",
        "print(test_data['Mails_Combined'][391])\n",
        "print(test_data['a4s_combined_i2b'][391])\n",
        "\n"
      ],
      "execution_count": null,
      "outputs": []
    },
    {
      "cell_type": "markdown",
      "metadata": {
        "id": "9NGfT4dBIDKM"
      },
      "source": [
        "Having a look into the data. For some sentences it is at the very least questionable if they are labeled correctly by the scorer. For some sentences model and human scorer have the same opinion, for others they are different and it is not always completely clear to us, why the data has been labelled Polite or Impolite by the scorer. Hence the accuracy of the model is also affected by the initial labelling.\n",
        "\n",
        "It is though not easy to find a measurable baseline for the scores, as there is a rather large grey zone for polite and impolite answers. The sentences below are an example of this. It is not fully clear, why the mail 118 is considered impolite by the scorer, while mail 391 and 416 are considered polite. There would be arguments for each mail in both directions. In this regard maybe the models can help to develop a standard that follows measurable rules and is not subject to human error."
      ]
    },
    {
      "cell_type": "code",
      "metadata": {
        "id": "As_gfXVCLzxT"
      },
      "source": [
        "test_data['Mails_Combined'][391]"
      ],
      "execution_count": null,
      "outputs": []
    },
    {
      "cell_type": "code",
      "metadata": {
        "id": "hkLLjLVmMJnc"
      },
      "source": [
        "test_data['a4s_combined_i2b'][391]"
      ],
      "execution_count": null,
      "outputs": []
    },
    {
      "cell_type": "code",
      "metadata": {
        "id": "S1Fs7e1AK3ls"
      },
      "source": [
        "test_data['Mails_Combined'][118]"
      ],
      "execution_count": null,
      "outputs": []
    },
    {
      "cell_type": "code",
      "metadata": {
        "id": "8KeOjNpCMMwP"
      },
      "source": [
        "test_data['a4s_combined_i2b'][118]"
      ],
      "execution_count": null,
      "outputs": []
    },
    {
      "cell_type": "code",
      "metadata": {
        "id": "33YIHvwbMDGQ"
      },
      "source": [
        "test_data['Mails_Combined'][416]"
      ],
      "execution_count": null,
      "outputs": []
    },
    {
      "cell_type": "code",
      "metadata": {
        "id": "8bO5SYVbMN_N"
      },
      "source": [
        "test_data['a4s_combined_i2b'][416]"
      ],
      "execution_count": null,
      "outputs": []
    }
  ]
}